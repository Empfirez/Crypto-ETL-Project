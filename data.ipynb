{
 "cells": [
  {
   "cell_type": "code",
   "execution_count": 2,
   "id": "d73b1fd6",
   "metadata": {},
   "outputs": [],
   "source": [
    "import pandas as pd\n",
    "import matplotlib.pyplot as plt\n",
    "import seaborn as sns\n",
    "import plotly.express as px\n",
    "import ast"
   ]
  },
  {
   "cell_type": "code",
   "execution_count": 3,
   "id": "0be01b96",
   "metadata": {},
   "outputs": [],
   "source": [
    "# reading csv file and storing it in a dataframe\n",
    "listings_df = pd.read_csv(\"listings_data.csv\")\n",
    "all_data_df = pd.read_csv('all_data.csv')\n",
    "hist_df = pd.read_csv('historical_data.csv')"
   ]
  },
  {
   "cell_type": "code",
   "execution_count": 4,
   "id": "d8d2f15f",
   "metadata": {},
   "outputs": [
    {
     "data": {
      "application/vnd.microsoft.datawrangler.viewer.v0+json": {
       "columns": [
        {
         "name": "index",
         "rawType": "int64",
         "type": "integer"
        },
        {
         "name": "id",
         "rawType": "int64",
         "type": "integer"
        },
        {
         "name": "name",
         "rawType": "object",
         "type": "string"
        },
        {
         "name": "symbol",
         "rawType": "object",
         "type": "string"
        },
        {
         "name": "slug",
         "rawType": "object",
         "type": "string"
        },
        {
         "name": "num_market_pairs",
         "rawType": "int64",
         "type": "integer"
        },
        {
         "name": "date_added",
         "rawType": "object",
         "type": "string"
        },
        {
         "name": "tags",
         "rawType": "object",
         "type": "string"
        },
        {
         "name": "max_supply",
         "rawType": "float64",
         "type": "float"
        },
        {
         "name": "circulating_supply",
         "rawType": "float64",
         "type": "float"
        },
        {
         "name": "total_supply",
         "rawType": "float64",
         "type": "float"
        },
        {
         "name": "infinite_supply",
         "rawType": "bool",
         "type": "boolean"
        },
        {
         "name": "platform",
         "rawType": "object",
         "type": "unknown"
        },
        {
         "name": "cmc_rank",
         "rawType": "int64",
         "type": "integer"
        },
        {
         "name": "self_reported_circulating_supply",
         "rawType": "float64",
         "type": "float"
        },
        {
         "name": "self_reported_market_cap",
         "rawType": "float64",
         "type": "float"
        },
        {
         "name": "tvl_ratio",
         "rawType": "float64",
         "type": "float"
        },
        {
         "name": "last_updated",
         "rawType": "object",
         "type": "string"
        },
        {
         "name": "price",
         "rawType": "float64",
         "type": "float"
        },
        {
         "name": "volume_24h",
         "rawType": "float64",
         "type": "float"
        },
        {
         "name": "volume_change_24h",
         "rawType": "float64",
         "type": "float"
        },
        {
         "name": "percent_change_1h",
         "rawType": "float64",
         "type": "float"
        },
        {
         "name": "percent_change_24h",
         "rawType": "float64",
         "type": "float"
        },
        {
         "name": "percent_change_7d",
         "rawType": "float64",
         "type": "float"
        },
        {
         "name": "percent_change_30d",
         "rawType": "float64",
         "type": "float"
        },
        {
         "name": "percent_change_60d",
         "rawType": "float64",
         "type": "float"
        },
        {
         "name": "percent_change_90d",
         "rawType": "float64",
         "type": "float"
        },
        {
         "name": "market_cap",
         "rawType": "float64",
         "type": "float"
        },
        {
         "name": "market_cap_dominance",
         "rawType": "float64",
         "type": "float"
        },
        {
         "name": "fully_diluted_market_cap",
         "rawType": "float64",
         "type": "float"
        },
        {
         "name": "tvl",
         "rawType": "float64",
         "type": "float"
        },
        {
         "name": "last_updated.1",
         "rawType": "object",
         "type": "string"
        }
       ],
       "ref": "b296d914-9bb7-40d8-a535-94535fe10b0a",
       "rows": [
        [
         "4995",
         "25712",
         "AiAkita",
         "AIAKITA",
         "aiakita",
         "3",
         "2023-05-22T21:50:37.000Z",
         "['arbitrum-ecosystem']",
         "3.139079021602202e+17",
         "0.0",
         "3.139079021602202e+17",
         "False",
         "{'id': 11841, 'name': 'Arbitrum', 'symbol': 'ARB', 'slug': 'arbitrum', 'token_address': '0x38c2fbdf53b451ae5c4027711d6fe5e1b2191b1c'}",
         "4996",
         "1.3907902160220224e+16",
         "1446.7517963174475",
         null,
         "2025-05-25T19:02:00.000Z",
         "1.0402372548000001e-13",
         "13732.70986281",
         "-56.399",
         "2.66765009",
         "1.66899033",
         "-2.21780033",
         "-27.54765791",
         "-25.16556007",
         "-38.33808813",
         "0.0",
         "0.0",
         "32653.87",
         null,
         "2025-05-25T19:02:00.000Z"
        ],
        [
         "4996",
         "36565",
         "$SEND",
         "$SEND",
         "send",
         "1",
         "2025-05-20T09:58:34.000Z",
         "['memes', 'solana-ecosystem']",
         "1e+17",
         "0.0",
         "1e+17",
         "False",
         "{'id': 5426, 'name': 'Solana', 'symbol': 'SOL', 'slug': 'solana', 'token_address': 'DdtRzU4Cdd6KH7qwya5ceawUUd5q77PNbx6jw9dwfWo3'}",
         "4997",
         "1e+17",
         "25667.7099566",
         null,
         "2025-05-25T19:03:00.000Z",
         "2.56677099566e-13",
         "13731.9166146",
         "35.9263",
         "3.61413044",
         "-36.75002398",
         "-96.18813804",
         "-96.18813804",
         "-96.18813804",
         "-96.18813804",
         "0.0",
         "0.0",
         "25667.71",
         null,
         "2025-05-25T19:03:00.000Z"
        ],
        [
         "4997",
         "35067",
         "BCGame Coin",
         "BC",
         "bcgame-coin",
         "2",
         "2025-01-07T06:53:23.000Z",
         "['solana-ecosystem']",
         null,
         "0.0",
         "10000000000.0",
         "False",
         "{'id': 5426, 'name': 'Solana', 'symbol': 'SOL', 'slug': 'solana', 'token_address': 'BCNT4t3rv5Hva8RnUtJUJLnxzeFAabcYp8CghC1SmWin'}",
         "4998",
         "10000000000.0",
         "65169233.50546719",
         null,
         "2025-05-25T19:03:00.000Z",
         "0.0065169233505467",
         "13612.16993052",
         "19.9114",
         "0.24883981",
         "-5.46091199",
         "102.958377",
         "52.58996903",
         "74.53549526",
         "44.87252498",
         "0.0",
         "0.0",
         "65169233.51",
         null,
         "2025-05-25T19:03:00.000Z"
        ],
        [
         "4998",
         "24439",
         "Silver",
         "KAG",
         "silver",
         "20",
         "2023-04-18T14:22:39.000Z",
         "[]",
         null,
         "0.0",
         "100000000000.0",
         "False",
         null,
         "4999",
         "3784261.6828",
         "125654078.06545536",
         null,
         "2025-05-25T19:03:00.000Z",
         "33.20438399822368",
         "13604.38033238",
         "-91.2464",
         "0.02982629",
         "-0.67315546",
         "3.01114052",
         "-1.6203797",
         "-1.46750404",
         "2.18694959",
         "0.0",
         "0.0",
         "3320438399822.37",
         null,
         "2025-05-25T19:03:00.000Z"
        ],
        [
         "4999",
         "34891",
         "DORA AI by Virtuals",
         "DORA",
         "dora-ai-by-virtuals",
         "10",
         "2024-12-27T03:41:42.000Z",
         "['ai-big-data', 'base-ecosystem', 'ai-agents', 'virtuals-protocol-ecosystem']",
         "1000000000.0",
         "0.0",
         "1000000000.0",
         "False",
         "{'id': 27716, 'name': 'Base', 'symbol': 'TBA', 'slug': 'base', 'token_address': '0x1e2093ab84768948c6176db5ad98c909ce97f368'}",
         "5000",
         "854419230.0",
         "1111995.0152983298",
         null,
         "2025-05-25T19:03:00.000Z",
         "0.0013014630011292",
         "13509.73794112",
         "-11.9783",
         "-2.60434455",
         "-16.91097304",
         "-34.55770664",
         "31.70880353",
         "67.97533218",
         "39.39681834",
         "0.0",
         "0.0",
         "1301463.0",
         null,
         "2025-05-25T19:03:00.000Z"
        ]
       ],
       "shape": {
        "columns": 31,
        "rows": 5
       }
      },
      "text/html": [
       "<div>\n",
       "<style scoped>\n",
       "    .dataframe tbody tr th:only-of-type {\n",
       "        vertical-align: middle;\n",
       "    }\n",
       "\n",
       "    .dataframe tbody tr th {\n",
       "        vertical-align: top;\n",
       "    }\n",
       "\n",
       "    .dataframe thead th {\n",
       "        text-align: right;\n",
       "    }\n",
       "</style>\n",
       "<table border=\"1\" class=\"dataframe\">\n",
       "  <thead>\n",
       "    <tr style=\"text-align: right;\">\n",
       "      <th></th>\n",
       "      <th>id</th>\n",
       "      <th>name</th>\n",
       "      <th>symbol</th>\n",
       "      <th>slug</th>\n",
       "      <th>num_market_pairs</th>\n",
       "      <th>date_added</th>\n",
       "      <th>tags</th>\n",
       "      <th>max_supply</th>\n",
       "      <th>circulating_supply</th>\n",
       "      <th>total_supply</th>\n",
       "      <th>...</th>\n",
       "      <th>percent_change_24h</th>\n",
       "      <th>percent_change_7d</th>\n",
       "      <th>percent_change_30d</th>\n",
       "      <th>percent_change_60d</th>\n",
       "      <th>percent_change_90d</th>\n",
       "      <th>market_cap</th>\n",
       "      <th>market_cap_dominance</th>\n",
       "      <th>fully_diluted_market_cap</th>\n",
       "      <th>tvl</th>\n",
       "      <th>last_updated.1</th>\n",
       "    </tr>\n",
       "  </thead>\n",
       "  <tbody>\n",
       "    <tr>\n",
       "      <th>4995</th>\n",
       "      <td>25712</td>\n",
       "      <td>AiAkita</td>\n",
       "      <td>AIAKITA</td>\n",
       "      <td>aiakita</td>\n",
       "      <td>3</td>\n",
       "      <td>2023-05-22T21:50:37.000Z</td>\n",
       "      <td>['arbitrum-ecosystem']</td>\n",
       "      <td>3.139079e+17</td>\n",
       "      <td>0.0</td>\n",
       "      <td>3.139079e+17</td>\n",
       "      <td>...</td>\n",
       "      <td>1.668990</td>\n",
       "      <td>-2.217800</td>\n",
       "      <td>-27.547658</td>\n",
       "      <td>-25.165560</td>\n",
       "      <td>-38.338088</td>\n",
       "      <td>0.0</td>\n",
       "      <td>0.0</td>\n",
       "      <td>3.265387e+04</td>\n",
       "      <td>NaN</td>\n",
       "      <td>2025-05-25T19:02:00.000Z</td>\n",
       "    </tr>\n",
       "    <tr>\n",
       "      <th>4996</th>\n",
       "      <td>36565</td>\n",
       "      <td>$SEND</td>\n",
       "      <td>$SEND</td>\n",
       "      <td>send</td>\n",
       "      <td>1</td>\n",
       "      <td>2025-05-20T09:58:34.000Z</td>\n",
       "      <td>['memes', 'solana-ecosystem']</td>\n",
       "      <td>1.000000e+17</td>\n",
       "      <td>0.0</td>\n",
       "      <td>1.000000e+17</td>\n",
       "      <td>...</td>\n",
       "      <td>-36.750024</td>\n",
       "      <td>-96.188138</td>\n",
       "      <td>-96.188138</td>\n",
       "      <td>-96.188138</td>\n",
       "      <td>-96.188138</td>\n",
       "      <td>0.0</td>\n",
       "      <td>0.0</td>\n",
       "      <td>2.566771e+04</td>\n",
       "      <td>NaN</td>\n",
       "      <td>2025-05-25T19:03:00.000Z</td>\n",
       "    </tr>\n",
       "    <tr>\n",
       "      <th>4997</th>\n",
       "      <td>35067</td>\n",
       "      <td>BCGame Coin</td>\n",
       "      <td>BC</td>\n",
       "      <td>bcgame-coin</td>\n",
       "      <td>2</td>\n",
       "      <td>2025-01-07T06:53:23.000Z</td>\n",
       "      <td>['solana-ecosystem']</td>\n",
       "      <td>NaN</td>\n",
       "      <td>0.0</td>\n",
       "      <td>1.000000e+10</td>\n",
       "      <td>...</td>\n",
       "      <td>-5.460912</td>\n",
       "      <td>102.958377</td>\n",
       "      <td>52.589969</td>\n",
       "      <td>74.535495</td>\n",
       "      <td>44.872525</td>\n",
       "      <td>0.0</td>\n",
       "      <td>0.0</td>\n",
       "      <td>6.516923e+07</td>\n",
       "      <td>NaN</td>\n",
       "      <td>2025-05-25T19:03:00.000Z</td>\n",
       "    </tr>\n",
       "    <tr>\n",
       "      <th>4998</th>\n",
       "      <td>24439</td>\n",
       "      <td>Silver</td>\n",
       "      <td>KAG</td>\n",
       "      <td>silver</td>\n",
       "      <td>20</td>\n",
       "      <td>2023-04-18T14:22:39.000Z</td>\n",
       "      <td>[]</td>\n",
       "      <td>NaN</td>\n",
       "      <td>0.0</td>\n",
       "      <td>1.000000e+11</td>\n",
       "      <td>...</td>\n",
       "      <td>-0.673155</td>\n",
       "      <td>3.011141</td>\n",
       "      <td>-1.620380</td>\n",
       "      <td>-1.467504</td>\n",
       "      <td>2.186950</td>\n",
       "      <td>0.0</td>\n",
       "      <td>0.0</td>\n",
       "      <td>3.320438e+12</td>\n",
       "      <td>NaN</td>\n",
       "      <td>2025-05-25T19:03:00.000Z</td>\n",
       "    </tr>\n",
       "    <tr>\n",
       "      <th>4999</th>\n",
       "      <td>34891</td>\n",
       "      <td>DORA AI by Virtuals</td>\n",
       "      <td>DORA</td>\n",
       "      <td>dora-ai-by-virtuals</td>\n",
       "      <td>10</td>\n",
       "      <td>2024-12-27T03:41:42.000Z</td>\n",
       "      <td>['ai-big-data', 'base-ecosystem', 'ai-agents',...</td>\n",
       "      <td>1.000000e+09</td>\n",
       "      <td>0.0</td>\n",
       "      <td>1.000000e+09</td>\n",
       "      <td>...</td>\n",
       "      <td>-16.910973</td>\n",
       "      <td>-34.557707</td>\n",
       "      <td>31.708804</td>\n",
       "      <td>67.975332</td>\n",
       "      <td>39.396818</td>\n",
       "      <td>0.0</td>\n",
       "      <td>0.0</td>\n",
       "      <td>1.301463e+06</td>\n",
       "      <td>NaN</td>\n",
       "      <td>2025-05-25T19:03:00.000Z</td>\n",
       "    </tr>\n",
       "  </tbody>\n",
       "</table>\n",
       "<p>5 rows × 31 columns</p>\n",
       "</div>"
      ],
      "text/plain": [
       "         id                 name   symbol                 slug  \\\n",
       "4995  25712              AiAkita  AIAKITA              aiakita   \n",
       "4996  36565                $SEND    $SEND                 send   \n",
       "4997  35067          BCGame Coin       BC          bcgame-coin   \n",
       "4998  24439               Silver      KAG               silver   \n",
       "4999  34891  DORA AI by Virtuals     DORA  dora-ai-by-virtuals   \n",
       "\n",
       "      num_market_pairs                date_added  \\\n",
       "4995                 3  2023-05-22T21:50:37.000Z   \n",
       "4996                 1  2025-05-20T09:58:34.000Z   \n",
       "4997                 2  2025-01-07T06:53:23.000Z   \n",
       "4998                20  2023-04-18T14:22:39.000Z   \n",
       "4999                10  2024-12-27T03:41:42.000Z   \n",
       "\n",
       "                                                   tags    max_supply  \\\n",
       "4995                             ['arbitrum-ecosystem']  3.139079e+17   \n",
       "4996                      ['memes', 'solana-ecosystem']  1.000000e+17   \n",
       "4997                               ['solana-ecosystem']           NaN   \n",
       "4998                                                 []           NaN   \n",
       "4999  ['ai-big-data', 'base-ecosystem', 'ai-agents',...  1.000000e+09   \n",
       "\n",
       "      circulating_supply  total_supply  ...  percent_change_24h  \\\n",
       "4995                 0.0  3.139079e+17  ...            1.668990   \n",
       "4996                 0.0  1.000000e+17  ...          -36.750024   \n",
       "4997                 0.0  1.000000e+10  ...           -5.460912   \n",
       "4998                 0.0  1.000000e+11  ...           -0.673155   \n",
       "4999                 0.0  1.000000e+09  ...          -16.910973   \n",
       "\n",
       "     percent_change_7d  percent_change_30d  percent_change_60d  \\\n",
       "4995         -2.217800          -27.547658          -25.165560   \n",
       "4996        -96.188138          -96.188138          -96.188138   \n",
       "4997        102.958377           52.589969           74.535495   \n",
       "4998          3.011141           -1.620380           -1.467504   \n",
       "4999        -34.557707           31.708804           67.975332   \n",
       "\n",
       "      percent_change_90d  market_cap market_cap_dominance  \\\n",
       "4995          -38.338088         0.0                  0.0   \n",
       "4996          -96.188138         0.0                  0.0   \n",
       "4997           44.872525         0.0                  0.0   \n",
       "4998            2.186950         0.0                  0.0   \n",
       "4999           39.396818         0.0                  0.0   \n",
       "\n",
       "      fully_diluted_market_cap  tvl            last_updated.1  \n",
       "4995              3.265387e+04  NaN  2025-05-25T19:02:00.000Z  \n",
       "4996              2.566771e+04  NaN  2025-05-25T19:03:00.000Z  \n",
       "4997              6.516923e+07  NaN  2025-05-25T19:03:00.000Z  \n",
       "4998              3.320438e+12  NaN  2025-05-25T19:03:00.000Z  \n",
       "4999              1.301463e+06  NaN  2025-05-25T19:03:00.000Z  \n",
       "\n",
       "[5 rows x 31 columns]"
      ]
     },
     "execution_count": 4,
     "metadata": {},
     "output_type": "execute_result"
    }
   ],
   "source": [
    "listings_df.tail()"
   ]
  },
  {
   "cell_type": "code",
   "execution_count": 5,
   "id": "f6b3d129",
   "metadata": {},
   "outputs": [
    {
     "data": {
      "application/vnd.microsoft.datawrangler.viewer.v0+json": {
       "columns": [
        {
         "name": "index",
         "rawType": "object",
         "type": "string"
        },
        {
         "name": "0",
         "rawType": "object",
         "type": "unknown"
        }
       ],
       "ref": "9ec01c0b-9a90-43b3-a971-a06bda06e90a",
       "rows": [
        [
         "id",
         "int64"
        ],
        [
         "name",
         "object"
        ],
        [
         "symbol",
         "object"
        ],
        [
         "slug",
         "object"
        ],
        [
         "num_market_pairs",
         "int64"
        ],
        [
         "date_added",
         "object"
        ],
        [
         "tags",
         "object"
        ],
        [
         "max_supply",
         "float64"
        ],
        [
         "circulating_supply",
         "float64"
        ],
        [
         "total_supply",
         "float64"
        ],
        [
         "infinite_supply",
         "bool"
        ],
        [
         "platform",
         "object"
        ],
        [
         "cmc_rank",
         "int64"
        ],
        [
         "self_reported_circulating_supply",
         "float64"
        ],
        [
         "self_reported_market_cap",
         "float64"
        ],
        [
         "tvl_ratio",
         "float64"
        ],
        [
         "last_updated",
         "object"
        ],
        [
         "price",
         "float64"
        ],
        [
         "volume_24h",
         "float64"
        ],
        [
         "volume_change_24h",
         "float64"
        ],
        [
         "percent_change_1h",
         "float64"
        ],
        [
         "percent_change_24h",
         "float64"
        ],
        [
         "percent_change_7d",
         "float64"
        ],
        [
         "percent_change_30d",
         "float64"
        ],
        [
         "percent_change_60d",
         "float64"
        ],
        [
         "percent_change_90d",
         "float64"
        ],
        [
         "market_cap",
         "float64"
        ],
        [
         "market_cap_dominance",
         "float64"
        ],
        [
         "fully_diluted_market_cap",
         "float64"
        ],
        [
         "tvl",
         "float64"
        ],
        [
         "last_updated.1",
         "object"
        ]
       ],
       "shape": {
        "columns": 1,
        "rows": 31
       }
      },
      "text/plain": [
       "id                                    int64\n",
       "name                                 object\n",
       "symbol                               object\n",
       "slug                                 object\n",
       "num_market_pairs                      int64\n",
       "date_added                           object\n",
       "tags                                 object\n",
       "max_supply                          float64\n",
       "circulating_supply                  float64\n",
       "total_supply                        float64\n",
       "infinite_supply                        bool\n",
       "platform                             object\n",
       "cmc_rank                              int64\n",
       "self_reported_circulating_supply    float64\n",
       "self_reported_market_cap            float64\n",
       "tvl_ratio                           float64\n",
       "last_updated                         object\n",
       "price                               float64\n",
       "volume_24h                          float64\n",
       "volume_change_24h                   float64\n",
       "percent_change_1h                   float64\n",
       "percent_change_24h                  float64\n",
       "percent_change_7d                   float64\n",
       "percent_change_30d                  float64\n",
       "percent_change_60d                  float64\n",
       "percent_change_90d                  float64\n",
       "market_cap                          float64\n",
       "market_cap_dominance                float64\n",
       "fully_diluted_market_cap            float64\n",
       "tvl                                 float64\n",
       "last_updated.1                       object\n",
       "dtype: object"
      ]
     },
     "execution_count": 5,
     "metadata": {},
     "output_type": "execute_result"
    }
   ],
   "source": [
    "# checking data type of each column\n",
    "listings_df.dtypes"
   ]
  },
  {
   "cell_type": "code",
   "execution_count": 6,
   "id": "f0e4d9f3",
   "metadata": {},
   "outputs": [
    {
     "name": "stdout",
     "output_type": "stream",
     "text": [
      "tags\n",
      "<class 'str'>    5000\n",
      "Name: count, dtype: int64\n"
     ]
    }
   ],
   "source": [
    "# tags column contain stringified lists and not actual lists\n",
    "print(listings_df['tags'].apply(type).value_counts())"
   ]
  },
  {
   "cell_type": "code",
   "execution_count": 7,
   "id": "aa0e06ec",
   "metadata": {},
   "outputs": [],
   "source": [
    "# converting tag columns to actual list\n",
    "listings_df['tags'] = listings_df['tags'].apply(\n",
    "    lambda x: ast.literal_eval(x) if pd.notna(x) and x.startswith('[') else []\n",
    ")\n",
    "\n",
    "all_data_df['tags'] = all_data_df['tags'].apply(\n",
    "    lambda x: ast.literal_eval(x) if pd.notna(x) and x.startswith('[') else []\n",
    ")\n",
    "\n",
    "hist_df['tags'] = hist_df['tags'].apply(\n",
    "    lambda x: ast.literal_eval(x) if pd.notna(x) and x.startswith('[') else []\n",
    ")\n"
   ]
  },
  {
   "cell_type": "code",
   "execution_count": 8,
   "id": "8bfc1bd9",
   "metadata": {},
   "outputs": [
    {
     "name": "stdout",
     "output_type": "stream",
     "text": [
      "tags\n",
      "<class 'list'>    540\n",
      "Name: count, dtype: int64\n"
     ]
    }
   ],
   "source": [
    "print(hist_df['tags'].apply(type).value_counts())"
   ]
  },
  {
   "cell_type": "code",
   "execution_count": 9,
   "id": "9496fae4",
   "metadata": {},
   "outputs": [
    {
     "data": {
      "application/vnd.microsoft.datawrangler.viewer.v0+json": {
       "columns": [
        {
         "name": "index",
         "rawType": "object",
         "type": "string"
        },
        {
         "name": "0",
         "rawType": "object",
         "type": "unknown"
        }
       ],
       "ref": "5ab7b5ce-f75b-4770-a91a-42f2ccf8f935",
       "rows": [
        [
         "id",
         "int64"
        ],
        [
         "name",
         "object"
        ],
        [
         "symbol",
         "object"
        ],
        [
         "slug",
         "object"
        ],
        [
         "num_market_pairs",
         "int64"
        ],
        [
         "date_added",
         "datetime64[ns, UTC]"
        ],
        [
         "tags",
         "object"
        ],
        [
         "max_supply",
         "float64"
        ],
        [
         "circulating_supply",
         "float64"
        ],
        [
         "total_supply",
         "float64"
        ],
        [
         "infinite_supply",
         "bool"
        ],
        [
         "platform",
         "object"
        ],
        [
         "cmc_rank",
         "int64"
        ],
        [
         "self_reported_circulating_supply",
         "float64"
        ],
        [
         "self_reported_market_cap",
         "float64"
        ],
        [
         "tvl_ratio",
         "float64"
        ],
        [
         "last_updated",
         "datetime64[ns, UTC]"
        ],
        [
         "price",
         "float64"
        ],
        [
         "volume_24h",
         "float64"
        ],
        [
         "volume_change_24h",
         "float64"
        ],
        [
         "percent_change_1h",
         "float64"
        ],
        [
         "percent_change_24h",
         "float64"
        ],
        [
         "percent_change_7d",
         "float64"
        ],
        [
         "percent_change_30d",
         "float64"
        ],
        [
         "percent_change_60d",
         "float64"
        ],
        [
         "percent_change_90d",
         "float64"
        ],
        [
         "market_cap",
         "float64"
        ],
        [
         "market_cap_dominance",
         "float64"
        ],
        [
         "fully_diluted_market_cap",
         "float64"
        ],
        [
         "tvl",
         "float64"
        ],
        [
         "last_updated.1",
         "datetime64[ns, UTC]"
        ]
       ],
       "shape": {
        "columns": 1,
        "rows": 31
       }
      },
      "text/plain": [
       "id                                                int64\n",
       "name                                             object\n",
       "symbol                                           object\n",
       "slug                                             object\n",
       "num_market_pairs                                  int64\n",
       "date_added                          datetime64[ns, UTC]\n",
       "tags                                             object\n",
       "max_supply                                      float64\n",
       "circulating_supply                              float64\n",
       "total_supply                                    float64\n",
       "infinite_supply                                    bool\n",
       "platform                                         object\n",
       "cmc_rank                                          int64\n",
       "self_reported_circulating_supply                float64\n",
       "self_reported_market_cap                        float64\n",
       "tvl_ratio                                       float64\n",
       "last_updated                        datetime64[ns, UTC]\n",
       "price                                           float64\n",
       "volume_24h                                      float64\n",
       "volume_change_24h                               float64\n",
       "percent_change_1h                               float64\n",
       "percent_change_24h                              float64\n",
       "percent_change_7d                               float64\n",
       "percent_change_30d                              float64\n",
       "percent_change_60d                              float64\n",
       "percent_change_90d                              float64\n",
       "market_cap                                      float64\n",
       "market_cap_dominance                            float64\n",
       "fully_diluted_market_cap                        float64\n",
       "tvl                                             float64\n",
       "last_updated.1                      datetime64[ns, UTC]\n",
       "dtype: object"
      ]
     },
     "execution_count": 9,
     "metadata": {},
     "output_type": "execute_result"
    }
   ],
   "source": [
    "# adding date columns\n",
    "date_cols = ['date_added', 'last_updated', 'last_updated.1' ]\n",
    "\n",
    "# changing date columns to datetime object\n",
    "for column in date_cols:\n",
    "    if column in listings_df.columns:\n",
    "        listings_df[column] = pd.to_datetime(listings_df[column])\n",
    "    else:\n",
    "        print(f\"Column '{column}' not found in DataFrame.\")\n",
    "        \n",
    "        \n",
    "listings_df.dtypes"
   ]
  },
  {
   "cell_type": "code",
   "execution_count": 10,
   "id": "e0c0e8c2",
   "metadata": {},
   "outputs": [
    {
     "data": {
      "application/vnd.microsoft.datawrangler.viewer.v0+json": {
       "columns": [
        {
         "name": "index",
         "rawType": "int64",
         "type": "integer"
        },
        {
         "name": "id",
         "rawType": "int64",
         "type": "integer"
        },
        {
         "name": "name",
         "rawType": "object",
         "type": "string"
        },
        {
         "name": "symbol",
         "rawType": "object",
         "type": "string"
        },
        {
         "name": "slug",
         "rawType": "object",
         "type": "string"
        },
        {
         "name": "num_market_pairs",
         "rawType": "int64",
         "type": "integer"
        },
        {
         "name": "date_added",
         "rawType": "datetime64[ns, UTC]",
         "type": "unknown"
        },
        {
         "name": "tags",
         "rawType": "object",
         "type": "unknown"
        },
        {
         "name": "max_supply",
         "rawType": "float64",
         "type": "float"
        },
        {
         "name": "circulating_supply",
         "rawType": "float64",
         "type": "float"
        },
        {
         "name": "total_supply",
         "rawType": "float64",
         "type": "float"
        },
        {
         "name": "infinite_supply",
         "rawType": "bool",
         "type": "boolean"
        },
        {
         "name": "platform",
         "rawType": "object",
         "type": "unknown"
        },
        {
         "name": "cmc_rank",
         "rawType": "int64",
         "type": "integer"
        },
        {
         "name": "self_reported_circulating_supply",
         "rawType": "float64",
         "type": "float"
        },
        {
         "name": "self_reported_market_cap",
         "rawType": "float64",
         "type": "float"
        },
        {
         "name": "tvl_ratio",
         "rawType": "float64",
         "type": "float"
        },
        {
         "name": "last_updated",
         "rawType": "datetime64[ns, UTC]",
         "type": "unknown"
        },
        {
         "name": "price",
         "rawType": "float64",
         "type": "float"
        },
        {
         "name": "volume_24h",
         "rawType": "float64",
         "type": "float"
        },
        {
         "name": "volume_change_24h",
         "rawType": "float64",
         "type": "float"
        },
        {
         "name": "percent_change_1h",
         "rawType": "float64",
         "type": "float"
        },
        {
         "name": "percent_change_24h",
         "rawType": "float64",
         "type": "float"
        },
        {
         "name": "percent_change_7d",
         "rawType": "float64",
         "type": "float"
        },
        {
         "name": "percent_change_30d",
         "rawType": "float64",
         "type": "float"
        },
        {
         "name": "percent_change_60d",
         "rawType": "float64",
         "type": "float"
        },
        {
         "name": "percent_change_90d",
         "rawType": "float64",
         "type": "float"
        },
        {
         "name": "market_cap",
         "rawType": "float64",
         "type": "float"
        },
        {
         "name": "market_cap_dominance",
         "rawType": "float64",
         "type": "float"
        },
        {
         "name": "fully_diluted_market_cap",
         "rawType": "float64",
         "type": "float"
        },
        {
         "name": "tvl",
         "rawType": "float64",
         "type": "float"
        },
        {
         "name": "last_updated.1",
         "rawType": "datetime64[ns, UTC]",
         "type": "unknown"
        }
       ],
       "ref": "d41cf65f-f5be-4fd9-8fd4-dd7cd56fd1b2",
       "rows": [
        [
         "0",
         "1",
         "Bitcoin",
         "BTC",
         "bitcoin",
         "12187",
         "2010-07-13 00:00:00+00:00",
         "['mineable', 'pow', 'sha-256', 'store-of-value', 'state-channel', 'coinbase-ventures-portfolio', 'three-arrows-capital-portfolio', 'polychain-capital-portfolio', 'binance-labs-portfolio', 'blockchain-capital-portfolio', 'boostvc-portfolio', 'cms-holdings-portfolio', 'dcg-portfolio', 'dragonfly-capital-portfolio', 'electric-capital-portfolio', 'fabric-ventures-portfolio', 'framework-ventures-portfolio', 'galaxy-digital-portfolio', 'huobi-capital-portfolio', 'alameda-research-portfolio', 'a16z-portfolio', '1confirmation-portfolio', 'winklevoss-capital-portfolio', 'usv-portfolio', 'placeholder-ventures-portfolio', 'pantera-capital-portfolio', 'multicoin-capital-portfolio', 'paradigm-portfolio', 'bitcoin-ecosystem', 'layer-1', 'ftx-bankruptcy-estate', '2017-2018-alt-season', 'us-strategic-crypto-reserve', 'binance-ecosystem']",
         "21000000.0",
         "19869796.0",
         "19869796.0",
         "False",
         null,
         "1",
         null,
         null,
         null,
         "2025-05-25 19:03:00+00:00",
         "107465.29983623025",
         "47238628334.36895",
         "-0.1173",
         "0.11322172",
         "-1.3471241",
         "2.81068093",
         "12.75745719",
         "24.61017595",
         "13.92769082",
         "2135313584824.728",
         "63.2857",
         "2256771296560.83",
         null,
         "2025-05-25 19:03:00+00:00"
        ],
        [
         "1",
         "1027",
         "Ethereum",
         "ETH",
         "ethereum",
         "10307",
         "2015-08-07 00:00:00+00:00",
         "['pos', 'smart-contracts', 'ethereum-ecosystem', 'coinbase-ventures-portfolio', 'three-arrows-capital-portfolio', 'polychain-capital-portfolio', 'binance-labs-portfolio', 'blockchain-capital-portfolio', 'boostvc-portfolio', 'cms-holdings-portfolio', 'dcg-portfolio', 'dragonfly-capital-portfolio', 'electric-capital-portfolio', 'fabric-ventures-portfolio', 'framework-ventures-portfolio', 'hashkey-capital-portfolio', 'kenetic-capital-portfolio', 'huobi-capital-portfolio', 'alameda-research-portfolio', 'a16z-portfolio', '1confirmation-portfolio', 'winklevoss-capital-portfolio', 'usv-portfolio', 'placeholder-ventures-portfolio', 'pantera-capital-portfolio', 'multicoin-capital-portfolio', 'paradigm-portfolio', 'ethereum-pow-ecosystem', 'layer-1', 'ftx-bankruptcy-estate', 'sora-ecosystem', 'rsk-rbtc-ecosystem', 'world-liberty-financial-portfolio', 'us-strategic-crypto-reserve', 'binance-ecosystem']",
         null,
         "120725964.145659",
         "120725964.145659",
         "True",
         null,
         "2",
         null,
         null,
         null,
         "2025-05-25 19:03:00+00:00",
         "2516.836597440719",
         "13920316017.671837",
         "6.7543",
         "0.14087323",
         "-1.4142518",
         "2.10791207",
         "39.79456122",
         "26.11798231",
         "-5.14846987",
         "303847524823.11066",
         "9.0051",
         "303847524823.11",
         null,
         "2025-05-25 19:03:00+00:00"
        ],
        [
         "2",
         "825",
         "Tether USDt",
         "USDT",
         "tether",
         "129577",
         "2015-02-25 00:00:00+00:00",
         "['stablecoin', 'asset-backed-stablecoin', 'usd-stablecoin', 'ethereum-pow-ecosystem', 'fiat-stablecoin', 'tron20-ecosystem', 'rsk-rbtc-ecosystem', 'world-liberty-financial-portfolio']",
         null,
         "152732954758.03772",
         "156004732006.21027",
         "True",
         "{'id': 1027, 'name': 'Ethereum', 'symbol': 'ETH', 'slug': 'ethereum', 'token_address': '0xdac17f958d2ee523a2206206994597c13d831ec7'}",
         "3",
         null,
         null,
         null,
         "2025-05-25 19:02:00+00:00",
         "1.000317604870807",
         "63506041478.09058",
         "-3.3543",
         "-0.00766236",
         "0.01688786",
         "0.00499677",
         "-0.0149913",
         "0.02832861",
         "-0.01393316",
         "152781463488.4016",
         "4.528",
         "156054279868.96",
         null,
         "2025-05-25 19:02:00+00:00"
        ],
        [
         "3",
         "52",
         "XRP",
         "XRP",
         "xrp",
         "1614",
         "2013-08-04 00:00:00+00:00",
         "['medium-of-exchange', 'enterprise-solutions', 'xrp-ecosystem', 'arrington-xrp-capital-portfolio', 'galaxy-digital-portfolio', 'a16z-portfolio', 'pantera-capital-portfolio', 'ftx-bankruptcy-estate', '2017-2018-alt-season', 'klaytn-ecosystem', 'made-in-america', 'us-strategic-crypto-reserve']",
         "100000000000.0",
         "58686007292.0",
         "99986107098.0",
         "False",
         null,
         "4",
         null,
         null,
         null,
         "2025-05-25 19:03:00+00:00",
         "2.3035726478165404",
         "1928875090.2928867",
         "0.8837",
         "0.20917353",
         "-1.84994509",
         "-4.03548235",
         "4.96380045",
         "-2.96364832",
         "-5.97977309",
         "135187481207.41324",
         "4.0065",
         "230357264781.65",
         null,
         "2025-05-25 19:03:00+00:00"
        ],
        [
         "4",
         "1839",
         "BNB",
         "BNB",
         "bnb",
         "2545",
         "2017-07-25 00:00:00+00:00",
         "['marketplace', 'centralized-exchange', 'payments', 'smart-contracts', 'alameda-research-portfolio', 'multicoin-capital-portfolio', 'bnb-chain-ecosystem', 'layer-1', 'alleged-sec-securities', 'celsius-bankruptcy-estate']",
         null,
         "140888117.54",
         "140888117.54",
         "False",
         null,
         "5",
         null,
         null,
         null,
         "2025-05-25 19:02:00+00:00",
         "665.3770273362973",
         "1565766508.092338",
         "0.7689",
         "0.03310514",
         "-1.48472887",
         "3.30445217",
         "10.2190531",
         "7.62898899",
         "4.98242821",
         "93743716835.77203",
         "2.7783",
         "93743716835.77",
         null,
         "2025-05-25 19:02:00+00:00"
        ],
        [
         "5",
         "5426",
         "Solana",
         "SOL",
         "solana",
         "924",
         "2020-04-10 00:00:00+00:00",
         "['pos', 'platform', 'solana-ecosystem', 'cms-holdings-portfolio', 'kenetic-capital-portfolio', 'alameda-research-portfolio', 'multicoin-capital-portfolio', 'okx-ventures-portfolio', 'layer-1', 'ftx-bankruptcy-estate', 'alleged-sec-securities', 'cmc-crypto-awards-2024', 'made-in-america', 'us-strategic-crypto-reserve']",
         null,
         "520283662.9822936",
         "601533250.7524525",
         "True",
         null,
         "6",
         null,
         null,
         null,
         "2025-05-25 19:03:00+00:00",
         "171.7325280660603",
         "3197686997.444094",
         "-8.6948",
         "0.42016527",
         "-2.95438088",
         "0.757709",
         "13.30274672",
         "24.98540913",
         "12.98533375",
         "89349628755.41939",
         "2.648",
         "103302825867.51",
         null,
         "2025-05-25 19:03:00+00:00"
        ],
        [
         "6",
         "3408",
         "USDC",
         "USDC",
         "usd-coin",
         "28186",
         "2018-10-08 00:00:00+00:00",
         "['medium-of-exchange', 'stablecoin', 'asset-backed-stablecoin', 'coinbase-ventures-portfolio', 'usd-stablecoin', 'ethereum-pow-ecosystem', 'fiat-stablecoin', 'tron20-ecosystem', 'made-in-america', 'world-liberty-financial-portfolio']",
         null,
         "61715633727.97176",
         "61715633727.97176",
         "False",
         "{'id': 1027, 'name': 'Ethereum', 'symbol': 'ETH', 'slug': 'ethereum', 'token_address': '0xa0b86991c6218b36c1d19d4a2e9eb0ce3606eb48'}",
         "7",
         null,
         null,
         null,
         "2025-05-25 19:03:00+00:00",
         "0.9998611492269636",
         "8409247488.849723",
         "0.8972",
         "0.00492249",
         "0.00190848",
         "-0.00645667",
         "-0.00384904",
         "-0.00212414",
         "-0.0062483",
         "61707064464.52021",
         "1.8289",
         "61707064464.52",
         null,
         "2025-05-25 19:03:00+00:00"
        ],
        [
         "7",
         "74",
         "Dogecoin",
         "DOGE",
         "dogecoin",
         "1227",
         "2013-12-15 00:00:00+00:00",
         "['mineable', 'pow', 'scrypt', 'medium-of-exchange', 'memes', 'payments', 'doggone-doggerel', 'osmosis-ecosystem', 'ftx-bankruptcy-estate', 'animal-memes', 'made-in-america']",
         null,
         "149413056383.70514",
         "149413056383.70514",
         "True",
         null,
         "8",
         null,
         null,
         null,
         "2025-05-25 19:03:00+00:00",
         "0.2194167606028945",
         "1471128010.884547",
         "1.0046",
         "0.13684266",
         "-3.30234595",
         "-3.79825002",
         "20.7985467",
         "13.02521823",
         "-2.73479685",
         "32783728823.490208",
         "0.9716",
         "32783728823.49",
         null,
         "2025-05-25 19:03:00+00:00"
        ],
        [
         "8",
         "2010",
         "Cardano",
         "ADA",
         "cardano",
         "1521",
         "2017-10-01 00:00:00+00:00",
         "['dpos', 'pos', 'platform', 'research', 'smart-contracts', 'staking', 'cardano-ecosystem', 'cardano', 'layer-1', 'alleged-sec-securities', '2017-2018-alt-season', 'made-in-america', 'us-strategic-crypto-reserve']",
         "45000000000.0",
         "35334514487.46726",
         "44994495302.31451",
         "False",
         null,
         "9",
         null,
         null,
         null,
         "2025-05-25 19:03:00+00:00",
         "0.7467578562468912",
         "637671244.7176719",
         "-9.3536",
         "0.39984211",
         "-1.17667286",
         "0.06585497",
         "3.76361045",
         "2.89982037",
         "2.71607",
         "26386326290.18577",
         "0.782",
         "33604103531.11",
         null,
         "2025-05-25 19:03:00+00:00"
        ],
        [
         "9",
         "1958",
         "TRON",
         "TRX",
         "tron",
         "1178",
         "2017-09-13 00:00:00+00:00",
         "['media', 'payments', 'tron-ecosystem', 'layer-1', 'dwf-labs-portfolio', 'alleged-sec-securities', '2017-2018-alt-season', 'tron20-ecosystem', 'world-liberty-financial-portfolio']",
         null,
         "94877826109.37964",
         "94877826324.52847",
         "True",
         null,
         "10",
         null,
         null,
         null,
         "2025-05-25 19:03:00+00:00",
         "0.2711796000429752",
         "501882210.64286953",
         "-14.0024",
         "-0.0481828",
         "0.00391649",
         "2.11446438",
         "11.74014445",
         "17.93672187",
         "9.74736694",
         "25728930937.28853",
         "0.7625",
         "25728930995.63",
         null,
         "2025-05-25 19:03:00+00:00"
        ],
        [
         "10",
         "32196",
         "Hyperliquid",
         "HYPE",
         "hyperliquid",
         "82",
         "2024-07-15 10:14:50+00:00",
         "['decentralized-exchange-dex-token', 'defi', 'derivatives', 'layer-1', 'hyperliquid-ecosystem']",
         "1000000000.0",
         "333928180.0",
         "999993930.0",
         "False",
         "{'id': 32196, 'name': 'Hyperliquid', 'symbol': 'HYPE', 'slug': 'hyperliquid', 'token_address': '0x0d01dc56dcaaca66ad901c959b4011ec'}",
         "11",
         "333931719.0",
         "12879887333.268782",
         null,
         "2025-05-25 19:03:00+00:00",
         "38.57042203669422",
         "385249680.4601078",
         "18.953",
         "1.86333455",
         "10.40240492",
         "46.33099874",
         "109.15744558",
         "181.41535979",
         "80.53237933",
         "12879750832.545193",
         "0.3817",
         "38570422036.69",
         null,
         "2025-05-25 19:03:00+00:00"
        ],
        [
         "11",
         "20947",
         "Sui",
         "SUI",
         "sui",
         "662",
         "2022-07-12 08:03:11+00:00",
         "['binance-launchpool', 'coinbase-ventures-portfolio', 'binance-labs-portfolio', 'electric-capital-portfolio', 'a16z-portfolio', 'sui-ecosystem', 'layer-1', 'move-vm', 'cmc-crypto-yearbook-2024-2025', 'made-in-america', 'world-liberty-financial-portfolio', 'binance-ecosystem']",
         "10000000000.0",
         "3338327017.911665",
         "10000000000.0",
         "False",
         null,
         "12",
         "3338327017.911665",
         "11755950016.598682",
         null,
         "2025-05-25 19:03:00+00:00",
         "3.521509412805451",
         "903258060.2962158",
         "5.0487",
         "0.21659717",
         "-2.96206926",
         "-7.31382203",
         "-2.52832379",
         "38.70233527",
         "16.85910851",
         "11755950016.598682",
         "0.3484",
         "35215094128.05",
         null,
         "2025-05-25 19:03:00+00:00"
        ],
        [
         "12",
         "1975",
         "Chainlink",
         "LINK",
         "chainlink",
         "2013",
         "2017-09-20 00:00:00+00:00",
         "['platform', 'defi', 'oracles', 'smart-contracts', 'ethereum-ecosystem', 'polkadot', 'heco-ecosystem', 'avalanche-ecosystem', 'solana-ecosystem', 'framework-ventures-portfolio', 'polygon-ecosystem', 'fantom-ecosystem', 'cardano-ecosystem', 'terra-ecosystem', 'web3', 'near-protocol-ecosystem', 'arbitrum-ecosystem', 'cross-chain', 'cardano', 'injective-ecosystem', 'bnb-chain-ecosystem', 'optimism-ecosystem', 'real-world-assets', 'gnosis-chain-ecosystem', 'sora-ecosystem', 'hoo-smart-chain-ecosystem', 'milkomeda-ecosystem', 'energi-ecosystem', 'made-in-america', 'world-liberty-financial-portfolio']",
         null,
         "657099970.4527867",
         "1000000000.0",
         "False",
         "{'id': 1027, 'name': 'Ethereum', 'symbol': 'ETH', 'slug': 'ethereum', 'token_address': '0x514910771af9ca656af840dff83e8264ecf986ca'}",
         "13",
         null,
         null,
         null,
         "2025-05-25 19:03:00+00:00",
         "15.02033961011195",
         "310446537.870291",
         "-19.1753",
         "-0.00412988",
         "-2.98545242",
         "-3.20571163",
         "-0.1943129",
         "-0.62645287",
         "-7.65598583",
         "9869864713.995384",
         "0.2925",
         "15020339610.11",
         null,
         "2025-05-25 19:03:00+00:00"
        ],
        [
         "13",
         "5805",
         "Avalanche",
         "AVAX",
         "avalanche",
         "915",
         "2020-07-13 00:00:00+00:00",
         "['smart-contracts', 'three-arrows-capital-portfolio', 'polychain-capital-portfolio', 'avalanche-ecosystem', 'cms-holdings-portfolio', 'dragonfly-capital-portfolio', 'real-world-assets', 'layer-1', 'made-in-america']",
         "715748719.0",
         "421115529.807281",
         "456118229.807281",
         "False",
         null,
         "14",
         null,
         null,
         null,
         "2025-05-25 19:03:00+00:00",
         "22.326393125681857",
         "259765166.775732",
         "-34.8834",
         "0.00751728",
         "-2.3676902",
         "-0.65172107",
         "-0.45917388",
         "1.3717323",
         "-3.61374191",
         "9401990869.807152",
         "0.2787",
         "15980087279.6",
         null,
         "2025-05-25 19:03:00+00:00"
        ],
        [
         "14",
         "512",
         "Stellar",
         "XLM",
         "stellar",
         "708",
         "2014-08-05 00:00:00+00:00",
         "['medium-of-exchange', 'enterprise-solutions', 'decentralized-exchange-dex-token', 'defi', 'smart-contracts', 'hashkey-capital-portfolio', 'real-world-assets', '2017-2018-alt-season', 'made-in-america']",
         "50001806812.0",
         "31115831421.357967",
         "50001786892.81785",
         "False",
         null,
         "15",
         null,
         null,
         null,
         "2025-05-25 19:03:00+00:00",
         "0.2826165737947159",
         "160536481.54440504",
         "-7.7497",
         "0.30956733",
         "-1.61486397",
         "-2.3129661",
         "-1.06916042",
         "-0.89208243",
         "-10.53355564",
         "8793849667.078156",
         "0.2606",
         "14131339324.75",
         null,
         "2025-05-25 19:03:00+00:00"
        ],
        [
         "15",
         "5994",
         "Shiba Inu",
         "SHIB",
         "shiba-inu",
         "967",
         "2020-08-01 00:00:00+00:00",
         "['memes', 'ethereum-ecosystem', 'doggone-doggerel', 'base-ecosystem', 'animal-memes']",
         "589552695333683.0",
         "589249738948632.8",
         "589504168190509.2",
         "False",
         "{'id': 1027, 'name': 'Ethereum', 'symbol': 'ETH', 'slug': 'ethereum', 'token_address': '0x95ad61b0a150d79219dcf64e1e6cc01f0b64c4ce'}",
         "16",
         "589551575078137.0",
         "8299780495.246814",
         null,
         "2025-05-25 19:02:00+00:00",
         "1.4078124537529718e-05",
         "199618818.69095224",
         "-4.157",
         "-0.07783563",
         "-2.36358582",
         "-3.72129124",
         "1.46765476",
         "-2.83473726",
         "-1.56082462",
         "8295531208.625728",
         "0.2459",
         "8299796266.34",
         null,
         "2025-05-25 19:02:00+00:00"
        ],
        [
         "16",
         "3957",
         "UNUS SED LEO",
         "LEO",
         "unus-sed-leo",
         "61",
         "2019-05-21 00:00:00+00:00",
         "['marketplace', 'centralized-exchange', 'discount-token', 'payments', 'ethereum-ecosystem', 'kenetic-capital-portfolio', 'alameda-research-portfolio']",
         null,
         "923374669.9",
         "985239504.0",
         "False",
         "{'id': 1027, 'name': 'Ethereum', 'symbol': 'ETH', 'slug': 'ethereum', 'token_address': '0x2af5d2ad76741191d15dfe7bf6ac92d4bd912ca3'}",
         "17",
         null,
         null,
         null,
         "2025-05-25 19:03:00+00:00",
         "8.911680665804761",
         "2230744.77093884",
         "-8.169",
         "0.02204208",
         "1.13933924",
         "2.12528016",
         "0.97981424",
         "-9.1904909",
         "-5.85899442",
         "8228820193.041683",
         "0.2439",
         "8780139838.98",
         null,
         "2025-05-25 19:03:00+00:00"
        ],
        [
         "17",
         "1831",
         "Bitcoin Cash",
         "BCH",
         "bitcoin-cash",
         "1020",
         "2017-07-23 00:00:00+00:00",
         "['mineable', 'pow', 'sha-256', 'marketplace', 'medium-of-exchange', 'store-of-value', 'enterprise-solutions', 'payments', 'layer-1', '2017-2018-alt-season', 'made-in-america']",
         "21000000.0",
         "19874556.25",
         "19874556.25",
         "False",
         null,
         "18",
         null,
         null,
         null,
         "2025-05-25 19:03:00+00:00",
         "412.5625114409052",
         "246963235.12900364",
         "-8.2379",
         "0.08778319",
         "-2.99789701",
         "2.85839252",
         "9.64317586",
         "23.41733202",
         "34.02297253",
         "8199496840.273538",
         "0.243",
         "8663812740.26",
         null,
         "2025-05-25 19:03:00+00:00"
        ],
        [
         "18",
         "4642",
         "Hedera",
         "HBAR",
         "hedera",
         "342",
         "2019-09-17 00:00:00+00:00",
         "['dag', 'marketplace', 'enterprise-solutions', 'payments', 'dcg-portfolio', 'hedera-hashgraph-ecosystem', 'real-world-assets', 'layer-1', 'made-in-america']",
         "50000000000.0",
         "42239760469.01716",
         "50000000000.0",
         "False",
         null,
         "19",
         null,
         null,
         null,
         "2025-05-25 19:03:00+00:00",
         "0.1843111407012561",
         "132446154.96646628",
         "-5.3583",
         "0.22770555",
         "-2.92346651",
         "-4.22854883",
         "-6.98374714",
         "-4.01867479",
         "-14.50898246",
         "7785258434.992376",
         "0.2307",
         "9215557035.06",
         null,
         "2025-05-25 19:03:00+00:00"
        ],
        [
         "19",
         "328",
         "Monero",
         "XMR",
         "monero",
         "318",
         "2014-05-21 00:00:00+00:00",
         "['mineable', 'pow', 'medium-of-exchange', 'privacy', 'ringct', 'boostvc-portfolio', 'electric-capital-portfolio', 'galaxy-digital-portfolio', 'layer-1', '2017-2018-alt-season']",
         null,
         "18446744.07370955",
         "18446744.07370955",
         "True",
         null,
         "20",
         null,
         null,
         null,
         "2025-05-25 19:03:00+00:00",
         "409.0798059722394",
         "111530257.61065264",
         "-9.3847",
         "-0.62990452",
         "1.6719208",
         "20.16287266",
         "77.87976624",
         "84.96357032",
         "74.9444604",
         "7546190486.49266",
         "0.2236",
         "7546190486.49",
         null,
         "2025-05-25 19:03:00+00:00"
        ],
        [
         "20",
         "11419",
         "Toncoin",
         "TON",
         "toncoin",
         "737",
         "2021-08-26 13:40:22+00:00",
         "['pos', 'layer-1', 'ftx-bankruptcy-estate', 'dwf-labs-portfolio', 'toncoin-ecosystem', 'cmc-crypto-yearbook-2024-2025']",
         null,
         "2491318668.913328",
         "5130802549.217214",
         "True",
         null,
         "21",
         null,
         null,
         null,
         "2025-05-25 19:03:00+00:00",
         "2.950599754044532",
         "136612455.58910444",
         "8.0639",
         "0.44608506",
         "-1.99846546",
         "-5.32034288",
         "-8.52450398",
         "-18.29963097",
         "-17.87770466",
         "7350884251.742216",
         "0.2179",
         "15138944739.77",
         null,
         "2025-05-25 19:03:00+00:00"
        ],
        [
         "21",
         "2",
         "Litecoin",
         "LTC",
         "litecoin",
         "1371",
         "2013-04-28 00:00:00+00:00",
         "['mineable', 'pow', 'scrypt', 'medium-of-exchange', 'layer-1', '2017-2018-alt-season', 'made-in-america']",
         "84000000.0",
         "75893201.98347135",
         "84000000.0",
         "False",
         null,
         "22",
         null,
         null,
         null,
         "2025-05-25 19:03:00+00:00",
         "94.37108442516788",
         "373063401.0225059",
         "-6.4702",
         "-0.25469142",
         "-2.24286523",
         "-4.49449927",
         "8.70314428",
         "2.79836676",
         "-23.61174138",
         "7162123771.678492",
         "0.2123",
         "7927171091.71",
         null,
         "2025-05-25 19:03:00+00:00"
        ],
        [
         "22",
         "6636",
         "Polkadot",
         "DOT",
         "polkadot-new",
         "912",
         "2020-08-19 00:00:00+00:00",
         "['defi', 'substrate', 'polkadot', 'polkadot-ecosystem', 'three-arrows-capital-portfolio', 'polychain-capital-portfolio', 'heco-ecosystem', 'arrington-xrp-capital-portfolio', 'blockchain-capital-portfolio', 'boostvc-portfolio', 'cms-holdings-portfolio', 'coinfund-portfolio', 'fabric-ventures-portfolio', 'fenbushi-capital-portfolio', 'hashkey-capital-portfolio', 'kenetic-capital-portfolio', '1confirmation-portfolio', 'placeholder-ventures-portfolio', 'pantera-capital-portfolio', 'exnetwork-capital-portfolio', 'web3', 'spartan-group', 'osmosis-ecosystem']",
         null,
         "1581007767.8150673",
         "1581007767.8150673",
         "True",
         null,
         "23",
         null,
         null,
         null,
         "2025-05-25 19:03:00+00:00",
         "4.420469171386827",
         "166546018.973398",
         "-6.6909",
         "0.10031596",
         "-3.32440782",
         "-5.68371133",
         "3.22522872",
         "-4.93098516",
         "-4.99754642",
         "6988796097.349607",
         "0.2071",
         "6988796097.35",
         null,
         "2025-05-25 19:03:00+00:00"
        ],
        [
         "23",
         "11092",
         "Bitget Token",
         "BGB",
         "bitget-token-new",
         "31",
         "2021-07-29 00:00:00+00:00",
         "['centralized-exchange', 'ethereum-ecosystem']",
         null,
         "1169993089.2",
         "1169993089.2",
         "False",
         "{'id': 1027, 'name': 'Ethereum', 'symbol': 'ETH', 'slug': 'ethereum', 'token_address': '0x54D2252757e1672EEaD234D27B1270728fF90581'}",
         "24",
         "1169993089.2",
         "6227584414.813653",
         null,
         "2025-05-25 19:03:00+00:00",
         "5.322753161791627",
         "112945356.8437512",
         "29.9182",
         "0.1688162",
         "-6.29557627",
         "3.10750786",
         "19.8456788",
         "6.54576312",
         "10.44820269",
         "6227584414.813653",
         "0.1846",
         "6227584414.81",
         null,
         "2025-05-25 19:03:00+00:00"
        ],
        [
         "24",
         "35697",
         "Pi",
         "PI",
         "pi",
         "54",
         "2025-02-11 07:16:10+00:00",
         "['layer-1', 'mobile-mining']",
         "100000000000.0",
         "7242931232.691251",
         "100000000000.0",
         "False",
         null,
         "25",
         "7242931232.691251",
         "5582682000.612584",
         null,
         "2025-05-25 19:03:00+00:00",
         "0.7707766125701888",
         "86128367.01976675",
         "-47.3562",
         "0.05039007",
         "0.23569344",
         "4.83918708",
         "19.49878158",
         "-6.48544713",
         "-51.0387298",
         "5582682000.612584",
         "0.1655",
         "77077661257.02",
         null,
         "2025-05-25 19:03:00+00:00"
        ],
        [
         "25",
         "24478",
         "Pepe",
         "PEPE",
         "pepe",
         "575",
         "2023-04-17 06:18:08+00:00",
         "['memes', 'ethereum-ecosystem']",
         "420690000000000.0",
         "420689899653543.6",
         "420689899653543.6",
         "False",
         "{'id': 1027, 'name': 'Ethereum', 'symbol': 'ETH', 'slug': 'ethereum', 'token_address': '0x6982508145454ce325ddbe47a25d4ec3d2311933'}",
         "26",
         null,
         null,
         null,
         "2025-05-25 19:02:00+00:00",
         "1.295895156756291e-05",
         "1257550419.10751",
         "-5.3887",
         "0.08395084",
         "-6.25965739",
         "-2.58261808",
         "47.88608848",
         "51.59675452",
         "50.51301179",
         "5451700034.573172",
         "0.1616",
         "5451701334.96",
         null,
         "2025-05-25 19:02:00+00:00"
        ],
        [
         "26",
         "4943",
         "Dai",
         "DAI",
         "multi-collateral-dai",
         "3519",
         "2019-11-22 00:00:00+00:00",
         "['defi', 'stablecoin', 'asset-backed-stablecoin', 'usd-stablecoin']",
         null,
         "5365382702.664872",
         "5365382702.664872",
         "True",
         "{'id': 1027, 'name': 'Ethereum', 'symbol': 'ETH', 'slug': 'ethereum', 'token_address': '0x6b175474e89094c44da98b954eedeac495271d0f'}",
         "27",
         null,
         null,
         null,
         "2025-05-25 19:03:00+00:00",
         "0.9998402344115772",
         "18924869917.09425",
         "-2.0022",
         "0.00146382",
         "-0.0046169",
         "-0.00217264",
         "-0.01246195",
         "-0.00742857",
         "-0.03529195",
         "5364525499.140267",
         "0.159",
         "5364525499.14",
         null,
         "2025-05-25 19:03:00+00:00"
        ],
        [
         "27",
         "29470",
         "Ethena USDe",
         "USDe",
         "ethena-usde",
         "153",
         "2024-02-20 11:05:01+00:00",
         "['stablecoin', 'asset-backed-stablecoin', 'binance-labs-portfolio', 'dragonfly-capital-portfolio', 'usd-stablecoin', 'eigenlayer-ecosystem', 'binance-ecosystem']",
         null,
         "4996928694.033327",
         "4996928694.033327",
         "True",
         "{'id': 1027, 'name': 'Ethereum', 'symbol': 'ETH', 'slug': 'ethereum', 'token_address': '0x4c9edd5852cd905f086c759e8383e09bff1e68b3'}",
         "28",
         null,
         null,
         null,
         "2025-05-25 19:03:00+00:00",
         "1.000651606671343",
         "72620813.39516506",
         "-36.8624",
         "-0.00157095",
         "-0.00550434",
         "0.02478243",
         "0.09296821",
         "0.10319828",
         "0.008025",
         "5000184726.106584",
         "0.1482",
         "5000184726.11",
         null,
         "2025-05-25 19:03:00+00:00"
        ],
        [
         "28",
         "7278",
         "Aave",
         "AAVE",
         "aave",
         "1083",
         "2020-10-02 00:00:00+00:00",
         "['defi', 'dao', 'ethereum-ecosystem', 'yield-farming', 'three-arrows-capital-portfolio', 'governance', 'heco-ecosystem', 'avalanche-ecosystem', 'solana-ecosystem', 'lending-borowing', 'blockchain-capital-portfolio', 'defiance-capital-portfolio', 'framework-ventures-portfolio', 'alameda-research-portfolio', 'pantera-capital-portfolio', 'parafi-capital', 'polygon-ecosystem', 'fantom-ecosystem', 'near-protocol-ecosystem', 'optimism-ecosystem', 'standard-crypto-portfolio', 'gnosis-chain-ecosystem', 'sora-ecosystem', 'made-in-america', 'world-liberty-financial-portfolio']",
         null,
         "15139464.32730875",
         "16000000.0",
         "False",
         "{'id': 1027, 'name': 'Ethereum', 'symbol': 'ETH', 'slug': 'ethereum', 'token_address': '0x7Fc66500c84A76Ad7e9c93437bFc5Ac33E2DDaE9'}",
         "29",
         null,
         null,
         "0.16123993",
         "2025-05-25 19:03:00+00:00",
         "263.0495742983208",
         "502345763.1443476",
         "-22.6607",
         "-0.18711063",
         "-1.65966683",
         "14.29322904",
         "57.25554838",
         "48.59996297",
         "15.29241233",
         "3982429646.4031806",
         "0.118",
         "4208793188.77",
         "24698781205.46761",
         "2025-05-25 19:03:00+00:00"
        ],
        [
         "29",
         "7083",
         "Uniswap",
         "UNI",
         "uniswap",
         "1238",
         "2020-09-17 00:00:00+00:00",
         "['decentralized-exchange-dex-token', 'defi', 'dao', 'ethereum-ecosystem', 'yield-farming', 'amm', 'coinbase-ventures-portfolio', 'three-arrows-capital-portfolio', 'governance', 'heco-ecosystem', 'avalanche-ecosystem', 'solana-ecosystem', 'blockchain-capital-portfolio', 'defiance-capital-portfolio', 'alameda-research-portfolio', 'a16z-portfolio', 'pantera-capital-portfolio', 'parafi-capital', 'paradigm-portfolio', 'polygon-ecosystem', 'terra-ecosystem', 'near-protocol-ecosystem', 'arbitrum-ecosystem', 'cmc-crypto-awards-2024', 'gnosis-chain-ecosystem', 'sora-ecosystem', 'hoo-smart-chain-ecosystem', 'made-in-america']",
         null,
         "628688836.71",
         "1000000000.0",
         "False",
         "{'id': 1027, 'name': 'Ethereum', 'symbol': 'ETH', 'slug': 'ethereum', 'token_address': '0x1f9840a85d5af5bf1d1762f925bdaddc4201f984'}",
         "30",
         null,
         null,
         null,
         "2025-05-25 19:03:00+00:00",
         "6.028133362285152",
         "177227339.994652",
         "-11.9189",
         "-0.03635751",
         "-2.54397834",
         "0.50243464",
         "2.69618668",
         "-10.41351847",
         "-27.16308569",
         "3789820151.0677934",
         "0.1123",
         "6028133362.29",
         null,
         "2025-05-25 19:03:00+00:00"
        ],
        [
         "30",
         "22974",
         "Bittensor",
         "TAO",
         "bittensor",
         "153",
         "2023-03-06 05:20:00+00:00",
         "['ai-big-data', 'distributed-computing', 'oracles', 'dao', 'polychain-capital-portfolio', 'dcg-portfolio', 'open-source', 'generative-ai', 'layer-1', 'depin', 'cmc-crypto-yearbook-2024-2025']",
         "21000000.0",
         "8723713.0",
         "8723713.0",
         "False",
         null,
         "31",
         null,
         null,
         null,
         "2025-05-25 19:03:00+00:00",
         "418.9981829242869",
         "85737193.18201856",
         "-27.8838",
         "1.03797879",
         "-4.56589185",
         "0.07147394",
         "17.6677615",
         "62.33621709",
         "-0.52275268",
         "3655219895.35298",
         "0.1083",
         "8798961841.41",
         null,
         "2025-05-25 19:03:00+00:00"
        ],
        [
         "31",
         "6535",
         "NEAR Protocol",
         "NEAR",
         "near-protocol",
         "518",
         "2020-08-11 00:00:00+00:00",
         "['platform', 'ai-big-data', 'staking', 'coinbase-ventures-portfolio', 'three-arrows-capital-portfolio', 'arrington-xrp-capital-portfolio', 'coinfund-portfolio', 'electric-capital-portfolio', 'fabric-ventures-portfolio', 'kenetic-capital-portfolio', 'near-protocol-ecosystem', 'cross-chain', 'circle-ventures-portfolio', 'layer-1', 'alleged-sec-securities', 'modular-blockchain', 'account-abstraction', 'data-availability', 'cmc-crypto-yearbook-2024-2025', 'made-in-america']",
         null,
         "1218629665.0",
         "1251990323.0",
         "False",
         null,
         "32",
         "1209202633.0",
         "3225804988.1944413",
         null,
         "2025-05-25 19:03:00+00:00",
         "2.667712507531764",
         "153898140.0540179",
         "-4.3702",
         "0.12927761",
         "-4.11924768",
         "-3.28312185",
         "2.01116125",
         "-9.88911614",
         "-18.60723915",
         "3250953599.369744",
         "0.0963",
         "3339950243.98",
         null,
         "2025-05-25 19:03:00+00:00"
        ],
        [
         "32",
         "21794",
         "Aptos",
         "APT",
         "aptos",
         "508",
         "2022-10-19 01:50:25+00:00",
         "['binance-labs-portfolio', 'circle-ventures-portfolio', 'layer-1', 'ftx-bankruptcy-estate', 'move-vm', 'made-in-america', 'binance-ecosystem']",
         null,
         "633091256.1582224",
         "1152487972.9146185",
         "True",
         null,
         "33",
         "130000000.0",
         "662232519.8540579",
         null,
         "2025-05-25 19:02:00+00:00",
         "5.094096306569676",
         "124956405.85719804",
         "4.7508",
         "0.16841316",
         "-4.97864188",
         "-0.06423113",
         "-7.96315754",
         "-12.81243282",
         "-10.05026899",
         "3225027829.7171574",
         "0.0956",
         "5870884726.19",
         null,
         "2025-05-25 19:02:00+00:00"
        ],
        [
         "33",
         "3897",
         "OKB",
         "OKB",
         "okb",
         "141",
         "2019-04-30 00:00:00+00:00",
         "['marketplace', 'centralized-exchange', 'discount-token', 'ethereum-ecosystem', 'alameda-research-portfolio', 'x1-ecosystem', 'okexchain-ecosystem']",
         null,
         "60000000.0",
         "300000000.0",
         "False",
         "{'id': 1027, 'name': 'Ethereum', 'symbol': 'ETH', 'slug': 'ethereum', 'token_address': '0x75231f58b43240c9718dd58b4967c5114342a86c'}",
         "34",
         "246638974.0",
         "12772290591.552143",
         null,
         "2025-05-25 19:03:00+00:00",
         "51.7853702697942",
         "2839161.33262981",
         "-25.7391",
         "-0.1256683",
         "-0.81389082",
         "-2.34175961",
         "-2.06659372",
         "4.00393661",
         "9.84742149",
         "3107122216.187652",
         "0.0921",
         "15535611080.94",
         null,
         "2025-05-25 19:03:00+00:00"
        ],
        [
         "34",
         "21159",
         "Ondo",
         "ONDO",
         "ondo-finance",
         "311",
         "2024-01-18 12:06:25+00:00",
         "['ethereum-ecosystem', 'real-world-assets', 'cmc-crypto-yearbook-2024-2025', 'made-in-america', 'world-liberty-financial-portfolio']",
         null,
         "3159107529.0",
         "10000000000.0",
         "False",
         "{'id': 1027, 'name': 'Ethereum', 'symbol': 'ETH', 'slug': 'ethereum', 'token_address': '0xfaba6f8e4a5e8ab82f62fe7c39859fa577269be3'}",
         "35",
         null,
         null,
         "2.28157223",
         "2025-05-25 19:02:00+00:00",
         "0.9172448323153938",
         "119307618.10629275",
         "-8.486",
         "0.21440474",
         "-3.37535368",
         "-1.94407555",
         "-7.96691214",
         "2.12814236",
         "-12.06887546",
         "2897675055.703903",
         "0.0859",
         "9172448323.15",
         "1270034329.30863",
         "2025-05-25 19:02:00+00:00"
        ],
        [
         "35",
         "1321",
         "Ethereum Classic",
         "ETC",
         "ethereum-classic",
         "628",
         "2016-07-24 00:00:00+00:00",
         "['mineable', 'pow', 'ethash', 'platform', 'smart-contracts', 'dcg-portfolio', 'layer-1', '2017-2018-alt-season', 'ethereum-classic-ecosystem']",
         "210700000.0",
         "152055454.0600431",
         "210700000.0",
         "False",
         null,
         "36",
         null,
         null,
         null,
         "2025-05-25 19:03:00+00:00",
         "17.99634231765035",
         "74479290.63362667",
         "-11.2592",
         "0.10098458",
         "-2.98294157",
         "-2.0006208",
         "4.88547746",
         "0.09349444",
         "-7.75918251",
         "2736442002.530292",
         "0.0811",
         "3791829326.33",
         null,
         "2025-05-25 19:03:00+00:00"
        ],
        [
         "36",
         "20396",
         "Kaspa",
         "KAS",
         "kaspa",
         "184",
         "2022-06-01 00:03:58+00:00",
         "['mineable', 'dag', 'pow', 'store-of-value', 'polychain-capital-portfolio', 'layer-1', 'made-in-america']",
         "28704026601.0",
         "26221214604.78283",
         "26221214604.78283",
         "False",
         null,
         "37",
         "26221197681.282825",
         "2719095105.6274595",
         null,
         "2025-05-25 19:03:00+00:00",
         "0.1036983565235237",
         "57545352.55639759",
         "4.6129",
         "0.21741159",
         "-4.4310298",
         "-6.63304852",
         "-0.11338588",
         "37.5711297",
         "6.23878802",
         "2719096860.5665965",
         "0.0806",
         "2976560384.13",
         null,
         "2025-05-25 19:03:00+00:00"
        ],
        [
         "37",
         "8916",
         "Internet Computer",
         "ICP",
         "internet-computer",
         "333",
         "2021-03-23 00:00:00+00:00",
         "['platform', 'ai-big-data', 'smart-contracts', 'polychain-capital-portfolio', 'electric-capital-portfolio', 'fenbushi-capital-portfolio', 'hashkey-capital-portfolio', 'a16z-portfolio', 'multicoin-capital-portfolio', 'exnetwork-capital-portfolio', 'icp-ecosystem', 'internet-computer-ecosystem', 'layer-1', 'alleged-sec-securities', 'depin']",
         null,
         "533566714.3358948",
         "533566714.3358948",
         "True",
         null,
         "38",
         "533566714.3358948",
         "2715160459.9568057",
         null,
         "2025-05-25 19:03:00+00:00",
         "5.088699101735079",
         "53097358.80439539",
         "-10.778",
         "0.17807117",
         "-3.00198608",
         "-2.73575504",
         "-3.36334003",
         "-16.15429598",
         "-23.92679943",
         "2715160459.9568057",
         "0.0805",
         "2715160459.96",
         null,
         "2025-05-25 19:03:00+00:00"
        ],
        [
         "38",
         "4269",
         "GateToken",
         "GT",
         "gatetoken",
         "36",
         "2019-08-20 00:00:00+00:00",
         "['marketplace', 'centralized-exchange', 'discount-token', 'ethereum-ecosystem', 'solana-ecosystem', 'ftx-bankruptcy-estate']",
         "300000000.0",
         "122910588.0",
         "133600000.0",
         "False",
         "{'id': 1027, 'name': 'Ethereum', 'symbol': 'ETH', 'slug': 'ethereum', 'token_address': '0xe66747a101bff2dba3697199dcce5b743b454759'}",
         "39",
         null,
         null,
         null,
         "2025-05-25 19:03:00+00:00",
         "21.174819403015658",
         "14279938.32181261",
         "30.922",
         "0.03753336",
         "-0.89653738",
         "-2.01643873",
         "-8.56662661",
         "-10.01906958",
         "-5.19415675",
         "2602609503.6184635",
         "0.0771",
         "6352445820.9",
         null,
         "2025-05-25 19:03:00+00:00"
        ],
        [
         "39",
         "3635",
         "Cronos",
         "CRO",
         "cronos",
         "284",
         "2018-12-14 00:00:00+00:00",
         "['medium-of-exchange', 'centralized-exchange', 'mobile', 'payments', 'layer-1']",
         "100000000000.0",
         "26571560696.0",
         "97543210869.0",
         "False",
         null,
         "40",
         "97393210558.0",
         "9209258601.824425",
         null,
         "2025-05-25 19:03:00+00:00",
         "0.0945575009701532",
         "19330301.63639361",
         "-1.5634",
         "0.29068955",
         "-1.5931598",
         "-3.97199745",
         "3.01604407",
         "-5.25098753",
         "15.61256507",
         "2512540376.2905054",
         "0.0745",
         "9455750097.02",
         null,
         "2025-05-25 19:03:00+00:00"
        ],
        [
         "40",
         "35336",
         "OFFICIAL TRUMP",
         "TRUMP",
         "official-trump",
         "584",
         "2025-01-18 04:19:35+00:00",
         "['memes', 'solana-ecosystem', 'political-memes', 'celebrity-memes', 'made-in-america', 'moonshot']",
         "999999993.45",
         "199999379.973501",
         "999999404.137507",
         "False",
         "{'id': 5426, 'name': 'Solana', 'symbol': 'SOL', 'slug': 'solana', 'token_address': '6p6xgHyF7AeE6TZkSmFsko444wqoP15icUSqi2jfGiPN'}",
         "41",
         "200000000.0",
         "2501531406.976001",
         null,
         "2025-05-25 19:02:00+00:00",
         "12.507657034880005",
         "513551277.4135456",
         "-44.0733",
         "0.19451252",
         "-3.87919369",
         "-4.06723472",
         "-8.13507105",
         "9.61985989",
         "-15.97248286",
         "2501523651.8971987",
         "0.0741",
         "12507656952.95",
         null,
         "2025-05-25 19:02:00+00:00"
        ],
        [
         "41",
         "27075",
         "Mantle",
         "MNT",
         "mantle",
         "136",
         "2023-07-17 11:00:31+00:00",
         "['ethereum-ecosystem', 'layer-2', 'dwf-labs-portfolio']",
         "6219316795.0",
         "3364694382.8368406",
         "6219316794.99",
         "False",
         "{'id': 1027, 'name': 'Ethereum', 'symbol': 'ETH', 'slug': 'ethereum', 'token_address': '0x3c3a81e81dc49a522a592e7622a7e711c06bf354'}",
         "42",
         "3364694382.8368406",
         "2470108632.597189",
         null,
         "2025-05-25 19:03:00+00:00",
         "0.7341257040155282",
         "180831724.4730012",
         "-16.6564",
         "0.0066213",
         "-0.36502407",
         "-0.0083386",
         "-1.11810567",
         "-12.76743784",
         "-13.92472123",
         "2470108632.597189",
         "0.0732",
         "4565760320.62",
         null,
         "2025-05-25 19:03:00+00:00"
        ],
        [
         "42",
         "28321",
         "POL (prev. MATIC)",
         "POL",
         "polygon-ecosystem-token",
         "534",
         "2023-10-30 14:43:57+00:00",
         "['ethereum-ecosystem', 'layer-2', 'polygon-ecosystem']",
         null,
         "10433733272.166595",
         "10433733272.166595",
         "False",
         "{'id': 1027, 'name': 'Ethereum', 'symbol': 'ETH', 'slug': 'ethereum', 'token_address': '0x455e53cbb86018ac2b8092fdcd39d8444affc3f6'}",
         "43",
         "62242397.94040099",
         "14279364.791737717",
         null,
         "2025-05-25 19:03:00+00:00",
         "0.2294154027518452",
         "93823738.094798",
         "2.0938",
         "-0.02027632",
         "-2.13766096",
         "-2.46001329",
         "-7.44640155",
         "-0.88860824",
         "-18.37246081",
         "2393659120.8394275",
         "0.0709",
         "2393659120.84",
         null,
         "2025-05-25 19:03:00+00:00"
        ],
        [
         "43",
         "5690",
         "Render",
         "RENDER",
         "render",
         "562",
         "2020-06-11 00:00:00+00:00",
         "['art', 'media', 'vr-ar', 'ai-big-data', 'distributed-computing', 'collectibles-nfts', 'defi', 'gaming', 'scaling', 'video', 'ethereum-ecosystem', 'solana-ecosystem', 'metaverse', 'alameda-research-portfolio', 'multicoin-capital-portfolio', 'polygon-ecosystem', 'web3', 'generative-ai', 'depin', 'cmc-crypto-yearbook-2024-2025', 'made-in-america']",
         "644168762.0",
         "517716590.0562826",
         "532476763.3362826",
         "False",
         "{'id': 1027, 'name': 'Ethereum', 'symbol': 'ETH', 'slug': 'ethereum', 'token_address': '0x6de037ef9ad2725eb40118bb1702ebb27e4aeb24'}",
         "44",
         null,
         null,
         null,
         "2025-05-25 19:03:00+00:00",
         "4.547190889000621",
         "54919140.62013502",
         "-24.142",
         "0.22467484",
         "-3.4484786",
         "-0.91218441",
         "2.25963442",
         "15.41435305",
         "15.45385408",
         "2354156161.388398",
         "0.0698",
         "2929158325.55",
         null,
         "2025-05-25 19:03:00+00:00"
        ],
        [
         "44",
         "3077",
         "VeChain",
         "VET",
         "vechain",
         "342",
         "2017-08-22 00:00:00+00:00",
         "['logistics', 'data-provenance', 'iot', 'smart-contracts', 'fenbushi-capital-portfolio', 'real-world-assets', 'layer-1']",
         "86712634466.0",
         "85985041177.0",
         "85985041177.0",
         "False",
         null,
         "45",
         "85985041177.0",
         "2283441307.446982",
         null,
         "2025-05-25 19:03:00+00:00",
         "0.0265562623008637",
         "45503445.49060654",
         "-14.2499",
         "-0.01655696",
         "-4.49626151",
         "-5.52394644",
         "-1.24838837",
         "1.29009625",
         "-11.08051071",
         "2283441307.446982",
         "0.0677",
         "2302763465.68",
         null,
         "2025-05-25 19:03:00+00:00"
        ],
        [
         "45",
         "36148",
         "World Liberty Financial USD",
         "USD1",
         "usd1",
         "78",
         "2025-04-13 05:37:56+00:00",
         "['stablecoin', 'usd-stablecoin', 'made-in-america', 'world-liberty-financial-portfolio']",
         null,
         "2151591831.0",
         "2151591831.0",
         "False",
         "{'id': 1027, 'name': 'Ethereum', 'symbol': 'ETH', 'slug': 'ethereum', 'token_address': '0x8d0D000Ee44948FC98c9B98A4FA4921476f08B0d'}",
         "46",
         null,
         null,
         null,
         "2025-05-25 19:03:00+00:00",
         "1.0000926735004898",
         "474351353.4836073",
         "25.4082",
         "0.00281956",
         "0.00418406",
         "-0.05934146",
         "-0.0635388",
         "-0.14630258",
         "-0.14630258",
         "2151791226.546604",
         "0.0638",
         "2151791226.55",
         null,
         "2025-05-25 19:03:00+00:00"
        ],
        [
         "46",
         "30171",
         "Ethena",
         "ENA",
         "ethena",
         "283",
         "2024-03-29 04:42:08+00:00",
         "['defi', 'ethereum-ecosystem', 'binance-labs-portfolio', 'okx-ventures-portfolio', 'cmc-crypto-yearbook-2024-2025', 'world-liberty-financial-portfolio', 'binance-ecosystem']",
         null,
         "5820312500.0",
         "15000000000.0",
         "False",
         "{'id': 1027, 'name': 'Ethereum', 'symbol': 'ETH', 'slug': 'ethereum', 'token_address': '0x57e114B691Db790C35207b2e685D4A43181e6061'}",
         "47",
         "1479139274.0",
         "526791348.37077546",
         "0.3944212",
         "2025-05-25 19:03:00+00:00",
         "0.3561472253699184",
         "143099338.2846471",
         "-32.3633",
         "-0.04766618",
         "-3.09021792",
         "-5.63109259",
         "-1.2292649",
         "-12.12099389",
         "-11.17740002",
         "2072888147.660853",
         "0.0614",
         "5342208380.55",
         "5255519154.92614",
         "2025-05-25 19:03:00+00:00"
        ],
        [
         "47",
         "13502",
         "Worldcoin",
         "WLD",
         "worldcoin-org",
         "429",
         "2021-10-28 15:31:43+00:00",
         "['defi', 'privacy', 'zero-knowledge-proofs', 'identity', 'ethereum-ecosystem', 'governance', 'blockchain-capital-portfolio', 'a16z-portfolio', 'token', 'optimism-ecosystem', 'world-chain-mainnet-ecosystem', 'made-in-america']",
         null,
         "1519883364.592777",
         "10000000000.0",
         "False",
         "{'id': 1027, 'name': 'Ethereum', 'symbol': 'ETH', 'slug': 'ethereum', 'token_address': '0x163f8c2467924be0ae7b5347228cabf260318753'}",
         "48",
         "1519883364.592777",
         "2029383707.9404075",
         null,
         "2025-05-25 19:03:00+00:00",
         "1.3352233172735204",
         "252308329.9231167",
         "-46.7131",
         "0.36952171",
         "-5.60129817",
         "19.34494262",
         "36.54774027",
         "42.61015281",
         "17.32015238",
         "2029383707.9404075",
         "0.0601",
         "13352233172.74",
         null,
         "2025-05-25 19:03:00+00:00"
        ],
        [
         "48",
         "3773",
         "Artificial Superintelligence Alliance",
         "FET",
         "artificial-superintelligence-alliance",
         "468",
         "2019-03-02 00:00:00+00:00",
         "['cosmos-ecosystem', 'ai-big-data', 'collectibles-nfts', 'iot', 'ethereum-ecosystem', 'binance-launchpad', 'web3', 'injective-ecosystem', 'osmosis-ecosystem', 'generative-ai', 'dwf-labs-portfolio', 'ai-agents', 'binance-ecosystem']",
         "2719493897.0",
         "2391024052.574692",
         "2714493896.672",
         "False",
         null,
         "49",
         "2389296911.0",
         "1912916740.27516",
         null,
         "2025-05-25 19:02:00+00:00",
         "0.8006190990614643",
         "128903015.0230719",
         "-29.6465",
         "-0.21016637",
         "-6.51603149",
         "5.63439533",
         "15.05237988",
         "46.15595381",
         "11.62453714",
         "1914299522.806641",
         "0.0567",
         "2177278753.72",
         null,
         "2025-05-25 19:02:00+00:00"
        ],
        [
         "49",
         "11841",
         "Arbitrum",
         "ARB",
         "arbitrum",
         "1146",
         "2023-03-23 12:50:11+00:00",
         "['scaling', 'dao', 'dapp', 'ethereum-ecosystem', 'polychain-capital-portfolio', 'layer-2', 'rollups', 'pantera-capital-portfolio', 'arbitrum-ecosystem', 'osmosis-ecosystem', 'modular-blockchain', 'egirl-capital-portfolio']",
         null,
         "4861797072.0",
         "10000000000.0",
         "False",
         "{'id': 11841, 'name': 'Arbitrum', 'symbol': 'ARB', 'slug': 'arbitrum', 'token_address': '0x912CE59144191C1204E64559FE8253a0e49E6548'}",
         "50",
         null,
         null,
         null,
         "2025-05-25 19:03:00+00:00",
         "0.3822882825195779",
         "113635173.63120222",
         "-16.2781",
         "0.06018518",
         "-3.16974815",
         "-0.5140011",
         "10.6605192",
         "0.13646167",
         "-12.89516942",
         "1858608052.6135929",
         "0.0551",
         "3822882825.2",
         null,
         "2025-05-25 19:03:00+00:00"
        ]
       ],
       "shape": {
        "columns": 31,
        "rows": 5000
       }
      },
      "text/html": [
       "<div>\n",
       "<style scoped>\n",
       "    .dataframe tbody tr th:only-of-type {\n",
       "        vertical-align: middle;\n",
       "    }\n",
       "\n",
       "    .dataframe tbody tr th {\n",
       "        vertical-align: top;\n",
       "    }\n",
       "\n",
       "    .dataframe thead th {\n",
       "        text-align: right;\n",
       "    }\n",
       "</style>\n",
       "<table border=\"1\" class=\"dataframe\">\n",
       "  <thead>\n",
       "    <tr style=\"text-align: right;\">\n",
       "      <th></th>\n",
       "      <th>id</th>\n",
       "      <th>name</th>\n",
       "      <th>symbol</th>\n",
       "      <th>slug</th>\n",
       "      <th>num_market_pairs</th>\n",
       "      <th>date_added</th>\n",
       "      <th>tags</th>\n",
       "      <th>max_supply</th>\n",
       "      <th>circulating_supply</th>\n",
       "      <th>total_supply</th>\n",
       "      <th>...</th>\n",
       "      <th>percent_change_24h</th>\n",
       "      <th>percent_change_7d</th>\n",
       "      <th>percent_change_30d</th>\n",
       "      <th>percent_change_60d</th>\n",
       "      <th>percent_change_90d</th>\n",
       "      <th>market_cap</th>\n",
       "      <th>market_cap_dominance</th>\n",
       "      <th>fully_diluted_market_cap</th>\n",
       "      <th>tvl</th>\n",
       "      <th>last_updated.1</th>\n",
       "    </tr>\n",
       "  </thead>\n",
       "  <tbody>\n",
       "    <tr>\n",
       "      <th>0</th>\n",
       "      <td>1</td>\n",
       "      <td>Bitcoin</td>\n",
       "      <td>BTC</td>\n",
       "      <td>bitcoin</td>\n",
       "      <td>12187</td>\n",
       "      <td>2010-07-13 00:00:00+00:00</td>\n",
       "      <td>[mineable, pow, sha-256, store-of-value, state...</td>\n",
       "      <td>2.100000e+07</td>\n",
       "      <td>1.986980e+07</td>\n",
       "      <td>1.986980e+07</td>\n",
       "      <td>...</td>\n",
       "      <td>-1.347124</td>\n",
       "      <td>2.810681</td>\n",
       "      <td>12.757457</td>\n",
       "      <td>24.610176</td>\n",
       "      <td>13.927691</td>\n",
       "      <td>2.135314e+12</td>\n",
       "      <td>63.2857</td>\n",
       "      <td>2.256771e+12</td>\n",
       "      <td>NaN</td>\n",
       "      <td>2025-05-25 19:03:00+00:00</td>\n",
       "    </tr>\n",
       "    <tr>\n",
       "      <th>1</th>\n",
       "      <td>1027</td>\n",
       "      <td>Ethereum</td>\n",
       "      <td>ETH</td>\n",
       "      <td>ethereum</td>\n",
       "      <td>10307</td>\n",
       "      <td>2015-08-07 00:00:00+00:00</td>\n",
       "      <td>[pos, smart-contracts, ethereum-ecosystem, coi...</td>\n",
       "      <td>NaN</td>\n",
       "      <td>1.207260e+08</td>\n",
       "      <td>1.207260e+08</td>\n",
       "      <td>...</td>\n",
       "      <td>-1.414252</td>\n",
       "      <td>2.107912</td>\n",
       "      <td>39.794561</td>\n",
       "      <td>26.117982</td>\n",
       "      <td>-5.148470</td>\n",
       "      <td>3.038475e+11</td>\n",
       "      <td>9.0051</td>\n",
       "      <td>3.038475e+11</td>\n",
       "      <td>NaN</td>\n",
       "      <td>2025-05-25 19:03:00+00:00</td>\n",
       "    </tr>\n",
       "    <tr>\n",
       "      <th>2</th>\n",
       "      <td>825</td>\n",
       "      <td>Tether USDt</td>\n",
       "      <td>USDT</td>\n",
       "      <td>tether</td>\n",
       "      <td>129577</td>\n",
       "      <td>2015-02-25 00:00:00+00:00</td>\n",
       "      <td>[stablecoin, asset-backed-stablecoin, usd-stab...</td>\n",
       "      <td>NaN</td>\n",
       "      <td>1.527330e+11</td>\n",
       "      <td>1.560047e+11</td>\n",
       "      <td>...</td>\n",
       "      <td>0.016888</td>\n",
       "      <td>0.004997</td>\n",
       "      <td>-0.014991</td>\n",
       "      <td>0.028329</td>\n",
       "      <td>-0.013933</td>\n",
       "      <td>1.527815e+11</td>\n",
       "      <td>4.5280</td>\n",
       "      <td>1.560543e+11</td>\n",
       "      <td>NaN</td>\n",
       "      <td>2025-05-25 19:02:00+00:00</td>\n",
       "    </tr>\n",
       "    <tr>\n",
       "      <th>3</th>\n",
       "      <td>52</td>\n",
       "      <td>XRP</td>\n",
       "      <td>XRP</td>\n",
       "      <td>xrp</td>\n",
       "      <td>1614</td>\n",
       "      <td>2013-08-04 00:00:00+00:00</td>\n",
       "      <td>[medium-of-exchange, enterprise-solutions, xrp...</td>\n",
       "      <td>1.000000e+11</td>\n",
       "      <td>5.868601e+10</td>\n",
       "      <td>9.998611e+10</td>\n",
       "      <td>...</td>\n",
       "      <td>-1.849945</td>\n",
       "      <td>-4.035482</td>\n",
       "      <td>4.963800</td>\n",
       "      <td>-2.963648</td>\n",
       "      <td>-5.979773</td>\n",
       "      <td>1.351875e+11</td>\n",
       "      <td>4.0065</td>\n",
       "      <td>2.303573e+11</td>\n",
       "      <td>NaN</td>\n",
       "      <td>2025-05-25 19:03:00+00:00</td>\n",
       "    </tr>\n",
       "    <tr>\n",
       "      <th>4</th>\n",
       "      <td>1839</td>\n",
       "      <td>BNB</td>\n",
       "      <td>BNB</td>\n",
       "      <td>bnb</td>\n",
       "      <td>2545</td>\n",
       "      <td>2017-07-25 00:00:00+00:00</td>\n",
       "      <td>[marketplace, centralized-exchange, payments, ...</td>\n",
       "      <td>NaN</td>\n",
       "      <td>1.408881e+08</td>\n",
       "      <td>1.408881e+08</td>\n",
       "      <td>...</td>\n",
       "      <td>-1.484729</td>\n",
       "      <td>3.304452</td>\n",
       "      <td>10.219053</td>\n",
       "      <td>7.628989</td>\n",
       "      <td>4.982428</td>\n",
       "      <td>9.374372e+10</td>\n",
       "      <td>2.7783</td>\n",
       "      <td>9.374372e+10</td>\n",
       "      <td>NaN</td>\n",
       "      <td>2025-05-25 19:02:00+00:00</td>\n",
       "    </tr>\n",
       "    <tr>\n",
       "      <th>...</th>\n",
       "      <td>...</td>\n",
       "      <td>...</td>\n",
       "      <td>...</td>\n",
       "      <td>...</td>\n",
       "      <td>...</td>\n",
       "      <td>...</td>\n",
       "      <td>...</td>\n",
       "      <td>...</td>\n",
       "      <td>...</td>\n",
       "      <td>...</td>\n",
       "      <td>...</td>\n",
       "      <td>...</td>\n",
       "      <td>...</td>\n",
       "      <td>...</td>\n",
       "      <td>...</td>\n",
       "      <td>...</td>\n",
       "      <td>...</td>\n",
       "      <td>...</td>\n",
       "      <td>...</td>\n",
       "      <td>...</td>\n",
       "      <td>...</td>\n",
       "    </tr>\n",
       "    <tr>\n",
       "      <th>4995</th>\n",
       "      <td>25712</td>\n",
       "      <td>AiAkita</td>\n",
       "      <td>AIAKITA</td>\n",
       "      <td>aiakita</td>\n",
       "      <td>3</td>\n",
       "      <td>2023-05-22 21:50:37+00:00</td>\n",
       "      <td>[arbitrum-ecosystem]</td>\n",
       "      <td>3.139079e+17</td>\n",
       "      <td>0.000000e+00</td>\n",
       "      <td>3.139079e+17</td>\n",
       "      <td>...</td>\n",
       "      <td>1.668990</td>\n",
       "      <td>-2.217800</td>\n",
       "      <td>-27.547658</td>\n",
       "      <td>-25.165560</td>\n",
       "      <td>-38.338088</td>\n",
       "      <td>0.000000e+00</td>\n",
       "      <td>0.0000</td>\n",
       "      <td>3.265387e+04</td>\n",
       "      <td>NaN</td>\n",
       "      <td>2025-05-25 19:02:00+00:00</td>\n",
       "    </tr>\n",
       "    <tr>\n",
       "      <th>4996</th>\n",
       "      <td>36565</td>\n",
       "      <td>$SEND</td>\n",
       "      <td>$SEND</td>\n",
       "      <td>send</td>\n",
       "      <td>1</td>\n",
       "      <td>2025-05-20 09:58:34+00:00</td>\n",
       "      <td>[memes, solana-ecosystem]</td>\n",
       "      <td>1.000000e+17</td>\n",
       "      <td>0.000000e+00</td>\n",
       "      <td>1.000000e+17</td>\n",
       "      <td>...</td>\n",
       "      <td>-36.750024</td>\n",
       "      <td>-96.188138</td>\n",
       "      <td>-96.188138</td>\n",
       "      <td>-96.188138</td>\n",
       "      <td>-96.188138</td>\n",
       "      <td>0.000000e+00</td>\n",
       "      <td>0.0000</td>\n",
       "      <td>2.566771e+04</td>\n",
       "      <td>NaN</td>\n",
       "      <td>2025-05-25 19:03:00+00:00</td>\n",
       "    </tr>\n",
       "    <tr>\n",
       "      <th>4997</th>\n",
       "      <td>35067</td>\n",
       "      <td>BCGame Coin</td>\n",
       "      <td>BC</td>\n",
       "      <td>bcgame-coin</td>\n",
       "      <td>2</td>\n",
       "      <td>2025-01-07 06:53:23+00:00</td>\n",
       "      <td>[solana-ecosystem]</td>\n",
       "      <td>NaN</td>\n",
       "      <td>0.000000e+00</td>\n",
       "      <td>1.000000e+10</td>\n",
       "      <td>...</td>\n",
       "      <td>-5.460912</td>\n",
       "      <td>102.958377</td>\n",
       "      <td>52.589969</td>\n",
       "      <td>74.535495</td>\n",
       "      <td>44.872525</td>\n",
       "      <td>0.000000e+00</td>\n",
       "      <td>0.0000</td>\n",
       "      <td>6.516923e+07</td>\n",
       "      <td>NaN</td>\n",
       "      <td>2025-05-25 19:03:00+00:00</td>\n",
       "    </tr>\n",
       "    <tr>\n",
       "      <th>4998</th>\n",
       "      <td>24439</td>\n",
       "      <td>Silver</td>\n",
       "      <td>KAG</td>\n",
       "      <td>silver</td>\n",
       "      <td>20</td>\n",
       "      <td>2023-04-18 14:22:39+00:00</td>\n",
       "      <td>[]</td>\n",
       "      <td>NaN</td>\n",
       "      <td>0.000000e+00</td>\n",
       "      <td>1.000000e+11</td>\n",
       "      <td>...</td>\n",
       "      <td>-0.673155</td>\n",
       "      <td>3.011141</td>\n",
       "      <td>-1.620380</td>\n",
       "      <td>-1.467504</td>\n",
       "      <td>2.186950</td>\n",
       "      <td>0.000000e+00</td>\n",
       "      <td>0.0000</td>\n",
       "      <td>3.320438e+12</td>\n",
       "      <td>NaN</td>\n",
       "      <td>2025-05-25 19:03:00+00:00</td>\n",
       "    </tr>\n",
       "    <tr>\n",
       "      <th>4999</th>\n",
       "      <td>34891</td>\n",
       "      <td>DORA AI by Virtuals</td>\n",
       "      <td>DORA</td>\n",
       "      <td>dora-ai-by-virtuals</td>\n",
       "      <td>10</td>\n",
       "      <td>2024-12-27 03:41:42+00:00</td>\n",
       "      <td>[ai-big-data, base-ecosystem, ai-agents, virtu...</td>\n",
       "      <td>1.000000e+09</td>\n",
       "      <td>0.000000e+00</td>\n",
       "      <td>1.000000e+09</td>\n",
       "      <td>...</td>\n",
       "      <td>-16.910973</td>\n",
       "      <td>-34.557707</td>\n",
       "      <td>31.708804</td>\n",
       "      <td>67.975332</td>\n",
       "      <td>39.396818</td>\n",
       "      <td>0.000000e+00</td>\n",
       "      <td>0.0000</td>\n",
       "      <td>1.301463e+06</td>\n",
       "      <td>NaN</td>\n",
       "      <td>2025-05-25 19:03:00+00:00</td>\n",
       "    </tr>\n",
       "  </tbody>\n",
       "</table>\n",
       "<p>5000 rows × 31 columns</p>\n",
       "</div>"
      ],
      "text/plain": [
       "         id                 name   symbol                 slug  \\\n",
       "0         1              Bitcoin      BTC              bitcoin   \n",
       "1      1027             Ethereum      ETH             ethereum   \n",
       "2       825          Tether USDt     USDT               tether   \n",
       "3        52                  XRP      XRP                  xrp   \n",
       "4      1839                  BNB      BNB                  bnb   \n",
       "...     ...                  ...      ...                  ...   \n",
       "4995  25712              AiAkita  AIAKITA              aiakita   \n",
       "4996  36565                $SEND    $SEND                 send   \n",
       "4997  35067          BCGame Coin       BC          bcgame-coin   \n",
       "4998  24439               Silver      KAG               silver   \n",
       "4999  34891  DORA AI by Virtuals     DORA  dora-ai-by-virtuals   \n",
       "\n",
       "      num_market_pairs                date_added  \\\n",
       "0                12187 2010-07-13 00:00:00+00:00   \n",
       "1                10307 2015-08-07 00:00:00+00:00   \n",
       "2               129577 2015-02-25 00:00:00+00:00   \n",
       "3                 1614 2013-08-04 00:00:00+00:00   \n",
       "4                 2545 2017-07-25 00:00:00+00:00   \n",
       "...                ...                       ...   \n",
       "4995                 3 2023-05-22 21:50:37+00:00   \n",
       "4996                 1 2025-05-20 09:58:34+00:00   \n",
       "4997                 2 2025-01-07 06:53:23+00:00   \n",
       "4998                20 2023-04-18 14:22:39+00:00   \n",
       "4999                10 2024-12-27 03:41:42+00:00   \n",
       "\n",
       "                                                   tags    max_supply  \\\n",
       "0     [mineable, pow, sha-256, store-of-value, state...  2.100000e+07   \n",
       "1     [pos, smart-contracts, ethereum-ecosystem, coi...           NaN   \n",
       "2     [stablecoin, asset-backed-stablecoin, usd-stab...           NaN   \n",
       "3     [medium-of-exchange, enterprise-solutions, xrp...  1.000000e+11   \n",
       "4     [marketplace, centralized-exchange, payments, ...           NaN   \n",
       "...                                                 ...           ...   \n",
       "4995                               [arbitrum-ecosystem]  3.139079e+17   \n",
       "4996                          [memes, solana-ecosystem]  1.000000e+17   \n",
       "4997                                 [solana-ecosystem]           NaN   \n",
       "4998                                                 []           NaN   \n",
       "4999  [ai-big-data, base-ecosystem, ai-agents, virtu...  1.000000e+09   \n",
       "\n",
       "      circulating_supply  total_supply  ...  percent_change_24h  \\\n",
       "0           1.986980e+07  1.986980e+07  ...           -1.347124   \n",
       "1           1.207260e+08  1.207260e+08  ...           -1.414252   \n",
       "2           1.527330e+11  1.560047e+11  ...            0.016888   \n",
       "3           5.868601e+10  9.998611e+10  ...           -1.849945   \n",
       "4           1.408881e+08  1.408881e+08  ...           -1.484729   \n",
       "...                  ...           ...  ...                 ...   \n",
       "4995        0.000000e+00  3.139079e+17  ...            1.668990   \n",
       "4996        0.000000e+00  1.000000e+17  ...          -36.750024   \n",
       "4997        0.000000e+00  1.000000e+10  ...           -5.460912   \n",
       "4998        0.000000e+00  1.000000e+11  ...           -0.673155   \n",
       "4999        0.000000e+00  1.000000e+09  ...          -16.910973   \n",
       "\n",
       "     percent_change_7d  percent_change_30d  percent_change_60d  \\\n",
       "0             2.810681           12.757457           24.610176   \n",
       "1             2.107912           39.794561           26.117982   \n",
       "2             0.004997           -0.014991            0.028329   \n",
       "3            -4.035482            4.963800           -2.963648   \n",
       "4             3.304452           10.219053            7.628989   \n",
       "...                ...                 ...                 ...   \n",
       "4995         -2.217800          -27.547658          -25.165560   \n",
       "4996        -96.188138          -96.188138          -96.188138   \n",
       "4997        102.958377           52.589969           74.535495   \n",
       "4998          3.011141           -1.620380           -1.467504   \n",
       "4999        -34.557707           31.708804           67.975332   \n",
       "\n",
       "      percent_change_90d    market_cap market_cap_dominance  \\\n",
       "0              13.927691  2.135314e+12              63.2857   \n",
       "1              -5.148470  3.038475e+11               9.0051   \n",
       "2              -0.013933  1.527815e+11               4.5280   \n",
       "3              -5.979773  1.351875e+11               4.0065   \n",
       "4               4.982428  9.374372e+10               2.7783   \n",
       "...                  ...           ...                  ...   \n",
       "4995          -38.338088  0.000000e+00               0.0000   \n",
       "4996          -96.188138  0.000000e+00               0.0000   \n",
       "4997           44.872525  0.000000e+00               0.0000   \n",
       "4998            2.186950  0.000000e+00               0.0000   \n",
       "4999           39.396818  0.000000e+00               0.0000   \n",
       "\n",
       "      fully_diluted_market_cap  tvl            last_updated.1  \n",
       "0                 2.256771e+12  NaN 2025-05-25 19:03:00+00:00  \n",
       "1                 3.038475e+11  NaN 2025-05-25 19:03:00+00:00  \n",
       "2                 1.560543e+11  NaN 2025-05-25 19:02:00+00:00  \n",
       "3                 2.303573e+11  NaN 2025-05-25 19:03:00+00:00  \n",
       "4                 9.374372e+10  NaN 2025-05-25 19:02:00+00:00  \n",
       "...                        ...  ...                       ...  \n",
       "4995              3.265387e+04  NaN 2025-05-25 19:02:00+00:00  \n",
       "4996              2.566771e+04  NaN 2025-05-25 19:03:00+00:00  \n",
       "4997              6.516923e+07  NaN 2025-05-25 19:03:00+00:00  \n",
       "4998              3.320438e+12  NaN 2025-05-25 19:03:00+00:00  \n",
       "4999              1.301463e+06  NaN 2025-05-25 19:03:00+00:00  \n",
       "\n",
       "[5000 rows x 31 columns]"
      ]
     },
     "execution_count": 10,
     "metadata": {},
     "output_type": "execute_result"
    }
   ],
   "source": [
    "# drop duplicates\n",
    "listings_df.drop_duplicates(subset=[\"id\"])"
   ]
  },
  {
   "cell_type": "code",
   "execution_count": 11,
   "id": "bb6bbe69",
   "metadata": {},
   "outputs": [
    {
     "data": {
      "application/vnd.microsoft.datawrangler.viewer.v0+json": {
       "columns": [
        {
         "name": "index",
         "rawType": "object",
         "type": "string"
        },
        {
         "name": "0",
         "rawType": "bool",
         "type": "boolean"
        }
       ],
       "ref": "aa6b04ae-2796-494b-a08f-d42f34eeedb3",
       "rows": [
        [
         "id",
         "False"
        ],
        [
         "name",
         "False"
        ],
        [
         "symbol",
         "False"
        ],
        [
         "slug",
         "False"
        ],
        [
         "num_market_pairs",
         "False"
        ],
        [
         "date_added",
         "False"
        ],
        [
         "tags",
         "False"
        ],
        [
         "max_supply",
         "True"
        ],
        [
         "circulating_supply",
         "False"
        ],
        [
         "total_supply",
         "False"
        ],
        [
         "infinite_supply",
         "False"
        ],
        [
         "platform",
         "True"
        ],
        [
         "cmc_rank",
         "False"
        ],
        [
         "self_reported_circulating_supply",
         "True"
        ],
        [
         "self_reported_market_cap",
         "True"
        ],
        [
         "tvl_ratio",
         "True"
        ],
        [
         "last_updated",
         "False"
        ],
        [
         "price",
         "False"
        ],
        [
         "volume_24h",
         "False"
        ],
        [
         "volume_change_24h",
         "False"
        ],
        [
         "percent_change_1h",
         "False"
        ],
        [
         "percent_change_24h",
         "False"
        ],
        [
         "percent_change_7d",
         "False"
        ],
        [
         "percent_change_30d",
         "False"
        ],
        [
         "percent_change_60d",
         "False"
        ],
        [
         "percent_change_90d",
         "False"
        ],
        [
         "market_cap",
         "False"
        ],
        [
         "market_cap_dominance",
         "False"
        ],
        [
         "fully_diluted_market_cap",
         "False"
        ],
        [
         "tvl",
         "True"
        ],
        [
         "last_updated.1",
         "False"
        ]
       ],
       "shape": {
        "columns": 1,
        "rows": 31
       }
      },
      "text/plain": [
       "id                                  False\n",
       "name                                False\n",
       "symbol                              False\n",
       "slug                                False\n",
       "num_market_pairs                    False\n",
       "date_added                          False\n",
       "tags                                False\n",
       "max_supply                           True\n",
       "circulating_supply                  False\n",
       "total_supply                        False\n",
       "infinite_supply                     False\n",
       "platform                             True\n",
       "cmc_rank                            False\n",
       "self_reported_circulating_supply     True\n",
       "self_reported_market_cap             True\n",
       "tvl_ratio                            True\n",
       "last_updated                        False\n",
       "price                               False\n",
       "volume_24h                          False\n",
       "volume_change_24h                   False\n",
       "percent_change_1h                   False\n",
       "percent_change_24h                  False\n",
       "percent_change_7d                   False\n",
       "percent_change_30d                  False\n",
       "percent_change_60d                  False\n",
       "percent_change_90d                  False\n",
       "market_cap                          False\n",
       "market_cap_dominance                False\n",
       "fully_diluted_market_cap            False\n",
       "tvl                                  True\n",
       "last_updated.1                      False\n",
       "dtype: bool"
      ]
     },
     "execution_count": 11,
     "metadata": {},
     "output_type": "execute_result"
    }
   ],
   "source": [
    "# check for null values\n",
    "listings_df.isnull().any()"
   ]
  },
  {
   "cell_type": "code",
   "execution_count": 12,
   "id": "cfee197c",
   "metadata": {},
   "outputs": [
    {
     "data": {
      "application/vnd.microsoft.datawrangler.viewer.v0+json": {
       "columns": [
        {
         "name": "index",
         "rawType": "int64",
         "type": "integer"
        },
        {
         "name": "id",
         "rawType": "int64",
         "type": "integer"
        },
        {
         "name": "name",
         "rawType": "object",
         "type": "string"
        },
        {
         "name": "symbol",
         "rawType": "object",
         "type": "string"
        },
        {
         "name": "slug",
         "rawType": "object",
         "type": "string"
        },
        {
         "name": "num_market_pairs",
         "rawType": "int64",
         "type": "integer"
        },
        {
         "name": "date_added",
         "rawType": "datetime64[ns, UTC]",
         "type": "unknown"
        },
        {
         "name": "tags",
         "rawType": "object",
         "type": "unknown"
        },
        {
         "name": "max_supply",
         "rawType": "float64",
         "type": "float"
        },
        {
         "name": "circulating_supply",
         "rawType": "float64",
         "type": "float"
        },
        {
         "name": "total_supply",
         "rawType": "float64",
         "type": "float"
        },
        {
         "name": "infinite_supply",
         "rawType": "bool",
         "type": "boolean"
        },
        {
         "name": "cmc_rank",
         "rawType": "int64",
         "type": "integer"
        },
        {
         "name": "self_reported_circulating_supply",
         "rawType": "float64",
         "type": "float"
        },
        {
         "name": "self_reported_market_cap",
         "rawType": "float64",
         "type": "float"
        },
        {
         "name": "tvl_ratio",
         "rawType": "float64",
         "type": "float"
        },
        {
         "name": "last_updated",
         "rawType": "datetime64[ns, UTC]",
         "type": "unknown"
        },
        {
         "name": "price",
         "rawType": "float64",
         "type": "float"
        },
        {
         "name": "volume_24h",
         "rawType": "float64",
         "type": "float"
        },
        {
         "name": "volume_change_24h",
         "rawType": "float64",
         "type": "float"
        },
        {
         "name": "percent_change_1h",
         "rawType": "float64",
         "type": "float"
        },
        {
         "name": "percent_change_24h",
         "rawType": "float64",
         "type": "float"
        },
        {
         "name": "percent_change_7d",
         "rawType": "float64",
         "type": "float"
        },
        {
         "name": "percent_change_30d",
         "rawType": "float64",
         "type": "float"
        },
        {
         "name": "percent_change_60d",
         "rawType": "float64",
         "type": "float"
        },
        {
         "name": "percent_change_90d",
         "rawType": "float64",
         "type": "float"
        },
        {
         "name": "market_cap",
         "rawType": "float64",
         "type": "float"
        },
        {
         "name": "market_cap_dominance",
         "rawType": "float64",
         "type": "float"
        },
        {
         "name": "fully_diluted_market_cap",
         "rawType": "float64",
         "type": "float"
        },
        {
         "name": "tvl",
         "rawType": "float64",
         "type": "float"
        },
        {
         "name": "last_updated.1",
         "rawType": "datetime64[ns, UTC]",
         "type": "unknown"
        }
       ],
       "ref": "b3f70209-091c-4f50-beff-311be31796f3",
       "rows": [
        [
         "0",
         "1",
         "Bitcoin",
         "BTC",
         "bitcoin",
         "12187",
         "2010-07-13 00:00:00+00:00",
         "['mineable', 'pow', 'sha-256', 'store-of-value', 'state-channel', 'coinbase-ventures-portfolio', 'three-arrows-capital-portfolio', 'polychain-capital-portfolio', 'binance-labs-portfolio', 'blockchain-capital-portfolio', 'boostvc-portfolio', 'cms-holdings-portfolio', 'dcg-portfolio', 'dragonfly-capital-portfolio', 'electric-capital-portfolio', 'fabric-ventures-portfolio', 'framework-ventures-portfolio', 'galaxy-digital-portfolio', 'huobi-capital-portfolio', 'alameda-research-portfolio', 'a16z-portfolio', '1confirmation-portfolio', 'winklevoss-capital-portfolio', 'usv-portfolio', 'placeholder-ventures-portfolio', 'pantera-capital-portfolio', 'multicoin-capital-portfolio', 'paradigm-portfolio', 'bitcoin-ecosystem', 'layer-1', 'ftx-bankruptcy-estate', '2017-2018-alt-season', 'us-strategic-crypto-reserve', 'binance-ecosystem']",
         "21000000.0",
         "19869796.0",
         "19869796.0",
         "False",
         "1",
         null,
         null,
         null,
         "2025-05-25 19:03:00+00:00",
         "107465.29983623025",
         "47238628334.36895",
         "-0.1173",
         "0.11322172",
         "-1.3471241",
         "2.81068093",
         "12.75745719",
         "24.61017595",
         "13.92769082",
         "2135313584824.728",
         "63.2857",
         "2256771296560.83",
         null,
         "2025-05-25 19:03:00+00:00"
        ],
        [
         "1",
         "1027",
         "Ethereum",
         "ETH",
         "ethereum",
         "10307",
         "2015-08-07 00:00:00+00:00",
         "['pos', 'smart-contracts', 'ethereum-ecosystem', 'coinbase-ventures-portfolio', 'three-arrows-capital-portfolio', 'polychain-capital-portfolio', 'binance-labs-portfolio', 'blockchain-capital-portfolio', 'boostvc-portfolio', 'cms-holdings-portfolio', 'dcg-portfolio', 'dragonfly-capital-portfolio', 'electric-capital-portfolio', 'fabric-ventures-portfolio', 'framework-ventures-portfolio', 'hashkey-capital-portfolio', 'kenetic-capital-portfolio', 'huobi-capital-portfolio', 'alameda-research-portfolio', 'a16z-portfolio', '1confirmation-portfolio', 'winklevoss-capital-portfolio', 'usv-portfolio', 'placeholder-ventures-portfolio', 'pantera-capital-portfolio', 'multicoin-capital-portfolio', 'paradigm-portfolio', 'ethereum-pow-ecosystem', 'layer-1', 'ftx-bankruptcy-estate', 'sora-ecosystem', 'rsk-rbtc-ecosystem', 'world-liberty-financial-portfolio', 'us-strategic-crypto-reserve', 'binance-ecosystem']",
         null,
         "120725964.145659",
         "120725964.145659",
         "True",
         "2",
         null,
         null,
         null,
         "2025-05-25 19:03:00+00:00",
         "2516.836597440719",
         "13920316017.671837",
         "6.7543",
         "0.14087323",
         "-1.4142518",
         "2.10791207",
         "39.79456122",
         "26.11798231",
         "-5.14846987",
         "303847524823.11066",
         "9.0051",
         "303847524823.11",
         null,
         "2025-05-25 19:03:00+00:00"
        ],
        [
         "2",
         "825",
         "Tether USDt",
         "USDT",
         "tether",
         "129577",
         "2015-02-25 00:00:00+00:00",
         "['stablecoin', 'asset-backed-stablecoin', 'usd-stablecoin', 'ethereum-pow-ecosystem', 'fiat-stablecoin', 'tron20-ecosystem', 'rsk-rbtc-ecosystem', 'world-liberty-financial-portfolio']",
         null,
         "152732954758.03772",
         "156004732006.21027",
         "True",
         "3",
         null,
         null,
         null,
         "2025-05-25 19:02:00+00:00",
         "1.000317604870807",
         "63506041478.09058",
         "-3.3543",
         "-0.00766236",
         "0.01688786",
         "0.00499677",
         "-0.0149913",
         "0.02832861",
         "-0.01393316",
         "152781463488.4016",
         "4.528",
         "156054279868.96",
         null,
         "2025-05-25 19:02:00+00:00"
        ],
        [
         "3",
         "52",
         "XRP",
         "XRP",
         "xrp",
         "1614",
         "2013-08-04 00:00:00+00:00",
         "['medium-of-exchange', 'enterprise-solutions', 'xrp-ecosystem', 'arrington-xrp-capital-portfolio', 'galaxy-digital-portfolio', 'a16z-portfolio', 'pantera-capital-portfolio', 'ftx-bankruptcy-estate', '2017-2018-alt-season', 'klaytn-ecosystem', 'made-in-america', 'us-strategic-crypto-reserve']",
         "100000000000.0",
         "58686007292.0",
         "99986107098.0",
         "False",
         "4",
         null,
         null,
         null,
         "2025-05-25 19:03:00+00:00",
         "2.3035726478165404",
         "1928875090.2928867",
         "0.8837",
         "0.20917353",
         "-1.84994509",
         "-4.03548235",
         "4.96380045",
         "-2.96364832",
         "-5.97977309",
         "135187481207.41324",
         "4.0065",
         "230357264781.65",
         null,
         "2025-05-25 19:03:00+00:00"
        ],
        [
         "4",
         "1839",
         "BNB",
         "BNB",
         "bnb",
         "2545",
         "2017-07-25 00:00:00+00:00",
         "['marketplace', 'centralized-exchange', 'payments', 'smart-contracts', 'alameda-research-portfolio', 'multicoin-capital-portfolio', 'bnb-chain-ecosystem', 'layer-1', 'alleged-sec-securities', 'celsius-bankruptcy-estate']",
         null,
         "140888117.54",
         "140888117.54",
         "False",
         "5",
         null,
         null,
         null,
         "2025-05-25 19:02:00+00:00",
         "665.3770273362973",
         "1565766508.092338",
         "0.7689",
         "0.03310514",
         "-1.48472887",
         "3.30445217",
         "10.2190531",
         "7.62898899",
         "4.98242821",
         "93743716835.77203",
         "2.7783",
         "93743716835.77",
         null,
         "2025-05-25 19:02:00+00:00"
        ],
        [
         "5",
         "5426",
         "Solana",
         "SOL",
         "solana",
         "924",
         "2020-04-10 00:00:00+00:00",
         "['pos', 'platform', 'solana-ecosystem', 'cms-holdings-portfolio', 'kenetic-capital-portfolio', 'alameda-research-portfolio', 'multicoin-capital-portfolio', 'okx-ventures-portfolio', 'layer-1', 'ftx-bankruptcy-estate', 'alleged-sec-securities', 'cmc-crypto-awards-2024', 'made-in-america', 'us-strategic-crypto-reserve']",
         null,
         "520283662.9822936",
         "601533250.7524525",
         "True",
         "6",
         null,
         null,
         null,
         "2025-05-25 19:03:00+00:00",
         "171.7325280660603",
         "3197686997.444094",
         "-8.6948",
         "0.42016527",
         "-2.95438088",
         "0.757709",
         "13.30274672",
         "24.98540913",
         "12.98533375",
         "89349628755.41939",
         "2.648",
         "103302825867.51",
         null,
         "2025-05-25 19:03:00+00:00"
        ],
        [
         "6",
         "3408",
         "USDC",
         "USDC",
         "usd-coin",
         "28186",
         "2018-10-08 00:00:00+00:00",
         "['medium-of-exchange', 'stablecoin', 'asset-backed-stablecoin', 'coinbase-ventures-portfolio', 'usd-stablecoin', 'ethereum-pow-ecosystem', 'fiat-stablecoin', 'tron20-ecosystem', 'made-in-america', 'world-liberty-financial-portfolio']",
         null,
         "61715633727.97176",
         "61715633727.97176",
         "False",
         "7",
         null,
         null,
         null,
         "2025-05-25 19:03:00+00:00",
         "0.9998611492269636",
         "8409247488.849723",
         "0.8972",
         "0.00492249",
         "0.00190848",
         "-0.00645667",
         "-0.00384904",
         "-0.00212414",
         "-0.0062483",
         "61707064464.52021",
         "1.8289",
         "61707064464.52",
         null,
         "2025-05-25 19:03:00+00:00"
        ],
        [
         "7",
         "74",
         "Dogecoin",
         "DOGE",
         "dogecoin",
         "1227",
         "2013-12-15 00:00:00+00:00",
         "['mineable', 'pow', 'scrypt', 'medium-of-exchange', 'memes', 'payments', 'doggone-doggerel', 'osmosis-ecosystem', 'ftx-bankruptcy-estate', 'animal-memes', 'made-in-america']",
         null,
         "149413056383.70514",
         "149413056383.70514",
         "True",
         "8",
         null,
         null,
         null,
         "2025-05-25 19:03:00+00:00",
         "0.2194167606028945",
         "1471128010.884547",
         "1.0046",
         "0.13684266",
         "-3.30234595",
         "-3.79825002",
         "20.7985467",
         "13.02521823",
         "-2.73479685",
         "32783728823.490208",
         "0.9716",
         "32783728823.49",
         null,
         "2025-05-25 19:03:00+00:00"
        ],
        [
         "8",
         "2010",
         "Cardano",
         "ADA",
         "cardano",
         "1521",
         "2017-10-01 00:00:00+00:00",
         "['dpos', 'pos', 'platform', 'research', 'smart-contracts', 'staking', 'cardano-ecosystem', 'cardano', 'layer-1', 'alleged-sec-securities', '2017-2018-alt-season', 'made-in-america', 'us-strategic-crypto-reserve']",
         "45000000000.0",
         "35334514487.46726",
         "44994495302.31451",
         "False",
         "9",
         null,
         null,
         null,
         "2025-05-25 19:03:00+00:00",
         "0.7467578562468912",
         "637671244.7176719",
         "-9.3536",
         "0.39984211",
         "-1.17667286",
         "0.06585497",
         "3.76361045",
         "2.89982037",
         "2.71607",
         "26386326290.18577",
         "0.782",
         "33604103531.11",
         null,
         "2025-05-25 19:03:00+00:00"
        ],
        [
         "9",
         "1958",
         "TRON",
         "TRX",
         "tron",
         "1178",
         "2017-09-13 00:00:00+00:00",
         "['media', 'payments', 'tron-ecosystem', 'layer-1', 'dwf-labs-portfolio', 'alleged-sec-securities', '2017-2018-alt-season', 'tron20-ecosystem', 'world-liberty-financial-portfolio']",
         null,
         "94877826109.37964",
         "94877826324.52847",
         "True",
         "10",
         null,
         null,
         null,
         "2025-05-25 19:03:00+00:00",
         "0.2711796000429752",
         "501882210.64286953",
         "-14.0024",
         "-0.0481828",
         "0.00391649",
         "2.11446438",
         "11.74014445",
         "17.93672187",
         "9.74736694",
         "25728930937.28853",
         "0.7625",
         "25728930995.63",
         null,
         "2025-05-25 19:03:00+00:00"
        ]
       ],
       "shape": {
        "columns": 30,
        "rows": 10
       }
      },
      "text/html": [
       "<div>\n",
       "<style scoped>\n",
       "    .dataframe tbody tr th:only-of-type {\n",
       "        vertical-align: middle;\n",
       "    }\n",
       "\n",
       "    .dataframe tbody tr th {\n",
       "        vertical-align: top;\n",
       "    }\n",
       "\n",
       "    .dataframe thead th {\n",
       "        text-align: right;\n",
       "    }\n",
       "</style>\n",
       "<table border=\"1\" class=\"dataframe\">\n",
       "  <thead>\n",
       "    <tr style=\"text-align: right;\">\n",
       "      <th></th>\n",
       "      <th>id</th>\n",
       "      <th>name</th>\n",
       "      <th>symbol</th>\n",
       "      <th>slug</th>\n",
       "      <th>num_market_pairs</th>\n",
       "      <th>date_added</th>\n",
       "      <th>tags</th>\n",
       "      <th>max_supply</th>\n",
       "      <th>circulating_supply</th>\n",
       "      <th>total_supply</th>\n",
       "      <th>...</th>\n",
       "      <th>percent_change_24h</th>\n",
       "      <th>percent_change_7d</th>\n",
       "      <th>percent_change_30d</th>\n",
       "      <th>percent_change_60d</th>\n",
       "      <th>percent_change_90d</th>\n",
       "      <th>market_cap</th>\n",
       "      <th>market_cap_dominance</th>\n",
       "      <th>fully_diluted_market_cap</th>\n",
       "      <th>tvl</th>\n",
       "      <th>last_updated.1</th>\n",
       "    </tr>\n",
       "  </thead>\n",
       "  <tbody>\n",
       "    <tr>\n",
       "      <th>0</th>\n",
       "      <td>1</td>\n",
       "      <td>Bitcoin</td>\n",
       "      <td>BTC</td>\n",
       "      <td>bitcoin</td>\n",
       "      <td>12187</td>\n",
       "      <td>2010-07-13 00:00:00+00:00</td>\n",
       "      <td>[mineable, pow, sha-256, store-of-value, state...</td>\n",
       "      <td>2.100000e+07</td>\n",
       "      <td>1.986980e+07</td>\n",
       "      <td>1.986980e+07</td>\n",
       "      <td>...</td>\n",
       "      <td>-1.347124</td>\n",
       "      <td>2.810681</td>\n",
       "      <td>12.757457</td>\n",
       "      <td>24.610176</td>\n",
       "      <td>13.927691</td>\n",
       "      <td>2.135314e+12</td>\n",
       "      <td>63.2857</td>\n",
       "      <td>2.256771e+12</td>\n",
       "      <td>NaN</td>\n",
       "      <td>2025-05-25 19:03:00+00:00</td>\n",
       "    </tr>\n",
       "    <tr>\n",
       "      <th>1</th>\n",
       "      <td>1027</td>\n",
       "      <td>Ethereum</td>\n",
       "      <td>ETH</td>\n",
       "      <td>ethereum</td>\n",
       "      <td>10307</td>\n",
       "      <td>2015-08-07 00:00:00+00:00</td>\n",
       "      <td>[pos, smart-contracts, ethereum-ecosystem, coi...</td>\n",
       "      <td>NaN</td>\n",
       "      <td>1.207260e+08</td>\n",
       "      <td>1.207260e+08</td>\n",
       "      <td>...</td>\n",
       "      <td>-1.414252</td>\n",
       "      <td>2.107912</td>\n",
       "      <td>39.794561</td>\n",
       "      <td>26.117982</td>\n",
       "      <td>-5.148470</td>\n",
       "      <td>3.038475e+11</td>\n",
       "      <td>9.0051</td>\n",
       "      <td>3.038475e+11</td>\n",
       "      <td>NaN</td>\n",
       "      <td>2025-05-25 19:03:00+00:00</td>\n",
       "    </tr>\n",
       "    <tr>\n",
       "      <th>2</th>\n",
       "      <td>825</td>\n",
       "      <td>Tether USDt</td>\n",
       "      <td>USDT</td>\n",
       "      <td>tether</td>\n",
       "      <td>129577</td>\n",
       "      <td>2015-02-25 00:00:00+00:00</td>\n",
       "      <td>[stablecoin, asset-backed-stablecoin, usd-stab...</td>\n",
       "      <td>NaN</td>\n",
       "      <td>1.527330e+11</td>\n",
       "      <td>1.560047e+11</td>\n",
       "      <td>...</td>\n",
       "      <td>0.016888</td>\n",
       "      <td>0.004997</td>\n",
       "      <td>-0.014991</td>\n",
       "      <td>0.028329</td>\n",
       "      <td>-0.013933</td>\n",
       "      <td>1.527815e+11</td>\n",
       "      <td>4.5280</td>\n",
       "      <td>1.560543e+11</td>\n",
       "      <td>NaN</td>\n",
       "      <td>2025-05-25 19:02:00+00:00</td>\n",
       "    </tr>\n",
       "    <tr>\n",
       "      <th>3</th>\n",
       "      <td>52</td>\n",
       "      <td>XRP</td>\n",
       "      <td>XRP</td>\n",
       "      <td>xrp</td>\n",
       "      <td>1614</td>\n",
       "      <td>2013-08-04 00:00:00+00:00</td>\n",
       "      <td>[medium-of-exchange, enterprise-solutions, xrp...</td>\n",
       "      <td>1.000000e+11</td>\n",
       "      <td>5.868601e+10</td>\n",
       "      <td>9.998611e+10</td>\n",
       "      <td>...</td>\n",
       "      <td>-1.849945</td>\n",
       "      <td>-4.035482</td>\n",
       "      <td>4.963800</td>\n",
       "      <td>-2.963648</td>\n",
       "      <td>-5.979773</td>\n",
       "      <td>1.351875e+11</td>\n",
       "      <td>4.0065</td>\n",
       "      <td>2.303573e+11</td>\n",
       "      <td>NaN</td>\n",
       "      <td>2025-05-25 19:03:00+00:00</td>\n",
       "    </tr>\n",
       "    <tr>\n",
       "      <th>4</th>\n",
       "      <td>1839</td>\n",
       "      <td>BNB</td>\n",
       "      <td>BNB</td>\n",
       "      <td>bnb</td>\n",
       "      <td>2545</td>\n",
       "      <td>2017-07-25 00:00:00+00:00</td>\n",
       "      <td>[marketplace, centralized-exchange, payments, ...</td>\n",
       "      <td>NaN</td>\n",
       "      <td>1.408881e+08</td>\n",
       "      <td>1.408881e+08</td>\n",
       "      <td>...</td>\n",
       "      <td>-1.484729</td>\n",
       "      <td>3.304452</td>\n",
       "      <td>10.219053</td>\n",
       "      <td>7.628989</td>\n",
       "      <td>4.982428</td>\n",
       "      <td>9.374372e+10</td>\n",
       "      <td>2.7783</td>\n",
       "      <td>9.374372e+10</td>\n",
       "      <td>NaN</td>\n",
       "      <td>2025-05-25 19:02:00+00:00</td>\n",
       "    </tr>\n",
       "    <tr>\n",
       "      <th>5</th>\n",
       "      <td>5426</td>\n",
       "      <td>Solana</td>\n",
       "      <td>SOL</td>\n",
       "      <td>solana</td>\n",
       "      <td>924</td>\n",
       "      <td>2020-04-10 00:00:00+00:00</td>\n",
       "      <td>[pos, platform, solana-ecosystem, cms-holdings...</td>\n",
       "      <td>NaN</td>\n",
       "      <td>5.202837e+08</td>\n",
       "      <td>6.015333e+08</td>\n",
       "      <td>...</td>\n",
       "      <td>-2.954381</td>\n",
       "      <td>0.757709</td>\n",
       "      <td>13.302747</td>\n",
       "      <td>24.985409</td>\n",
       "      <td>12.985334</td>\n",
       "      <td>8.934963e+10</td>\n",
       "      <td>2.6480</td>\n",
       "      <td>1.033028e+11</td>\n",
       "      <td>NaN</td>\n",
       "      <td>2025-05-25 19:03:00+00:00</td>\n",
       "    </tr>\n",
       "    <tr>\n",
       "      <th>6</th>\n",
       "      <td>3408</td>\n",
       "      <td>USDC</td>\n",
       "      <td>USDC</td>\n",
       "      <td>usd-coin</td>\n",
       "      <td>28186</td>\n",
       "      <td>2018-10-08 00:00:00+00:00</td>\n",
       "      <td>[medium-of-exchange, stablecoin, asset-backed-...</td>\n",
       "      <td>NaN</td>\n",
       "      <td>6.171563e+10</td>\n",
       "      <td>6.171563e+10</td>\n",
       "      <td>...</td>\n",
       "      <td>0.001908</td>\n",
       "      <td>-0.006457</td>\n",
       "      <td>-0.003849</td>\n",
       "      <td>-0.002124</td>\n",
       "      <td>-0.006248</td>\n",
       "      <td>6.170706e+10</td>\n",
       "      <td>1.8289</td>\n",
       "      <td>6.170706e+10</td>\n",
       "      <td>NaN</td>\n",
       "      <td>2025-05-25 19:03:00+00:00</td>\n",
       "    </tr>\n",
       "    <tr>\n",
       "      <th>7</th>\n",
       "      <td>74</td>\n",
       "      <td>Dogecoin</td>\n",
       "      <td>DOGE</td>\n",
       "      <td>dogecoin</td>\n",
       "      <td>1227</td>\n",
       "      <td>2013-12-15 00:00:00+00:00</td>\n",
       "      <td>[mineable, pow, scrypt, medium-of-exchange, me...</td>\n",
       "      <td>NaN</td>\n",
       "      <td>1.494131e+11</td>\n",
       "      <td>1.494131e+11</td>\n",
       "      <td>...</td>\n",
       "      <td>-3.302346</td>\n",
       "      <td>-3.798250</td>\n",
       "      <td>20.798547</td>\n",
       "      <td>13.025218</td>\n",
       "      <td>-2.734797</td>\n",
       "      <td>3.278373e+10</td>\n",
       "      <td>0.9716</td>\n",
       "      <td>3.278373e+10</td>\n",
       "      <td>NaN</td>\n",
       "      <td>2025-05-25 19:03:00+00:00</td>\n",
       "    </tr>\n",
       "    <tr>\n",
       "      <th>8</th>\n",
       "      <td>2010</td>\n",
       "      <td>Cardano</td>\n",
       "      <td>ADA</td>\n",
       "      <td>cardano</td>\n",
       "      <td>1521</td>\n",
       "      <td>2017-10-01 00:00:00+00:00</td>\n",
       "      <td>[dpos, pos, platform, research, smart-contract...</td>\n",
       "      <td>4.500000e+10</td>\n",
       "      <td>3.533451e+10</td>\n",
       "      <td>4.499450e+10</td>\n",
       "      <td>...</td>\n",
       "      <td>-1.176673</td>\n",
       "      <td>0.065855</td>\n",
       "      <td>3.763610</td>\n",
       "      <td>2.899820</td>\n",
       "      <td>2.716070</td>\n",
       "      <td>2.638633e+10</td>\n",
       "      <td>0.7820</td>\n",
       "      <td>3.360410e+10</td>\n",
       "      <td>NaN</td>\n",
       "      <td>2025-05-25 19:03:00+00:00</td>\n",
       "    </tr>\n",
       "    <tr>\n",
       "      <th>9</th>\n",
       "      <td>1958</td>\n",
       "      <td>TRON</td>\n",
       "      <td>TRX</td>\n",
       "      <td>tron</td>\n",
       "      <td>1178</td>\n",
       "      <td>2017-09-13 00:00:00+00:00</td>\n",
       "      <td>[media, payments, tron-ecosystem, layer-1, dwf...</td>\n",
       "      <td>NaN</td>\n",
       "      <td>9.487783e+10</td>\n",
       "      <td>9.487783e+10</td>\n",
       "      <td>...</td>\n",
       "      <td>0.003916</td>\n",
       "      <td>2.114464</td>\n",
       "      <td>11.740144</td>\n",
       "      <td>17.936722</td>\n",
       "      <td>9.747367</td>\n",
       "      <td>2.572893e+10</td>\n",
       "      <td>0.7625</td>\n",
       "      <td>2.572893e+10</td>\n",
       "      <td>NaN</td>\n",
       "      <td>2025-05-25 19:03:00+00:00</td>\n",
       "    </tr>\n",
       "  </tbody>\n",
       "</table>\n",
       "<p>10 rows × 30 columns</p>\n",
       "</div>"
      ],
      "text/plain": [
       "     id         name symbol      slug  num_market_pairs  \\\n",
       "0     1      Bitcoin    BTC   bitcoin             12187   \n",
       "1  1027     Ethereum    ETH  ethereum             10307   \n",
       "2   825  Tether USDt   USDT    tether            129577   \n",
       "3    52          XRP    XRP       xrp              1614   \n",
       "4  1839          BNB    BNB       bnb              2545   \n",
       "5  5426       Solana    SOL    solana               924   \n",
       "6  3408         USDC   USDC  usd-coin             28186   \n",
       "7    74     Dogecoin   DOGE  dogecoin              1227   \n",
       "8  2010      Cardano    ADA   cardano              1521   \n",
       "9  1958         TRON    TRX      tron              1178   \n",
       "\n",
       "                 date_added  \\\n",
       "0 2010-07-13 00:00:00+00:00   \n",
       "1 2015-08-07 00:00:00+00:00   \n",
       "2 2015-02-25 00:00:00+00:00   \n",
       "3 2013-08-04 00:00:00+00:00   \n",
       "4 2017-07-25 00:00:00+00:00   \n",
       "5 2020-04-10 00:00:00+00:00   \n",
       "6 2018-10-08 00:00:00+00:00   \n",
       "7 2013-12-15 00:00:00+00:00   \n",
       "8 2017-10-01 00:00:00+00:00   \n",
       "9 2017-09-13 00:00:00+00:00   \n",
       "\n",
       "                                                tags    max_supply  \\\n",
       "0  [mineable, pow, sha-256, store-of-value, state...  2.100000e+07   \n",
       "1  [pos, smart-contracts, ethereum-ecosystem, coi...           NaN   \n",
       "2  [stablecoin, asset-backed-stablecoin, usd-stab...           NaN   \n",
       "3  [medium-of-exchange, enterprise-solutions, xrp...  1.000000e+11   \n",
       "4  [marketplace, centralized-exchange, payments, ...           NaN   \n",
       "5  [pos, platform, solana-ecosystem, cms-holdings...           NaN   \n",
       "6  [medium-of-exchange, stablecoin, asset-backed-...           NaN   \n",
       "7  [mineable, pow, scrypt, medium-of-exchange, me...           NaN   \n",
       "8  [dpos, pos, platform, research, smart-contract...  4.500000e+10   \n",
       "9  [media, payments, tron-ecosystem, layer-1, dwf...           NaN   \n",
       "\n",
       "   circulating_supply  total_supply  ...  percent_change_24h  \\\n",
       "0        1.986980e+07  1.986980e+07  ...           -1.347124   \n",
       "1        1.207260e+08  1.207260e+08  ...           -1.414252   \n",
       "2        1.527330e+11  1.560047e+11  ...            0.016888   \n",
       "3        5.868601e+10  9.998611e+10  ...           -1.849945   \n",
       "4        1.408881e+08  1.408881e+08  ...           -1.484729   \n",
       "5        5.202837e+08  6.015333e+08  ...           -2.954381   \n",
       "6        6.171563e+10  6.171563e+10  ...            0.001908   \n",
       "7        1.494131e+11  1.494131e+11  ...           -3.302346   \n",
       "8        3.533451e+10  4.499450e+10  ...           -1.176673   \n",
       "9        9.487783e+10  9.487783e+10  ...            0.003916   \n",
       "\n",
       "   percent_change_7d  percent_change_30d  percent_change_60d  \\\n",
       "0           2.810681           12.757457           24.610176   \n",
       "1           2.107912           39.794561           26.117982   \n",
       "2           0.004997           -0.014991            0.028329   \n",
       "3          -4.035482            4.963800           -2.963648   \n",
       "4           3.304452           10.219053            7.628989   \n",
       "5           0.757709           13.302747           24.985409   \n",
       "6          -0.006457           -0.003849           -0.002124   \n",
       "7          -3.798250           20.798547           13.025218   \n",
       "8           0.065855            3.763610            2.899820   \n",
       "9           2.114464           11.740144           17.936722   \n",
       "\n",
       "   percent_change_90d    market_cap  market_cap_dominance  \\\n",
       "0           13.927691  2.135314e+12               63.2857   \n",
       "1           -5.148470  3.038475e+11                9.0051   \n",
       "2           -0.013933  1.527815e+11                4.5280   \n",
       "3           -5.979773  1.351875e+11                4.0065   \n",
       "4            4.982428  9.374372e+10                2.7783   \n",
       "5           12.985334  8.934963e+10                2.6480   \n",
       "6           -0.006248  6.170706e+10                1.8289   \n",
       "7           -2.734797  3.278373e+10                0.9716   \n",
       "8            2.716070  2.638633e+10                0.7820   \n",
       "9            9.747367  2.572893e+10                0.7625   \n",
       "\n",
       "   fully_diluted_market_cap  tvl            last_updated.1  \n",
       "0              2.256771e+12  NaN 2025-05-25 19:03:00+00:00  \n",
       "1              3.038475e+11  NaN 2025-05-25 19:03:00+00:00  \n",
       "2              1.560543e+11  NaN 2025-05-25 19:02:00+00:00  \n",
       "3              2.303573e+11  NaN 2025-05-25 19:03:00+00:00  \n",
       "4              9.374372e+10  NaN 2025-05-25 19:02:00+00:00  \n",
       "5              1.033028e+11  NaN 2025-05-25 19:03:00+00:00  \n",
       "6              6.170706e+10  NaN 2025-05-25 19:03:00+00:00  \n",
       "7              3.278373e+10  NaN 2025-05-25 19:03:00+00:00  \n",
       "8              3.360410e+10  NaN 2025-05-25 19:03:00+00:00  \n",
       "9              2.572893e+10  NaN 2025-05-25 19:03:00+00:00  \n",
       "\n",
       "[10 rows x 30 columns]"
      ]
     },
     "execution_count": 12,
     "metadata": {},
     "output_type": "execute_result"
    }
   ],
   "source": [
    "# drop columns\n",
    "listings_df = listings_df.drop(['platform'], axis=1)\n",
    "listings_df.head(10)\n"
   ]
  },
  {
   "cell_type": "code",
   "execution_count": 13,
   "id": "399fadac",
   "metadata": {},
   "outputs": [
    {
     "data": {
      "application/vnd.microsoft.datawrangler.viewer.v0+json": {
       "columns": [
        {
         "name": "index",
         "rawType": "int64",
         "type": "integer"
        },
        {
         "name": "id",
         "rawType": "int64",
         "type": "integer"
        },
        {
         "name": "name",
         "rawType": "object",
         "type": "string"
        },
        {
         "name": "symbol",
         "rawType": "object",
         "type": "string"
        },
        {
         "name": "slug",
         "rawType": "object",
         "type": "string"
        },
        {
         "name": "num_market_pairs",
         "rawType": "int64",
         "type": "integer"
        },
        {
         "name": "date_added",
         "rawType": "datetime64[ns, UTC]",
         "type": "unknown"
        },
        {
         "name": "tags",
         "rawType": "object",
         "type": "unknown"
        },
        {
         "name": "max_supply",
         "rawType": "float64",
         "type": "float"
        },
        {
         "name": "circulating_supply",
         "rawType": "float64",
         "type": "float"
        },
        {
         "name": "total_supply",
         "rawType": "float64",
         "type": "float"
        },
        {
         "name": "infinite_supply",
         "rawType": "bool",
         "type": "boolean"
        },
        {
         "name": "cmc_rank",
         "rawType": "int64",
         "type": "integer"
        },
        {
         "name": "self_reported_circulating_supply",
         "rawType": "float64",
         "type": "float"
        },
        {
         "name": "self_reported_market_cap",
         "rawType": "float64",
         "type": "float"
        },
        {
         "name": "tvl_ratio",
         "rawType": "float64",
         "type": "float"
        },
        {
         "name": "last_updated",
         "rawType": "datetime64[ns, UTC]",
         "type": "unknown"
        },
        {
         "name": "price",
         "rawType": "float64",
         "type": "float"
        },
        {
         "name": "volume_24h",
         "rawType": "float64",
         "type": "float"
        },
        {
         "name": "volume_change_24h",
         "rawType": "float64",
         "type": "float"
        },
        {
         "name": "percent_change_1h",
         "rawType": "float64",
         "type": "float"
        },
        {
         "name": "percent_change_24h",
         "rawType": "float64",
         "type": "float"
        },
        {
         "name": "percent_change_7d",
         "rawType": "float64",
         "type": "float"
        },
        {
         "name": "percent_change_30d",
         "rawType": "float64",
         "type": "float"
        },
        {
         "name": "percent_change_60d",
         "rawType": "float64",
         "type": "float"
        },
        {
         "name": "percent_change_90d",
         "rawType": "float64",
         "type": "float"
        },
        {
         "name": "market_cap",
         "rawType": "float64",
         "type": "float"
        },
        {
         "name": "market_cap_dominance",
         "rawType": "float64",
         "type": "float"
        },
        {
         "name": "fully_diluted_market_cap",
         "rawType": "float64",
         "type": "float"
        },
        {
         "name": "tvl",
         "rawType": "float64",
         "type": "float"
        },
        {
         "name": "last_updated.1",
         "rawType": "datetime64[ns, UTC]",
         "type": "unknown"
        }
       ],
       "ref": "b304bb24-f385-4808-8c6c-6be27cd0fe3d",
       "rows": [
        [
         "3265",
         "4077",
         "Maya Preferred PRA",
         "MPRA",
         "maya-preferred",
         "3",
         "2019-07-03 00:00:00+00:00",
         "['ethereum-ecosystem']",
         "200000000.0",
         "0.0",
         "200000000.0",
         "False",
         "3266",
         "1000000.0",
         "10204204709958.484",
         null,
         "2025-05-25 19:03:00+00:00",
         "10204204.709958484",
         "3385745.98970903",
         "0.2164",
         "0.01009874",
         "0.01197049",
         "9.71893858",
         "102.98894563",
         "1194.67579032",
         "1194.67579032",
         "0.0",
         "0.0",
         "2040840941991696.8",
         null,
         "2025-05-25 19:03:00+00:00"
        ],
        [
         "0",
         "1",
         "Bitcoin",
         "BTC",
         "bitcoin",
         "12187",
         "2010-07-13 00:00:00+00:00",
         "['mineable', 'pow', 'sha-256', 'store-of-value', 'state-channel', 'coinbase-ventures-portfolio', 'three-arrows-capital-portfolio', 'polychain-capital-portfolio', 'binance-labs-portfolio', 'blockchain-capital-portfolio', 'boostvc-portfolio', 'cms-holdings-portfolio', 'dcg-portfolio', 'dragonfly-capital-portfolio', 'electric-capital-portfolio', 'fabric-ventures-portfolio', 'framework-ventures-portfolio', 'galaxy-digital-portfolio', 'huobi-capital-portfolio', 'alameda-research-portfolio', 'a16z-portfolio', '1confirmation-portfolio', 'winklevoss-capital-portfolio', 'usv-portfolio', 'placeholder-ventures-portfolio', 'pantera-capital-portfolio', 'multicoin-capital-portfolio', 'paradigm-portfolio', 'bitcoin-ecosystem', 'layer-1', 'ftx-bankruptcy-estate', '2017-2018-alt-season', 'us-strategic-crypto-reserve', 'binance-ecosystem']",
         "21000000.0",
         "19869796.0",
         "19869796.0",
         "False",
         "1",
         null,
         null,
         null,
         "2025-05-25 19:03:00+00:00",
         "107465.29983623025",
         "47238628334.36895",
         "-0.1173",
         "0.11322172",
         "-1.3471241",
         "2.81068093",
         "12.75745719",
         "24.61017595",
         "13.92769082",
         "2135313584824.728",
         "63.2857",
         "2256771296560.83",
         null,
         "2025-05-25 19:03:00+00:00"
        ],
        [
         "4814",
         "9486",
         "Bitcoin TRC20",
         "BTCT",
         "bitcoin-trc20",
         "7",
         "2021-04-29 00:00:00+00:00",
         "['tron20-ecosystem']",
         "21000000.0",
         "0.0",
         "25000.0",
         "False",
         "4815",
         "25000.0",
         "2678489833.6844435",
         null,
         "2025-05-25 19:03:00+00:00",
         "107139.59334737774",
         "27724.21939299",
         "0.0",
         "0.13215273",
         "-1.68124085",
         "2.66482985",
         "12.75710825",
         "23.786072",
         "13.4145686",
         "0.0",
         "0.0",
         "2249931460294.93",
         null,
         "2025-05-25 19:03:00+00:00"
        ],
        [
         "3241",
         "31042",
         "Bitcoin Bridged ZED20",
         "BTC.z",
         "token-bitcoin-bridged-zed20",
         "6",
         "2024-05-02 13:01:00+00:00",
         "['bnb-chain-ecosystem']",
         "500000.0",
         "0.0",
         "500000.0",
         "False",
         "3242",
         "500000.0",
         "53333005474.02817",
         null,
         "2025-05-25 19:02:00+00:00",
         "106666.01094805634",
         "4840566.48906559",
         "1.568",
         "0.03987413",
         "-1.2465654",
         "2.66308413",
         "12.69643633",
         "24.16366872",
         "13.82447864",
         "0.0",
         "0.0",
         "53333005474.03",
         null,
         "2025-05-25 19:02:00+00:00"
        ],
        [
         "4702",
         "36175",
         "Universal BTC",
         "UNIBTC",
         "universal-btc",
         "24",
         "2025-04-01 04:54:23+00:00",
         "['ethereum-ecosystem', 'arbitrum-ecosystem', 'bnb-chain-ecosystem', 'optimism-ecosystem', 'zeta-ecosystem', 'corn-ecosystem']",
         null,
         "0.0",
         "114.76611597",
         "False",
         "4703",
         null,
         null,
         null,
         "2025-05-25 19:03:00+00:00",
         "105668.19277439568",
         "41825.69634374",
         "0.0",
         "0.09912979",
         "-1.29717412",
         "1.67289719",
         "13.15168874",
         "28.24848787",
         "28.24848787",
         "0.0",
         "0.0",
         "12127128.07",
         null,
         "2025-05-25 19:03:00+00:00"
        ],
        [
         "3314",
         "3759",
         "Jinbi Token",
         "JNB",
         "jinbi-token",
         "3",
         "2019-02-22 00:00:00+00:00",
         "['ethereum-ecosystem']",
         null,
         "0.0",
         "12500000.0",
         "False",
         "3315",
         null,
         null,
         null,
         "2025-05-25 19:03:00+00:00",
         "55563.49120962664",
         "2096464.98308956",
         "-0.8867",
         "-0.00168589",
         "0.00813988",
         "0.02477883",
         "42.80503225",
         "42.8762195",
         "79.84033691",
         "0.0",
         "0.0",
         "694543640120.33",
         null,
         "2025-05-25 19:03:00+00:00"
        ],
        [
         "3430",
         "21829",
         "Ten Best Coins",
         "TBC",
         "ten-best-coins",
         "2",
         "2022-09-15 04:59:24+00:00",
         "['ethereum-ecosystem']",
         "25000000.0",
         "0.0",
         "25000000.0",
         "False",
         "3431",
         "3009.0",
         "37480479.411517546",
         null,
         "2025-05-25 19:03:00+00:00",
         "12456.124762883865",
         "763286.65563684",
         "5.2774",
         "0.31787261",
         "-1.49325115",
         "-0.23784638",
         "10.88304778",
         "9.24391691",
         "2.35260006",
         "0.0",
         "0.0",
         "311403119072.1",
         null,
         "2025-05-25 19:03:00+00:00"
        ],
        [
         "208",
         "28293",
         "Ultima",
         "ULTIMA",
         "ultima",
         "19",
         "2023-10-26 20:59:30+00:00",
         "['web3']",
         "100000.0",
         "37409.0",
         "100000.0",
         "False",
         "209",
         null,
         null,
         null,
         "2025-05-25 19:03:00+00:00",
         "11468.417886842244",
         "24394340.59131351",
         "2.8526",
         "0.33069647",
         "-18.98246597",
         "-21.46797895",
         "-41.23444047",
         "-46.35875036",
         "-39.29325151",
         "429022044.7288816",
         "0.0",
         "1146841788.68",
         null,
         "2025-05-25 19:03:00+00:00"
        ],
        [
         "243",
         "5864",
         "yearn.finance",
         "YFI",
         "yearn-finance",
         "534",
         "2020-07-18 00:00:00+00:00",
         "['defi', 'dao', 'ethereum-ecosystem', 'yield-farming', 'yield-aggregator', 'yearn-partnerships', 'three-arrows-capital-portfolio', 'polychain-capital-portfolio', 'governance', 'heco-ecosystem', 'avalanche-ecosystem', 'solana-ecosystem', 'blockchain-capital-portfolio', 'framework-ventures-portfolio', 'alameda-research-portfolio', 'parafi-capital', 'fantom-ecosystem', 'near-protocol-ecosystem', 'arbitrum-ecosystem', 'standard-crypto-portfolio', 'gnosis-chain-ecosystem']",
         null,
         "33813.28710244",
         "36646.35801769",
         "False",
         "244",
         null,
         null,
         "0.61217685",
         "2025-05-25 19:02:00+00:00",
         "5495.292064662067",
         "14587454.53681465",
         "1.4825",
         "0.15659902",
         "-2.36262406",
         "-1.53134741",
         "4.00019973",
         "3.35996903",
         "-4.76419385",
         "185813888.29417875",
         "0.0055",
         "201382440.41",
         "303529752.85005",
         "2025-05-25 19:02:00+00:00"
        ],
        [
         "4805",
         "16388",
         "Governance OHM",
         "GOHM",
         "governance-ohm",
         "54",
         "2021-12-23 02:41:20+00:00",
         "['ethereum-ecosystem', 'solana-ecosystem', 'terra-ecosystem', 'arbitrum-ecosystem']",
         null,
         "0.0",
         "113153.19050536",
         "False",
         "4806",
         null,
         null,
         null,
         "2025-05-25 19:03:00+00:00",
         "5161.027695993944",
         "28728.12110471",
         "0.0",
         "-0.01127461",
         "-0.16747281",
         "-6.18105162",
         "-11.30336616",
         "-24.16113545",
         "-12.29335734",
         "0.0",
         "0.0",
         "583986750.09",
         null,
         "2025-05-25 19:03:00+00:00"
        ]
       ],
       "shape": {
        "columns": 30,
        "rows": 10
       }
      },
      "text/html": [
       "<div>\n",
       "<style scoped>\n",
       "    .dataframe tbody tr th:only-of-type {\n",
       "        vertical-align: middle;\n",
       "    }\n",
       "\n",
       "    .dataframe tbody tr th {\n",
       "        vertical-align: top;\n",
       "    }\n",
       "\n",
       "    .dataframe thead th {\n",
       "        text-align: right;\n",
       "    }\n",
       "</style>\n",
       "<table border=\"1\" class=\"dataframe\">\n",
       "  <thead>\n",
       "    <tr style=\"text-align: right;\">\n",
       "      <th></th>\n",
       "      <th>id</th>\n",
       "      <th>name</th>\n",
       "      <th>symbol</th>\n",
       "      <th>slug</th>\n",
       "      <th>num_market_pairs</th>\n",
       "      <th>date_added</th>\n",
       "      <th>tags</th>\n",
       "      <th>max_supply</th>\n",
       "      <th>circulating_supply</th>\n",
       "      <th>total_supply</th>\n",
       "      <th>...</th>\n",
       "      <th>percent_change_24h</th>\n",
       "      <th>percent_change_7d</th>\n",
       "      <th>percent_change_30d</th>\n",
       "      <th>percent_change_60d</th>\n",
       "      <th>percent_change_90d</th>\n",
       "      <th>market_cap</th>\n",
       "      <th>market_cap_dominance</th>\n",
       "      <th>fully_diluted_market_cap</th>\n",
       "      <th>tvl</th>\n",
       "      <th>last_updated.1</th>\n",
       "    </tr>\n",
       "  </thead>\n",
       "  <tbody>\n",
       "    <tr>\n",
       "      <th>3265</th>\n",
       "      <td>4077</td>\n",
       "      <td>Maya Preferred PRA</td>\n",
       "      <td>MPRA</td>\n",
       "      <td>maya-preferred</td>\n",
       "      <td>3</td>\n",
       "      <td>2019-07-03 00:00:00+00:00</td>\n",
       "      <td>[ethereum-ecosystem]</td>\n",
       "      <td>200000000.0</td>\n",
       "      <td>0.000000e+00</td>\n",
       "      <td>2.000000e+08</td>\n",
       "      <td>...</td>\n",
       "      <td>0.011970</td>\n",
       "      <td>9.718939</td>\n",
       "      <td>102.988946</td>\n",
       "      <td>1194.675790</td>\n",
       "      <td>1194.675790</td>\n",
       "      <td>0.000000e+00</td>\n",
       "      <td>0.0000</td>\n",
       "      <td>2.040841e+15</td>\n",
       "      <td>NaN</td>\n",
       "      <td>2025-05-25 19:03:00+00:00</td>\n",
       "    </tr>\n",
       "    <tr>\n",
       "      <th>0</th>\n",
       "      <td>1</td>\n",
       "      <td>Bitcoin</td>\n",
       "      <td>BTC</td>\n",
       "      <td>bitcoin</td>\n",
       "      <td>12187</td>\n",
       "      <td>2010-07-13 00:00:00+00:00</td>\n",
       "      <td>[mineable, pow, sha-256, store-of-value, state...</td>\n",
       "      <td>21000000.0</td>\n",
       "      <td>1.986980e+07</td>\n",
       "      <td>1.986980e+07</td>\n",
       "      <td>...</td>\n",
       "      <td>-1.347124</td>\n",
       "      <td>2.810681</td>\n",
       "      <td>12.757457</td>\n",
       "      <td>24.610176</td>\n",
       "      <td>13.927691</td>\n",
       "      <td>2.135314e+12</td>\n",
       "      <td>63.2857</td>\n",
       "      <td>2.256771e+12</td>\n",
       "      <td>NaN</td>\n",
       "      <td>2025-05-25 19:03:00+00:00</td>\n",
       "    </tr>\n",
       "    <tr>\n",
       "      <th>4814</th>\n",
       "      <td>9486</td>\n",
       "      <td>Bitcoin TRC20</td>\n",
       "      <td>BTCT</td>\n",
       "      <td>bitcoin-trc20</td>\n",
       "      <td>7</td>\n",
       "      <td>2021-04-29 00:00:00+00:00</td>\n",
       "      <td>[tron20-ecosystem]</td>\n",
       "      <td>21000000.0</td>\n",
       "      <td>0.000000e+00</td>\n",
       "      <td>2.500000e+04</td>\n",
       "      <td>...</td>\n",
       "      <td>-1.681241</td>\n",
       "      <td>2.664830</td>\n",
       "      <td>12.757108</td>\n",
       "      <td>23.786072</td>\n",
       "      <td>13.414569</td>\n",
       "      <td>0.000000e+00</td>\n",
       "      <td>0.0000</td>\n",
       "      <td>2.249931e+12</td>\n",
       "      <td>NaN</td>\n",
       "      <td>2025-05-25 19:03:00+00:00</td>\n",
       "    </tr>\n",
       "    <tr>\n",
       "      <th>3241</th>\n",
       "      <td>31042</td>\n",
       "      <td>Bitcoin Bridged ZED20</td>\n",
       "      <td>BTC.z</td>\n",
       "      <td>token-bitcoin-bridged-zed20</td>\n",
       "      <td>6</td>\n",
       "      <td>2024-05-02 13:01:00+00:00</td>\n",
       "      <td>[bnb-chain-ecosystem]</td>\n",
       "      <td>500000.0</td>\n",
       "      <td>0.000000e+00</td>\n",
       "      <td>5.000000e+05</td>\n",
       "      <td>...</td>\n",
       "      <td>-1.246565</td>\n",
       "      <td>2.663084</td>\n",
       "      <td>12.696436</td>\n",
       "      <td>24.163669</td>\n",
       "      <td>13.824479</td>\n",
       "      <td>0.000000e+00</td>\n",
       "      <td>0.0000</td>\n",
       "      <td>5.333301e+10</td>\n",
       "      <td>NaN</td>\n",
       "      <td>2025-05-25 19:02:00+00:00</td>\n",
       "    </tr>\n",
       "    <tr>\n",
       "      <th>4702</th>\n",
       "      <td>36175</td>\n",
       "      <td>Universal BTC</td>\n",
       "      <td>UNIBTC</td>\n",
       "      <td>universal-btc</td>\n",
       "      <td>24</td>\n",
       "      <td>2025-04-01 04:54:23+00:00</td>\n",
       "      <td>[ethereum-ecosystem, arbitrum-ecosystem, bnb-c...</td>\n",
       "      <td>NaN</td>\n",
       "      <td>0.000000e+00</td>\n",
       "      <td>1.147661e+02</td>\n",
       "      <td>...</td>\n",
       "      <td>-1.297174</td>\n",
       "      <td>1.672897</td>\n",
       "      <td>13.151689</td>\n",
       "      <td>28.248488</td>\n",
       "      <td>28.248488</td>\n",
       "      <td>0.000000e+00</td>\n",
       "      <td>0.0000</td>\n",
       "      <td>1.212713e+07</td>\n",
       "      <td>NaN</td>\n",
       "      <td>2025-05-25 19:03:00+00:00</td>\n",
       "    </tr>\n",
       "    <tr>\n",
       "      <th>3314</th>\n",
       "      <td>3759</td>\n",
       "      <td>Jinbi Token</td>\n",
       "      <td>JNB</td>\n",
       "      <td>jinbi-token</td>\n",
       "      <td>3</td>\n",
       "      <td>2019-02-22 00:00:00+00:00</td>\n",
       "      <td>[ethereum-ecosystem]</td>\n",
       "      <td>NaN</td>\n",
       "      <td>0.000000e+00</td>\n",
       "      <td>1.250000e+07</td>\n",
       "      <td>...</td>\n",
       "      <td>0.008140</td>\n",
       "      <td>0.024779</td>\n",
       "      <td>42.805032</td>\n",
       "      <td>42.876219</td>\n",
       "      <td>79.840337</td>\n",
       "      <td>0.000000e+00</td>\n",
       "      <td>0.0000</td>\n",
       "      <td>6.945436e+11</td>\n",
       "      <td>NaN</td>\n",
       "      <td>2025-05-25 19:03:00+00:00</td>\n",
       "    </tr>\n",
       "    <tr>\n",
       "      <th>3430</th>\n",
       "      <td>21829</td>\n",
       "      <td>Ten Best Coins</td>\n",
       "      <td>TBC</td>\n",
       "      <td>ten-best-coins</td>\n",
       "      <td>2</td>\n",
       "      <td>2022-09-15 04:59:24+00:00</td>\n",
       "      <td>[ethereum-ecosystem]</td>\n",
       "      <td>25000000.0</td>\n",
       "      <td>0.000000e+00</td>\n",
       "      <td>2.500000e+07</td>\n",
       "      <td>...</td>\n",
       "      <td>-1.493251</td>\n",
       "      <td>-0.237846</td>\n",
       "      <td>10.883048</td>\n",
       "      <td>9.243917</td>\n",
       "      <td>2.352600</td>\n",
       "      <td>0.000000e+00</td>\n",
       "      <td>0.0000</td>\n",
       "      <td>3.114031e+11</td>\n",
       "      <td>NaN</td>\n",
       "      <td>2025-05-25 19:03:00+00:00</td>\n",
       "    </tr>\n",
       "    <tr>\n",
       "      <th>208</th>\n",
       "      <td>28293</td>\n",
       "      <td>Ultima</td>\n",
       "      <td>ULTIMA</td>\n",
       "      <td>ultima</td>\n",
       "      <td>19</td>\n",
       "      <td>2023-10-26 20:59:30+00:00</td>\n",
       "      <td>[web3]</td>\n",
       "      <td>100000.0</td>\n",
       "      <td>3.740900e+04</td>\n",
       "      <td>1.000000e+05</td>\n",
       "      <td>...</td>\n",
       "      <td>-18.982466</td>\n",
       "      <td>-21.467979</td>\n",
       "      <td>-41.234440</td>\n",
       "      <td>-46.358750</td>\n",
       "      <td>-39.293252</td>\n",
       "      <td>4.290220e+08</td>\n",
       "      <td>0.0000</td>\n",
       "      <td>1.146842e+09</td>\n",
       "      <td>NaN</td>\n",
       "      <td>2025-05-25 19:03:00+00:00</td>\n",
       "    </tr>\n",
       "    <tr>\n",
       "      <th>243</th>\n",
       "      <td>5864</td>\n",
       "      <td>yearn.finance</td>\n",
       "      <td>YFI</td>\n",
       "      <td>yearn-finance</td>\n",
       "      <td>534</td>\n",
       "      <td>2020-07-18 00:00:00+00:00</td>\n",
       "      <td>[defi, dao, ethereum-ecosystem, yield-farming,...</td>\n",
       "      <td>NaN</td>\n",
       "      <td>3.381329e+04</td>\n",
       "      <td>3.664636e+04</td>\n",
       "      <td>...</td>\n",
       "      <td>-2.362624</td>\n",
       "      <td>-1.531347</td>\n",
       "      <td>4.000200</td>\n",
       "      <td>3.359969</td>\n",
       "      <td>-4.764194</td>\n",
       "      <td>1.858139e+08</td>\n",
       "      <td>0.0055</td>\n",
       "      <td>2.013824e+08</td>\n",
       "      <td>3.035298e+08</td>\n",
       "      <td>2025-05-25 19:02:00+00:00</td>\n",
       "    </tr>\n",
       "    <tr>\n",
       "      <th>4805</th>\n",
       "      <td>16388</td>\n",
       "      <td>Governance OHM</td>\n",
       "      <td>GOHM</td>\n",
       "      <td>governance-ohm</td>\n",
       "      <td>54</td>\n",
       "      <td>2021-12-23 02:41:20+00:00</td>\n",
       "      <td>[ethereum-ecosystem, solana-ecosystem, terra-e...</td>\n",
       "      <td>NaN</td>\n",
       "      <td>0.000000e+00</td>\n",
       "      <td>1.131532e+05</td>\n",
       "      <td>...</td>\n",
       "      <td>-0.167473</td>\n",
       "      <td>-6.181052</td>\n",
       "      <td>-11.303366</td>\n",
       "      <td>-24.161135</td>\n",
       "      <td>-12.293357</td>\n",
       "      <td>0.000000e+00</td>\n",
       "      <td>0.0000</td>\n",
       "      <td>5.839868e+08</td>\n",
       "      <td>NaN</td>\n",
       "      <td>2025-05-25 19:03:00+00:00</td>\n",
       "    </tr>\n",
       "  </tbody>\n",
       "</table>\n",
       "<p>10 rows × 30 columns</p>\n",
       "</div>"
      ],
      "text/plain": [
       "         id                   name  symbol                         slug  \\\n",
       "3265   4077     Maya Preferred PRA    MPRA               maya-preferred   \n",
       "0         1                Bitcoin     BTC                      bitcoin   \n",
       "4814   9486          Bitcoin TRC20    BTCT                bitcoin-trc20   \n",
       "3241  31042  Bitcoin Bridged ZED20   BTC.z  token-bitcoin-bridged-zed20   \n",
       "4702  36175          Universal BTC  UNIBTC                universal-btc   \n",
       "3314   3759            Jinbi Token     JNB                  jinbi-token   \n",
       "3430  21829         Ten Best Coins     TBC               ten-best-coins   \n",
       "208   28293                 Ultima  ULTIMA                       ultima   \n",
       "243    5864          yearn.finance     YFI                yearn-finance   \n",
       "4805  16388         Governance OHM    GOHM               governance-ohm   \n",
       "\n",
       "      num_market_pairs                date_added  \\\n",
       "3265                 3 2019-07-03 00:00:00+00:00   \n",
       "0                12187 2010-07-13 00:00:00+00:00   \n",
       "4814                 7 2021-04-29 00:00:00+00:00   \n",
       "3241                 6 2024-05-02 13:01:00+00:00   \n",
       "4702                24 2025-04-01 04:54:23+00:00   \n",
       "3314                 3 2019-02-22 00:00:00+00:00   \n",
       "3430                 2 2022-09-15 04:59:24+00:00   \n",
       "208                 19 2023-10-26 20:59:30+00:00   \n",
       "243                534 2020-07-18 00:00:00+00:00   \n",
       "4805                54 2021-12-23 02:41:20+00:00   \n",
       "\n",
       "                                                   tags   max_supply  \\\n",
       "3265                               [ethereum-ecosystem]  200000000.0   \n",
       "0     [mineable, pow, sha-256, store-of-value, state...   21000000.0   \n",
       "4814                                 [tron20-ecosystem]   21000000.0   \n",
       "3241                              [bnb-chain-ecosystem]     500000.0   \n",
       "4702  [ethereum-ecosystem, arbitrum-ecosystem, bnb-c...          NaN   \n",
       "3314                               [ethereum-ecosystem]          NaN   \n",
       "3430                               [ethereum-ecosystem]   25000000.0   \n",
       "208                                              [web3]     100000.0   \n",
       "243   [defi, dao, ethereum-ecosystem, yield-farming,...          NaN   \n",
       "4805  [ethereum-ecosystem, solana-ecosystem, terra-e...          NaN   \n",
       "\n",
       "      circulating_supply  total_supply  ...  percent_change_24h  \\\n",
       "3265        0.000000e+00  2.000000e+08  ...            0.011970   \n",
       "0           1.986980e+07  1.986980e+07  ...           -1.347124   \n",
       "4814        0.000000e+00  2.500000e+04  ...           -1.681241   \n",
       "3241        0.000000e+00  5.000000e+05  ...           -1.246565   \n",
       "4702        0.000000e+00  1.147661e+02  ...           -1.297174   \n",
       "3314        0.000000e+00  1.250000e+07  ...            0.008140   \n",
       "3430        0.000000e+00  2.500000e+07  ...           -1.493251   \n",
       "208         3.740900e+04  1.000000e+05  ...          -18.982466   \n",
       "243         3.381329e+04  3.664636e+04  ...           -2.362624   \n",
       "4805        0.000000e+00  1.131532e+05  ...           -0.167473   \n",
       "\n",
       "      percent_change_7d  percent_change_30d  percent_change_60d  \\\n",
       "3265           9.718939          102.988946         1194.675790   \n",
       "0              2.810681           12.757457           24.610176   \n",
       "4814           2.664830           12.757108           23.786072   \n",
       "3241           2.663084           12.696436           24.163669   \n",
       "4702           1.672897           13.151689           28.248488   \n",
       "3314           0.024779           42.805032           42.876219   \n",
       "3430          -0.237846           10.883048            9.243917   \n",
       "208          -21.467979          -41.234440          -46.358750   \n",
       "243           -1.531347            4.000200            3.359969   \n",
       "4805          -6.181052          -11.303366          -24.161135   \n",
       "\n",
       "      percent_change_90d    market_cap  market_cap_dominance  \\\n",
       "3265         1194.675790  0.000000e+00                0.0000   \n",
       "0              13.927691  2.135314e+12               63.2857   \n",
       "4814           13.414569  0.000000e+00                0.0000   \n",
       "3241           13.824479  0.000000e+00                0.0000   \n",
       "4702           28.248488  0.000000e+00                0.0000   \n",
       "3314           79.840337  0.000000e+00                0.0000   \n",
       "3430            2.352600  0.000000e+00                0.0000   \n",
       "208           -39.293252  4.290220e+08                0.0000   \n",
       "243            -4.764194  1.858139e+08                0.0055   \n",
       "4805          -12.293357  0.000000e+00                0.0000   \n",
       "\n",
       "      fully_diluted_market_cap           tvl            last_updated.1  \n",
       "3265              2.040841e+15           NaN 2025-05-25 19:03:00+00:00  \n",
       "0                 2.256771e+12           NaN 2025-05-25 19:03:00+00:00  \n",
       "4814              2.249931e+12           NaN 2025-05-25 19:03:00+00:00  \n",
       "3241              5.333301e+10           NaN 2025-05-25 19:02:00+00:00  \n",
       "4702              1.212713e+07           NaN 2025-05-25 19:03:00+00:00  \n",
       "3314              6.945436e+11           NaN 2025-05-25 19:03:00+00:00  \n",
       "3430              3.114031e+11           NaN 2025-05-25 19:03:00+00:00  \n",
       "208               1.146842e+09           NaN 2025-05-25 19:03:00+00:00  \n",
       "243               2.013824e+08  3.035298e+08 2025-05-25 19:02:00+00:00  \n",
       "4805              5.839868e+08           NaN 2025-05-25 19:03:00+00:00  \n",
       "\n",
       "[10 rows x 30 columns]"
      ]
     },
     "execution_count": 13,
     "metadata": {},
     "output_type": "execute_result"
    }
   ],
   "source": [
    "# sort data according to price\n",
    "price_df = listings_df.sort_values(by='price', ascending=False)\n",
    "price_df.head(10)"
   ]
  },
  {
   "cell_type": "code",
   "execution_count": 14,
   "id": "75760537",
   "metadata": {},
   "outputs": [
    {
     "data": {
      "application/vnd.microsoft.datawrangler.viewer.v0+json": {
       "columns": [
        {
         "name": "index",
         "rawType": "int64",
         "type": "integer"
        },
        {
         "name": "id",
         "rawType": "int64",
         "type": "integer"
        },
        {
         "name": "name",
         "rawType": "object",
         "type": "string"
        },
        {
         "name": "symbol",
         "rawType": "object",
         "type": "string"
        },
        {
         "name": "slug",
         "rawType": "object",
         "type": "string"
        },
        {
         "name": "num_market_pairs",
         "rawType": "int64",
         "type": "integer"
        },
        {
         "name": "date_added",
         "rawType": "datetime64[ns, UTC]",
         "type": "unknown"
        },
        {
         "name": "tags",
         "rawType": "object",
         "type": "unknown"
        },
        {
         "name": "max_supply",
         "rawType": "float64",
         "type": "float"
        },
        {
         "name": "circulating_supply",
         "rawType": "float64",
         "type": "float"
        },
        {
         "name": "total_supply",
         "rawType": "float64",
         "type": "float"
        },
        {
         "name": "infinite_supply",
         "rawType": "bool",
         "type": "boolean"
        },
        {
         "name": "cmc_rank",
         "rawType": "int64",
         "type": "integer"
        },
        {
         "name": "self_reported_circulating_supply",
         "rawType": "float64",
         "type": "float"
        },
        {
         "name": "self_reported_market_cap",
         "rawType": "float64",
         "type": "float"
        },
        {
         "name": "tvl_ratio",
         "rawType": "float64",
         "type": "float"
        },
        {
         "name": "last_updated",
         "rawType": "datetime64[ns, UTC]",
         "type": "unknown"
        },
        {
         "name": "price",
         "rawType": "float64",
         "type": "float"
        },
        {
         "name": "volume_24h",
         "rawType": "float64",
         "type": "float"
        },
        {
         "name": "volume_change_24h",
         "rawType": "float64",
         "type": "float"
        },
        {
         "name": "percent_change_1h",
         "rawType": "float64",
         "type": "float"
        },
        {
         "name": "percent_change_24h",
         "rawType": "float64",
         "type": "float"
        },
        {
         "name": "percent_change_7d",
         "rawType": "float64",
         "type": "float"
        },
        {
         "name": "percent_change_30d",
         "rawType": "float64",
         "type": "float"
        },
        {
         "name": "percent_change_60d",
         "rawType": "float64",
         "type": "float"
        },
        {
         "name": "percent_change_90d",
         "rawType": "float64",
         "type": "float"
        },
        {
         "name": "market_cap",
         "rawType": "float64",
         "type": "float"
        },
        {
         "name": "market_cap_dominance",
         "rawType": "float64",
         "type": "float"
        },
        {
         "name": "fully_diluted_market_cap",
         "rawType": "float64",
         "type": "float"
        },
        {
         "name": "tvl",
         "rawType": "float64",
         "type": "float"
        },
        {
         "name": "last_updated.1",
         "rawType": "datetime64[ns, UTC]",
         "type": "unknown"
        }
       ],
       "ref": "e5812197-72e1-4ff2-9615-d85f30c2ef09",
       "rows": [
        [
         "4256",
         "2277",
         "SmartMesh",
         "SMT",
         "smartmesh",
         "10",
         "2017-12-13 00:00:00+00:00",
         "['iot', 'ethereum-ecosystem']",
         null,
         "0.0",
         "3141592653.0",
         "False",
         "4257",
         null,
         null,
         null,
         "2025-05-25 19:03:00+00:00",
         "0.0003640436475576",
         "93241.42321765",
         "1.6721",
         "-0.39724366",
         "2.1619374",
         "10.11974417",
         "-9.49055718",
         "-54.47132406",
         "-61.45858157",
         "0.0",
         "0.0",
         "1143676.85",
         null,
         "2025-05-25 19:03:00+00:00"
        ]
       ],
       "shape": {
        "columns": 30,
        "rows": 1
       }
      },
      "text/html": [
       "<div>\n",
       "<style scoped>\n",
       "    .dataframe tbody tr th:only-of-type {\n",
       "        vertical-align: middle;\n",
       "    }\n",
       "\n",
       "    .dataframe tbody tr th {\n",
       "        vertical-align: top;\n",
       "    }\n",
       "\n",
       "    .dataframe thead th {\n",
       "        text-align: right;\n",
       "    }\n",
       "</style>\n",
       "<table border=\"1\" class=\"dataframe\">\n",
       "  <thead>\n",
       "    <tr style=\"text-align: right;\">\n",
       "      <th></th>\n",
       "      <th>id</th>\n",
       "      <th>name</th>\n",
       "      <th>symbol</th>\n",
       "      <th>slug</th>\n",
       "      <th>num_market_pairs</th>\n",
       "      <th>date_added</th>\n",
       "      <th>tags</th>\n",
       "      <th>max_supply</th>\n",
       "      <th>circulating_supply</th>\n",
       "      <th>total_supply</th>\n",
       "      <th>...</th>\n",
       "      <th>percent_change_24h</th>\n",
       "      <th>percent_change_7d</th>\n",
       "      <th>percent_change_30d</th>\n",
       "      <th>percent_change_60d</th>\n",
       "      <th>percent_change_90d</th>\n",
       "      <th>market_cap</th>\n",
       "      <th>market_cap_dominance</th>\n",
       "      <th>fully_diluted_market_cap</th>\n",
       "      <th>tvl</th>\n",
       "      <th>last_updated.1</th>\n",
       "    </tr>\n",
       "  </thead>\n",
       "  <tbody>\n",
       "    <tr>\n",
       "      <th>4256</th>\n",
       "      <td>2277</td>\n",
       "      <td>SmartMesh</td>\n",
       "      <td>SMT</td>\n",
       "      <td>smartmesh</td>\n",
       "      <td>10</td>\n",
       "      <td>2017-12-13 00:00:00+00:00</td>\n",
       "      <td>[iot, ethereum-ecosystem]</td>\n",
       "      <td>NaN</td>\n",
       "      <td>0.0</td>\n",
       "      <td>3.141593e+09</td>\n",
       "      <td>...</td>\n",
       "      <td>2.161937</td>\n",
       "      <td>10.119744</td>\n",
       "      <td>-9.490557</td>\n",
       "      <td>-54.471324</td>\n",
       "      <td>-61.458582</td>\n",
       "      <td>0.0</td>\n",
       "      <td>0.0</td>\n",
       "      <td>1143676.85</td>\n",
       "      <td>NaN</td>\n",
       "      <td>2025-05-25 19:03:00+00:00</td>\n",
       "    </tr>\n",
       "  </tbody>\n",
       "</table>\n",
       "<p>1 rows × 30 columns</p>\n",
       "</div>"
      ],
      "text/plain": [
       "        id       name symbol       slug  num_market_pairs  \\\n",
       "4256  2277  SmartMesh    SMT  smartmesh                10   \n",
       "\n",
       "                    date_added                       tags  max_supply  \\\n",
       "4256 2017-12-13 00:00:00+00:00  [iot, ethereum-ecosystem]         NaN   \n",
       "\n",
       "      circulating_supply  total_supply  ...  percent_change_24h  \\\n",
       "4256                 0.0  3.141593e+09  ...            2.161937   \n",
       "\n",
       "      percent_change_7d  percent_change_30d  percent_change_60d  \\\n",
       "4256          10.119744           -9.490557          -54.471324   \n",
       "\n",
       "      percent_change_90d market_cap  market_cap_dominance  \\\n",
       "4256          -61.458582        0.0                   0.0   \n",
       "\n",
       "      fully_diluted_market_cap  tvl            last_updated.1  \n",
       "4256                1143676.85  NaN 2025-05-25 19:03:00+00:00  \n",
       "\n",
       "[1 rows x 30 columns]"
      ]
     },
     "execution_count": 14,
     "metadata": {},
     "output_type": "execute_result"
    }
   ],
   "source": [
    "# Locating name of the coin with index number 4256\n",
    "listings_df.loc[4256,'name']\n",
    "\n",
    "coin = listings_df.loc[listings_df['name'] == 'SmartMesh']\n",
    "coin"
   ]
  },
  {
   "cell_type": "code",
   "execution_count": 15,
   "id": "4f01a4fa",
   "metadata": {},
   "outputs": [
    {
     "name": "stderr",
     "output_type": "stream",
     "text": [
      "C:\\Users\\tohsh\\AppData\\Local\\Temp\\ipykernel_16724\\947255164.py:9: UserWarning: Boolean Series key will be reindexed to match DataFrame index.\n",
      "  positive_90_days_df = positive_90_days_df[listings_df['tags'].apply(len) > 0]\n"
     ]
    },
    {
     "data": {
      "application/vnd.microsoft.datawrangler.viewer.v0+json": {
       "columns": [
        {
         "name": "index",
         "rawType": "int64",
         "type": "integer"
        },
        {
         "name": "id",
         "rawType": "int64",
         "type": "integer"
        },
        {
         "name": "name",
         "rawType": "object",
         "type": "string"
        },
        {
         "name": "symbol",
         "rawType": "object",
         "type": "string"
        },
        {
         "name": "slug",
         "rawType": "object",
         "type": "string"
        },
        {
         "name": "num_market_pairs",
         "rawType": "int64",
         "type": "integer"
        },
        {
         "name": "date_added",
         "rawType": "datetime64[ns, UTC]",
         "type": "unknown"
        },
        {
         "name": "tags",
         "rawType": "object",
         "type": "unknown"
        },
        {
         "name": "max_supply",
         "rawType": "float64",
         "type": "float"
        },
        {
         "name": "circulating_supply",
         "rawType": "float64",
         "type": "float"
        },
        {
         "name": "total_supply",
         "rawType": "float64",
         "type": "float"
        },
        {
         "name": "infinite_supply",
         "rawType": "bool",
         "type": "boolean"
        },
        {
         "name": "cmc_rank",
         "rawType": "int64",
         "type": "integer"
        },
        {
         "name": "self_reported_circulating_supply",
         "rawType": "float64",
         "type": "float"
        },
        {
         "name": "self_reported_market_cap",
         "rawType": "float64",
         "type": "float"
        },
        {
         "name": "tvl_ratio",
         "rawType": "float64",
         "type": "float"
        },
        {
         "name": "last_updated",
         "rawType": "datetime64[ns, UTC]",
         "type": "unknown"
        },
        {
         "name": "price",
         "rawType": "float64",
         "type": "float"
        },
        {
         "name": "volume_24h",
         "rawType": "float64",
         "type": "float"
        },
        {
         "name": "volume_change_24h",
         "rawType": "float64",
         "type": "float"
        },
        {
         "name": "percent_change_1h",
         "rawType": "float64",
         "type": "float"
        },
        {
         "name": "percent_change_24h",
         "rawType": "float64",
         "type": "float"
        },
        {
         "name": "percent_change_7d",
         "rawType": "float64",
         "type": "float"
        },
        {
         "name": "percent_change_30d",
         "rawType": "float64",
         "type": "float"
        },
        {
         "name": "percent_change_60d",
         "rawType": "float64",
         "type": "float"
        },
        {
         "name": "percent_change_90d",
         "rawType": "float64",
         "type": "float"
        },
        {
         "name": "market_cap",
         "rawType": "float64",
         "type": "float"
        },
        {
         "name": "market_cap_dominance",
         "rawType": "float64",
         "type": "float"
        },
        {
         "name": "fully_diluted_market_cap",
         "rawType": "float64",
         "type": "float"
        },
        {
         "name": "tvl",
         "rawType": "float64",
         "type": "float"
        },
        {
         "name": "last_updated.1",
         "rawType": "datetime64[ns, UTC]",
         "type": "unknown"
        }
       ],
       "ref": "50d1440f-e586-434a-9e8e-e138cbf05f1e",
       "rows": [
        [
         "0",
         "2502",
         "Huobi Token",
         "HT",
         "htx-token",
         "136",
         "2018-02-03 00:00:00+00:00",
         "['marketplace', 'centralized-exchange', 'discount-token', 'payments', 'ethereum-ecosystem', 'kenetic-capital-portfolio', 'alameda-research-portfolio', 'multicoin-capital-portfolio', 'near-protocol-ecosystem']",
         "500000000.0",
         "0.0",
         "203980445.0",
         "False",
         "4424",
         "162233844.0",
         "49717001.388621725",
         null,
         "2025-05-25 19:03:00+00:00",
         "0.306452711486154",
         "83383.88866896",
         "-10.4151",
         "-0.99994888",
         "-7.63039491",
         "-11.57595033",
         "-26.108993",
         "-32.30993707",
         "4771635.94260156",
         "0.0",
         "0.0",
         "153226355.74",
         null,
         "2025-05-25 19:03:00+00:00"
        ],
        [
         "1",
         "35487",
         "Launch Coin on Believe",
         "LAUNCHCOIN",
         "launch-coin-on-believe",
         "97",
         "2025-01-27 06:31:18+00:00",
         "['solana-ecosystem', 'internet-capital-markets', 'believe-app-ecosystem']",
         "1000000000.0",
         "999874290.0",
         "999874290.0",
         "False",
         "245",
         "1000000000.0",
         "184861306.86648107",
         null,
         "2025-05-25 19:03:00+00:00",
         "0.184861306866481",
         "41835776.74375789",
         "-45.4348",
         "0.93314099",
         "-2.86107577",
         "-19.99175043",
         "9834.42377676",
         "20959.96795138",
         "69343.82235892",
         "184838067.9515949",
         "0.0",
         "184861306.87",
         null,
         "2025-05-25 19:03:00+00:00"
        ],
        [
         "2",
         "33471",
         "SORA GROK",
         "GROK",
         "sora-grok",
         "1",
         "2024-10-16 05:43:19+00:00",
         "['ethereum-ecosystem']",
         "100000000000.0",
         "0.0",
         "100000000000.0",
         "False",
         "3267",
         "100000000000.0",
         "1633631380.329146",
         null,
         "2025-05-25 19:03:00+00:00",
         "0.0163363138032914",
         "3385276.90010546",
         "2.9775",
         "34.48400488",
         "-98.58373479",
         "-98.12167134",
         "1244.35882937",
         "5563.34137158",
         "55935.30744271",
         "0.0",
         "0.0",
         "1633631380.33",
         null,
         "2025-05-25 19:03:00+00:00"
        ],
        [
         "3",
         "20182",
         "Mobipad",
         "MBP",
         "mobipad",
         "5",
         "2022-05-18 12:38:21+00:00",
         "['launchpad', 'bnb-chain-ecosystem']",
         "100000000.0",
         "0.0",
         "100000000.0",
         "False",
         "3402",
         "88700000.0",
         "6023216.760728868",
         null,
         "2025-05-25 19:03:00+00:00",
         "0.0679054877196039",
         "908407.04474708",
         "-2.2409",
         "0.16453269",
         "-1.88610496",
         "-3.8149248",
         "4.99664969",
         "36796.72774854",
         "36796.72774854",
         "0.0",
         "0.0",
         "6790548.77",
         null,
         "2025-05-25 19:03:00+00:00"
        ],
        [
         "4",
         "33561",
         "trumpwifhat",
         "TRUMP",
         "trump-wif-hat",
         "1",
         "2024-10-22 11:39:18+00:00",
         "['ethereum-ecosystem']",
         "99884540700.0",
         "0.0",
         "99884540700.0",
         "False",
         "3417",
         "99884540700.0",
         "21904480899.67464",
         null,
         "2025-05-25 19:03:00+00:00",
         "0.2192980089427856",
         "845258.07424532",
         "4.1078",
         "3.21381271",
         "600.26451675",
         "479.52135757",
         "4953.13014344",
         "8424.35376689",
         "17165.44467702",
         "0.0",
         "0.0",
         "21904480899.67",
         null,
         "2025-05-25 19:03:00+00:00"
        ],
        [
         "5",
         "33340",
         "LABUBU SOL",
         "LABUBU",
         "labubu-xyz",
         "33",
         "2024-10-08 04:01:50+00:00",
         "['solana-ecosystem']",
         "999980482.0",
         "0.0",
         "999980482.0",
         "False",
         "3219",
         "999980482.0",
         "22355671.76560289",
         null,
         "2025-05-25 19:03:00+00:00",
         "0.022356108112121",
         "7415556.78984509",
         "-9.5078",
         "0.58402617",
         "-4.90289016",
         "149.56584439",
         "7094.15851941",
         "16670.95188635",
         "14567.25352161",
         "0.0",
         "0.0",
         "22355671.77",
         null,
         "2025-05-25 19:03:00+00:00"
        ],
        [
         "6",
         "8351",
         "OptionRoom",
         "ROOM",
         "optionroom",
         "6",
         "2021-01-28 00:00:00+00:00",
         "['defi', 'oracles', 'prediction-markets', 'polkastarter', 'bounce-launchpad', 'bnb-chain-ecosystem']",
         "100000000.0",
         "12493373.0",
         "100000000.0",
         "False",
         "2483",
         null,
         null,
         null,
         "2025-05-25 19:03:00+00:00",
         "0.0191322938949948",
         "89778.87181093",
         "-3.2721",
         "-0.01415613",
         "-7.76202136",
         "-11.81581775",
         "-3.37025706",
         "13585.26872355",
         "14418.07316146",
         "239026.8839757939",
         "0.0",
         "1913229.39",
         null,
         "2025-05-25 19:03:00+00:00"
        ],
        [
         "7",
         "34021",
         "Zon Token",
         "ZON",
         "zon-token",
         "4",
         "2024-11-28 15:22:17+00:00",
         "['ethereum-ecosystem', 'xdc-ecosystem']",
         "1000000000.0",
         "0.0",
         "1000000000.0",
         "False",
         "4546",
         "500000000.0",
         "28685651.784480263",
         null,
         "2025-05-25 19:03:00+00:00",
         "0.0573713035689605",
         "65851.70358863",
         "-65.6682",
         "-0.24660403",
         "-1.00905675",
         "289.69933677",
         "1077.64540108",
         "5099.13836399",
         "6817.29328245",
         "0.0",
         "0.0",
         "57371303.57",
         null,
         "2025-05-25 19:03:00+00:00"
        ],
        [
         "8",
         "24102",
         "PAWZONE",
         "PAW",
         "pawzone",
         "16",
         "2023-03-27 09:44:40+00:00",
         "['ethereum-ecosystem']",
         "500000000000.0",
         "0.0",
         "500000000000.0",
         "False",
         "4609",
         null,
         null,
         null,
         "2025-05-25 19:02:00+00:00",
         "4.3998052902852803e-07",
         "55604.59926276",
         "-5.4482",
         "-0.04819499",
         "-0.02088578",
         "2.25424317",
         "7.07291328",
         "-8.96974708",
         "3468.78991821",
         "0.0",
         "0.0",
         "219990.26",
         null,
         "2025-05-25 19:02:00+00:00"
        ],
        [
         "9",
         "32486",
         "NOT",
         "CAT",
         "not",
         "5",
         "2024-07-31 05:51:37+00:00",
         "['bnb-chain-ecosystem']",
         "100000000000.0",
         "0.0",
         "100000000000.0",
         "False",
         "3581",
         "100000000000.0",
         "17485557.188493237",
         null,
         "2025-05-25 19:03:00+00:00",
         "0.0001748555718849",
         "344904.35408159",
         "4.8003",
         "2.21636939",
         "387.59865899",
         "-94.3969901",
         "-69.75286983",
         "-63.77046803",
         "3315.50586148",
         "0.0",
         "0.0",
         "17485557.19",
         null,
         "2025-05-25 19:03:00+00:00"
        ],
        [
         "10",
         "35556",
         "HODL",
         "HODL",
         "we-hodl",
         "4",
         "2025-01-31 08:28:31+00:00",
         "['solana-ecosystem']",
         null,
         "0.0",
         "850000000.0",
         "False",
         "4626",
         "850000000.0",
         "409273.59469116665",
         null,
         "2025-05-25 19:02:00+00:00",
         "0.0004814983466954",
         "52900.32678997",
         "-59.6666",
         "-1.13395807",
         "-40.69517296",
         "533.0809499",
         "3485.47363353",
         "3694.02685776",
         "2841.14058591",
         "0.0",
         "0.0",
         "409273.59",
         null,
         "2025-05-25 19:02:00+00:00"
        ],
        [
         "11",
         "34229",
         "STO Operating System",
         "STOOS",
         "security-token-offering",
         "18",
         "2024-11-26 07:56:12+00:00",
         "['klaytn-ecosystem']",
         "1000000000.0",
         "0.0",
         "1000000000.0",
         "False",
         "3847",
         "62000000.0",
         "41715230.5656709",
         null,
         "2025-05-25 19:03:00+00:00",
         "0.6728262994463048",
         "164633.94143511",
         "-1.4484",
         "0.59314276",
         "-4.21921941",
         "-4.12354167",
         "-5.3862152",
         "10.77748887",
         "2340.39671604",
         "0.0",
         "0.0",
         "672826299.45",
         null,
         "2025-05-25 19:03:00+00:00"
        ],
        [
         "12",
         "9269",
         "Refinable",
         "FINE",
         "refinable",
         "29",
         "2021-04-16 00:00:00+00:00",
         "['collectibles-nfts', 'defi', 'gaming', 'polkastarter', 'bnb-chain-ecosystem']",
         null,
         "41059833.0",
         "500000000.0",
         "False",
         "2871",
         null,
         null,
         null,
         "2025-05-25 19:03:00+00:00",
         "0.0012451495519079",
         "93318.23135614",
         "-0.7509",
         "-0.09439793",
         "-1.96781236",
         "1.53464091",
         "-2.61814723",
         "2036.34132023",
         "2025.68970581",
         "51125.63266136613",
         "0.0",
         "622574.78",
         null,
         "2025-05-25 19:03:00+00:00"
        ],
        [
         "13",
         "6890",
         "TON Token",
         "TON",
         "tontoken",
         "25",
         "2020-09-04 00:00:00+00:00",
         "['ethereum-ecosystem']",
         "5047558527.7",
         "0.0",
         "5047558527.7",
         "False",
         "3779",
         "1221401180.73",
         "3613754993.077906",
         null,
         "2025-05-25 19:03:00+00:00",
         "2.958696168050253",
         "189494.85840517",
         "-18.1379",
         "0.41230776",
         "22.89176376",
         "-5.25156449",
         "3495.5588002",
         "7526.63498309",
         "1534.22823936",
         "0.0",
         "0.0",
         "14934192073.92",
         null,
         "2025-05-25 19:03:00+00:00"
        ],
        [
         "14",
         "7320",
         "Neutrino System Base Token",
         "NSBT",
         "neutrino-system-base-token",
         "13",
         "2020-10-06 00:00:00+00:00",
         "['ethereum-ecosystem', 'waves-ecosystem']",
         null,
         "2834678.375701",
         "2834678.375701",
         "False",
         "1316",
         null,
         null,
         null,
         "2025-05-25 19:02:00+00:00",
         "1.8253309810320557",
         "0.0",
         "0.0",
         "0.0",
         "-1.12167138",
         "10.87941838",
         "39.78286227",
         "3812.96670797",
         "1446.97848062",
         "5174226.26042866",
         "0.0",
         "5174226.26",
         null,
         "2025-05-25 19:02:00+00:00"
        ],
        [
         "15",
         "9218",
         "Mist",
         "MIST",
         "mist",
         "47",
         "2021-04-16 00:00:00+00:00",
         "['vr-ar', 'collectibles-nfts', 'gaming', 'metaverse', 'play-to-earn', 'bnb-chain-ecosystem']",
         "1000000000.0",
         "56357088.0",
         "1000000000.0",
         "False",
         "2678",
         "560000500.0",
         "1196808.0849492964",
         null,
         "2025-05-25 19:03:00+00:00",
         "0.0021371553863778",
         "146072.67883957",
         "19.5012",
         "0.27775661",
         "-0.61763025",
         "1640.59823745",
         "1706.54715715",
         "2292.54885651",
         "1419.36705085",
         "120443.8541797712",
         "0.0",
         "2137155.39",
         null,
         "2025-05-25 19:03:00+00:00"
        ],
        [
         "16",
         "4077",
         "Maya Preferred PRA",
         "MPRA",
         "maya-preferred",
         "3",
         "2019-07-03 00:00:00+00:00",
         "['ethereum-ecosystem']",
         "200000000.0",
         "0.0",
         "200000000.0",
         "False",
         "3266",
         "1000000.0",
         "10204204709958.484",
         null,
         "2025-05-25 19:03:00+00:00",
         "10204204.709958484",
         "3385745.98970903",
         "0.2164",
         "0.01009874",
         "0.01197049",
         "9.71893858",
         "102.98894563",
         "1194.67579032",
         "1194.67579032",
         "0.0",
         "0.0",
         "2040840941991696.8",
         null,
         "2025-05-25 19:03:00+00:00"
        ],
        [
         "17",
         "29082",
         "Saros",
         "SAROS",
         "saros",
         "46",
         "2024-01-19 11:09:47+00:00",
         "['dex', 'solana-ecosystem']",
         "10000000000.0",
         "1166156202.0",
         "2625000000.0",
         "False",
         "240",
         "2625000000.0",
         "425312815.22531927",
         "154.19693831",
         "2025-05-25 19:03:00+00:00",
         "0.1620239296096454",
         "4444262.77953633",
         "5.9903",
         "-0.44007512",
         "-0.68538701",
         "3.82516121",
         "21.50096374",
         "194.27392571",
         "1133.0303052",
         "188945210.38669947",
         "0.0",
         "1620239296.1",
         "1225349.94831",
         "2025-05-25 19:03:00+00:00"
        ],
        [
         "18",
         "13133",
         "Decentral Games ICE",
         "ICE",
         "decentral-games-ice",
         "45",
         "2021-10-25 05:19:15+00:00",
         "['gaming', 'dao', 'metaverse', 'polygon-ecosystem', 'play-to-earn', 'gaming-guild']",
         null,
         "226662489.889",
         "313384303.0",
         "False",
         "2710",
         null,
         null,
         null,
         "2025-05-25 19:03:00+00:00",
         "0.0004609629580229",
         "0.0",
         "0.0",
         "0.0",
         "0.4338947",
         "0.19875797",
         "1328.42302184",
         "1425.82685431",
         "1115.42925254",
         "104483.01181207332",
         "0.0",
         "144458.56",
         null,
         "2025-05-25 19:03:00+00:00"
        ],
        [
         "19",
         "35637",
         "BitDCA",
         "BDCA",
         "bitdca",
         "3",
         "2025-02-07 06:36:58+00:00",
         "['bnb-chain-ecosystem']",
         "142665333.0",
         "74810709.27603306",
         "142665333.0",
         "False",
         "473",
         "74810699.27603306",
         "64947129.29424512",
         null,
         "2025-05-25 19:03:00+00:00",
         "0.8681529503501392",
         "216633.93551346",
         "1.2677",
         "-2.19046085",
         "-2.32932546",
         "1.72996379",
         "4.35790353",
         "-3.61970742",
         "1057.53726713",
         "64947137.97577462",
         "0.0",
         "123855329.76",
         null,
         "2025-05-25 19:03:00+00:00"
        ],
        [
         "20",
         "33734",
         "TON Station",
         "MRSOON",
         "tonstation",
         "15",
         "2024-10-30 14:40:44+00:00",
         "['communications-social-media', 'gaming', 'telegram-bot', 'toncoin-ecosystem', 'tap-to-earn']",
         "70000000000.0",
         "69312732161.16",
         "69312732161.16",
         "False",
         "521",
         null,
         null,
         null,
         "2025-05-25 19:03:00+00:00",
         "0.000777903272754",
         "4474669.25316863",
         "-43.7481",
         "3.90644729",
         "-0.00321539",
         "2232.66745659",
         "1283.16477858",
         "1447.50035371",
         "1043.91456631",
         "53918601.19169169",
         "0.0",
         "54453229.09",
         null,
         "2025-05-25 19:03:00+00:00"
        ],
        [
         "21",
         "31956",
         "Chinese Andy",
         "ANDWU",
         "chinese-andy",
         "1",
         "2024-06-24 08:32:39+00:00",
         "['ethereum-ecosystem']",
         "420690000000000.0",
         "0.0",
         "420690000000000.0",
         "False",
         "4768",
         "420690000000000.0",
         "779725.0526588226",
         null,
         "2025-05-25 19:03:00+00:00",
         "1.853443278087957e-09",
         "33729.14843552",
         "38.2727",
         "-0.88235435",
         "-1.00850952",
         "122.45883352",
         "2357.93865302",
         "1668.14722761",
         "1010.23060323",
         "0.0",
         "0.0",
         "779725.05",
         null,
         "2025-05-25 19:03:00+00:00"
        ],
        [
         "22",
         "35587",
         "Technet",
         "TECK",
         "technet",
         "1",
         "2025-02-05 03:47:29+00:00",
         "['bnb-chain-ecosystem']",
         null,
         "0.0",
         "100000000.0",
         "False",
         "4735",
         "100000.0",
         "99217.45793636494",
         null,
         "2025-05-25 19:03:00+00:00",
         "0.9921745793636494",
         "37928.61409911",
         "6.6783",
         "-0.20835314",
         "-0.30332851",
         "-0.49006113",
         "-1.12824181",
         "-0.67788649",
         "896.375966",
         "0.0",
         "0.0",
         "99217457.94",
         null,
         "2025-05-25 19:03:00+00:00"
        ],
        [
         "23",
         "12365",
         "Lovely Finance [Old]",
         "LOVELY",
         "lovely-inu-old",
         "46",
         "2021-10-06 01:12:03+00:00",
         "['ethereum-ecosystem', 'bnb-chain-ecosystem']",
         null,
         "0.0",
         "74999999999989.0",
         "False",
         "3981",
         "69746675281042.0",
         "180877277.32587776",
         null,
         "2025-05-25 19:03:00+00:00",
         "2.5933462290071685e-06",
         "129567.96355169",
         "0.6433",
         "9.16571603",
         "91.81323187",
         "55.73599748",
         "628.96021396",
         "528.02716498",
         "856.68453393",
         "0.0",
         "0.0",
         "194500967.18",
         null,
         "2025-05-25 19:03:00+00:00"
        ],
        [
         "24",
         "32263",
         "Attarius Network",
         "ATRS",
         "attarius-network",
         "3",
         "2024-07-17 08:40:33+00:00",
         "['binance-chain', 'bnb-chain-ecosystem']",
         "150000000.0",
         "0.0",
         "150000000.0",
         "False",
         "4488",
         "9653204.0",
         "56512.32743741494",
         null,
         "2025-05-25 19:03:00+00:00",
         "0.0058542560001233",
         "75463.1919211",
         "-15.9147",
         "0.00334832",
         "-4.39890586",
         "16.42138593",
         "2.06837468",
         "192.5415594",
         "807.20608345",
         "0.0",
         "0.0",
         "878138.4",
         null,
         "2025-05-25 19:03:00+00:00"
        ],
        [
         "25",
         "36526",
         "Project Rescue",
         "RESCUE",
         "project-rescue",
         "1",
         "2025-05-16 07:02:45+00:00",
         "['solana-ecosystem']",
         "100000000.0",
         "0.0",
         "35458333.0",
         "False",
         "4516",
         "35458333.0",
         "2934542.8327238844",
         null,
         "2025-05-25 19:03:00+00:00",
         "0.0827603156844368",
         "71722.90530168",
         "-25.3912",
         "-0.35473336",
         "6.76345598",
         "778.3812139",
         "782.28998198",
         "782.28998198",
         "782.28998198",
         "0.0",
         "0.0",
         "8276031.57",
         null,
         "2025-05-25 19:03:00+00:00"
        ],
        [
         "26",
         "36127",
         "Mubarak(mubarakcoin.link)",
         "MUBARAK",
         "mubarak-coin",
         "1",
         "2025-03-25 14:21:53+00:00",
         "['bnb-chain-ecosystem']",
         "1000000000.0",
         "0.0",
         "1000000000.0",
         "False",
         "3644",
         "1000000000.0",
         "2077777.57535702",
         null,
         "2025-05-25 19:02:00+00:00",
         "0.002077777575357",
         "280252.18130698",
         "31.9239",
         "15.05099813",
         "273.13108038",
         "-40.02750151",
         "139.57629879",
         "770.23942399",
         "770.23942399",
         "0.0",
         "0.0",
         "2077777.58",
         null,
         "2025-05-25 19:02:00+00:00"
        ],
        [
         "27",
         "34880",
         "Alchemist AI",
         "ALCH",
         "alchemist-ai",
         "136",
         "2024-12-26 08:47:25+00:00",
         "['solana-ecosystem', 'desci', 'pump-fun-ecosystem', 'binance-alpha', 'binance-ecosystem']",
         "1000000000.0",
         "850000000.0",
         "1000000000.0",
         "False",
         "332",
         "1000000000.0",
         "133624196.18255693",
         null,
         "2025-05-25 19:03:00+00:00",
         "0.1336241961825569",
         "31598863.78115726",
         "-7.9297",
         "-0.94325257",
         "-3.56748914",
         "-13.8907776",
         "-19.37411676",
         "46.42962853",
         "745.25004298",
         "113580566.75517336",
         "0.0",
         "133624196.18",
         null,
         "2025-05-25 19:03:00+00:00"
        ],
        [
         "28",
         "34144",
         "Ariacoin",
         "ARIA",
         "ariacoin",
         "1",
         "2024-11-21 13:15:21+00:00",
         "['solana-ecosystem']",
         "99999977260.0",
         "16479727260.0",
         "99999977260.0",
         "False",
         "3150",
         "10000000000.0",
         "1217.7569192095436",
         null,
         "2025-05-25 19:03:00+00:00",
         "1.2177569192095437e-07",
         "0.0",
         "0.0",
         "0.0",
         "0.0",
         "4.52578832",
         "9.64912094",
         "-18.88169315",
         "731.93815726",
         "2006.8301897551132",
         "0.0",
         "12177.57",
         null,
         "2025-05-25 19:03:00+00:00"
        ],
        [
         "29",
         "31189",
         "Habibi",
         "HABIBI",
         "habibi-cat",
         "24",
         "2024-05-10 08:59:25+00:00",
         "['solana-ecosystem']",
         "1000000000.0",
         "814340580.0",
         "999904257.9",
         "False",
         "1592",
         "814340580.0",
         "2817093.0827135607",
         null,
         "2025-05-25 19:03:00+00:00",
         "0.0034593549086225",
         "279477.07781754",
         "-7.2234",
         "0.73784598",
         "-8.34206863",
         "12.31034762",
         "175.29841975",
         "100.80960277",
         "670.84359336",
         "2817093.0827135607",
         "0.0",
         "3459354.91",
         null,
         "2025-05-25 19:03:00+00:00"
        ],
        [
         "30",
         "30287",
         "MonbaseCoin",
         "MBC",
         "monbase",
         "2",
         "2024-04-01 14:39:50+00:00",
         "['bnb-chain-ecosystem']",
         null,
         "0.0",
         "200000000.0",
         "False",
         "4780",
         "181440000.0",
         "12532278.66831176",
         null,
         "2025-05-25 19:03:00+00:00",
         "0.0690712007733232",
         "32174.62683209",
         "-1.7513",
         "0.66059012",
         "-1.85042868",
         "0.60326223",
         "-14.59804923",
         "60.34102533",
         "644.76428955",
         "0.0",
         "0.0",
         "13814240.15",
         null,
         "2025-05-25 19:03:00+00:00"
        ],
        [
         "31",
         "30497",
         "Digital Asset Rights Token",
         "DAR",
         "digital-asset-rights-token",
         "4",
         "2024-04-11 16:22:07+00:00",
         "['ethereum-ecosystem']",
         "60000000000.0",
         "0.0",
         "60000000000.0",
         "False",
         "3770",
         "1189817526.0",
         "1484123.977599797",
         null,
         "2025-05-25 19:03:00+00:00",
         "0.001247354275062",
         "194370.60079212",
         "14.2759",
         "-0.4770887",
         "-3.4729089",
         "0.24267327",
         "104.18817777",
         "52.87026065",
         "588.83121234",
         "0.0",
         "0.0",
         "74841256.5",
         null,
         "2025-05-25 19:03:00+00:00"
        ],
        [
         "32",
         "4213",
         "Uptrennd",
         "1UP",
         "uptrennd",
         "2",
         "2019-08-05 00:00:00+00:00",
         "['ethereum-ecosystem']",
         null,
         "401460369.4240584",
         "995554318.0",
         "False",
         "2621",
         null,
         null,
         null,
         "2025-05-25 19:03:00+00:00",
         "0.0003823712284281",
         "71.24906047",
         "-1.2517",
         "0.04875511",
         "-1.25116792",
         "2.79218174",
         "13.10744466",
         "24.47392032",
         "575.58327603",
         "153506.89462190872",
         "0.0",
         "380671.33",
         null,
         "2025-05-25 19:03:00+00:00"
        ],
        [
         "33",
         "1636",
         "XTRABYTES",
         "XBY",
         "xtrabytes",
         "3",
         "2017-04-20 00:00:00+00:00",
         "['posign']",
         "650000000.0",
         "430000000.0",
         "650000000.0",
         "False",
         "1543",
         null,
         null,
         null,
         "2025-05-25 19:03:00+00:00",
         "0.0074136115727179",
         "0.0",
         "0.0",
         "1.510062",
         "0.18146363",
         "10.84577628",
         "23.56293759",
         "48.07558549",
         "554.72277828",
         "3187852.976268708",
         "0.0",
         "4818847.52",
         null,
         "2025-05-25 19:03:00+00:00"
        ],
        [
         "34",
         "6992",
         "Spartan Protocol",
         "SPARTA",
         "spartan-protocol",
         "24",
         "2020-09-10 00:00:00+00:00",
         "['binance-chain', 'bnb-chain-ecosystem']",
         "300000000.0",
         "74782755.88148826",
         "74782755.88148826",
         "False",
         "2559",
         "74782755.88148826",
         "191313.2138718044",
         null,
         "2025-05-25 19:03:00+00:00",
         "0.0025582530573624",
         "0.0",
         "0.0",
         "0.050849",
         "-9.70162226",
         "-14.53687045",
         "1142.97684787",
         "539.23480866",
         "539.23480866",
         "191313.2138718044",
         "0.0",
         "767475.92",
         null,
         "2025-05-25 19:03:00+00:00"
        ],
        [
         "35",
         "33994",
         "Content Bitcoin",
         "CTB",
         "content-bitcoin",
         "1",
         "2024-11-15 09:02:23+00:00",
         "['ethereum-ecosystem']",
         "1000000000.0",
         "0.0",
         "1000000000.0",
         "False",
         "4587",
         "1000000000.0",
         "148070055927.5468",
         null,
         "2025-05-25 19:03:00+00:00",
         "148.0700559275468",
         "59810.58398654",
         "19.9358",
         "-0.60987418",
         "-0.17515312",
         "67.99643604",
         "156.61937229",
         "248.95742851",
         "530.48343912",
         "0.0",
         "0.0",
         "148070055927.55",
         null,
         "2025-05-25 19:03:00+00:00"
        ],
        [
         "36",
         "29094",
         "Decentralized Music Chain",
         "DMCC",
         "discoverfeed",
         "3",
         "2024-01-19 07:38:29+00:00",
         "['ethereum-ecosystem']",
         "2000000000.0",
         "0.0",
         "2000000000.0",
         "False",
         "4604",
         "196750809.0",
         "2479783.237592933",
         null,
         "2025-05-25 19:03:00+00:00",
         "0.0126036749236082",
         "56682.37275615",
         "-55.9845",
         "0.00304633",
         "-25.43714215",
         "35.50953151",
         "472.60458639",
         "425.18135156",
         "499.90084158",
         "0.0",
         "0.0",
         "25207349.85",
         null,
         "2025-05-25 19:03:00+00:00"
        ],
        [
         "37",
         "22205",
         "KicksPad",
         "KICKS",
         "getkicks",
         "8",
         "2022-10-14 07:17:24+00:00",
         "['bnb-chain-ecosystem']",
         "5000000000.0",
         "0.0",
         "5000000000.0",
         "False",
         "4666",
         "387750000.0",
         "40265.80272394831",
         null,
         "2025-05-25 19:02:00+00:00",
         "0.0001038447523506",
         "48295.12885714",
         "-43.3672",
         "0.0062766",
         "0.10782315",
         "3.76347219",
         "21.36039841",
         "71.40456469",
         "475.82852953",
         "0.0",
         "0.0",
         "519223.76",
         null,
         "2025-05-25 19:02:00+00:00"
        ],
        [
         "38",
         "3873",
         "botXcoin",
         "BOTX",
         "botxcoin",
         "3",
         "2019-04-18 00:00:00+00:00",
         "['marketplace', 'ethereum-ecosystem']",
         null,
         "1759052523.0",
         "5000000000.0",
         "False",
         "816",
         "1634642342.0",
         "21129484.762382597",
         null,
         "2025-05-25 19:03:00+00:00",
         "0.01292605986",
         "0.0",
         "0.0",
         "-1.4084507",
         "3.44827586",
         "509.15903673",
         "676.34377164",
         "615.91927437",
         "469.21026545",
         "22737618.209182028",
         "0.0",
         "64630299.3",
         null,
         "2025-05-25 19:03:00+00:00"
        ],
        [
         "39",
         "25612",
         "Emorya Finance",
         "EMR",
         "emorya-finance",
         "5",
         "2023-12-11 07:44:12+00:00",
         "['multiversx-ecosystem']",
         "999999985.0",
         "131623151.0",
         "999999985.0",
         "False",
         "1997",
         "739188037.0",
         "5445664.819123353",
         null,
         "2025-05-25 19:02:00+00:00",
         "0.0073670900319553",
         "94890.97237799",
         "-12.7898",
         "0.76025623",
         "-1.74420599",
         "-16.31963663",
         "38.96298118",
         "648.59122386",
         "468.3923247",
         "969679.6037066558",
         "0.0",
         "7367089.92",
         null,
         "2025-05-25 19:02:00+00:00"
        ],
        [
         "40",
         "35954",
         "Loaded Lions",
         "LION",
         "loaded-lions",
         "7",
         "2025-03-06 06:47:37+00:00",
         "['solana-ecosystem', 'cronos-ecosystem']",
         "100000000000.0",
         "0.0",
         "100000000000.0",
         "False",
         "3606",
         "100000000000.0",
         "2160216775.197809",
         null,
         "2025-05-25 19:03:00+00:00",
         "0.021602167751978",
         "310177.66727302",
         "-12.0965",
         "0.1385925",
         "-4.9831429",
         "-14.82775009",
         "1.1072424",
         "26.92206865",
         "400.07333099",
         "0.0",
         "0.0",
         "2160216775.2",
         null,
         "2025-05-25 19:03:00+00:00"
        ],
        [
         "41",
         "5425",
         "Mesefa",
         "SEFA",
         "mesefa",
         "2",
         "2020-04-09 00:00:00+00:00",
         "['ethereum-ecosystem']",
         "963000000.0",
         "430655.0",
         "963000000.0",
         "False",
         "3157",
         null,
         null,
         null,
         "2025-05-25 19:03:00+00:00",
         "0.0038008668925393",
         "69.12042013",
         "0.0125",
         "0.00223929",
         "0.01306445",
         "-30.89754238",
         "265.255384",
         "175.42457441",
         "393.393596",
         "1636.8623316065236",
         "0.0",
         "3660234.82",
         null,
         "2025-05-25 19:03:00+00:00"
        ],
        [
         "42",
         "26833",
         "Wecan Group",
         "WECAN",
         "wecan-group",
         "4",
         "2023-12-21 13:12:01+00:00",
         "['ethereum-ecosystem']",
         "6000000000.0",
         "827372816.0",
         "2000000000.0",
         "False",
         "1492",
         "827372816.0",
         "3501524.179480048",
         null,
         "2025-05-25 19:02:00+00:00",
         "0.0042320996191395",
         "22384.39239452",
         "-48.2472",
         "-0.58939808",
         "-1.80571142",
         "13.36329032",
         "115.52298378",
         "519.7584701",
         "381.6366244",
         "3501524.179480048",
         "0.0",
         "25392597.71",
         null,
         "2025-05-25 19:02:00+00:00"
        ],
        [
         "43",
         "36387",
         "World Series of Degens",
         "$WSOD",
         "world-series-of-degens",
         "1",
         "2025-05-01 04:09:04+00:00",
         "['gambling', 'solana-ecosystem']",
         "1000000000.0",
         "0.0",
         "1000000000.0",
         "False",
         "3723",
         "1000000000.0",
         "370807.11059595074",
         null,
         "2025-05-25 19:03:00+00:00",
         "0.0003708071105959",
         "225886.21523994",
         "0.1275",
         "5.67582612",
         "-23.8293614",
         "222.62751692",
         "365.9647388",
         "365.9647388",
         "365.9647388",
         "0.0",
         "0.0",
         "370807.11",
         null,
         "2025-05-25 19:03:00+00:00"
        ],
        [
         "44",
         "36066",
         "Keeta",
         "KTA",
         "keeta",
         "41",
         "2025-03-19 07:00:47+00:00",
         "['layer-1']",
         "1000000000.0",
         "400000000.0",
         "1000000000.0",
         "False",
         "219",
         "400000000.0",
         "308204942.0974658",
         null,
         "2025-05-25 19:03:00+00:00",
         "0.7705123552436645",
         "8233016.71110701",
         "-50.1092",
         "0.81905601",
         "-4.54164985",
         "27.43766417",
         "405.81630226",
         "343.134579",
         "362.51760419",
         "308204942.0974658",
         "0.0",
         "770512355.24",
         null,
         "2025-05-25 19:03:00+00:00"
        ],
        [
         "45",
         "7591",
         "Misbloc",
         "MSB",
         "misbloc",
         "5",
         "2020-11-04 00:00:00+00:00",
         "['ethereum-ecosystem']",
         null,
         "199019940.0",
         "300000000.0",
         "False",
         "2423",
         "160644940.0",
         "236941.06947076067",
         null,
         "2025-05-25 19:03:00+00:00",
         "0.0014749363999311",
         "24.85835711",
         "112.2837",
         "0.00223929",
         "-2.3309761",
         "1.91867125",
         "-8.30044827",
         "-22.09582721",
         "354.73863715",
         "293541.75381811976",
         "0.0",
         "442480.92",
         null,
         "2025-05-25 19:03:00+00:00"
        ],
        [
         "46",
         "29660",
         "AASToken",
         "AAST",
         "aastoken",
         "9",
         "2024-03-06 03:39:17+00:00",
         "['platform', 'bnb-chain-ecosystem']",
         "10000000000.0",
         "0.0",
         "10000000000.0",
         "False",
         "4757",
         "7500000000.0",
         "74423970.92275986",
         null,
         "2025-05-25 19:03:00+00:00",
         "0.0099231961230346",
         "35085.50360543",
         "6.6158",
         "-0.44493016",
         "1.61379402",
         "29.98199415",
         "-22.244727",
         "386.26978625",
         "348.62254012",
         "0.0",
         "0.0",
         "99231961.23",
         null,
         "2025-05-25 19:03:00+00:00"
        ],
        [
         "47",
         "17505",
         "DiemLibre",
         "DLB",
         "diemlibre",
         "22",
         "2022-01-20 08:17:51+00:00",
         "['ethereum-ecosystem', 'bnb-chain-ecosystem']",
         null,
         "0.0",
         "5389987373.0",
         "False",
         "3321",
         null,
         null,
         null,
         "2025-05-25 19:03:00+00:00",
         "0.0009693389837507",
         "1914668.23408844",
         "0.5349",
         "0.47367901",
         "0.43376274",
         "26.18762229",
         "89.17510556",
         "37.0755633",
         "346.7972976",
         "0.0",
         "0.0",
         "5224724.88",
         null,
         "2025-05-25 19:03:00+00:00"
        ],
        [
         "48",
         "35391",
         "PEPO",
         "PEPO",
         "pepo",
         "13",
         "2025-01-21 12:51:31+00:00",
         "['solana-ecosystem']",
         null,
         "0.0",
         "1000000000.0",
         "False",
         "4042",
         "1000000000.0",
         "8317394.182984515",
         null,
         "2025-05-25 19:03:00+00:00",
         "0.0083173941829845",
         "114780.19309417",
         "-46.4967",
         "6.25248621",
         "1.05360275",
         "26.97588039",
         "512.30952589",
         "354.85520244",
         "345.27421545",
         "0.0",
         "0.0",
         "8317394.18",
         null,
         "2025-05-25 19:03:00+00:00"
        ],
        [
         "49",
         "28930",
         "OneMillionDollars",
         "OMD",
         "onemilliondollars",
         "3",
         "2024-01-03 09:59:00+00:00",
         "['bnb-chain-ecosystem']",
         "2000000000.0",
         "0.0",
         "1499976845.0627284",
         "False",
         "3506",
         "1499976845.0",
         "1795113.9562625268",
         null,
         "2025-05-25 19:03:00+00:00",
         "0.0011967611115107",
         "483746.51149802",
         "2.8062",
         "-1.24500464",
         "0.3890904",
         "37.17613555",
         "167.30682171",
         "315.60152354",
         "330.12801597",
         "0.0",
         "0.0",
         "2393522.22",
         null,
         "2025-05-25 19:03:00+00:00"
        ]
       ],
       "shape": {
        "columns": 30,
        "rows": 977
       }
      },
      "text/html": [
       "<div>\n",
       "<style scoped>\n",
       "    .dataframe tbody tr th:only-of-type {\n",
       "        vertical-align: middle;\n",
       "    }\n",
       "\n",
       "    .dataframe tbody tr th {\n",
       "        vertical-align: top;\n",
       "    }\n",
       "\n",
       "    .dataframe thead th {\n",
       "        text-align: right;\n",
       "    }\n",
       "</style>\n",
       "<table border=\"1\" class=\"dataframe\">\n",
       "  <thead>\n",
       "    <tr style=\"text-align: right;\">\n",
       "      <th></th>\n",
       "      <th>id</th>\n",
       "      <th>name</th>\n",
       "      <th>symbol</th>\n",
       "      <th>slug</th>\n",
       "      <th>num_market_pairs</th>\n",
       "      <th>date_added</th>\n",
       "      <th>tags</th>\n",
       "      <th>max_supply</th>\n",
       "      <th>circulating_supply</th>\n",
       "      <th>total_supply</th>\n",
       "      <th>...</th>\n",
       "      <th>percent_change_24h</th>\n",
       "      <th>percent_change_7d</th>\n",
       "      <th>percent_change_30d</th>\n",
       "      <th>percent_change_60d</th>\n",
       "      <th>percent_change_90d</th>\n",
       "      <th>market_cap</th>\n",
       "      <th>market_cap_dominance</th>\n",
       "      <th>fully_diluted_market_cap</th>\n",
       "      <th>tvl</th>\n",
       "      <th>last_updated.1</th>\n",
       "    </tr>\n",
       "  </thead>\n",
       "  <tbody>\n",
       "    <tr>\n",
       "      <th>0</th>\n",
       "      <td>2502</td>\n",
       "      <td>Huobi Token</td>\n",
       "      <td>HT</td>\n",
       "      <td>htx-token</td>\n",
       "      <td>136</td>\n",
       "      <td>2018-02-03 00:00:00+00:00</td>\n",
       "      <td>[marketplace, centralized-exchange, discount-t...</td>\n",
       "      <td>5.000000e+08</td>\n",
       "      <td>0.000000e+00</td>\n",
       "      <td>2.039804e+08</td>\n",
       "      <td>...</td>\n",
       "      <td>-7.630395</td>\n",
       "      <td>-11.575950</td>\n",
       "      <td>-26.108993</td>\n",
       "      <td>-32.309937</td>\n",
       "      <td>4.771636e+06</td>\n",
       "      <td>0.000000e+00</td>\n",
       "      <td>0.0000</td>\n",
       "      <td>1.532264e+08</td>\n",
       "      <td>NaN</td>\n",
       "      <td>2025-05-25 19:03:00+00:00</td>\n",
       "    </tr>\n",
       "    <tr>\n",
       "      <th>1</th>\n",
       "      <td>35487</td>\n",
       "      <td>Launch Coin on Believe</td>\n",
       "      <td>LAUNCHCOIN</td>\n",
       "      <td>launch-coin-on-believe</td>\n",
       "      <td>97</td>\n",
       "      <td>2025-01-27 06:31:18+00:00</td>\n",
       "      <td>[solana-ecosystem, internet-capital-markets, b...</td>\n",
       "      <td>1.000000e+09</td>\n",
       "      <td>9.998743e+08</td>\n",
       "      <td>9.998743e+08</td>\n",
       "      <td>...</td>\n",
       "      <td>-2.861076</td>\n",
       "      <td>-19.991750</td>\n",
       "      <td>9834.423777</td>\n",
       "      <td>20959.967951</td>\n",
       "      <td>6.934382e+04</td>\n",
       "      <td>1.848381e+08</td>\n",
       "      <td>0.0000</td>\n",
       "      <td>1.848613e+08</td>\n",
       "      <td>NaN</td>\n",
       "      <td>2025-05-25 19:03:00+00:00</td>\n",
       "    </tr>\n",
       "    <tr>\n",
       "      <th>2</th>\n",
       "      <td>33471</td>\n",
       "      <td>SORA GROK</td>\n",
       "      <td>GROK</td>\n",
       "      <td>sora-grok</td>\n",
       "      <td>1</td>\n",
       "      <td>2024-10-16 05:43:19+00:00</td>\n",
       "      <td>[ethereum-ecosystem]</td>\n",
       "      <td>1.000000e+11</td>\n",
       "      <td>0.000000e+00</td>\n",
       "      <td>1.000000e+11</td>\n",
       "      <td>...</td>\n",
       "      <td>-98.583735</td>\n",
       "      <td>-98.121671</td>\n",
       "      <td>1244.358829</td>\n",
       "      <td>5563.341372</td>\n",
       "      <td>5.593531e+04</td>\n",
       "      <td>0.000000e+00</td>\n",
       "      <td>0.0000</td>\n",
       "      <td>1.633631e+09</td>\n",
       "      <td>NaN</td>\n",
       "      <td>2025-05-25 19:03:00+00:00</td>\n",
       "    </tr>\n",
       "    <tr>\n",
       "      <th>3</th>\n",
       "      <td>20182</td>\n",
       "      <td>Mobipad</td>\n",
       "      <td>MBP</td>\n",
       "      <td>mobipad</td>\n",
       "      <td>5</td>\n",
       "      <td>2022-05-18 12:38:21+00:00</td>\n",
       "      <td>[launchpad, bnb-chain-ecosystem]</td>\n",
       "      <td>1.000000e+08</td>\n",
       "      <td>0.000000e+00</td>\n",
       "      <td>1.000000e+08</td>\n",
       "      <td>...</td>\n",
       "      <td>-1.886105</td>\n",
       "      <td>-3.814925</td>\n",
       "      <td>4.996650</td>\n",
       "      <td>36796.727749</td>\n",
       "      <td>3.679673e+04</td>\n",
       "      <td>0.000000e+00</td>\n",
       "      <td>0.0000</td>\n",
       "      <td>6.790549e+06</td>\n",
       "      <td>NaN</td>\n",
       "      <td>2025-05-25 19:03:00+00:00</td>\n",
       "    </tr>\n",
       "    <tr>\n",
       "      <th>4</th>\n",
       "      <td>33561</td>\n",
       "      <td>trumpwifhat</td>\n",
       "      <td>TRUMP</td>\n",
       "      <td>trump-wif-hat</td>\n",
       "      <td>1</td>\n",
       "      <td>2024-10-22 11:39:18+00:00</td>\n",
       "      <td>[ethereum-ecosystem]</td>\n",
       "      <td>9.988454e+10</td>\n",
       "      <td>0.000000e+00</td>\n",
       "      <td>9.988454e+10</td>\n",
       "      <td>...</td>\n",
       "      <td>600.264517</td>\n",
       "      <td>479.521358</td>\n",
       "      <td>4953.130143</td>\n",
       "      <td>8424.353767</td>\n",
       "      <td>1.716544e+04</td>\n",
       "      <td>0.000000e+00</td>\n",
       "      <td>0.0000</td>\n",
       "      <td>2.190448e+10</td>\n",
       "      <td>NaN</td>\n",
       "      <td>2025-05-25 19:03:00+00:00</td>\n",
       "    </tr>\n",
       "    <tr>\n",
       "      <th>...</th>\n",
       "      <td>...</td>\n",
       "      <td>...</td>\n",
       "      <td>...</td>\n",
       "      <td>...</td>\n",
       "      <td>...</td>\n",
       "      <td>...</td>\n",
       "      <td>...</td>\n",
       "      <td>...</td>\n",
       "      <td>...</td>\n",
       "      <td>...</td>\n",
       "      <td>...</td>\n",
       "      <td>...</td>\n",
       "      <td>...</td>\n",
       "      <td>...</td>\n",
       "      <td>...</td>\n",
       "      <td>...</td>\n",
       "      <td>...</td>\n",
       "      <td>...</td>\n",
       "      <td>...</td>\n",
       "      <td>...</td>\n",
       "      <td>...</td>\n",
       "    </tr>\n",
       "    <tr>\n",
       "      <th>972</th>\n",
       "      <td>9021</td>\n",
       "      <td>Wrapped XDAI</td>\n",
       "      <td>wxDai</td>\n",
       "      <td>wxdai</td>\n",
       "      <td>171</td>\n",
       "      <td>2021-03-30 00:00:00+00:00</td>\n",
       "      <td>[gnosis-chain-ecosystem]</td>\n",
       "      <td>NaN</td>\n",
       "      <td>0.000000e+00</td>\n",
       "      <td>0.000000e+00</td>\n",
       "      <td>...</td>\n",
       "      <td>0.004371</td>\n",
       "      <td>0.027308</td>\n",
       "      <td>0.001218</td>\n",
       "      <td>-0.008133</td>\n",
       "      <td>1.567257e-02</td>\n",
       "      <td>0.000000e+00</td>\n",
       "      <td>0.0000</td>\n",
       "      <td>0.000000e+00</td>\n",
       "      <td>NaN</td>\n",
       "      <td>2025-05-25 19:03:00+00:00</td>\n",
       "    </tr>\n",
       "    <tr>\n",
       "      <th>973</th>\n",
       "      <td>35372</td>\n",
       "      <td>StablR USD</td>\n",
       "      <td>USDR</td>\n",
       "      <td>stablr-usd</td>\n",
       "      <td>56</td>\n",
       "      <td>2025-02-17 05:40:36+00:00</td>\n",
       "      <td>[stablecoin, asset-backed-stablecoin, usd-stab...</td>\n",
       "      <td>NaN</td>\n",
       "      <td>5.850474e+06</td>\n",
       "      <td>5.850474e+06</td>\n",
       "      <td>...</td>\n",
       "      <td>-0.070002</td>\n",
       "      <td>0.009996</td>\n",
       "      <td>-0.085457</td>\n",
       "      <td>0.153209</td>\n",
       "      <td>1.104337e-02</td>\n",
       "      <td>5.844714e+06</td>\n",
       "      <td>0.0000</td>\n",
       "      <td>5.844714e+06</td>\n",
       "      <td>NaN</td>\n",
       "      <td>2025-05-25 19:03:00+00:00</td>\n",
       "    </tr>\n",
       "    <tr>\n",
       "      <th>974</th>\n",
       "      <td>29470</td>\n",
       "      <td>Ethena USDe</td>\n",
       "      <td>USDe</td>\n",
       "      <td>ethena-usde</td>\n",
       "      <td>153</td>\n",
       "      <td>2024-02-20 11:05:01+00:00</td>\n",
       "      <td>[stablecoin, asset-backed-stablecoin, binance-...</td>\n",
       "      <td>NaN</td>\n",
       "      <td>4.996929e+09</td>\n",
       "      <td>4.996929e+09</td>\n",
       "      <td>...</td>\n",
       "      <td>-0.005504</td>\n",
       "      <td>0.024782</td>\n",
       "      <td>0.092968</td>\n",
       "      <td>0.103198</td>\n",
       "      <td>8.025000e-03</td>\n",
       "      <td>5.000185e+09</td>\n",
       "      <td>0.1482</td>\n",
       "      <td>5.000185e+09</td>\n",
       "      <td>NaN</td>\n",
       "      <td>2025-05-25 19:03:00+00:00</td>\n",
       "    </tr>\n",
       "    <tr>\n",
       "      <th>975</th>\n",
       "      <td>7236</td>\n",
       "      <td>Celo Dollar</td>\n",
       "      <td>CUSD</td>\n",
       "      <td>celo-dollar</td>\n",
       "      <td>127</td>\n",
       "      <td>2020-09-29 00:00:00+00:00</td>\n",
       "      <td>[defi, stablecoin, algorithmic-stablecoin, cel...</td>\n",
       "      <td>1.000000e+15</td>\n",
       "      <td>3.555417e+07</td>\n",
       "      <td>5.724157e+07</td>\n",
       "      <td>...</td>\n",
       "      <td>0.027749</td>\n",
       "      <td>-0.001076</td>\n",
       "      <td>0.000302</td>\n",
       "      <td>-0.000903</td>\n",
       "      <td>2.788670e-03</td>\n",
       "      <td>3.555126e+07</td>\n",
       "      <td>0.0011</td>\n",
       "      <td>9.999183e+14</td>\n",
       "      <td>NaN</td>\n",
       "      <td>2025-05-25 19:03:00+00:00</td>\n",
       "    </tr>\n",
       "    <tr>\n",
       "      <th>976</th>\n",
       "      <td>26081</td>\n",
       "      <td>First Digital USD</td>\n",
       "      <td>FDUSD</td>\n",
       "      <td>first-digital-usd</td>\n",
       "      <td>524</td>\n",
       "      <td>2023-07-26 04:26:40+00:00</td>\n",
       "      <td>[stablecoin, binance-smart-chain, usd-stableco...</td>\n",
       "      <td>NaN</td>\n",
       "      <td>1.646267e+09</td>\n",
       "      <td>1.646267e+09</td>\n",
       "      <td>...</td>\n",
       "      <td>-0.029289</td>\n",
       "      <td>-0.011232</td>\n",
       "      <td>-0.056327</td>\n",
       "      <td>0.040703</td>\n",
       "      <td>1.707380e-03</td>\n",
       "      <td>1.643961e+09</td>\n",
       "      <td>0.0487</td>\n",
       "      <td>1.643961e+09</td>\n",
       "      <td>NaN</td>\n",
       "      <td>2025-05-25 19:03:00+00:00</td>\n",
       "    </tr>\n",
       "  </tbody>\n",
       "</table>\n",
       "<p>977 rows × 30 columns</p>\n",
       "</div>"
      ],
      "text/plain": [
       "        id                    name      symbol                    slug  \\\n",
       "0     2502             Huobi Token          HT               htx-token   \n",
       "1    35487  Launch Coin on Believe  LAUNCHCOIN  launch-coin-on-believe   \n",
       "2    33471               SORA GROK        GROK               sora-grok   \n",
       "3    20182                 Mobipad         MBP                 mobipad   \n",
       "4    33561             trumpwifhat       TRUMP           trump-wif-hat   \n",
       "..     ...                     ...         ...                     ...   \n",
       "972   9021            Wrapped XDAI       wxDai                   wxdai   \n",
       "973  35372              StablR USD        USDR              stablr-usd   \n",
       "974  29470             Ethena USDe        USDe             ethena-usde   \n",
       "975   7236             Celo Dollar        CUSD             celo-dollar   \n",
       "976  26081       First Digital USD       FDUSD       first-digital-usd   \n",
       "\n",
       "     num_market_pairs                date_added  \\\n",
       "0                 136 2018-02-03 00:00:00+00:00   \n",
       "1                  97 2025-01-27 06:31:18+00:00   \n",
       "2                   1 2024-10-16 05:43:19+00:00   \n",
       "3                   5 2022-05-18 12:38:21+00:00   \n",
       "4                   1 2024-10-22 11:39:18+00:00   \n",
       "..                ...                       ...   \n",
       "972               171 2021-03-30 00:00:00+00:00   \n",
       "973                56 2025-02-17 05:40:36+00:00   \n",
       "974               153 2024-02-20 11:05:01+00:00   \n",
       "975               127 2020-09-29 00:00:00+00:00   \n",
       "976               524 2023-07-26 04:26:40+00:00   \n",
       "\n",
       "                                                  tags    max_supply  \\\n",
       "0    [marketplace, centralized-exchange, discount-t...  5.000000e+08   \n",
       "1    [solana-ecosystem, internet-capital-markets, b...  1.000000e+09   \n",
       "2                                 [ethereum-ecosystem]  1.000000e+11   \n",
       "3                     [launchpad, bnb-chain-ecosystem]  1.000000e+08   \n",
       "4                                 [ethereum-ecosystem]  9.988454e+10   \n",
       "..                                                 ...           ...   \n",
       "972                           [gnosis-chain-ecosystem]           NaN   \n",
       "973  [stablecoin, asset-backed-stablecoin, usd-stab...           NaN   \n",
       "974  [stablecoin, asset-backed-stablecoin, binance-...           NaN   \n",
       "975  [defi, stablecoin, algorithmic-stablecoin, cel...  1.000000e+15   \n",
       "976  [stablecoin, binance-smart-chain, usd-stableco...           NaN   \n",
       "\n",
       "     circulating_supply  total_supply  ...  percent_change_24h  \\\n",
       "0          0.000000e+00  2.039804e+08  ...           -7.630395   \n",
       "1          9.998743e+08  9.998743e+08  ...           -2.861076   \n",
       "2          0.000000e+00  1.000000e+11  ...          -98.583735   \n",
       "3          0.000000e+00  1.000000e+08  ...           -1.886105   \n",
       "4          0.000000e+00  9.988454e+10  ...          600.264517   \n",
       "..                  ...           ...  ...                 ...   \n",
       "972        0.000000e+00  0.000000e+00  ...            0.004371   \n",
       "973        5.850474e+06  5.850474e+06  ...           -0.070002   \n",
       "974        4.996929e+09  4.996929e+09  ...           -0.005504   \n",
       "975        3.555417e+07  5.724157e+07  ...            0.027749   \n",
       "976        1.646267e+09  1.646267e+09  ...           -0.029289   \n",
       "\n",
       "     percent_change_7d  percent_change_30d  percent_change_60d  \\\n",
       "0           -11.575950          -26.108993          -32.309937   \n",
       "1           -19.991750         9834.423777        20959.967951   \n",
       "2           -98.121671         1244.358829         5563.341372   \n",
       "3            -3.814925            4.996650        36796.727749   \n",
       "4           479.521358         4953.130143         8424.353767   \n",
       "..                 ...                 ...                 ...   \n",
       "972           0.027308            0.001218           -0.008133   \n",
       "973           0.009996           -0.085457            0.153209   \n",
       "974           0.024782            0.092968            0.103198   \n",
       "975          -0.001076            0.000302           -0.000903   \n",
       "976          -0.011232           -0.056327            0.040703   \n",
       "\n",
       "     percent_change_90d    market_cap  market_cap_dominance  \\\n",
       "0          4.771636e+06  0.000000e+00                0.0000   \n",
       "1          6.934382e+04  1.848381e+08                0.0000   \n",
       "2          5.593531e+04  0.000000e+00                0.0000   \n",
       "3          3.679673e+04  0.000000e+00                0.0000   \n",
       "4          1.716544e+04  0.000000e+00                0.0000   \n",
       "..                  ...           ...                   ...   \n",
       "972        1.567257e-02  0.000000e+00                0.0000   \n",
       "973        1.104337e-02  5.844714e+06                0.0000   \n",
       "974        8.025000e-03  5.000185e+09                0.1482   \n",
       "975        2.788670e-03  3.555126e+07                0.0011   \n",
       "976        1.707380e-03  1.643961e+09                0.0487   \n",
       "\n",
       "     fully_diluted_market_cap  tvl            last_updated.1  \n",
       "0                1.532264e+08  NaN 2025-05-25 19:03:00+00:00  \n",
       "1                1.848613e+08  NaN 2025-05-25 19:03:00+00:00  \n",
       "2                1.633631e+09  NaN 2025-05-25 19:03:00+00:00  \n",
       "3                6.790549e+06  NaN 2025-05-25 19:03:00+00:00  \n",
       "4                2.190448e+10  NaN 2025-05-25 19:03:00+00:00  \n",
       "..                        ...  ...                       ...  \n",
       "972              0.000000e+00  NaN 2025-05-25 19:03:00+00:00  \n",
       "973              5.844714e+06  NaN 2025-05-25 19:03:00+00:00  \n",
       "974              5.000185e+09  NaN 2025-05-25 19:03:00+00:00  \n",
       "975              9.999183e+14  NaN 2025-05-25 19:03:00+00:00  \n",
       "976              1.643961e+09  NaN 2025-05-25 19:03:00+00:00  \n",
       "\n",
       "[977 rows x 30 columns]"
      ]
     },
     "execution_count": 15,
     "metadata": {},
     "output_type": "execute_result"
    }
   ],
   "source": [
    "# listing only coins with positive change in the last 90 days\n",
    "positive_90_days_df = listings_df[listings_df['percent_change_90d']>0].sort_values(by='percent_change_90d', ascending=False)\n",
    "\n",
    "# exclude coins with the memes and base-ecosystem tag \n",
    "exclude_list=['memes','base-ecosystem']\n",
    "positive_90_days_df = positive_90_days_df[~positive_90_days_df['tags'].apply(lambda x: any(tag in exclude_list for tag in x))]\n",
    "\n",
    "# exclude empty lists\n",
    "positive_90_days_df = positive_90_days_df[listings_df['tags'].apply(len) > 0]\n",
    "\n",
    "\n",
    "positive_90_days_df.reset_index(drop=True)\n",
    "\n"
   ]
  },
  {
   "cell_type": "code",
   "execution_count": null,
   "id": "2e99a19d",
   "metadata": {},
   "outputs": [],
   "source": []
  },
  {
   "cell_type": "code",
   "execution_count": 16,
   "id": "73edb14e",
   "metadata": {},
   "outputs": [
    {
     "data": {
      "application/vnd.microsoft.datawrangler.viewer.v0+json": {
       "columns": [
        {
         "name": "index",
         "rawType": "int64",
         "type": "integer"
        },
        {
         "name": "id",
         "rawType": "int64",
         "type": "integer"
        },
        {
         "name": "name",
         "rawType": "object",
         "type": "string"
        },
        {
         "name": "symbol",
         "rawType": "object",
         "type": "string"
        },
        {
         "name": "slug",
         "rawType": "object",
         "type": "string"
        },
        {
         "name": "num_market_pairs",
         "rawType": "int64",
         "type": "integer"
        },
        {
         "name": "date_added",
         "rawType": "datetime64[ns, UTC]",
         "type": "unknown"
        },
        {
         "name": "tags",
         "rawType": "object",
         "type": "unknown"
        },
        {
         "name": "max_supply",
         "rawType": "float64",
         "type": "float"
        },
        {
         "name": "circulating_supply",
         "rawType": "float64",
         "type": "float"
        },
        {
         "name": "total_supply",
         "rawType": "float64",
         "type": "float"
        },
        {
         "name": "infinite_supply",
         "rawType": "bool",
         "type": "boolean"
        },
        {
         "name": "cmc_rank",
         "rawType": "int64",
         "type": "integer"
        },
        {
         "name": "self_reported_circulating_supply",
         "rawType": "float64",
         "type": "float"
        },
        {
         "name": "self_reported_market_cap",
         "rawType": "float64",
         "type": "float"
        },
        {
         "name": "tvl_ratio",
         "rawType": "float64",
         "type": "float"
        },
        {
         "name": "last_updated",
         "rawType": "datetime64[ns, UTC]",
         "type": "unknown"
        },
        {
         "name": "price",
         "rawType": "float64",
         "type": "float"
        },
        {
         "name": "volume_24h",
         "rawType": "float64",
         "type": "float"
        },
        {
         "name": "volume_change_24h",
         "rawType": "float64",
         "type": "float"
        },
        {
         "name": "percent_change_1h",
         "rawType": "float64",
         "type": "float"
        },
        {
         "name": "percent_change_24h",
         "rawType": "float64",
         "type": "float"
        },
        {
         "name": "percent_change_7d",
         "rawType": "float64",
         "type": "float"
        },
        {
         "name": "percent_change_30d",
         "rawType": "float64",
         "type": "float"
        },
        {
         "name": "percent_change_60d",
         "rawType": "float64",
         "type": "float"
        },
        {
         "name": "percent_change_90d",
         "rawType": "float64",
         "type": "float"
        },
        {
         "name": "market_cap",
         "rawType": "float64",
         "type": "float"
        },
        {
         "name": "market_cap_dominance",
         "rawType": "float64",
         "type": "float"
        },
        {
         "name": "fully_diluted_market_cap",
         "rawType": "float64",
         "type": "float"
        },
        {
         "name": "tvl",
         "rawType": "float64",
         "type": "float"
        },
        {
         "name": "last_updated.1",
         "rawType": "datetime64[ns, UTC]",
         "type": "unknown"
        }
       ],
       "ref": "0687aa43-3529-432b-b984-881c9104b709",
       "rows": [
        [
         "0",
         "1027",
         "Ethereum",
         "ETH",
         "ethereum",
         "10307",
         "2015-08-07 00:00:00+00:00",
         "['pos', 'smart-contracts', 'ethereum-ecosystem', 'coinbase-ventures-portfolio', 'three-arrows-capital-portfolio', 'polychain-capital-portfolio', 'binance-labs-portfolio', 'blockchain-capital-portfolio', 'boostvc-portfolio', 'cms-holdings-portfolio', 'dcg-portfolio', 'dragonfly-capital-portfolio', 'electric-capital-portfolio', 'fabric-ventures-portfolio', 'framework-ventures-portfolio', 'hashkey-capital-portfolio', 'kenetic-capital-portfolio', 'huobi-capital-portfolio', 'alameda-research-portfolio', 'a16z-portfolio', '1confirmation-portfolio', 'winklevoss-capital-portfolio', 'usv-portfolio', 'placeholder-ventures-portfolio', 'pantera-capital-portfolio', 'multicoin-capital-portfolio', 'paradigm-portfolio', 'ethereum-pow-ecosystem', 'layer-1', 'ftx-bankruptcy-estate', 'sora-ecosystem', 'rsk-rbtc-ecosystem', 'world-liberty-financial-portfolio', 'us-strategic-crypto-reserve', 'binance-ecosystem']",
         null,
         "120725964.145659",
         "120725964.145659",
         "True",
         "2",
         null,
         null,
         null,
         "2025-05-25 19:03:00+00:00",
         "2516.836597440719",
         "13920316017.671837",
         "6.7543",
         "0.14087323",
         "-1.4142518",
         "2.10791207",
         "39.79456122",
         "26.11798231",
         "-5.14846987",
         "303847524823.11066",
         "9.0051",
         "303847524823.11",
         null,
         "2025-05-25 19:03:00+00:00"
        ],
        [
         "1",
         "825",
         "Tether USDt",
         "USDT",
         "tether",
         "129577",
         "2015-02-25 00:00:00+00:00",
         "['stablecoin', 'asset-backed-stablecoin', 'usd-stablecoin', 'ethereum-pow-ecosystem', 'fiat-stablecoin', 'tron20-ecosystem', 'rsk-rbtc-ecosystem', 'world-liberty-financial-portfolio']",
         null,
         "152732954758.03772",
         "156004732006.21027",
         "True",
         "3",
         null,
         null,
         null,
         "2025-05-25 19:02:00+00:00",
         "1.000317604870807",
         "63506041478.09058",
         "-3.3543",
         "-0.00766236",
         "0.01688786",
         "0.00499677",
         "-0.0149913",
         "0.02832861",
         "-0.01393316",
         "152781463488.4016",
         "4.528",
         "156054279868.96",
         null,
         "2025-05-25 19:02:00+00:00"
        ],
        [
         "2",
         "52",
         "XRP",
         "XRP",
         "xrp",
         "1614",
         "2013-08-04 00:00:00+00:00",
         "['medium-of-exchange', 'enterprise-solutions', 'xrp-ecosystem', 'arrington-xrp-capital-portfolio', 'galaxy-digital-portfolio', 'a16z-portfolio', 'pantera-capital-portfolio', 'ftx-bankruptcy-estate', '2017-2018-alt-season', 'klaytn-ecosystem', 'made-in-america', 'us-strategic-crypto-reserve']",
         "100000000000.0",
         "58686007292.0",
         "99986107098.0",
         "False",
         "4",
         null,
         null,
         null,
         "2025-05-25 19:03:00+00:00",
         "2.3035726478165404",
         "1928875090.2928867",
         "0.8837",
         "0.20917353",
         "-1.84994509",
         "-4.03548235",
         "4.96380045",
         "-2.96364832",
         "-5.97977309",
         "135187481207.41324",
         "4.0065",
         "230357264781.65",
         null,
         "2025-05-25 19:03:00+00:00"
        ],
        [
         "3",
         "74",
         "Dogecoin",
         "DOGE",
         "dogecoin",
         "1227",
         "2013-12-15 00:00:00+00:00",
         "['mineable', 'pow', 'scrypt', 'medium-of-exchange', 'memes', 'payments', 'doggone-doggerel', 'osmosis-ecosystem', 'ftx-bankruptcy-estate', 'animal-memes', 'made-in-america']",
         null,
         "149413056383.70514",
         "149413056383.70514",
         "True",
         "8",
         null,
         null,
         null,
         "2025-05-25 19:03:00+00:00",
         "0.2194167606028945",
         "1471128010.884547",
         "1.0046",
         "0.13684266",
         "-3.30234595",
         "-3.79825002",
         "20.7985467",
         "13.02521823",
         "-2.73479685",
         "32783728823.490208",
         "0.9716",
         "32783728823.49",
         null,
         "2025-05-25 19:03:00+00:00"
        ],
        [
         "4",
         "512",
         "Stellar",
         "XLM",
         "stellar",
         "708",
         "2014-08-05 00:00:00+00:00",
         "['medium-of-exchange', 'enterprise-solutions', 'decentralized-exchange-dex-token', 'defi', 'smart-contracts', 'hashkey-capital-portfolio', 'real-world-assets', '2017-2018-alt-season', 'made-in-america']",
         "50001806812.0",
         "31115831421.357967",
         "50001786892.81785",
         "False",
         "15",
         null,
         null,
         null,
         "2025-05-25 19:03:00+00:00",
         "0.2826165737947159",
         "160536481.54440504",
         "-7.7497",
         "0.30956733",
         "-1.61486397",
         "-2.3129661",
         "-1.06916042",
         "-0.89208243",
         "-10.53355564",
         "8793849667.078156",
         "0.2606",
         "14131339324.75",
         null,
         "2025-05-25 19:03:00+00:00"
        ],
        [
         "5",
         "328",
         "Monero",
         "XMR",
         "monero",
         "318",
         "2014-05-21 00:00:00+00:00",
         "['mineable', 'pow', 'medium-of-exchange', 'privacy', 'ringct', 'boostvc-portfolio', 'electric-capital-portfolio', 'galaxy-digital-portfolio', 'layer-1', '2017-2018-alt-season']",
         null,
         "18446744.07370955",
         "18446744.07370955",
         "True",
         "20",
         null,
         null,
         null,
         "2025-05-25 19:03:00+00:00",
         "409.0798059722394",
         "111530257.61065264",
         "-9.3847",
         "-0.62990452",
         "1.6719208",
         "20.16287266",
         "77.87976624",
         "84.96357032",
         "74.9444604",
         "7546190486.49266",
         "0.2236",
         "7546190486.49",
         null,
         "2025-05-25 19:03:00+00:00"
        ],
        [
         "6",
         "2",
         "Litecoin",
         "LTC",
         "litecoin",
         "1371",
         "2013-04-28 00:00:00+00:00",
         "['mineable', 'pow', 'scrypt', 'medium-of-exchange', 'layer-1', '2017-2018-alt-season', 'made-in-america']",
         "84000000.0",
         "75893201.98347135",
         "84000000.0",
         "False",
         "22",
         null,
         null,
         null,
         "2025-05-25 19:03:00+00:00",
         "94.37108442516788",
         "373063401.0225059",
         "-6.4702",
         "-0.25469142",
         "-2.24286523",
         "-4.49449927",
         "8.70314428",
         "2.79836676",
         "-23.61174138",
         "7162123771.678492",
         "0.2123",
         "7927171091.71",
         null,
         "2025-05-25 19:03:00+00:00"
        ],
        [
         "7",
         "131",
         "Dash",
         "DASH",
         "dash",
         "478",
         "2014-02-14 00:00:00+00:00",
         "['mineable', 'hybrid-pow-pos', 'x11', 'medium-of-exchange', 'privacy', 'masternodes', 'dao', 'governance', 'alleged-sec-securities', '2017-2018-alt-season', 'made-in-america']",
         "18900000.0",
         "12275928.66701312",
         "12275928.66701312",
         "False",
         "171",
         null,
         null,
         null,
         "2025-05-25 19:03:00+00:00",
         "23.068744419881817",
         "39169279.04074154",
         "-2.4377",
         "0.07883679",
         "-1.90456479",
         "-0.75588047",
         "2.80822398",
         "-3.73647242",
         "-9.21295168",
         "283190260.93602616",
         "0.0084",
         "435999269.54",
         null,
         "2025-05-25 19:03:00+00:00"
        ],
        [
         "8",
         "1042",
         "Siacoin",
         "SC",
         "siacoin",
         "122",
         "2015-08-26 00:00:00+00:00",
         "['mineable', 'pow', 'blake2b', 'platform', 'distributed-computing', 'filesharing', 'storage', 'dragonfly-capital-portfolio', 'fenbushi-capital-portfolio', 'paradigm-portfolio', 'web3', 'near-protocol-ecosystem', 'depin']",
         null,
         "56025636522.0752",
         "60448155676.30304",
         "True",
         "237",
         null,
         null,
         null,
         "2025-05-25 19:03:00+00:00",
         "0.0033969438568322",
         "14194731.50346499",
         "-21.1389",
         "-0.10068622",
         "-2.81379618",
         "-1.00384635",
         "-7.07251361",
         "-1.41166168",
         "-14.43332194",
         "190315941.8087781",
         "0.0056",
         "205338991.08",
         null,
         "2025-05-25 19:03:00+00:00"
        ],
        [
         "9",
         "109",
         "DigiByte",
         "DGB",
         "digibyte",
         "167",
         "2014-02-06 00:00:00+00:00",
         "['mineable', 'pow', 'multiple-algorithms', 'medium-of-exchange', 'collectibles-nfts', 'iot', 'payments', 'layer-1', 'made-in-america']",
         "21000000000.0",
         "17710016103.865757",
         "17710016103.865757",
         "False",
         "254",
         null,
         null,
         null,
         "2025-05-25 19:03:00+00:00",
         "0.0098927621315158",
         "2189176.1072021",
         "-4.2393",
         "-0.10211459",
         "-2.55570651",
         "-6.00083525",
         "-4.1922946",
         "-11.18659304",
         "30.91042211",
         "175200976.66085866",
         "0.0052",
         "207748004.76",
         null,
         "2025-05-25 19:03:00+00:00"
        ],
        [
         "10",
         "693",
         "Verge",
         "XVG",
         "verge",
         "130",
         "2014-10-25 00:00:00+00:00",
         "['mineable', 'multiple-algorithms', 'medium-of-exchange', '2017-2018-alt-season', 'made-in-america']",
         null,
         "16521951235.741348",
         "16521951235.741348",
         "False",
         "341",
         null,
         null,
         null,
         "2025-05-25 19:02:00+00:00",
         "0.0065535640901929",
         "6899522.72604741",
         "-0.8637",
         "1.05278458",
         "-6.1576436",
         "-5.22890765",
         "24.44842222",
         "24.96385266",
         "10.47276744",
         "108277666.31847411",
         "0.0032",
         "108277666.32",
         null,
         "2025-05-25 19:02:00+00:00"
        ],
        [
         "11",
         "873",
         "NEM",
         "XEM",
         "nem",
         "182",
         "2015-04-01 00:00:00+00:00",
         "['poi', 'medium-of-exchange', 'defi', 'payments', 'smart-contracts', 'fantom-ecosystem']",
         "8999999999.0",
         "8999999999.0",
         "8999999999.0",
         "False",
         "389",
         null,
         null,
         null,
         "2025-05-25 19:03:00+00:00",
         "0.0100000925505611",
         "11631204.76273361",
         "-19.485",
         "-0.07232532",
         "-22.3668315",
         "-45.01958671",
         "-42.39269873",
         "-48.68841786",
         "-52.85051406",
         "90000832.94505043",
         "0.0027",
         "90000832.95",
         null,
         "2025-05-25 19:03:00+00:00"
        ],
        [
         "12",
         "541",
         "Syscoin",
         "SYS",
         "syscoin",
         "90",
         "2014-08-20 00:00:00+00:00",
         "['mineable', 'pow', 'platform', 'enterprise-solutions', 'collectibles-nfts', 'privacy', 'zero-knowledge-proofs', 'masternodes', 'scaling', 'layer-1', 'dwf-labs-portfolio', 'modular-blockchain', 'data-availability']",
         null,
         "817470043.0169699",
         "817470043.0169699",
         "True",
         "621",
         null,
         null,
         null,
         "2025-05-25 19:03:00+00:00",
         "0.0469065416657641",
         "2855593.21741382",
         "16.1744",
         "-0.24255111",
         "-7.99239702",
         "-8.2253287",
         "1.97737624",
         "-2.01478328",
         "-25.76634352",
         "38344692.63328948",
         "0.0011",
         "38344692.63",
         null,
         "2025-05-25 19:03:00+00:00"
        ],
        [
         "13",
         "1037",
         "Agoras: Tau Net",
         "AGRS",
         "agoras-tokens",
         "26",
         "2015-08-24 00:00:00+00:00",
         "['ai-big-data', 'ethereum-ecosystem']",
         null,
         "29861810.83728983",
         "42000000.0",
         "False",
         "694",
         "30000000.0",
         "31471244.853837844",
         null,
         "2025-05-25 19:02:00+00:00",
         "1.049041495127928",
         "142012.12689545",
         "5.6864",
         "0.23826742",
         "-8.30599305",
         "-11.43627625",
         "70.59368665",
         "76.06978172",
         "53.4868519",
         "31326278.687977888",
         "0.0",
         "44059742.8",
         null,
         "2025-05-25 19:02:00+00:00"
        ],
        [
         "14",
         "258",
         "Groestlcoin",
         "GRS",
         "groestlcoin",
         "30",
         "2014-04-11 00:00:00+00:00",
         "['mineable', 'pow', 'groestl', 'medium-of-exchange']",
         "105000000.0",
         "87631068.88736624",
         "87631068.88736624",
         "False",
         "713",
         null,
         null,
         null,
         "2025-05-25 19:02:00+00:00",
         "0.3416894815688195",
         "264631.91867489",
         "52.4352",
         "0.02722965",
         "-1.83224953",
         "-3.4919809",
         "-3.08169844",
         "2.15053077",
         "-13.27071337",
         "29942614.49744568",
         "0.0",
         "35877395.56",
         null,
         "2025-05-25 19:02:00+00:00"
        ],
        [
         "15",
         "3",
         "Namecoin",
         "NMC",
         "namecoin",
         "7",
         "2013-04-28 00:00:00+00:00",
         "['mineable', 'pow', 'sha-256', 'platform']",
         null,
         "14736400.0",
         "14736400.0",
         "False",
         "907",
         null,
         null,
         null,
         "2025-05-25 19:03:00+00:00",
         "1.1802056802926533",
         "7179.51501478",
         "39.345",
         "0.19166403",
         "-0.22403303",
         "7.60745707",
         "15.60189514",
         "21.70608792",
         "15.50021835",
         "17391982.987064656",
         "0.0",
         "17391982.99",
         null,
         "2025-05-25 19:03:00+00:00"
        ],
        [
         "16",
         "132",
         "Counterparty",
         "XCP",
         "counterparty",
         "3",
         "2014-02-15 00:00:00+00:00",
         "['pow']",
         null,
         "2591256.96468123",
         "2591256.96468123",
         "False",
         "970",
         null,
         null,
         null,
         "2025-05-25 19:03:00+00:00",
         "5.604151674533592",
         "0.0",
         "-100.0",
         "0.0",
         "0.0",
         "12.42669068",
         "30.46199654",
         "11.01452996",
         "-10.94152951",
         "14521797.057765149",
         "0.0",
         "14521797.06",
         null,
         "2025-05-25 19:03:00+00:00"
        ],
        [
         "17",
         "213",
         "MonaCoin",
         "MONA",
         "monacoin",
         "24",
         "2014-03-20 00:00:00+00:00",
         "['mineable', 'pow', 'lyra2rev2', 'medium-of-exchange', 'memes', 'payments']",
         "105120000.0",
         "65729674.871168",
         "65729674.871168",
         "False",
         "1003",
         null,
         null,
         null,
         "2025-05-25 19:03:00+00:00",
         "0.2058098660712217",
         "26172.57106562",
         "-17.4476",
         "0.9439225",
         "1.01435642",
         "-6.68299561",
         "-13.08003819",
         "-10.31787571",
         "-10.4399037",
         "13527815.582140036",
         "0.0",
         "21634733.12",
         null,
         "2025-05-25 19:03:00+00:00"
        ],
        [
         "18",
         "77",
         "Diamond",
         "DMD",
         "diamond",
         "11",
         "2013-12-19 00:00:00+00:00",
         "['defi', 'masternodes', 'staking']",
         "4380000.0",
         "3864381.28933425",
         "3864381.28933425",
         "False",
         "1117",
         null,
         null,
         null,
         "2025-05-25 19:03:00+00:00",
         "2.441285591616729",
         "16610.18375911",
         "15.5662",
         "-0.34240725",
         "-1.90455082",
         "-2.63460876",
         "-7.89215778",
         "72.27903557",
         "52.62260833",
         "9434058.362164984",
         "0.0",
         "10692830.89",
         null,
         "2025-05-25 19:03:00+00:00"
        ],
        [
         "19",
         "1104",
         "Augur",
         "REP",
         "augur",
         "108",
         "2015-10-27 00:00:00+00:00",
         "['platform', 'defi', 'oracles', 'prediction-markets', 'reputation', 'ethereum-ecosystem', 'storage', '1confirmation-portfolio', 'pantera-capital-portfolio', 'multicoin-capital-portfolio', 'polygon-ecosystem', 'depin']",
         null,
         "11000000.0",
         "11000000.0",
         "False",
         "1122",
         null,
         null,
         "4.64083754",
         "2025-05-25 19:03:00+00:00",
         "0.8455765522621156",
         "179431.71528752",
         "29.4638",
         "0.25184417",
         "-7.42366324",
         "-28.01926627",
         "-7.70915039",
         "19.94771339",
         "39.67391934",
         "9301342.074883273",
         "0.0003",
         "9301342.07",
         "2004237.81226",
         "2025-05-25 19:03:00+00:00"
        ],
        [
         "20",
         "5",
         "Peercoin",
         "PPC",
         "peercoin",
         "42",
         "2013-04-28 00:00:00+00:00",
         "['mineable', 'hybrid-pow-pos', 'sha-256', 'medium-of-exchange', 'store-of-value', 'defi', 'payments', 'staking', 'ethereum-ecosystem', 'polygon-ecosystem', 'bitcoin-ecosystem']",
         null,
         "29572027.30232735",
         "29572027.30232735",
         "False",
         "1177",
         null,
         null,
         null,
         "2025-05-25 19:03:00+00:00",
         "0.2710620709851141",
         "27584.54784689",
         "-0.1557",
         "0.10836157",
         "-2.18922023",
         "-3.03864639",
         "16.99926198",
         "-21.63880772",
         "-40.71070794",
         "8015854.963797189",
         "0.0002",
         "8015854.96",
         null,
         "2025-05-25 19:03:00+00:00"
        ],
        [
         "21",
         "268",
         "WhiteCoin",
         "XWC",
         "whitecoin",
         "15",
         "2014-04-18 00:00:00+00:00",
         "['platform', 'defi', 'interoperability', 'staking', 'rpos']",
         "1000000000.0",
         "764324623.4110321",
         "971792390.0",
         "False",
         "1191",
         null,
         null,
         null,
         "2025-05-25 19:03:00+00:00",
         "0.0101631194765671",
         "203773.44080431",
         "16.1812",
         "-0.19188928",
         "-1.15580967",
         "-2.47523527",
         "-0.90618935",
         "-29.71185479",
         "-39.99718222",
         "7767922.466608535",
         "0.0",
         "10163119.48",
         null,
         "2025-05-25 19:03:00+00:00"
        ],
        [
         "22",
         "99",
         "Vertcoin",
         "VTC",
         "vertcoin",
         "20",
         "2014-01-20 00:00:00+00:00",
         "['mineable', 'pow', 'medium-of-exchange', 'privacy', 'payments']",
         "84000000.0",
         "72084185.0",
         "72084185.0",
         "False",
         "1280",
         null,
         null,
         null,
         "2025-05-25 19:03:00+00:00",
         "0.0789255469299893",
         "16895.11084533",
         "-25.1355",
         "-0.01700777",
         "3.29435627",
         "1.52822478",
         "5.84202045",
         "40.02733913",
         "70.7926467",
         "5689283.726127531",
         "0.0002",
         "6629745.94",
         null,
         "2025-05-25 19:03:00+00:00"
        ],
        [
         "23",
         "22",
         "Luckycoin",
         "LKY",
         "luckycoin",
         "10",
         "2013-06-14 00:00:00+00:00",
         "['mineable']",
         "20000000.0",
         "12070868.0",
         "12070868.0",
         "False",
         "1414",
         null,
         null,
         null,
         "2025-05-25 19:03:00+00:00",
         "0.3428105883219255",
         "244691.72640552",
         "-12.4781",
         "0.96062013",
         "-3.06493408",
         "-21.54906781",
         "40.16275548",
         "34.68047201",
         "37.12434175",
         "4138021.360636305",
         "0.0001",
         "6856211.77",
         null,
         "2025-05-25 19:03:00+00:00"
        ],
        [
         "24",
         "463",
         "BitShares",
         "BTS",
         "bitshares",
         "60",
         "2014-07-21 00:00:00+00:00",
         "['pos', 'sha-512', 'marketplace', 'decentralized-exchange-dex-token', 'defi', 'synthetics']",
         "3600570502.0",
         "2995060000.0",
         "2995060000.0",
         "False",
         "1509",
         "2995800023.21284",
         "3394009.0209445385",
         null,
         "2025-05-25 19:03:00+00:00",
         "0.0011329224229408",
         "92380.42633917",
         "-37.2703",
         "0.24353223",
         "-2.29130894",
         "2.95299908",
         "10.03138125",
         "12.77370898",
         "-5.64496313",
         "3393170.632053215",
         "0.0001",
         "4079167.06",
         null,
         "2025-05-25 19:03:00+00:00"
        ],
        [
         "25",
         "372",
         "Bytecoin",
         "BCN",
         "bytecoin-bcn",
         "15",
         "2014-06-17 00:00:00+00:00",
         "['mineable', 'pow', 'cryptonight', 'medium-of-exchange', 'privacy', 'payments']",
         "184470000000.0",
         "184066828814.058",
         "184066828814.058",
         "False",
         "1532",
         null,
         null,
         null,
         "2025-05-25 19:03:00+00:00",
         "1.767569612630546e-05",
         "86276.47387239",
         "4.3124",
         "0.0467711",
         "1.03254266",
         "-11.06398455",
         "-24.77690591",
         "-29.39183773",
         "-41.06963669",
         "3253509.333049976",
         "0.0",
         "3260635.66",
         null,
         "2025-05-25 19:03:00+00:00"
        ],
        [
         "26",
         "42",
         "Primecoin",
         "XPM",
         "primecoin",
         "6",
         "2013-07-11 00:00:00+00:00",
         "['mineable', 'pow', 'multiple-algorithms']",
         null,
         "53830126.15425155",
         "53830126.15425155",
         "False",
         "1763",
         null,
         null,
         null,
         "2025-05-25 19:03:00+00:00",
         "0.0333075302542399",
         "186.30625089",
         "-50.8936",
         "0.03890168",
         "-1.25904954",
         "6.21806422",
         "12.86909098",
         "-16.115582",
         "-11.75475597",
         "1792948.5554722876",
         "0.0",
         "1792948.56",
         null,
         "2025-05-25 19:03:00+00:00"
        ],
        [
         "27",
         "788",
         "Circuits of Value",
         "COVAL",
         "circuits-of-value",
         "39",
         "2015-01-23 00:00:00+00:00",
         "['collectibles-nfts', 'defi', 'ethereum-ecosystem', 'polygon-ecosystem', 'bnb-chain-ecosystem', 'bitcoin-ecosystem']",
         null,
         "1784838483.9070642",
         "1786752135.9070642",
         "False",
         "1858",
         null,
         null,
         null,
         "2025-05-25 19:02:00+00:00",
         "0.0008024380590388",
         "96523.44912662",
         "-7.5092",
         "0.01478084",
         "-9.44914912",
         "6.04235969",
         "2.86707214",
         "-0.8125755",
         "-19.13564138",
         "1432222.3287241445",
         "0.0",
         "1433757.92",
         null,
         "2025-05-25 19:02:00+00:00"
        ],
        [
         "28",
         "35",
         "Phoenixcoin",
         "PXC",
         "phoenixcoin",
         "4",
         "2013-07-04 00:00:00+00:00",
         "['mineable', 'neoscrypt']",
         "98000000.0",
         "92356462.125",
         "92356462.125",
         "False",
         "1947",
         null,
         null,
         null,
         "2025-05-25 19:03:00+00:00",
         "0.0118188010579561",
         "5.47536105",
         "0.0",
         "0.03890168",
         "-1.25904954",
         "2.79167505",
         "12.86909098",
         "-2.19927302",
         "-16.49912393",
         "1091542.6522720342",
         "0.0",
         "1158242.5",
         null,
         "2025-05-25 19:03:00+00:00"
        ],
        [
         "29",
         "8",
         "Feathercoin",
         "FTC",
         "feathercoin",
         "12",
         "2013-05-03 00:00:00+00:00",
         "['mineable', 'pow', 'neoscrypt', 'medium-of-exchange', 'collectibles-nfts', 'payments']",
         "336000000.0",
         "236600238.0",
         "336000000.0",
         "False",
         "2073",
         null,
         null,
         null,
         "2025-05-25 19:03:00+00:00",
         "0.0032233093794425",
         "22.13889606",
         "0.0",
         "0.03890168",
         "-1.25904954",
         "2.79167505",
         "-15.34818176",
         "-25.31580849",
         "-14.60137675",
         "762635.766323746",
         "0.0",
         "1083031.95",
         null,
         "2025-05-25 19:03:00+00:00"
        ],
        [
         "30",
         "26",
         "Junkcoin",
         "JKC",
         "junkcoin",
         "3",
         "2013-06-14 00:00:00+00:00",
         "['mineable']",
         null,
         "17843261.0",
         "17843261.0",
         "False",
         "2162",
         "18490363.823584",
         "646902.8512512671",
         null,
         "2025-05-25 19:03:00+00:00",
         "0.0349859449723838",
         "3602.62704637",
         "-2.2585",
         "1.70256325",
         "0.07201944",
         "-5.99927904",
         "21.57431734",
         "23.41167453",
         "23.09126778",
         "624263.347473883",
         "0.0",
         "624263.35",
         null,
         "2025-05-25 19:03:00+00:00"
        ],
        [
         "31",
         "72",
         "Deutsche eMark",
         "DEM",
         "deutsche-emark",
         "5",
         "2013-12-15 00:00:00+00:00",
         "['mineable', 'hybrid-pow-pos', 'sha-256']",
         null,
         "158230418.80951616",
         "165212394.88051617",
         "False",
         "2233",
         "168551110.57508445",
         "543292.3756321326",
         null,
         "2025-05-25 19:03:00+00:00",
         "0.0032233093794425",
         "9.58940293",
         "269.2968",
         "0.03890168",
         "-1.25904954",
         "54.18751258",
         "-15.34818176",
         "24.47365252",
         "-14.60137675",
         "510025.59306184057",
         "0.0",
         "532530.66",
         null,
         "2025-05-25 19:03:00+00:00"
        ],
        [
         "32",
         "293",
         "Bitcoin Plus",
         "XBC",
         "bitcoin-plus",
         "14",
         "2014-05-04 00:00:00+00:00",
         "['pos', 'medium-of-exchange', 'store-of-value', 'defi', 'payments', 'scaling', 'staking', 'bitcoin-ecosystem']",
         "1000000.0",
         "261194.56265957",
         "261194.56265957",
         "False",
         "2279",
         null,
         null,
         null,
         "2025-05-25 19:03:00+00:00",
         "1.7623081642129537",
         "0.0",
         "0.0",
         "0.0",
         "0.0",
         "-5.18955091",
         "26.15759739",
         "14.77096478",
         "43.00399403",
         "460305.3102229921",
         "0.0",
         "1762308.16",
         null,
         "2025-05-25 19:03:00+00:00"
        ],
        [
         "33",
         "638",
         "Trollcoin",
         "TROLL",
         "trollcoin",
         "5",
         "2014-09-30 00:00:00+00:00",
         "['mineable', 'hybrid-pow-pos', 'scrypt', 'bnb-chain-ecosystem']",
         null,
         "592810145.0",
         "592810145.0",
         "False",
         "2298",
         null,
         null,
         null,
         "2025-05-25 19:02:00+00:00",
         "0.0007370929272379",
         "0.0",
         "0.0",
         "0.02834987",
         "-0.9207815",
         "-29.39972864",
         "-22.43402898",
         "106.64153664",
         "93.69932134",
         "436956.1650743968",
         "0.0",
         "436956.17",
         null,
         "2025-05-25 19:02:00+00:00"
        ],
        [
         "34",
         "25",
         "Goldcoin",
         "GLC",
         "goldcoin",
         "12",
         "2013-06-14 00:00:00+00:00",
         "['mineable', 'pow', 'scrypt']",
         "72245700.0",
         "43681421.99997146",
         "44050154.99997141",
         "False",
         "2320",
         "43681421.99997146",
         "401033.64317485504",
         null,
         "2025-05-25 19:03:00+00:00",
         "0.0091808742667561",
         "0.03545662",
         "-70.7016",
         "0.02070244",
         "5.74718238",
         "5.75102311",
         "-2.89502673",
         "-18.48317636",
         "-44.42380927",
         "401033.64317485504",
         "0.0",
         "663278.69",
         null,
         "2025-05-25 19:03:00+00:00"
        ],
        [
         "35",
         "853",
         "LiteDoge",
         "LDOGE",
         "litedoge",
         "1",
         "2015-03-19 00:00:00+00:00",
         "['hybrid-pow-pos', 'scrypt']",
         null,
         "16423000000.0",
         "16422580992.333977",
         "False",
         "2325",
         "14639072638.75",
         "353235.14281285374",
         null,
         "2025-05-25 19:03:00+00:00",
         "2.4129612000000003e-05",
         "0.0",
         "0.0",
         "0.12781959",
         "-3.22011469",
         "-3.7472097",
         "171.22333696",
         "153.93924724",
         "118.51889082",
         "396280.61787600006",
         "0.0",
         "396270.51",
         null,
         "2025-05-25 19:03:00+00:00"
        ],
        [
         "36",
         "506",
         "CannabisCoin",
         "CANN",
         "cannabiscoin",
         "1",
         "2014-08-02 00:00:00+00:00",
         "['mineable', 'pow']",
         null,
         "321124782.67584",
         "335752782.67584",
         "False",
         "2359",
         "77231175.532608",
         "86080.27735893597",
         null,
         "2025-05-25 19:03:00+00:00",
         "0.0011145794009388",
         "0.0",
         "0.0",
         "0.0",
         "0.0",
         "-41.24603781",
         "-33.72126856",
         "-33.72126856",
         "-61.33516199",
         "357919.0679014502",
         "0.0",
         "374223.14",
         null,
         "2025-05-25 19:03:00+00:00"
        ],
        [
         "37",
         "90",
         "Dimecoin",
         "DIME",
         "dimecoin",
         "16",
         "2014-01-06 00:00:00+00:00",
         "['mineable', 'pow', 'quark']",
         null,
         "478333438962.0",
         "583743044330.4753",
         "False",
         "2401",
         null,
         null,
         null,
         "2025-05-25 19:03:00+00:00",
         "6.48524068579779e-07",
         "8.345e-05",
         "-90.822",
         "0.01257036",
         "-2.31227537",
         "-10.09682485",
         "26.52912749",
         "33.1815067",
         "-28.17611159",
         "310210.7479733936",
         "0.0",
         "378571.41",
         null,
         "2025-05-25 19:03:00+00:00"
        ],
        [
         "38",
         "362",
         "CloakCoin",
         "CLOAK",
         "cloakcoin",
         "6",
         "2014-06-07 00:00:00+00:00",
         "['hybrid-pow-pos', 'x13', 'privacy']",
         null,
         "6061081.28677635",
         "6061081.28677635",
         "False",
         "2436",
         null,
         null,
         null,
         "2025-05-25 19:03:00+00:00",
         "0.04701675736004",
         "0.0",
         "0.0",
         "0.0",
         "0.0",
         "11.66547133",
         "-17.68989984",
         "-42.16047477",
         "-45.51586465",
         "284972.38819984265",
         "0.0",
         "284972.39",
         null,
         "2025-05-25 19:03:00+00:00"
        ],
        [
         "39",
         "576",
         "GameCredits",
         "GAME",
         "gamecredits",
         "25",
         "2014-09-01 00:00:00+00:00",
         "['collectibles-nfts', 'gaming', 'ethereum-ecosystem', 'metaverse', 'polygon-ecosystem']",
         "200000000.0",
         "193823779.4254144",
         "200000000.0",
         "False",
         "2467",
         null,
         null,
         null,
         "2025-05-25 19:03:00+00:00",
         "0.0012859522638877",
         "0.0",
         "0.0",
         "0.0",
         "7.08171191",
         "-10.23187524",
         "-27.87646168",
         "15.41191348",
         "26.91125604",
         "249248.12794740088",
         "0.0",
         "257190.45",
         null,
         "2025-05-25 19:03:00+00:00"
        ],
        [
         "40",
         "659",
         "Bitswift",
         "BITS",
         "bitswift",
         "3",
         "2014-10-05 00:00:00+00:00",
         "['platform', 'enterprise-solutions']",
         null,
         "3884634.745",
         "3884634.745",
         "False",
         "2519",
         null,
         null,
         null,
         "2025-05-25 19:02:00+00:00",
         "0.0553517881213102",
         "0.0",
         "0.0",
         "0.0",
         "0.0",
         "5.93546015",
         "-29.79184904",
         "-15.51729353",
         "-22.66030666",
         "215021.47933391988",
         "0.0",
         "215021.48",
         null,
         "2025-05-25 19:02:00+00:00"
        ],
        [
         "41",
         "87",
         "FedoraCoin",
         "TIPS",
         "fedoracoin",
         "2",
         "2013-12-31 00:00:00+00:00",
         "['mineable']",
         null,
         "212269865434.284",
         "482759907611.124",
         "False",
         "2719",
         null,
         null,
         null,
         "2025-05-25 19:03:00+00:00",
         "4.660558784666814e-07",
         "65694.48946314",
         "-27.7077",
         "-3.33318829",
         "-14.3375333",
         "-77.21610984",
         "-69.6725183",
         "-62.29850107",
         "-69.03180475",
         "98929.61860697948",
         "0.0",
         "224993.09",
         null,
         "2025-05-25 19:03:00+00:00"
        ],
        [
         "42",
         "1106",
         "StrongHands",
         "SHND",
         "stronghands",
         "13",
         "2015-10-30 00:00:00+00:00",
         "['mineable', 'hybrid-pow-pos', 'medium-of-exchange', 'defi', 'staking']",
         "29000000000.0",
         "19744690585.40179",
         "20157884939.40179",
         "False",
         "2729",
         "20157836359.40179",
         "96585.68225328908",
         null,
         "2025-05-25 19:03:00+00:00",
         "4.791470698105983e-06",
         "349.08728457",
         "4262.5687",
         "0.00458338",
         "0.01164139",
         "-1.01279217",
         "-0.23666404",
         "-40.10433852",
         "-47.37052752",
         "94606.10638312176",
         "0.0",
         "138952.65",
         null,
         "2025-05-25 19:03:00+00:00"
        ],
        [
         "43",
         "1107",
         "PAC Protocol",
         "PAC",
         "pac-protocol",
         "14",
         "2015-11-02 00:00:00+00:00",
         "['mineable', 'pos', 'pos-30', 'decentralized-exchange-dex-token', 'defi', 'filesharing', 'masternodes', 'storage', 'depin']",
         "50000000000.0",
         "17443000000.0",
         "17443000000.0",
         "False",
         "2755",
         null,
         null,
         null,
         "2025-05-25 19:02:00+00:00",
         "5.001328475033404e-06",
         "0.0",
         "-100.0",
         "0.0",
         "-3.26133776",
         "-9.48371779",
         "-43.04287591",
         "-56.04456552",
         "-52.86349057",
         "87238.17259000766",
         "0.0",
         "250066.42",
         null,
         "2025-05-25 19:02:00+00:00"
        ],
        [
         "44",
         "1053",
         "Bolivarcoin",
         "BOLI",
         "bolivarcoin",
         "4",
         "2015-09-08 00:00:00+00:00",
         "['mineable', 'pow', 'x11', 'masternodes']",
         "25000000.0",
         "20259385.62379985",
         "20259385.62379985",
         "False",
         "2896",
         null,
         null,
         null,
         "2025-05-25 19:03:00+00:00",
         "0.0022067773501235",
         "0.0",
         "0.0",
         "-0.00454636",
         "-11.7427791",
         "-40.45174342",
         "0.17478922",
         "22.11253708",
         "20.41339691",
         "44707.95332201935",
         "0.0",
         "55169.43",
         null,
         "2025-05-25 19:03:00+00:00"
        ],
        [
         "45",
         "601",
         "Acoin",
         "ACOIN",
         "acoin",
         "1",
         "2014-09-13 00:00:00+00:00",
         "['mineable', 'pow', 'sha-256']",
         null,
         "1220084.956657",
         "1220084.956657",
         "False",
         "3126",
         null,
         null,
         null,
         "2025-05-25 19:03:00+00:00",
         "0.0039679112790349",
         "0.0",
         "0.0",
         "0.0",
         "0.0",
         "0.0",
         "0.0",
         "-10.89066785",
         "-33.62436412",
         "4841.18886090021",
         "0.0",
         "4841.19",
         null,
         "2025-05-25 19:03:00+00:00"
        ],
        [
         "46",
         "1035",
         "AmsterdamCoin",
         "AMS",
         "amsterdamcoin",
         "3",
         "2015-08-21 00:00:00+00:00",
         "['mineable', 'hybrid-pow-pos', 'quark']",
         null,
         "0.0",
         "81469427.252328",
         "False",
         "4305",
         "50201886.165387",
         "67795.23445824436",
         null,
         "2025-05-25 19:02:00+00:00",
         "0.0013504519378992",
         "91502.29382343",
         "3.9316",
         "0.0062766",
         "0.02103282",
         "0.45160903",
         "15.57055536",
         "-23.84135163",
         "-7.37115195",
         "0.0",
         "0.0",
         "110020.55",
         null,
         "2025-05-25 19:02:00+00:00"
        ],
        [
         "47",
         "377",
         "Navio",
         "NAV",
         "nav-coin",
         "17",
         "2014-06-12 00:00:00+00:00",
         "['pos', 'medium-of-exchange', 'bnb-chain-ecosystem']",
         null,
         "0.0",
         "76939361.4888581",
         "False",
         "4523",
         "78361080.0",
         "863880.384362672",
         null,
         "2025-05-25 19:03:00+00:00",
         "0.0110243552585374",
         "70555.96894449",
         "-6.9727",
         "0.50131389",
         "5.26884323",
         "-15.97311323",
         "-32.97277507",
         "-60.50809145",
         "-77.06117807",
         "0.0",
         "0.0",
         "848206.85",
         null,
         "2025-05-25 19:03:00+00:00"
        ],
        [
         "48",
         "162",
         "Magic Internet Money",
         "MIM",
         "magic-internet-money",
         "596",
         "2014-03-12 00:00:00+00:00",
         "['mineable', 'stablecoin']",
         null,
         "0.0",
         "698964077.0",
         "False",
         "4578",
         "103827108.0",
         "103677546.92219795",
         null,
         "2025-05-25 19:03:00+00:00",
         "0.9985595180229614",
         "60887.0462065",
         "-10.5804",
         "0.01894967",
         "-0.04947474",
         "-0.02797315",
         "-0.06678156",
         "0.54480662",
         "0.10196852",
         "0.0",
         "0.0031",
         "697957231.84",
         null,
         "2025-05-25 19:03:00+00:00"
        ],
        [
         "49",
         "154",
         "Marscoin",
         "MARS",
         "marscoin",
         "14",
         "2014-02-24 00:00:00+00:00",
         "['mineable', 'pow', 'x11']",
         "39569900.0",
         "0.0",
         "39569900.0",
         "False",
         "4668",
         "37775137.0",
         "2848603.831788037",
         null,
         "2025-05-25 19:03:00+00:00",
         "0.0754094904219152",
         "47505.1592384",
         "-17.136",
         "-0.00804087",
         "-1.75684811",
         "-0.4060868",
         "5.20321408",
         "59.4582508",
         "-26.11524553",
         "0.0",
         "0.0",
         "2983946.0",
         null,
         "2025-05-25 19:03:00+00:00"
        ]
       ],
       "shape": {
        "columns": 30,
        "rows": 50
       }
      },
      "text/html": [
       "<div>\n",
       "<style scoped>\n",
       "    .dataframe tbody tr th:only-of-type {\n",
       "        vertical-align: middle;\n",
       "    }\n",
       "\n",
       "    .dataframe tbody tr th {\n",
       "        vertical-align: top;\n",
       "    }\n",
       "\n",
       "    .dataframe thead th {\n",
       "        text-align: right;\n",
       "    }\n",
       "</style>\n",
       "<table border=\"1\" class=\"dataframe\">\n",
       "  <thead>\n",
       "    <tr style=\"text-align: right;\">\n",
       "      <th></th>\n",
       "      <th>id</th>\n",
       "      <th>name</th>\n",
       "      <th>symbol</th>\n",
       "      <th>slug</th>\n",
       "      <th>num_market_pairs</th>\n",
       "      <th>date_added</th>\n",
       "      <th>tags</th>\n",
       "      <th>max_supply</th>\n",
       "      <th>circulating_supply</th>\n",
       "      <th>total_supply</th>\n",
       "      <th>...</th>\n",
       "      <th>percent_change_24h</th>\n",
       "      <th>percent_change_7d</th>\n",
       "      <th>percent_change_30d</th>\n",
       "      <th>percent_change_60d</th>\n",
       "      <th>percent_change_90d</th>\n",
       "      <th>market_cap</th>\n",
       "      <th>market_cap_dominance</th>\n",
       "      <th>fully_diluted_market_cap</th>\n",
       "      <th>tvl</th>\n",
       "      <th>last_updated.1</th>\n",
       "    </tr>\n",
       "  </thead>\n",
       "  <tbody>\n",
       "    <tr>\n",
       "      <th>0</th>\n",
       "      <td>1027</td>\n",
       "      <td>Ethereum</td>\n",
       "      <td>ETH</td>\n",
       "      <td>ethereum</td>\n",
       "      <td>10307</td>\n",
       "      <td>2015-08-07 00:00:00+00:00</td>\n",
       "      <td>[pos, smart-contracts, ethereum-ecosystem, coi...</td>\n",
       "      <td>NaN</td>\n",
       "      <td>1.207260e+08</td>\n",
       "      <td>1.207260e+08</td>\n",
       "      <td>...</td>\n",
       "      <td>-1.414252</td>\n",
       "      <td>2.107912</td>\n",
       "      <td>39.794561</td>\n",
       "      <td>26.117982</td>\n",
       "      <td>-5.148470</td>\n",
       "      <td>3.038475e+11</td>\n",
       "      <td>9.0051</td>\n",
       "      <td>3.038475e+11</td>\n",
       "      <td>NaN</td>\n",
       "      <td>2025-05-25 19:03:00+00:00</td>\n",
       "    </tr>\n",
       "    <tr>\n",
       "      <th>1</th>\n",
       "      <td>825</td>\n",
       "      <td>Tether USDt</td>\n",
       "      <td>USDT</td>\n",
       "      <td>tether</td>\n",
       "      <td>129577</td>\n",
       "      <td>2015-02-25 00:00:00+00:00</td>\n",
       "      <td>[stablecoin, asset-backed-stablecoin, usd-stab...</td>\n",
       "      <td>NaN</td>\n",
       "      <td>1.527330e+11</td>\n",
       "      <td>1.560047e+11</td>\n",
       "      <td>...</td>\n",
       "      <td>0.016888</td>\n",
       "      <td>0.004997</td>\n",
       "      <td>-0.014991</td>\n",
       "      <td>0.028329</td>\n",
       "      <td>-0.013933</td>\n",
       "      <td>1.527815e+11</td>\n",
       "      <td>4.5280</td>\n",
       "      <td>1.560543e+11</td>\n",
       "      <td>NaN</td>\n",
       "      <td>2025-05-25 19:02:00+00:00</td>\n",
       "    </tr>\n",
       "    <tr>\n",
       "      <th>2</th>\n",
       "      <td>52</td>\n",
       "      <td>XRP</td>\n",
       "      <td>XRP</td>\n",
       "      <td>xrp</td>\n",
       "      <td>1614</td>\n",
       "      <td>2013-08-04 00:00:00+00:00</td>\n",
       "      <td>[medium-of-exchange, enterprise-solutions, xrp...</td>\n",
       "      <td>1.000000e+11</td>\n",
       "      <td>5.868601e+10</td>\n",
       "      <td>9.998611e+10</td>\n",
       "      <td>...</td>\n",
       "      <td>-1.849945</td>\n",
       "      <td>-4.035482</td>\n",
       "      <td>4.963800</td>\n",
       "      <td>-2.963648</td>\n",
       "      <td>-5.979773</td>\n",
       "      <td>1.351875e+11</td>\n",
       "      <td>4.0065</td>\n",
       "      <td>2.303573e+11</td>\n",
       "      <td>NaN</td>\n",
       "      <td>2025-05-25 19:03:00+00:00</td>\n",
       "    </tr>\n",
       "    <tr>\n",
       "      <th>3</th>\n",
       "      <td>74</td>\n",
       "      <td>Dogecoin</td>\n",
       "      <td>DOGE</td>\n",
       "      <td>dogecoin</td>\n",
       "      <td>1227</td>\n",
       "      <td>2013-12-15 00:00:00+00:00</td>\n",
       "      <td>[mineable, pow, scrypt, medium-of-exchange, me...</td>\n",
       "      <td>NaN</td>\n",
       "      <td>1.494131e+11</td>\n",
       "      <td>1.494131e+11</td>\n",
       "      <td>...</td>\n",
       "      <td>-3.302346</td>\n",
       "      <td>-3.798250</td>\n",
       "      <td>20.798547</td>\n",
       "      <td>13.025218</td>\n",
       "      <td>-2.734797</td>\n",
       "      <td>3.278373e+10</td>\n",
       "      <td>0.9716</td>\n",
       "      <td>3.278373e+10</td>\n",
       "      <td>NaN</td>\n",
       "      <td>2025-05-25 19:03:00+00:00</td>\n",
       "    </tr>\n",
       "    <tr>\n",
       "      <th>4</th>\n",
       "      <td>512</td>\n",
       "      <td>Stellar</td>\n",
       "      <td>XLM</td>\n",
       "      <td>stellar</td>\n",
       "      <td>708</td>\n",
       "      <td>2014-08-05 00:00:00+00:00</td>\n",
       "      <td>[medium-of-exchange, enterprise-solutions, dec...</td>\n",
       "      <td>5.000181e+10</td>\n",
       "      <td>3.111583e+10</td>\n",
       "      <td>5.000179e+10</td>\n",
       "      <td>...</td>\n",
       "      <td>-1.614864</td>\n",
       "      <td>-2.312966</td>\n",
       "      <td>-1.069160</td>\n",
       "      <td>-0.892082</td>\n",
       "      <td>-10.533556</td>\n",
       "      <td>8.793850e+09</td>\n",
       "      <td>0.2606</td>\n",
       "      <td>1.413134e+10</td>\n",
       "      <td>NaN</td>\n",
       "      <td>2025-05-25 19:03:00+00:00</td>\n",
       "    </tr>\n",
       "    <tr>\n",
       "      <th>5</th>\n",
       "      <td>328</td>\n",
       "      <td>Monero</td>\n",
       "      <td>XMR</td>\n",
       "      <td>monero</td>\n",
       "      <td>318</td>\n",
       "      <td>2014-05-21 00:00:00+00:00</td>\n",
       "      <td>[mineable, pow, medium-of-exchange, privacy, r...</td>\n",
       "      <td>NaN</td>\n",
       "      <td>1.844674e+07</td>\n",
       "      <td>1.844674e+07</td>\n",
       "      <td>...</td>\n",
       "      <td>1.671921</td>\n",
       "      <td>20.162873</td>\n",
       "      <td>77.879766</td>\n",
       "      <td>84.963570</td>\n",
       "      <td>74.944460</td>\n",
       "      <td>7.546190e+09</td>\n",
       "      <td>0.2236</td>\n",
       "      <td>7.546190e+09</td>\n",
       "      <td>NaN</td>\n",
       "      <td>2025-05-25 19:03:00+00:00</td>\n",
       "    </tr>\n",
       "    <tr>\n",
       "      <th>6</th>\n",
       "      <td>2</td>\n",
       "      <td>Litecoin</td>\n",
       "      <td>LTC</td>\n",
       "      <td>litecoin</td>\n",
       "      <td>1371</td>\n",
       "      <td>2013-04-28 00:00:00+00:00</td>\n",
       "      <td>[mineable, pow, scrypt, medium-of-exchange, la...</td>\n",
       "      <td>8.400000e+07</td>\n",
       "      <td>7.589320e+07</td>\n",
       "      <td>8.400000e+07</td>\n",
       "      <td>...</td>\n",
       "      <td>-2.242865</td>\n",
       "      <td>-4.494499</td>\n",
       "      <td>8.703144</td>\n",
       "      <td>2.798367</td>\n",
       "      <td>-23.611741</td>\n",
       "      <td>7.162124e+09</td>\n",
       "      <td>0.2123</td>\n",
       "      <td>7.927171e+09</td>\n",
       "      <td>NaN</td>\n",
       "      <td>2025-05-25 19:03:00+00:00</td>\n",
       "    </tr>\n",
       "    <tr>\n",
       "      <th>7</th>\n",
       "      <td>131</td>\n",
       "      <td>Dash</td>\n",
       "      <td>DASH</td>\n",
       "      <td>dash</td>\n",
       "      <td>478</td>\n",
       "      <td>2014-02-14 00:00:00+00:00</td>\n",
       "      <td>[mineable, hybrid-pow-pos, x11, medium-of-exch...</td>\n",
       "      <td>1.890000e+07</td>\n",
       "      <td>1.227593e+07</td>\n",
       "      <td>1.227593e+07</td>\n",
       "      <td>...</td>\n",
       "      <td>-1.904565</td>\n",
       "      <td>-0.755880</td>\n",
       "      <td>2.808224</td>\n",
       "      <td>-3.736472</td>\n",
       "      <td>-9.212952</td>\n",
       "      <td>2.831903e+08</td>\n",
       "      <td>0.0084</td>\n",
       "      <td>4.359993e+08</td>\n",
       "      <td>NaN</td>\n",
       "      <td>2025-05-25 19:03:00+00:00</td>\n",
       "    </tr>\n",
       "    <tr>\n",
       "      <th>8</th>\n",
       "      <td>1042</td>\n",
       "      <td>Siacoin</td>\n",
       "      <td>SC</td>\n",
       "      <td>siacoin</td>\n",
       "      <td>122</td>\n",
       "      <td>2015-08-26 00:00:00+00:00</td>\n",
       "      <td>[mineable, pow, blake2b, platform, distributed...</td>\n",
       "      <td>NaN</td>\n",
       "      <td>5.602564e+10</td>\n",
       "      <td>6.044816e+10</td>\n",
       "      <td>...</td>\n",
       "      <td>-2.813796</td>\n",
       "      <td>-1.003846</td>\n",
       "      <td>-7.072514</td>\n",
       "      <td>-1.411662</td>\n",
       "      <td>-14.433322</td>\n",
       "      <td>1.903159e+08</td>\n",
       "      <td>0.0056</td>\n",
       "      <td>2.053390e+08</td>\n",
       "      <td>NaN</td>\n",
       "      <td>2025-05-25 19:03:00+00:00</td>\n",
       "    </tr>\n",
       "    <tr>\n",
       "      <th>9</th>\n",
       "      <td>109</td>\n",
       "      <td>DigiByte</td>\n",
       "      <td>DGB</td>\n",
       "      <td>digibyte</td>\n",
       "      <td>167</td>\n",
       "      <td>2014-02-06 00:00:00+00:00</td>\n",
       "      <td>[mineable, pow, multiple-algorithms, medium-of...</td>\n",
       "      <td>2.100000e+10</td>\n",
       "      <td>1.771002e+10</td>\n",
       "      <td>1.771002e+10</td>\n",
       "      <td>...</td>\n",
       "      <td>-2.555707</td>\n",
       "      <td>-6.000835</td>\n",
       "      <td>-4.192295</td>\n",
       "      <td>-11.186593</td>\n",
       "      <td>30.910422</td>\n",
       "      <td>1.752010e+08</td>\n",
       "      <td>0.0052</td>\n",
       "      <td>2.077480e+08</td>\n",
       "      <td>NaN</td>\n",
       "      <td>2025-05-25 19:03:00+00:00</td>\n",
       "    </tr>\n",
       "    <tr>\n",
       "      <th>10</th>\n",
       "      <td>693</td>\n",
       "      <td>Verge</td>\n",
       "      <td>XVG</td>\n",
       "      <td>verge</td>\n",
       "      <td>130</td>\n",
       "      <td>2014-10-25 00:00:00+00:00</td>\n",
       "      <td>[mineable, multiple-algorithms, medium-of-exch...</td>\n",
       "      <td>NaN</td>\n",
       "      <td>1.652195e+10</td>\n",
       "      <td>1.652195e+10</td>\n",
       "      <td>...</td>\n",
       "      <td>-6.157644</td>\n",
       "      <td>-5.228908</td>\n",
       "      <td>24.448422</td>\n",
       "      <td>24.963853</td>\n",
       "      <td>10.472767</td>\n",
       "      <td>1.082777e+08</td>\n",
       "      <td>0.0032</td>\n",
       "      <td>1.082777e+08</td>\n",
       "      <td>NaN</td>\n",
       "      <td>2025-05-25 19:02:00+00:00</td>\n",
       "    </tr>\n",
       "    <tr>\n",
       "      <th>11</th>\n",
       "      <td>873</td>\n",
       "      <td>NEM</td>\n",
       "      <td>XEM</td>\n",
       "      <td>nem</td>\n",
       "      <td>182</td>\n",
       "      <td>2015-04-01 00:00:00+00:00</td>\n",
       "      <td>[poi, medium-of-exchange, defi, payments, smar...</td>\n",
       "      <td>9.000000e+09</td>\n",
       "      <td>9.000000e+09</td>\n",
       "      <td>9.000000e+09</td>\n",
       "      <td>...</td>\n",
       "      <td>-22.366831</td>\n",
       "      <td>-45.019587</td>\n",
       "      <td>-42.392699</td>\n",
       "      <td>-48.688418</td>\n",
       "      <td>-52.850514</td>\n",
       "      <td>9.000083e+07</td>\n",
       "      <td>0.0027</td>\n",
       "      <td>9.000083e+07</td>\n",
       "      <td>NaN</td>\n",
       "      <td>2025-05-25 19:03:00+00:00</td>\n",
       "    </tr>\n",
       "    <tr>\n",
       "      <th>12</th>\n",
       "      <td>541</td>\n",
       "      <td>Syscoin</td>\n",
       "      <td>SYS</td>\n",
       "      <td>syscoin</td>\n",
       "      <td>90</td>\n",
       "      <td>2014-08-20 00:00:00+00:00</td>\n",
       "      <td>[mineable, pow, platform, enterprise-solutions...</td>\n",
       "      <td>NaN</td>\n",
       "      <td>8.174700e+08</td>\n",
       "      <td>8.174700e+08</td>\n",
       "      <td>...</td>\n",
       "      <td>-7.992397</td>\n",
       "      <td>-8.225329</td>\n",
       "      <td>1.977376</td>\n",
       "      <td>-2.014783</td>\n",
       "      <td>-25.766344</td>\n",
       "      <td>3.834469e+07</td>\n",
       "      <td>0.0011</td>\n",
       "      <td>3.834469e+07</td>\n",
       "      <td>NaN</td>\n",
       "      <td>2025-05-25 19:03:00+00:00</td>\n",
       "    </tr>\n",
       "    <tr>\n",
       "      <th>13</th>\n",
       "      <td>1037</td>\n",
       "      <td>Agoras: Tau Net</td>\n",
       "      <td>AGRS</td>\n",
       "      <td>agoras-tokens</td>\n",
       "      <td>26</td>\n",
       "      <td>2015-08-24 00:00:00+00:00</td>\n",
       "      <td>[ai-big-data, ethereum-ecosystem]</td>\n",
       "      <td>NaN</td>\n",
       "      <td>2.986181e+07</td>\n",
       "      <td>4.200000e+07</td>\n",
       "      <td>...</td>\n",
       "      <td>-8.305993</td>\n",
       "      <td>-11.436276</td>\n",
       "      <td>70.593687</td>\n",
       "      <td>76.069782</td>\n",
       "      <td>53.486852</td>\n",
       "      <td>3.132628e+07</td>\n",
       "      <td>0.0000</td>\n",
       "      <td>4.405974e+07</td>\n",
       "      <td>NaN</td>\n",
       "      <td>2025-05-25 19:02:00+00:00</td>\n",
       "    </tr>\n",
       "    <tr>\n",
       "      <th>14</th>\n",
       "      <td>258</td>\n",
       "      <td>Groestlcoin</td>\n",
       "      <td>GRS</td>\n",
       "      <td>groestlcoin</td>\n",
       "      <td>30</td>\n",
       "      <td>2014-04-11 00:00:00+00:00</td>\n",
       "      <td>[mineable, pow, groestl, medium-of-exchange]</td>\n",
       "      <td>1.050000e+08</td>\n",
       "      <td>8.763107e+07</td>\n",
       "      <td>8.763107e+07</td>\n",
       "      <td>...</td>\n",
       "      <td>-1.832250</td>\n",
       "      <td>-3.491981</td>\n",
       "      <td>-3.081698</td>\n",
       "      <td>2.150531</td>\n",
       "      <td>-13.270713</td>\n",
       "      <td>2.994261e+07</td>\n",
       "      <td>0.0000</td>\n",
       "      <td>3.587740e+07</td>\n",
       "      <td>NaN</td>\n",
       "      <td>2025-05-25 19:02:00+00:00</td>\n",
       "    </tr>\n",
       "    <tr>\n",
       "      <th>15</th>\n",
       "      <td>3</td>\n",
       "      <td>Namecoin</td>\n",
       "      <td>NMC</td>\n",
       "      <td>namecoin</td>\n",
       "      <td>7</td>\n",
       "      <td>2013-04-28 00:00:00+00:00</td>\n",
       "      <td>[mineable, pow, sha-256, platform]</td>\n",
       "      <td>NaN</td>\n",
       "      <td>1.473640e+07</td>\n",
       "      <td>1.473640e+07</td>\n",
       "      <td>...</td>\n",
       "      <td>-0.224033</td>\n",
       "      <td>7.607457</td>\n",
       "      <td>15.601895</td>\n",
       "      <td>21.706088</td>\n",
       "      <td>15.500218</td>\n",
       "      <td>1.739198e+07</td>\n",
       "      <td>0.0000</td>\n",
       "      <td>1.739198e+07</td>\n",
       "      <td>NaN</td>\n",
       "      <td>2025-05-25 19:03:00+00:00</td>\n",
       "    </tr>\n",
       "    <tr>\n",
       "      <th>16</th>\n",
       "      <td>132</td>\n",
       "      <td>Counterparty</td>\n",
       "      <td>XCP</td>\n",
       "      <td>counterparty</td>\n",
       "      <td>3</td>\n",
       "      <td>2014-02-15 00:00:00+00:00</td>\n",
       "      <td>[pow]</td>\n",
       "      <td>NaN</td>\n",
       "      <td>2.591257e+06</td>\n",
       "      <td>2.591257e+06</td>\n",
       "      <td>...</td>\n",
       "      <td>0.000000</td>\n",
       "      <td>12.426691</td>\n",
       "      <td>30.461997</td>\n",
       "      <td>11.014530</td>\n",
       "      <td>-10.941530</td>\n",
       "      <td>1.452180e+07</td>\n",
       "      <td>0.0000</td>\n",
       "      <td>1.452180e+07</td>\n",
       "      <td>NaN</td>\n",
       "      <td>2025-05-25 19:03:00+00:00</td>\n",
       "    </tr>\n",
       "    <tr>\n",
       "      <th>17</th>\n",
       "      <td>213</td>\n",
       "      <td>MonaCoin</td>\n",
       "      <td>MONA</td>\n",
       "      <td>monacoin</td>\n",
       "      <td>24</td>\n",
       "      <td>2014-03-20 00:00:00+00:00</td>\n",
       "      <td>[mineable, pow, lyra2rev2, medium-of-exchange,...</td>\n",
       "      <td>1.051200e+08</td>\n",
       "      <td>6.572967e+07</td>\n",
       "      <td>6.572967e+07</td>\n",
       "      <td>...</td>\n",
       "      <td>1.014356</td>\n",
       "      <td>-6.682996</td>\n",
       "      <td>-13.080038</td>\n",
       "      <td>-10.317876</td>\n",
       "      <td>-10.439904</td>\n",
       "      <td>1.352782e+07</td>\n",
       "      <td>0.0000</td>\n",
       "      <td>2.163473e+07</td>\n",
       "      <td>NaN</td>\n",
       "      <td>2025-05-25 19:03:00+00:00</td>\n",
       "    </tr>\n",
       "    <tr>\n",
       "      <th>18</th>\n",
       "      <td>77</td>\n",
       "      <td>Diamond</td>\n",
       "      <td>DMD</td>\n",
       "      <td>diamond</td>\n",
       "      <td>11</td>\n",
       "      <td>2013-12-19 00:00:00+00:00</td>\n",
       "      <td>[defi, masternodes, staking]</td>\n",
       "      <td>4.380000e+06</td>\n",
       "      <td>3.864381e+06</td>\n",
       "      <td>3.864381e+06</td>\n",
       "      <td>...</td>\n",
       "      <td>-1.904551</td>\n",
       "      <td>-2.634609</td>\n",
       "      <td>-7.892158</td>\n",
       "      <td>72.279036</td>\n",
       "      <td>52.622608</td>\n",
       "      <td>9.434058e+06</td>\n",
       "      <td>0.0000</td>\n",
       "      <td>1.069283e+07</td>\n",
       "      <td>NaN</td>\n",
       "      <td>2025-05-25 19:03:00+00:00</td>\n",
       "    </tr>\n",
       "    <tr>\n",
       "      <th>19</th>\n",
       "      <td>1104</td>\n",
       "      <td>Augur</td>\n",
       "      <td>REP</td>\n",
       "      <td>augur</td>\n",
       "      <td>108</td>\n",
       "      <td>2015-10-27 00:00:00+00:00</td>\n",
       "      <td>[platform, defi, oracles, prediction-markets, ...</td>\n",
       "      <td>NaN</td>\n",
       "      <td>1.100000e+07</td>\n",
       "      <td>1.100000e+07</td>\n",
       "      <td>...</td>\n",
       "      <td>-7.423663</td>\n",
       "      <td>-28.019266</td>\n",
       "      <td>-7.709150</td>\n",
       "      <td>19.947713</td>\n",
       "      <td>39.673919</td>\n",
       "      <td>9.301342e+06</td>\n",
       "      <td>0.0003</td>\n",
       "      <td>9.301342e+06</td>\n",
       "      <td>2.004238e+06</td>\n",
       "      <td>2025-05-25 19:03:00+00:00</td>\n",
       "    </tr>\n",
       "    <tr>\n",
       "      <th>20</th>\n",
       "      <td>5</td>\n",
       "      <td>Peercoin</td>\n",
       "      <td>PPC</td>\n",
       "      <td>peercoin</td>\n",
       "      <td>42</td>\n",
       "      <td>2013-04-28 00:00:00+00:00</td>\n",
       "      <td>[mineable, hybrid-pow-pos, sha-256, medium-of-...</td>\n",
       "      <td>NaN</td>\n",
       "      <td>2.957203e+07</td>\n",
       "      <td>2.957203e+07</td>\n",
       "      <td>...</td>\n",
       "      <td>-2.189220</td>\n",
       "      <td>-3.038646</td>\n",
       "      <td>16.999262</td>\n",
       "      <td>-21.638808</td>\n",
       "      <td>-40.710708</td>\n",
       "      <td>8.015855e+06</td>\n",
       "      <td>0.0002</td>\n",
       "      <td>8.015855e+06</td>\n",
       "      <td>NaN</td>\n",
       "      <td>2025-05-25 19:03:00+00:00</td>\n",
       "    </tr>\n",
       "    <tr>\n",
       "      <th>21</th>\n",
       "      <td>268</td>\n",
       "      <td>WhiteCoin</td>\n",
       "      <td>XWC</td>\n",
       "      <td>whitecoin</td>\n",
       "      <td>15</td>\n",
       "      <td>2014-04-18 00:00:00+00:00</td>\n",
       "      <td>[platform, defi, interoperability, staking, rpos]</td>\n",
       "      <td>1.000000e+09</td>\n",
       "      <td>7.643246e+08</td>\n",
       "      <td>9.717924e+08</td>\n",
       "      <td>...</td>\n",
       "      <td>-1.155810</td>\n",
       "      <td>-2.475235</td>\n",
       "      <td>-0.906189</td>\n",
       "      <td>-29.711855</td>\n",
       "      <td>-39.997182</td>\n",
       "      <td>7.767922e+06</td>\n",
       "      <td>0.0000</td>\n",
       "      <td>1.016312e+07</td>\n",
       "      <td>NaN</td>\n",
       "      <td>2025-05-25 19:03:00+00:00</td>\n",
       "    </tr>\n",
       "    <tr>\n",
       "      <th>22</th>\n",
       "      <td>99</td>\n",
       "      <td>Vertcoin</td>\n",
       "      <td>VTC</td>\n",
       "      <td>vertcoin</td>\n",
       "      <td>20</td>\n",
       "      <td>2014-01-20 00:00:00+00:00</td>\n",
       "      <td>[mineable, pow, medium-of-exchange, privacy, p...</td>\n",
       "      <td>8.400000e+07</td>\n",
       "      <td>7.208418e+07</td>\n",
       "      <td>7.208418e+07</td>\n",
       "      <td>...</td>\n",
       "      <td>3.294356</td>\n",
       "      <td>1.528225</td>\n",
       "      <td>5.842020</td>\n",
       "      <td>40.027339</td>\n",
       "      <td>70.792647</td>\n",
       "      <td>5.689284e+06</td>\n",
       "      <td>0.0002</td>\n",
       "      <td>6.629746e+06</td>\n",
       "      <td>NaN</td>\n",
       "      <td>2025-05-25 19:03:00+00:00</td>\n",
       "    </tr>\n",
       "    <tr>\n",
       "      <th>23</th>\n",
       "      <td>22</td>\n",
       "      <td>Luckycoin</td>\n",
       "      <td>LKY</td>\n",
       "      <td>luckycoin</td>\n",
       "      <td>10</td>\n",
       "      <td>2013-06-14 00:00:00+00:00</td>\n",
       "      <td>[mineable]</td>\n",
       "      <td>2.000000e+07</td>\n",
       "      <td>1.207087e+07</td>\n",
       "      <td>1.207087e+07</td>\n",
       "      <td>...</td>\n",
       "      <td>-3.064934</td>\n",
       "      <td>-21.549068</td>\n",
       "      <td>40.162755</td>\n",
       "      <td>34.680472</td>\n",
       "      <td>37.124342</td>\n",
       "      <td>4.138021e+06</td>\n",
       "      <td>0.0001</td>\n",
       "      <td>6.856212e+06</td>\n",
       "      <td>NaN</td>\n",
       "      <td>2025-05-25 19:03:00+00:00</td>\n",
       "    </tr>\n",
       "    <tr>\n",
       "      <th>24</th>\n",
       "      <td>463</td>\n",
       "      <td>BitShares</td>\n",
       "      <td>BTS</td>\n",
       "      <td>bitshares</td>\n",
       "      <td>60</td>\n",
       "      <td>2014-07-21 00:00:00+00:00</td>\n",
       "      <td>[pos, sha-512, marketplace, decentralized-exch...</td>\n",
       "      <td>3.600571e+09</td>\n",
       "      <td>2.995060e+09</td>\n",
       "      <td>2.995060e+09</td>\n",
       "      <td>...</td>\n",
       "      <td>-2.291309</td>\n",
       "      <td>2.952999</td>\n",
       "      <td>10.031381</td>\n",
       "      <td>12.773709</td>\n",
       "      <td>-5.644963</td>\n",
       "      <td>3.393171e+06</td>\n",
       "      <td>0.0001</td>\n",
       "      <td>4.079167e+06</td>\n",
       "      <td>NaN</td>\n",
       "      <td>2025-05-25 19:03:00+00:00</td>\n",
       "    </tr>\n",
       "    <tr>\n",
       "      <th>25</th>\n",
       "      <td>372</td>\n",
       "      <td>Bytecoin</td>\n",
       "      <td>BCN</td>\n",
       "      <td>bytecoin-bcn</td>\n",
       "      <td>15</td>\n",
       "      <td>2014-06-17 00:00:00+00:00</td>\n",
       "      <td>[mineable, pow, cryptonight, medium-of-exchang...</td>\n",
       "      <td>1.844700e+11</td>\n",
       "      <td>1.840668e+11</td>\n",
       "      <td>1.840668e+11</td>\n",
       "      <td>...</td>\n",
       "      <td>1.032543</td>\n",
       "      <td>-11.063985</td>\n",
       "      <td>-24.776906</td>\n",
       "      <td>-29.391838</td>\n",
       "      <td>-41.069637</td>\n",
       "      <td>3.253509e+06</td>\n",
       "      <td>0.0000</td>\n",
       "      <td>3.260636e+06</td>\n",
       "      <td>NaN</td>\n",
       "      <td>2025-05-25 19:03:00+00:00</td>\n",
       "    </tr>\n",
       "    <tr>\n",
       "      <th>26</th>\n",
       "      <td>42</td>\n",
       "      <td>Primecoin</td>\n",
       "      <td>XPM</td>\n",
       "      <td>primecoin</td>\n",
       "      <td>6</td>\n",
       "      <td>2013-07-11 00:00:00+00:00</td>\n",
       "      <td>[mineable, pow, multiple-algorithms]</td>\n",
       "      <td>NaN</td>\n",
       "      <td>5.383013e+07</td>\n",
       "      <td>5.383013e+07</td>\n",
       "      <td>...</td>\n",
       "      <td>-1.259050</td>\n",
       "      <td>6.218064</td>\n",
       "      <td>12.869091</td>\n",
       "      <td>-16.115582</td>\n",
       "      <td>-11.754756</td>\n",
       "      <td>1.792949e+06</td>\n",
       "      <td>0.0000</td>\n",
       "      <td>1.792949e+06</td>\n",
       "      <td>NaN</td>\n",
       "      <td>2025-05-25 19:03:00+00:00</td>\n",
       "    </tr>\n",
       "    <tr>\n",
       "      <th>27</th>\n",
       "      <td>788</td>\n",
       "      <td>Circuits of Value</td>\n",
       "      <td>COVAL</td>\n",
       "      <td>circuits-of-value</td>\n",
       "      <td>39</td>\n",
       "      <td>2015-01-23 00:00:00+00:00</td>\n",
       "      <td>[collectibles-nfts, defi, ethereum-ecosystem, ...</td>\n",
       "      <td>NaN</td>\n",
       "      <td>1.784838e+09</td>\n",
       "      <td>1.786752e+09</td>\n",
       "      <td>...</td>\n",
       "      <td>-9.449149</td>\n",
       "      <td>6.042360</td>\n",
       "      <td>2.867072</td>\n",
       "      <td>-0.812576</td>\n",
       "      <td>-19.135641</td>\n",
       "      <td>1.432222e+06</td>\n",
       "      <td>0.0000</td>\n",
       "      <td>1.433758e+06</td>\n",
       "      <td>NaN</td>\n",
       "      <td>2025-05-25 19:02:00+00:00</td>\n",
       "    </tr>\n",
       "    <tr>\n",
       "      <th>28</th>\n",
       "      <td>35</td>\n",
       "      <td>Phoenixcoin</td>\n",
       "      <td>PXC</td>\n",
       "      <td>phoenixcoin</td>\n",
       "      <td>4</td>\n",
       "      <td>2013-07-04 00:00:00+00:00</td>\n",
       "      <td>[mineable, neoscrypt]</td>\n",
       "      <td>9.800000e+07</td>\n",
       "      <td>9.235646e+07</td>\n",
       "      <td>9.235646e+07</td>\n",
       "      <td>...</td>\n",
       "      <td>-1.259050</td>\n",
       "      <td>2.791675</td>\n",
       "      <td>12.869091</td>\n",
       "      <td>-2.199273</td>\n",
       "      <td>-16.499124</td>\n",
       "      <td>1.091543e+06</td>\n",
       "      <td>0.0000</td>\n",
       "      <td>1.158242e+06</td>\n",
       "      <td>NaN</td>\n",
       "      <td>2025-05-25 19:03:00+00:00</td>\n",
       "    </tr>\n",
       "    <tr>\n",
       "      <th>29</th>\n",
       "      <td>8</td>\n",
       "      <td>Feathercoin</td>\n",
       "      <td>FTC</td>\n",
       "      <td>feathercoin</td>\n",
       "      <td>12</td>\n",
       "      <td>2013-05-03 00:00:00+00:00</td>\n",
       "      <td>[mineable, pow, neoscrypt, medium-of-exchange,...</td>\n",
       "      <td>3.360000e+08</td>\n",
       "      <td>2.366002e+08</td>\n",
       "      <td>3.360000e+08</td>\n",
       "      <td>...</td>\n",
       "      <td>-1.259050</td>\n",
       "      <td>2.791675</td>\n",
       "      <td>-15.348182</td>\n",
       "      <td>-25.315808</td>\n",
       "      <td>-14.601377</td>\n",
       "      <td>7.626358e+05</td>\n",
       "      <td>0.0000</td>\n",
       "      <td>1.083032e+06</td>\n",
       "      <td>NaN</td>\n",
       "      <td>2025-05-25 19:03:00+00:00</td>\n",
       "    </tr>\n",
       "    <tr>\n",
       "      <th>30</th>\n",
       "      <td>26</td>\n",
       "      <td>Junkcoin</td>\n",
       "      <td>JKC</td>\n",
       "      <td>junkcoin</td>\n",
       "      <td>3</td>\n",
       "      <td>2013-06-14 00:00:00+00:00</td>\n",
       "      <td>[mineable]</td>\n",
       "      <td>NaN</td>\n",
       "      <td>1.784326e+07</td>\n",
       "      <td>1.784326e+07</td>\n",
       "      <td>...</td>\n",
       "      <td>0.072019</td>\n",
       "      <td>-5.999279</td>\n",
       "      <td>21.574317</td>\n",
       "      <td>23.411675</td>\n",
       "      <td>23.091268</td>\n",
       "      <td>6.242633e+05</td>\n",
       "      <td>0.0000</td>\n",
       "      <td>6.242633e+05</td>\n",
       "      <td>NaN</td>\n",
       "      <td>2025-05-25 19:03:00+00:00</td>\n",
       "    </tr>\n",
       "    <tr>\n",
       "      <th>31</th>\n",
       "      <td>72</td>\n",
       "      <td>Deutsche eMark</td>\n",
       "      <td>DEM</td>\n",
       "      <td>deutsche-emark</td>\n",
       "      <td>5</td>\n",
       "      <td>2013-12-15 00:00:00+00:00</td>\n",
       "      <td>[mineable, hybrid-pow-pos, sha-256]</td>\n",
       "      <td>NaN</td>\n",
       "      <td>1.582304e+08</td>\n",
       "      <td>1.652124e+08</td>\n",
       "      <td>...</td>\n",
       "      <td>-1.259050</td>\n",
       "      <td>54.187513</td>\n",
       "      <td>-15.348182</td>\n",
       "      <td>24.473653</td>\n",
       "      <td>-14.601377</td>\n",
       "      <td>5.100256e+05</td>\n",
       "      <td>0.0000</td>\n",
       "      <td>5.325307e+05</td>\n",
       "      <td>NaN</td>\n",
       "      <td>2025-05-25 19:03:00+00:00</td>\n",
       "    </tr>\n",
       "    <tr>\n",
       "      <th>32</th>\n",
       "      <td>293</td>\n",
       "      <td>Bitcoin Plus</td>\n",
       "      <td>XBC</td>\n",
       "      <td>bitcoin-plus</td>\n",
       "      <td>14</td>\n",
       "      <td>2014-05-04 00:00:00+00:00</td>\n",
       "      <td>[pos, medium-of-exchange, store-of-value, defi...</td>\n",
       "      <td>1.000000e+06</td>\n",
       "      <td>2.611946e+05</td>\n",
       "      <td>2.611946e+05</td>\n",
       "      <td>...</td>\n",
       "      <td>0.000000</td>\n",
       "      <td>-5.189551</td>\n",
       "      <td>26.157597</td>\n",
       "      <td>14.770965</td>\n",
       "      <td>43.003994</td>\n",
       "      <td>4.603053e+05</td>\n",
       "      <td>0.0000</td>\n",
       "      <td>1.762308e+06</td>\n",
       "      <td>NaN</td>\n",
       "      <td>2025-05-25 19:03:00+00:00</td>\n",
       "    </tr>\n",
       "    <tr>\n",
       "      <th>33</th>\n",
       "      <td>638</td>\n",
       "      <td>Trollcoin</td>\n",
       "      <td>TROLL</td>\n",
       "      <td>trollcoin</td>\n",
       "      <td>5</td>\n",
       "      <td>2014-09-30 00:00:00+00:00</td>\n",
       "      <td>[mineable, hybrid-pow-pos, scrypt, bnb-chain-e...</td>\n",
       "      <td>NaN</td>\n",
       "      <td>5.928101e+08</td>\n",
       "      <td>5.928101e+08</td>\n",
       "      <td>...</td>\n",
       "      <td>-0.920782</td>\n",
       "      <td>-29.399729</td>\n",
       "      <td>-22.434029</td>\n",
       "      <td>106.641537</td>\n",
       "      <td>93.699321</td>\n",
       "      <td>4.369562e+05</td>\n",
       "      <td>0.0000</td>\n",
       "      <td>4.369562e+05</td>\n",
       "      <td>NaN</td>\n",
       "      <td>2025-05-25 19:02:00+00:00</td>\n",
       "    </tr>\n",
       "    <tr>\n",
       "      <th>34</th>\n",
       "      <td>25</td>\n",
       "      <td>Goldcoin</td>\n",
       "      <td>GLC</td>\n",
       "      <td>goldcoin</td>\n",
       "      <td>12</td>\n",
       "      <td>2013-06-14 00:00:00+00:00</td>\n",
       "      <td>[mineable, pow, scrypt]</td>\n",
       "      <td>7.224570e+07</td>\n",
       "      <td>4.368142e+07</td>\n",
       "      <td>4.405015e+07</td>\n",
       "      <td>...</td>\n",
       "      <td>5.747182</td>\n",
       "      <td>5.751023</td>\n",
       "      <td>-2.895027</td>\n",
       "      <td>-18.483176</td>\n",
       "      <td>-44.423809</td>\n",
       "      <td>4.010336e+05</td>\n",
       "      <td>0.0000</td>\n",
       "      <td>6.632787e+05</td>\n",
       "      <td>NaN</td>\n",
       "      <td>2025-05-25 19:03:00+00:00</td>\n",
       "    </tr>\n",
       "    <tr>\n",
       "      <th>35</th>\n",
       "      <td>853</td>\n",
       "      <td>LiteDoge</td>\n",
       "      <td>LDOGE</td>\n",
       "      <td>litedoge</td>\n",
       "      <td>1</td>\n",
       "      <td>2015-03-19 00:00:00+00:00</td>\n",
       "      <td>[hybrid-pow-pos, scrypt]</td>\n",
       "      <td>NaN</td>\n",
       "      <td>1.642300e+10</td>\n",
       "      <td>1.642258e+10</td>\n",
       "      <td>...</td>\n",
       "      <td>-3.220115</td>\n",
       "      <td>-3.747210</td>\n",
       "      <td>171.223337</td>\n",
       "      <td>153.939247</td>\n",
       "      <td>118.518891</td>\n",
       "      <td>3.962806e+05</td>\n",
       "      <td>0.0000</td>\n",
       "      <td>3.962705e+05</td>\n",
       "      <td>NaN</td>\n",
       "      <td>2025-05-25 19:03:00+00:00</td>\n",
       "    </tr>\n",
       "    <tr>\n",
       "      <th>36</th>\n",
       "      <td>506</td>\n",
       "      <td>CannabisCoin</td>\n",
       "      <td>CANN</td>\n",
       "      <td>cannabiscoin</td>\n",
       "      <td>1</td>\n",
       "      <td>2014-08-02 00:00:00+00:00</td>\n",
       "      <td>[mineable, pow]</td>\n",
       "      <td>NaN</td>\n",
       "      <td>3.211248e+08</td>\n",
       "      <td>3.357528e+08</td>\n",
       "      <td>...</td>\n",
       "      <td>0.000000</td>\n",
       "      <td>-41.246038</td>\n",
       "      <td>-33.721269</td>\n",
       "      <td>-33.721269</td>\n",
       "      <td>-61.335162</td>\n",
       "      <td>3.579191e+05</td>\n",
       "      <td>0.0000</td>\n",
       "      <td>3.742231e+05</td>\n",
       "      <td>NaN</td>\n",
       "      <td>2025-05-25 19:03:00+00:00</td>\n",
       "    </tr>\n",
       "    <tr>\n",
       "      <th>37</th>\n",
       "      <td>90</td>\n",
       "      <td>Dimecoin</td>\n",
       "      <td>DIME</td>\n",
       "      <td>dimecoin</td>\n",
       "      <td>16</td>\n",
       "      <td>2014-01-06 00:00:00+00:00</td>\n",
       "      <td>[mineable, pow, quark]</td>\n",
       "      <td>NaN</td>\n",
       "      <td>4.783334e+11</td>\n",
       "      <td>5.837430e+11</td>\n",
       "      <td>...</td>\n",
       "      <td>-2.312275</td>\n",
       "      <td>-10.096825</td>\n",
       "      <td>26.529127</td>\n",
       "      <td>33.181507</td>\n",
       "      <td>-28.176112</td>\n",
       "      <td>3.102107e+05</td>\n",
       "      <td>0.0000</td>\n",
       "      <td>3.785714e+05</td>\n",
       "      <td>NaN</td>\n",
       "      <td>2025-05-25 19:03:00+00:00</td>\n",
       "    </tr>\n",
       "    <tr>\n",
       "      <th>38</th>\n",
       "      <td>362</td>\n",
       "      <td>CloakCoin</td>\n",
       "      <td>CLOAK</td>\n",
       "      <td>cloakcoin</td>\n",
       "      <td>6</td>\n",
       "      <td>2014-06-07 00:00:00+00:00</td>\n",
       "      <td>[hybrid-pow-pos, x13, privacy]</td>\n",
       "      <td>NaN</td>\n",
       "      <td>6.061081e+06</td>\n",
       "      <td>6.061081e+06</td>\n",
       "      <td>...</td>\n",
       "      <td>0.000000</td>\n",
       "      <td>11.665471</td>\n",
       "      <td>-17.689900</td>\n",
       "      <td>-42.160475</td>\n",
       "      <td>-45.515865</td>\n",
       "      <td>2.849724e+05</td>\n",
       "      <td>0.0000</td>\n",
       "      <td>2.849724e+05</td>\n",
       "      <td>NaN</td>\n",
       "      <td>2025-05-25 19:03:00+00:00</td>\n",
       "    </tr>\n",
       "    <tr>\n",
       "      <th>39</th>\n",
       "      <td>576</td>\n",
       "      <td>GameCredits</td>\n",
       "      <td>GAME</td>\n",
       "      <td>gamecredits</td>\n",
       "      <td>25</td>\n",
       "      <td>2014-09-01 00:00:00+00:00</td>\n",
       "      <td>[collectibles-nfts, gaming, ethereum-ecosystem...</td>\n",
       "      <td>2.000000e+08</td>\n",
       "      <td>1.938238e+08</td>\n",
       "      <td>2.000000e+08</td>\n",
       "      <td>...</td>\n",
       "      <td>7.081712</td>\n",
       "      <td>-10.231875</td>\n",
       "      <td>-27.876462</td>\n",
       "      <td>15.411913</td>\n",
       "      <td>26.911256</td>\n",
       "      <td>2.492481e+05</td>\n",
       "      <td>0.0000</td>\n",
       "      <td>2.571905e+05</td>\n",
       "      <td>NaN</td>\n",
       "      <td>2025-05-25 19:03:00+00:00</td>\n",
       "    </tr>\n",
       "    <tr>\n",
       "      <th>40</th>\n",
       "      <td>659</td>\n",
       "      <td>Bitswift</td>\n",
       "      <td>BITS</td>\n",
       "      <td>bitswift</td>\n",
       "      <td>3</td>\n",
       "      <td>2014-10-05 00:00:00+00:00</td>\n",
       "      <td>[platform, enterprise-solutions]</td>\n",
       "      <td>NaN</td>\n",
       "      <td>3.884635e+06</td>\n",
       "      <td>3.884635e+06</td>\n",
       "      <td>...</td>\n",
       "      <td>0.000000</td>\n",
       "      <td>5.935460</td>\n",
       "      <td>-29.791849</td>\n",
       "      <td>-15.517294</td>\n",
       "      <td>-22.660307</td>\n",
       "      <td>2.150215e+05</td>\n",
       "      <td>0.0000</td>\n",
       "      <td>2.150215e+05</td>\n",
       "      <td>NaN</td>\n",
       "      <td>2025-05-25 19:02:00+00:00</td>\n",
       "    </tr>\n",
       "    <tr>\n",
       "      <th>41</th>\n",
       "      <td>87</td>\n",
       "      <td>FedoraCoin</td>\n",
       "      <td>TIPS</td>\n",
       "      <td>fedoracoin</td>\n",
       "      <td>2</td>\n",
       "      <td>2013-12-31 00:00:00+00:00</td>\n",
       "      <td>[mineable]</td>\n",
       "      <td>NaN</td>\n",
       "      <td>2.122699e+11</td>\n",
       "      <td>4.827599e+11</td>\n",
       "      <td>...</td>\n",
       "      <td>-14.337533</td>\n",
       "      <td>-77.216110</td>\n",
       "      <td>-69.672518</td>\n",
       "      <td>-62.298501</td>\n",
       "      <td>-69.031805</td>\n",
       "      <td>9.892962e+04</td>\n",
       "      <td>0.0000</td>\n",
       "      <td>2.249931e+05</td>\n",
       "      <td>NaN</td>\n",
       "      <td>2025-05-25 19:03:00+00:00</td>\n",
       "    </tr>\n",
       "    <tr>\n",
       "      <th>42</th>\n",
       "      <td>1106</td>\n",
       "      <td>StrongHands</td>\n",
       "      <td>SHND</td>\n",
       "      <td>stronghands</td>\n",
       "      <td>13</td>\n",
       "      <td>2015-10-30 00:00:00+00:00</td>\n",
       "      <td>[mineable, hybrid-pow-pos, medium-of-exchange,...</td>\n",
       "      <td>2.900000e+10</td>\n",
       "      <td>1.974469e+10</td>\n",
       "      <td>2.015788e+10</td>\n",
       "      <td>...</td>\n",
       "      <td>0.011641</td>\n",
       "      <td>-1.012792</td>\n",
       "      <td>-0.236664</td>\n",
       "      <td>-40.104339</td>\n",
       "      <td>-47.370528</td>\n",
       "      <td>9.460611e+04</td>\n",
       "      <td>0.0000</td>\n",
       "      <td>1.389526e+05</td>\n",
       "      <td>NaN</td>\n",
       "      <td>2025-05-25 19:03:00+00:00</td>\n",
       "    </tr>\n",
       "    <tr>\n",
       "      <th>43</th>\n",
       "      <td>1107</td>\n",
       "      <td>PAC Protocol</td>\n",
       "      <td>PAC</td>\n",
       "      <td>pac-protocol</td>\n",
       "      <td>14</td>\n",
       "      <td>2015-11-02 00:00:00+00:00</td>\n",
       "      <td>[mineable, pos, pos-30, decentralized-exchange...</td>\n",
       "      <td>5.000000e+10</td>\n",
       "      <td>1.744300e+10</td>\n",
       "      <td>1.744300e+10</td>\n",
       "      <td>...</td>\n",
       "      <td>-3.261338</td>\n",
       "      <td>-9.483718</td>\n",
       "      <td>-43.042876</td>\n",
       "      <td>-56.044566</td>\n",
       "      <td>-52.863491</td>\n",
       "      <td>8.723817e+04</td>\n",
       "      <td>0.0000</td>\n",
       "      <td>2.500664e+05</td>\n",
       "      <td>NaN</td>\n",
       "      <td>2025-05-25 19:02:00+00:00</td>\n",
       "    </tr>\n",
       "    <tr>\n",
       "      <th>44</th>\n",
       "      <td>1053</td>\n",
       "      <td>Bolivarcoin</td>\n",
       "      <td>BOLI</td>\n",
       "      <td>bolivarcoin</td>\n",
       "      <td>4</td>\n",
       "      <td>2015-09-08 00:00:00+00:00</td>\n",
       "      <td>[mineable, pow, x11, masternodes]</td>\n",
       "      <td>2.500000e+07</td>\n",
       "      <td>2.025939e+07</td>\n",
       "      <td>2.025939e+07</td>\n",
       "      <td>...</td>\n",
       "      <td>-11.742779</td>\n",
       "      <td>-40.451743</td>\n",
       "      <td>0.174789</td>\n",
       "      <td>22.112537</td>\n",
       "      <td>20.413397</td>\n",
       "      <td>4.470795e+04</td>\n",
       "      <td>0.0000</td>\n",
       "      <td>5.516943e+04</td>\n",
       "      <td>NaN</td>\n",
       "      <td>2025-05-25 19:03:00+00:00</td>\n",
       "    </tr>\n",
       "    <tr>\n",
       "      <th>45</th>\n",
       "      <td>601</td>\n",
       "      <td>Acoin</td>\n",
       "      <td>ACOIN</td>\n",
       "      <td>acoin</td>\n",
       "      <td>1</td>\n",
       "      <td>2014-09-13 00:00:00+00:00</td>\n",
       "      <td>[mineable, pow, sha-256]</td>\n",
       "      <td>NaN</td>\n",
       "      <td>1.220085e+06</td>\n",
       "      <td>1.220085e+06</td>\n",
       "      <td>...</td>\n",
       "      <td>0.000000</td>\n",
       "      <td>0.000000</td>\n",
       "      <td>0.000000</td>\n",
       "      <td>-10.890668</td>\n",
       "      <td>-33.624364</td>\n",
       "      <td>4.841189e+03</td>\n",
       "      <td>0.0000</td>\n",
       "      <td>4.841190e+03</td>\n",
       "      <td>NaN</td>\n",
       "      <td>2025-05-25 19:03:00+00:00</td>\n",
       "    </tr>\n",
       "    <tr>\n",
       "      <th>46</th>\n",
       "      <td>1035</td>\n",
       "      <td>AmsterdamCoin</td>\n",
       "      <td>AMS</td>\n",
       "      <td>amsterdamcoin</td>\n",
       "      <td>3</td>\n",
       "      <td>2015-08-21 00:00:00+00:00</td>\n",
       "      <td>[mineable, hybrid-pow-pos, quark]</td>\n",
       "      <td>NaN</td>\n",
       "      <td>0.000000e+00</td>\n",
       "      <td>8.146943e+07</td>\n",
       "      <td>...</td>\n",
       "      <td>0.021033</td>\n",
       "      <td>0.451609</td>\n",
       "      <td>15.570555</td>\n",
       "      <td>-23.841352</td>\n",
       "      <td>-7.371152</td>\n",
       "      <td>0.000000e+00</td>\n",
       "      <td>0.0000</td>\n",
       "      <td>1.100206e+05</td>\n",
       "      <td>NaN</td>\n",
       "      <td>2025-05-25 19:02:00+00:00</td>\n",
       "    </tr>\n",
       "    <tr>\n",
       "      <th>47</th>\n",
       "      <td>377</td>\n",
       "      <td>Navio</td>\n",
       "      <td>NAV</td>\n",
       "      <td>nav-coin</td>\n",
       "      <td>17</td>\n",
       "      <td>2014-06-12 00:00:00+00:00</td>\n",
       "      <td>[pos, medium-of-exchange, bnb-chain-ecosystem]</td>\n",
       "      <td>NaN</td>\n",
       "      <td>0.000000e+00</td>\n",
       "      <td>7.693936e+07</td>\n",
       "      <td>...</td>\n",
       "      <td>5.268843</td>\n",
       "      <td>-15.973113</td>\n",
       "      <td>-32.972775</td>\n",
       "      <td>-60.508091</td>\n",
       "      <td>-77.061178</td>\n",
       "      <td>0.000000e+00</td>\n",
       "      <td>0.0000</td>\n",
       "      <td>8.482068e+05</td>\n",
       "      <td>NaN</td>\n",
       "      <td>2025-05-25 19:03:00+00:00</td>\n",
       "    </tr>\n",
       "    <tr>\n",
       "      <th>48</th>\n",
       "      <td>162</td>\n",
       "      <td>Magic Internet Money</td>\n",
       "      <td>MIM</td>\n",
       "      <td>magic-internet-money</td>\n",
       "      <td>596</td>\n",
       "      <td>2014-03-12 00:00:00+00:00</td>\n",
       "      <td>[mineable, stablecoin]</td>\n",
       "      <td>NaN</td>\n",
       "      <td>0.000000e+00</td>\n",
       "      <td>6.989641e+08</td>\n",
       "      <td>...</td>\n",
       "      <td>-0.049475</td>\n",
       "      <td>-0.027973</td>\n",
       "      <td>-0.066782</td>\n",
       "      <td>0.544807</td>\n",
       "      <td>0.101969</td>\n",
       "      <td>0.000000e+00</td>\n",
       "      <td>0.0031</td>\n",
       "      <td>6.979572e+08</td>\n",
       "      <td>NaN</td>\n",
       "      <td>2025-05-25 19:03:00+00:00</td>\n",
       "    </tr>\n",
       "    <tr>\n",
       "      <th>49</th>\n",
       "      <td>154</td>\n",
       "      <td>Marscoin</td>\n",
       "      <td>MARS</td>\n",
       "      <td>marscoin</td>\n",
       "      <td>14</td>\n",
       "      <td>2014-02-24 00:00:00+00:00</td>\n",
       "      <td>[mineable, pow, x11]</td>\n",
       "      <td>3.956990e+07</td>\n",
       "      <td>0.000000e+00</td>\n",
       "      <td>3.956990e+07</td>\n",
       "      <td>...</td>\n",
       "      <td>-1.756848</td>\n",
       "      <td>-0.406087</td>\n",
       "      <td>5.203214</td>\n",
       "      <td>59.458251</td>\n",
       "      <td>-26.115246</td>\n",
       "      <td>0.000000e+00</td>\n",
       "      <td>0.0000</td>\n",
       "      <td>2.983946e+06</td>\n",
       "      <td>NaN</td>\n",
       "      <td>2025-05-25 19:03:00+00:00</td>\n",
       "    </tr>\n",
       "  </tbody>\n",
       "</table>\n",
       "<p>50 rows × 30 columns</p>\n",
       "</div>"
      ],
      "text/plain": [
       "      id                  name symbol                  slug  num_market_pairs  \\\n",
       "0   1027              Ethereum    ETH              ethereum             10307   \n",
       "1    825           Tether USDt   USDT                tether            129577   \n",
       "2     52                   XRP    XRP                   xrp              1614   \n",
       "3     74              Dogecoin   DOGE              dogecoin              1227   \n",
       "4    512               Stellar    XLM               stellar               708   \n",
       "5    328                Monero    XMR                monero               318   \n",
       "6      2              Litecoin    LTC              litecoin              1371   \n",
       "7    131                  Dash   DASH                  dash               478   \n",
       "8   1042               Siacoin     SC               siacoin               122   \n",
       "9    109              DigiByte    DGB              digibyte               167   \n",
       "10   693                 Verge    XVG                 verge               130   \n",
       "11   873                   NEM    XEM                   nem               182   \n",
       "12   541               Syscoin    SYS               syscoin                90   \n",
       "13  1037       Agoras: Tau Net   AGRS         agoras-tokens                26   \n",
       "14   258           Groestlcoin    GRS           groestlcoin                30   \n",
       "15     3              Namecoin    NMC              namecoin                 7   \n",
       "16   132          Counterparty    XCP          counterparty                 3   \n",
       "17   213              MonaCoin   MONA              monacoin                24   \n",
       "18    77               Diamond    DMD               diamond                11   \n",
       "19  1104                 Augur    REP                 augur               108   \n",
       "20     5              Peercoin    PPC              peercoin                42   \n",
       "21   268             WhiteCoin    XWC             whitecoin                15   \n",
       "22    99              Vertcoin    VTC              vertcoin                20   \n",
       "23    22             Luckycoin    LKY             luckycoin                10   \n",
       "24   463             BitShares    BTS             bitshares                60   \n",
       "25   372              Bytecoin    BCN          bytecoin-bcn                15   \n",
       "26    42             Primecoin    XPM             primecoin                 6   \n",
       "27   788     Circuits of Value  COVAL     circuits-of-value                39   \n",
       "28    35           Phoenixcoin    PXC           phoenixcoin                 4   \n",
       "29     8           Feathercoin    FTC           feathercoin                12   \n",
       "30    26              Junkcoin    JKC              junkcoin                 3   \n",
       "31    72        Deutsche eMark    DEM        deutsche-emark                 5   \n",
       "32   293          Bitcoin Plus    XBC          bitcoin-plus                14   \n",
       "33   638             Trollcoin  TROLL             trollcoin                 5   \n",
       "34    25              Goldcoin    GLC              goldcoin                12   \n",
       "35   853              LiteDoge  LDOGE              litedoge                 1   \n",
       "36   506          CannabisCoin   CANN          cannabiscoin                 1   \n",
       "37    90              Dimecoin   DIME              dimecoin                16   \n",
       "38   362             CloakCoin  CLOAK             cloakcoin                 6   \n",
       "39   576           GameCredits   GAME           gamecredits                25   \n",
       "40   659              Bitswift   BITS              bitswift                 3   \n",
       "41    87            FedoraCoin   TIPS            fedoracoin                 2   \n",
       "42  1106           StrongHands   SHND           stronghands                13   \n",
       "43  1107          PAC Protocol    PAC          pac-protocol                14   \n",
       "44  1053           Bolivarcoin   BOLI           bolivarcoin                 4   \n",
       "45   601                 Acoin  ACOIN                 acoin                 1   \n",
       "46  1035         AmsterdamCoin    AMS         amsterdamcoin                 3   \n",
       "47   377                 Navio    NAV              nav-coin                17   \n",
       "48   162  Magic Internet Money    MIM  magic-internet-money               596   \n",
       "49   154              Marscoin   MARS              marscoin                14   \n",
       "\n",
       "                  date_added  \\\n",
       "0  2015-08-07 00:00:00+00:00   \n",
       "1  2015-02-25 00:00:00+00:00   \n",
       "2  2013-08-04 00:00:00+00:00   \n",
       "3  2013-12-15 00:00:00+00:00   \n",
       "4  2014-08-05 00:00:00+00:00   \n",
       "5  2014-05-21 00:00:00+00:00   \n",
       "6  2013-04-28 00:00:00+00:00   \n",
       "7  2014-02-14 00:00:00+00:00   \n",
       "8  2015-08-26 00:00:00+00:00   \n",
       "9  2014-02-06 00:00:00+00:00   \n",
       "10 2014-10-25 00:00:00+00:00   \n",
       "11 2015-04-01 00:00:00+00:00   \n",
       "12 2014-08-20 00:00:00+00:00   \n",
       "13 2015-08-24 00:00:00+00:00   \n",
       "14 2014-04-11 00:00:00+00:00   \n",
       "15 2013-04-28 00:00:00+00:00   \n",
       "16 2014-02-15 00:00:00+00:00   \n",
       "17 2014-03-20 00:00:00+00:00   \n",
       "18 2013-12-19 00:00:00+00:00   \n",
       "19 2015-10-27 00:00:00+00:00   \n",
       "20 2013-04-28 00:00:00+00:00   \n",
       "21 2014-04-18 00:00:00+00:00   \n",
       "22 2014-01-20 00:00:00+00:00   \n",
       "23 2013-06-14 00:00:00+00:00   \n",
       "24 2014-07-21 00:00:00+00:00   \n",
       "25 2014-06-17 00:00:00+00:00   \n",
       "26 2013-07-11 00:00:00+00:00   \n",
       "27 2015-01-23 00:00:00+00:00   \n",
       "28 2013-07-04 00:00:00+00:00   \n",
       "29 2013-05-03 00:00:00+00:00   \n",
       "30 2013-06-14 00:00:00+00:00   \n",
       "31 2013-12-15 00:00:00+00:00   \n",
       "32 2014-05-04 00:00:00+00:00   \n",
       "33 2014-09-30 00:00:00+00:00   \n",
       "34 2013-06-14 00:00:00+00:00   \n",
       "35 2015-03-19 00:00:00+00:00   \n",
       "36 2014-08-02 00:00:00+00:00   \n",
       "37 2014-01-06 00:00:00+00:00   \n",
       "38 2014-06-07 00:00:00+00:00   \n",
       "39 2014-09-01 00:00:00+00:00   \n",
       "40 2014-10-05 00:00:00+00:00   \n",
       "41 2013-12-31 00:00:00+00:00   \n",
       "42 2015-10-30 00:00:00+00:00   \n",
       "43 2015-11-02 00:00:00+00:00   \n",
       "44 2015-09-08 00:00:00+00:00   \n",
       "45 2014-09-13 00:00:00+00:00   \n",
       "46 2015-08-21 00:00:00+00:00   \n",
       "47 2014-06-12 00:00:00+00:00   \n",
       "48 2014-03-12 00:00:00+00:00   \n",
       "49 2014-02-24 00:00:00+00:00   \n",
       "\n",
       "                                                 tags    max_supply  \\\n",
       "0   [pos, smart-contracts, ethereum-ecosystem, coi...           NaN   \n",
       "1   [stablecoin, asset-backed-stablecoin, usd-stab...           NaN   \n",
       "2   [medium-of-exchange, enterprise-solutions, xrp...  1.000000e+11   \n",
       "3   [mineable, pow, scrypt, medium-of-exchange, me...           NaN   \n",
       "4   [medium-of-exchange, enterprise-solutions, dec...  5.000181e+10   \n",
       "5   [mineable, pow, medium-of-exchange, privacy, r...           NaN   \n",
       "6   [mineable, pow, scrypt, medium-of-exchange, la...  8.400000e+07   \n",
       "7   [mineable, hybrid-pow-pos, x11, medium-of-exch...  1.890000e+07   \n",
       "8   [mineable, pow, blake2b, platform, distributed...           NaN   \n",
       "9   [mineable, pow, multiple-algorithms, medium-of...  2.100000e+10   \n",
       "10  [mineable, multiple-algorithms, medium-of-exch...           NaN   \n",
       "11  [poi, medium-of-exchange, defi, payments, smar...  9.000000e+09   \n",
       "12  [mineable, pow, platform, enterprise-solutions...           NaN   \n",
       "13                  [ai-big-data, ethereum-ecosystem]           NaN   \n",
       "14       [mineable, pow, groestl, medium-of-exchange]  1.050000e+08   \n",
       "15                 [mineable, pow, sha-256, platform]           NaN   \n",
       "16                                              [pow]           NaN   \n",
       "17  [mineable, pow, lyra2rev2, medium-of-exchange,...  1.051200e+08   \n",
       "18                       [defi, masternodes, staking]  4.380000e+06   \n",
       "19  [platform, defi, oracles, prediction-markets, ...           NaN   \n",
       "20  [mineable, hybrid-pow-pos, sha-256, medium-of-...           NaN   \n",
       "21  [platform, defi, interoperability, staking, rpos]  1.000000e+09   \n",
       "22  [mineable, pow, medium-of-exchange, privacy, p...  8.400000e+07   \n",
       "23                                         [mineable]  2.000000e+07   \n",
       "24  [pos, sha-512, marketplace, decentralized-exch...  3.600571e+09   \n",
       "25  [mineable, pow, cryptonight, medium-of-exchang...  1.844700e+11   \n",
       "26               [mineable, pow, multiple-algorithms]           NaN   \n",
       "27  [collectibles-nfts, defi, ethereum-ecosystem, ...           NaN   \n",
       "28                              [mineable, neoscrypt]  9.800000e+07   \n",
       "29  [mineable, pow, neoscrypt, medium-of-exchange,...  3.360000e+08   \n",
       "30                                         [mineable]           NaN   \n",
       "31                [mineable, hybrid-pow-pos, sha-256]           NaN   \n",
       "32  [pos, medium-of-exchange, store-of-value, defi...  1.000000e+06   \n",
       "33  [mineable, hybrid-pow-pos, scrypt, bnb-chain-e...           NaN   \n",
       "34                            [mineable, pow, scrypt]  7.224570e+07   \n",
       "35                           [hybrid-pow-pos, scrypt]           NaN   \n",
       "36                                    [mineable, pow]           NaN   \n",
       "37                             [mineable, pow, quark]           NaN   \n",
       "38                     [hybrid-pow-pos, x13, privacy]           NaN   \n",
       "39  [collectibles-nfts, gaming, ethereum-ecosystem...  2.000000e+08   \n",
       "40                   [platform, enterprise-solutions]           NaN   \n",
       "41                                         [mineable]           NaN   \n",
       "42  [mineable, hybrid-pow-pos, medium-of-exchange,...  2.900000e+10   \n",
       "43  [mineable, pos, pos-30, decentralized-exchange...  5.000000e+10   \n",
       "44                  [mineable, pow, x11, masternodes]  2.500000e+07   \n",
       "45                           [mineable, pow, sha-256]           NaN   \n",
       "46                  [mineable, hybrid-pow-pos, quark]           NaN   \n",
       "47     [pos, medium-of-exchange, bnb-chain-ecosystem]           NaN   \n",
       "48                             [mineable, stablecoin]           NaN   \n",
       "49                               [mineable, pow, x11]  3.956990e+07   \n",
       "\n",
       "    circulating_supply  total_supply  ...  percent_change_24h  \\\n",
       "0         1.207260e+08  1.207260e+08  ...           -1.414252   \n",
       "1         1.527330e+11  1.560047e+11  ...            0.016888   \n",
       "2         5.868601e+10  9.998611e+10  ...           -1.849945   \n",
       "3         1.494131e+11  1.494131e+11  ...           -3.302346   \n",
       "4         3.111583e+10  5.000179e+10  ...           -1.614864   \n",
       "5         1.844674e+07  1.844674e+07  ...            1.671921   \n",
       "6         7.589320e+07  8.400000e+07  ...           -2.242865   \n",
       "7         1.227593e+07  1.227593e+07  ...           -1.904565   \n",
       "8         5.602564e+10  6.044816e+10  ...           -2.813796   \n",
       "9         1.771002e+10  1.771002e+10  ...           -2.555707   \n",
       "10        1.652195e+10  1.652195e+10  ...           -6.157644   \n",
       "11        9.000000e+09  9.000000e+09  ...          -22.366831   \n",
       "12        8.174700e+08  8.174700e+08  ...           -7.992397   \n",
       "13        2.986181e+07  4.200000e+07  ...           -8.305993   \n",
       "14        8.763107e+07  8.763107e+07  ...           -1.832250   \n",
       "15        1.473640e+07  1.473640e+07  ...           -0.224033   \n",
       "16        2.591257e+06  2.591257e+06  ...            0.000000   \n",
       "17        6.572967e+07  6.572967e+07  ...            1.014356   \n",
       "18        3.864381e+06  3.864381e+06  ...           -1.904551   \n",
       "19        1.100000e+07  1.100000e+07  ...           -7.423663   \n",
       "20        2.957203e+07  2.957203e+07  ...           -2.189220   \n",
       "21        7.643246e+08  9.717924e+08  ...           -1.155810   \n",
       "22        7.208418e+07  7.208418e+07  ...            3.294356   \n",
       "23        1.207087e+07  1.207087e+07  ...           -3.064934   \n",
       "24        2.995060e+09  2.995060e+09  ...           -2.291309   \n",
       "25        1.840668e+11  1.840668e+11  ...            1.032543   \n",
       "26        5.383013e+07  5.383013e+07  ...           -1.259050   \n",
       "27        1.784838e+09  1.786752e+09  ...           -9.449149   \n",
       "28        9.235646e+07  9.235646e+07  ...           -1.259050   \n",
       "29        2.366002e+08  3.360000e+08  ...           -1.259050   \n",
       "30        1.784326e+07  1.784326e+07  ...            0.072019   \n",
       "31        1.582304e+08  1.652124e+08  ...           -1.259050   \n",
       "32        2.611946e+05  2.611946e+05  ...            0.000000   \n",
       "33        5.928101e+08  5.928101e+08  ...           -0.920782   \n",
       "34        4.368142e+07  4.405015e+07  ...            5.747182   \n",
       "35        1.642300e+10  1.642258e+10  ...           -3.220115   \n",
       "36        3.211248e+08  3.357528e+08  ...            0.000000   \n",
       "37        4.783334e+11  5.837430e+11  ...           -2.312275   \n",
       "38        6.061081e+06  6.061081e+06  ...            0.000000   \n",
       "39        1.938238e+08  2.000000e+08  ...            7.081712   \n",
       "40        3.884635e+06  3.884635e+06  ...            0.000000   \n",
       "41        2.122699e+11  4.827599e+11  ...          -14.337533   \n",
       "42        1.974469e+10  2.015788e+10  ...            0.011641   \n",
       "43        1.744300e+10  1.744300e+10  ...           -3.261338   \n",
       "44        2.025939e+07  2.025939e+07  ...          -11.742779   \n",
       "45        1.220085e+06  1.220085e+06  ...            0.000000   \n",
       "46        0.000000e+00  8.146943e+07  ...            0.021033   \n",
       "47        0.000000e+00  7.693936e+07  ...            5.268843   \n",
       "48        0.000000e+00  6.989641e+08  ...           -0.049475   \n",
       "49        0.000000e+00  3.956990e+07  ...           -1.756848   \n",
       "\n",
       "    percent_change_7d  percent_change_30d  percent_change_60d  \\\n",
       "0            2.107912           39.794561           26.117982   \n",
       "1            0.004997           -0.014991            0.028329   \n",
       "2           -4.035482            4.963800           -2.963648   \n",
       "3           -3.798250           20.798547           13.025218   \n",
       "4           -2.312966           -1.069160           -0.892082   \n",
       "5           20.162873           77.879766           84.963570   \n",
       "6           -4.494499            8.703144            2.798367   \n",
       "7           -0.755880            2.808224           -3.736472   \n",
       "8           -1.003846           -7.072514           -1.411662   \n",
       "9           -6.000835           -4.192295          -11.186593   \n",
       "10          -5.228908           24.448422           24.963853   \n",
       "11         -45.019587          -42.392699          -48.688418   \n",
       "12          -8.225329            1.977376           -2.014783   \n",
       "13         -11.436276           70.593687           76.069782   \n",
       "14          -3.491981           -3.081698            2.150531   \n",
       "15           7.607457           15.601895           21.706088   \n",
       "16          12.426691           30.461997           11.014530   \n",
       "17          -6.682996          -13.080038          -10.317876   \n",
       "18          -2.634609           -7.892158           72.279036   \n",
       "19         -28.019266           -7.709150           19.947713   \n",
       "20          -3.038646           16.999262          -21.638808   \n",
       "21          -2.475235           -0.906189          -29.711855   \n",
       "22           1.528225            5.842020           40.027339   \n",
       "23         -21.549068           40.162755           34.680472   \n",
       "24           2.952999           10.031381           12.773709   \n",
       "25         -11.063985          -24.776906          -29.391838   \n",
       "26           6.218064           12.869091          -16.115582   \n",
       "27           6.042360            2.867072           -0.812576   \n",
       "28           2.791675           12.869091           -2.199273   \n",
       "29           2.791675          -15.348182          -25.315808   \n",
       "30          -5.999279           21.574317           23.411675   \n",
       "31          54.187513          -15.348182           24.473653   \n",
       "32          -5.189551           26.157597           14.770965   \n",
       "33         -29.399729          -22.434029          106.641537   \n",
       "34           5.751023           -2.895027          -18.483176   \n",
       "35          -3.747210          171.223337          153.939247   \n",
       "36         -41.246038          -33.721269          -33.721269   \n",
       "37         -10.096825           26.529127           33.181507   \n",
       "38          11.665471          -17.689900          -42.160475   \n",
       "39         -10.231875          -27.876462           15.411913   \n",
       "40           5.935460          -29.791849          -15.517294   \n",
       "41         -77.216110          -69.672518          -62.298501   \n",
       "42          -1.012792           -0.236664          -40.104339   \n",
       "43          -9.483718          -43.042876          -56.044566   \n",
       "44         -40.451743            0.174789           22.112537   \n",
       "45           0.000000            0.000000          -10.890668   \n",
       "46           0.451609           15.570555          -23.841352   \n",
       "47         -15.973113          -32.972775          -60.508091   \n",
       "48          -0.027973           -0.066782            0.544807   \n",
       "49          -0.406087            5.203214           59.458251   \n",
       "\n",
       "    percent_change_90d    market_cap  market_cap_dominance  \\\n",
       "0            -5.148470  3.038475e+11                9.0051   \n",
       "1            -0.013933  1.527815e+11                4.5280   \n",
       "2            -5.979773  1.351875e+11                4.0065   \n",
       "3            -2.734797  3.278373e+10                0.9716   \n",
       "4           -10.533556  8.793850e+09                0.2606   \n",
       "5            74.944460  7.546190e+09                0.2236   \n",
       "6           -23.611741  7.162124e+09                0.2123   \n",
       "7            -9.212952  2.831903e+08                0.0084   \n",
       "8           -14.433322  1.903159e+08                0.0056   \n",
       "9            30.910422  1.752010e+08                0.0052   \n",
       "10           10.472767  1.082777e+08                0.0032   \n",
       "11          -52.850514  9.000083e+07                0.0027   \n",
       "12          -25.766344  3.834469e+07                0.0011   \n",
       "13           53.486852  3.132628e+07                0.0000   \n",
       "14          -13.270713  2.994261e+07                0.0000   \n",
       "15           15.500218  1.739198e+07                0.0000   \n",
       "16          -10.941530  1.452180e+07                0.0000   \n",
       "17          -10.439904  1.352782e+07                0.0000   \n",
       "18           52.622608  9.434058e+06                0.0000   \n",
       "19           39.673919  9.301342e+06                0.0003   \n",
       "20          -40.710708  8.015855e+06                0.0002   \n",
       "21          -39.997182  7.767922e+06                0.0000   \n",
       "22           70.792647  5.689284e+06                0.0002   \n",
       "23           37.124342  4.138021e+06                0.0001   \n",
       "24           -5.644963  3.393171e+06                0.0001   \n",
       "25          -41.069637  3.253509e+06                0.0000   \n",
       "26          -11.754756  1.792949e+06                0.0000   \n",
       "27          -19.135641  1.432222e+06                0.0000   \n",
       "28          -16.499124  1.091543e+06                0.0000   \n",
       "29          -14.601377  7.626358e+05                0.0000   \n",
       "30           23.091268  6.242633e+05                0.0000   \n",
       "31          -14.601377  5.100256e+05                0.0000   \n",
       "32           43.003994  4.603053e+05                0.0000   \n",
       "33           93.699321  4.369562e+05                0.0000   \n",
       "34          -44.423809  4.010336e+05                0.0000   \n",
       "35          118.518891  3.962806e+05                0.0000   \n",
       "36          -61.335162  3.579191e+05                0.0000   \n",
       "37          -28.176112  3.102107e+05                0.0000   \n",
       "38          -45.515865  2.849724e+05                0.0000   \n",
       "39           26.911256  2.492481e+05                0.0000   \n",
       "40          -22.660307  2.150215e+05                0.0000   \n",
       "41          -69.031805  9.892962e+04                0.0000   \n",
       "42          -47.370528  9.460611e+04                0.0000   \n",
       "43          -52.863491  8.723817e+04                0.0000   \n",
       "44           20.413397  4.470795e+04                0.0000   \n",
       "45          -33.624364  4.841189e+03                0.0000   \n",
       "46           -7.371152  0.000000e+00                0.0000   \n",
       "47          -77.061178  0.000000e+00                0.0000   \n",
       "48            0.101969  0.000000e+00                0.0031   \n",
       "49          -26.115246  0.000000e+00                0.0000   \n",
       "\n",
       "    fully_diluted_market_cap           tvl            last_updated.1  \n",
       "0               3.038475e+11           NaN 2025-05-25 19:03:00+00:00  \n",
       "1               1.560543e+11           NaN 2025-05-25 19:02:00+00:00  \n",
       "2               2.303573e+11           NaN 2025-05-25 19:03:00+00:00  \n",
       "3               3.278373e+10           NaN 2025-05-25 19:03:00+00:00  \n",
       "4               1.413134e+10           NaN 2025-05-25 19:03:00+00:00  \n",
       "5               7.546190e+09           NaN 2025-05-25 19:03:00+00:00  \n",
       "6               7.927171e+09           NaN 2025-05-25 19:03:00+00:00  \n",
       "7               4.359993e+08           NaN 2025-05-25 19:03:00+00:00  \n",
       "8               2.053390e+08           NaN 2025-05-25 19:03:00+00:00  \n",
       "9               2.077480e+08           NaN 2025-05-25 19:03:00+00:00  \n",
       "10              1.082777e+08           NaN 2025-05-25 19:02:00+00:00  \n",
       "11              9.000083e+07           NaN 2025-05-25 19:03:00+00:00  \n",
       "12              3.834469e+07           NaN 2025-05-25 19:03:00+00:00  \n",
       "13              4.405974e+07           NaN 2025-05-25 19:02:00+00:00  \n",
       "14              3.587740e+07           NaN 2025-05-25 19:02:00+00:00  \n",
       "15              1.739198e+07           NaN 2025-05-25 19:03:00+00:00  \n",
       "16              1.452180e+07           NaN 2025-05-25 19:03:00+00:00  \n",
       "17              2.163473e+07           NaN 2025-05-25 19:03:00+00:00  \n",
       "18              1.069283e+07           NaN 2025-05-25 19:03:00+00:00  \n",
       "19              9.301342e+06  2.004238e+06 2025-05-25 19:03:00+00:00  \n",
       "20              8.015855e+06           NaN 2025-05-25 19:03:00+00:00  \n",
       "21              1.016312e+07           NaN 2025-05-25 19:03:00+00:00  \n",
       "22              6.629746e+06           NaN 2025-05-25 19:03:00+00:00  \n",
       "23              6.856212e+06           NaN 2025-05-25 19:03:00+00:00  \n",
       "24              4.079167e+06           NaN 2025-05-25 19:03:00+00:00  \n",
       "25              3.260636e+06           NaN 2025-05-25 19:03:00+00:00  \n",
       "26              1.792949e+06           NaN 2025-05-25 19:03:00+00:00  \n",
       "27              1.433758e+06           NaN 2025-05-25 19:02:00+00:00  \n",
       "28              1.158242e+06           NaN 2025-05-25 19:03:00+00:00  \n",
       "29              1.083032e+06           NaN 2025-05-25 19:03:00+00:00  \n",
       "30              6.242633e+05           NaN 2025-05-25 19:03:00+00:00  \n",
       "31              5.325307e+05           NaN 2025-05-25 19:03:00+00:00  \n",
       "32              1.762308e+06           NaN 2025-05-25 19:03:00+00:00  \n",
       "33              4.369562e+05           NaN 2025-05-25 19:02:00+00:00  \n",
       "34              6.632787e+05           NaN 2025-05-25 19:03:00+00:00  \n",
       "35              3.962705e+05           NaN 2025-05-25 19:03:00+00:00  \n",
       "36              3.742231e+05           NaN 2025-05-25 19:03:00+00:00  \n",
       "37              3.785714e+05           NaN 2025-05-25 19:03:00+00:00  \n",
       "38              2.849724e+05           NaN 2025-05-25 19:03:00+00:00  \n",
       "39              2.571905e+05           NaN 2025-05-25 19:03:00+00:00  \n",
       "40              2.150215e+05           NaN 2025-05-25 19:02:00+00:00  \n",
       "41              2.249931e+05           NaN 2025-05-25 19:03:00+00:00  \n",
       "42              1.389526e+05           NaN 2025-05-25 19:03:00+00:00  \n",
       "43              2.500664e+05           NaN 2025-05-25 19:02:00+00:00  \n",
       "44              5.516943e+04           NaN 2025-05-25 19:03:00+00:00  \n",
       "45              4.841190e+03           NaN 2025-05-25 19:03:00+00:00  \n",
       "46              1.100206e+05           NaN 2025-05-25 19:02:00+00:00  \n",
       "47              8.482068e+05           NaN 2025-05-25 19:03:00+00:00  \n",
       "48              6.979572e+08           NaN 2025-05-25 19:03:00+00:00  \n",
       "49              2.983946e+06           NaN 2025-05-25 19:03:00+00:00  \n",
       "\n",
       "[50 rows x 30 columns]"
      ]
     },
     "execution_count": 16,
     "metadata": {},
     "output_type": "execute_result"
    }
   ],
   "source": [
    "# listing only coins that are added between 2nd September 2011 and 23rd December 2015\n",
    "date_added_df = listings_df[(listings_df['date_added'] > '02-09-2011') & (listings_df['date_added'] < '23-12-2015')]\n",
    "date_added_df.reset_index(drop=True)\n",
    "\n"
   ]
  },
  {
   "cell_type": "code",
   "execution_count": 17,
   "id": "fe55ffb2",
   "metadata": {},
   "outputs": [
    {
     "data": {
      "application/vnd.microsoft.datawrangler.viewer.v0+json": {
       "columns": [
        {
         "name": "index",
         "rawType": "int64",
         "type": "integer"
        },
        {
         "name": "id",
         "rawType": "int64",
         "type": "integer"
        },
        {
         "name": "name",
         "rawType": "object",
         "type": "string"
        },
        {
         "name": "symbol",
         "rawType": "object",
         "type": "string"
        },
        {
         "name": "slug",
         "rawType": "object",
         "type": "string"
        },
        {
         "name": "num_market_pairs",
         "rawType": "int64",
         "type": "integer"
        },
        {
         "name": "date_added",
         "rawType": "datetime64[ns, UTC]",
         "type": "unknown"
        },
        {
         "name": "tags",
         "rawType": "object",
         "type": "unknown"
        },
        {
         "name": "max_supply",
         "rawType": "float64",
         "type": "float"
        },
        {
         "name": "circulating_supply",
         "rawType": "float64",
         "type": "float"
        },
        {
         "name": "total_supply",
         "rawType": "float64",
         "type": "float"
        },
        {
         "name": "infinite_supply",
         "rawType": "bool",
         "type": "boolean"
        },
        {
         "name": "cmc_rank",
         "rawType": "int64",
         "type": "integer"
        },
        {
         "name": "self_reported_circulating_supply",
         "rawType": "float64",
         "type": "float"
        },
        {
         "name": "self_reported_market_cap",
         "rawType": "float64",
         "type": "float"
        },
        {
         "name": "tvl_ratio",
         "rawType": "float64",
         "type": "float"
        },
        {
         "name": "last_updated",
         "rawType": "datetime64[ns, UTC]",
         "type": "unknown"
        },
        {
         "name": "price",
         "rawType": "float64",
         "type": "float"
        },
        {
         "name": "volume_24h",
         "rawType": "float64",
         "type": "float"
        },
        {
         "name": "volume_change_24h",
         "rawType": "float64",
         "type": "float"
        },
        {
         "name": "percent_change_1h",
         "rawType": "float64",
         "type": "float"
        },
        {
         "name": "percent_change_24h",
         "rawType": "float64",
         "type": "float"
        },
        {
         "name": "percent_change_7d",
         "rawType": "float64",
         "type": "float"
        },
        {
         "name": "percent_change_30d",
         "rawType": "float64",
         "type": "float"
        },
        {
         "name": "percent_change_60d",
         "rawType": "float64",
         "type": "float"
        },
        {
         "name": "percent_change_90d",
         "rawType": "float64",
         "type": "float"
        },
        {
         "name": "market_cap",
         "rawType": "float64",
         "type": "float"
        },
        {
         "name": "market_cap_dominance",
         "rawType": "float64",
         "type": "float"
        },
        {
         "name": "fully_diluted_market_cap",
         "rawType": "float64",
         "type": "float"
        },
        {
         "name": "tvl",
         "rawType": "float64",
         "type": "float"
        },
        {
         "name": "last_updated.1",
         "rawType": "datetime64[ns, UTC]",
         "type": "unknown"
        }
       ],
       "ref": "6b4de2d6-880a-4e4a-9a26-9fa73de48cf9",
       "rows": [
        [
         "0",
         "1",
         "Bitcoin",
         "BTC",
         "bitcoin",
         "12187",
         "2010-07-13 00:00:00+00:00",
         "['mineable', 'pow', 'sha-256', 'store-of-value', 'state-channel', 'coinbase-ventures-portfolio', 'three-arrows-capital-portfolio', 'polychain-capital-portfolio', 'binance-labs-portfolio', 'blockchain-capital-portfolio', 'boostvc-portfolio', 'cms-holdings-portfolio', 'dcg-portfolio', 'dragonfly-capital-portfolio', 'electric-capital-portfolio', 'fabric-ventures-portfolio', 'framework-ventures-portfolio', 'galaxy-digital-portfolio', 'huobi-capital-portfolio', 'alameda-research-portfolio', 'a16z-portfolio', '1confirmation-portfolio', 'winklevoss-capital-portfolio', 'usv-portfolio', 'placeholder-ventures-portfolio', 'pantera-capital-portfolio', 'multicoin-capital-portfolio', 'paradigm-portfolio', 'bitcoin-ecosystem', 'layer-1', 'ftx-bankruptcy-estate', '2017-2018-alt-season', 'us-strategic-crypto-reserve', 'binance-ecosystem']",
         "21000000.0",
         "19869796.0",
         "19869796.0",
         "False",
         "1",
         null,
         null,
         null,
         "2025-05-25 19:03:00+00:00",
         "107465.29983623025",
         "47238628334.36895",
         "-0.1173",
         "0.11322172",
         "-1.3471241",
         "2.81068093",
         "12.75745719",
         "24.61017595",
         "13.92769082",
         "2135313584824.728",
         "63.2857",
         "2256771296560.83",
         null,
         "2025-05-25 19:03:00+00:00"
        ],
        [
         "1",
         "1027",
         "Ethereum",
         "ETH",
         "ethereum",
         "10307",
         "2015-08-07 00:00:00+00:00",
         "['pos', 'smart-contracts', 'ethereum-ecosystem', 'coinbase-ventures-portfolio', 'three-arrows-capital-portfolio', 'polychain-capital-portfolio', 'binance-labs-portfolio', 'blockchain-capital-portfolio', 'boostvc-portfolio', 'cms-holdings-portfolio', 'dcg-portfolio', 'dragonfly-capital-portfolio', 'electric-capital-portfolio', 'fabric-ventures-portfolio', 'framework-ventures-portfolio', 'hashkey-capital-portfolio', 'kenetic-capital-portfolio', 'huobi-capital-portfolio', 'alameda-research-portfolio', 'a16z-portfolio', '1confirmation-portfolio', 'winklevoss-capital-portfolio', 'usv-portfolio', 'placeholder-ventures-portfolio', 'pantera-capital-portfolio', 'multicoin-capital-portfolio', 'paradigm-portfolio', 'ethereum-pow-ecosystem', 'layer-1', 'ftx-bankruptcy-estate', 'sora-ecosystem', 'rsk-rbtc-ecosystem', 'world-liberty-financial-portfolio', 'us-strategic-crypto-reserve', 'binance-ecosystem']",
         null,
         "120725964.145659",
         "120725964.145659",
         "True",
         "2",
         null,
         null,
         null,
         "2025-05-25 19:03:00+00:00",
         "2516.836597440719",
         "13920316017.671837",
         "6.7543",
         "0.14087323",
         "-1.4142518",
         "2.10791207",
         "39.79456122",
         "26.11798231",
         "-5.14846987",
         "303847524823.11066",
         "9.0051",
         "303847524823.11",
         null,
         "2025-05-25 19:03:00+00:00"
        ],
        [
         "2",
         "825",
         "Tether USDt",
         "USDT",
         "tether",
         "129577",
         "2015-02-25 00:00:00+00:00",
         "['stablecoin', 'asset-backed-stablecoin', 'usd-stablecoin', 'ethereum-pow-ecosystem', 'fiat-stablecoin', 'tron20-ecosystem', 'rsk-rbtc-ecosystem', 'world-liberty-financial-portfolio']",
         null,
         "152732954758.03772",
         "156004732006.21027",
         "True",
         "3",
         null,
         null,
         null,
         "2025-05-25 19:02:00+00:00",
         "1.000317604870807",
         "63506041478.09058",
         "-3.3543",
         "-0.00766236",
         "0.01688786",
         "0.00499677",
         "-0.0149913",
         "0.02832861",
         "-0.01393316",
         "152781463488.4016",
         "4.528",
         "156054279868.96",
         null,
         "2025-05-25 19:02:00+00:00"
        ],
        [
         "3",
         "52",
         "XRP",
         "XRP",
         "xrp",
         "1614",
         "2013-08-04 00:00:00+00:00",
         "['medium-of-exchange', 'enterprise-solutions', 'xrp-ecosystem', 'arrington-xrp-capital-portfolio', 'galaxy-digital-portfolio', 'a16z-portfolio', 'pantera-capital-portfolio', 'ftx-bankruptcy-estate', '2017-2018-alt-season', 'klaytn-ecosystem', 'made-in-america', 'us-strategic-crypto-reserve']",
         "100000000000.0",
         "58686007292.0",
         "99986107098.0",
         "False",
         "4",
         null,
         null,
         null,
         "2025-05-25 19:03:00+00:00",
         "2.3035726478165404",
         "1928875090.2928867",
         "0.8837",
         "0.20917353",
         "-1.84994509",
         "-4.03548235",
         "4.96380045",
         "-2.96364832",
         "-5.97977309",
         "135187481207.41324",
         "4.0065",
         "230357264781.65",
         null,
         "2025-05-25 19:03:00+00:00"
        ],
        [
         "4",
         "1839",
         "BNB",
         "BNB",
         "bnb",
         "2545",
         "2017-07-25 00:00:00+00:00",
         "['marketplace', 'centralized-exchange', 'payments', 'smart-contracts', 'alameda-research-portfolio', 'multicoin-capital-portfolio', 'bnb-chain-ecosystem', 'layer-1', 'alleged-sec-securities', 'celsius-bankruptcy-estate']",
         null,
         "140888117.54",
         "140888117.54",
         "False",
         "5",
         null,
         null,
         null,
         "2025-05-25 19:02:00+00:00",
         "665.3770273362973",
         "1565766508.092338",
         "0.7689",
         "0.03310514",
         "-1.48472887",
         "3.30445217",
         "10.2190531",
         "7.62898899",
         "4.98242821",
         "93743716835.77203",
         "2.7783",
         "93743716835.77",
         null,
         "2025-05-25 19:02:00+00:00"
        ],
        [
         "5",
         "5426",
         "Solana",
         "SOL",
         "solana",
         "924",
         "2020-04-10 00:00:00+00:00",
         "['pos', 'platform', 'solana-ecosystem', 'cms-holdings-portfolio', 'kenetic-capital-portfolio', 'alameda-research-portfolio', 'multicoin-capital-portfolio', 'okx-ventures-portfolio', 'layer-1', 'ftx-bankruptcy-estate', 'alleged-sec-securities', 'cmc-crypto-awards-2024', 'made-in-america', 'us-strategic-crypto-reserve']",
         null,
         "520283662.9822936",
         "601533250.7524525",
         "True",
         "6",
         null,
         null,
         null,
         "2025-05-25 19:03:00+00:00",
         "171.7325280660603",
         "3197686997.444094",
         "-8.6948",
         "0.42016527",
         "-2.95438088",
         "0.757709",
         "13.30274672",
         "24.98540913",
         "12.98533375",
         "89349628755.41939",
         "2.648",
         "103302825867.51",
         null,
         "2025-05-25 19:03:00+00:00"
        ],
        [
         "6",
         "3408",
         "USDC",
         "USDC",
         "usd-coin",
         "28186",
         "2018-10-08 00:00:00+00:00",
         "['medium-of-exchange', 'stablecoin', 'asset-backed-stablecoin', 'coinbase-ventures-portfolio', 'usd-stablecoin', 'ethereum-pow-ecosystem', 'fiat-stablecoin', 'tron20-ecosystem', 'made-in-america', 'world-liberty-financial-portfolio']",
         null,
         "61715633727.97176",
         "61715633727.97176",
         "False",
         "7",
         null,
         null,
         null,
         "2025-05-25 19:03:00+00:00",
         "0.9998611492269636",
         "8409247488.849723",
         "0.8972",
         "0.00492249",
         "0.00190848",
         "-0.00645667",
         "-0.00384904",
         "-0.00212414",
         "-0.0062483",
         "61707064464.52021",
         "1.8289",
         "61707064464.52",
         null,
         "2025-05-25 19:03:00+00:00"
        ],
        [
         "7",
         "74",
         "Dogecoin",
         "DOGE",
         "dogecoin",
         "1227",
         "2013-12-15 00:00:00+00:00",
         "['mineable', 'pow', 'scrypt', 'medium-of-exchange', 'memes', 'payments', 'doggone-doggerel', 'osmosis-ecosystem', 'ftx-bankruptcy-estate', 'animal-memes', 'made-in-america']",
         null,
         "149413056383.70514",
         "149413056383.70514",
         "True",
         "8",
         null,
         null,
         null,
         "2025-05-25 19:03:00+00:00",
         "0.2194167606028945",
         "1471128010.884547",
         "1.0046",
         "0.13684266",
         "-3.30234595",
         "-3.79825002",
         "20.7985467",
         "13.02521823",
         "-2.73479685",
         "32783728823.490208",
         "0.9716",
         "32783728823.49",
         null,
         "2025-05-25 19:03:00+00:00"
        ],
        [
         "8",
         "2010",
         "Cardano",
         "ADA",
         "cardano",
         "1521",
         "2017-10-01 00:00:00+00:00",
         "['dpos', 'pos', 'platform', 'research', 'smart-contracts', 'staking', 'cardano-ecosystem', 'cardano', 'layer-1', 'alleged-sec-securities', '2017-2018-alt-season', 'made-in-america', 'us-strategic-crypto-reserve']",
         "45000000000.0",
         "35334514487.46726",
         "44994495302.31451",
         "False",
         "9",
         null,
         null,
         null,
         "2025-05-25 19:03:00+00:00",
         "0.7467578562468912",
         "637671244.7176719",
         "-9.3536",
         "0.39984211",
         "-1.17667286",
         "0.06585497",
         "3.76361045",
         "2.89982037",
         "2.71607",
         "26386326290.18577",
         "0.782",
         "33604103531.11",
         null,
         "2025-05-25 19:03:00+00:00"
        ],
        [
         "9",
         "1958",
         "TRON",
         "TRX",
         "tron",
         "1178",
         "2017-09-13 00:00:00+00:00",
         "['media', 'payments', 'tron-ecosystem', 'layer-1', 'dwf-labs-portfolio', 'alleged-sec-securities', '2017-2018-alt-season', 'tron20-ecosystem', 'world-liberty-financial-portfolio']",
         null,
         "94877826109.37964",
         "94877826324.52847",
         "True",
         "10",
         null,
         null,
         null,
         "2025-05-25 19:03:00+00:00",
         "0.2711796000429752",
         "501882210.64286953",
         "-14.0024",
         "-0.0481828",
         "0.00391649",
         "2.11446438",
         "11.74014445",
         "17.93672187",
         "9.74736694",
         "25728930937.28853",
         "0.7625",
         "25728930995.63",
         null,
         "2025-05-25 19:03:00+00:00"
        ]
       ],
       "shape": {
        "columns": 30,
        "rows": 10
       }
      },
      "text/html": [
       "<div>\n",
       "<style scoped>\n",
       "    .dataframe tbody tr th:only-of-type {\n",
       "        vertical-align: middle;\n",
       "    }\n",
       "\n",
       "    .dataframe tbody tr th {\n",
       "        vertical-align: top;\n",
       "    }\n",
       "\n",
       "    .dataframe thead th {\n",
       "        text-align: right;\n",
       "    }\n",
       "</style>\n",
       "<table border=\"1\" class=\"dataframe\">\n",
       "  <thead>\n",
       "    <tr style=\"text-align: right;\">\n",
       "      <th></th>\n",
       "      <th>id</th>\n",
       "      <th>name</th>\n",
       "      <th>symbol</th>\n",
       "      <th>slug</th>\n",
       "      <th>num_market_pairs</th>\n",
       "      <th>date_added</th>\n",
       "      <th>tags</th>\n",
       "      <th>max_supply</th>\n",
       "      <th>circulating_supply</th>\n",
       "      <th>total_supply</th>\n",
       "      <th>...</th>\n",
       "      <th>percent_change_24h</th>\n",
       "      <th>percent_change_7d</th>\n",
       "      <th>percent_change_30d</th>\n",
       "      <th>percent_change_60d</th>\n",
       "      <th>percent_change_90d</th>\n",
       "      <th>market_cap</th>\n",
       "      <th>market_cap_dominance</th>\n",
       "      <th>fully_diluted_market_cap</th>\n",
       "      <th>tvl</th>\n",
       "      <th>last_updated.1</th>\n",
       "    </tr>\n",
       "  </thead>\n",
       "  <tbody>\n",
       "    <tr>\n",
       "      <th>0</th>\n",
       "      <td>1</td>\n",
       "      <td>Bitcoin</td>\n",
       "      <td>BTC</td>\n",
       "      <td>bitcoin</td>\n",
       "      <td>12187</td>\n",
       "      <td>2010-07-13 00:00:00+00:00</td>\n",
       "      <td>[mineable, pow, sha-256, store-of-value, state...</td>\n",
       "      <td>2.100000e+07</td>\n",
       "      <td>1.986980e+07</td>\n",
       "      <td>1.986980e+07</td>\n",
       "      <td>...</td>\n",
       "      <td>-1.347124</td>\n",
       "      <td>2.810681</td>\n",
       "      <td>12.757457</td>\n",
       "      <td>24.610176</td>\n",
       "      <td>13.927691</td>\n",
       "      <td>2.135314e+12</td>\n",
       "      <td>63.2857</td>\n",
       "      <td>2.256771e+12</td>\n",
       "      <td>NaN</td>\n",
       "      <td>2025-05-25 19:03:00+00:00</td>\n",
       "    </tr>\n",
       "    <tr>\n",
       "      <th>1</th>\n",
       "      <td>1027</td>\n",
       "      <td>Ethereum</td>\n",
       "      <td>ETH</td>\n",
       "      <td>ethereum</td>\n",
       "      <td>10307</td>\n",
       "      <td>2015-08-07 00:00:00+00:00</td>\n",
       "      <td>[pos, smart-contracts, ethereum-ecosystem, coi...</td>\n",
       "      <td>NaN</td>\n",
       "      <td>1.207260e+08</td>\n",
       "      <td>1.207260e+08</td>\n",
       "      <td>...</td>\n",
       "      <td>-1.414252</td>\n",
       "      <td>2.107912</td>\n",
       "      <td>39.794561</td>\n",
       "      <td>26.117982</td>\n",
       "      <td>-5.148470</td>\n",
       "      <td>3.038475e+11</td>\n",
       "      <td>9.0051</td>\n",
       "      <td>3.038475e+11</td>\n",
       "      <td>NaN</td>\n",
       "      <td>2025-05-25 19:03:00+00:00</td>\n",
       "    </tr>\n",
       "    <tr>\n",
       "      <th>2</th>\n",
       "      <td>825</td>\n",
       "      <td>Tether USDt</td>\n",
       "      <td>USDT</td>\n",
       "      <td>tether</td>\n",
       "      <td>129577</td>\n",
       "      <td>2015-02-25 00:00:00+00:00</td>\n",
       "      <td>[stablecoin, asset-backed-stablecoin, usd-stab...</td>\n",
       "      <td>NaN</td>\n",
       "      <td>1.527330e+11</td>\n",
       "      <td>1.560047e+11</td>\n",
       "      <td>...</td>\n",
       "      <td>0.016888</td>\n",
       "      <td>0.004997</td>\n",
       "      <td>-0.014991</td>\n",
       "      <td>0.028329</td>\n",
       "      <td>-0.013933</td>\n",
       "      <td>1.527815e+11</td>\n",
       "      <td>4.5280</td>\n",
       "      <td>1.560543e+11</td>\n",
       "      <td>NaN</td>\n",
       "      <td>2025-05-25 19:02:00+00:00</td>\n",
       "    </tr>\n",
       "    <tr>\n",
       "      <th>3</th>\n",
       "      <td>52</td>\n",
       "      <td>XRP</td>\n",
       "      <td>XRP</td>\n",
       "      <td>xrp</td>\n",
       "      <td>1614</td>\n",
       "      <td>2013-08-04 00:00:00+00:00</td>\n",
       "      <td>[medium-of-exchange, enterprise-solutions, xrp...</td>\n",
       "      <td>1.000000e+11</td>\n",
       "      <td>5.868601e+10</td>\n",
       "      <td>9.998611e+10</td>\n",
       "      <td>...</td>\n",
       "      <td>-1.849945</td>\n",
       "      <td>-4.035482</td>\n",
       "      <td>4.963800</td>\n",
       "      <td>-2.963648</td>\n",
       "      <td>-5.979773</td>\n",
       "      <td>1.351875e+11</td>\n",
       "      <td>4.0065</td>\n",
       "      <td>2.303573e+11</td>\n",
       "      <td>NaN</td>\n",
       "      <td>2025-05-25 19:03:00+00:00</td>\n",
       "    </tr>\n",
       "    <tr>\n",
       "      <th>4</th>\n",
       "      <td>1839</td>\n",
       "      <td>BNB</td>\n",
       "      <td>BNB</td>\n",
       "      <td>bnb</td>\n",
       "      <td>2545</td>\n",
       "      <td>2017-07-25 00:00:00+00:00</td>\n",
       "      <td>[marketplace, centralized-exchange, payments, ...</td>\n",
       "      <td>NaN</td>\n",
       "      <td>1.408881e+08</td>\n",
       "      <td>1.408881e+08</td>\n",
       "      <td>...</td>\n",
       "      <td>-1.484729</td>\n",
       "      <td>3.304452</td>\n",
       "      <td>10.219053</td>\n",
       "      <td>7.628989</td>\n",
       "      <td>4.982428</td>\n",
       "      <td>9.374372e+10</td>\n",
       "      <td>2.7783</td>\n",
       "      <td>9.374372e+10</td>\n",
       "      <td>NaN</td>\n",
       "      <td>2025-05-25 19:02:00+00:00</td>\n",
       "    </tr>\n",
       "    <tr>\n",
       "      <th>5</th>\n",
       "      <td>5426</td>\n",
       "      <td>Solana</td>\n",
       "      <td>SOL</td>\n",
       "      <td>solana</td>\n",
       "      <td>924</td>\n",
       "      <td>2020-04-10 00:00:00+00:00</td>\n",
       "      <td>[pos, platform, solana-ecosystem, cms-holdings...</td>\n",
       "      <td>NaN</td>\n",
       "      <td>5.202837e+08</td>\n",
       "      <td>6.015333e+08</td>\n",
       "      <td>...</td>\n",
       "      <td>-2.954381</td>\n",
       "      <td>0.757709</td>\n",
       "      <td>13.302747</td>\n",
       "      <td>24.985409</td>\n",
       "      <td>12.985334</td>\n",
       "      <td>8.934963e+10</td>\n",
       "      <td>2.6480</td>\n",
       "      <td>1.033028e+11</td>\n",
       "      <td>NaN</td>\n",
       "      <td>2025-05-25 19:03:00+00:00</td>\n",
       "    </tr>\n",
       "    <tr>\n",
       "      <th>6</th>\n",
       "      <td>3408</td>\n",
       "      <td>USDC</td>\n",
       "      <td>USDC</td>\n",
       "      <td>usd-coin</td>\n",
       "      <td>28186</td>\n",
       "      <td>2018-10-08 00:00:00+00:00</td>\n",
       "      <td>[medium-of-exchange, stablecoin, asset-backed-...</td>\n",
       "      <td>NaN</td>\n",
       "      <td>6.171563e+10</td>\n",
       "      <td>6.171563e+10</td>\n",
       "      <td>...</td>\n",
       "      <td>0.001908</td>\n",
       "      <td>-0.006457</td>\n",
       "      <td>-0.003849</td>\n",
       "      <td>-0.002124</td>\n",
       "      <td>-0.006248</td>\n",
       "      <td>6.170706e+10</td>\n",
       "      <td>1.8289</td>\n",
       "      <td>6.170706e+10</td>\n",
       "      <td>NaN</td>\n",
       "      <td>2025-05-25 19:03:00+00:00</td>\n",
       "    </tr>\n",
       "    <tr>\n",
       "      <th>7</th>\n",
       "      <td>74</td>\n",
       "      <td>Dogecoin</td>\n",
       "      <td>DOGE</td>\n",
       "      <td>dogecoin</td>\n",
       "      <td>1227</td>\n",
       "      <td>2013-12-15 00:00:00+00:00</td>\n",
       "      <td>[mineable, pow, scrypt, medium-of-exchange, me...</td>\n",
       "      <td>NaN</td>\n",
       "      <td>1.494131e+11</td>\n",
       "      <td>1.494131e+11</td>\n",
       "      <td>...</td>\n",
       "      <td>-3.302346</td>\n",
       "      <td>-3.798250</td>\n",
       "      <td>20.798547</td>\n",
       "      <td>13.025218</td>\n",
       "      <td>-2.734797</td>\n",
       "      <td>3.278373e+10</td>\n",
       "      <td>0.9716</td>\n",
       "      <td>3.278373e+10</td>\n",
       "      <td>NaN</td>\n",
       "      <td>2025-05-25 19:03:00+00:00</td>\n",
       "    </tr>\n",
       "    <tr>\n",
       "      <th>8</th>\n",
       "      <td>2010</td>\n",
       "      <td>Cardano</td>\n",
       "      <td>ADA</td>\n",
       "      <td>cardano</td>\n",
       "      <td>1521</td>\n",
       "      <td>2017-10-01 00:00:00+00:00</td>\n",
       "      <td>[dpos, pos, platform, research, smart-contract...</td>\n",
       "      <td>4.500000e+10</td>\n",
       "      <td>3.533451e+10</td>\n",
       "      <td>4.499450e+10</td>\n",
       "      <td>...</td>\n",
       "      <td>-1.176673</td>\n",
       "      <td>0.065855</td>\n",
       "      <td>3.763610</td>\n",
       "      <td>2.899820</td>\n",
       "      <td>2.716070</td>\n",
       "      <td>2.638633e+10</td>\n",
       "      <td>0.7820</td>\n",
       "      <td>3.360410e+10</td>\n",
       "      <td>NaN</td>\n",
       "      <td>2025-05-25 19:03:00+00:00</td>\n",
       "    </tr>\n",
       "    <tr>\n",
       "      <th>9</th>\n",
       "      <td>1958</td>\n",
       "      <td>TRON</td>\n",
       "      <td>TRX</td>\n",
       "      <td>tron</td>\n",
       "      <td>1178</td>\n",
       "      <td>2017-09-13 00:00:00+00:00</td>\n",
       "      <td>[media, payments, tron-ecosystem, layer-1, dwf...</td>\n",
       "      <td>NaN</td>\n",
       "      <td>9.487783e+10</td>\n",
       "      <td>9.487783e+10</td>\n",
       "      <td>...</td>\n",
       "      <td>0.003916</td>\n",
       "      <td>2.114464</td>\n",
       "      <td>11.740144</td>\n",
       "      <td>17.936722</td>\n",
       "      <td>9.747367</td>\n",
       "      <td>2.572893e+10</td>\n",
       "      <td>0.7625</td>\n",
       "      <td>2.572893e+10</td>\n",
       "      <td>NaN</td>\n",
       "      <td>2025-05-25 19:03:00+00:00</td>\n",
       "    </tr>\n",
       "  </tbody>\n",
       "</table>\n",
       "<p>10 rows × 30 columns</p>\n",
       "</div>"
      ],
      "text/plain": [
       "     id         name symbol      slug  num_market_pairs  \\\n",
       "0     1      Bitcoin    BTC   bitcoin             12187   \n",
       "1  1027     Ethereum    ETH  ethereum             10307   \n",
       "2   825  Tether USDt   USDT    tether            129577   \n",
       "3    52          XRP    XRP       xrp              1614   \n",
       "4  1839          BNB    BNB       bnb              2545   \n",
       "5  5426       Solana    SOL    solana               924   \n",
       "6  3408         USDC   USDC  usd-coin             28186   \n",
       "7    74     Dogecoin   DOGE  dogecoin              1227   \n",
       "8  2010      Cardano    ADA   cardano              1521   \n",
       "9  1958         TRON    TRX      tron              1178   \n",
       "\n",
       "                 date_added  \\\n",
       "0 2010-07-13 00:00:00+00:00   \n",
       "1 2015-08-07 00:00:00+00:00   \n",
       "2 2015-02-25 00:00:00+00:00   \n",
       "3 2013-08-04 00:00:00+00:00   \n",
       "4 2017-07-25 00:00:00+00:00   \n",
       "5 2020-04-10 00:00:00+00:00   \n",
       "6 2018-10-08 00:00:00+00:00   \n",
       "7 2013-12-15 00:00:00+00:00   \n",
       "8 2017-10-01 00:00:00+00:00   \n",
       "9 2017-09-13 00:00:00+00:00   \n",
       "\n",
       "                                                tags    max_supply  \\\n",
       "0  [mineable, pow, sha-256, store-of-value, state...  2.100000e+07   \n",
       "1  [pos, smart-contracts, ethereum-ecosystem, coi...           NaN   \n",
       "2  [stablecoin, asset-backed-stablecoin, usd-stab...           NaN   \n",
       "3  [medium-of-exchange, enterprise-solutions, xrp...  1.000000e+11   \n",
       "4  [marketplace, centralized-exchange, payments, ...           NaN   \n",
       "5  [pos, platform, solana-ecosystem, cms-holdings...           NaN   \n",
       "6  [medium-of-exchange, stablecoin, asset-backed-...           NaN   \n",
       "7  [mineable, pow, scrypt, medium-of-exchange, me...           NaN   \n",
       "8  [dpos, pos, platform, research, smart-contract...  4.500000e+10   \n",
       "9  [media, payments, tron-ecosystem, layer-1, dwf...           NaN   \n",
       "\n",
       "   circulating_supply  total_supply  ...  percent_change_24h  \\\n",
       "0        1.986980e+07  1.986980e+07  ...           -1.347124   \n",
       "1        1.207260e+08  1.207260e+08  ...           -1.414252   \n",
       "2        1.527330e+11  1.560047e+11  ...            0.016888   \n",
       "3        5.868601e+10  9.998611e+10  ...           -1.849945   \n",
       "4        1.408881e+08  1.408881e+08  ...           -1.484729   \n",
       "5        5.202837e+08  6.015333e+08  ...           -2.954381   \n",
       "6        6.171563e+10  6.171563e+10  ...            0.001908   \n",
       "7        1.494131e+11  1.494131e+11  ...           -3.302346   \n",
       "8        3.533451e+10  4.499450e+10  ...           -1.176673   \n",
       "9        9.487783e+10  9.487783e+10  ...            0.003916   \n",
       "\n",
       "   percent_change_7d  percent_change_30d  percent_change_60d  \\\n",
       "0           2.810681           12.757457           24.610176   \n",
       "1           2.107912           39.794561           26.117982   \n",
       "2           0.004997           -0.014991            0.028329   \n",
       "3          -4.035482            4.963800           -2.963648   \n",
       "4           3.304452           10.219053            7.628989   \n",
       "5           0.757709           13.302747           24.985409   \n",
       "6          -0.006457           -0.003849           -0.002124   \n",
       "7          -3.798250           20.798547           13.025218   \n",
       "8           0.065855            3.763610            2.899820   \n",
       "9           2.114464           11.740144           17.936722   \n",
       "\n",
       "   percent_change_90d    market_cap  market_cap_dominance  \\\n",
       "0           13.927691  2.135314e+12               63.2857   \n",
       "1           -5.148470  3.038475e+11                9.0051   \n",
       "2           -0.013933  1.527815e+11                4.5280   \n",
       "3           -5.979773  1.351875e+11                4.0065   \n",
       "4            4.982428  9.374372e+10                2.7783   \n",
       "5           12.985334  8.934963e+10                2.6480   \n",
       "6           -0.006248  6.170706e+10                1.8289   \n",
       "7           -2.734797  3.278373e+10                0.9716   \n",
       "8            2.716070  2.638633e+10                0.7820   \n",
       "9            9.747367  2.572893e+10                0.7625   \n",
       "\n",
       "   fully_diluted_market_cap  tvl            last_updated.1  \n",
       "0              2.256771e+12  NaN 2025-05-25 19:03:00+00:00  \n",
       "1              3.038475e+11  NaN 2025-05-25 19:03:00+00:00  \n",
       "2              1.560543e+11  NaN 2025-05-25 19:02:00+00:00  \n",
       "3              2.303573e+11  NaN 2025-05-25 19:03:00+00:00  \n",
       "4              9.374372e+10  NaN 2025-05-25 19:02:00+00:00  \n",
       "5              1.033028e+11  NaN 2025-05-25 19:03:00+00:00  \n",
       "6              6.170706e+10  NaN 2025-05-25 19:03:00+00:00  \n",
       "7              3.278373e+10  NaN 2025-05-25 19:03:00+00:00  \n",
       "8              3.360410e+10  NaN 2025-05-25 19:03:00+00:00  \n",
       "9              2.572893e+10  NaN 2025-05-25 19:03:00+00:00  \n",
       "\n",
       "[10 rows x 30 columns]"
      ]
     },
     "execution_count": 17,
     "metadata": {},
     "output_type": "execute_result"
    }
   ],
   "source": [
    "# listing only the top 10 coins\n",
    "top_10_df = listings_df[listings_df['cmc_rank'] <= 10]\n",
    "top_10_df"
   ]
  },
  {
   "cell_type": "code",
   "execution_count": 18,
   "id": "a7cf5d11",
   "metadata": {},
   "outputs": [
    {
     "data": {
      "application/vnd.microsoft.datawrangler.viewer.v0+json": {
       "columns": [
        {
         "name": "index",
         "rawType": "int64",
         "type": "integer"
        },
        {
         "name": "id",
         "rawType": "int64",
         "type": "integer"
        },
        {
         "name": "name",
         "rawType": "object",
         "type": "string"
        },
        {
         "name": "symbol",
         "rawType": "object",
         "type": "string"
        },
        {
         "name": "slug",
         "rawType": "object",
         "type": "string"
        },
        {
         "name": "num_market_pairs",
         "rawType": "int64",
         "type": "integer"
        },
        {
         "name": "date_added",
         "rawType": "datetime64[ns, UTC]",
         "type": "unknown"
        },
        {
         "name": "tags",
         "rawType": "object",
         "type": "unknown"
        },
        {
         "name": "max_supply",
         "rawType": "float64",
         "type": "float"
        },
        {
         "name": "circulating_supply",
         "rawType": "float64",
         "type": "float"
        },
        {
         "name": "total_supply",
         "rawType": "float64",
         "type": "float"
        },
        {
         "name": "infinite_supply",
         "rawType": "bool",
         "type": "boolean"
        },
        {
         "name": "cmc_rank",
         "rawType": "int64",
         "type": "integer"
        },
        {
         "name": "self_reported_circulating_supply",
         "rawType": "float64",
         "type": "float"
        },
        {
         "name": "self_reported_market_cap",
         "rawType": "float64",
         "type": "float"
        },
        {
         "name": "tvl_ratio",
         "rawType": "float64",
         "type": "float"
        },
        {
         "name": "last_updated",
         "rawType": "datetime64[ns, UTC]",
         "type": "unknown"
        },
        {
         "name": "price",
         "rawType": "float64",
         "type": "float"
        },
        {
         "name": "volume_24h",
         "rawType": "float64",
         "type": "float"
        },
        {
         "name": "volume_change_24h",
         "rawType": "float64",
         "type": "float"
        },
        {
         "name": "percent_change_1h",
         "rawType": "float64",
         "type": "float"
        },
        {
         "name": "percent_change_24h",
         "rawType": "float64",
         "type": "float"
        },
        {
         "name": "percent_change_7d",
         "rawType": "float64",
         "type": "float"
        },
        {
         "name": "percent_change_30d",
         "rawType": "float64",
         "type": "float"
        },
        {
         "name": "percent_change_60d",
         "rawType": "float64",
         "type": "float"
        },
        {
         "name": "percent_change_90d",
         "rawType": "float64",
         "type": "float"
        },
        {
         "name": "market_cap",
         "rawType": "float64",
         "type": "float"
        },
        {
         "name": "market_cap_dominance",
         "rawType": "float64",
         "type": "float"
        },
        {
         "name": "fully_diluted_market_cap",
         "rawType": "float64",
         "type": "float"
        },
        {
         "name": "tvl",
         "rawType": "float64",
         "type": "float"
        },
        {
         "name": "last_updated.1",
         "rawType": "datetime64[ns, UTC]",
         "type": "unknown"
        }
       ],
       "ref": "e3fc859f-cb82-47f0-a67d-0eabee948352",
       "rows": [
        [
         "4990",
         "33623",
         "Miners.Club",
         "MBC",
         "miners-club",
         "2",
         "2025-01-22 06:54:06+00:00",
         "['bnb-chain-ecosystem']",
         "300000000.0",
         "0.0",
         "300000000.0",
         "False",
         "4991",
         "30000000.0",
         "363162.9122308731",
         null,
         "2025-05-25 19:03:00+00:00",
         "0.0121054304076957",
         "13832.86350559",
         "3.0657",
         "-0.08081859",
         "2.14719079",
         "27.39384078",
         "11.66058645",
         "-38.0387838",
         "-10.51418217",
         "0.0",
         "0.0",
         "3631629.12",
         null,
         "2025-05-25 19:03:00+00:00"
        ],
        [
         "4991",
         "34963",
         "Wrapped MistCoin",
         "WMC",
         "wrapped-mistcoin",
         "6",
         "2024-12-31 06:34:02+00:00",
         "['ethereum-ecosystem', 'base-ecosystem']",
         null,
         "0.0",
         "544634.0",
         "False",
         "4992",
         "404634.0",
         "2482665.1396143995",
         null,
         "2025-05-25 19:03:00+00:00",
         "6.135582130059262",
         "13788.87592602",
         "131.198",
         "3.17478832",
         "-4.03457927",
         "-15.8016151",
         "7.23668183",
         "-7.17282224",
         "-12.72326714",
         "0.0",
         "0.0",
         "3341646.64",
         null,
         "2025-05-25 19:03:00+00:00"
        ],
        [
         "4992",
         "32527",
         "Pepe of Solana",
         "PEPE",
         "pepe-of-solana",
         "21",
         "2024-08-02 04:45:36+00:00",
         "['memes', 'solana-ecosystem']",
         "1000000000.0",
         "0.0",
         "1000000000.0",
         "False",
         "4993",
         "1000000000.0",
         "13274.083341682208",
         null,
         "2025-05-25 19:02:00+00:00",
         "1.3274083341682207e-05",
         "13776.55931183",
         "-43.2379",
         "2.672e-05",
         "-6.61549714",
         "-7.0892239",
         "50.16796122",
         "59.3085223",
         "50.34033703",
         "0.0",
         "0.0",
         "13274.08",
         null,
         "2025-05-25 19:02:00+00:00"
        ],
        [
         "4993",
         "33612",
         "BOYS",
         "CLUB",
         "boys",
         "2",
         "2024-10-24 09:40:03+00:00",
         "['memes', 'solana-ecosystem']",
         "100000000000.0",
         "0.0",
         "100000000000.0",
         "False",
         "4994",
         "100000000000.0",
         "6540447.205938336",
         null,
         "2025-05-25 19:03:00+00:00",
         "6.540447205938336e-05",
         "13770.84925391",
         "-15.5926",
         "0.95760491",
         "-3.47240341",
         "-3.23654801",
         "-11.30848576",
         "-10.00648134",
         "-21.94114254",
         "0.0",
         "0.0",
         "6540447.21",
         null,
         "2025-05-25 19:03:00+00:00"
        ],
        [
         "4994",
         "27363",
         "Sovryn Dollar",
         "DLLR",
         "sovryn-dollar",
         "3",
         "2023-09-06 13:28:41+00:00",
         "['rsk-rbtc-ecosystem']",
         "0.0",
         "0.0",
         "0.0",
         "False",
         "4995",
         "3450587.47",
         "3444375.949917236",
         null,
         "2025-05-25 19:02:00+00:00",
         "0.9981998659252176",
         "13743.09295009",
         "-29.5283",
         "0.19092279",
         "-0.90126344",
         "1.4218893",
         "0.27016568",
         "0.24519763",
         "1.40588957",
         "0.0",
         "0.0",
         "0.0",
         null,
         "2025-05-25 19:02:00+00:00"
        ],
        [
         "4995",
         "25712",
         "AiAkita",
         "AIAKITA",
         "aiakita",
         "3",
         "2023-05-22 21:50:37+00:00",
         "['arbitrum-ecosystem']",
         "3.139079021602202e+17",
         "0.0",
         "3.139079021602202e+17",
         "False",
         "4996",
         "1.3907902160220224e+16",
         "1446.7517963174475",
         null,
         "2025-05-25 19:02:00+00:00",
         "1.0402372548000001e-13",
         "13732.70986281",
         "-56.399",
         "2.66765009",
         "1.66899033",
         "-2.21780033",
         "-27.54765791",
         "-25.16556007",
         "-38.33808813",
         "0.0",
         "0.0",
         "32653.87",
         null,
         "2025-05-25 19:02:00+00:00"
        ],
        [
         "4996",
         "36565",
         "$SEND",
         "$SEND",
         "send",
         "1",
         "2025-05-20 09:58:34+00:00",
         "['memes', 'solana-ecosystem']",
         "1e+17",
         "0.0",
         "1e+17",
         "False",
         "4997",
         "1e+17",
         "25667.7099566",
         null,
         "2025-05-25 19:03:00+00:00",
         "2.56677099566e-13",
         "13731.9166146",
         "35.9263",
         "3.61413044",
         "-36.75002398",
         "-96.18813804",
         "-96.18813804",
         "-96.18813804",
         "-96.18813804",
         "0.0",
         "0.0",
         "25667.71",
         null,
         "2025-05-25 19:03:00+00:00"
        ],
        [
         "4997",
         "35067",
         "BCGame Coin",
         "BC",
         "bcgame-coin",
         "2",
         "2025-01-07 06:53:23+00:00",
         "['solana-ecosystem']",
         null,
         "0.0",
         "10000000000.0",
         "False",
         "4998",
         "10000000000.0",
         "65169233.50546719",
         null,
         "2025-05-25 19:03:00+00:00",
         "0.0065169233505467",
         "13612.16993052",
         "19.9114",
         "0.24883981",
         "-5.46091199",
         "102.958377",
         "52.58996903",
         "74.53549526",
         "44.87252498",
         "0.0",
         "0.0",
         "65169233.51",
         null,
         "2025-05-25 19:03:00+00:00"
        ],
        [
         "4998",
         "24439",
         "Silver",
         "KAG",
         "silver",
         "20",
         "2023-04-18 14:22:39+00:00",
         "[]",
         null,
         "0.0",
         "100000000000.0",
         "False",
         "4999",
         "3784261.6828",
         "125654078.06545536",
         null,
         "2025-05-25 19:03:00+00:00",
         "33.20438399822368",
         "13604.38033238",
         "-91.2464",
         "0.02982629",
         "-0.67315546",
         "3.01114052",
         "-1.6203797",
         "-1.46750404",
         "2.18694959",
         "0.0",
         "0.0",
         "3320438399822.37",
         null,
         "2025-05-25 19:03:00+00:00"
        ],
        [
         "4999",
         "34891",
         "DORA AI by Virtuals",
         "DORA",
         "dora-ai-by-virtuals",
         "10",
         "2024-12-27 03:41:42+00:00",
         "['ai-big-data', 'base-ecosystem', 'ai-agents', 'virtuals-protocol-ecosystem']",
         "1000000000.0",
         "0.0",
         "1000000000.0",
         "False",
         "5000",
         "854419230.0",
         "1111995.0152983298",
         null,
         "2025-05-25 19:03:00+00:00",
         "0.0013014630011292",
         "13509.73794112",
         "-11.9783",
         "-2.60434455",
         "-16.91097304",
         "-34.55770664",
         "31.70880353",
         "67.97533218",
         "39.39681834",
         "0.0",
         "0.0",
         "1301463.0",
         null,
         "2025-05-25 19:03:00+00:00"
        ]
       ],
       "shape": {
        "columns": 30,
        "rows": 10
       }
      },
      "text/html": [
       "<div>\n",
       "<style scoped>\n",
       "    .dataframe tbody tr th:only-of-type {\n",
       "        vertical-align: middle;\n",
       "    }\n",
       "\n",
       "    .dataframe tbody tr th {\n",
       "        vertical-align: top;\n",
       "    }\n",
       "\n",
       "    .dataframe thead th {\n",
       "        text-align: right;\n",
       "    }\n",
       "</style>\n",
       "<table border=\"1\" class=\"dataframe\">\n",
       "  <thead>\n",
       "    <tr style=\"text-align: right;\">\n",
       "      <th></th>\n",
       "      <th>id</th>\n",
       "      <th>name</th>\n",
       "      <th>symbol</th>\n",
       "      <th>slug</th>\n",
       "      <th>num_market_pairs</th>\n",
       "      <th>date_added</th>\n",
       "      <th>tags</th>\n",
       "      <th>max_supply</th>\n",
       "      <th>circulating_supply</th>\n",
       "      <th>total_supply</th>\n",
       "      <th>...</th>\n",
       "      <th>percent_change_24h</th>\n",
       "      <th>percent_change_7d</th>\n",
       "      <th>percent_change_30d</th>\n",
       "      <th>percent_change_60d</th>\n",
       "      <th>percent_change_90d</th>\n",
       "      <th>market_cap</th>\n",
       "      <th>market_cap_dominance</th>\n",
       "      <th>fully_diluted_market_cap</th>\n",
       "      <th>tvl</th>\n",
       "      <th>last_updated.1</th>\n",
       "    </tr>\n",
       "  </thead>\n",
       "  <tbody>\n",
       "    <tr>\n",
       "      <th>4990</th>\n",
       "      <td>33623</td>\n",
       "      <td>Miners.Club</td>\n",
       "      <td>MBC</td>\n",
       "      <td>miners-club</td>\n",
       "      <td>2</td>\n",
       "      <td>2025-01-22 06:54:06+00:00</td>\n",
       "      <td>[bnb-chain-ecosystem]</td>\n",
       "      <td>3.000000e+08</td>\n",
       "      <td>0.0</td>\n",
       "      <td>3.000000e+08</td>\n",
       "      <td>...</td>\n",
       "      <td>2.147191</td>\n",
       "      <td>27.393841</td>\n",
       "      <td>11.660586</td>\n",
       "      <td>-38.038784</td>\n",
       "      <td>-10.514182</td>\n",
       "      <td>0.0</td>\n",
       "      <td>0.0</td>\n",
       "      <td>3.631629e+06</td>\n",
       "      <td>NaN</td>\n",
       "      <td>2025-05-25 19:03:00+00:00</td>\n",
       "    </tr>\n",
       "    <tr>\n",
       "      <th>4991</th>\n",
       "      <td>34963</td>\n",
       "      <td>Wrapped MistCoin</td>\n",
       "      <td>WMC</td>\n",
       "      <td>wrapped-mistcoin</td>\n",
       "      <td>6</td>\n",
       "      <td>2024-12-31 06:34:02+00:00</td>\n",
       "      <td>[ethereum-ecosystem, base-ecosystem]</td>\n",
       "      <td>NaN</td>\n",
       "      <td>0.0</td>\n",
       "      <td>5.446340e+05</td>\n",
       "      <td>...</td>\n",
       "      <td>-4.034579</td>\n",
       "      <td>-15.801615</td>\n",
       "      <td>7.236682</td>\n",
       "      <td>-7.172822</td>\n",
       "      <td>-12.723267</td>\n",
       "      <td>0.0</td>\n",
       "      <td>0.0</td>\n",
       "      <td>3.341647e+06</td>\n",
       "      <td>NaN</td>\n",
       "      <td>2025-05-25 19:03:00+00:00</td>\n",
       "    </tr>\n",
       "    <tr>\n",
       "      <th>4992</th>\n",
       "      <td>32527</td>\n",
       "      <td>Pepe of Solana</td>\n",
       "      <td>PEPE</td>\n",
       "      <td>pepe-of-solana</td>\n",
       "      <td>21</td>\n",
       "      <td>2024-08-02 04:45:36+00:00</td>\n",
       "      <td>[memes, solana-ecosystem]</td>\n",
       "      <td>1.000000e+09</td>\n",
       "      <td>0.0</td>\n",
       "      <td>1.000000e+09</td>\n",
       "      <td>...</td>\n",
       "      <td>-6.615497</td>\n",
       "      <td>-7.089224</td>\n",
       "      <td>50.167961</td>\n",
       "      <td>59.308522</td>\n",
       "      <td>50.340337</td>\n",
       "      <td>0.0</td>\n",
       "      <td>0.0</td>\n",
       "      <td>1.327408e+04</td>\n",
       "      <td>NaN</td>\n",
       "      <td>2025-05-25 19:02:00+00:00</td>\n",
       "    </tr>\n",
       "    <tr>\n",
       "      <th>4993</th>\n",
       "      <td>33612</td>\n",
       "      <td>BOYS</td>\n",
       "      <td>CLUB</td>\n",
       "      <td>boys</td>\n",
       "      <td>2</td>\n",
       "      <td>2024-10-24 09:40:03+00:00</td>\n",
       "      <td>[memes, solana-ecosystem]</td>\n",
       "      <td>1.000000e+11</td>\n",
       "      <td>0.0</td>\n",
       "      <td>1.000000e+11</td>\n",
       "      <td>...</td>\n",
       "      <td>-3.472403</td>\n",
       "      <td>-3.236548</td>\n",
       "      <td>-11.308486</td>\n",
       "      <td>-10.006481</td>\n",
       "      <td>-21.941143</td>\n",
       "      <td>0.0</td>\n",
       "      <td>0.0</td>\n",
       "      <td>6.540447e+06</td>\n",
       "      <td>NaN</td>\n",
       "      <td>2025-05-25 19:03:00+00:00</td>\n",
       "    </tr>\n",
       "    <tr>\n",
       "      <th>4994</th>\n",
       "      <td>27363</td>\n",
       "      <td>Sovryn Dollar</td>\n",
       "      <td>DLLR</td>\n",
       "      <td>sovryn-dollar</td>\n",
       "      <td>3</td>\n",
       "      <td>2023-09-06 13:28:41+00:00</td>\n",
       "      <td>[rsk-rbtc-ecosystem]</td>\n",
       "      <td>0.000000e+00</td>\n",
       "      <td>0.0</td>\n",
       "      <td>0.000000e+00</td>\n",
       "      <td>...</td>\n",
       "      <td>-0.901263</td>\n",
       "      <td>1.421889</td>\n",
       "      <td>0.270166</td>\n",
       "      <td>0.245198</td>\n",
       "      <td>1.405890</td>\n",
       "      <td>0.0</td>\n",
       "      <td>0.0</td>\n",
       "      <td>0.000000e+00</td>\n",
       "      <td>NaN</td>\n",
       "      <td>2025-05-25 19:02:00+00:00</td>\n",
       "    </tr>\n",
       "    <tr>\n",
       "      <th>4995</th>\n",
       "      <td>25712</td>\n",
       "      <td>AiAkita</td>\n",
       "      <td>AIAKITA</td>\n",
       "      <td>aiakita</td>\n",
       "      <td>3</td>\n",
       "      <td>2023-05-22 21:50:37+00:00</td>\n",
       "      <td>[arbitrum-ecosystem]</td>\n",
       "      <td>3.139079e+17</td>\n",
       "      <td>0.0</td>\n",
       "      <td>3.139079e+17</td>\n",
       "      <td>...</td>\n",
       "      <td>1.668990</td>\n",
       "      <td>-2.217800</td>\n",
       "      <td>-27.547658</td>\n",
       "      <td>-25.165560</td>\n",
       "      <td>-38.338088</td>\n",
       "      <td>0.0</td>\n",
       "      <td>0.0</td>\n",
       "      <td>3.265387e+04</td>\n",
       "      <td>NaN</td>\n",
       "      <td>2025-05-25 19:02:00+00:00</td>\n",
       "    </tr>\n",
       "    <tr>\n",
       "      <th>4996</th>\n",
       "      <td>36565</td>\n",
       "      <td>$SEND</td>\n",
       "      <td>$SEND</td>\n",
       "      <td>send</td>\n",
       "      <td>1</td>\n",
       "      <td>2025-05-20 09:58:34+00:00</td>\n",
       "      <td>[memes, solana-ecosystem]</td>\n",
       "      <td>1.000000e+17</td>\n",
       "      <td>0.0</td>\n",
       "      <td>1.000000e+17</td>\n",
       "      <td>...</td>\n",
       "      <td>-36.750024</td>\n",
       "      <td>-96.188138</td>\n",
       "      <td>-96.188138</td>\n",
       "      <td>-96.188138</td>\n",
       "      <td>-96.188138</td>\n",
       "      <td>0.0</td>\n",
       "      <td>0.0</td>\n",
       "      <td>2.566771e+04</td>\n",
       "      <td>NaN</td>\n",
       "      <td>2025-05-25 19:03:00+00:00</td>\n",
       "    </tr>\n",
       "    <tr>\n",
       "      <th>4997</th>\n",
       "      <td>35067</td>\n",
       "      <td>BCGame Coin</td>\n",
       "      <td>BC</td>\n",
       "      <td>bcgame-coin</td>\n",
       "      <td>2</td>\n",
       "      <td>2025-01-07 06:53:23+00:00</td>\n",
       "      <td>[solana-ecosystem]</td>\n",
       "      <td>NaN</td>\n",
       "      <td>0.0</td>\n",
       "      <td>1.000000e+10</td>\n",
       "      <td>...</td>\n",
       "      <td>-5.460912</td>\n",
       "      <td>102.958377</td>\n",
       "      <td>52.589969</td>\n",
       "      <td>74.535495</td>\n",
       "      <td>44.872525</td>\n",
       "      <td>0.0</td>\n",
       "      <td>0.0</td>\n",
       "      <td>6.516923e+07</td>\n",
       "      <td>NaN</td>\n",
       "      <td>2025-05-25 19:03:00+00:00</td>\n",
       "    </tr>\n",
       "    <tr>\n",
       "      <th>4998</th>\n",
       "      <td>24439</td>\n",
       "      <td>Silver</td>\n",
       "      <td>KAG</td>\n",
       "      <td>silver</td>\n",
       "      <td>20</td>\n",
       "      <td>2023-04-18 14:22:39+00:00</td>\n",
       "      <td>[]</td>\n",
       "      <td>NaN</td>\n",
       "      <td>0.0</td>\n",
       "      <td>1.000000e+11</td>\n",
       "      <td>...</td>\n",
       "      <td>-0.673155</td>\n",
       "      <td>3.011141</td>\n",
       "      <td>-1.620380</td>\n",
       "      <td>-1.467504</td>\n",
       "      <td>2.186950</td>\n",
       "      <td>0.0</td>\n",
       "      <td>0.0</td>\n",
       "      <td>3.320438e+12</td>\n",
       "      <td>NaN</td>\n",
       "      <td>2025-05-25 19:03:00+00:00</td>\n",
       "    </tr>\n",
       "    <tr>\n",
       "      <th>4999</th>\n",
       "      <td>34891</td>\n",
       "      <td>DORA AI by Virtuals</td>\n",
       "      <td>DORA</td>\n",
       "      <td>dora-ai-by-virtuals</td>\n",
       "      <td>10</td>\n",
       "      <td>2024-12-27 03:41:42+00:00</td>\n",
       "      <td>[ai-big-data, base-ecosystem, ai-agents, virtu...</td>\n",
       "      <td>1.000000e+09</td>\n",
       "      <td>0.0</td>\n",
       "      <td>1.000000e+09</td>\n",
       "      <td>...</td>\n",
       "      <td>-16.910973</td>\n",
       "      <td>-34.557707</td>\n",
       "      <td>31.708804</td>\n",
       "      <td>67.975332</td>\n",
       "      <td>39.396818</td>\n",
       "      <td>0.0</td>\n",
       "      <td>0.0</td>\n",
       "      <td>1.301463e+06</td>\n",
       "      <td>NaN</td>\n",
       "      <td>2025-05-25 19:03:00+00:00</td>\n",
       "    </tr>\n",
       "  </tbody>\n",
       "</table>\n",
       "<p>10 rows × 30 columns</p>\n",
       "</div>"
      ],
      "text/plain": [
       "         id                 name   symbol                 slug  \\\n",
       "4990  33623          Miners.Club      MBC          miners-club   \n",
       "4991  34963     Wrapped MistCoin      WMC     wrapped-mistcoin   \n",
       "4992  32527       Pepe of Solana     PEPE       pepe-of-solana   \n",
       "4993  33612                 BOYS     CLUB                 boys   \n",
       "4994  27363        Sovryn Dollar     DLLR        sovryn-dollar   \n",
       "4995  25712              AiAkita  AIAKITA              aiakita   \n",
       "4996  36565                $SEND    $SEND                 send   \n",
       "4997  35067          BCGame Coin       BC          bcgame-coin   \n",
       "4998  24439               Silver      KAG               silver   \n",
       "4999  34891  DORA AI by Virtuals     DORA  dora-ai-by-virtuals   \n",
       "\n",
       "      num_market_pairs                date_added  \\\n",
       "4990                 2 2025-01-22 06:54:06+00:00   \n",
       "4991                 6 2024-12-31 06:34:02+00:00   \n",
       "4992                21 2024-08-02 04:45:36+00:00   \n",
       "4993                 2 2024-10-24 09:40:03+00:00   \n",
       "4994                 3 2023-09-06 13:28:41+00:00   \n",
       "4995                 3 2023-05-22 21:50:37+00:00   \n",
       "4996                 1 2025-05-20 09:58:34+00:00   \n",
       "4997                 2 2025-01-07 06:53:23+00:00   \n",
       "4998                20 2023-04-18 14:22:39+00:00   \n",
       "4999                10 2024-12-27 03:41:42+00:00   \n",
       "\n",
       "                                                   tags    max_supply  \\\n",
       "4990                              [bnb-chain-ecosystem]  3.000000e+08   \n",
       "4991               [ethereum-ecosystem, base-ecosystem]           NaN   \n",
       "4992                          [memes, solana-ecosystem]  1.000000e+09   \n",
       "4993                          [memes, solana-ecosystem]  1.000000e+11   \n",
       "4994                               [rsk-rbtc-ecosystem]  0.000000e+00   \n",
       "4995                               [arbitrum-ecosystem]  3.139079e+17   \n",
       "4996                          [memes, solana-ecosystem]  1.000000e+17   \n",
       "4997                                 [solana-ecosystem]           NaN   \n",
       "4998                                                 []           NaN   \n",
       "4999  [ai-big-data, base-ecosystem, ai-agents, virtu...  1.000000e+09   \n",
       "\n",
       "      circulating_supply  total_supply  ...  percent_change_24h  \\\n",
       "4990                 0.0  3.000000e+08  ...            2.147191   \n",
       "4991                 0.0  5.446340e+05  ...           -4.034579   \n",
       "4992                 0.0  1.000000e+09  ...           -6.615497   \n",
       "4993                 0.0  1.000000e+11  ...           -3.472403   \n",
       "4994                 0.0  0.000000e+00  ...           -0.901263   \n",
       "4995                 0.0  3.139079e+17  ...            1.668990   \n",
       "4996                 0.0  1.000000e+17  ...          -36.750024   \n",
       "4997                 0.0  1.000000e+10  ...           -5.460912   \n",
       "4998                 0.0  1.000000e+11  ...           -0.673155   \n",
       "4999                 0.0  1.000000e+09  ...          -16.910973   \n",
       "\n",
       "      percent_change_7d  percent_change_30d  percent_change_60d  \\\n",
       "4990          27.393841           11.660586          -38.038784   \n",
       "4991         -15.801615            7.236682           -7.172822   \n",
       "4992          -7.089224           50.167961           59.308522   \n",
       "4993          -3.236548          -11.308486          -10.006481   \n",
       "4994           1.421889            0.270166            0.245198   \n",
       "4995          -2.217800          -27.547658          -25.165560   \n",
       "4996         -96.188138          -96.188138          -96.188138   \n",
       "4997         102.958377           52.589969           74.535495   \n",
       "4998           3.011141           -1.620380           -1.467504   \n",
       "4999         -34.557707           31.708804           67.975332   \n",
       "\n",
       "      percent_change_90d market_cap  market_cap_dominance  \\\n",
       "4990          -10.514182        0.0                   0.0   \n",
       "4991          -12.723267        0.0                   0.0   \n",
       "4992           50.340337        0.0                   0.0   \n",
       "4993          -21.941143        0.0                   0.0   \n",
       "4994            1.405890        0.0                   0.0   \n",
       "4995          -38.338088        0.0                   0.0   \n",
       "4996          -96.188138        0.0                   0.0   \n",
       "4997           44.872525        0.0                   0.0   \n",
       "4998            2.186950        0.0                   0.0   \n",
       "4999           39.396818        0.0                   0.0   \n",
       "\n",
       "      fully_diluted_market_cap  tvl            last_updated.1  \n",
       "4990              3.631629e+06  NaN 2025-05-25 19:03:00+00:00  \n",
       "4991              3.341647e+06  NaN 2025-05-25 19:03:00+00:00  \n",
       "4992              1.327408e+04  NaN 2025-05-25 19:02:00+00:00  \n",
       "4993              6.540447e+06  NaN 2025-05-25 19:03:00+00:00  \n",
       "4994              0.000000e+00  NaN 2025-05-25 19:02:00+00:00  \n",
       "4995              3.265387e+04  NaN 2025-05-25 19:02:00+00:00  \n",
       "4996              2.566771e+04  NaN 2025-05-25 19:03:00+00:00  \n",
       "4997              6.516923e+07  NaN 2025-05-25 19:03:00+00:00  \n",
       "4998              3.320438e+12  NaN 2025-05-25 19:03:00+00:00  \n",
       "4999              1.301463e+06  NaN 2025-05-25 19:03:00+00:00  \n",
       "\n",
       "[10 rows x 30 columns]"
      ]
     },
     "execution_count": 18,
     "metadata": {},
     "output_type": "execute_result"
    }
   ],
   "source": [
    "bottom_10_df = listings_df.tail(10)\n",
    "bottom_10_df"
   ]
  },
  {
   "cell_type": "code",
   "execution_count": 19,
   "id": "beb0bffd",
   "metadata": {},
   "outputs": [
    {
     "data": {
      "application/vnd.microsoft.datawrangler.viewer.v0+json": {
       "columns": [
        {
         "name": "index",
         "rawType": "int64",
         "type": "integer"
        },
        {
         "name": "name",
         "rawType": "object",
         "type": "string"
        },
        {
         "name": "price",
         "rawType": "float64",
         "type": "float"
        }
       ],
       "ref": "4c682708-0aba-451c-8ae5-7644438becc9",
       "rows": [
        [
         "0",
         "Bitcoin",
         "107465.29983623025"
        ],
        [
         "1",
         "Ethereum",
         "2516.836597440719"
        ],
        [
         "4",
         "BNB",
         "665.3770273362973"
        ],
        [
         "5",
         "Solana",
         "171.7325280660603"
        ],
        [
         "3",
         "XRP",
         "2.3035726478165404"
        ],
        [
         "2",
         "Tether USDt",
         "1.000317604870807"
        ],
        [
         "6",
         "USDC",
         "0.9998611492269636"
        ],
        [
         "8",
         "Cardano",
         "0.7467578562468912"
        ],
        [
         "9",
         "TRON",
         "0.2711796000429752"
        ],
        [
         "7",
         "Dogecoin",
         "0.2194167606028945"
        ]
       ],
       "shape": {
        "columns": 2,
        "rows": 10
       }
      },
      "text/html": [
       "<div>\n",
       "<style scoped>\n",
       "    .dataframe tbody tr th:only-of-type {\n",
       "        vertical-align: middle;\n",
       "    }\n",
       "\n",
       "    .dataframe tbody tr th {\n",
       "        vertical-align: top;\n",
       "    }\n",
       "\n",
       "    .dataframe thead th {\n",
       "        text-align: right;\n",
       "    }\n",
       "</style>\n",
       "<table border=\"1\" class=\"dataframe\">\n",
       "  <thead>\n",
       "    <tr style=\"text-align: right;\">\n",
       "      <th></th>\n",
       "      <th>name</th>\n",
       "      <th>price</th>\n",
       "    </tr>\n",
       "  </thead>\n",
       "  <tbody>\n",
       "    <tr>\n",
       "      <th>0</th>\n",
       "      <td>Bitcoin</td>\n",
       "      <td>107465.299836</td>\n",
       "    </tr>\n",
       "    <tr>\n",
       "      <th>1</th>\n",
       "      <td>Ethereum</td>\n",
       "      <td>2516.836597</td>\n",
       "    </tr>\n",
       "    <tr>\n",
       "      <th>4</th>\n",
       "      <td>BNB</td>\n",
       "      <td>665.377027</td>\n",
       "    </tr>\n",
       "    <tr>\n",
       "      <th>5</th>\n",
       "      <td>Solana</td>\n",
       "      <td>171.732528</td>\n",
       "    </tr>\n",
       "    <tr>\n",
       "      <th>3</th>\n",
       "      <td>XRP</td>\n",
       "      <td>2.303573</td>\n",
       "    </tr>\n",
       "    <tr>\n",
       "      <th>2</th>\n",
       "      <td>Tether USDt</td>\n",
       "      <td>1.000318</td>\n",
       "    </tr>\n",
       "    <tr>\n",
       "      <th>6</th>\n",
       "      <td>USDC</td>\n",
       "      <td>0.999861</td>\n",
       "    </tr>\n",
       "    <tr>\n",
       "      <th>8</th>\n",
       "      <td>Cardano</td>\n",
       "      <td>0.746758</td>\n",
       "    </tr>\n",
       "    <tr>\n",
       "      <th>9</th>\n",
       "      <td>TRON</td>\n",
       "      <td>0.271180</td>\n",
       "    </tr>\n",
       "    <tr>\n",
       "      <th>7</th>\n",
       "      <td>Dogecoin</td>\n",
       "      <td>0.219417</td>\n",
       "    </tr>\n",
       "  </tbody>\n",
       "</table>\n",
       "</div>"
      ],
      "text/plain": [
       "          name          price\n",
       "0      Bitcoin  107465.299836\n",
       "1     Ethereum    2516.836597\n",
       "4          BNB     665.377027\n",
       "5       Solana     171.732528\n",
       "3          XRP       2.303573\n",
       "2  Tether USDt       1.000318\n",
       "6         USDC       0.999861\n",
       "8      Cardano       0.746758\n",
       "9         TRON       0.271180\n",
       "7     Dogecoin       0.219417"
      ]
     },
     "execution_count": 19,
     "metadata": {},
     "output_type": "execute_result"
    }
   ],
   "source": [
    "top_10_price = top_10_df[['name','price']]\n",
    "top_10_price = top_10_price.sort_values(by='price', ascending=False)\n",
    "top_10_price"
   ]
  },
  {
   "cell_type": "code",
   "execution_count": 20,
   "id": "c2b8e0a2",
   "metadata": {},
   "outputs": [
    {
     "data": {
      "application/vnd.plotly.v1+json": {
       "config": {
        "plotlyServerURL": "https://plot.ly"
       },
       "data": [
        {
         "alignmentgroup": "True",
         "hovertemplate": "Cryptocurrency=%{x}<br>Price (USD)=%{text}<extra></extra>",
         "legendgroup": "",
         "marker": {
          "color": "#636efa",
          "pattern": {
           "shape": ""
          }
         },
         "name": "",
         "offsetgroup": "",
         "orientation": "v",
         "showlegend": false,
         "text": [
          107465.29983623025,
          2516.836597440719,
          665.3770273362973,
          171.7325280660603,
          2.3035726478165404,
          1.000317604870807,
          0.9998611492269636,
          0.7467578562468912,
          0.2711796000429752,
          0.2194167606028945
         ],
         "textposition": "outside",
         "texttemplate": "%{text:.2f}",
         "type": "bar",
         "x": [
          "Bitcoin",
          "Ethereum",
          "BNB",
          "Solana",
          "XRP",
          "Tether USDt",
          "USDC",
          "Cardano",
          "TRON",
          "Dogecoin"
         ],
         "xaxis": "x",
         "y": [
          107465.29983623025,
          2516.836597440719,
          665.3770273362973,
          171.7325280660603,
          2.3035726478165404,
          1.000317604870807,
          0.9998611492269636,
          0.7467578562468912,
          0.2711796000429752,
          0.2194167606028945
         ],
         "yaxis": "y"
        }
       ],
       "layout": {
        "barmode": "relative",
        "height": 600,
        "legend": {
         "tracegroupgap": 0
        },
        "template": {
         "data": {
          "bar": [
           {
            "error_x": {
             "color": "#2a3f5f"
            },
            "error_y": {
             "color": "#2a3f5f"
            },
            "marker": {
             "line": {
              "color": "#E5ECF6",
              "width": 0.5
             },
             "pattern": {
              "fillmode": "overlay",
              "size": 10,
              "solidity": 0.2
             }
            },
            "type": "bar"
           }
          ],
          "barpolar": [
           {
            "marker": {
             "line": {
              "color": "#E5ECF6",
              "width": 0.5
             },
             "pattern": {
              "fillmode": "overlay",
              "size": 10,
              "solidity": 0.2
             }
            },
            "type": "barpolar"
           }
          ],
          "carpet": [
           {
            "aaxis": {
             "endlinecolor": "#2a3f5f",
             "gridcolor": "white",
             "linecolor": "white",
             "minorgridcolor": "white",
             "startlinecolor": "#2a3f5f"
            },
            "baxis": {
             "endlinecolor": "#2a3f5f",
             "gridcolor": "white",
             "linecolor": "white",
             "minorgridcolor": "white",
             "startlinecolor": "#2a3f5f"
            },
            "type": "carpet"
           }
          ],
          "choropleth": [
           {
            "colorbar": {
             "outlinewidth": 0,
             "ticks": ""
            },
            "type": "choropleth"
           }
          ],
          "contour": [
           {
            "colorbar": {
             "outlinewidth": 0,
             "ticks": ""
            },
            "colorscale": [
             [
              0,
              "#0d0887"
             ],
             [
              0.1111111111111111,
              "#46039f"
             ],
             [
              0.2222222222222222,
              "#7201a8"
             ],
             [
              0.3333333333333333,
              "#9c179e"
             ],
             [
              0.4444444444444444,
              "#bd3786"
             ],
             [
              0.5555555555555556,
              "#d8576b"
             ],
             [
              0.6666666666666666,
              "#ed7953"
             ],
             [
              0.7777777777777778,
              "#fb9f3a"
             ],
             [
              0.8888888888888888,
              "#fdca26"
             ],
             [
              1,
              "#f0f921"
             ]
            ],
            "type": "contour"
           }
          ],
          "contourcarpet": [
           {
            "colorbar": {
             "outlinewidth": 0,
             "ticks": ""
            },
            "type": "contourcarpet"
           }
          ],
          "heatmap": [
           {
            "colorbar": {
             "outlinewidth": 0,
             "ticks": ""
            },
            "colorscale": [
             [
              0,
              "#0d0887"
             ],
             [
              0.1111111111111111,
              "#46039f"
             ],
             [
              0.2222222222222222,
              "#7201a8"
             ],
             [
              0.3333333333333333,
              "#9c179e"
             ],
             [
              0.4444444444444444,
              "#bd3786"
             ],
             [
              0.5555555555555556,
              "#d8576b"
             ],
             [
              0.6666666666666666,
              "#ed7953"
             ],
             [
              0.7777777777777778,
              "#fb9f3a"
             ],
             [
              0.8888888888888888,
              "#fdca26"
             ],
             [
              1,
              "#f0f921"
             ]
            ],
            "type": "heatmap"
           }
          ],
          "heatmapgl": [
           {
            "colorbar": {
             "outlinewidth": 0,
             "ticks": ""
            },
            "colorscale": [
             [
              0,
              "#0d0887"
             ],
             [
              0.1111111111111111,
              "#46039f"
             ],
             [
              0.2222222222222222,
              "#7201a8"
             ],
             [
              0.3333333333333333,
              "#9c179e"
             ],
             [
              0.4444444444444444,
              "#bd3786"
             ],
             [
              0.5555555555555556,
              "#d8576b"
             ],
             [
              0.6666666666666666,
              "#ed7953"
             ],
             [
              0.7777777777777778,
              "#fb9f3a"
             ],
             [
              0.8888888888888888,
              "#fdca26"
             ],
             [
              1,
              "#f0f921"
             ]
            ],
            "type": "heatmapgl"
           }
          ],
          "histogram": [
           {
            "marker": {
             "pattern": {
              "fillmode": "overlay",
              "size": 10,
              "solidity": 0.2
             }
            },
            "type": "histogram"
           }
          ],
          "histogram2d": [
           {
            "colorbar": {
             "outlinewidth": 0,
             "ticks": ""
            },
            "colorscale": [
             [
              0,
              "#0d0887"
             ],
             [
              0.1111111111111111,
              "#46039f"
             ],
             [
              0.2222222222222222,
              "#7201a8"
             ],
             [
              0.3333333333333333,
              "#9c179e"
             ],
             [
              0.4444444444444444,
              "#bd3786"
             ],
             [
              0.5555555555555556,
              "#d8576b"
             ],
             [
              0.6666666666666666,
              "#ed7953"
             ],
             [
              0.7777777777777778,
              "#fb9f3a"
             ],
             [
              0.8888888888888888,
              "#fdca26"
             ],
             [
              1,
              "#f0f921"
             ]
            ],
            "type": "histogram2d"
           }
          ],
          "histogram2dcontour": [
           {
            "colorbar": {
             "outlinewidth": 0,
             "ticks": ""
            },
            "colorscale": [
             [
              0,
              "#0d0887"
             ],
             [
              0.1111111111111111,
              "#46039f"
             ],
             [
              0.2222222222222222,
              "#7201a8"
             ],
             [
              0.3333333333333333,
              "#9c179e"
             ],
             [
              0.4444444444444444,
              "#bd3786"
             ],
             [
              0.5555555555555556,
              "#d8576b"
             ],
             [
              0.6666666666666666,
              "#ed7953"
             ],
             [
              0.7777777777777778,
              "#fb9f3a"
             ],
             [
              0.8888888888888888,
              "#fdca26"
             ],
             [
              1,
              "#f0f921"
             ]
            ],
            "type": "histogram2dcontour"
           }
          ],
          "mesh3d": [
           {
            "colorbar": {
             "outlinewidth": 0,
             "ticks": ""
            },
            "type": "mesh3d"
           }
          ],
          "parcoords": [
           {
            "line": {
             "colorbar": {
              "outlinewidth": 0,
              "ticks": ""
             }
            },
            "type": "parcoords"
           }
          ],
          "pie": [
           {
            "automargin": true,
            "type": "pie"
           }
          ],
          "scatter": [
           {
            "fillpattern": {
             "fillmode": "overlay",
             "size": 10,
             "solidity": 0.2
            },
            "type": "scatter"
           }
          ],
          "scatter3d": [
           {
            "line": {
             "colorbar": {
              "outlinewidth": 0,
              "ticks": ""
             }
            },
            "marker": {
             "colorbar": {
              "outlinewidth": 0,
              "ticks": ""
             }
            },
            "type": "scatter3d"
           }
          ],
          "scattercarpet": [
           {
            "marker": {
             "colorbar": {
              "outlinewidth": 0,
              "ticks": ""
             }
            },
            "type": "scattercarpet"
           }
          ],
          "scattergeo": [
           {
            "marker": {
             "colorbar": {
              "outlinewidth": 0,
              "ticks": ""
             }
            },
            "type": "scattergeo"
           }
          ],
          "scattergl": [
           {
            "marker": {
             "colorbar": {
              "outlinewidth": 0,
              "ticks": ""
             }
            },
            "type": "scattergl"
           }
          ],
          "scattermapbox": [
           {
            "marker": {
             "colorbar": {
              "outlinewidth": 0,
              "ticks": ""
             }
            },
            "type": "scattermapbox"
           }
          ],
          "scatterpolar": [
           {
            "marker": {
             "colorbar": {
              "outlinewidth": 0,
              "ticks": ""
             }
            },
            "type": "scatterpolar"
           }
          ],
          "scatterpolargl": [
           {
            "marker": {
             "colorbar": {
              "outlinewidth": 0,
              "ticks": ""
             }
            },
            "type": "scatterpolargl"
           }
          ],
          "scatterternary": [
           {
            "marker": {
             "colorbar": {
              "outlinewidth": 0,
              "ticks": ""
             }
            },
            "type": "scatterternary"
           }
          ],
          "surface": [
           {
            "colorbar": {
             "outlinewidth": 0,
             "ticks": ""
            },
            "colorscale": [
             [
              0,
              "#0d0887"
             ],
             [
              0.1111111111111111,
              "#46039f"
             ],
             [
              0.2222222222222222,
              "#7201a8"
             ],
             [
              0.3333333333333333,
              "#9c179e"
             ],
             [
              0.4444444444444444,
              "#bd3786"
             ],
             [
              0.5555555555555556,
              "#d8576b"
             ],
             [
              0.6666666666666666,
              "#ed7953"
             ],
             [
              0.7777777777777778,
              "#fb9f3a"
             ],
             [
              0.8888888888888888,
              "#fdca26"
             ],
             [
              1,
              "#f0f921"
             ]
            ],
            "type": "surface"
           }
          ],
          "table": [
           {
            "cells": {
             "fill": {
              "color": "#EBF0F8"
             },
             "line": {
              "color": "white"
             }
            },
            "header": {
             "fill": {
              "color": "#C8D4E3"
             },
             "line": {
              "color": "white"
             }
            },
            "type": "table"
           }
          ]
         },
         "layout": {
          "annotationdefaults": {
           "arrowcolor": "#2a3f5f",
           "arrowhead": 0,
           "arrowwidth": 1
          },
          "autotypenumbers": "strict",
          "coloraxis": {
           "colorbar": {
            "outlinewidth": 0,
            "ticks": ""
           }
          },
          "colorscale": {
           "diverging": [
            [
             0,
             "#8e0152"
            ],
            [
             0.1,
             "#c51b7d"
            ],
            [
             0.2,
             "#de77ae"
            ],
            [
             0.3,
             "#f1b6da"
            ],
            [
             0.4,
             "#fde0ef"
            ],
            [
             0.5,
             "#f7f7f7"
            ],
            [
             0.6,
             "#e6f5d0"
            ],
            [
             0.7,
             "#b8e186"
            ],
            [
             0.8,
             "#7fbc41"
            ],
            [
             0.9,
             "#4d9221"
            ],
            [
             1,
             "#276419"
            ]
           ],
           "sequential": [
            [
             0,
             "#0d0887"
            ],
            [
             0.1111111111111111,
             "#46039f"
            ],
            [
             0.2222222222222222,
             "#7201a8"
            ],
            [
             0.3333333333333333,
             "#9c179e"
            ],
            [
             0.4444444444444444,
             "#bd3786"
            ],
            [
             0.5555555555555556,
             "#d8576b"
            ],
            [
             0.6666666666666666,
             "#ed7953"
            ],
            [
             0.7777777777777778,
             "#fb9f3a"
            ],
            [
             0.8888888888888888,
             "#fdca26"
            ],
            [
             1,
             "#f0f921"
            ]
           ],
           "sequentialminus": [
            [
             0,
             "#0d0887"
            ],
            [
             0.1111111111111111,
             "#46039f"
            ],
            [
             0.2222222222222222,
             "#7201a8"
            ],
            [
             0.3333333333333333,
             "#9c179e"
            ],
            [
             0.4444444444444444,
             "#bd3786"
            ],
            [
             0.5555555555555556,
             "#d8576b"
            ],
            [
             0.6666666666666666,
             "#ed7953"
            ],
            [
             0.7777777777777778,
             "#fb9f3a"
            ],
            [
             0.8888888888888888,
             "#fdca26"
            ],
            [
             1,
             "#f0f921"
            ]
           ]
          },
          "colorway": [
           "#636efa",
           "#EF553B",
           "#00cc96",
           "#ab63fa",
           "#FFA15A",
           "#19d3f3",
           "#FF6692",
           "#B6E880",
           "#FF97FF",
           "#FECB52"
          ],
          "font": {
           "color": "#2a3f5f"
          },
          "geo": {
           "bgcolor": "white",
           "lakecolor": "white",
           "landcolor": "#E5ECF6",
           "showlakes": true,
           "showland": true,
           "subunitcolor": "white"
          },
          "hoverlabel": {
           "align": "left"
          },
          "hovermode": "closest",
          "mapbox": {
           "style": "light"
          },
          "paper_bgcolor": "white",
          "plot_bgcolor": "#E5ECF6",
          "polar": {
           "angularaxis": {
            "gridcolor": "white",
            "linecolor": "white",
            "ticks": ""
           },
           "bgcolor": "#E5ECF6",
           "radialaxis": {
            "gridcolor": "white",
            "linecolor": "white",
            "ticks": ""
           }
          },
          "scene": {
           "xaxis": {
            "backgroundcolor": "#E5ECF6",
            "gridcolor": "white",
            "gridwidth": 2,
            "linecolor": "white",
            "showbackground": true,
            "ticks": "",
            "zerolinecolor": "white"
           },
           "yaxis": {
            "backgroundcolor": "#E5ECF6",
            "gridcolor": "white",
            "gridwidth": 2,
            "linecolor": "white",
            "showbackground": true,
            "ticks": "",
            "zerolinecolor": "white"
           },
           "zaxis": {
            "backgroundcolor": "#E5ECF6",
            "gridcolor": "white",
            "gridwidth": 2,
            "linecolor": "white",
            "showbackground": true,
            "ticks": "",
            "zerolinecolor": "white"
           }
          },
          "shapedefaults": {
           "line": {
            "color": "#2a3f5f"
           }
          },
          "ternary": {
           "aaxis": {
            "gridcolor": "white",
            "linecolor": "white",
            "ticks": ""
           },
           "baxis": {
            "gridcolor": "white",
            "linecolor": "white",
            "ticks": ""
           },
           "bgcolor": "#E5ECF6",
           "caxis": {
            "gridcolor": "white",
            "linecolor": "white",
            "ticks": ""
           }
          },
          "title": {
           "x": 0.05
          },
          "xaxis": {
           "automargin": true,
           "gridcolor": "white",
           "linecolor": "white",
           "ticks": "",
           "title": {
            "standoff": 15
           },
           "zerolinecolor": "white",
           "zerolinewidth": 2
          },
          "yaxis": {
           "automargin": true,
           "gridcolor": "white",
           "linecolor": "white",
           "ticks": "",
           "title": {
            "standoff": 15
           },
           "zerolinecolor": "white",
           "zerolinewidth": 2
          }
         }
        },
        "title": {
         "text": "Top 10 Most Valuable Cryptocurrencies"
        },
        "xaxis": {
         "anchor": "y",
         "domain": [
          0,
          1
         ],
         "title": {
          "text": "Cryptocurrency"
         }
        },
        "yaxis": {
         "anchor": "x",
         "domain": [
          0,
          1
         ],
         "title": {
          "text": "Price (USD)"
         },
         "type": "log"
        }
       }
      }
     },
     "metadata": {},
     "output_type": "display_data"
    }
   ],
   "source": [
    "fig = px.bar(top_10_price, \n",
    "             x='name',\n",
    "             y='price',\n",
    "             title='Top 10 Most Valuable Cryptocurrencies', \n",
    "             text='price',\n",
    "             labels={'name': 'Cryptocurrency', \n",
    "                       'price': 'Price (USD)'},\n",
    "             log_y=True\n",
    "             )\n",
    "\n",
    "fig.update_layout(\n",
    "    height = 600,\n",
    ")\n",
    "\n",
    "fig.update_traces(texttemplate='%{text:.2f}', textposition='outside')\n",
    "\n",
    "fig.show()"
   ]
  },
  {
   "cell_type": "code",
   "execution_count": 21,
   "id": "17ffff91",
   "metadata": {},
   "outputs": [
    {
     "data": {
      "application/vnd.microsoft.datawrangler.viewer.v0+json": {
       "columns": [
        {
         "name": "index",
         "rawType": "int64",
         "type": "integer"
        },
        {
         "name": "name",
         "rawType": "object",
         "type": "string"
        },
        {
         "name": "volume_24h",
         "rawType": "float64",
         "type": "float"
        },
        {
         "name": "symbol",
         "rawType": "object",
         "type": "string"
        },
        {
         "name": "market_cap",
         "rawType": "float64",
         "type": "float"
        },
        {
         "name": "percent_change_24h",
         "rawType": "float64",
         "type": "float"
        },
        {
         "name": "price",
         "rawType": "float64",
         "type": "float"
        }
       ],
       "ref": "3bb0c7fd-05c3-46e3-83d1-3ce4902eabd1",
       "rows": [
        [
         "0",
         "Tether USDt",
         "63506041478.09058",
         "USDT",
         "152781463488.4016",
         "0.01688786",
         "1.000317604870807"
        ],
        [
         "1",
         "Bitcoin",
         "47238628334.36895",
         "BTC",
         "2135313584824.728",
         "-1.3471241",
         "107465.29983623025"
        ],
        [
         "2",
         "Dai",
         "18924869917.09425",
         "DAI",
         "5364525499.140267",
         "-0.0046169",
         "0.9998402344115772"
        ],
        [
         "3",
         "Ethereum",
         "13920316017.671837",
         "ETH",
         "303847524823.11066",
         "-1.4142518",
         "2516.836597440719"
        ],
        [
         "4",
         "USDC",
         "8409247488.849723",
         "USDC",
         "61707064464.52021",
         "0.00190848",
         "0.9998611492269636"
        ],
        [
         "5",
         "Polyhedra Network",
         "4149005603.67261",
         "ZKJ",
         "595466291.3806044",
         "0.15088782",
         "2.033271981204102"
        ],
        [
         "6",
         "First Digital USD",
         "3729939913.350295",
         "FDUSD",
         "1643961023.0147848",
         "-0.02928864",
         "0.9985994614143558"
        ],
        [
         "7",
         "Solana",
         "3197686997.444094",
         "SOL",
         "89349628755.41939",
         "-2.95438088",
         "171.7325280660603"
        ],
        [
         "8",
         "XRP",
         "1928875090.2928867",
         "XRP",
         "135187481207.41324",
         "-1.84994509",
         "2.3035726478165404"
        ],
        [
         "9",
         "BNB",
         "1565766508.092338",
         "BNB",
         "93743716835.77203",
         "-1.48472887",
         "665.3770273362973"
        ]
       ],
       "shape": {
        "columns": 6,
        "rows": 10
       }
      },
      "text/html": [
       "<div>\n",
       "<style scoped>\n",
       "    .dataframe tbody tr th:only-of-type {\n",
       "        vertical-align: middle;\n",
       "    }\n",
       "\n",
       "    .dataframe tbody tr th {\n",
       "        vertical-align: top;\n",
       "    }\n",
       "\n",
       "    .dataframe thead th {\n",
       "        text-align: right;\n",
       "    }\n",
       "</style>\n",
       "<table border=\"1\" class=\"dataframe\">\n",
       "  <thead>\n",
       "    <tr style=\"text-align: right;\">\n",
       "      <th></th>\n",
       "      <th>name</th>\n",
       "      <th>volume_24h</th>\n",
       "      <th>symbol</th>\n",
       "      <th>market_cap</th>\n",
       "      <th>percent_change_24h</th>\n",
       "      <th>price</th>\n",
       "    </tr>\n",
       "  </thead>\n",
       "  <tbody>\n",
       "    <tr>\n",
       "      <th>0</th>\n",
       "      <td>Tether USDt</td>\n",
       "      <td>6.350604e+10</td>\n",
       "      <td>USDT</td>\n",
       "      <td>1.527815e+11</td>\n",
       "      <td>0.016888</td>\n",
       "      <td>1.000318</td>\n",
       "    </tr>\n",
       "    <tr>\n",
       "      <th>1</th>\n",
       "      <td>Bitcoin</td>\n",
       "      <td>4.723863e+10</td>\n",
       "      <td>BTC</td>\n",
       "      <td>2.135314e+12</td>\n",
       "      <td>-1.347124</td>\n",
       "      <td>107465.299836</td>\n",
       "    </tr>\n",
       "    <tr>\n",
       "      <th>2</th>\n",
       "      <td>Dai</td>\n",
       "      <td>1.892487e+10</td>\n",
       "      <td>DAI</td>\n",
       "      <td>5.364525e+09</td>\n",
       "      <td>-0.004617</td>\n",
       "      <td>0.999840</td>\n",
       "    </tr>\n",
       "    <tr>\n",
       "      <th>3</th>\n",
       "      <td>Ethereum</td>\n",
       "      <td>1.392032e+10</td>\n",
       "      <td>ETH</td>\n",
       "      <td>3.038475e+11</td>\n",
       "      <td>-1.414252</td>\n",
       "      <td>2516.836597</td>\n",
       "    </tr>\n",
       "    <tr>\n",
       "      <th>4</th>\n",
       "      <td>USDC</td>\n",
       "      <td>8.409247e+09</td>\n",
       "      <td>USDC</td>\n",
       "      <td>6.170706e+10</td>\n",
       "      <td>0.001908</td>\n",
       "      <td>0.999861</td>\n",
       "    </tr>\n",
       "    <tr>\n",
       "      <th>5</th>\n",
       "      <td>Polyhedra Network</td>\n",
       "      <td>4.149006e+09</td>\n",
       "      <td>ZKJ</td>\n",
       "      <td>5.954663e+08</td>\n",
       "      <td>0.150888</td>\n",
       "      <td>2.033272</td>\n",
       "    </tr>\n",
       "    <tr>\n",
       "      <th>6</th>\n",
       "      <td>First Digital USD</td>\n",
       "      <td>3.729940e+09</td>\n",
       "      <td>FDUSD</td>\n",
       "      <td>1.643961e+09</td>\n",
       "      <td>-0.029289</td>\n",
       "      <td>0.998599</td>\n",
       "    </tr>\n",
       "    <tr>\n",
       "      <th>7</th>\n",
       "      <td>Solana</td>\n",
       "      <td>3.197687e+09</td>\n",
       "      <td>SOL</td>\n",
       "      <td>8.934963e+10</td>\n",
       "      <td>-2.954381</td>\n",
       "      <td>171.732528</td>\n",
       "    </tr>\n",
       "    <tr>\n",
       "      <th>8</th>\n",
       "      <td>XRP</td>\n",
       "      <td>1.928875e+09</td>\n",
       "      <td>XRP</td>\n",
       "      <td>1.351875e+11</td>\n",
       "      <td>-1.849945</td>\n",
       "      <td>2.303573</td>\n",
       "    </tr>\n",
       "    <tr>\n",
       "      <th>9</th>\n",
       "      <td>BNB</td>\n",
       "      <td>1.565767e+09</td>\n",
       "      <td>BNB</td>\n",
       "      <td>9.374372e+10</td>\n",
       "      <td>-1.484729</td>\n",
       "      <td>665.377027</td>\n",
       "    </tr>\n",
       "  </tbody>\n",
       "</table>\n",
       "</div>"
      ],
      "text/plain": [
       "                name    volume_24h symbol    market_cap  percent_change_24h  \\\n",
       "0        Tether USDt  6.350604e+10   USDT  1.527815e+11            0.016888   \n",
       "1            Bitcoin  4.723863e+10    BTC  2.135314e+12           -1.347124   \n",
       "2                Dai  1.892487e+10    DAI  5.364525e+09           -0.004617   \n",
       "3           Ethereum  1.392032e+10    ETH  3.038475e+11           -1.414252   \n",
       "4               USDC  8.409247e+09   USDC  6.170706e+10            0.001908   \n",
       "5  Polyhedra Network  4.149006e+09    ZKJ  5.954663e+08            0.150888   \n",
       "6  First Digital USD  3.729940e+09  FDUSD  1.643961e+09           -0.029289   \n",
       "7             Solana  3.197687e+09    SOL  8.934963e+10           -2.954381   \n",
       "8                XRP  1.928875e+09    XRP  1.351875e+11           -1.849945   \n",
       "9                BNB  1.565767e+09    BNB  9.374372e+10           -1.484729   \n",
       "\n",
       "           price  \n",
       "0       1.000318  \n",
       "1  107465.299836  \n",
       "2       0.999840  \n",
       "3    2516.836597  \n",
       "4       0.999861  \n",
       "5       2.033272  \n",
       "6       0.998599  \n",
       "7     171.732528  \n",
       "8       2.303573  \n",
       "9     665.377027  "
      ]
     },
     "execution_count": 21,
     "metadata": {},
     "output_type": "execute_result"
    }
   ],
   "source": [
    "top_10_volume = listings_df.sort_values(by='volume_24h', ascending=False).head(10)\n",
    "top_10_volume_df = top_10_volume[['name','volume_24h','symbol','market_cap','percent_change_24h','price']]\n",
    "top_10_volume_df.reset_index(drop=True)\n"
   ]
  },
  {
   "cell_type": "code",
   "execution_count": 22,
   "id": "de6f0e84",
   "metadata": {},
   "outputs": [
    {
     "data": {
      "application/vnd.plotly.v1+json": {
       "config": {
        "plotlyServerURL": "https://plot.ly"
       },
       "data": [
        {
         "alignmentgroup": "True",
         "customdata": [
          [
           "USDT",
           1.000317604870807,
           152781463488.4016,
           0.01688786
          ]
         ],
         "hovertemplate": "Cryptocurrency=%{x}<br>24h Trading Volume (USD)=%{text:,.2f}<br>Symbol=%{customdata[0]}<br>Price=%{customdata[1]:$,.2f}<br>Market_cap=%{customdata[2]:$,.0f}<br>Percent_change_24h=%{customdata[3]:.6f}<extra></extra>",
         "legendgroup": "Tether USDt",
         "marker": {
          "color": "#636efa",
          "pattern": {
           "shape": ""
          }
         },
         "name": "Tether USDt",
         "offsetgroup": "Tether USDt",
         "orientation": "v",
         "showlegend": true,
         "text": [
          63506041478.09058
         ],
         "textposition": "outside",
         "texttemplate": "%{text:,.0f}",
         "type": "bar",
         "x": [
          "Tether USDt"
         ],
         "xaxis": "x",
         "y": [
          63506041478.09058
         ],
         "yaxis": "y"
        },
        {
         "alignmentgroup": "True",
         "customdata": [
          [
           "BTC",
           107465.29983623025,
           2135313584824.728,
           -1.3471241
          ]
         ],
         "hovertemplate": "Cryptocurrency=%{x}<br>24h Trading Volume (USD)=%{text:,.2f}<br>Symbol=%{customdata[0]}<br>Price=%{customdata[1]:$,.2f}<br>Market_cap=%{customdata[2]:$,.0f}<br>Percent_change_24h=%{customdata[3]:.6f}<extra></extra>",
         "legendgroup": "Bitcoin",
         "marker": {
          "color": "#EF553B",
          "pattern": {
           "shape": ""
          }
         },
         "name": "Bitcoin",
         "offsetgroup": "Bitcoin",
         "orientation": "v",
         "showlegend": true,
         "text": [
          47238628334.36895
         ],
         "textposition": "outside",
         "texttemplate": "%{text:,.0f}",
         "type": "bar",
         "x": [
          "Bitcoin"
         ],
         "xaxis": "x",
         "y": [
          47238628334.36895
         ],
         "yaxis": "y"
        },
        {
         "alignmentgroup": "True",
         "customdata": [
          [
           "DAI",
           0.9998402344115772,
           5364525499.140267,
           -0.0046169
          ]
         ],
         "hovertemplate": "Cryptocurrency=%{x}<br>24h Trading Volume (USD)=%{text:,.2f}<br>Symbol=%{customdata[0]}<br>Price=%{customdata[1]:$,.2f}<br>Market_cap=%{customdata[2]:$,.0f}<br>Percent_change_24h=%{customdata[3]:.6f}<extra></extra>",
         "legendgroup": "Dai",
         "marker": {
          "color": "#00cc96",
          "pattern": {
           "shape": ""
          }
         },
         "name": "Dai",
         "offsetgroup": "Dai",
         "orientation": "v",
         "showlegend": true,
         "text": [
          18924869917.09425
         ],
         "textposition": "outside",
         "texttemplate": "%{text:,.0f}",
         "type": "bar",
         "x": [
          "Dai"
         ],
         "xaxis": "x",
         "y": [
          18924869917.09425
         ],
         "yaxis": "y"
        },
        {
         "alignmentgroup": "True",
         "customdata": [
          [
           "ETH",
           2516.836597440719,
           303847524823.11066,
           -1.4142518
          ]
         ],
         "hovertemplate": "Cryptocurrency=%{x}<br>24h Trading Volume (USD)=%{text:,.2f}<br>Symbol=%{customdata[0]}<br>Price=%{customdata[1]:$,.2f}<br>Market_cap=%{customdata[2]:$,.0f}<br>Percent_change_24h=%{customdata[3]:.6f}<extra></extra>",
         "legendgroup": "Ethereum",
         "marker": {
          "color": "#ab63fa",
          "pattern": {
           "shape": ""
          }
         },
         "name": "Ethereum",
         "offsetgroup": "Ethereum",
         "orientation": "v",
         "showlegend": true,
         "text": [
          13920316017.671837
         ],
         "textposition": "outside",
         "texttemplate": "%{text:,.0f}",
         "type": "bar",
         "x": [
          "Ethereum"
         ],
         "xaxis": "x",
         "y": [
          13920316017.671837
         ],
         "yaxis": "y"
        },
        {
         "alignmentgroup": "True",
         "customdata": [
          [
           "USDC",
           0.9998611492269636,
           61707064464.52021,
           0.00190848
          ]
         ],
         "hovertemplate": "Cryptocurrency=%{x}<br>24h Trading Volume (USD)=%{text:,.2f}<br>Symbol=%{customdata[0]}<br>Price=%{customdata[1]:$,.2f}<br>Market_cap=%{customdata[2]:$,.0f}<br>Percent_change_24h=%{customdata[3]:.6f}<extra></extra>",
         "legendgroup": "USDC",
         "marker": {
          "color": "#FFA15A",
          "pattern": {
           "shape": ""
          }
         },
         "name": "USDC",
         "offsetgroup": "USDC",
         "orientation": "v",
         "showlegend": true,
         "text": [
          8409247488.849723
         ],
         "textposition": "outside",
         "texttemplate": "%{text:,.0f}",
         "type": "bar",
         "x": [
          "USDC"
         ],
         "xaxis": "x",
         "y": [
          8409247488.849723
         ],
         "yaxis": "y"
        },
        {
         "alignmentgroup": "True",
         "customdata": [
          [
           "ZKJ",
           2.033271981204102,
           595466291.3806044,
           0.15088782
          ]
         ],
         "hovertemplate": "Cryptocurrency=%{x}<br>24h Trading Volume (USD)=%{text:,.2f}<br>Symbol=%{customdata[0]}<br>Price=%{customdata[1]:$,.2f}<br>Market_cap=%{customdata[2]:$,.0f}<br>Percent_change_24h=%{customdata[3]:.6f}<extra></extra>",
         "legendgroup": "Polyhedra Network",
         "marker": {
          "color": "#19d3f3",
          "pattern": {
           "shape": ""
          }
         },
         "name": "Polyhedra Network",
         "offsetgroup": "Polyhedra Network",
         "orientation": "v",
         "showlegend": true,
         "text": [
          4149005603.67261
         ],
         "textposition": "outside",
         "texttemplate": "%{text:,.0f}",
         "type": "bar",
         "x": [
          "Polyhedra Network"
         ],
         "xaxis": "x",
         "y": [
          4149005603.67261
         ],
         "yaxis": "y"
        },
        {
         "alignmentgroup": "True",
         "customdata": [
          [
           "FDUSD",
           0.9985994614143558,
           1643961023.0147848,
           -0.02928864
          ]
         ],
         "hovertemplate": "Cryptocurrency=%{x}<br>24h Trading Volume (USD)=%{text:,.2f}<br>Symbol=%{customdata[0]}<br>Price=%{customdata[1]:$,.2f}<br>Market_cap=%{customdata[2]:$,.0f}<br>Percent_change_24h=%{customdata[3]:.6f}<extra></extra>",
         "legendgroup": "First Digital USD",
         "marker": {
          "color": "#FF6692",
          "pattern": {
           "shape": ""
          }
         },
         "name": "First Digital USD",
         "offsetgroup": "First Digital USD",
         "orientation": "v",
         "showlegend": true,
         "text": [
          3729939913.350295
         ],
         "textposition": "outside",
         "texttemplate": "%{text:,.0f}",
         "type": "bar",
         "x": [
          "First Digital USD"
         ],
         "xaxis": "x",
         "y": [
          3729939913.350295
         ],
         "yaxis": "y"
        },
        {
         "alignmentgroup": "True",
         "customdata": [
          [
           "SOL",
           171.7325280660603,
           89349628755.41939,
           -2.95438088
          ]
         ],
         "hovertemplate": "Cryptocurrency=%{x}<br>24h Trading Volume (USD)=%{text:,.2f}<br>Symbol=%{customdata[0]}<br>Price=%{customdata[1]:$,.2f}<br>Market_cap=%{customdata[2]:$,.0f}<br>Percent_change_24h=%{customdata[3]:.6f}<extra></extra>",
         "legendgroup": "Solana",
         "marker": {
          "color": "#B6E880",
          "pattern": {
           "shape": ""
          }
         },
         "name": "Solana",
         "offsetgroup": "Solana",
         "orientation": "v",
         "showlegend": true,
         "text": [
          3197686997.444094
         ],
         "textposition": "outside",
         "texttemplate": "%{text:,.0f}",
         "type": "bar",
         "x": [
          "Solana"
         ],
         "xaxis": "x",
         "y": [
          3197686997.444094
         ],
         "yaxis": "y"
        },
        {
         "alignmentgroup": "True",
         "customdata": [
          [
           "XRP",
           2.3035726478165404,
           135187481207.41324,
           -1.84994509
          ]
         ],
         "hovertemplate": "Cryptocurrency=%{x}<br>24h Trading Volume (USD)=%{text:,.2f}<br>Symbol=%{customdata[0]}<br>Price=%{customdata[1]:$,.2f}<br>Market_cap=%{customdata[2]:$,.0f}<br>Percent_change_24h=%{customdata[3]:.6f}<extra></extra>",
         "legendgroup": "XRP",
         "marker": {
          "color": "#FF97FF",
          "pattern": {
           "shape": ""
          }
         },
         "name": "XRP",
         "offsetgroup": "XRP",
         "orientation": "v",
         "showlegend": true,
         "text": [
          1928875090.2928867
         ],
         "textposition": "outside",
         "texttemplate": "%{text:,.0f}",
         "type": "bar",
         "x": [
          "XRP"
         ],
         "xaxis": "x",
         "y": [
          1928875090.2928867
         ],
         "yaxis": "y"
        },
        {
         "alignmentgroup": "True",
         "customdata": [
          [
           "BNB",
           665.3770273362973,
           93743716835.77203,
           -1.48472887
          ]
         ],
         "hovertemplate": "Cryptocurrency=%{x}<br>24h Trading Volume (USD)=%{text:,.2f}<br>Symbol=%{customdata[0]}<br>Price=%{customdata[1]:$,.2f}<br>Market_cap=%{customdata[2]:$,.0f}<br>Percent_change_24h=%{customdata[3]:.6f}<extra></extra>",
         "legendgroup": "BNB",
         "marker": {
          "color": "#FECB52",
          "pattern": {
           "shape": ""
          }
         },
         "name": "BNB",
         "offsetgroup": "BNB",
         "orientation": "v",
         "showlegend": true,
         "text": [
          1565766508.092338
         ],
         "textposition": "outside",
         "texttemplate": "%{text:,.0f}",
         "type": "bar",
         "x": [
          "BNB"
         ],
         "xaxis": "x",
         "y": [
          1565766508.092338
         ],
         "yaxis": "y"
        }
       ],
       "layout": {
        "barmode": "relative",
        "height": 600,
        "legend": {
         "title": {
          "text": "Cryptocurrency"
         },
         "tracegroupgap": 0
        },
        "margin": {
         "t": 60
        },
        "template": {
         "data": {
          "bar": [
           {
            "error_x": {
             "color": "#2a3f5f"
            },
            "error_y": {
             "color": "#2a3f5f"
            },
            "marker": {
             "line": {
              "color": "#E5ECF6",
              "width": 0.5
             },
             "pattern": {
              "fillmode": "overlay",
              "size": 10,
              "solidity": 0.2
             }
            },
            "type": "bar"
           }
          ],
          "barpolar": [
           {
            "marker": {
             "line": {
              "color": "#E5ECF6",
              "width": 0.5
             },
             "pattern": {
              "fillmode": "overlay",
              "size": 10,
              "solidity": 0.2
             }
            },
            "type": "barpolar"
           }
          ],
          "carpet": [
           {
            "aaxis": {
             "endlinecolor": "#2a3f5f",
             "gridcolor": "white",
             "linecolor": "white",
             "minorgridcolor": "white",
             "startlinecolor": "#2a3f5f"
            },
            "baxis": {
             "endlinecolor": "#2a3f5f",
             "gridcolor": "white",
             "linecolor": "white",
             "minorgridcolor": "white",
             "startlinecolor": "#2a3f5f"
            },
            "type": "carpet"
           }
          ],
          "choropleth": [
           {
            "colorbar": {
             "outlinewidth": 0,
             "ticks": ""
            },
            "type": "choropleth"
           }
          ],
          "contour": [
           {
            "colorbar": {
             "outlinewidth": 0,
             "ticks": ""
            },
            "colorscale": [
             [
              0,
              "#0d0887"
             ],
             [
              0.1111111111111111,
              "#46039f"
             ],
             [
              0.2222222222222222,
              "#7201a8"
             ],
             [
              0.3333333333333333,
              "#9c179e"
             ],
             [
              0.4444444444444444,
              "#bd3786"
             ],
             [
              0.5555555555555556,
              "#d8576b"
             ],
             [
              0.6666666666666666,
              "#ed7953"
             ],
             [
              0.7777777777777778,
              "#fb9f3a"
             ],
             [
              0.8888888888888888,
              "#fdca26"
             ],
             [
              1,
              "#f0f921"
             ]
            ],
            "type": "contour"
           }
          ],
          "contourcarpet": [
           {
            "colorbar": {
             "outlinewidth": 0,
             "ticks": ""
            },
            "type": "contourcarpet"
           }
          ],
          "heatmap": [
           {
            "colorbar": {
             "outlinewidth": 0,
             "ticks": ""
            },
            "colorscale": [
             [
              0,
              "#0d0887"
             ],
             [
              0.1111111111111111,
              "#46039f"
             ],
             [
              0.2222222222222222,
              "#7201a8"
             ],
             [
              0.3333333333333333,
              "#9c179e"
             ],
             [
              0.4444444444444444,
              "#bd3786"
             ],
             [
              0.5555555555555556,
              "#d8576b"
             ],
             [
              0.6666666666666666,
              "#ed7953"
             ],
             [
              0.7777777777777778,
              "#fb9f3a"
             ],
             [
              0.8888888888888888,
              "#fdca26"
             ],
             [
              1,
              "#f0f921"
             ]
            ],
            "type": "heatmap"
           }
          ],
          "heatmapgl": [
           {
            "colorbar": {
             "outlinewidth": 0,
             "ticks": ""
            },
            "colorscale": [
             [
              0,
              "#0d0887"
             ],
             [
              0.1111111111111111,
              "#46039f"
             ],
             [
              0.2222222222222222,
              "#7201a8"
             ],
             [
              0.3333333333333333,
              "#9c179e"
             ],
             [
              0.4444444444444444,
              "#bd3786"
             ],
             [
              0.5555555555555556,
              "#d8576b"
             ],
             [
              0.6666666666666666,
              "#ed7953"
             ],
             [
              0.7777777777777778,
              "#fb9f3a"
             ],
             [
              0.8888888888888888,
              "#fdca26"
             ],
             [
              1,
              "#f0f921"
             ]
            ],
            "type": "heatmapgl"
           }
          ],
          "histogram": [
           {
            "marker": {
             "pattern": {
              "fillmode": "overlay",
              "size": 10,
              "solidity": 0.2
             }
            },
            "type": "histogram"
           }
          ],
          "histogram2d": [
           {
            "colorbar": {
             "outlinewidth": 0,
             "ticks": ""
            },
            "colorscale": [
             [
              0,
              "#0d0887"
             ],
             [
              0.1111111111111111,
              "#46039f"
             ],
             [
              0.2222222222222222,
              "#7201a8"
             ],
             [
              0.3333333333333333,
              "#9c179e"
             ],
             [
              0.4444444444444444,
              "#bd3786"
             ],
             [
              0.5555555555555556,
              "#d8576b"
             ],
             [
              0.6666666666666666,
              "#ed7953"
             ],
             [
              0.7777777777777778,
              "#fb9f3a"
             ],
             [
              0.8888888888888888,
              "#fdca26"
             ],
             [
              1,
              "#f0f921"
             ]
            ],
            "type": "histogram2d"
           }
          ],
          "histogram2dcontour": [
           {
            "colorbar": {
             "outlinewidth": 0,
             "ticks": ""
            },
            "colorscale": [
             [
              0,
              "#0d0887"
             ],
             [
              0.1111111111111111,
              "#46039f"
             ],
             [
              0.2222222222222222,
              "#7201a8"
             ],
             [
              0.3333333333333333,
              "#9c179e"
             ],
             [
              0.4444444444444444,
              "#bd3786"
             ],
             [
              0.5555555555555556,
              "#d8576b"
             ],
             [
              0.6666666666666666,
              "#ed7953"
             ],
             [
              0.7777777777777778,
              "#fb9f3a"
             ],
             [
              0.8888888888888888,
              "#fdca26"
             ],
             [
              1,
              "#f0f921"
             ]
            ],
            "type": "histogram2dcontour"
           }
          ],
          "mesh3d": [
           {
            "colorbar": {
             "outlinewidth": 0,
             "ticks": ""
            },
            "type": "mesh3d"
           }
          ],
          "parcoords": [
           {
            "line": {
             "colorbar": {
              "outlinewidth": 0,
              "ticks": ""
             }
            },
            "type": "parcoords"
           }
          ],
          "pie": [
           {
            "automargin": true,
            "type": "pie"
           }
          ],
          "scatter": [
           {
            "fillpattern": {
             "fillmode": "overlay",
             "size": 10,
             "solidity": 0.2
            },
            "type": "scatter"
           }
          ],
          "scatter3d": [
           {
            "line": {
             "colorbar": {
              "outlinewidth": 0,
              "ticks": ""
             }
            },
            "marker": {
             "colorbar": {
              "outlinewidth": 0,
              "ticks": ""
             }
            },
            "type": "scatter3d"
           }
          ],
          "scattercarpet": [
           {
            "marker": {
             "colorbar": {
              "outlinewidth": 0,
              "ticks": ""
             }
            },
            "type": "scattercarpet"
           }
          ],
          "scattergeo": [
           {
            "marker": {
             "colorbar": {
              "outlinewidth": 0,
              "ticks": ""
             }
            },
            "type": "scattergeo"
           }
          ],
          "scattergl": [
           {
            "marker": {
             "colorbar": {
              "outlinewidth": 0,
              "ticks": ""
             }
            },
            "type": "scattergl"
           }
          ],
          "scattermapbox": [
           {
            "marker": {
             "colorbar": {
              "outlinewidth": 0,
              "ticks": ""
             }
            },
            "type": "scattermapbox"
           }
          ],
          "scatterpolar": [
           {
            "marker": {
             "colorbar": {
              "outlinewidth": 0,
              "ticks": ""
             }
            },
            "type": "scatterpolar"
           }
          ],
          "scatterpolargl": [
           {
            "marker": {
             "colorbar": {
              "outlinewidth": 0,
              "ticks": ""
             }
            },
            "type": "scatterpolargl"
           }
          ],
          "scatterternary": [
           {
            "marker": {
             "colorbar": {
              "outlinewidth": 0,
              "ticks": ""
             }
            },
            "type": "scatterternary"
           }
          ],
          "surface": [
           {
            "colorbar": {
             "outlinewidth": 0,
             "ticks": ""
            },
            "colorscale": [
             [
              0,
              "#0d0887"
             ],
             [
              0.1111111111111111,
              "#46039f"
             ],
             [
              0.2222222222222222,
              "#7201a8"
             ],
             [
              0.3333333333333333,
              "#9c179e"
             ],
             [
              0.4444444444444444,
              "#bd3786"
             ],
             [
              0.5555555555555556,
              "#d8576b"
             ],
             [
              0.6666666666666666,
              "#ed7953"
             ],
             [
              0.7777777777777778,
              "#fb9f3a"
             ],
             [
              0.8888888888888888,
              "#fdca26"
             ],
             [
              1,
              "#f0f921"
             ]
            ],
            "type": "surface"
           }
          ],
          "table": [
           {
            "cells": {
             "fill": {
              "color": "#EBF0F8"
             },
             "line": {
              "color": "white"
             }
            },
            "header": {
             "fill": {
              "color": "#C8D4E3"
             },
             "line": {
              "color": "white"
             }
            },
            "type": "table"
           }
          ]
         },
         "layout": {
          "annotationdefaults": {
           "arrowcolor": "#2a3f5f",
           "arrowhead": 0,
           "arrowwidth": 1
          },
          "autotypenumbers": "strict",
          "coloraxis": {
           "colorbar": {
            "outlinewidth": 0,
            "ticks": ""
           }
          },
          "colorscale": {
           "diverging": [
            [
             0,
             "#8e0152"
            ],
            [
             0.1,
             "#c51b7d"
            ],
            [
             0.2,
             "#de77ae"
            ],
            [
             0.3,
             "#f1b6da"
            ],
            [
             0.4,
             "#fde0ef"
            ],
            [
             0.5,
             "#f7f7f7"
            ],
            [
             0.6,
             "#e6f5d0"
            ],
            [
             0.7,
             "#b8e186"
            ],
            [
             0.8,
             "#7fbc41"
            ],
            [
             0.9,
             "#4d9221"
            ],
            [
             1,
             "#276419"
            ]
           ],
           "sequential": [
            [
             0,
             "#0d0887"
            ],
            [
             0.1111111111111111,
             "#46039f"
            ],
            [
             0.2222222222222222,
             "#7201a8"
            ],
            [
             0.3333333333333333,
             "#9c179e"
            ],
            [
             0.4444444444444444,
             "#bd3786"
            ],
            [
             0.5555555555555556,
             "#d8576b"
            ],
            [
             0.6666666666666666,
             "#ed7953"
            ],
            [
             0.7777777777777778,
             "#fb9f3a"
            ],
            [
             0.8888888888888888,
             "#fdca26"
            ],
            [
             1,
             "#f0f921"
            ]
           ],
           "sequentialminus": [
            [
             0,
             "#0d0887"
            ],
            [
             0.1111111111111111,
             "#46039f"
            ],
            [
             0.2222222222222222,
             "#7201a8"
            ],
            [
             0.3333333333333333,
             "#9c179e"
            ],
            [
             0.4444444444444444,
             "#bd3786"
            ],
            [
             0.5555555555555556,
             "#d8576b"
            ],
            [
             0.6666666666666666,
             "#ed7953"
            ],
            [
             0.7777777777777778,
             "#fb9f3a"
            ],
            [
             0.8888888888888888,
             "#fdca26"
            ],
            [
             1,
             "#f0f921"
            ]
           ]
          },
          "colorway": [
           "#636efa",
           "#EF553B",
           "#00cc96",
           "#ab63fa",
           "#FFA15A",
           "#19d3f3",
           "#FF6692",
           "#B6E880",
           "#FF97FF",
           "#FECB52"
          ],
          "font": {
           "color": "#2a3f5f"
          },
          "geo": {
           "bgcolor": "white",
           "lakecolor": "white",
           "landcolor": "#E5ECF6",
           "showlakes": true,
           "showland": true,
           "subunitcolor": "white"
          },
          "hoverlabel": {
           "align": "left"
          },
          "hovermode": "closest",
          "mapbox": {
           "style": "light"
          },
          "paper_bgcolor": "white",
          "plot_bgcolor": "#E5ECF6",
          "polar": {
           "angularaxis": {
            "gridcolor": "white",
            "linecolor": "white",
            "ticks": ""
           },
           "bgcolor": "#E5ECF6",
           "radialaxis": {
            "gridcolor": "white",
            "linecolor": "white",
            "ticks": ""
           }
          },
          "scene": {
           "xaxis": {
            "backgroundcolor": "#E5ECF6",
            "gridcolor": "white",
            "gridwidth": 2,
            "linecolor": "white",
            "showbackground": true,
            "ticks": "",
            "zerolinecolor": "white"
           },
           "yaxis": {
            "backgroundcolor": "#E5ECF6",
            "gridcolor": "white",
            "gridwidth": 2,
            "linecolor": "white",
            "showbackground": true,
            "ticks": "",
            "zerolinecolor": "white"
           },
           "zaxis": {
            "backgroundcolor": "#E5ECF6",
            "gridcolor": "white",
            "gridwidth": 2,
            "linecolor": "white",
            "showbackground": true,
            "ticks": "",
            "zerolinecolor": "white"
           }
          },
          "shapedefaults": {
           "line": {
            "color": "#2a3f5f"
           }
          },
          "ternary": {
           "aaxis": {
            "gridcolor": "white",
            "linecolor": "white",
            "ticks": ""
           },
           "baxis": {
            "gridcolor": "white",
            "linecolor": "white",
            "ticks": ""
           },
           "bgcolor": "#E5ECF6",
           "caxis": {
            "gridcolor": "white",
            "linecolor": "white",
            "ticks": ""
           }
          },
          "title": {
           "x": 0.05
          },
          "xaxis": {
           "automargin": true,
           "gridcolor": "white",
           "linecolor": "white",
           "ticks": "",
           "title": {
            "standoff": 15
           },
           "zerolinecolor": "white",
           "zerolinewidth": 2
          },
          "yaxis": {
           "automargin": true,
           "gridcolor": "white",
           "linecolor": "white",
           "ticks": "",
           "title": {
            "standoff": 15
           },
           "zerolinecolor": "white",
           "zerolinewidth": 2
          }
         }
        },
        "xaxis": {
         "anchor": "y",
         "categoryarray": [
          "Tether USDt",
          "Bitcoin",
          "Dai",
          "Ethereum",
          "USDC",
          "Polyhedra Network",
          "First Digital USD",
          "Solana",
          "XRP",
          "BNB"
         ],
         "categoryorder": "array",
         "domain": [
          0,
          1
         ],
         "title": {
          "text": "Cryptocurrency"
         }
        },
        "yaxis": {
         "anchor": "x",
         "domain": [
          0,
          1
         ],
         "title": {
          "text": "24h Trading Volume (USD)"
         }
        }
       }
      }
     },
     "metadata": {},
     "output_type": "display_data"
    }
   ],
   "source": [
    "fig = px.bar(top_10_volume_df,\n",
    "             x='name',\n",
    "             y='volume_24h',\n",
    "             \n",
    "             labels={'symbol': 'Symbol',\n",
    "                     'volume_24h': '24h Trading Volume (USD)',\n",
    "                     'price': 'Price',\n",
    "                     'market_cap': 'Market_cap',\n",
    "                     'percent_change_24h': 'Percent_change_24h',\n",
    "                     'name': 'Cryptocurrency'},\n",
    "             \n",
    "             hover_data={'symbol':True,\n",
    "                         'price': ':$,.2f',           \n",
    "                         'market_cap': ':$,.0f',       \n",
    "                         'percent_change_24h': ':.6f',\n",
    "                         'volume_24h': ':,.2f'\n",
    "                         },\n",
    "             \n",
    "             color='name',\n",
    "             \n",
    "             text='volume_24h',\n",
    "             )\n",
    "\n",
    "fig.update_traces(texttemplate='%{text:,.0f}', textposition='outside')\n",
    "\n",
    "fig.update_layout(\n",
    "    height = 600,\n",
    ")\n",
    "\n",
    "fig.show()"
   ]
  },
  {
   "cell_type": "code",
   "execution_count": 23,
   "id": "36b375d2",
   "metadata": {},
   "outputs": [
    {
     "data": {
      "application/vnd.microsoft.datawrangler.viewer.v0+json": {
       "columns": [
        {
         "name": "index",
         "rawType": "int64",
         "type": "integer"
        },
        {
         "name": "name",
         "rawType": "object",
         "type": "string"
        },
        {
         "name": "market_cap_dominance",
         "rawType": "float64",
         "type": "float"
        },
        {
         "name": "symbol",
         "rawType": "object",
         "type": "unknown"
        }
       ],
       "ref": "457dae30-f135-4172-a4f6-59f83109882c",
       "rows": [
        [
         "0",
         "Bitcoin",
         "63.2857",
         "BTC"
        ],
        [
         "1",
         "Ethereum",
         "9.0051",
         "ETH"
        ],
        [
         "2",
         "Tether USDt",
         "4.528",
         "USDT"
        ],
        [
         "3",
         "XRP",
         "4.0065",
         "XRP"
        ],
        [
         "4",
         "BNB",
         "2.7783",
         "BNB"
        ],
        [
         "5",
         "Solana",
         "2.648",
         "SOL"
        ],
        [
         "6",
         "USDC",
         "1.8289",
         "USDC"
        ],
        [
         "7",
         "Dogecoin",
         "0.9716",
         "DOGE"
        ],
        [
         "8",
         "Cardano",
         "0.782",
         "ADA"
        ],
        [
         "9",
         "TRON",
         "0.7625",
         "TRX"
        ],
        [
         "0",
         "Remaining",
         "9.403400000000005",
         null
        ]
       ],
       "shape": {
        "columns": 3,
        "rows": 11
       }
      },
      "text/html": [
       "<div>\n",
       "<style scoped>\n",
       "    .dataframe tbody tr th:only-of-type {\n",
       "        vertical-align: middle;\n",
       "    }\n",
       "\n",
       "    .dataframe tbody tr th {\n",
       "        vertical-align: top;\n",
       "    }\n",
       "\n",
       "    .dataframe thead th {\n",
       "        text-align: right;\n",
       "    }\n",
       "</style>\n",
       "<table border=\"1\" class=\"dataframe\">\n",
       "  <thead>\n",
       "    <tr style=\"text-align: right;\">\n",
       "      <th></th>\n",
       "      <th>name</th>\n",
       "      <th>market_cap_dominance</th>\n",
       "      <th>symbol</th>\n",
       "    </tr>\n",
       "  </thead>\n",
       "  <tbody>\n",
       "    <tr>\n",
       "      <th>0</th>\n",
       "      <td>Bitcoin</td>\n",
       "      <td>63.2857</td>\n",
       "      <td>BTC</td>\n",
       "    </tr>\n",
       "    <tr>\n",
       "      <th>1</th>\n",
       "      <td>Ethereum</td>\n",
       "      <td>9.0051</td>\n",
       "      <td>ETH</td>\n",
       "    </tr>\n",
       "    <tr>\n",
       "      <th>2</th>\n",
       "      <td>Tether USDt</td>\n",
       "      <td>4.5280</td>\n",
       "      <td>USDT</td>\n",
       "    </tr>\n",
       "    <tr>\n",
       "      <th>3</th>\n",
       "      <td>XRP</td>\n",
       "      <td>4.0065</td>\n",
       "      <td>XRP</td>\n",
       "    </tr>\n",
       "    <tr>\n",
       "      <th>4</th>\n",
       "      <td>BNB</td>\n",
       "      <td>2.7783</td>\n",
       "      <td>BNB</td>\n",
       "    </tr>\n",
       "    <tr>\n",
       "      <th>5</th>\n",
       "      <td>Solana</td>\n",
       "      <td>2.6480</td>\n",
       "      <td>SOL</td>\n",
       "    </tr>\n",
       "    <tr>\n",
       "      <th>6</th>\n",
       "      <td>USDC</td>\n",
       "      <td>1.8289</td>\n",
       "      <td>USDC</td>\n",
       "    </tr>\n",
       "    <tr>\n",
       "      <th>7</th>\n",
       "      <td>Dogecoin</td>\n",
       "      <td>0.9716</td>\n",
       "      <td>DOGE</td>\n",
       "    </tr>\n",
       "    <tr>\n",
       "      <th>8</th>\n",
       "      <td>Cardano</td>\n",
       "      <td>0.7820</td>\n",
       "      <td>ADA</td>\n",
       "    </tr>\n",
       "    <tr>\n",
       "      <th>9</th>\n",
       "      <td>TRON</td>\n",
       "      <td>0.7625</td>\n",
       "      <td>TRX</td>\n",
       "    </tr>\n",
       "    <tr>\n",
       "      <th>0</th>\n",
       "      <td>Remaining</td>\n",
       "      <td>9.4034</td>\n",
       "      <td>NaN</td>\n",
       "    </tr>\n",
       "  </tbody>\n",
       "</table>\n",
       "</div>"
      ],
      "text/plain": [
       "          name  market_cap_dominance symbol\n",
       "0      Bitcoin               63.2857    BTC\n",
       "1     Ethereum                9.0051    ETH\n",
       "2  Tether USDt                4.5280   USDT\n",
       "3          XRP                4.0065    XRP\n",
       "4          BNB                2.7783    BNB\n",
       "5       Solana                2.6480    SOL\n",
       "6         USDC                1.8289   USDC\n",
       "7     Dogecoin                0.9716   DOGE\n",
       "8      Cardano                0.7820    ADA\n",
       "9         TRON                0.7625    TRX\n",
       "0    Remaining                9.4034    NaN"
      ]
     },
     "execution_count": 23,
     "metadata": {},
     "output_type": "execute_result"
    }
   ],
   "source": [
    "# listing the market dominance of top 10 coins\n",
    "top_10_market_dominance = top_10_df[['name','market_cap_dominance','symbol']]\n",
    "if top_10_market_dominance['market_cap_dominance'].sum() < 100:\n",
    "    top_10_market_dominance = pd.concat([\n",
    "        top_10_market_dominance,\n",
    "        pd.DataFrame([{'name':'Remaining','market_cap_dominance': 100 - top_10_market_dominance['market_cap_dominance'].sum()}])\n",
    "    ])\n",
    "    \n",
    "top_10_market_dominance\n"
   ]
  },
  {
   "cell_type": "code",
   "execution_count": 24,
   "id": "81deb752",
   "metadata": {},
   "outputs": [
    {
     "data": {
      "application/vnd.plotly.v1+json": {
       "config": {
        "plotlyServerURL": "https://plot.ly"
       },
       "data": [
        {
         "domain": {
          "x": [
           0,
           1
          ],
          "y": [
           0,
           1
          ]
         },
         "hovertemplate": "name=%{label}<br>market_cap_dominance=%{value}<extra></extra>",
         "labels": [
          "Bitcoin",
          "Ethereum",
          "Tether USDt",
          "XRP",
          "BNB",
          "Solana",
          "USDC",
          "Dogecoin",
          "Cardano",
          "TRON",
          "Remaining"
         ],
         "legendgroup": "",
         "name": "",
         "showlegend": true,
         "textposition": "outside",
         "type": "pie",
         "values": [
          63.2857,
          9.0051,
          4.528,
          4.0065,
          2.7783,
          2.648,
          1.8289,
          0.9716,
          0.782,
          0.7625,
          9.403400000000005
         ]
        }
       ],
       "layout": {
        "legend": {
         "tracegroupgap": 0
        },
        "template": {
         "data": {
          "bar": [
           {
            "error_x": {
             "color": "#2a3f5f"
            },
            "error_y": {
             "color": "#2a3f5f"
            },
            "marker": {
             "line": {
              "color": "#E5ECF6",
              "width": 0.5
             },
             "pattern": {
              "fillmode": "overlay",
              "size": 10,
              "solidity": 0.2
             }
            },
            "type": "bar"
           }
          ],
          "barpolar": [
           {
            "marker": {
             "line": {
              "color": "#E5ECF6",
              "width": 0.5
             },
             "pattern": {
              "fillmode": "overlay",
              "size": 10,
              "solidity": 0.2
             }
            },
            "type": "barpolar"
           }
          ],
          "carpet": [
           {
            "aaxis": {
             "endlinecolor": "#2a3f5f",
             "gridcolor": "white",
             "linecolor": "white",
             "minorgridcolor": "white",
             "startlinecolor": "#2a3f5f"
            },
            "baxis": {
             "endlinecolor": "#2a3f5f",
             "gridcolor": "white",
             "linecolor": "white",
             "minorgridcolor": "white",
             "startlinecolor": "#2a3f5f"
            },
            "type": "carpet"
           }
          ],
          "choropleth": [
           {
            "colorbar": {
             "outlinewidth": 0,
             "ticks": ""
            },
            "type": "choropleth"
           }
          ],
          "contour": [
           {
            "colorbar": {
             "outlinewidth": 0,
             "ticks": ""
            },
            "colorscale": [
             [
              0,
              "#0d0887"
             ],
             [
              0.1111111111111111,
              "#46039f"
             ],
             [
              0.2222222222222222,
              "#7201a8"
             ],
             [
              0.3333333333333333,
              "#9c179e"
             ],
             [
              0.4444444444444444,
              "#bd3786"
             ],
             [
              0.5555555555555556,
              "#d8576b"
             ],
             [
              0.6666666666666666,
              "#ed7953"
             ],
             [
              0.7777777777777778,
              "#fb9f3a"
             ],
             [
              0.8888888888888888,
              "#fdca26"
             ],
             [
              1,
              "#f0f921"
             ]
            ],
            "type": "contour"
           }
          ],
          "contourcarpet": [
           {
            "colorbar": {
             "outlinewidth": 0,
             "ticks": ""
            },
            "type": "contourcarpet"
           }
          ],
          "heatmap": [
           {
            "colorbar": {
             "outlinewidth": 0,
             "ticks": ""
            },
            "colorscale": [
             [
              0,
              "#0d0887"
             ],
             [
              0.1111111111111111,
              "#46039f"
             ],
             [
              0.2222222222222222,
              "#7201a8"
             ],
             [
              0.3333333333333333,
              "#9c179e"
             ],
             [
              0.4444444444444444,
              "#bd3786"
             ],
             [
              0.5555555555555556,
              "#d8576b"
             ],
             [
              0.6666666666666666,
              "#ed7953"
             ],
             [
              0.7777777777777778,
              "#fb9f3a"
             ],
             [
              0.8888888888888888,
              "#fdca26"
             ],
             [
              1,
              "#f0f921"
             ]
            ],
            "type": "heatmap"
           }
          ],
          "heatmapgl": [
           {
            "colorbar": {
             "outlinewidth": 0,
             "ticks": ""
            },
            "colorscale": [
             [
              0,
              "#0d0887"
             ],
             [
              0.1111111111111111,
              "#46039f"
             ],
             [
              0.2222222222222222,
              "#7201a8"
             ],
             [
              0.3333333333333333,
              "#9c179e"
             ],
             [
              0.4444444444444444,
              "#bd3786"
             ],
             [
              0.5555555555555556,
              "#d8576b"
             ],
             [
              0.6666666666666666,
              "#ed7953"
             ],
             [
              0.7777777777777778,
              "#fb9f3a"
             ],
             [
              0.8888888888888888,
              "#fdca26"
             ],
             [
              1,
              "#f0f921"
             ]
            ],
            "type": "heatmapgl"
           }
          ],
          "histogram": [
           {
            "marker": {
             "pattern": {
              "fillmode": "overlay",
              "size": 10,
              "solidity": 0.2
             }
            },
            "type": "histogram"
           }
          ],
          "histogram2d": [
           {
            "colorbar": {
             "outlinewidth": 0,
             "ticks": ""
            },
            "colorscale": [
             [
              0,
              "#0d0887"
             ],
             [
              0.1111111111111111,
              "#46039f"
             ],
             [
              0.2222222222222222,
              "#7201a8"
             ],
             [
              0.3333333333333333,
              "#9c179e"
             ],
             [
              0.4444444444444444,
              "#bd3786"
             ],
             [
              0.5555555555555556,
              "#d8576b"
             ],
             [
              0.6666666666666666,
              "#ed7953"
             ],
             [
              0.7777777777777778,
              "#fb9f3a"
             ],
             [
              0.8888888888888888,
              "#fdca26"
             ],
             [
              1,
              "#f0f921"
             ]
            ],
            "type": "histogram2d"
           }
          ],
          "histogram2dcontour": [
           {
            "colorbar": {
             "outlinewidth": 0,
             "ticks": ""
            },
            "colorscale": [
             [
              0,
              "#0d0887"
             ],
             [
              0.1111111111111111,
              "#46039f"
             ],
             [
              0.2222222222222222,
              "#7201a8"
             ],
             [
              0.3333333333333333,
              "#9c179e"
             ],
             [
              0.4444444444444444,
              "#bd3786"
             ],
             [
              0.5555555555555556,
              "#d8576b"
             ],
             [
              0.6666666666666666,
              "#ed7953"
             ],
             [
              0.7777777777777778,
              "#fb9f3a"
             ],
             [
              0.8888888888888888,
              "#fdca26"
             ],
             [
              1,
              "#f0f921"
             ]
            ],
            "type": "histogram2dcontour"
           }
          ],
          "mesh3d": [
           {
            "colorbar": {
             "outlinewidth": 0,
             "ticks": ""
            },
            "type": "mesh3d"
           }
          ],
          "parcoords": [
           {
            "line": {
             "colorbar": {
              "outlinewidth": 0,
              "ticks": ""
             }
            },
            "type": "parcoords"
           }
          ],
          "pie": [
           {
            "automargin": true,
            "type": "pie"
           }
          ],
          "scatter": [
           {
            "fillpattern": {
             "fillmode": "overlay",
             "size": 10,
             "solidity": 0.2
            },
            "type": "scatter"
           }
          ],
          "scatter3d": [
           {
            "line": {
             "colorbar": {
              "outlinewidth": 0,
              "ticks": ""
             }
            },
            "marker": {
             "colorbar": {
              "outlinewidth": 0,
              "ticks": ""
             }
            },
            "type": "scatter3d"
           }
          ],
          "scattercarpet": [
           {
            "marker": {
             "colorbar": {
              "outlinewidth": 0,
              "ticks": ""
             }
            },
            "type": "scattercarpet"
           }
          ],
          "scattergeo": [
           {
            "marker": {
             "colorbar": {
              "outlinewidth": 0,
              "ticks": ""
             }
            },
            "type": "scattergeo"
           }
          ],
          "scattergl": [
           {
            "marker": {
             "colorbar": {
              "outlinewidth": 0,
              "ticks": ""
             }
            },
            "type": "scattergl"
           }
          ],
          "scattermapbox": [
           {
            "marker": {
             "colorbar": {
              "outlinewidth": 0,
              "ticks": ""
             }
            },
            "type": "scattermapbox"
           }
          ],
          "scatterpolar": [
           {
            "marker": {
             "colorbar": {
              "outlinewidth": 0,
              "ticks": ""
             }
            },
            "type": "scatterpolar"
           }
          ],
          "scatterpolargl": [
           {
            "marker": {
             "colorbar": {
              "outlinewidth": 0,
              "ticks": ""
             }
            },
            "type": "scatterpolargl"
           }
          ],
          "scatterternary": [
           {
            "marker": {
             "colorbar": {
              "outlinewidth": 0,
              "ticks": ""
             }
            },
            "type": "scatterternary"
           }
          ],
          "surface": [
           {
            "colorbar": {
             "outlinewidth": 0,
             "ticks": ""
            },
            "colorscale": [
             [
              0,
              "#0d0887"
             ],
             [
              0.1111111111111111,
              "#46039f"
             ],
             [
              0.2222222222222222,
              "#7201a8"
             ],
             [
              0.3333333333333333,
              "#9c179e"
             ],
             [
              0.4444444444444444,
              "#bd3786"
             ],
             [
              0.5555555555555556,
              "#d8576b"
             ],
             [
              0.6666666666666666,
              "#ed7953"
             ],
             [
              0.7777777777777778,
              "#fb9f3a"
             ],
             [
              0.8888888888888888,
              "#fdca26"
             ],
             [
              1,
              "#f0f921"
             ]
            ],
            "type": "surface"
           }
          ],
          "table": [
           {
            "cells": {
             "fill": {
              "color": "#EBF0F8"
             },
             "line": {
              "color": "white"
             }
            },
            "header": {
             "fill": {
              "color": "#C8D4E3"
             },
             "line": {
              "color": "white"
             }
            },
            "type": "table"
           }
          ]
         },
         "layout": {
          "annotationdefaults": {
           "arrowcolor": "#2a3f5f",
           "arrowhead": 0,
           "arrowwidth": 1
          },
          "autotypenumbers": "strict",
          "coloraxis": {
           "colorbar": {
            "outlinewidth": 0,
            "ticks": ""
           }
          },
          "colorscale": {
           "diverging": [
            [
             0,
             "#8e0152"
            ],
            [
             0.1,
             "#c51b7d"
            ],
            [
             0.2,
             "#de77ae"
            ],
            [
             0.3,
             "#f1b6da"
            ],
            [
             0.4,
             "#fde0ef"
            ],
            [
             0.5,
             "#f7f7f7"
            ],
            [
             0.6,
             "#e6f5d0"
            ],
            [
             0.7,
             "#b8e186"
            ],
            [
             0.8,
             "#7fbc41"
            ],
            [
             0.9,
             "#4d9221"
            ],
            [
             1,
             "#276419"
            ]
           ],
           "sequential": [
            [
             0,
             "#0d0887"
            ],
            [
             0.1111111111111111,
             "#46039f"
            ],
            [
             0.2222222222222222,
             "#7201a8"
            ],
            [
             0.3333333333333333,
             "#9c179e"
            ],
            [
             0.4444444444444444,
             "#bd3786"
            ],
            [
             0.5555555555555556,
             "#d8576b"
            ],
            [
             0.6666666666666666,
             "#ed7953"
            ],
            [
             0.7777777777777778,
             "#fb9f3a"
            ],
            [
             0.8888888888888888,
             "#fdca26"
            ],
            [
             1,
             "#f0f921"
            ]
           ],
           "sequentialminus": [
            [
             0,
             "#0d0887"
            ],
            [
             0.1111111111111111,
             "#46039f"
            ],
            [
             0.2222222222222222,
             "#7201a8"
            ],
            [
             0.3333333333333333,
             "#9c179e"
            ],
            [
             0.4444444444444444,
             "#bd3786"
            ],
            [
             0.5555555555555556,
             "#d8576b"
            ],
            [
             0.6666666666666666,
             "#ed7953"
            ],
            [
             0.7777777777777778,
             "#fb9f3a"
            ],
            [
             0.8888888888888888,
             "#fdca26"
            ],
            [
             1,
             "#f0f921"
            ]
           ]
          },
          "colorway": [
           "#636efa",
           "#EF553B",
           "#00cc96",
           "#ab63fa",
           "#FFA15A",
           "#19d3f3",
           "#FF6692",
           "#B6E880",
           "#FF97FF",
           "#FECB52"
          ],
          "font": {
           "color": "#2a3f5f"
          },
          "geo": {
           "bgcolor": "white",
           "lakecolor": "white",
           "landcolor": "#E5ECF6",
           "showlakes": true,
           "showland": true,
           "subunitcolor": "white"
          },
          "hoverlabel": {
           "align": "left"
          },
          "hovermode": "closest",
          "mapbox": {
           "style": "light"
          },
          "paper_bgcolor": "white",
          "plot_bgcolor": "#E5ECF6",
          "polar": {
           "angularaxis": {
            "gridcolor": "white",
            "linecolor": "white",
            "ticks": ""
           },
           "bgcolor": "#E5ECF6",
           "radialaxis": {
            "gridcolor": "white",
            "linecolor": "white",
            "ticks": ""
           }
          },
          "scene": {
           "xaxis": {
            "backgroundcolor": "#E5ECF6",
            "gridcolor": "white",
            "gridwidth": 2,
            "linecolor": "white",
            "showbackground": true,
            "ticks": "",
            "zerolinecolor": "white"
           },
           "yaxis": {
            "backgroundcolor": "#E5ECF6",
            "gridcolor": "white",
            "gridwidth": 2,
            "linecolor": "white",
            "showbackground": true,
            "ticks": "",
            "zerolinecolor": "white"
           },
           "zaxis": {
            "backgroundcolor": "#E5ECF6",
            "gridcolor": "white",
            "gridwidth": 2,
            "linecolor": "white",
            "showbackground": true,
            "ticks": "",
            "zerolinecolor": "white"
           }
          },
          "shapedefaults": {
           "line": {
            "color": "#2a3f5f"
           }
          },
          "ternary": {
           "aaxis": {
            "gridcolor": "white",
            "linecolor": "white",
            "ticks": ""
           },
           "baxis": {
            "gridcolor": "white",
            "linecolor": "white",
            "ticks": ""
           },
           "bgcolor": "#E5ECF6",
           "caxis": {
            "gridcolor": "white",
            "linecolor": "white",
            "ticks": ""
           }
          },
          "title": {
           "x": 0.05
          },
          "xaxis": {
           "automargin": true,
           "gridcolor": "white",
           "linecolor": "white",
           "ticks": "",
           "title": {
            "standoff": 15
           },
           "zerolinecolor": "white",
           "zerolinewidth": 2
          },
          "yaxis": {
           "automargin": true,
           "gridcolor": "white",
           "linecolor": "white",
           "ticks": "",
           "title": {
            "standoff": 15
           },
           "zerolinecolor": "white",
           "zerolinewidth": 2
          }
         }
        },
        "title": {
         "text": "Market Cap Dominance"
        }
       }
      }
     },
     "metadata": {},
     "output_type": "display_data"
    }
   ],
   "source": [
    "# pie chart of market cap dominance of top 10 coins\n",
    "fig = px.pie(top_10_market_dominance,\n",
    "             values='market_cap_dominance',\n",
    "             names='name',\n",
    "             title='Market Cap Dominance',\n",
    "             )\n",
    "fig.update_traces(\n",
    "    textposition='outside'\n",
    ")\n",
    "\n",
    "fig.show()"
   ]
  },
  {
   "cell_type": "code",
   "execution_count": 25,
   "id": "828c4eb5",
   "metadata": {},
   "outputs": [
    {
     "data": {
      "application/vnd.microsoft.datawrangler.viewer.v0+json": {
       "columns": [
        {
         "name": "index",
         "rawType": "int64",
         "type": "integer"
        },
        {
         "name": "name",
         "rawType": "object",
         "type": "string"
        },
        {
         "name": "percent_change_1h",
         "rawType": "float64",
         "type": "float"
        },
        {
         "name": "percent_change_24h",
         "rawType": "float64",
         "type": "float"
        },
        {
         "name": "percent_change_7d",
         "rawType": "float64",
         "type": "float"
        },
        {
         "name": "percent_change_30d",
         "rawType": "float64",
         "type": "float"
        },
        {
         "name": "percent_change_60d",
         "rawType": "float64",
         "type": "float"
        },
        {
         "name": "percent_change_90d",
         "rawType": "float64",
         "type": "float"
        }
       ],
       "ref": "d41a5827-4453-4bf7-abe0-3dc421ace169",
       "rows": [
        [
         "1",
         "Bitcoin",
         "0.11322172",
         "-1.3471241",
         "2.81068093",
         "12.75745719",
         "24.61017595",
         "13.92769082"
        ],
        [
         "2",
         "Ethereum",
         "0.14087323",
         "-1.4142518",
         "2.10791207",
         "39.79456122",
         "26.11798231",
         "-5.14846987"
        ],
        [
         "3",
         "Tether USDt",
         "-0.00766236",
         "0.01688786",
         "0.00499677",
         "-0.0149913",
         "0.02832861",
         "-0.01393316"
        ],
        [
         "4",
         "XRP",
         "0.20917353",
         "-1.84994509",
         "-4.03548235",
         "4.96380045",
         "-2.96364832",
         "-5.97977309"
        ],
        [
         "5",
         "BNB",
         "0.03310514",
         "-1.48472887",
         "3.30445217",
         "10.2190531",
         "7.62898899",
         "4.98242821"
        ],
        [
         "6",
         "Solana",
         "0.42016527",
         "-2.95438088",
         "0.757709",
         "13.30274672",
         "24.98540913",
         "12.98533375"
        ],
        [
         "7",
         "USDC",
         "0.00492249",
         "0.00190848",
         "-0.00645667",
         "-0.00384904",
         "-0.00212414",
         "-0.0062483"
        ],
        [
         "8",
         "Dogecoin",
         "0.13684266",
         "-3.30234595",
         "-3.79825002",
         "20.7985467",
         "13.02521823",
         "-2.73479685"
        ],
        [
         "9",
         "Cardano",
         "0.39984211",
         "-1.17667286",
         "0.06585497",
         "3.76361045",
         "2.89982037",
         "2.71607"
        ],
        [
         "10",
         "TRON",
         "-0.0481828",
         "0.00391649",
         "2.11446438",
         "11.74014445",
         "17.93672187",
         "9.74736694"
        ]
       ],
       "shape": {
        "columns": 7,
        "rows": 10
       }
      },
      "text/html": [
       "<div>\n",
       "<style scoped>\n",
       "    .dataframe tbody tr th:only-of-type {\n",
       "        vertical-align: middle;\n",
       "    }\n",
       "\n",
       "    .dataframe tbody tr th {\n",
       "        vertical-align: top;\n",
       "    }\n",
       "\n",
       "    .dataframe thead th {\n",
       "        text-align: right;\n",
       "    }\n",
       "</style>\n",
       "<table border=\"1\" class=\"dataframe\">\n",
       "  <thead>\n",
       "    <tr style=\"text-align: right;\">\n",
       "      <th></th>\n",
       "      <th>name</th>\n",
       "      <th>percent_change_1h</th>\n",
       "      <th>percent_change_24h</th>\n",
       "      <th>percent_change_7d</th>\n",
       "      <th>percent_change_30d</th>\n",
       "      <th>percent_change_60d</th>\n",
       "      <th>percent_change_90d</th>\n",
       "    </tr>\n",
       "  </thead>\n",
       "  <tbody>\n",
       "    <tr>\n",
       "      <th>1</th>\n",
       "      <td>Bitcoin</td>\n",
       "      <td>0.113222</td>\n",
       "      <td>-1.347124</td>\n",
       "      <td>2.810681</td>\n",
       "      <td>12.757457</td>\n",
       "      <td>24.610176</td>\n",
       "      <td>13.927691</td>\n",
       "    </tr>\n",
       "    <tr>\n",
       "      <th>2</th>\n",
       "      <td>Ethereum</td>\n",
       "      <td>0.140873</td>\n",
       "      <td>-1.414252</td>\n",
       "      <td>2.107912</td>\n",
       "      <td>39.794561</td>\n",
       "      <td>26.117982</td>\n",
       "      <td>-5.148470</td>\n",
       "    </tr>\n",
       "    <tr>\n",
       "      <th>3</th>\n",
       "      <td>Tether USDt</td>\n",
       "      <td>-0.007662</td>\n",
       "      <td>0.016888</td>\n",
       "      <td>0.004997</td>\n",
       "      <td>-0.014991</td>\n",
       "      <td>0.028329</td>\n",
       "      <td>-0.013933</td>\n",
       "    </tr>\n",
       "    <tr>\n",
       "      <th>4</th>\n",
       "      <td>XRP</td>\n",
       "      <td>0.209174</td>\n",
       "      <td>-1.849945</td>\n",
       "      <td>-4.035482</td>\n",
       "      <td>4.963800</td>\n",
       "      <td>-2.963648</td>\n",
       "      <td>-5.979773</td>\n",
       "    </tr>\n",
       "    <tr>\n",
       "      <th>5</th>\n",
       "      <td>BNB</td>\n",
       "      <td>0.033105</td>\n",
       "      <td>-1.484729</td>\n",
       "      <td>3.304452</td>\n",
       "      <td>10.219053</td>\n",
       "      <td>7.628989</td>\n",
       "      <td>4.982428</td>\n",
       "    </tr>\n",
       "    <tr>\n",
       "      <th>6</th>\n",
       "      <td>Solana</td>\n",
       "      <td>0.420165</td>\n",
       "      <td>-2.954381</td>\n",
       "      <td>0.757709</td>\n",
       "      <td>13.302747</td>\n",
       "      <td>24.985409</td>\n",
       "      <td>12.985334</td>\n",
       "    </tr>\n",
       "    <tr>\n",
       "      <th>7</th>\n",
       "      <td>USDC</td>\n",
       "      <td>0.004922</td>\n",
       "      <td>0.001908</td>\n",
       "      <td>-0.006457</td>\n",
       "      <td>-0.003849</td>\n",
       "      <td>-0.002124</td>\n",
       "      <td>-0.006248</td>\n",
       "    </tr>\n",
       "    <tr>\n",
       "      <th>8</th>\n",
       "      <td>Dogecoin</td>\n",
       "      <td>0.136843</td>\n",
       "      <td>-3.302346</td>\n",
       "      <td>-3.798250</td>\n",
       "      <td>20.798547</td>\n",
       "      <td>13.025218</td>\n",
       "      <td>-2.734797</td>\n",
       "    </tr>\n",
       "    <tr>\n",
       "      <th>9</th>\n",
       "      <td>Cardano</td>\n",
       "      <td>0.399842</td>\n",
       "      <td>-1.176673</td>\n",
       "      <td>0.065855</td>\n",
       "      <td>3.763610</td>\n",
       "      <td>2.899820</td>\n",
       "      <td>2.716070</td>\n",
       "    </tr>\n",
       "    <tr>\n",
       "      <th>10</th>\n",
       "      <td>TRON</td>\n",
       "      <td>-0.048183</td>\n",
       "      <td>0.003916</td>\n",
       "      <td>2.114464</td>\n",
       "      <td>11.740144</td>\n",
       "      <td>17.936722</td>\n",
       "      <td>9.747367</td>\n",
       "    </tr>\n",
       "  </tbody>\n",
       "</table>\n",
       "</div>"
      ],
      "text/plain": [
       "           name  percent_change_1h  percent_change_24h  percent_change_7d  \\\n",
       "1       Bitcoin           0.113222           -1.347124           2.810681   \n",
       "2      Ethereum           0.140873           -1.414252           2.107912   \n",
       "3   Tether USDt          -0.007662            0.016888           0.004997   \n",
       "4           XRP           0.209174           -1.849945          -4.035482   \n",
       "5           BNB           0.033105           -1.484729           3.304452   \n",
       "6        Solana           0.420165           -2.954381           0.757709   \n",
       "7          USDC           0.004922            0.001908          -0.006457   \n",
       "8      Dogecoin           0.136843           -3.302346          -3.798250   \n",
       "9       Cardano           0.399842           -1.176673           0.065855   \n",
       "10         TRON          -0.048183            0.003916           2.114464   \n",
       "\n",
       "    percent_change_30d  percent_change_60d  percent_change_90d  \n",
       "1            12.757457           24.610176           13.927691  \n",
       "2            39.794561           26.117982           -5.148470  \n",
       "3            -0.014991            0.028329           -0.013933  \n",
       "4             4.963800           -2.963648           -5.979773  \n",
       "5            10.219053            7.628989            4.982428  \n",
       "6            13.302747           24.985409           12.985334  \n",
       "7            -0.003849           -0.002124           -0.006248  \n",
       "8            20.798547           13.025218           -2.734797  \n",
       "9             3.763610            2.899820            2.716070  \n",
       "10           11.740144           17.936722            9.747367  "
      ]
     },
     "execution_count": 25,
     "metadata": {},
     "output_type": "execute_result"
    }
   ],
   "source": [
    "heatmap_df = listings_df[['name','percent_change_1h', 'percent_change_24h', 'percent_change_7d',\n",
    "'percent_change_30d', 'percent_change_60d', 'percent_change_90d']].head(10)\n",
    "heatmap_df.index = heatmap_df.index+1\n",
    "heatmap_df\n"
   ]
  },
  {
   "cell_type": "code",
   "execution_count": 26,
   "id": "5ac6d074",
   "metadata": {},
   "outputs": [
    {
     "data": {
      "application/vnd.microsoft.datawrangler.viewer.v0+json": {
       "columns": [
        {
         "name": "index",
         "rawType": "int64",
         "type": "integer"
        },
        {
         "name": "name",
         "rawType": "object",
         "type": "string"
        },
        {
         "name": "Time Window",
         "rawType": "object",
         "type": "string"
        },
        {
         "name": "Percent Change",
         "rawType": "float64",
         "type": "float"
        }
       ],
       "ref": "e9969fc0-f4d2-454a-a224-fe9568fd4deb",
       "rows": [
        [
         "0",
         "Bitcoin",
         "percent_change_1h",
         "0.11322172"
        ],
        [
         "1",
         "Ethereum",
         "percent_change_1h",
         "0.14087323"
        ],
        [
         "2",
         "Tether USDt",
         "percent_change_1h",
         "-0.00766236"
        ],
        [
         "3",
         "XRP",
         "percent_change_1h",
         "0.20917353"
        ],
        [
         "4",
         "BNB",
         "percent_change_1h",
         "0.03310514"
        ],
        [
         "5",
         "Solana",
         "percent_change_1h",
         "0.42016527"
        ],
        [
         "6",
         "USDC",
         "percent_change_1h",
         "0.00492249"
        ],
        [
         "7",
         "Dogecoin",
         "percent_change_1h",
         "0.13684266"
        ],
        [
         "8",
         "Cardano",
         "percent_change_1h",
         "0.39984211"
        ],
        [
         "9",
         "TRON",
         "percent_change_1h",
         "-0.0481828"
        ],
        [
         "10",
         "Bitcoin",
         "percent_change_24h",
         "-1.3471241"
        ],
        [
         "11",
         "Ethereum",
         "percent_change_24h",
         "-1.4142518"
        ],
        [
         "12",
         "Tether USDt",
         "percent_change_24h",
         "0.01688786"
        ],
        [
         "13",
         "XRP",
         "percent_change_24h",
         "-1.84994509"
        ],
        [
         "14",
         "BNB",
         "percent_change_24h",
         "-1.48472887"
        ],
        [
         "15",
         "Solana",
         "percent_change_24h",
         "-2.95438088"
        ],
        [
         "16",
         "USDC",
         "percent_change_24h",
         "0.00190848"
        ],
        [
         "17",
         "Dogecoin",
         "percent_change_24h",
         "-3.30234595"
        ],
        [
         "18",
         "Cardano",
         "percent_change_24h",
         "-1.17667286"
        ],
        [
         "19",
         "TRON",
         "percent_change_24h",
         "0.00391649"
        ],
        [
         "20",
         "Bitcoin",
         "percent_change_7d",
         "2.81068093"
        ],
        [
         "21",
         "Ethereum",
         "percent_change_7d",
         "2.10791207"
        ],
        [
         "22",
         "Tether USDt",
         "percent_change_7d",
         "0.00499677"
        ],
        [
         "23",
         "XRP",
         "percent_change_7d",
         "-4.03548235"
        ],
        [
         "24",
         "BNB",
         "percent_change_7d",
         "3.30445217"
        ],
        [
         "25",
         "Solana",
         "percent_change_7d",
         "0.757709"
        ],
        [
         "26",
         "USDC",
         "percent_change_7d",
         "-0.00645667"
        ],
        [
         "27",
         "Dogecoin",
         "percent_change_7d",
         "-3.79825002"
        ],
        [
         "28",
         "Cardano",
         "percent_change_7d",
         "0.06585497"
        ],
        [
         "29",
         "TRON",
         "percent_change_7d",
         "2.11446438"
        ],
        [
         "30",
         "Bitcoin",
         "percent_change_30d",
         "12.75745719"
        ],
        [
         "31",
         "Ethereum",
         "percent_change_30d",
         "39.79456122"
        ],
        [
         "32",
         "Tether USDt",
         "percent_change_30d",
         "-0.0149913"
        ],
        [
         "33",
         "XRP",
         "percent_change_30d",
         "4.96380045"
        ],
        [
         "34",
         "BNB",
         "percent_change_30d",
         "10.2190531"
        ],
        [
         "35",
         "Solana",
         "percent_change_30d",
         "13.30274672"
        ],
        [
         "36",
         "USDC",
         "percent_change_30d",
         "-0.00384904"
        ],
        [
         "37",
         "Dogecoin",
         "percent_change_30d",
         "20.7985467"
        ],
        [
         "38",
         "Cardano",
         "percent_change_30d",
         "3.76361045"
        ],
        [
         "39",
         "TRON",
         "percent_change_30d",
         "11.74014445"
        ],
        [
         "40",
         "Bitcoin",
         "percent_change_60d",
         "24.61017595"
        ],
        [
         "41",
         "Ethereum",
         "percent_change_60d",
         "26.11798231"
        ],
        [
         "42",
         "Tether USDt",
         "percent_change_60d",
         "0.02832861"
        ],
        [
         "43",
         "XRP",
         "percent_change_60d",
         "-2.96364832"
        ],
        [
         "44",
         "BNB",
         "percent_change_60d",
         "7.62898899"
        ],
        [
         "45",
         "Solana",
         "percent_change_60d",
         "24.98540913"
        ],
        [
         "46",
         "USDC",
         "percent_change_60d",
         "-0.00212414"
        ],
        [
         "47",
         "Dogecoin",
         "percent_change_60d",
         "13.02521823"
        ],
        [
         "48",
         "Cardano",
         "percent_change_60d",
         "2.89982037"
        ],
        [
         "49",
         "TRON",
         "percent_change_60d",
         "17.93672187"
        ]
       ],
       "shape": {
        "columns": 3,
        "rows": 60
       }
      },
      "text/html": [
       "<div>\n",
       "<style scoped>\n",
       "    .dataframe tbody tr th:only-of-type {\n",
       "        vertical-align: middle;\n",
       "    }\n",
       "\n",
       "    .dataframe tbody tr th {\n",
       "        vertical-align: top;\n",
       "    }\n",
       "\n",
       "    .dataframe thead th {\n",
       "        text-align: right;\n",
       "    }\n",
       "</style>\n",
       "<table border=\"1\" class=\"dataframe\">\n",
       "  <thead>\n",
       "    <tr style=\"text-align: right;\">\n",
       "      <th></th>\n",
       "      <th>name</th>\n",
       "      <th>Time Window</th>\n",
       "      <th>Percent Change</th>\n",
       "    </tr>\n",
       "  </thead>\n",
       "  <tbody>\n",
       "    <tr>\n",
       "      <th>0</th>\n",
       "      <td>Bitcoin</td>\n",
       "      <td>percent_change_1h</td>\n",
       "      <td>0.113222</td>\n",
       "    </tr>\n",
       "    <tr>\n",
       "      <th>1</th>\n",
       "      <td>Ethereum</td>\n",
       "      <td>percent_change_1h</td>\n",
       "      <td>0.140873</td>\n",
       "    </tr>\n",
       "    <tr>\n",
       "      <th>2</th>\n",
       "      <td>Tether USDt</td>\n",
       "      <td>percent_change_1h</td>\n",
       "      <td>-0.007662</td>\n",
       "    </tr>\n",
       "    <tr>\n",
       "      <th>3</th>\n",
       "      <td>XRP</td>\n",
       "      <td>percent_change_1h</td>\n",
       "      <td>0.209174</td>\n",
       "    </tr>\n",
       "    <tr>\n",
       "      <th>4</th>\n",
       "      <td>BNB</td>\n",
       "      <td>percent_change_1h</td>\n",
       "      <td>0.033105</td>\n",
       "    </tr>\n",
       "    <tr>\n",
       "      <th>5</th>\n",
       "      <td>Solana</td>\n",
       "      <td>percent_change_1h</td>\n",
       "      <td>0.420165</td>\n",
       "    </tr>\n",
       "    <tr>\n",
       "      <th>6</th>\n",
       "      <td>USDC</td>\n",
       "      <td>percent_change_1h</td>\n",
       "      <td>0.004922</td>\n",
       "    </tr>\n",
       "    <tr>\n",
       "      <th>7</th>\n",
       "      <td>Dogecoin</td>\n",
       "      <td>percent_change_1h</td>\n",
       "      <td>0.136843</td>\n",
       "    </tr>\n",
       "    <tr>\n",
       "      <th>8</th>\n",
       "      <td>Cardano</td>\n",
       "      <td>percent_change_1h</td>\n",
       "      <td>0.399842</td>\n",
       "    </tr>\n",
       "    <tr>\n",
       "      <th>9</th>\n",
       "      <td>TRON</td>\n",
       "      <td>percent_change_1h</td>\n",
       "      <td>-0.048183</td>\n",
       "    </tr>\n",
       "    <tr>\n",
       "      <th>10</th>\n",
       "      <td>Bitcoin</td>\n",
       "      <td>percent_change_24h</td>\n",
       "      <td>-1.347124</td>\n",
       "    </tr>\n",
       "    <tr>\n",
       "      <th>11</th>\n",
       "      <td>Ethereum</td>\n",
       "      <td>percent_change_24h</td>\n",
       "      <td>-1.414252</td>\n",
       "    </tr>\n",
       "    <tr>\n",
       "      <th>12</th>\n",
       "      <td>Tether USDt</td>\n",
       "      <td>percent_change_24h</td>\n",
       "      <td>0.016888</td>\n",
       "    </tr>\n",
       "    <tr>\n",
       "      <th>13</th>\n",
       "      <td>XRP</td>\n",
       "      <td>percent_change_24h</td>\n",
       "      <td>-1.849945</td>\n",
       "    </tr>\n",
       "    <tr>\n",
       "      <th>14</th>\n",
       "      <td>BNB</td>\n",
       "      <td>percent_change_24h</td>\n",
       "      <td>-1.484729</td>\n",
       "    </tr>\n",
       "    <tr>\n",
       "      <th>15</th>\n",
       "      <td>Solana</td>\n",
       "      <td>percent_change_24h</td>\n",
       "      <td>-2.954381</td>\n",
       "    </tr>\n",
       "    <tr>\n",
       "      <th>16</th>\n",
       "      <td>USDC</td>\n",
       "      <td>percent_change_24h</td>\n",
       "      <td>0.001908</td>\n",
       "    </tr>\n",
       "    <tr>\n",
       "      <th>17</th>\n",
       "      <td>Dogecoin</td>\n",
       "      <td>percent_change_24h</td>\n",
       "      <td>-3.302346</td>\n",
       "    </tr>\n",
       "    <tr>\n",
       "      <th>18</th>\n",
       "      <td>Cardano</td>\n",
       "      <td>percent_change_24h</td>\n",
       "      <td>-1.176673</td>\n",
       "    </tr>\n",
       "    <tr>\n",
       "      <th>19</th>\n",
       "      <td>TRON</td>\n",
       "      <td>percent_change_24h</td>\n",
       "      <td>0.003916</td>\n",
       "    </tr>\n",
       "    <tr>\n",
       "      <th>20</th>\n",
       "      <td>Bitcoin</td>\n",
       "      <td>percent_change_7d</td>\n",
       "      <td>2.810681</td>\n",
       "    </tr>\n",
       "    <tr>\n",
       "      <th>21</th>\n",
       "      <td>Ethereum</td>\n",
       "      <td>percent_change_7d</td>\n",
       "      <td>2.107912</td>\n",
       "    </tr>\n",
       "    <tr>\n",
       "      <th>22</th>\n",
       "      <td>Tether USDt</td>\n",
       "      <td>percent_change_7d</td>\n",
       "      <td>0.004997</td>\n",
       "    </tr>\n",
       "    <tr>\n",
       "      <th>23</th>\n",
       "      <td>XRP</td>\n",
       "      <td>percent_change_7d</td>\n",
       "      <td>-4.035482</td>\n",
       "    </tr>\n",
       "    <tr>\n",
       "      <th>24</th>\n",
       "      <td>BNB</td>\n",
       "      <td>percent_change_7d</td>\n",
       "      <td>3.304452</td>\n",
       "    </tr>\n",
       "    <tr>\n",
       "      <th>25</th>\n",
       "      <td>Solana</td>\n",
       "      <td>percent_change_7d</td>\n",
       "      <td>0.757709</td>\n",
       "    </tr>\n",
       "    <tr>\n",
       "      <th>26</th>\n",
       "      <td>USDC</td>\n",
       "      <td>percent_change_7d</td>\n",
       "      <td>-0.006457</td>\n",
       "    </tr>\n",
       "    <tr>\n",
       "      <th>27</th>\n",
       "      <td>Dogecoin</td>\n",
       "      <td>percent_change_7d</td>\n",
       "      <td>-3.798250</td>\n",
       "    </tr>\n",
       "    <tr>\n",
       "      <th>28</th>\n",
       "      <td>Cardano</td>\n",
       "      <td>percent_change_7d</td>\n",
       "      <td>0.065855</td>\n",
       "    </tr>\n",
       "    <tr>\n",
       "      <th>29</th>\n",
       "      <td>TRON</td>\n",
       "      <td>percent_change_7d</td>\n",
       "      <td>2.114464</td>\n",
       "    </tr>\n",
       "    <tr>\n",
       "      <th>30</th>\n",
       "      <td>Bitcoin</td>\n",
       "      <td>percent_change_30d</td>\n",
       "      <td>12.757457</td>\n",
       "    </tr>\n",
       "    <tr>\n",
       "      <th>31</th>\n",
       "      <td>Ethereum</td>\n",
       "      <td>percent_change_30d</td>\n",
       "      <td>39.794561</td>\n",
       "    </tr>\n",
       "    <tr>\n",
       "      <th>32</th>\n",
       "      <td>Tether USDt</td>\n",
       "      <td>percent_change_30d</td>\n",
       "      <td>-0.014991</td>\n",
       "    </tr>\n",
       "    <tr>\n",
       "      <th>33</th>\n",
       "      <td>XRP</td>\n",
       "      <td>percent_change_30d</td>\n",
       "      <td>4.963800</td>\n",
       "    </tr>\n",
       "    <tr>\n",
       "      <th>34</th>\n",
       "      <td>BNB</td>\n",
       "      <td>percent_change_30d</td>\n",
       "      <td>10.219053</td>\n",
       "    </tr>\n",
       "    <tr>\n",
       "      <th>35</th>\n",
       "      <td>Solana</td>\n",
       "      <td>percent_change_30d</td>\n",
       "      <td>13.302747</td>\n",
       "    </tr>\n",
       "    <tr>\n",
       "      <th>36</th>\n",
       "      <td>USDC</td>\n",
       "      <td>percent_change_30d</td>\n",
       "      <td>-0.003849</td>\n",
       "    </tr>\n",
       "    <tr>\n",
       "      <th>37</th>\n",
       "      <td>Dogecoin</td>\n",
       "      <td>percent_change_30d</td>\n",
       "      <td>20.798547</td>\n",
       "    </tr>\n",
       "    <tr>\n",
       "      <th>38</th>\n",
       "      <td>Cardano</td>\n",
       "      <td>percent_change_30d</td>\n",
       "      <td>3.763610</td>\n",
       "    </tr>\n",
       "    <tr>\n",
       "      <th>39</th>\n",
       "      <td>TRON</td>\n",
       "      <td>percent_change_30d</td>\n",
       "      <td>11.740144</td>\n",
       "    </tr>\n",
       "    <tr>\n",
       "      <th>40</th>\n",
       "      <td>Bitcoin</td>\n",
       "      <td>percent_change_60d</td>\n",
       "      <td>24.610176</td>\n",
       "    </tr>\n",
       "    <tr>\n",
       "      <th>41</th>\n",
       "      <td>Ethereum</td>\n",
       "      <td>percent_change_60d</td>\n",
       "      <td>26.117982</td>\n",
       "    </tr>\n",
       "    <tr>\n",
       "      <th>42</th>\n",
       "      <td>Tether USDt</td>\n",
       "      <td>percent_change_60d</td>\n",
       "      <td>0.028329</td>\n",
       "    </tr>\n",
       "    <tr>\n",
       "      <th>43</th>\n",
       "      <td>XRP</td>\n",
       "      <td>percent_change_60d</td>\n",
       "      <td>-2.963648</td>\n",
       "    </tr>\n",
       "    <tr>\n",
       "      <th>44</th>\n",
       "      <td>BNB</td>\n",
       "      <td>percent_change_60d</td>\n",
       "      <td>7.628989</td>\n",
       "    </tr>\n",
       "    <tr>\n",
       "      <th>45</th>\n",
       "      <td>Solana</td>\n",
       "      <td>percent_change_60d</td>\n",
       "      <td>24.985409</td>\n",
       "    </tr>\n",
       "    <tr>\n",
       "      <th>46</th>\n",
       "      <td>USDC</td>\n",
       "      <td>percent_change_60d</td>\n",
       "      <td>-0.002124</td>\n",
       "    </tr>\n",
       "    <tr>\n",
       "      <th>47</th>\n",
       "      <td>Dogecoin</td>\n",
       "      <td>percent_change_60d</td>\n",
       "      <td>13.025218</td>\n",
       "    </tr>\n",
       "    <tr>\n",
       "      <th>48</th>\n",
       "      <td>Cardano</td>\n",
       "      <td>percent_change_60d</td>\n",
       "      <td>2.899820</td>\n",
       "    </tr>\n",
       "    <tr>\n",
       "      <th>49</th>\n",
       "      <td>TRON</td>\n",
       "      <td>percent_change_60d</td>\n",
       "      <td>17.936722</td>\n",
       "    </tr>\n",
       "    <tr>\n",
       "      <th>50</th>\n",
       "      <td>Bitcoin</td>\n",
       "      <td>percent_change_90d</td>\n",
       "      <td>13.927691</td>\n",
       "    </tr>\n",
       "    <tr>\n",
       "      <th>51</th>\n",
       "      <td>Ethereum</td>\n",
       "      <td>percent_change_90d</td>\n",
       "      <td>-5.148470</td>\n",
       "    </tr>\n",
       "    <tr>\n",
       "      <th>52</th>\n",
       "      <td>Tether USDt</td>\n",
       "      <td>percent_change_90d</td>\n",
       "      <td>-0.013933</td>\n",
       "    </tr>\n",
       "    <tr>\n",
       "      <th>53</th>\n",
       "      <td>XRP</td>\n",
       "      <td>percent_change_90d</td>\n",
       "      <td>-5.979773</td>\n",
       "    </tr>\n",
       "    <tr>\n",
       "      <th>54</th>\n",
       "      <td>BNB</td>\n",
       "      <td>percent_change_90d</td>\n",
       "      <td>4.982428</td>\n",
       "    </tr>\n",
       "    <tr>\n",
       "      <th>55</th>\n",
       "      <td>Solana</td>\n",
       "      <td>percent_change_90d</td>\n",
       "      <td>12.985334</td>\n",
       "    </tr>\n",
       "    <tr>\n",
       "      <th>56</th>\n",
       "      <td>USDC</td>\n",
       "      <td>percent_change_90d</td>\n",
       "      <td>-0.006248</td>\n",
       "    </tr>\n",
       "    <tr>\n",
       "      <th>57</th>\n",
       "      <td>Dogecoin</td>\n",
       "      <td>percent_change_90d</td>\n",
       "      <td>-2.734797</td>\n",
       "    </tr>\n",
       "    <tr>\n",
       "      <th>58</th>\n",
       "      <td>Cardano</td>\n",
       "      <td>percent_change_90d</td>\n",
       "      <td>2.716070</td>\n",
       "    </tr>\n",
       "    <tr>\n",
       "      <th>59</th>\n",
       "      <td>TRON</td>\n",
       "      <td>percent_change_90d</td>\n",
       "      <td>9.747367</td>\n",
       "    </tr>\n",
       "  </tbody>\n",
       "</table>\n",
       "</div>"
      ],
      "text/plain": [
       "           name         Time Window  Percent Change\n",
       "0       Bitcoin   percent_change_1h        0.113222\n",
       "1      Ethereum   percent_change_1h        0.140873\n",
       "2   Tether USDt   percent_change_1h       -0.007662\n",
       "3           XRP   percent_change_1h        0.209174\n",
       "4           BNB   percent_change_1h        0.033105\n",
       "5        Solana   percent_change_1h        0.420165\n",
       "6          USDC   percent_change_1h        0.004922\n",
       "7      Dogecoin   percent_change_1h        0.136843\n",
       "8       Cardano   percent_change_1h        0.399842\n",
       "9          TRON   percent_change_1h       -0.048183\n",
       "10      Bitcoin  percent_change_24h       -1.347124\n",
       "11     Ethereum  percent_change_24h       -1.414252\n",
       "12  Tether USDt  percent_change_24h        0.016888\n",
       "13          XRP  percent_change_24h       -1.849945\n",
       "14          BNB  percent_change_24h       -1.484729\n",
       "15       Solana  percent_change_24h       -2.954381\n",
       "16         USDC  percent_change_24h        0.001908\n",
       "17     Dogecoin  percent_change_24h       -3.302346\n",
       "18      Cardano  percent_change_24h       -1.176673\n",
       "19         TRON  percent_change_24h        0.003916\n",
       "20      Bitcoin   percent_change_7d        2.810681\n",
       "21     Ethereum   percent_change_7d        2.107912\n",
       "22  Tether USDt   percent_change_7d        0.004997\n",
       "23          XRP   percent_change_7d       -4.035482\n",
       "24          BNB   percent_change_7d        3.304452\n",
       "25       Solana   percent_change_7d        0.757709\n",
       "26         USDC   percent_change_7d       -0.006457\n",
       "27     Dogecoin   percent_change_7d       -3.798250\n",
       "28      Cardano   percent_change_7d        0.065855\n",
       "29         TRON   percent_change_7d        2.114464\n",
       "30      Bitcoin  percent_change_30d       12.757457\n",
       "31     Ethereum  percent_change_30d       39.794561\n",
       "32  Tether USDt  percent_change_30d       -0.014991\n",
       "33          XRP  percent_change_30d        4.963800\n",
       "34          BNB  percent_change_30d       10.219053\n",
       "35       Solana  percent_change_30d       13.302747\n",
       "36         USDC  percent_change_30d       -0.003849\n",
       "37     Dogecoin  percent_change_30d       20.798547\n",
       "38      Cardano  percent_change_30d        3.763610\n",
       "39         TRON  percent_change_30d       11.740144\n",
       "40      Bitcoin  percent_change_60d       24.610176\n",
       "41     Ethereum  percent_change_60d       26.117982\n",
       "42  Tether USDt  percent_change_60d        0.028329\n",
       "43          XRP  percent_change_60d       -2.963648\n",
       "44          BNB  percent_change_60d        7.628989\n",
       "45       Solana  percent_change_60d       24.985409\n",
       "46         USDC  percent_change_60d       -0.002124\n",
       "47     Dogecoin  percent_change_60d       13.025218\n",
       "48      Cardano  percent_change_60d        2.899820\n",
       "49         TRON  percent_change_60d       17.936722\n",
       "50      Bitcoin  percent_change_90d       13.927691\n",
       "51     Ethereum  percent_change_90d       -5.148470\n",
       "52  Tether USDt  percent_change_90d       -0.013933\n",
       "53          XRP  percent_change_90d       -5.979773\n",
       "54          BNB  percent_change_90d        4.982428\n",
       "55       Solana  percent_change_90d       12.985334\n",
       "56         USDC  percent_change_90d       -0.006248\n",
       "57     Dogecoin  percent_change_90d       -2.734797\n",
       "58      Cardano  percent_change_90d        2.716070\n",
       "59         TRON  percent_change_90d        9.747367"
      ]
     },
     "execution_count": 26,
     "metadata": {},
     "output_type": "execute_result"
    }
   ],
   "source": [
    "# Reshaping the dataframe into long format \n",
    "time_windows = [\n",
    "    'percent_change_1h', 'percent_change_24h', 'percent_change_7d',\n",
    "    'percent_change_30d', 'percent_change_60d', 'percent_change_90d'\n",
    "]\n",
    "df_long = heatmap_df.melt(id_vars='name', \n",
    "                          value_vars=time_windows,\n",
    "                          var_name='Time Window', \n",
    "                          value_name='Percent Change')\n",
    "\n",
    "df_long\n",
    "\n"
   ]
  },
  {
   "cell_type": "code",
   "execution_count": 27,
   "id": "e1d20319",
   "metadata": {},
   "outputs": [
    {
     "data": {
      "application/vnd.microsoft.datawrangler.viewer.v0+json": {
       "columns": [
        {
         "name": "name",
         "rawType": "object",
         "type": "string"
        },
        {
         "name": "percent_change_1h",
         "rawType": "float64",
         "type": "float"
        },
        {
         "name": "percent_change_24h",
         "rawType": "float64",
         "type": "float"
        },
        {
         "name": "percent_change_7d",
         "rawType": "float64",
         "type": "float"
        },
        {
         "name": "percent_change_30d",
         "rawType": "float64",
         "type": "float"
        },
        {
         "name": "percent_change_60d",
         "rawType": "float64",
         "type": "float"
        },
        {
         "name": "percent_change_90d",
         "rawType": "float64",
         "type": "float"
        }
       ],
       "ref": "b573c730-4b11-4902-a30b-c7096061d76d",
       "rows": [
        [
         "BNB",
         "0.03",
         "-1.48",
         "3.3",
         "10.22",
         "7.63",
         "4.98"
        ],
        [
         "Bitcoin",
         "0.11",
         "-1.35",
         "2.81",
         "12.76",
         "24.61",
         "13.93"
        ],
        [
         "Cardano",
         "0.4",
         "-1.18",
         "0.07",
         "3.76",
         "2.9",
         "2.72"
        ],
        [
         "Dogecoin",
         "0.14",
         "-3.3",
         "-3.8",
         "20.8",
         "13.03",
         "-2.73"
        ],
        [
         "Ethereum",
         "0.14",
         "-1.41",
         "2.11",
         "39.79",
         "26.12",
         "-5.15"
        ],
        [
         "Solana",
         "0.42",
         "-2.95",
         "0.76",
         "13.3",
         "24.99",
         "12.99"
        ],
        [
         "TRON",
         "-0.05",
         "0.0",
         "2.11",
         "11.74",
         "17.94",
         "9.75"
        ],
        [
         "Tether USDt",
         "-0.01",
         "0.02",
         "0.0",
         "-0.01",
         "0.03",
         "-0.01"
        ],
        [
         "USDC",
         "0.0",
         "0.0",
         "-0.01",
         "-0.0",
         "-0.0",
         "-0.01"
        ],
        [
         "XRP",
         "0.21",
         "-1.85",
         "-4.04",
         "4.96",
         "-2.96",
         "-5.98"
        ]
       ],
       "shape": {
        "columns": 6,
        "rows": 10
       }
      },
      "text/html": [
       "<div>\n",
       "<style scoped>\n",
       "    .dataframe tbody tr th:only-of-type {\n",
       "        vertical-align: middle;\n",
       "    }\n",
       "\n",
       "    .dataframe tbody tr th {\n",
       "        vertical-align: top;\n",
       "    }\n",
       "\n",
       "    .dataframe thead th {\n",
       "        text-align: right;\n",
       "    }\n",
       "</style>\n",
       "<table border=\"1\" class=\"dataframe\">\n",
       "  <thead>\n",
       "    <tr style=\"text-align: right;\">\n",
       "      <th>Time Window</th>\n",
       "      <th>percent_change_1h</th>\n",
       "      <th>percent_change_24h</th>\n",
       "      <th>percent_change_7d</th>\n",
       "      <th>percent_change_30d</th>\n",
       "      <th>percent_change_60d</th>\n",
       "      <th>percent_change_90d</th>\n",
       "    </tr>\n",
       "    <tr>\n",
       "      <th>name</th>\n",
       "      <th></th>\n",
       "      <th></th>\n",
       "      <th></th>\n",
       "      <th></th>\n",
       "      <th></th>\n",
       "      <th></th>\n",
       "    </tr>\n",
       "  </thead>\n",
       "  <tbody>\n",
       "    <tr>\n",
       "      <th>BNB</th>\n",
       "      <td>0.03</td>\n",
       "      <td>-1.48</td>\n",
       "      <td>3.30</td>\n",
       "      <td>10.22</td>\n",
       "      <td>7.63</td>\n",
       "      <td>4.98</td>\n",
       "    </tr>\n",
       "    <tr>\n",
       "      <th>Bitcoin</th>\n",
       "      <td>0.11</td>\n",
       "      <td>-1.35</td>\n",
       "      <td>2.81</td>\n",
       "      <td>12.76</td>\n",
       "      <td>24.61</td>\n",
       "      <td>13.93</td>\n",
       "    </tr>\n",
       "    <tr>\n",
       "      <th>Cardano</th>\n",
       "      <td>0.40</td>\n",
       "      <td>-1.18</td>\n",
       "      <td>0.07</td>\n",
       "      <td>3.76</td>\n",
       "      <td>2.90</td>\n",
       "      <td>2.72</td>\n",
       "    </tr>\n",
       "    <tr>\n",
       "      <th>Dogecoin</th>\n",
       "      <td>0.14</td>\n",
       "      <td>-3.30</td>\n",
       "      <td>-3.80</td>\n",
       "      <td>20.80</td>\n",
       "      <td>13.03</td>\n",
       "      <td>-2.73</td>\n",
       "    </tr>\n",
       "    <tr>\n",
       "      <th>Ethereum</th>\n",
       "      <td>0.14</td>\n",
       "      <td>-1.41</td>\n",
       "      <td>2.11</td>\n",
       "      <td>39.79</td>\n",
       "      <td>26.12</td>\n",
       "      <td>-5.15</td>\n",
       "    </tr>\n",
       "    <tr>\n",
       "      <th>Solana</th>\n",
       "      <td>0.42</td>\n",
       "      <td>-2.95</td>\n",
       "      <td>0.76</td>\n",
       "      <td>13.30</td>\n",
       "      <td>24.99</td>\n",
       "      <td>12.99</td>\n",
       "    </tr>\n",
       "    <tr>\n",
       "      <th>TRON</th>\n",
       "      <td>-0.05</td>\n",
       "      <td>0.00</td>\n",
       "      <td>2.11</td>\n",
       "      <td>11.74</td>\n",
       "      <td>17.94</td>\n",
       "      <td>9.75</td>\n",
       "    </tr>\n",
       "    <tr>\n",
       "      <th>Tether USDt</th>\n",
       "      <td>-0.01</td>\n",
       "      <td>0.02</td>\n",
       "      <td>0.00</td>\n",
       "      <td>-0.01</td>\n",
       "      <td>0.03</td>\n",
       "      <td>-0.01</td>\n",
       "    </tr>\n",
       "    <tr>\n",
       "      <th>USDC</th>\n",
       "      <td>0.00</td>\n",
       "      <td>0.00</td>\n",
       "      <td>-0.01</td>\n",
       "      <td>-0.00</td>\n",
       "      <td>-0.00</td>\n",
       "      <td>-0.01</td>\n",
       "    </tr>\n",
       "    <tr>\n",
       "      <th>XRP</th>\n",
       "      <td>0.21</td>\n",
       "      <td>-1.85</td>\n",
       "      <td>-4.04</td>\n",
       "      <td>4.96</td>\n",
       "      <td>-2.96</td>\n",
       "      <td>-5.98</td>\n",
       "    </tr>\n",
       "  </tbody>\n",
       "</table>\n",
       "</div>"
      ],
      "text/plain": [
       "Time Window  percent_change_1h  percent_change_24h  percent_change_7d  \\\n",
       "name                                                                    \n",
       "BNB                       0.03               -1.48               3.30   \n",
       "Bitcoin                   0.11               -1.35               2.81   \n",
       "Cardano                   0.40               -1.18               0.07   \n",
       "Dogecoin                  0.14               -3.30              -3.80   \n",
       "Ethereum                  0.14               -1.41               2.11   \n",
       "Solana                    0.42               -2.95               0.76   \n",
       "TRON                     -0.05                0.00               2.11   \n",
       "Tether USDt              -0.01                0.02               0.00   \n",
       "USDC                      0.00                0.00              -0.01   \n",
       "XRP                       0.21               -1.85              -4.04   \n",
       "\n",
       "Time Window  percent_change_30d  percent_change_60d  percent_change_90d  \n",
       "name                                                                     \n",
       "BNB                       10.22                7.63                4.98  \n",
       "Bitcoin                   12.76               24.61               13.93  \n",
       "Cardano                    3.76                2.90                2.72  \n",
       "Dogecoin                  20.80               13.03               -2.73  \n",
       "Ethereum                  39.79               26.12               -5.15  \n",
       "Solana                    13.30               24.99               12.99  \n",
       "TRON                      11.74               17.94                9.75  \n",
       "Tether USDt               -0.01                0.03               -0.01  \n",
       "USDC                      -0.00               -0.00               -0.01  \n",
       "XRP                        4.96               -2.96               -5.98  "
      ]
     },
     "execution_count": 27,
     "metadata": {},
     "output_type": "execute_result"
    }
   ],
   "source": [
    "# pivot long format back to wide format\n",
    "df_pivot = df_long.pivot(index='name', columns='Time Window', values='Percent Change')\n",
    "col = df_pivot.pop('percent_change_7d') \n",
    "df_pivot.insert(2, 'percent_change_7d', col) \n",
    "df_pivot_rounded = df_pivot.round(2)\n",
    "df_pivot_rounded\n"
   ]
  },
  {
   "cell_type": "code",
   "execution_count": 28,
   "id": "bb2948d7",
   "metadata": {},
   "outputs": [
    {
     "data": {
      "application/vnd.plotly.v1+json": {
       "config": {
        "plotlyServerURL": "https://plot.ly"
       },
       "data": [
        {
         "coloraxis": "coloraxis",
         "hovertemplate": "Time Window: %{x}<br>Coin: %{y}<br>Percent Change: %{z}<extra></extra>",
         "name": "0",
         "texttemplate": "%{z}",
         "type": "heatmap",
         "x": [
          "percent_change_1h",
          "percent_change_24h",
          "percent_change_7d",
          "percent_change_30d",
          "percent_change_60d",
          "percent_change_90d"
         ],
         "xaxis": "x",
         "y": [
          "BNB",
          "Bitcoin",
          "Cardano",
          "Dogecoin",
          "Ethereum",
          "Solana",
          "TRON",
          "Tether USDt",
          "USDC",
          "XRP"
         ],
         "yaxis": "y",
         "z": [
          [
           0.03,
           -1.48,
           3.3,
           10.22,
           7.63,
           4.98
          ],
          [
           0.11,
           -1.35,
           2.81,
           12.76,
           24.61,
           13.93
          ],
          [
           0.4,
           -1.18,
           0.07,
           3.76,
           2.9,
           2.72
          ],
          [
           0.14,
           -3.3,
           -3.8,
           20.8,
           13.03,
           -2.73
          ],
          [
           0.14,
           -1.41,
           2.11,
           39.79,
           26.12,
           -5.15
          ],
          [
           0.42,
           -2.95,
           0.76,
           13.3,
           24.99,
           12.99
          ],
          [
           -0.05,
           0,
           2.11,
           11.74,
           17.94,
           9.75
          ],
          [
           -0.01,
           0.02,
           0,
           -0.01,
           0.03,
           -0.01
          ],
          [
           0,
           0,
           -0.01,
           0,
           0,
           -0.01
          ],
          [
           0.21,
           -1.85,
           -4.04,
           4.96,
           -2.96,
           -5.98
          ]
         ]
        }
       ],
       "layout": {
        "coloraxis": {
         "cmax": 39.79,
         "cmin": -39.79,
         "colorbar": {
          "title": {
           "text": "Percent Change"
          }
         },
         "colorscale": [
          [
           0,
           "darkred"
          ],
          [
           0.2,
           "red"
          ],
          [
           0.4,
           "lightcoral"
          ],
          [
           0.5,
           "white"
          ],
          [
           0.6,
           "lightgreen"
          ],
          [
           0.8,
           "green"
          ],
          [
           1,
           "darkgreen"
          ]
         ]
        },
        "template": {
         "data": {
          "bar": [
           {
            "error_x": {
             "color": "#2a3f5f"
            },
            "error_y": {
             "color": "#2a3f5f"
            },
            "marker": {
             "line": {
              "color": "#E5ECF6",
              "width": 0.5
             },
             "pattern": {
              "fillmode": "overlay",
              "size": 10,
              "solidity": 0.2
             }
            },
            "type": "bar"
           }
          ],
          "barpolar": [
           {
            "marker": {
             "line": {
              "color": "#E5ECF6",
              "width": 0.5
             },
             "pattern": {
              "fillmode": "overlay",
              "size": 10,
              "solidity": 0.2
             }
            },
            "type": "barpolar"
           }
          ],
          "carpet": [
           {
            "aaxis": {
             "endlinecolor": "#2a3f5f",
             "gridcolor": "white",
             "linecolor": "white",
             "minorgridcolor": "white",
             "startlinecolor": "#2a3f5f"
            },
            "baxis": {
             "endlinecolor": "#2a3f5f",
             "gridcolor": "white",
             "linecolor": "white",
             "minorgridcolor": "white",
             "startlinecolor": "#2a3f5f"
            },
            "type": "carpet"
           }
          ],
          "choropleth": [
           {
            "colorbar": {
             "outlinewidth": 0,
             "ticks": ""
            },
            "type": "choropleth"
           }
          ],
          "contour": [
           {
            "colorbar": {
             "outlinewidth": 0,
             "ticks": ""
            },
            "colorscale": [
             [
              0,
              "#0d0887"
             ],
             [
              0.1111111111111111,
              "#46039f"
             ],
             [
              0.2222222222222222,
              "#7201a8"
             ],
             [
              0.3333333333333333,
              "#9c179e"
             ],
             [
              0.4444444444444444,
              "#bd3786"
             ],
             [
              0.5555555555555556,
              "#d8576b"
             ],
             [
              0.6666666666666666,
              "#ed7953"
             ],
             [
              0.7777777777777778,
              "#fb9f3a"
             ],
             [
              0.8888888888888888,
              "#fdca26"
             ],
             [
              1,
              "#f0f921"
             ]
            ],
            "type": "contour"
           }
          ],
          "contourcarpet": [
           {
            "colorbar": {
             "outlinewidth": 0,
             "ticks": ""
            },
            "type": "contourcarpet"
           }
          ],
          "heatmap": [
           {
            "colorbar": {
             "outlinewidth": 0,
             "ticks": ""
            },
            "colorscale": [
             [
              0,
              "#0d0887"
             ],
             [
              0.1111111111111111,
              "#46039f"
             ],
             [
              0.2222222222222222,
              "#7201a8"
             ],
             [
              0.3333333333333333,
              "#9c179e"
             ],
             [
              0.4444444444444444,
              "#bd3786"
             ],
             [
              0.5555555555555556,
              "#d8576b"
             ],
             [
              0.6666666666666666,
              "#ed7953"
             ],
             [
              0.7777777777777778,
              "#fb9f3a"
             ],
             [
              0.8888888888888888,
              "#fdca26"
             ],
             [
              1,
              "#f0f921"
             ]
            ],
            "type": "heatmap"
           }
          ],
          "heatmapgl": [
           {
            "colorbar": {
             "outlinewidth": 0,
             "ticks": ""
            },
            "colorscale": [
             [
              0,
              "#0d0887"
             ],
             [
              0.1111111111111111,
              "#46039f"
             ],
             [
              0.2222222222222222,
              "#7201a8"
             ],
             [
              0.3333333333333333,
              "#9c179e"
             ],
             [
              0.4444444444444444,
              "#bd3786"
             ],
             [
              0.5555555555555556,
              "#d8576b"
             ],
             [
              0.6666666666666666,
              "#ed7953"
             ],
             [
              0.7777777777777778,
              "#fb9f3a"
             ],
             [
              0.8888888888888888,
              "#fdca26"
             ],
             [
              1,
              "#f0f921"
             ]
            ],
            "type": "heatmapgl"
           }
          ],
          "histogram": [
           {
            "marker": {
             "pattern": {
              "fillmode": "overlay",
              "size": 10,
              "solidity": 0.2
             }
            },
            "type": "histogram"
           }
          ],
          "histogram2d": [
           {
            "colorbar": {
             "outlinewidth": 0,
             "ticks": ""
            },
            "colorscale": [
             [
              0,
              "#0d0887"
             ],
             [
              0.1111111111111111,
              "#46039f"
             ],
             [
              0.2222222222222222,
              "#7201a8"
             ],
             [
              0.3333333333333333,
              "#9c179e"
             ],
             [
              0.4444444444444444,
              "#bd3786"
             ],
             [
              0.5555555555555556,
              "#d8576b"
             ],
             [
              0.6666666666666666,
              "#ed7953"
             ],
             [
              0.7777777777777778,
              "#fb9f3a"
             ],
             [
              0.8888888888888888,
              "#fdca26"
             ],
             [
              1,
              "#f0f921"
             ]
            ],
            "type": "histogram2d"
           }
          ],
          "histogram2dcontour": [
           {
            "colorbar": {
             "outlinewidth": 0,
             "ticks": ""
            },
            "colorscale": [
             [
              0,
              "#0d0887"
             ],
             [
              0.1111111111111111,
              "#46039f"
             ],
             [
              0.2222222222222222,
              "#7201a8"
             ],
             [
              0.3333333333333333,
              "#9c179e"
             ],
             [
              0.4444444444444444,
              "#bd3786"
             ],
             [
              0.5555555555555556,
              "#d8576b"
             ],
             [
              0.6666666666666666,
              "#ed7953"
             ],
             [
              0.7777777777777778,
              "#fb9f3a"
             ],
             [
              0.8888888888888888,
              "#fdca26"
             ],
             [
              1,
              "#f0f921"
             ]
            ],
            "type": "histogram2dcontour"
           }
          ],
          "mesh3d": [
           {
            "colorbar": {
             "outlinewidth": 0,
             "ticks": ""
            },
            "type": "mesh3d"
           }
          ],
          "parcoords": [
           {
            "line": {
             "colorbar": {
              "outlinewidth": 0,
              "ticks": ""
             }
            },
            "type": "parcoords"
           }
          ],
          "pie": [
           {
            "automargin": true,
            "type": "pie"
           }
          ],
          "scatter": [
           {
            "fillpattern": {
             "fillmode": "overlay",
             "size": 10,
             "solidity": 0.2
            },
            "type": "scatter"
           }
          ],
          "scatter3d": [
           {
            "line": {
             "colorbar": {
              "outlinewidth": 0,
              "ticks": ""
             }
            },
            "marker": {
             "colorbar": {
              "outlinewidth": 0,
              "ticks": ""
             }
            },
            "type": "scatter3d"
           }
          ],
          "scattercarpet": [
           {
            "marker": {
             "colorbar": {
              "outlinewidth": 0,
              "ticks": ""
             }
            },
            "type": "scattercarpet"
           }
          ],
          "scattergeo": [
           {
            "marker": {
             "colorbar": {
              "outlinewidth": 0,
              "ticks": ""
             }
            },
            "type": "scattergeo"
           }
          ],
          "scattergl": [
           {
            "marker": {
             "colorbar": {
              "outlinewidth": 0,
              "ticks": ""
             }
            },
            "type": "scattergl"
           }
          ],
          "scattermapbox": [
           {
            "marker": {
             "colorbar": {
              "outlinewidth": 0,
              "ticks": ""
             }
            },
            "type": "scattermapbox"
           }
          ],
          "scatterpolar": [
           {
            "marker": {
             "colorbar": {
              "outlinewidth": 0,
              "ticks": ""
             }
            },
            "type": "scatterpolar"
           }
          ],
          "scatterpolargl": [
           {
            "marker": {
             "colorbar": {
              "outlinewidth": 0,
              "ticks": ""
             }
            },
            "type": "scatterpolargl"
           }
          ],
          "scatterternary": [
           {
            "marker": {
             "colorbar": {
              "outlinewidth": 0,
              "ticks": ""
             }
            },
            "type": "scatterternary"
           }
          ],
          "surface": [
           {
            "colorbar": {
             "outlinewidth": 0,
             "ticks": ""
            },
            "colorscale": [
             [
              0,
              "#0d0887"
             ],
             [
              0.1111111111111111,
              "#46039f"
             ],
             [
              0.2222222222222222,
              "#7201a8"
             ],
             [
              0.3333333333333333,
              "#9c179e"
             ],
             [
              0.4444444444444444,
              "#bd3786"
             ],
             [
              0.5555555555555556,
              "#d8576b"
             ],
             [
              0.6666666666666666,
              "#ed7953"
             ],
             [
              0.7777777777777778,
              "#fb9f3a"
             ],
             [
              0.8888888888888888,
              "#fdca26"
             ],
             [
              1,
              "#f0f921"
             ]
            ],
            "type": "surface"
           }
          ],
          "table": [
           {
            "cells": {
             "fill": {
              "color": "#EBF0F8"
             },
             "line": {
              "color": "white"
             }
            },
            "header": {
             "fill": {
              "color": "#C8D4E3"
             },
             "line": {
              "color": "white"
             }
            },
            "type": "table"
           }
          ]
         },
         "layout": {
          "annotationdefaults": {
           "arrowcolor": "#2a3f5f",
           "arrowhead": 0,
           "arrowwidth": 1
          },
          "autotypenumbers": "strict",
          "coloraxis": {
           "colorbar": {
            "outlinewidth": 0,
            "ticks": ""
           }
          },
          "colorscale": {
           "diverging": [
            [
             0,
             "#8e0152"
            ],
            [
             0.1,
             "#c51b7d"
            ],
            [
             0.2,
             "#de77ae"
            ],
            [
             0.3,
             "#f1b6da"
            ],
            [
             0.4,
             "#fde0ef"
            ],
            [
             0.5,
             "#f7f7f7"
            ],
            [
             0.6,
             "#e6f5d0"
            ],
            [
             0.7,
             "#b8e186"
            ],
            [
             0.8,
             "#7fbc41"
            ],
            [
             0.9,
             "#4d9221"
            ],
            [
             1,
             "#276419"
            ]
           ],
           "sequential": [
            [
             0,
             "#0d0887"
            ],
            [
             0.1111111111111111,
             "#46039f"
            ],
            [
             0.2222222222222222,
             "#7201a8"
            ],
            [
             0.3333333333333333,
             "#9c179e"
            ],
            [
             0.4444444444444444,
             "#bd3786"
            ],
            [
             0.5555555555555556,
             "#d8576b"
            ],
            [
             0.6666666666666666,
             "#ed7953"
            ],
            [
             0.7777777777777778,
             "#fb9f3a"
            ],
            [
             0.8888888888888888,
             "#fdca26"
            ],
            [
             1,
             "#f0f921"
            ]
           ],
           "sequentialminus": [
            [
             0,
             "#0d0887"
            ],
            [
             0.1111111111111111,
             "#46039f"
            ],
            [
             0.2222222222222222,
             "#7201a8"
            ],
            [
             0.3333333333333333,
             "#9c179e"
            ],
            [
             0.4444444444444444,
             "#bd3786"
            ],
            [
             0.5555555555555556,
             "#d8576b"
            ],
            [
             0.6666666666666666,
             "#ed7953"
            ],
            [
             0.7777777777777778,
             "#fb9f3a"
            ],
            [
             0.8888888888888888,
             "#fdca26"
            ],
            [
             1,
             "#f0f921"
            ]
           ]
          },
          "colorway": [
           "#636efa",
           "#EF553B",
           "#00cc96",
           "#ab63fa",
           "#FFA15A",
           "#19d3f3",
           "#FF6692",
           "#B6E880",
           "#FF97FF",
           "#FECB52"
          ],
          "font": {
           "color": "#2a3f5f"
          },
          "geo": {
           "bgcolor": "white",
           "lakecolor": "white",
           "landcolor": "#E5ECF6",
           "showlakes": true,
           "showland": true,
           "subunitcolor": "white"
          },
          "hoverlabel": {
           "align": "left"
          },
          "hovermode": "closest",
          "mapbox": {
           "style": "light"
          },
          "paper_bgcolor": "white",
          "plot_bgcolor": "#E5ECF6",
          "polar": {
           "angularaxis": {
            "gridcolor": "white",
            "linecolor": "white",
            "ticks": ""
           },
           "bgcolor": "#E5ECF6",
           "radialaxis": {
            "gridcolor": "white",
            "linecolor": "white",
            "ticks": ""
           }
          },
          "scene": {
           "xaxis": {
            "backgroundcolor": "#E5ECF6",
            "gridcolor": "white",
            "gridwidth": 2,
            "linecolor": "white",
            "showbackground": true,
            "ticks": "",
            "zerolinecolor": "white"
           },
           "yaxis": {
            "backgroundcolor": "#E5ECF6",
            "gridcolor": "white",
            "gridwidth": 2,
            "linecolor": "white",
            "showbackground": true,
            "ticks": "",
            "zerolinecolor": "white"
           },
           "zaxis": {
            "backgroundcolor": "#E5ECF6",
            "gridcolor": "white",
            "gridwidth": 2,
            "linecolor": "white",
            "showbackground": true,
            "ticks": "",
            "zerolinecolor": "white"
           }
          },
          "shapedefaults": {
           "line": {
            "color": "#2a3f5f"
           }
          },
          "ternary": {
           "aaxis": {
            "gridcolor": "white",
            "linecolor": "white",
            "ticks": ""
           },
           "baxis": {
            "gridcolor": "white",
            "linecolor": "white",
            "ticks": ""
           },
           "bgcolor": "#E5ECF6",
           "caxis": {
            "gridcolor": "white",
            "linecolor": "white",
            "ticks": ""
           }
          },
          "title": {
           "x": 0.05
          },
          "xaxis": {
           "automargin": true,
           "gridcolor": "white",
           "linecolor": "white",
           "ticks": "",
           "title": {
            "standoff": 15
           },
           "zerolinecolor": "white",
           "zerolinewidth": 2
          },
          "yaxis": {
           "automargin": true,
           "gridcolor": "white",
           "linecolor": "white",
           "ticks": "",
           "title": {
            "standoff": 15
           },
           "zerolinecolor": "white",
           "zerolinewidth": 2
          }
         }
        },
        "title": {
         "text": "Percent Change Heatmap"
        },
        "xaxis": {
         "anchor": "y",
         "domain": [
          0,
          1
         ],
         "title": {
          "text": "Time Window"
         }
        },
        "yaxis": {
         "anchor": "x",
         "autorange": true,
         "domain": [
          0,
          1
         ],
         "title": {
          "text": "Coin"
         }
        }
       }
      }
     },
     "metadata": {},
     "output_type": "display_data"
    }
   ],
   "source": [
    "# creating custom red/green palette\n",
    "custom_scale = [\n",
    "    [0.0, 'darkred'],\n",
    "    [0.2, 'red'], \n",
    "    [0.4, 'lightcoral'],\n",
    "    [0.5, 'white'],\n",
    "    [0.6, 'lightgreen'],\n",
    "    [0.8, 'green'],\n",
    "    [1.0, 'darkgreen']\n",
    "]\n",
    "\n",
    "# creating heatmap \n",
    "fig = px.imshow(\n",
    "    df_pivot_rounded,\n",
    "    text_auto=True,\n",
    "    color_continuous_scale=custom_scale,\n",
    "    zmin=-max(abs(df_pivot_rounded.min().min()), abs(df_pivot_rounded.max().max())),  \n",
    "    zmax=max(abs(df_pivot_rounded.min().min()), abs(df_pivot_rounded.max().max())),\n",
    "    labels=dict(x=\"Time Window\", y=\"Coin\", color=\"Percent Change\"),\n",
    "    aspect=\"auto\",\n",
    "    origin='lower',\n",
    "    title='Percent Change Heatmap'\n",
    ")\n",
    "\n",
    "fig.show()"
   ]
  },
  {
   "cell_type": "code",
   "execution_count": 29,
   "id": "930edc03",
   "metadata": {},
   "outputs": [
    {
     "data": {
      "application/vnd.microsoft.datawrangler.viewer.v0+json": {
       "columns": [
        {
         "name": "index",
         "rawType": "int64",
         "type": "integer"
        },
        {
         "name": "id",
         "rawType": "int64",
         "type": "integer"
        },
        {
         "name": "name",
         "rawType": "object",
         "type": "string"
        },
        {
         "name": "symbol",
         "rawType": "object",
         "type": "string"
        },
        {
         "name": "slug",
         "rawType": "object",
         "type": "string"
        },
        {
         "name": "num_market_pairs",
         "rawType": "int64",
         "type": "integer"
        },
        {
         "name": "date_added",
         "rawType": "object",
         "type": "string"
        },
        {
         "name": "tags",
         "rawType": "object",
         "type": "unknown"
        },
        {
         "name": "max_supply",
         "rawType": "float64",
         "type": "float"
        },
        {
         "name": "circulating_supply",
         "rawType": "float64",
         "type": "float"
        },
        {
         "name": "total_supply",
         "rawType": "float64",
         "type": "float"
        },
        {
         "name": "infinite_supply",
         "rawType": "bool",
         "type": "boolean"
        },
        {
         "name": "platform",
         "rawType": "object",
         "type": "unknown"
        },
        {
         "name": "cmc_rank",
         "rawType": "int64",
         "type": "integer"
        },
        {
         "name": "self_reported_circulating_supply",
         "rawType": "float64",
         "type": "float"
        },
        {
         "name": "self_reported_market_cap",
         "rawType": "float64",
         "type": "float"
        },
        {
         "name": "tvl_ratio",
         "rawType": "float64",
         "type": "float"
        },
        {
         "name": "last_updated",
         "rawType": "object",
         "type": "string"
        },
        {
         "name": "price",
         "rawType": "float64",
         "type": "float"
        },
        {
         "name": "volume_24h",
         "rawType": "float64",
         "type": "float"
        },
        {
         "name": "volume_change_24h",
         "rawType": "float64",
         "type": "float"
        },
        {
         "name": "percent_change_1h",
         "rawType": "float64",
         "type": "float"
        },
        {
         "name": "percent_change_24h",
         "rawType": "float64",
         "type": "float"
        },
        {
         "name": "percent_change_7d",
         "rawType": "float64",
         "type": "float"
        },
        {
         "name": "percent_change_30d",
         "rawType": "float64",
         "type": "float"
        },
        {
         "name": "percent_change_60d",
         "rawType": "float64",
         "type": "float"
        },
        {
         "name": "percent_change_90d",
         "rawType": "float64",
         "type": "float"
        },
        {
         "name": "market_cap",
         "rawType": "float64",
         "type": "float"
        },
        {
         "name": "market_cap_dominance",
         "rawType": "float64",
         "type": "float"
        },
        {
         "name": "fully_diluted_market_cap",
         "rawType": "float64",
         "type": "float"
        },
        {
         "name": "tvl",
         "rawType": "float64",
         "type": "float"
        },
        {
         "name": "last_updated.1",
         "rawType": "object",
         "type": "string"
        }
       ],
       "ref": "520606ce-c915-4e67-aef0-cdff2cddeee3",
       "rows": [
        [
         "1",
         "1027",
         "Ethereum",
         "ETH",
         "ethereum",
         "10316",
         "2015-08-07T00:00:00.000Z",
         "['pos', 'smart-contracts', 'ethereum-ecosystem', 'coinbase-ventures-portfolio', 'three-arrows-capital-portfolio', 'polychain-capital-portfolio', 'binance-labs-portfolio', 'blockchain-capital-portfolio', 'boostvc-portfolio', 'cms-holdings-portfolio', 'dcg-portfolio', 'dragonfly-capital-portfolio', 'electric-capital-portfolio', 'fabric-ventures-portfolio', 'framework-ventures-portfolio', 'hashkey-capital-portfolio', 'kenetic-capital-portfolio', 'huobi-capital-portfolio', 'alameda-research-portfolio', 'a16z-portfolio', '1confirmation-portfolio', 'winklevoss-capital-portfolio', 'usv-portfolio', 'placeholder-ventures-portfolio', 'pantera-capital-portfolio', 'multicoin-capital-portfolio', 'paradigm-portfolio', 'ethereum-pow-ecosystem', 'layer-1', 'ftx-bankruptcy-estate', 'sora-ecosystem', 'rsk-rbtc-ecosystem', 'world-liberty-financial-portfolio', 'us-strategic-crypto-reserve', 'binance-ecosystem']",
         null,
         "120725247.07261096",
         "120725247.07261096",
         "True",
         null,
         "2",
         null,
         null,
         null,
         "2025-05-28T18:37:00.000Z",
         "2645.564544334942",
         "18576117836.57413",
         "-24.8392",
         "-0.08889756",
         "-1.47078358",
         "6.52276857",
         "49.48950057",
         "45.09392692",
         "13.86422657",
         "319386433261.37537",
         "9.4025",
         "319386433261.38",
         null,
         "2025-05-28T18:37:00.000Z"
        ],
        [
         "31",
         "1027",
         "Ethereum",
         "ETH",
         "ethereum",
         "10316",
         "2015-08-07T00:00:00.000Z",
         "['pos', 'smart-contracts', 'ethereum-ecosystem', 'coinbase-ventures-portfolio', 'three-arrows-capital-portfolio', 'polychain-capital-portfolio', 'binance-labs-portfolio', 'blockchain-capital-portfolio', 'boostvc-portfolio', 'cms-holdings-portfolio', 'dcg-portfolio', 'dragonfly-capital-portfolio', 'electric-capital-portfolio', 'fabric-ventures-portfolio', 'framework-ventures-portfolio', 'hashkey-capital-portfolio', 'kenetic-capital-portfolio', 'huobi-capital-portfolio', 'alameda-research-portfolio', 'a16z-portfolio', '1confirmation-portfolio', 'winklevoss-capital-portfolio', 'usv-portfolio', 'placeholder-ventures-portfolio', 'pantera-capital-portfolio', 'multicoin-capital-portfolio', 'paradigm-portfolio', 'ethereum-pow-ecosystem', 'layer-1', 'ftx-bankruptcy-estate', 'sora-ecosystem', 'rsk-rbtc-ecosystem', 'world-liberty-financial-portfolio', 'us-strategic-crypto-reserve', 'binance-ecosystem']",
         null,
         "120725247.07261096",
         "120725247.07261096",
         "True",
         null,
         "2",
         null,
         null,
         null,
         "2025-05-28T18:38:00.000Z",
         "2647.0521521847654",
         "18492153995.799187",
         "-25.6534",
         "0.00318274",
         "-1.48138531",
         "6.74640783",
         "49.43619136",
         "44.97621757",
         "13.92072357",
         "319566025086.5924",
         "9.4078",
         "319566025086.59",
         null,
         "2025-05-28T18:38:00.000Z"
        ],
        [
         "61",
         "1027",
         "Ethereum",
         "ETH",
         "ethereum",
         "10316",
         "2015-08-07T00:00:00.000Z",
         "['pos', 'smart-contracts', 'ethereum-ecosystem', 'coinbase-ventures-portfolio', 'three-arrows-capital-portfolio', 'polychain-capital-portfolio', 'binance-labs-portfolio', 'blockchain-capital-portfolio', 'boostvc-portfolio', 'cms-holdings-portfolio', 'dcg-portfolio', 'dragonfly-capital-portfolio', 'electric-capital-portfolio', 'fabric-ventures-portfolio', 'framework-ventures-portfolio', 'hashkey-capital-portfolio', 'kenetic-capital-portfolio', 'huobi-capital-portfolio', 'alameda-research-portfolio', 'a16z-portfolio', '1confirmation-portfolio', 'winklevoss-capital-portfolio', 'usv-portfolio', 'placeholder-ventures-portfolio', 'pantera-capital-portfolio', 'multicoin-capital-portfolio', 'paradigm-portfolio', 'ethereum-pow-ecosystem', 'layer-1', 'ftx-bankruptcy-estate', 'sora-ecosystem', 'rsk-rbtc-ecosystem', 'world-liberty-financial-portfolio', 'us-strategic-crypto-reserve', 'binance-ecosystem']",
         null,
         "120725247.07261096",
         "120725247.07261096",
         "True",
         null,
         "2",
         null,
         null,
         null,
         "2025-05-28T18:39:00.000Z",
         "2647.94731692808",
         "18365119901.017715",
         "-26.0475",
         "0.04743334",
         "-1.48449717",
         "6.64478736",
         "49.44232544",
         "45.11423638",
         "14.00654938",
         "319674094071.3997",
         "9.411",
         "319674094071.4",
         null,
         "2025-05-28T18:39:00.000Z"
        ],
        [
         "91",
         "1027",
         "Ethereum",
         "ETH",
         "ethereum",
         "10316",
         "2015-08-07T00:00:00.000Z",
         "['pos', 'smart-contracts', 'ethereum-ecosystem', 'coinbase-ventures-portfolio', 'three-arrows-capital-portfolio', 'polychain-capital-portfolio', 'binance-labs-portfolio', 'blockchain-capital-portfolio', 'boostvc-portfolio', 'cms-holdings-portfolio', 'dcg-portfolio', 'dragonfly-capital-portfolio', 'electric-capital-portfolio', 'fabric-ventures-portfolio', 'framework-ventures-portfolio', 'hashkey-capital-portfolio', 'kenetic-capital-portfolio', 'huobi-capital-portfolio', 'alameda-research-portfolio', 'a16z-portfolio', '1confirmation-portfolio', 'winklevoss-capital-portfolio', 'usv-portfolio', 'placeholder-ventures-portfolio', 'pantera-capital-portfolio', 'multicoin-capital-portfolio', 'paradigm-portfolio', 'ethereum-pow-ecosystem', 'layer-1', 'ftx-bankruptcy-estate', 'sora-ecosystem', 'rsk-rbtc-ecosystem', 'world-liberty-financial-portfolio', 'us-strategic-crypto-reserve', 'binance-ecosystem']",
         null,
         "120725247.07261096",
         "120725247.07261096",
         "True",
         null,
         "2",
         null,
         null,
         null,
         "2025-05-28T18:40:00.000Z",
         "2648.395911103515",
         "18453533343.51901",
         "-25.9301",
         "0.0414606",
         "-1.43393002",
         "6.60597704",
         "49.39401605",
         "45.06282849",
         "14.03915482",
         "319728250714.06445",
         "9.4126",
         "319728250714.06",
         null,
         "2025-05-28T18:40:00.000Z"
        ],
        [
         "121",
         "1027",
         "Ethereum",
         "ETH",
         "ethereum",
         "10316",
         "2015-08-07T00:00:00.000Z",
         "['pos', 'smart-contracts', 'ethereum-ecosystem', 'coinbase-ventures-portfolio', 'three-arrows-capital-portfolio', 'polychain-capital-portfolio', 'binance-labs-portfolio', 'blockchain-capital-portfolio', 'boostvc-portfolio', 'cms-holdings-portfolio', 'dcg-portfolio', 'dragonfly-capital-portfolio', 'electric-capital-portfolio', 'fabric-ventures-portfolio', 'framework-ventures-portfolio', 'hashkey-capital-portfolio', 'kenetic-capital-portfolio', 'huobi-capital-portfolio', 'alameda-research-portfolio', 'a16z-portfolio', '1confirmation-portfolio', 'winklevoss-capital-portfolio', 'usv-portfolio', 'placeholder-ventures-portfolio', 'pantera-capital-portfolio', 'multicoin-capital-portfolio', 'paradigm-portfolio', 'ethereum-pow-ecosystem', 'layer-1', 'ftx-bankruptcy-estate', 'sora-ecosystem', 'rsk-rbtc-ecosystem', 'world-liberty-financial-portfolio', 'us-strategic-crypto-reserve', 'binance-ecosystem']",
         null,
         "120725247.07261096",
         "120725247.07261096",
         "True",
         null,
         "2",
         null,
         null,
         null,
         "2025-05-28T18:42:00.000Z",
         "2647.966269015365",
         "18837441557.20285",
         "-21.1711",
         "0.03074138",
         "-1.19501854",
         "6.68418498",
         "49.37128043",
         "45.00729314",
         "13.93708795",
         "319676382066.8198",
         "9.4092",
         "319676382066.82",
         null,
         "2025-05-28T18:42:00.000Z"
        ],
        [
         "151",
         "1027",
         "Ethereum",
         "ETH",
         "ethereum",
         "10316",
         "2015-08-07T00:00:00.000Z",
         "['pos', 'smart-contracts', 'ethereum-ecosystem', 'coinbase-ventures-portfolio', 'three-arrows-capital-portfolio', 'polychain-capital-portfolio', 'binance-labs-portfolio', 'blockchain-capital-portfolio', 'boostvc-portfolio', 'cms-holdings-portfolio', 'dcg-portfolio', 'dragonfly-capital-portfolio', 'electric-capital-portfolio', 'fabric-ventures-portfolio', 'framework-ventures-portfolio', 'hashkey-capital-portfolio', 'kenetic-capital-portfolio', 'huobi-capital-portfolio', 'alameda-research-portfolio', 'a16z-portfolio', '1confirmation-portfolio', 'winklevoss-capital-portfolio', 'usv-portfolio', 'placeholder-ventures-portfolio', 'pantera-capital-portfolio', 'multicoin-capital-portfolio', 'paradigm-portfolio', 'ethereum-pow-ecosystem', 'layer-1', 'ftx-bankruptcy-estate', 'sora-ecosystem', 'rsk-rbtc-ecosystem', 'world-liberty-financial-portfolio', 'us-strategic-crypto-reserve', 'binance-ecosystem']",
         null,
         "120725247.07261096",
         "120725247.07261096",
         "True",
         null,
         "2",
         null,
         null,
         null,
         "2025-05-28T18:43:00.000Z",
         "2647.861880304009",
         "19644759486.18276",
         "-17.9081",
         "0.11416093",
         "-1.18275324",
         "6.36307003",
         "49.41017688",
         "45.03140583",
         "14.14021462",
         "319663779713.8498",
         "9.4088",
         "319663779713.85",
         null,
         "2025-05-28T18:43:00.000Z"
        ],
        [
         "181",
         "1027",
         "Ethereum",
         "ETH",
         "ethereum",
         "10316",
         "2015-08-07T00:00:00.000Z",
         "['pos', 'smart-contracts', 'ethereum-ecosystem', 'coinbase-ventures-portfolio', 'three-arrows-capital-portfolio', 'polychain-capital-portfolio', 'binance-labs-portfolio', 'blockchain-capital-portfolio', 'boostvc-portfolio', 'cms-holdings-portfolio', 'dcg-portfolio', 'dragonfly-capital-portfolio', 'electric-capital-portfolio', 'fabric-ventures-portfolio', 'framework-ventures-portfolio', 'hashkey-capital-portfolio', 'kenetic-capital-portfolio', 'huobi-capital-portfolio', 'alameda-research-portfolio', 'a16z-portfolio', '1confirmation-portfolio', 'winklevoss-capital-portfolio', 'usv-portfolio', 'placeholder-ventures-portfolio', 'pantera-capital-portfolio', 'multicoin-capital-portfolio', 'paradigm-portfolio', 'ethereum-pow-ecosystem', 'layer-1', 'ftx-bankruptcy-estate', 'sora-ecosystem', 'rsk-rbtc-ecosystem', 'world-liberty-financial-portfolio', 'us-strategic-crypto-reserve', 'binance-ecosystem']",
         null,
         "120725247.07261096",
         "120725247.07261096",
         "True",
         null,
         "2",
         null,
         null,
         null,
         "2025-05-28T18:44:00.000Z",
         "2651.213842046513",
         "19582618401.53894",
         "-18.464",
         "0.2164743",
         "-1.09046803",
         "6.19711235",
         "49.72433558",
         "45.20848713",
         "14.23859569",
         "320068446123.3915",
         "9.4208",
         "320068446123.39",
         null,
         "2025-05-28T18:44:00.000Z"
        ],
        [
         "211",
         "1027",
         "Ethereum",
         "ETH",
         "ethereum",
         "10316",
         "2015-08-07T00:00:00.000Z",
         "['pos', 'smart-contracts', 'ethereum-ecosystem', 'coinbase-ventures-portfolio', 'three-arrows-capital-portfolio', 'polychain-capital-portfolio', 'binance-labs-portfolio', 'blockchain-capital-portfolio', 'boostvc-portfolio', 'cms-holdings-portfolio', 'dcg-portfolio', 'dragonfly-capital-portfolio', 'electric-capital-portfolio', 'fabric-ventures-portfolio', 'framework-ventures-portfolio', 'hashkey-capital-portfolio', 'kenetic-capital-portfolio', 'huobi-capital-portfolio', 'alameda-research-portfolio', 'a16z-portfolio', '1confirmation-portfolio', 'winklevoss-capital-portfolio', 'usv-portfolio', 'placeholder-ventures-portfolio', 'pantera-capital-portfolio', 'multicoin-capital-portfolio', 'paradigm-portfolio', 'ethereum-pow-ecosystem', 'layer-1', 'ftx-bankruptcy-estate', 'sora-ecosystem', 'rsk-rbtc-ecosystem', 'world-liberty-financial-portfolio', 'us-strategic-crypto-reserve', 'binance-ecosystem']",
         null,
         "120725247.07261096",
         "120725247.07261096",
         "True",
         null,
         "2",
         null,
         null,
         null,
         "2025-05-28T18:45:00.000Z",
         "2650.6732977971446",
         "19475544810.500736",
         "-18.9646",
         "0.1659134",
         "-1.17011708",
         "6.25441969",
         "49.67645634",
         "45.18656109",
         "14.2422454",
         "320003188785.3328",
         "9.4188",
         "320003188785.33",
         null,
         "2025-05-28T18:45:00.000Z"
        ],
        [
         "241",
         "1027",
         "Ethereum",
         "ETH",
         "ethereum",
         "10316",
         "2015-08-07T00:00:00.000Z",
         "['pos', 'smart-contracts', 'ethereum-ecosystem', 'coinbase-ventures-portfolio', 'three-arrows-capital-portfolio', 'polychain-capital-portfolio', 'binance-labs-portfolio', 'blockchain-capital-portfolio', 'boostvc-portfolio', 'cms-holdings-portfolio', 'dcg-portfolio', 'dragonfly-capital-portfolio', 'electric-capital-portfolio', 'fabric-ventures-portfolio', 'framework-ventures-portfolio', 'hashkey-capital-portfolio', 'kenetic-capital-portfolio', 'huobi-capital-portfolio', 'alameda-research-portfolio', 'a16z-portfolio', '1confirmation-portfolio', 'winklevoss-capital-portfolio', 'usv-portfolio', 'placeholder-ventures-portfolio', 'pantera-capital-portfolio', 'multicoin-capital-portfolio', 'paradigm-portfolio', 'ethereum-pow-ecosystem', 'layer-1', 'ftx-bankruptcy-estate', 'sora-ecosystem', 'rsk-rbtc-ecosystem', 'world-liberty-financial-portfolio', 'us-strategic-crypto-reserve', 'binance-ecosystem']",
         null,
         "120725247.07261096",
         "120725247.07261096",
         "True",
         null,
         "2",
         null,
         null,
         null,
         "2025-05-28T18:45:00.000Z",
         "2650.6732977971446",
         "19475544810.500736",
         "-18.9646",
         "0.1659134",
         "-1.17011708",
         "6.25441969",
         "49.67645634",
         "45.18656109",
         "14.2422454",
         "320003188785.3328",
         "9.4188",
         "320003188785.33",
         null,
         "2025-05-28T18:45:00.000Z"
        ],
        [
         "271",
         "1027",
         "Ethereum",
         "ETH",
         "ethereum",
         "10316",
         "2015-08-07T00:00:00.000Z",
         "['pos', 'smart-contracts', 'ethereum-ecosystem', 'coinbase-ventures-portfolio', 'three-arrows-capital-portfolio', 'polychain-capital-portfolio', 'binance-labs-portfolio', 'blockchain-capital-portfolio', 'boostvc-portfolio', 'cms-holdings-portfolio', 'dcg-portfolio', 'dragonfly-capital-portfolio', 'electric-capital-portfolio', 'fabric-ventures-portfolio', 'framework-ventures-portfolio', 'hashkey-capital-portfolio', 'kenetic-capital-portfolio', 'huobi-capital-portfolio', 'alameda-research-portfolio', 'a16z-portfolio', '1confirmation-portfolio', 'winklevoss-capital-portfolio', 'usv-portfolio', 'placeholder-ventures-portfolio', 'pantera-capital-portfolio', 'multicoin-capital-portfolio', 'paradigm-portfolio', 'ethereum-pow-ecosystem', 'layer-1', 'ftx-bankruptcy-estate', 'sora-ecosystem', 'rsk-rbtc-ecosystem', 'world-liberty-financial-portfolio', 'us-strategic-crypto-reserve', 'binance-ecosystem']",
         null,
         "120725247.07261096",
         "120725247.07261096",
         "True",
         null,
         "2",
         null,
         null,
         null,
         "2025-05-28T18:47:00.000Z",
         "2652.344951300152",
         "19427344104.252808",
         "-21.9418",
         "0.11264942",
         "-1.11639232",
         "6.8103647",
         "49.53769957",
         "45.27973322",
         "14.09210767",
         "320204999567.5031",
         "9.416",
         "320204999567.5",
         null,
         "2025-05-28T18:47:00.000Z"
        ],
        [
         "301",
         "1027",
         "Ethereum",
         "ETH",
         "ethereum",
         "10316",
         "2015-08-07T00:00:00.000Z",
         "['pos', 'smart-contracts', 'ethereum-ecosystem', 'coinbase-ventures-portfolio', 'three-arrows-capital-portfolio', 'polychain-capital-portfolio', 'binance-labs-portfolio', 'blockchain-capital-portfolio', 'boostvc-portfolio', 'cms-holdings-portfolio', 'dcg-portfolio', 'dragonfly-capital-portfolio', 'electric-capital-portfolio', 'fabric-ventures-portfolio', 'framework-ventures-portfolio', 'hashkey-capital-portfolio', 'kenetic-capital-portfolio', 'huobi-capital-portfolio', 'alameda-research-portfolio', 'a16z-portfolio', '1confirmation-portfolio', 'winklevoss-capital-portfolio', 'usv-portfolio', 'placeholder-ventures-portfolio', 'pantera-capital-portfolio', 'multicoin-capital-portfolio', 'paradigm-portfolio', 'ethereum-pow-ecosystem', 'layer-1', 'ftx-bankruptcy-estate', 'sora-ecosystem', 'rsk-rbtc-ecosystem', 'world-liberty-financial-portfolio', 'us-strategic-crypto-reserve', 'binance-ecosystem']",
         null,
         "120725247.07261096",
         "120725247.07261096",
         "True",
         null,
         "2",
         null,
         null,
         null,
         "2025-05-28T18:49:00.000Z",
         "2650.3464562165705",
         "18764785383.20613",
         "-24.9047",
         "-0.05706327",
         "-1.26664195",
         "6.74850702",
         "49.44863261",
         "45.11658043",
         "13.91665794",
         "319963730754.76434",
         "9.4089",
         "319963730754.76",
         null,
         "2025-05-28T18:49:00.000Z"
        ],
        [
         "331",
         "1027",
         "Ethereum",
         "ETH",
         "ethereum",
         "10316",
         "2015-08-07T00:00:00.000Z",
         "['pos', 'smart-contracts', 'ethereum-ecosystem', 'coinbase-ventures-portfolio', 'three-arrows-capital-portfolio', 'polychain-capital-portfolio', 'binance-labs-portfolio', 'blockchain-capital-portfolio', 'boostvc-portfolio', 'cms-holdings-portfolio', 'dcg-portfolio', 'dragonfly-capital-portfolio', 'electric-capital-portfolio', 'fabric-ventures-portfolio', 'framework-ventures-portfolio', 'hashkey-capital-portfolio', 'kenetic-capital-portfolio', 'huobi-capital-portfolio', 'alameda-research-portfolio', 'a16z-portfolio', '1confirmation-portfolio', 'winklevoss-capital-portfolio', 'usv-portfolio', 'placeholder-ventures-portfolio', 'pantera-capital-portfolio', 'multicoin-capital-portfolio', 'paradigm-portfolio', 'ethereum-pow-ecosystem', 'layer-1', 'ftx-bankruptcy-estate', 'sora-ecosystem', 'rsk-rbtc-ecosystem', 'world-liberty-financial-portfolio', 'us-strategic-crypto-reserve', 'binance-ecosystem']",
         null,
         "120725247.07261096",
         "120725247.07261096",
         "True",
         null,
         "2",
         null,
         null,
         null,
         "2025-05-28T18:49:00.000Z",
         "2650.3464562165705",
         "18764785383.20613",
         "-24.9047",
         "-0.05706327",
         "-1.26664195",
         "6.74850702",
         "49.44863261",
         "45.11658043",
         "13.91665794",
         "319963730754.76434",
         "9.4089",
         "319963730754.76",
         null,
         "2025-05-28T18:49:00.000Z"
        ],
        [
         "361",
         "1027",
         "Ethereum",
         "ETH",
         "ethereum",
         "10316",
         "2015-08-07T00:00:00.000Z",
         "['pos', 'smart-contracts', 'ethereum-ecosystem', 'coinbase-ventures-portfolio', 'three-arrows-capital-portfolio', 'polychain-capital-portfolio', 'binance-labs-portfolio', 'blockchain-capital-portfolio', 'boostvc-portfolio', 'cms-holdings-portfolio', 'dcg-portfolio', 'dragonfly-capital-portfolio', 'electric-capital-portfolio', 'fabric-ventures-portfolio', 'framework-ventures-portfolio', 'hashkey-capital-portfolio', 'kenetic-capital-portfolio', 'huobi-capital-portfolio', 'alameda-research-portfolio', 'a16z-portfolio', '1confirmation-portfolio', 'winklevoss-capital-portfolio', 'usv-portfolio', 'placeholder-ventures-portfolio', 'pantera-capital-portfolio', 'multicoin-capital-portfolio', 'paradigm-portfolio', 'ethereum-pow-ecosystem', 'layer-1', 'ftx-bankruptcy-estate', 'sora-ecosystem', 'rsk-rbtc-ecosystem', 'world-liberty-financial-portfolio', 'us-strategic-crypto-reserve', 'binance-ecosystem']",
         null,
         "120725247.07261096",
         "120725247.07261096",
         "True",
         null,
         "2",
         null,
         null,
         null,
         "2025-05-28T18:51:00.000Z",
         "2648.371794529262",
         "19538017773.173397",
         "-18.9216",
         "-0.08556064",
         "-1.35110555",
         "6.68511482",
         "49.21795516",
         "45.01781796",
         "14.0095107",
         "319725339234.6792",
         "9.4019",
         "319725339234.68",
         null,
         "2025-05-28T18:51:00.000Z"
        ],
        [
         "391",
         "1027",
         "Ethereum",
         "ETH",
         "ethereum",
         "10316",
         "2015-08-07T00:00:00.000Z",
         "['pos', 'smart-contracts', 'ethereum-ecosystem', 'coinbase-ventures-portfolio', 'three-arrows-capital-portfolio', 'polychain-capital-portfolio', 'binance-labs-portfolio', 'blockchain-capital-portfolio', 'boostvc-portfolio', 'cms-holdings-portfolio', 'dcg-portfolio', 'dragonfly-capital-portfolio', 'electric-capital-portfolio', 'fabric-ventures-portfolio', 'framework-ventures-portfolio', 'hashkey-capital-portfolio', 'kenetic-capital-portfolio', 'huobi-capital-portfolio', 'alameda-research-portfolio', 'a16z-portfolio', '1confirmation-portfolio', 'winklevoss-capital-portfolio', 'usv-portfolio', 'placeholder-ventures-portfolio', 'pantera-capital-portfolio', 'multicoin-capital-portfolio', 'paradigm-portfolio', 'ethereum-pow-ecosystem', 'layer-1', 'ftx-bankruptcy-estate', 'sora-ecosystem', 'rsk-rbtc-ecosystem', 'world-liberty-financial-portfolio', 'us-strategic-crypto-reserve', 'binance-ecosystem']",
         null,
         "120725247.07261096",
         "120725247.07261096",
         "True",
         null,
         "2",
         null,
         null,
         null,
         "2025-05-28T18:51:00.000Z",
         "2648.371794529262",
         "19538017773.173397",
         "-18.9216",
         "-0.08556064",
         "-1.35110555",
         "6.68511482",
         "49.21795516",
         "45.01781796",
         "14.0095107",
         "319725339234.6792",
         "9.4019",
         "319725339234.68",
         null,
         "2025-05-28T18:51:00.000Z"
        ],
        [
         "421",
         "1027",
         "Ethereum",
         "ETH",
         "ethereum",
         "10316",
         "2015-08-07T00:00:00.000Z",
         "['pos', 'smart-contracts', 'ethereum-ecosystem', 'coinbase-ventures-portfolio', 'three-arrows-capital-portfolio', 'polychain-capital-portfolio', 'binance-labs-portfolio', 'blockchain-capital-portfolio', 'boostvc-portfolio', 'cms-holdings-portfolio', 'dcg-portfolio', 'dragonfly-capital-portfolio', 'electric-capital-portfolio', 'fabric-ventures-portfolio', 'framework-ventures-portfolio', 'hashkey-capital-portfolio', 'kenetic-capital-portfolio', 'huobi-capital-portfolio', 'alameda-research-portfolio', 'a16z-portfolio', '1confirmation-portfolio', 'winklevoss-capital-portfolio', 'usv-portfolio', 'placeholder-ventures-portfolio', 'pantera-capital-portfolio', 'multicoin-capital-portfolio', 'paradigm-portfolio', 'ethereum-pow-ecosystem', 'layer-1', 'ftx-bankruptcy-estate', 'sora-ecosystem', 'rsk-rbtc-ecosystem', 'world-liberty-financial-portfolio', 'us-strategic-crypto-reserve', 'binance-ecosystem']",
         null,
         "120725247.07261096",
         "120725247.07261096",
         "True",
         null,
         "2",
         null,
         null,
         null,
         "2025-05-28T18:52:00.000Z",
         "2645.0362053545364",
         "18729761842.64432",
         "-24.9415",
         "-0.15533603",
         "-1.416673",
         "6.65673856",
         "48.92113982",
         "44.97574708",
         "13.89953243",
         "319322649407.42773",
         "9.3895",
         "319322649407.43",
         null,
         "2025-05-28T18:52:00.000Z"
        ]
       ],
       "shape": {
        "columns": 31,
        "rows": 15
       }
      },
      "text/html": [
       "<div>\n",
       "<style scoped>\n",
       "    .dataframe tbody tr th:only-of-type {\n",
       "        vertical-align: middle;\n",
       "    }\n",
       "\n",
       "    .dataframe tbody tr th {\n",
       "        vertical-align: top;\n",
       "    }\n",
       "\n",
       "    .dataframe thead th {\n",
       "        text-align: right;\n",
       "    }\n",
       "</style>\n",
       "<table border=\"1\" class=\"dataframe\">\n",
       "  <thead>\n",
       "    <tr style=\"text-align: right;\">\n",
       "      <th></th>\n",
       "      <th>id</th>\n",
       "      <th>name</th>\n",
       "      <th>symbol</th>\n",
       "      <th>slug</th>\n",
       "      <th>num_market_pairs</th>\n",
       "      <th>date_added</th>\n",
       "      <th>tags</th>\n",
       "      <th>max_supply</th>\n",
       "      <th>circulating_supply</th>\n",
       "      <th>total_supply</th>\n",
       "      <th>...</th>\n",
       "      <th>percent_change_24h</th>\n",
       "      <th>percent_change_7d</th>\n",
       "      <th>percent_change_30d</th>\n",
       "      <th>percent_change_60d</th>\n",
       "      <th>percent_change_90d</th>\n",
       "      <th>market_cap</th>\n",
       "      <th>market_cap_dominance</th>\n",
       "      <th>fully_diluted_market_cap</th>\n",
       "      <th>tvl</th>\n",
       "      <th>last_updated.1</th>\n",
       "    </tr>\n",
       "  </thead>\n",
       "  <tbody>\n",
       "    <tr>\n",
       "      <th>1</th>\n",
       "      <td>1027</td>\n",
       "      <td>Ethereum</td>\n",
       "      <td>ETH</td>\n",
       "      <td>ethereum</td>\n",
       "      <td>10316</td>\n",
       "      <td>2015-08-07T00:00:00.000Z</td>\n",
       "      <td>[pos, smart-contracts, ethereum-ecosystem, coi...</td>\n",
       "      <td>NaN</td>\n",
       "      <td>1.207252e+08</td>\n",
       "      <td>1.207252e+08</td>\n",
       "      <td>...</td>\n",
       "      <td>-1.470784</td>\n",
       "      <td>6.522769</td>\n",
       "      <td>49.489501</td>\n",
       "      <td>45.093927</td>\n",
       "      <td>13.864227</td>\n",
       "      <td>3.193864e+11</td>\n",
       "      <td>9.4025</td>\n",
       "      <td>3.193864e+11</td>\n",
       "      <td>NaN</td>\n",
       "      <td>2025-05-28T18:37:00.000Z</td>\n",
       "    </tr>\n",
       "    <tr>\n",
       "      <th>31</th>\n",
       "      <td>1027</td>\n",
       "      <td>Ethereum</td>\n",
       "      <td>ETH</td>\n",
       "      <td>ethereum</td>\n",
       "      <td>10316</td>\n",
       "      <td>2015-08-07T00:00:00.000Z</td>\n",
       "      <td>[pos, smart-contracts, ethereum-ecosystem, coi...</td>\n",
       "      <td>NaN</td>\n",
       "      <td>1.207252e+08</td>\n",
       "      <td>1.207252e+08</td>\n",
       "      <td>...</td>\n",
       "      <td>-1.481385</td>\n",
       "      <td>6.746408</td>\n",
       "      <td>49.436191</td>\n",
       "      <td>44.976218</td>\n",
       "      <td>13.920724</td>\n",
       "      <td>3.195660e+11</td>\n",
       "      <td>9.4078</td>\n",
       "      <td>3.195660e+11</td>\n",
       "      <td>NaN</td>\n",
       "      <td>2025-05-28T18:38:00.000Z</td>\n",
       "    </tr>\n",
       "    <tr>\n",
       "      <th>61</th>\n",
       "      <td>1027</td>\n",
       "      <td>Ethereum</td>\n",
       "      <td>ETH</td>\n",
       "      <td>ethereum</td>\n",
       "      <td>10316</td>\n",
       "      <td>2015-08-07T00:00:00.000Z</td>\n",
       "      <td>[pos, smart-contracts, ethereum-ecosystem, coi...</td>\n",
       "      <td>NaN</td>\n",
       "      <td>1.207252e+08</td>\n",
       "      <td>1.207252e+08</td>\n",
       "      <td>...</td>\n",
       "      <td>-1.484497</td>\n",
       "      <td>6.644787</td>\n",
       "      <td>49.442325</td>\n",
       "      <td>45.114236</td>\n",
       "      <td>14.006549</td>\n",
       "      <td>3.196741e+11</td>\n",
       "      <td>9.4110</td>\n",
       "      <td>3.196741e+11</td>\n",
       "      <td>NaN</td>\n",
       "      <td>2025-05-28T18:39:00.000Z</td>\n",
       "    </tr>\n",
       "    <tr>\n",
       "      <th>91</th>\n",
       "      <td>1027</td>\n",
       "      <td>Ethereum</td>\n",
       "      <td>ETH</td>\n",
       "      <td>ethereum</td>\n",
       "      <td>10316</td>\n",
       "      <td>2015-08-07T00:00:00.000Z</td>\n",
       "      <td>[pos, smart-contracts, ethereum-ecosystem, coi...</td>\n",
       "      <td>NaN</td>\n",
       "      <td>1.207252e+08</td>\n",
       "      <td>1.207252e+08</td>\n",
       "      <td>...</td>\n",
       "      <td>-1.433930</td>\n",
       "      <td>6.605977</td>\n",
       "      <td>49.394016</td>\n",
       "      <td>45.062828</td>\n",
       "      <td>14.039155</td>\n",
       "      <td>3.197283e+11</td>\n",
       "      <td>9.4126</td>\n",
       "      <td>3.197283e+11</td>\n",
       "      <td>NaN</td>\n",
       "      <td>2025-05-28T18:40:00.000Z</td>\n",
       "    </tr>\n",
       "    <tr>\n",
       "      <th>121</th>\n",
       "      <td>1027</td>\n",
       "      <td>Ethereum</td>\n",
       "      <td>ETH</td>\n",
       "      <td>ethereum</td>\n",
       "      <td>10316</td>\n",
       "      <td>2015-08-07T00:00:00.000Z</td>\n",
       "      <td>[pos, smart-contracts, ethereum-ecosystem, coi...</td>\n",
       "      <td>NaN</td>\n",
       "      <td>1.207252e+08</td>\n",
       "      <td>1.207252e+08</td>\n",
       "      <td>...</td>\n",
       "      <td>-1.195019</td>\n",
       "      <td>6.684185</td>\n",
       "      <td>49.371280</td>\n",
       "      <td>45.007293</td>\n",
       "      <td>13.937088</td>\n",
       "      <td>3.196764e+11</td>\n",
       "      <td>9.4092</td>\n",
       "      <td>3.196764e+11</td>\n",
       "      <td>NaN</td>\n",
       "      <td>2025-05-28T18:42:00.000Z</td>\n",
       "    </tr>\n",
       "    <tr>\n",
       "      <th>151</th>\n",
       "      <td>1027</td>\n",
       "      <td>Ethereum</td>\n",
       "      <td>ETH</td>\n",
       "      <td>ethereum</td>\n",
       "      <td>10316</td>\n",
       "      <td>2015-08-07T00:00:00.000Z</td>\n",
       "      <td>[pos, smart-contracts, ethereum-ecosystem, coi...</td>\n",
       "      <td>NaN</td>\n",
       "      <td>1.207252e+08</td>\n",
       "      <td>1.207252e+08</td>\n",
       "      <td>...</td>\n",
       "      <td>-1.182753</td>\n",
       "      <td>6.363070</td>\n",
       "      <td>49.410177</td>\n",
       "      <td>45.031406</td>\n",
       "      <td>14.140215</td>\n",
       "      <td>3.196638e+11</td>\n",
       "      <td>9.4088</td>\n",
       "      <td>3.196638e+11</td>\n",
       "      <td>NaN</td>\n",
       "      <td>2025-05-28T18:43:00.000Z</td>\n",
       "    </tr>\n",
       "    <tr>\n",
       "      <th>181</th>\n",
       "      <td>1027</td>\n",
       "      <td>Ethereum</td>\n",
       "      <td>ETH</td>\n",
       "      <td>ethereum</td>\n",
       "      <td>10316</td>\n",
       "      <td>2015-08-07T00:00:00.000Z</td>\n",
       "      <td>[pos, smart-contracts, ethereum-ecosystem, coi...</td>\n",
       "      <td>NaN</td>\n",
       "      <td>1.207252e+08</td>\n",
       "      <td>1.207252e+08</td>\n",
       "      <td>...</td>\n",
       "      <td>-1.090468</td>\n",
       "      <td>6.197112</td>\n",
       "      <td>49.724336</td>\n",
       "      <td>45.208487</td>\n",
       "      <td>14.238596</td>\n",
       "      <td>3.200684e+11</td>\n",
       "      <td>9.4208</td>\n",
       "      <td>3.200684e+11</td>\n",
       "      <td>NaN</td>\n",
       "      <td>2025-05-28T18:44:00.000Z</td>\n",
       "    </tr>\n",
       "    <tr>\n",
       "      <th>211</th>\n",
       "      <td>1027</td>\n",
       "      <td>Ethereum</td>\n",
       "      <td>ETH</td>\n",
       "      <td>ethereum</td>\n",
       "      <td>10316</td>\n",
       "      <td>2015-08-07T00:00:00.000Z</td>\n",
       "      <td>[pos, smart-contracts, ethereum-ecosystem, coi...</td>\n",
       "      <td>NaN</td>\n",
       "      <td>1.207252e+08</td>\n",
       "      <td>1.207252e+08</td>\n",
       "      <td>...</td>\n",
       "      <td>-1.170117</td>\n",
       "      <td>6.254420</td>\n",
       "      <td>49.676456</td>\n",
       "      <td>45.186561</td>\n",
       "      <td>14.242245</td>\n",
       "      <td>3.200032e+11</td>\n",
       "      <td>9.4188</td>\n",
       "      <td>3.200032e+11</td>\n",
       "      <td>NaN</td>\n",
       "      <td>2025-05-28T18:45:00.000Z</td>\n",
       "    </tr>\n",
       "    <tr>\n",
       "      <th>241</th>\n",
       "      <td>1027</td>\n",
       "      <td>Ethereum</td>\n",
       "      <td>ETH</td>\n",
       "      <td>ethereum</td>\n",
       "      <td>10316</td>\n",
       "      <td>2015-08-07T00:00:00.000Z</td>\n",
       "      <td>[pos, smart-contracts, ethereum-ecosystem, coi...</td>\n",
       "      <td>NaN</td>\n",
       "      <td>1.207252e+08</td>\n",
       "      <td>1.207252e+08</td>\n",
       "      <td>...</td>\n",
       "      <td>-1.170117</td>\n",
       "      <td>6.254420</td>\n",
       "      <td>49.676456</td>\n",
       "      <td>45.186561</td>\n",
       "      <td>14.242245</td>\n",
       "      <td>3.200032e+11</td>\n",
       "      <td>9.4188</td>\n",
       "      <td>3.200032e+11</td>\n",
       "      <td>NaN</td>\n",
       "      <td>2025-05-28T18:45:00.000Z</td>\n",
       "    </tr>\n",
       "    <tr>\n",
       "      <th>271</th>\n",
       "      <td>1027</td>\n",
       "      <td>Ethereum</td>\n",
       "      <td>ETH</td>\n",
       "      <td>ethereum</td>\n",
       "      <td>10316</td>\n",
       "      <td>2015-08-07T00:00:00.000Z</td>\n",
       "      <td>[pos, smart-contracts, ethereum-ecosystem, coi...</td>\n",
       "      <td>NaN</td>\n",
       "      <td>1.207252e+08</td>\n",
       "      <td>1.207252e+08</td>\n",
       "      <td>...</td>\n",
       "      <td>-1.116392</td>\n",
       "      <td>6.810365</td>\n",
       "      <td>49.537700</td>\n",
       "      <td>45.279733</td>\n",
       "      <td>14.092108</td>\n",
       "      <td>3.202050e+11</td>\n",
       "      <td>9.4160</td>\n",
       "      <td>3.202050e+11</td>\n",
       "      <td>NaN</td>\n",
       "      <td>2025-05-28T18:47:00.000Z</td>\n",
       "    </tr>\n",
       "    <tr>\n",
       "      <th>301</th>\n",
       "      <td>1027</td>\n",
       "      <td>Ethereum</td>\n",
       "      <td>ETH</td>\n",
       "      <td>ethereum</td>\n",
       "      <td>10316</td>\n",
       "      <td>2015-08-07T00:00:00.000Z</td>\n",
       "      <td>[pos, smart-contracts, ethereum-ecosystem, coi...</td>\n",
       "      <td>NaN</td>\n",
       "      <td>1.207252e+08</td>\n",
       "      <td>1.207252e+08</td>\n",
       "      <td>...</td>\n",
       "      <td>-1.266642</td>\n",
       "      <td>6.748507</td>\n",
       "      <td>49.448633</td>\n",
       "      <td>45.116580</td>\n",
       "      <td>13.916658</td>\n",
       "      <td>3.199637e+11</td>\n",
       "      <td>9.4089</td>\n",
       "      <td>3.199637e+11</td>\n",
       "      <td>NaN</td>\n",
       "      <td>2025-05-28T18:49:00.000Z</td>\n",
       "    </tr>\n",
       "    <tr>\n",
       "      <th>331</th>\n",
       "      <td>1027</td>\n",
       "      <td>Ethereum</td>\n",
       "      <td>ETH</td>\n",
       "      <td>ethereum</td>\n",
       "      <td>10316</td>\n",
       "      <td>2015-08-07T00:00:00.000Z</td>\n",
       "      <td>[pos, smart-contracts, ethereum-ecosystem, coi...</td>\n",
       "      <td>NaN</td>\n",
       "      <td>1.207252e+08</td>\n",
       "      <td>1.207252e+08</td>\n",
       "      <td>...</td>\n",
       "      <td>-1.266642</td>\n",
       "      <td>6.748507</td>\n",
       "      <td>49.448633</td>\n",
       "      <td>45.116580</td>\n",
       "      <td>13.916658</td>\n",
       "      <td>3.199637e+11</td>\n",
       "      <td>9.4089</td>\n",
       "      <td>3.199637e+11</td>\n",
       "      <td>NaN</td>\n",
       "      <td>2025-05-28T18:49:00.000Z</td>\n",
       "    </tr>\n",
       "    <tr>\n",
       "      <th>361</th>\n",
       "      <td>1027</td>\n",
       "      <td>Ethereum</td>\n",
       "      <td>ETH</td>\n",
       "      <td>ethereum</td>\n",
       "      <td>10316</td>\n",
       "      <td>2015-08-07T00:00:00.000Z</td>\n",
       "      <td>[pos, smart-contracts, ethereum-ecosystem, coi...</td>\n",
       "      <td>NaN</td>\n",
       "      <td>1.207252e+08</td>\n",
       "      <td>1.207252e+08</td>\n",
       "      <td>...</td>\n",
       "      <td>-1.351106</td>\n",
       "      <td>6.685115</td>\n",
       "      <td>49.217955</td>\n",
       "      <td>45.017818</td>\n",
       "      <td>14.009511</td>\n",
       "      <td>3.197253e+11</td>\n",
       "      <td>9.4019</td>\n",
       "      <td>3.197253e+11</td>\n",
       "      <td>NaN</td>\n",
       "      <td>2025-05-28T18:51:00.000Z</td>\n",
       "    </tr>\n",
       "    <tr>\n",
       "      <th>391</th>\n",
       "      <td>1027</td>\n",
       "      <td>Ethereum</td>\n",
       "      <td>ETH</td>\n",
       "      <td>ethereum</td>\n",
       "      <td>10316</td>\n",
       "      <td>2015-08-07T00:00:00.000Z</td>\n",
       "      <td>[pos, smart-contracts, ethereum-ecosystem, coi...</td>\n",
       "      <td>NaN</td>\n",
       "      <td>1.207252e+08</td>\n",
       "      <td>1.207252e+08</td>\n",
       "      <td>...</td>\n",
       "      <td>-1.351106</td>\n",
       "      <td>6.685115</td>\n",
       "      <td>49.217955</td>\n",
       "      <td>45.017818</td>\n",
       "      <td>14.009511</td>\n",
       "      <td>3.197253e+11</td>\n",
       "      <td>9.4019</td>\n",
       "      <td>3.197253e+11</td>\n",
       "      <td>NaN</td>\n",
       "      <td>2025-05-28T18:51:00.000Z</td>\n",
       "    </tr>\n",
       "    <tr>\n",
       "      <th>421</th>\n",
       "      <td>1027</td>\n",
       "      <td>Ethereum</td>\n",
       "      <td>ETH</td>\n",
       "      <td>ethereum</td>\n",
       "      <td>10316</td>\n",
       "      <td>2015-08-07T00:00:00.000Z</td>\n",
       "      <td>[pos, smart-contracts, ethereum-ecosystem, coi...</td>\n",
       "      <td>NaN</td>\n",
       "      <td>1.207252e+08</td>\n",
       "      <td>1.207252e+08</td>\n",
       "      <td>...</td>\n",
       "      <td>-1.416673</td>\n",
       "      <td>6.656739</td>\n",
       "      <td>48.921140</td>\n",
       "      <td>44.975747</td>\n",
       "      <td>13.899532</td>\n",
       "      <td>3.193226e+11</td>\n",
       "      <td>9.3895</td>\n",
       "      <td>3.193226e+11</td>\n",
       "      <td>NaN</td>\n",
       "      <td>2025-05-28T18:52:00.000Z</td>\n",
       "    </tr>\n",
       "  </tbody>\n",
       "</table>\n",
       "<p>15 rows × 31 columns</p>\n",
       "</div>"
      ],
      "text/plain": [
       "       id      name symbol      slug  num_market_pairs  \\\n",
       "1    1027  Ethereum    ETH  ethereum             10316   \n",
       "31   1027  Ethereum    ETH  ethereum             10316   \n",
       "61   1027  Ethereum    ETH  ethereum             10316   \n",
       "91   1027  Ethereum    ETH  ethereum             10316   \n",
       "121  1027  Ethereum    ETH  ethereum             10316   \n",
       "151  1027  Ethereum    ETH  ethereum             10316   \n",
       "181  1027  Ethereum    ETH  ethereum             10316   \n",
       "211  1027  Ethereum    ETH  ethereum             10316   \n",
       "241  1027  Ethereum    ETH  ethereum             10316   \n",
       "271  1027  Ethereum    ETH  ethereum             10316   \n",
       "301  1027  Ethereum    ETH  ethereum             10316   \n",
       "331  1027  Ethereum    ETH  ethereum             10316   \n",
       "361  1027  Ethereum    ETH  ethereum             10316   \n",
       "391  1027  Ethereum    ETH  ethereum             10316   \n",
       "421  1027  Ethereum    ETH  ethereum             10316   \n",
       "\n",
       "                   date_added  \\\n",
       "1    2015-08-07T00:00:00.000Z   \n",
       "31   2015-08-07T00:00:00.000Z   \n",
       "61   2015-08-07T00:00:00.000Z   \n",
       "91   2015-08-07T00:00:00.000Z   \n",
       "121  2015-08-07T00:00:00.000Z   \n",
       "151  2015-08-07T00:00:00.000Z   \n",
       "181  2015-08-07T00:00:00.000Z   \n",
       "211  2015-08-07T00:00:00.000Z   \n",
       "241  2015-08-07T00:00:00.000Z   \n",
       "271  2015-08-07T00:00:00.000Z   \n",
       "301  2015-08-07T00:00:00.000Z   \n",
       "331  2015-08-07T00:00:00.000Z   \n",
       "361  2015-08-07T00:00:00.000Z   \n",
       "391  2015-08-07T00:00:00.000Z   \n",
       "421  2015-08-07T00:00:00.000Z   \n",
       "\n",
       "                                                  tags  max_supply  \\\n",
       "1    [pos, smart-contracts, ethereum-ecosystem, coi...         NaN   \n",
       "31   [pos, smart-contracts, ethereum-ecosystem, coi...         NaN   \n",
       "61   [pos, smart-contracts, ethereum-ecosystem, coi...         NaN   \n",
       "91   [pos, smart-contracts, ethereum-ecosystem, coi...         NaN   \n",
       "121  [pos, smart-contracts, ethereum-ecosystem, coi...         NaN   \n",
       "151  [pos, smart-contracts, ethereum-ecosystem, coi...         NaN   \n",
       "181  [pos, smart-contracts, ethereum-ecosystem, coi...         NaN   \n",
       "211  [pos, smart-contracts, ethereum-ecosystem, coi...         NaN   \n",
       "241  [pos, smart-contracts, ethereum-ecosystem, coi...         NaN   \n",
       "271  [pos, smart-contracts, ethereum-ecosystem, coi...         NaN   \n",
       "301  [pos, smart-contracts, ethereum-ecosystem, coi...         NaN   \n",
       "331  [pos, smart-contracts, ethereum-ecosystem, coi...         NaN   \n",
       "361  [pos, smart-contracts, ethereum-ecosystem, coi...         NaN   \n",
       "391  [pos, smart-contracts, ethereum-ecosystem, coi...         NaN   \n",
       "421  [pos, smart-contracts, ethereum-ecosystem, coi...         NaN   \n",
       "\n",
       "     circulating_supply  total_supply  ...  percent_change_24h  \\\n",
       "1          1.207252e+08  1.207252e+08  ...           -1.470784   \n",
       "31         1.207252e+08  1.207252e+08  ...           -1.481385   \n",
       "61         1.207252e+08  1.207252e+08  ...           -1.484497   \n",
       "91         1.207252e+08  1.207252e+08  ...           -1.433930   \n",
       "121        1.207252e+08  1.207252e+08  ...           -1.195019   \n",
       "151        1.207252e+08  1.207252e+08  ...           -1.182753   \n",
       "181        1.207252e+08  1.207252e+08  ...           -1.090468   \n",
       "211        1.207252e+08  1.207252e+08  ...           -1.170117   \n",
       "241        1.207252e+08  1.207252e+08  ...           -1.170117   \n",
       "271        1.207252e+08  1.207252e+08  ...           -1.116392   \n",
       "301        1.207252e+08  1.207252e+08  ...           -1.266642   \n",
       "331        1.207252e+08  1.207252e+08  ...           -1.266642   \n",
       "361        1.207252e+08  1.207252e+08  ...           -1.351106   \n",
       "391        1.207252e+08  1.207252e+08  ...           -1.351106   \n",
       "421        1.207252e+08  1.207252e+08  ...           -1.416673   \n",
       "\n",
       "    percent_change_7d  percent_change_30d  percent_change_60d  \\\n",
       "1            6.522769           49.489501           45.093927   \n",
       "31           6.746408           49.436191           44.976218   \n",
       "61           6.644787           49.442325           45.114236   \n",
       "91           6.605977           49.394016           45.062828   \n",
       "121          6.684185           49.371280           45.007293   \n",
       "151          6.363070           49.410177           45.031406   \n",
       "181          6.197112           49.724336           45.208487   \n",
       "211          6.254420           49.676456           45.186561   \n",
       "241          6.254420           49.676456           45.186561   \n",
       "271          6.810365           49.537700           45.279733   \n",
       "301          6.748507           49.448633           45.116580   \n",
       "331          6.748507           49.448633           45.116580   \n",
       "361          6.685115           49.217955           45.017818   \n",
       "391          6.685115           49.217955           45.017818   \n",
       "421          6.656739           48.921140           44.975747   \n",
       "\n",
       "     percent_change_90d    market_cap market_cap_dominance  \\\n",
       "1             13.864227  3.193864e+11               9.4025   \n",
       "31            13.920724  3.195660e+11               9.4078   \n",
       "61            14.006549  3.196741e+11               9.4110   \n",
       "91            14.039155  3.197283e+11               9.4126   \n",
       "121           13.937088  3.196764e+11               9.4092   \n",
       "151           14.140215  3.196638e+11               9.4088   \n",
       "181           14.238596  3.200684e+11               9.4208   \n",
       "211           14.242245  3.200032e+11               9.4188   \n",
       "241           14.242245  3.200032e+11               9.4188   \n",
       "271           14.092108  3.202050e+11               9.4160   \n",
       "301           13.916658  3.199637e+11               9.4089   \n",
       "331           13.916658  3.199637e+11               9.4089   \n",
       "361           14.009511  3.197253e+11               9.4019   \n",
       "391           14.009511  3.197253e+11               9.4019   \n",
       "421           13.899532  3.193226e+11               9.3895   \n",
       "\n",
       "     fully_diluted_market_cap  tvl            last_updated.1  \n",
       "1                3.193864e+11  NaN  2025-05-28T18:37:00.000Z  \n",
       "31               3.195660e+11  NaN  2025-05-28T18:38:00.000Z  \n",
       "61               3.196741e+11  NaN  2025-05-28T18:39:00.000Z  \n",
       "91               3.197283e+11  NaN  2025-05-28T18:40:00.000Z  \n",
       "121              3.196764e+11  NaN  2025-05-28T18:42:00.000Z  \n",
       "151              3.196638e+11  NaN  2025-05-28T18:43:00.000Z  \n",
       "181              3.200684e+11  NaN  2025-05-28T18:44:00.000Z  \n",
       "211              3.200032e+11  NaN  2025-05-28T18:45:00.000Z  \n",
       "241              3.200032e+11  NaN  2025-05-28T18:45:00.000Z  \n",
       "271              3.202050e+11  NaN  2025-05-28T18:47:00.000Z  \n",
       "301              3.199637e+11  NaN  2025-05-28T18:49:00.000Z  \n",
       "331              3.199637e+11  NaN  2025-05-28T18:49:00.000Z  \n",
       "361              3.197253e+11  NaN  2025-05-28T18:51:00.000Z  \n",
       "391              3.197253e+11  NaN  2025-05-28T18:51:00.000Z  \n",
       "421              3.193226e+11  NaN  2025-05-28T18:52:00.000Z  \n",
       "\n",
       "[15 rows x 31 columns]"
      ]
     },
     "execution_count": 29,
     "metadata": {},
     "output_type": "execute_result"
    }
   ],
   "source": [
    "coin_name = 'Ethereum'  \n",
    "filtered_df = all_data_df[all_data_df['name'] == coin_name]\n",
    "filtered_df"
   ]
  },
  {
   "cell_type": "code",
   "execution_count": 30,
   "id": "151d110b",
   "metadata": {},
   "outputs": [
    {
     "data": {
      "application/vnd.plotly.v1+json": {
       "config": {
        "plotlyServerURL": "https://plot.ly"
       },
       "data": [
        {
         "customdata": [
          [
           "ETH"
          ],
          [
           "ETH"
          ],
          [
           "ETH"
          ],
          [
           "ETH"
          ],
          [
           "ETH"
          ],
          [
           "ETH"
          ],
          [
           "ETH"
          ],
          [
           "ETH"
          ],
          [
           "ETH"
          ],
          [
           "ETH"
          ],
          [
           "ETH"
          ],
          [
           "ETH"
          ],
          [
           "ETH"
          ],
          [
           "ETH"
          ],
          [
           "ETH"
          ]
         ],
         "hovertemplate": "Cryptocurrency=Ethereum<br>Time in minutes=%{x}<br>Price=%{y:,.2f}<br>Symbol=%{customdata[0]}<extra></extra>",
         "legendgroup": "Ethereum",
         "line": {
          "color": "#636efa",
          "dash": "solid"
         },
         "marker": {
          "symbol": "circle"
         },
         "mode": "lines",
         "name": "Ethereum",
         "orientation": "v",
         "showlegend": true,
         "type": "scatter",
         "x": [
          "2025-05-28T18:37:00.000Z",
          "2025-05-28T18:38:00.000Z",
          "2025-05-28T18:39:00.000Z",
          "2025-05-28T18:40:00.000Z",
          "2025-05-28T18:42:00.000Z",
          "2025-05-28T18:43:00.000Z",
          "2025-05-28T18:44:00.000Z",
          "2025-05-28T18:45:00.000Z",
          "2025-05-28T18:45:00.000Z",
          "2025-05-28T18:47:00.000Z",
          "2025-05-28T18:49:00.000Z",
          "2025-05-28T18:49:00.000Z",
          "2025-05-28T18:51:00.000Z",
          "2025-05-28T18:51:00.000Z",
          "2025-05-28T18:52:00.000Z"
         ],
         "xaxis": "x",
         "y": [
          2645.564544334942,
          2647.0521521847654,
          2647.94731692808,
          2648.395911103515,
          2647.966269015365,
          2647.861880304009,
          2651.213842046513,
          2650.6732977971446,
          2650.6732977971446,
          2652.344951300152,
          2650.3464562165705,
          2650.3464562165705,
          2648.371794529262,
          2648.371794529262,
          2645.0362053545364
         ],
         "yaxis": "y"
        }
       ],
       "layout": {
        "legend": {
         "title": {
          "text": "Cryptocurrency"
         },
         "tracegroupgap": 0
        },
        "template": {
         "data": {
          "bar": [
           {
            "error_x": {
             "color": "#2a3f5f"
            },
            "error_y": {
             "color": "#2a3f5f"
            },
            "marker": {
             "line": {
              "color": "#E5ECF6",
              "width": 0.5
             },
             "pattern": {
              "fillmode": "overlay",
              "size": 10,
              "solidity": 0.2
             }
            },
            "type": "bar"
           }
          ],
          "barpolar": [
           {
            "marker": {
             "line": {
              "color": "#E5ECF6",
              "width": 0.5
             },
             "pattern": {
              "fillmode": "overlay",
              "size": 10,
              "solidity": 0.2
             }
            },
            "type": "barpolar"
           }
          ],
          "carpet": [
           {
            "aaxis": {
             "endlinecolor": "#2a3f5f",
             "gridcolor": "white",
             "linecolor": "white",
             "minorgridcolor": "white",
             "startlinecolor": "#2a3f5f"
            },
            "baxis": {
             "endlinecolor": "#2a3f5f",
             "gridcolor": "white",
             "linecolor": "white",
             "minorgridcolor": "white",
             "startlinecolor": "#2a3f5f"
            },
            "type": "carpet"
           }
          ],
          "choropleth": [
           {
            "colorbar": {
             "outlinewidth": 0,
             "ticks": ""
            },
            "type": "choropleth"
           }
          ],
          "contour": [
           {
            "colorbar": {
             "outlinewidth": 0,
             "ticks": ""
            },
            "colorscale": [
             [
              0,
              "#0d0887"
             ],
             [
              0.1111111111111111,
              "#46039f"
             ],
             [
              0.2222222222222222,
              "#7201a8"
             ],
             [
              0.3333333333333333,
              "#9c179e"
             ],
             [
              0.4444444444444444,
              "#bd3786"
             ],
             [
              0.5555555555555556,
              "#d8576b"
             ],
             [
              0.6666666666666666,
              "#ed7953"
             ],
             [
              0.7777777777777778,
              "#fb9f3a"
             ],
             [
              0.8888888888888888,
              "#fdca26"
             ],
             [
              1,
              "#f0f921"
             ]
            ],
            "type": "contour"
           }
          ],
          "contourcarpet": [
           {
            "colorbar": {
             "outlinewidth": 0,
             "ticks": ""
            },
            "type": "contourcarpet"
           }
          ],
          "heatmap": [
           {
            "colorbar": {
             "outlinewidth": 0,
             "ticks": ""
            },
            "colorscale": [
             [
              0,
              "#0d0887"
             ],
             [
              0.1111111111111111,
              "#46039f"
             ],
             [
              0.2222222222222222,
              "#7201a8"
             ],
             [
              0.3333333333333333,
              "#9c179e"
             ],
             [
              0.4444444444444444,
              "#bd3786"
             ],
             [
              0.5555555555555556,
              "#d8576b"
             ],
             [
              0.6666666666666666,
              "#ed7953"
             ],
             [
              0.7777777777777778,
              "#fb9f3a"
             ],
             [
              0.8888888888888888,
              "#fdca26"
             ],
             [
              1,
              "#f0f921"
             ]
            ],
            "type": "heatmap"
           }
          ],
          "heatmapgl": [
           {
            "colorbar": {
             "outlinewidth": 0,
             "ticks": ""
            },
            "colorscale": [
             [
              0,
              "#0d0887"
             ],
             [
              0.1111111111111111,
              "#46039f"
             ],
             [
              0.2222222222222222,
              "#7201a8"
             ],
             [
              0.3333333333333333,
              "#9c179e"
             ],
             [
              0.4444444444444444,
              "#bd3786"
             ],
             [
              0.5555555555555556,
              "#d8576b"
             ],
             [
              0.6666666666666666,
              "#ed7953"
             ],
             [
              0.7777777777777778,
              "#fb9f3a"
             ],
             [
              0.8888888888888888,
              "#fdca26"
             ],
             [
              1,
              "#f0f921"
             ]
            ],
            "type": "heatmapgl"
           }
          ],
          "histogram": [
           {
            "marker": {
             "pattern": {
              "fillmode": "overlay",
              "size": 10,
              "solidity": 0.2
             }
            },
            "type": "histogram"
           }
          ],
          "histogram2d": [
           {
            "colorbar": {
             "outlinewidth": 0,
             "ticks": ""
            },
            "colorscale": [
             [
              0,
              "#0d0887"
             ],
             [
              0.1111111111111111,
              "#46039f"
             ],
             [
              0.2222222222222222,
              "#7201a8"
             ],
             [
              0.3333333333333333,
              "#9c179e"
             ],
             [
              0.4444444444444444,
              "#bd3786"
             ],
             [
              0.5555555555555556,
              "#d8576b"
             ],
             [
              0.6666666666666666,
              "#ed7953"
             ],
             [
              0.7777777777777778,
              "#fb9f3a"
             ],
             [
              0.8888888888888888,
              "#fdca26"
             ],
             [
              1,
              "#f0f921"
             ]
            ],
            "type": "histogram2d"
           }
          ],
          "histogram2dcontour": [
           {
            "colorbar": {
             "outlinewidth": 0,
             "ticks": ""
            },
            "colorscale": [
             [
              0,
              "#0d0887"
             ],
             [
              0.1111111111111111,
              "#46039f"
             ],
             [
              0.2222222222222222,
              "#7201a8"
             ],
             [
              0.3333333333333333,
              "#9c179e"
             ],
             [
              0.4444444444444444,
              "#bd3786"
             ],
             [
              0.5555555555555556,
              "#d8576b"
             ],
             [
              0.6666666666666666,
              "#ed7953"
             ],
             [
              0.7777777777777778,
              "#fb9f3a"
             ],
             [
              0.8888888888888888,
              "#fdca26"
             ],
             [
              1,
              "#f0f921"
             ]
            ],
            "type": "histogram2dcontour"
           }
          ],
          "mesh3d": [
           {
            "colorbar": {
             "outlinewidth": 0,
             "ticks": ""
            },
            "type": "mesh3d"
           }
          ],
          "parcoords": [
           {
            "line": {
             "colorbar": {
              "outlinewidth": 0,
              "ticks": ""
             }
            },
            "type": "parcoords"
           }
          ],
          "pie": [
           {
            "automargin": true,
            "type": "pie"
           }
          ],
          "scatter": [
           {
            "fillpattern": {
             "fillmode": "overlay",
             "size": 10,
             "solidity": 0.2
            },
            "type": "scatter"
           }
          ],
          "scatter3d": [
           {
            "line": {
             "colorbar": {
              "outlinewidth": 0,
              "ticks": ""
             }
            },
            "marker": {
             "colorbar": {
              "outlinewidth": 0,
              "ticks": ""
             }
            },
            "type": "scatter3d"
           }
          ],
          "scattercarpet": [
           {
            "marker": {
             "colorbar": {
              "outlinewidth": 0,
              "ticks": ""
             }
            },
            "type": "scattercarpet"
           }
          ],
          "scattergeo": [
           {
            "marker": {
             "colorbar": {
              "outlinewidth": 0,
              "ticks": ""
             }
            },
            "type": "scattergeo"
           }
          ],
          "scattergl": [
           {
            "marker": {
             "colorbar": {
              "outlinewidth": 0,
              "ticks": ""
             }
            },
            "type": "scattergl"
           }
          ],
          "scattermapbox": [
           {
            "marker": {
             "colorbar": {
              "outlinewidth": 0,
              "ticks": ""
             }
            },
            "type": "scattermapbox"
           }
          ],
          "scatterpolar": [
           {
            "marker": {
             "colorbar": {
              "outlinewidth": 0,
              "ticks": ""
             }
            },
            "type": "scatterpolar"
           }
          ],
          "scatterpolargl": [
           {
            "marker": {
             "colorbar": {
              "outlinewidth": 0,
              "ticks": ""
             }
            },
            "type": "scatterpolargl"
           }
          ],
          "scatterternary": [
           {
            "marker": {
             "colorbar": {
              "outlinewidth": 0,
              "ticks": ""
             }
            },
            "type": "scatterternary"
           }
          ],
          "surface": [
           {
            "colorbar": {
             "outlinewidth": 0,
             "ticks": ""
            },
            "colorscale": [
             [
              0,
              "#0d0887"
             ],
             [
              0.1111111111111111,
              "#46039f"
             ],
             [
              0.2222222222222222,
              "#7201a8"
             ],
             [
              0.3333333333333333,
              "#9c179e"
             ],
             [
              0.4444444444444444,
              "#bd3786"
             ],
             [
              0.5555555555555556,
              "#d8576b"
             ],
             [
              0.6666666666666666,
              "#ed7953"
             ],
             [
              0.7777777777777778,
              "#fb9f3a"
             ],
             [
              0.8888888888888888,
              "#fdca26"
             ],
             [
              1,
              "#f0f921"
             ]
            ],
            "type": "surface"
           }
          ],
          "table": [
           {
            "cells": {
             "fill": {
              "color": "#EBF0F8"
             },
             "line": {
              "color": "white"
             }
            },
            "header": {
             "fill": {
              "color": "#C8D4E3"
             },
             "line": {
              "color": "white"
             }
            },
            "type": "table"
           }
          ]
         },
         "layout": {
          "annotationdefaults": {
           "arrowcolor": "#2a3f5f",
           "arrowhead": 0,
           "arrowwidth": 1
          },
          "autotypenumbers": "strict",
          "coloraxis": {
           "colorbar": {
            "outlinewidth": 0,
            "ticks": ""
           }
          },
          "colorscale": {
           "diverging": [
            [
             0,
             "#8e0152"
            ],
            [
             0.1,
             "#c51b7d"
            ],
            [
             0.2,
             "#de77ae"
            ],
            [
             0.3,
             "#f1b6da"
            ],
            [
             0.4,
             "#fde0ef"
            ],
            [
             0.5,
             "#f7f7f7"
            ],
            [
             0.6,
             "#e6f5d0"
            ],
            [
             0.7,
             "#b8e186"
            ],
            [
             0.8,
             "#7fbc41"
            ],
            [
             0.9,
             "#4d9221"
            ],
            [
             1,
             "#276419"
            ]
           ],
           "sequential": [
            [
             0,
             "#0d0887"
            ],
            [
             0.1111111111111111,
             "#46039f"
            ],
            [
             0.2222222222222222,
             "#7201a8"
            ],
            [
             0.3333333333333333,
             "#9c179e"
            ],
            [
             0.4444444444444444,
             "#bd3786"
            ],
            [
             0.5555555555555556,
             "#d8576b"
            ],
            [
             0.6666666666666666,
             "#ed7953"
            ],
            [
             0.7777777777777778,
             "#fb9f3a"
            ],
            [
             0.8888888888888888,
             "#fdca26"
            ],
            [
             1,
             "#f0f921"
            ]
           ],
           "sequentialminus": [
            [
             0,
             "#0d0887"
            ],
            [
             0.1111111111111111,
             "#46039f"
            ],
            [
             0.2222222222222222,
             "#7201a8"
            ],
            [
             0.3333333333333333,
             "#9c179e"
            ],
            [
             0.4444444444444444,
             "#bd3786"
            ],
            [
             0.5555555555555556,
             "#d8576b"
            ],
            [
             0.6666666666666666,
             "#ed7953"
            ],
            [
             0.7777777777777778,
             "#fb9f3a"
            ],
            [
             0.8888888888888888,
             "#fdca26"
            ],
            [
             1,
             "#f0f921"
            ]
           ]
          },
          "colorway": [
           "#636efa",
           "#EF553B",
           "#00cc96",
           "#ab63fa",
           "#FFA15A",
           "#19d3f3",
           "#FF6692",
           "#B6E880",
           "#FF97FF",
           "#FECB52"
          ],
          "font": {
           "color": "#2a3f5f"
          },
          "geo": {
           "bgcolor": "white",
           "lakecolor": "white",
           "landcolor": "#E5ECF6",
           "showlakes": true,
           "showland": true,
           "subunitcolor": "white"
          },
          "hoverlabel": {
           "align": "left"
          },
          "hovermode": "closest",
          "mapbox": {
           "style": "light"
          },
          "paper_bgcolor": "white",
          "plot_bgcolor": "#E5ECF6",
          "polar": {
           "angularaxis": {
            "gridcolor": "white",
            "linecolor": "white",
            "ticks": ""
           },
           "bgcolor": "#E5ECF6",
           "radialaxis": {
            "gridcolor": "white",
            "linecolor": "white",
            "ticks": ""
           }
          },
          "scene": {
           "xaxis": {
            "backgroundcolor": "#E5ECF6",
            "gridcolor": "white",
            "gridwidth": 2,
            "linecolor": "white",
            "showbackground": true,
            "ticks": "",
            "zerolinecolor": "white"
           },
           "yaxis": {
            "backgroundcolor": "#E5ECF6",
            "gridcolor": "white",
            "gridwidth": 2,
            "linecolor": "white",
            "showbackground": true,
            "ticks": "",
            "zerolinecolor": "white"
           },
           "zaxis": {
            "backgroundcolor": "#E5ECF6",
            "gridcolor": "white",
            "gridwidth": 2,
            "linecolor": "white",
            "showbackground": true,
            "ticks": "",
            "zerolinecolor": "white"
           }
          },
          "shapedefaults": {
           "line": {
            "color": "#2a3f5f"
           }
          },
          "ternary": {
           "aaxis": {
            "gridcolor": "white",
            "linecolor": "white",
            "ticks": ""
           },
           "baxis": {
            "gridcolor": "white",
            "linecolor": "white",
            "ticks": ""
           },
           "bgcolor": "#E5ECF6",
           "caxis": {
            "gridcolor": "white",
            "linecolor": "white",
            "ticks": ""
           }
          },
          "title": {
           "x": 0.05
          },
          "xaxis": {
           "automargin": true,
           "gridcolor": "white",
           "linecolor": "white",
           "ticks": "",
           "title": {
            "standoff": 15
           },
           "zerolinecolor": "white",
           "zerolinewidth": 2
          },
          "yaxis": {
           "automargin": true,
           "gridcolor": "white",
           "linecolor": "white",
           "ticks": "",
           "title": {
            "standoff": 15
           },
           "zerolinecolor": "white",
           "zerolinewidth": 2
          }
         }
        },
        "title": {
         "text": "Ethereum Price Over Time"
        },
        "xaxis": {
         "anchor": "y",
         "domain": [
          0,
          1
         ],
         "title": {
          "text": "Time in minutes"
         }
        },
        "yaxis": {
         "anchor": "x",
         "domain": [
          0,
          1
         ],
         "title": {
          "text": "Price"
         }
        }
       }
      }
     },
     "metadata": {},
     "output_type": "display_data"
    }
   ],
   "source": [
    "fig = px.line(filtered_df,\n",
    "              x='last_updated.1', \n",
    "              y='price', \n",
    "              color='name', \n",
    "              title=f'{coin_name} Price Over Time', \n",
    "              labels={'last_updated.1': 'Time in minutes',\n",
    "                      'symbol':'Symbol',\n",
    "                      'price':'Price',\n",
    "                      'name':'Cryptocurrency',\n",
    "                      },\n",
    "              \n",
    "              hover_data={'symbol':True,\n",
    "                          'price': ':,.2f',\n",
    "              }\n",
    "              \n",
    "              )\n",
    "\n",
    "\n",
    "\n",
    "\n",
    "fig.show()"
   ]
  },
  {
   "cell_type": "code",
   "execution_count": 31,
   "id": "b2cadcd6",
   "metadata": {},
   "outputs": [
    {
     "data": {
      "application/vnd.microsoft.datawrangler.viewer.v0+json": {
       "columns": [
        {
         "name": "name",
         "rawType": "object",
         "type": "string"
        },
        {
         "name": "percent_change_1h",
         "rawType": "float64",
         "type": "float"
        },
        {
         "name": "percent_change_24h",
         "rawType": "float64",
         "type": "float"
        },
        {
         "name": "percent_change_7d",
         "rawType": "float64",
         "type": "float"
        },
        {
         "name": "percent_change_30d",
         "rawType": "float64",
         "type": "float"
        },
        {
         "name": "percent_change_60d",
         "rawType": "float64",
         "type": "float"
        },
        {
         "name": "percent_change_90d",
         "rawType": "float64",
         "type": "float"
        }
       ],
       "ref": "082f804e-1766-4c58-bcfa-3a259f0b5f7f",
       "rows": [
        [
         "Aave",
         "-0.09377066266666666",
         "-4.369433609333333",
         "6.849409155333333",
         "59.857014506",
         "56.51525262",
         "29.617871807333334"
        ],
        [
         "Avalanche",
         "-0.581614724",
         "-2.103494504",
         "1.3939238986666667",
         "5.619306787333333",
         "15.389209959999999",
         "1.968322974"
        ],
        [
         "BNB",
         "0.2850593086666667",
         "-0.268229932",
         "2.838010888",
         "14.089325035333333",
         "14.048415921333334",
         "13.116463912666667"
        ],
        [
         "Bitcoin",
         "0.16487717933333332",
         "-2.1640824786666664",
         "0.462112544",
         "14.400209154",
         "30.407346768666667",
         "27.173498493333334"
        ],
        [
         "Bitcoin Cash",
         "0.288880354",
         "-2.477316516666667",
         "1.905926174",
         "17.413817596",
         "34.91190910333333",
         "36.825461814"
        ],
        [
         "Bitget Token",
         "0.009704082",
         "-2.4240737253333333",
         "0.9436624273333333",
         "18.993070040666666",
         "13.507885468000001",
         "26.72527576"
        ],
        [
         "Cardano",
         "-0.02775635333333333",
         "-2.798457710666667",
         "-1.2267420766666668",
         "6.8312565266666665",
         "11.016898795333333",
         "13.703699496666667"
        ],
        [
         "Chainlink",
         "-0.15432425866666666",
         "-2.999367088666667",
         "-1.8239658273333332",
         "4.978652012666667",
         "14.174179183333333",
         "1.1467132466666667"
        ],
        [
         "Dai",
         "-0.00564679",
         "0.012225262666666665",
         "0.009589796666666667",
         "-0.012762888666666666",
         "-0.0030366373333333336",
         "0.024884991333333332"
        ],
        [
         "Dogecoin",
         "0.058258437999999996",
         "-3.7797568673333335",
         "-3.4779853993333334",
         "24.510008048",
         "29.712220800666667",
         "5.017412182"
        ],
        [
         "Ethena USDe",
         "-0.0026016613333333335",
         "0.004467719333333333",
         "-0.0021382113333333333",
         "0.10600096333333334",
         "0.11220062333333333",
         "0.141688496"
        ],
        [
         "Ethereum",
         "0.024563206666666663",
         "-1.2965086913333332",
         "6.573832965333334",
         "49.427516928",
         "45.09278631466667",
         "14.031668051999999"
        ],
        [
         "Hedera",
         "0.13248273333333332",
         "-3.8532951533333333",
         "-5.803056176",
         "-4.215438413333334",
         "7.928134728666667",
         "-8.455492944666666"
        ],
        [
         "Hyperliquid",
         "0.031400954",
         "-9.121582432",
         "24.893676136666667",
         "96.71447807466666",
         "165.99035304",
         "67.29322772333333"
        ],
        [
         "Litecoin",
         "-0.12689980666666667",
         "-1.6105416726666666",
         "-0.36487710133333334",
         "11.828244007333332",
         "11.061670335999999",
         "-25.090170518666664"
        ],
        [
         "Monero",
         "0.6330339086666666",
         "-11.288906282000001",
         "-9.711855604666665",
         "33.15100189333334",
         "60.440362355333335",
         "64.05370427333334"
        ],
        [
         "Pepe",
         "0.26586349333333337",
         "-2.6461432106666667",
         "4.26255502",
         "55.87565849733333",
         "88.819533028",
         "63.040192473333335"
        ],
        [
         "Pi",
         "-0.38281422800000003",
         "-3.3143813506666664",
         "-11.562804938",
         "18.215181596666664",
         "-10.256703435333332",
         "-72.546861168"
        ],
        [
         "Polkadot",
         "-0.2521864153333333",
         "-1.6388608006666667",
         "-4.332223172",
         "7.225949176",
         "10.53146765",
         "-9.813647508"
        ],
        [
         "Shiba Inu",
         "0.017486144",
         "-2.9793746626666664",
         "-2.9604396606666668",
         "3.9992464653333335",
         "11.707215006",
         "-3.000821538"
        ],
        [
         "Solana",
         "0.10521421266666667",
         "-4.309235702",
         "1.3814100313333335",
         "16.323057232",
         "36.065193349999994",
         "23.11620578333333"
        ],
        [
         "Stellar",
         "0.017005179333333335",
         "-2.2212448806666667",
         "-2.044502802",
         "-0.5295651286666667",
         "6.304811469333333",
         "-1.3336277513333334"
        ],
        [
         "Sui",
         "-0.035798234666666665",
         "-3.7238486500000003",
         "-8.306998470666667",
         "0.14848582933333335",
         "55.62189444333333",
         "25.63288291"
        ],
        [
         "TRON",
         "0.053523419333333336",
         "0.05384471466666666",
         "3.185026198",
         "11.274293881333334",
         "17.216401750666666",
         "20.512810434000002"
        ],
        [
         "Tether USDt",
         "-0.006169548666666667",
         "-0.023500414666666667",
         "-0.022410238000000002",
         "-0.026732264666666665",
         "0.041505834666666665",
         "0.139968076"
        ],
        [
         "Toncoin",
         "0.059262983999999984",
         "13.74963931",
         "11.696016996666666",
         "5.797697910666667",
         "-8.945804746666665",
         "0.41960387000000005"
        ],
        [
         "UNUS SED LEO",
         "0.18097983533333334",
         "2.271481122",
         "2.871028440666667",
         "1.304433314",
         "-5.095348606",
         "-0.3623845493333333"
        ],
        [
         "USDC",
         "-0.0036054866666666665",
         "0.0036095193333333334",
         "-0.001345616",
         "-0.028186955333333333",
         "-0.026930073333333335",
         "-0.009725458"
        ],
        [
         "Uniswap",
         "-0.27123020333333336",
         "1.9395375493333333",
         "9.750881323333333",
         "23.481395924",
         "12.375174211333333",
         "-16.54765053266667"
        ],
        [
         "XRP",
         "0.5020678926666666",
         "-3.579577018666667",
         "-4.6556158566666666",
         "-0.9792914426666667",
         "5.9004188373333335",
         "1.3858114366666667"
        ]
       ],
       "shape": {
        "columns": 6,
        "rows": 30
       }
      },
      "text/html": [
       "<div>\n",
       "<style scoped>\n",
       "    .dataframe tbody tr th:only-of-type {\n",
       "        vertical-align: middle;\n",
       "    }\n",
       "\n",
       "    .dataframe tbody tr th {\n",
       "        vertical-align: top;\n",
       "    }\n",
       "\n",
       "    .dataframe thead th {\n",
       "        text-align: right;\n",
       "    }\n",
       "</style>\n",
       "<table border=\"1\" class=\"dataframe\">\n",
       "  <thead>\n",
       "    <tr style=\"text-align: right;\">\n",
       "      <th></th>\n",
       "      <th>percent_change_1h</th>\n",
       "      <th>percent_change_24h</th>\n",
       "      <th>percent_change_7d</th>\n",
       "      <th>percent_change_30d</th>\n",
       "      <th>percent_change_60d</th>\n",
       "      <th>percent_change_90d</th>\n",
       "    </tr>\n",
       "    <tr>\n",
       "      <th>name</th>\n",
       "      <th></th>\n",
       "      <th></th>\n",
       "      <th></th>\n",
       "      <th></th>\n",
       "      <th></th>\n",
       "      <th></th>\n",
       "    </tr>\n",
       "  </thead>\n",
       "  <tbody>\n",
       "    <tr>\n",
       "      <th>Aave</th>\n",
       "      <td>-0.093771</td>\n",
       "      <td>-4.369434</td>\n",
       "      <td>6.849409</td>\n",
       "      <td>59.857015</td>\n",
       "      <td>56.515253</td>\n",
       "      <td>29.617872</td>\n",
       "    </tr>\n",
       "    <tr>\n",
       "      <th>Avalanche</th>\n",
       "      <td>-0.581615</td>\n",
       "      <td>-2.103495</td>\n",
       "      <td>1.393924</td>\n",
       "      <td>5.619307</td>\n",
       "      <td>15.389210</td>\n",
       "      <td>1.968323</td>\n",
       "    </tr>\n",
       "    <tr>\n",
       "      <th>BNB</th>\n",
       "      <td>0.285059</td>\n",
       "      <td>-0.268230</td>\n",
       "      <td>2.838011</td>\n",
       "      <td>14.089325</td>\n",
       "      <td>14.048416</td>\n",
       "      <td>13.116464</td>\n",
       "    </tr>\n",
       "    <tr>\n",
       "      <th>Bitcoin</th>\n",
       "      <td>0.164877</td>\n",
       "      <td>-2.164082</td>\n",
       "      <td>0.462113</td>\n",
       "      <td>14.400209</td>\n",
       "      <td>30.407347</td>\n",
       "      <td>27.173498</td>\n",
       "    </tr>\n",
       "    <tr>\n",
       "      <th>Bitcoin Cash</th>\n",
       "      <td>0.288880</td>\n",
       "      <td>-2.477317</td>\n",
       "      <td>1.905926</td>\n",
       "      <td>17.413818</td>\n",
       "      <td>34.911909</td>\n",
       "      <td>36.825462</td>\n",
       "    </tr>\n",
       "    <tr>\n",
       "      <th>Bitget Token</th>\n",
       "      <td>0.009704</td>\n",
       "      <td>-2.424074</td>\n",
       "      <td>0.943662</td>\n",
       "      <td>18.993070</td>\n",
       "      <td>13.507885</td>\n",
       "      <td>26.725276</td>\n",
       "    </tr>\n",
       "    <tr>\n",
       "      <th>Cardano</th>\n",
       "      <td>-0.027756</td>\n",
       "      <td>-2.798458</td>\n",
       "      <td>-1.226742</td>\n",
       "      <td>6.831257</td>\n",
       "      <td>11.016899</td>\n",
       "      <td>13.703699</td>\n",
       "    </tr>\n",
       "    <tr>\n",
       "      <th>Chainlink</th>\n",
       "      <td>-0.154324</td>\n",
       "      <td>-2.999367</td>\n",
       "      <td>-1.823966</td>\n",
       "      <td>4.978652</td>\n",
       "      <td>14.174179</td>\n",
       "      <td>1.146713</td>\n",
       "    </tr>\n",
       "    <tr>\n",
       "      <th>Dai</th>\n",
       "      <td>-0.005647</td>\n",
       "      <td>0.012225</td>\n",
       "      <td>0.009590</td>\n",
       "      <td>-0.012763</td>\n",
       "      <td>-0.003037</td>\n",
       "      <td>0.024885</td>\n",
       "    </tr>\n",
       "    <tr>\n",
       "      <th>Dogecoin</th>\n",
       "      <td>0.058258</td>\n",
       "      <td>-3.779757</td>\n",
       "      <td>-3.477985</td>\n",
       "      <td>24.510008</td>\n",
       "      <td>29.712221</td>\n",
       "      <td>5.017412</td>\n",
       "    </tr>\n",
       "    <tr>\n",
       "      <th>Ethena USDe</th>\n",
       "      <td>-0.002602</td>\n",
       "      <td>0.004468</td>\n",
       "      <td>-0.002138</td>\n",
       "      <td>0.106001</td>\n",
       "      <td>0.112201</td>\n",
       "      <td>0.141688</td>\n",
       "    </tr>\n",
       "    <tr>\n",
       "      <th>Ethereum</th>\n",
       "      <td>0.024563</td>\n",
       "      <td>-1.296509</td>\n",
       "      <td>6.573833</td>\n",
       "      <td>49.427517</td>\n",
       "      <td>45.092786</td>\n",
       "      <td>14.031668</td>\n",
       "    </tr>\n",
       "    <tr>\n",
       "      <th>Hedera</th>\n",
       "      <td>0.132483</td>\n",
       "      <td>-3.853295</td>\n",
       "      <td>-5.803056</td>\n",
       "      <td>-4.215438</td>\n",
       "      <td>7.928135</td>\n",
       "      <td>-8.455493</td>\n",
       "    </tr>\n",
       "    <tr>\n",
       "      <th>Hyperliquid</th>\n",
       "      <td>0.031401</td>\n",
       "      <td>-9.121582</td>\n",
       "      <td>24.893676</td>\n",
       "      <td>96.714478</td>\n",
       "      <td>165.990353</td>\n",
       "      <td>67.293228</td>\n",
       "    </tr>\n",
       "    <tr>\n",
       "      <th>Litecoin</th>\n",
       "      <td>-0.126900</td>\n",
       "      <td>-1.610542</td>\n",
       "      <td>-0.364877</td>\n",
       "      <td>11.828244</td>\n",
       "      <td>11.061670</td>\n",
       "      <td>-25.090171</td>\n",
       "    </tr>\n",
       "    <tr>\n",
       "      <th>Monero</th>\n",
       "      <td>0.633034</td>\n",
       "      <td>-11.288906</td>\n",
       "      <td>-9.711856</td>\n",
       "      <td>33.151002</td>\n",
       "      <td>60.440362</td>\n",
       "      <td>64.053704</td>\n",
       "    </tr>\n",
       "    <tr>\n",
       "      <th>Pepe</th>\n",
       "      <td>0.265863</td>\n",
       "      <td>-2.646143</td>\n",
       "      <td>4.262555</td>\n",
       "      <td>55.875658</td>\n",
       "      <td>88.819533</td>\n",
       "      <td>63.040192</td>\n",
       "    </tr>\n",
       "    <tr>\n",
       "      <th>Pi</th>\n",
       "      <td>-0.382814</td>\n",
       "      <td>-3.314381</td>\n",
       "      <td>-11.562805</td>\n",
       "      <td>18.215182</td>\n",
       "      <td>-10.256703</td>\n",
       "      <td>-72.546861</td>\n",
       "    </tr>\n",
       "    <tr>\n",
       "      <th>Polkadot</th>\n",
       "      <td>-0.252186</td>\n",
       "      <td>-1.638861</td>\n",
       "      <td>-4.332223</td>\n",
       "      <td>7.225949</td>\n",
       "      <td>10.531468</td>\n",
       "      <td>-9.813648</td>\n",
       "    </tr>\n",
       "    <tr>\n",
       "      <th>Shiba Inu</th>\n",
       "      <td>0.017486</td>\n",
       "      <td>-2.979375</td>\n",
       "      <td>-2.960440</td>\n",
       "      <td>3.999246</td>\n",
       "      <td>11.707215</td>\n",
       "      <td>-3.000822</td>\n",
       "    </tr>\n",
       "    <tr>\n",
       "      <th>Solana</th>\n",
       "      <td>0.105214</td>\n",
       "      <td>-4.309236</td>\n",
       "      <td>1.381410</td>\n",
       "      <td>16.323057</td>\n",
       "      <td>36.065193</td>\n",
       "      <td>23.116206</td>\n",
       "    </tr>\n",
       "    <tr>\n",
       "      <th>Stellar</th>\n",
       "      <td>0.017005</td>\n",
       "      <td>-2.221245</td>\n",
       "      <td>-2.044503</td>\n",
       "      <td>-0.529565</td>\n",
       "      <td>6.304811</td>\n",
       "      <td>-1.333628</td>\n",
       "    </tr>\n",
       "    <tr>\n",
       "      <th>Sui</th>\n",
       "      <td>-0.035798</td>\n",
       "      <td>-3.723849</td>\n",
       "      <td>-8.306998</td>\n",
       "      <td>0.148486</td>\n",
       "      <td>55.621894</td>\n",
       "      <td>25.632883</td>\n",
       "    </tr>\n",
       "    <tr>\n",
       "      <th>TRON</th>\n",
       "      <td>0.053523</td>\n",
       "      <td>0.053845</td>\n",
       "      <td>3.185026</td>\n",
       "      <td>11.274294</td>\n",
       "      <td>17.216402</td>\n",
       "      <td>20.512810</td>\n",
       "    </tr>\n",
       "    <tr>\n",
       "      <th>Tether USDt</th>\n",
       "      <td>-0.006170</td>\n",
       "      <td>-0.023500</td>\n",
       "      <td>-0.022410</td>\n",
       "      <td>-0.026732</td>\n",
       "      <td>0.041506</td>\n",
       "      <td>0.139968</td>\n",
       "    </tr>\n",
       "    <tr>\n",
       "      <th>Toncoin</th>\n",
       "      <td>0.059263</td>\n",
       "      <td>13.749639</td>\n",
       "      <td>11.696017</td>\n",
       "      <td>5.797698</td>\n",
       "      <td>-8.945805</td>\n",
       "      <td>0.419604</td>\n",
       "    </tr>\n",
       "    <tr>\n",
       "      <th>UNUS SED LEO</th>\n",
       "      <td>0.180980</td>\n",
       "      <td>2.271481</td>\n",
       "      <td>2.871028</td>\n",
       "      <td>1.304433</td>\n",
       "      <td>-5.095349</td>\n",
       "      <td>-0.362385</td>\n",
       "    </tr>\n",
       "    <tr>\n",
       "      <th>USDC</th>\n",
       "      <td>-0.003605</td>\n",
       "      <td>0.003610</td>\n",
       "      <td>-0.001346</td>\n",
       "      <td>-0.028187</td>\n",
       "      <td>-0.026930</td>\n",
       "      <td>-0.009725</td>\n",
       "    </tr>\n",
       "    <tr>\n",
       "      <th>Uniswap</th>\n",
       "      <td>-0.271230</td>\n",
       "      <td>1.939538</td>\n",
       "      <td>9.750881</td>\n",
       "      <td>23.481396</td>\n",
       "      <td>12.375174</td>\n",
       "      <td>-16.547651</td>\n",
       "    </tr>\n",
       "    <tr>\n",
       "      <th>XRP</th>\n",
       "      <td>0.502068</td>\n",
       "      <td>-3.579577</td>\n",
       "      <td>-4.655616</td>\n",
       "      <td>-0.979291</td>\n",
       "      <td>5.900419</td>\n",
       "      <td>1.385811</td>\n",
       "    </tr>\n",
       "  </tbody>\n",
       "</table>\n",
       "</div>"
      ],
      "text/plain": [
       "              percent_change_1h  percent_change_24h  percent_change_7d  \\\n",
       "name                                                                     \n",
       "Aave                  -0.093771           -4.369434           6.849409   \n",
       "Avalanche             -0.581615           -2.103495           1.393924   \n",
       "BNB                    0.285059           -0.268230           2.838011   \n",
       "Bitcoin                0.164877           -2.164082           0.462113   \n",
       "Bitcoin Cash           0.288880           -2.477317           1.905926   \n",
       "Bitget Token           0.009704           -2.424074           0.943662   \n",
       "Cardano               -0.027756           -2.798458          -1.226742   \n",
       "Chainlink             -0.154324           -2.999367          -1.823966   \n",
       "Dai                   -0.005647            0.012225           0.009590   \n",
       "Dogecoin               0.058258           -3.779757          -3.477985   \n",
       "Ethena USDe           -0.002602            0.004468          -0.002138   \n",
       "Ethereum               0.024563           -1.296509           6.573833   \n",
       "Hedera                 0.132483           -3.853295          -5.803056   \n",
       "Hyperliquid            0.031401           -9.121582          24.893676   \n",
       "Litecoin              -0.126900           -1.610542          -0.364877   \n",
       "Monero                 0.633034          -11.288906          -9.711856   \n",
       "Pepe                   0.265863           -2.646143           4.262555   \n",
       "Pi                    -0.382814           -3.314381         -11.562805   \n",
       "Polkadot              -0.252186           -1.638861          -4.332223   \n",
       "Shiba Inu              0.017486           -2.979375          -2.960440   \n",
       "Solana                 0.105214           -4.309236           1.381410   \n",
       "Stellar                0.017005           -2.221245          -2.044503   \n",
       "Sui                   -0.035798           -3.723849          -8.306998   \n",
       "TRON                   0.053523            0.053845           3.185026   \n",
       "Tether USDt           -0.006170           -0.023500          -0.022410   \n",
       "Toncoin                0.059263           13.749639          11.696017   \n",
       "UNUS SED LEO           0.180980            2.271481           2.871028   \n",
       "USDC                  -0.003605            0.003610          -0.001346   \n",
       "Uniswap               -0.271230            1.939538           9.750881   \n",
       "XRP                    0.502068           -3.579577          -4.655616   \n",
       "\n",
       "              percent_change_30d  percent_change_60d  percent_change_90d  \n",
       "name                                                                      \n",
       "Aave                   59.857015           56.515253           29.617872  \n",
       "Avalanche               5.619307           15.389210            1.968323  \n",
       "BNB                    14.089325           14.048416           13.116464  \n",
       "Bitcoin                14.400209           30.407347           27.173498  \n",
       "Bitcoin Cash           17.413818           34.911909           36.825462  \n",
       "Bitget Token           18.993070           13.507885           26.725276  \n",
       "Cardano                 6.831257           11.016899           13.703699  \n",
       "Chainlink               4.978652           14.174179            1.146713  \n",
       "Dai                    -0.012763           -0.003037            0.024885  \n",
       "Dogecoin               24.510008           29.712221            5.017412  \n",
       "Ethena USDe             0.106001            0.112201            0.141688  \n",
       "Ethereum               49.427517           45.092786           14.031668  \n",
       "Hedera                 -4.215438            7.928135           -8.455493  \n",
       "Hyperliquid            96.714478          165.990353           67.293228  \n",
       "Litecoin               11.828244           11.061670          -25.090171  \n",
       "Monero                 33.151002           60.440362           64.053704  \n",
       "Pepe                   55.875658           88.819533           63.040192  \n",
       "Pi                     18.215182          -10.256703          -72.546861  \n",
       "Polkadot                7.225949           10.531468           -9.813648  \n",
       "Shiba Inu               3.999246           11.707215           -3.000822  \n",
       "Solana                 16.323057           36.065193           23.116206  \n",
       "Stellar                -0.529565            6.304811           -1.333628  \n",
       "Sui                     0.148486           55.621894           25.632883  \n",
       "TRON                   11.274294           17.216402           20.512810  \n",
       "Tether USDt            -0.026732            0.041506            0.139968  \n",
       "Toncoin                 5.797698           -8.945805            0.419604  \n",
       "UNUS SED LEO            1.304433           -5.095349           -0.362385  \n",
       "USDC                   -0.028187           -0.026930           -0.009725  \n",
       "Uniswap                23.481396           12.375174          -16.547651  \n",
       "XRP                    -0.979291            5.900419            1.385811  "
      ]
     },
     "execution_count": 31,
     "metadata": {},
     "output_type": "execute_result"
    }
   ],
   "source": [
    "grouped_df = all_data_df.groupby('name')[time_windows].mean()\n",
    "grouped_df"
   ]
  },
  {
   "cell_type": "code",
   "execution_count": 32,
   "id": "de920e44",
   "metadata": {},
   "outputs": [
    {
     "data": {
      "application/vnd.microsoft.datawrangler.viewer.v0+json": {
       "columns": [
        {
         "name": "index",
         "rawType": "int64",
         "type": "integer"
        },
        {
         "name": "name",
         "rawType": "object",
         "type": "string"
        },
        {
         "name": "percent_change_1h",
         "rawType": "float64",
         "type": "float"
        },
        {
         "name": "percent_change_24h",
         "rawType": "float64",
         "type": "float"
        },
        {
         "name": "percent_change_7d",
         "rawType": "float64",
         "type": "float"
        },
        {
         "name": "percent_change_30d",
         "rawType": "float64",
         "type": "float"
        },
        {
         "name": "percent_change_60d",
         "rawType": "float64",
         "type": "float"
        },
        {
         "name": "percent_change_90d",
         "rawType": "float64",
         "type": "float"
        }
       ],
       "ref": "a66b680e-c542-4fac-bf31-e0b1615b2f94",
       "rows": [
        [
         "0",
         "Aave",
         "-0.09377066266666666",
         "-4.369433609333333",
         "6.849409155333333",
         "59.857014506",
         "56.51525262",
         "29.617871807333334"
        ],
        [
         "1",
         "Avalanche",
         "-0.581614724",
         "-2.103494504",
         "1.3939238986666667",
         "5.619306787333333",
         "15.389209959999999",
         "1.968322974"
        ],
        [
         "2",
         "BNB",
         "0.2850593086666667",
         "-0.268229932",
         "2.838010888",
         "14.089325035333333",
         "14.048415921333334",
         "13.116463912666667"
        ],
        [
         "3",
         "Bitcoin",
         "0.16487717933333332",
         "-2.1640824786666664",
         "0.462112544",
         "14.400209154",
         "30.407346768666667",
         "27.173498493333334"
        ],
        [
         "4",
         "Ethereum",
         "0.024563206666666663",
         "-1.2965086913333332",
         "6.573832965333334",
         "49.427516928",
         "45.09278631466667",
         "14.031668051999999"
        ],
        [
         "5",
         "Litecoin",
         "-0.12689980666666667",
         "-1.6105416726666666",
         "-0.36487710133333334",
         "11.828244007333332",
         "11.061670335999999",
         "-25.090170518666664"
        ],
        [
         "6",
         "Monero",
         "0.6330339086666666",
         "-11.288906282000001",
         "-9.711855604666665",
         "33.15100189333334",
         "60.440362355333335",
         "64.05370427333334"
        ],
        [
         "7",
         "Shiba Inu",
         "0.017486144",
         "-2.9793746626666664",
         "-2.9604396606666668",
         "3.9992464653333335",
         "11.707215006",
         "-3.000821538"
        ],
        [
         "8",
         "Stellar",
         "0.017005179333333335",
         "-2.2212448806666667",
         "-2.044502802",
         "-0.5295651286666667",
         "6.304811469333333",
         "-1.3336277513333334"
        ],
        [
         "9",
         "Sui",
         "-0.035798234666666665",
         "-3.7238486500000003",
         "-8.306998470666667",
         "0.14848582933333335",
         "55.62189444333333",
         "25.63288291"
        ]
       ],
       "shape": {
        "columns": 7,
        "rows": 10
       }
      },
      "text/html": [
       "<div>\n",
       "<style scoped>\n",
       "    .dataframe tbody tr th:only-of-type {\n",
       "        vertical-align: middle;\n",
       "    }\n",
       "\n",
       "    .dataframe tbody tr th {\n",
       "        vertical-align: top;\n",
       "    }\n",
       "\n",
       "    .dataframe thead th {\n",
       "        text-align: right;\n",
       "    }\n",
       "</style>\n",
       "<table border=\"1\" class=\"dataframe\">\n",
       "  <thead>\n",
       "    <tr style=\"text-align: right;\">\n",
       "      <th></th>\n",
       "      <th>name</th>\n",
       "      <th>percent_change_1h</th>\n",
       "      <th>percent_change_24h</th>\n",
       "      <th>percent_change_7d</th>\n",
       "      <th>percent_change_30d</th>\n",
       "      <th>percent_change_60d</th>\n",
       "      <th>percent_change_90d</th>\n",
       "    </tr>\n",
       "  </thead>\n",
       "  <tbody>\n",
       "    <tr>\n",
       "      <th>0</th>\n",
       "      <td>Aave</td>\n",
       "      <td>-0.093771</td>\n",
       "      <td>-4.369434</td>\n",
       "      <td>6.849409</td>\n",
       "      <td>59.857015</td>\n",
       "      <td>56.515253</td>\n",
       "      <td>29.617872</td>\n",
       "    </tr>\n",
       "    <tr>\n",
       "      <th>1</th>\n",
       "      <td>Avalanche</td>\n",
       "      <td>-0.581615</td>\n",
       "      <td>-2.103495</td>\n",
       "      <td>1.393924</td>\n",
       "      <td>5.619307</td>\n",
       "      <td>15.389210</td>\n",
       "      <td>1.968323</td>\n",
       "    </tr>\n",
       "    <tr>\n",
       "      <th>2</th>\n",
       "      <td>BNB</td>\n",
       "      <td>0.285059</td>\n",
       "      <td>-0.268230</td>\n",
       "      <td>2.838011</td>\n",
       "      <td>14.089325</td>\n",
       "      <td>14.048416</td>\n",
       "      <td>13.116464</td>\n",
       "    </tr>\n",
       "    <tr>\n",
       "      <th>3</th>\n",
       "      <td>Bitcoin</td>\n",
       "      <td>0.164877</td>\n",
       "      <td>-2.164082</td>\n",
       "      <td>0.462113</td>\n",
       "      <td>14.400209</td>\n",
       "      <td>30.407347</td>\n",
       "      <td>27.173498</td>\n",
       "    </tr>\n",
       "    <tr>\n",
       "      <th>4</th>\n",
       "      <td>Ethereum</td>\n",
       "      <td>0.024563</td>\n",
       "      <td>-1.296509</td>\n",
       "      <td>6.573833</td>\n",
       "      <td>49.427517</td>\n",
       "      <td>45.092786</td>\n",
       "      <td>14.031668</td>\n",
       "    </tr>\n",
       "    <tr>\n",
       "      <th>5</th>\n",
       "      <td>Litecoin</td>\n",
       "      <td>-0.126900</td>\n",
       "      <td>-1.610542</td>\n",
       "      <td>-0.364877</td>\n",
       "      <td>11.828244</td>\n",
       "      <td>11.061670</td>\n",
       "      <td>-25.090171</td>\n",
       "    </tr>\n",
       "    <tr>\n",
       "      <th>6</th>\n",
       "      <td>Monero</td>\n",
       "      <td>0.633034</td>\n",
       "      <td>-11.288906</td>\n",
       "      <td>-9.711856</td>\n",
       "      <td>33.151002</td>\n",
       "      <td>60.440362</td>\n",
       "      <td>64.053704</td>\n",
       "    </tr>\n",
       "    <tr>\n",
       "      <th>7</th>\n",
       "      <td>Shiba Inu</td>\n",
       "      <td>0.017486</td>\n",
       "      <td>-2.979375</td>\n",
       "      <td>-2.960440</td>\n",
       "      <td>3.999246</td>\n",
       "      <td>11.707215</td>\n",
       "      <td>-3.000822</td>\n",
       "    </tr>\n",
       "    <tr>\n",
       "      <th>8</th>\n",
       "      <td>Stellar</td>\n",
       "      <td>0.017005</td>\n",
       "      <td>-2.221245</td>\n",
       "      <td>-2.044503</td>\n",
       "      <td>-0.529565</td>\n",
       "      <td>6.304811</td>\n",
       "      <td>-1.333628</td>\n",
       "    </tr>\n",
       "    <tr>\n",
       "      <th>9</th>\n",
       "      <td>Sui</td>\n",
       "      <td>-0.035798</td>\n",
       "      <td>-3.723849</td>\n",
       "      <td>-8.306998</td>\n",
       "      <td>0.148486</td>\n",
       "      <td>55.621894</td>\n",
       "      <td>25.632883</td>\n",
       "    </tr>\n",
       "  </tbody>\n",
       "</table>\n",
       "</div>"
      ],
      "text/plain": [
       "        name  percent_change_1h  percent_change_24h  percent_change_7d  \\\n",
       "0       Aave          -0.093771           -4.369434           6.849409   \n",
       "1  Avalanche          -0.581615           -2.103495           1.393924   \n",
       "2        BNB           0.285059           -0.268230           2.838011   \n",
       "3    Bitcoin           0.164877           -2.164082           0.462113   \n",
       "4   Ethereum           0.024563           -1.296509           6.573833   \n",
       "5   Litecoin          -0.126900           -1.610542          -0.364877   \n",
       "6     Monero           0.633034          -11.288906          -9.711856   \n",
       "7  Shiba Inu           0.017486           -2.979375          -2.960440   \n",
       "8    Stellar           0.017005           -2.221245          -2.044503   \n",
       "9        Sui          -0.035798           -3.723849          -8.306998   \n",
       "\n",
       "   percent_change_30d  percent_change_60d  percent_change_90d  \n",
       "0           59.857015           56.515253           29.617872  \n",
       "1            5.619307           15.389210            1.968323  \n",
       "2           14.089325           14.048416           13.116464  \n",
       "3           14.400209           30.407347           27.173498  \n",
       "4           49.427517           45.092786           14.031668  \n",
       "5           11.828244           11.061670          -25.090171  \n",
       "6           33.151002           60.440362           64.053704  \n",
       "7            3.999246           11.707215           -3.000822  \n",
       "8           -0.529565            6.304811           -1.333628  \n",
       "9            0.148486           55.621894           25.632883  "
      ]
     },
     "execution_count": 32,
     "metadata": {},
     "output_type": "execute_result"
    }
   ],
   "source": [
    "# filtering out top 10 coins we want\n",
    "coins=['Bitcoin','Ethereum','Avalanche','Aave','BNB','Stellar','Sui','Shiba Inu','Monero','Litecoin']\n",
    "top_10_coins = all_data_df.loc[all_data_df['name'].isin(coins)].reset_index(drop=True)\n",
    "top_10_mean = top_10_coins.groupby('name')[time_windows].mean().reset_index()\n",
    "top_10_mean\n"
   ]
  },
  {
   "cell_type": "code",
   "execution_count": 33,
   "id": "4f593880",
   "metadata": {},
   "outputs": [
    {
     "data": {
      "application/vnd.microsoft.datawrangler.viewer.v0+json": {
       "columns": [
        {
         "name": "index",
         "rawType": "int64",
         "type": "integer"
        },
        {
         "name": "name",
         "rawType": "object",
         "type": "string"
        },
        {
         "name": "Time Frame",
         "rawType": "object",
         "type": "string"
        },
        {
         "name": "Percent Change",
         "rawType": "float64",
         "type": "float"
        }
       ],
       "ref": "97270ad4-6b72-4843-a306-627a855027b0",
       "rows": [
        [
         "0",
         "Aave",
         "1h",
         "-0.09377066266666666"
        ],
        [
         "1",
         "Avalanche",
         "1h",
         "-0.581614724"
        ],
        [
         "2",
         "BNB",
         "1h",
         "0.2850593086666667"
        ],
        [
         "3",
         "Bitcoin",
         "1h",
         "0.16487717933333332"
        ],
        [
         "4",
         "Ethereum",
         "1h",
         "0.024563206666666663"
        ],
        [
         "5",
         "Litecoin",
         "1h",
         "-0.12689980666666667"
        ],
        [
         "6",
         "Monero",
         "1h",
         "0.6330339086666666"
        ],
        [
         "7",
         "Shiba Inu",
         "1h",
         "0.017486144"
        ],
        [
         "8",
         "Stellar",
         "1h",
         "0.017005179333333335"
        ],
        [
         "9",
         "Sui",
         "1h",
         "-0.035798234666666665"
        ],
        [
         "10",
         "Aave",
         "24h",
         "-4.369433609333333"
        ],
        [
         "11",
         "Avalanche",
         "24h",
         "-2.103494504"
        ],
        [
         "12",
         "BNB",
         "24h",
         "-0.268229932"
        ],
        [
         "13",
         "Bitcoin",
         "24h",
         "-2.1640824786666664"
        ],
        [
         "14",
         "Ethereum",
         "24h",
         "-1.2965086913333332"
        ],
        [
         "15",
         "Litecoin",
         "24h",
         "-1.6105416726666666"
        ],
        [
         "16",
         "Monero",
         "24h",
         "-11.288906282000001"
        ],
        [
         "17",
         "Shiba Inu",
         "24h",
         "-2.9793746626666664"
        ],
        [
         "18",
         "Stellar",
         "24h",
         "-2.2212448806666667"
        ],
        [
         "19",
         "Sui",
         "24h",
         "-3.7238486500000003"
        ],
        [
         "20",
         "Aave",
         "7d",
         "6.849409155333333"
        ],
        [
         "21",
         "Avalanche",
         "7d",
         "1.3939238986666667"
        ],
        [
         "22",
         "BNB",
         "7d",
         "2.838010888"
        ],
        [
         "23",
         "Bitcoin",
         "7d",
         "0.462112544"
        ],
        [
         "24",
         "Ethereum",
         "7d",
         "6.573832965333334"
        ],
        [
         "25",
         "Litecoin",
         "7d",
         "-0.36487710133333334"
        ],
        [
         "26",
         "Monero",
         "7d",
         "-9.711855604666665"
        ],
        [
         "27",
         "Shiba Inu",
         "7d",
         "-2.9604396606666668"
        ],
        [
         "28",
         "Stellar",
         "7d",
         "-2.044502802"
        ],
        [
         "29",
         "Sui",
         "7d",
         "-8.306998470666667"
        ],
        [
         "30",
         "Aave",
         "30d",
         "59.857014506"
        ],
        [
         "31",
         "Avalanche",
         "30d",
         "5.619306787333333"
        ],
        [
         "32",
         "BNB",
         "30d",
         "14.089325035333333"
        ],
        [
         "33",
         "Bitcoin",
         "30d",
         "14.400209154"
        ],
        [
         "34",
         "Ethereum",
         "30d",
         "49.427516928"
        ],
        [
         "35",
         "Litecoin",
         "30d",
         "11.828244007333332"
        ],
        [
         "36",
         "Monero",
         "30d",
         "33.15100189333334"
        ],
        [
         "37",
         "Shiba Inu",
         "30d",
         "3.9992464653333335"
        ],
        [
         "38",
         "Stellar",
         "30d",
         "-0.5295651286666667"
        ],
        [
         "39",
         "Sui",
         "30d",
         "0.14848582933333335"
        ],
        [
         "40",
         "Aave",
         "60d",
         "56.51525262"
        ],
        [
         "41",
         "Avalanche",
         "60d",
         "15.389209959999999"
        ],
        [
         "42",
         "BNB",
         "60d",
         "14.048415921333334"
        ],
        [
         "43",
         "Bitcoin",
         "60d",
         "30.407346768666667"
        ],
        [
         "44",
         "Ethereum",
         "60d",
         "45.09278631466667"
        ],
        [
         "45",
         "Litecoin",
         "60d",
         "11.061670335999999"
        ],
        [
         "46",
         "Monero",
         "60d",
         "60.440362355333335"
        ],
        [
         "47",
         "Shiba Inu",
         "60d",
         "11.707215006"
        ],
        [
         "48",
         "Stellar",
         "60d",
         "6.304811469333333"
        ],
        [
         "49",
         "Sui",
         "60d",
         "55.62189444333333"
        ]
       ],
       "shape": {
        "columns": 3,
        "rows": 60
       }
      },
      "text/html": [
       "<div>\n",
       "<style scoped>\n",
       "    .dataframe tbody tr th:only-of-type {\n",
       "        vertical-align: middle;\n",
       "    }\n",
       "\n",
       "    .dataframe tbody tr th {\n",
       "        vertical-align: top;\n",
       "    }\n",
       "\n",
       "    .dataframe thead th {\n",
       "        text-align: right;\n",
       "    }\n",
       "</style>\n",
       "<table border=\"1\" class=\"dataframe\">\n",
       "  <thead>\n",
       "    <tr style=\"text-align: right;\">\n",
       "      <th></th>\n",
       "      <th>name</th>\n",
       "      <th>Time Frame</th>\n",
       "      <th>Percent Change</th>\n",
       "    </tr>\n",
       "  </thead>\n",
       "  <tbody>\n",
       "    <tr>\n",
       "      <th>0</th>\n",
       "      <td>Aave</td>\n",
       "      <td>1h</td>\n",
       "      <td>-0.093771</td>\n",
       "    </tr>\n",
       "    <tr>\n",
       "      <th>1</th>\n",
       "      <td>Avalanche</td>\n",
       "      <td>1h</td>\n",
       "      <td>-0.581615</td>\n",
       "    </tr>\n",
       "    <tr>\n",
       "      <th>2</th>\n",
       "      <td>BNB</td>\n",
       "      <td>1h</td>\n",
       "      <td>0.285059</td>\n",
       "    </tr>\n",
       "    <tr>\n",
       "      <th>3</th>\n",
       "      <td>Bitcoin</td>\n",
       "      <td>1h</td>\n",
       "      <td>0.164877</td>\n",
       "    </tr>\n",
       "    <tr>\n",
       "      <th>4</th>\n",
       "      <td>Ethereum</td>\n",
       "      <td>1h</td>\n",
       "      <td>0.024563</td>\n",
       "    </tr>\n",
       "    <tr>\n",
       "      <th>5</th>\n",
       "      <td>Litecoin</td>\n",
       "      <td>1h</td>\n",
       "      <td>-0.126900</td>\n",
       "    </tr>\n",
       "    <tr>\n",
       "      <th>6</th>\n",
       "      <td>Monero</td>\n",
       "      <td>1h</td>\n",
       "      <td>0.633034</td>\n",
       "    </tr>\n",
       "    <tr>\n",
       "      <th>7</th>\n",
       "      <td>Shiba Inu</td>\n",
       "      <td>1h</td>\n",
       "      <td>0.017486</td>\n",
       "    </tr>\n",
       "    <tr>\n",
       "      <th>8</th>\n",
       "      <td>Stellar</td>\n",
       "      <td>1h</td>\n",
       "      <td>0.017005</td>\n",
       "    </tr>\n",
       "    <tr>\n",
       "      <th>9</th>\n",
       "      <td>Sui</td>\n",
       "      <td>1h</td>\n",
       "      <td>-0.035798</td>\n",
       "    </tr>\n",
       "    <tr>\n",
       "      <th>10</th>\n",
       "      <td>Aave</td>\n",
       "      <td>24h</td>\n",
       "      <td>-4.369434</td>\n",
       "    </tr>\n",
       "    <tr>\n",
       "      <th>11</th>\n",
       "      <td>Avalanche</td>\n",
       "      <td>24h</td>\n",
       "      <td>-2.103495</td>\n",
       "    </tr>\n",
       "    <tr>\n",
       "      <th>12</th>\n",
       "      <td>BNB</td>\n",
       "      <td>24h</td>\n",
       "      <td>-0.268230</td>\n",
       "    </tr>\n",
       "    <tr>\n",
       "      <th>13</th>\n",
       "      <td>Bitcoin</td>\n",
       "      <td>24h</td>\n",
       "      <td>-2.164082</td>\n",
       "    </tr>\n",
       "    <tr>\n",
       "      <th>14</th>\n",
       "      <td>Ethereum</td>\n",
       "      <td>24h</td>\n",
       "      <td>-1.296509</td>\n",
       "    </tr>\n",
       "    <tr>\n",
       "      <th>15</th>\n",
       "      <td>Litecoin</td>\n",
       "      <td>24h</td>\n",
       "      <td>-1.610542</td>\n",
       "    </tr>\n",
       "    <tr>\n",
       "      <th>16</th>\n",
       "      <td>Monero</td>\n",
       "      <td>24h</td>\n",
       "      <td>-11.288906</td>\n",
       "    </tr>\n",
       "    <tr>\n",
       "      <th>17</th>\n",
       "      <td>Shiba Inu</td>\n",
       "      <td>24h</td>\n",
       "      <td>-2.979375</td>\n",
       "    </tr>\n",
       "    <tr>\n",
       "      <th>18</th>\n",
       "      <td>Stellar</td>\n",
       "      <td>24h</td>\n",
       "      <td>-2.221245</td>\n",
       "    </tr>\n",
       "    <tr>\n",
       "      <th>19</th>\n",
       "      <td>Sui</td>\n",
       "      <td>24h</td>\n",
       "      <td>-3.723849</td>\n",
       "    </tr>\n",
       "    <tr>\n",
       "      <th>20</th>\n",
       "      <td>Aave</td>\n",
       "      <td>7d</td>\n",
       "      <td>6.849409</td>\n",
       "    </tr>\n",
       "    <tr>\n",
       "      <th>21</th>\n",
       "      <td>Avalanche</td>\n",
       "      <td>7d</td>\n",
       "      <td>1.393924</td>\n",
       "    </tr>\n",
       "    <tr>\n",
       "      <th>22</th>\n",
       "      <td>BNB</td>\n",
       "      <td>7d</td>\n",
       "      <td>2.838011</td>\n",
       "    </tr>\n",
       "    <tr>\n",
       "      <th>23</th>\n",
       "      <td>Bitcoin</td>\n",
       "      <td>7d</td>\n",
       "      <td>0.462113</td>\n",
       "    </tr>\n",
       "    <tr>\n",
       "      <th>24</th>\n",
       "      <td>Ethereum</td>\n",
       "      <td>7d</td>\n",
       "      <td>6.573833</td>\n",
       "    </tr>\n",
       "    <tr>\n",
       "      <th>25</th>\n",
       "      <td>Litecoin</td>\n",
       "      <td>7d</td>\n",
       "      <td>-0.364877</td>\n",
       "    </tr>\n",
       "    <tr>\n",
       "      <th>26</th>\n",
       "      <td>Monero</td>\n",
       "      <td>7d</td>\n",
       "      <td>-9.711856</td>\n",
       "    </tr>\n",
       "    <tr>\n",
       "      <th>27</th>\n",
       "      <td>Shiba Inu</td>\n",
       "      <td>7d</td>\n",
       "      <td>-2.960440</td>\n",
       "    </tr>\n",
       "    <tr>\n",
       "      <th>28</th>\n",
       "      <td>Stellar</td>\n",
       "      <td>7d</td>\n",
       "      <td>-2.044503</td>\n",
       "    </tr>\n",
       "    <tr>\n",
       "      <th>29</th>\n",
       "      <td>Sui</td>\n",
       "      <td>7d</td>\n",
       "      <td>-8.306998</td>\n",
       "    </tr>\n",
       "    <tr>\n",
       "      <th>30</th>\n",
       "      <td>Aave</td>\n",
       "      <td>30d</td>\n",
       "      <td>59.857015</td>\n",
       "    </tr>\n",
       "    <tr>\n",
       "      <th>31</th>\n",
       "      <td>Avalanche</td>\n",
       "      <td>30d</td>\n",
       "      <td>5.619307</td>\n",
       "    </tr>\n",
       "    <tr>\n",
       "      <th>32</th>\n",
       "      <td>BNB</td>\n",
       "      <td>30d</td>\n",
       "      <td>14.089325</td>\n",
       "    </tr>\n",
       "    <tr>\n",
       "      <th>33</th>\n",
       "      <td>Bitcoin</td>\n",
       "      <td>30d</td>\n",
       "      <td>14.400209</td>\n",
       "    </tr>\n",
       "    <tr>\n",
       "      <th>34</th>\n",
       "      <td>Ethereum</td>\n",
       "      <td>30d</td>\n",
       "      <td>49.427517</td>\n",
       "    </tr>\n",
       "    <tr>\n",
       "      <th>35</th>\n",
       "      <td>Litecoin</td>\n",
       "      <td>30d</td>\n",
       "      <td>11.828244</td>\n",
       "    </tr>\n",
       "    <tr>\n",
       "      <th>36</th>\n",
       "      <td>Monero</td>\n",
       "      <td>30d</td>\n",
       "      <td>33.151002</td>\n",
       "    </tr>\n",
       "    <tr>\n",
       "      <th>37</th>\n",
       "      <td>Shiba Inu</td>\n",
       "      <td>30d</td>\n",
       "      <td>3.999246</td>\n",
       "    </tr>\n",
       "    <tr>\n",
       "      <th>38</th>\n",
       "      <td>Stellar</td>\n",
       "      <td>30d</td>\n",
       "      <td>-0.529565</td>\n",
       "    </tr>\n",
       "    <tr>\n",
       "      <th>39</th>\n",
       "      <td>Sui</td>\n",
       "      <td>30d</td>\n",
       "      <td>0.148486</td>\n",
       "    </tr>\n",
       "    <tr>\n",
       "      <th>40</th>\n",
       "      <td>Aave</td>\n",
       "      <td>60d</td>\n",
       "      <td>56.515253</td>\n",
       "    </tr>\n",
       "    <tr>\n",
       "      <th>41</th>\n",
       "      <td>Avalanche</td>\n",
       "      <td>60d</td>\n",
       "      <td>15.389210</td>\n",
       "    </tr>\n",
       "    <tr>\n",
       "      <th>42</th>\n",
       "      <td>BNB</td>\n",
       "      <td>60d</td>\n",
       "      <td>14.048416</td>\n",
       "    </tr>\n",
       "    <tr>\n",
       "      <th>43</th>\n",
       "      <td>Bitcoin</td>\n",
       "      <td>60d</td>\n",
       "      <td>30.407347</td>\n",
       "    </tr>\n",
       "    <tr>\n",
       "      <th>44</th>\n",
       "      <td>Ethereum</td>\n",
       "      <td>60d</td>\n",
       "      <td>45.092786</td>\n",
       "    </tr>\n",
       "    <tr>\n",
       "      <th>45</th>\n",
       "      <td>Litecoin</td>\n",
       "      <td>60d</td>\n",
       "      <td>11.061670</td>\n",
       "    </tr>\n",
       "    <tr>\n",
       "      <th>46</th>\n",
       "      <td>Monero</td>\n",
       "      <td>60d</td>\n",
       "      <td>60.440362</td>\n",
       "    </tr>\n",
       "    <tr>\n",
       "      <th>47</th>\n",
       "      <td>Shiba Inu</td>\n",
       "      <td>60d</td>\n",
       "      <td>11.707215</td>\n",
       "    </tr>\n",
       "    <tr>\n",
       "      <th>48</th>\n",
       "      <td>Stellar</td>\n",
       "      <td>60d</td>\n",
       "      <td>6.304811</td>\n",
       "    </tr>\n",
       "    <tr>\n",
       "      <th>49</th>\n",
       "      <td>Sui</td>\n",
       "      <td>60d</td>\n",
       "      <td>55.621894</td>\n",
       "    </tr>\n",
       "    <tr>\n",
       "      <th>50</th>\n",
       "      <td>Aave</td>\n",
       "      <td>90d</td>\n",
       "      <td>29.617872</td>\n",
       "    </tr>\n",
       "    <tr>\n",
       "      <th>51</th>\n",
       "      <td>Avalanche</td>\n",
       "      <td>90d</td>\n",
       "      <td>1.968323</td>\n",
       "    </tr>\n",
       "    <tr>\n",
       "      <th>52</th>\n",
       "      <td>BNB</td>\n",
       "      <td>90d</td>\n",
       "      <td>13.116464</td>\n",
       "    </tr>\n",
       "    <tr>\n",
       "      <th>53</th>\n",
       "      <td>Bitcoin</td>\n",
       "      <td>90d</td>\n",
       "      <td>27.173498</td>\n",
       "    </tr>\n",
       "    <tr>\n",
       "      <th>54</th>\n",
       "      <td>Ethereum</td>\n",
       "      <td>90d</td>\n",
       "      <td>14.031668</td>\n",
       "    </tr>\n",
       "    <tr>\n",
       "      <th>55</th>\n",
       "      <td>Litecoin</td>\n",
       "      <td>90d</td>\n",
       "      <td>-25.090171</td>\n",
       "    </tr>\n",
       "    <tr>\n",
       "      <th>56</th>\n",
       "      <td>Monero</td>\n",
       "      <td>90d</td>\n",
       "      <td>64.053704</td>\n",
       "    </tr>\n",
       "    <tr>\n",
       "      <th>57</th>\n",
       "      <td>Shiba Inu</td>\n",
       "      <td>90d</td>\n",
       "      <td>-3.000822</td>\n",
       "    </tr>\n",
       "    <tr>\n",
       "      <th>58</th>\n",
       "      <td>Stellar</td>\n",
       "      <td>90d</td>\n",
       "      <td>-1.333628</td>\n",
       "    </tr>\n",
       "    <tr>\n",
       "      <th>59</th>\n",
       "      <td>Sui</td>\n",
       "      <td>90d</td>\n",
       "      <td>25.632883</td>\n",
       "    </tr>\n",
       "  </tbody>\n",
       "</table>\n",
       "</div>"
      ],
      "text/plain": [
       "         name Time Frame  Percent Change\n",
       "0        Aave         1h       -0.093771\n",
       "1   Avalanche         1h       -0.581615\n",
       "2         BNB         1h        0.285059\n",
       "3     Bitcoin         1h        0.164877\n",
       "4    Ethereum         1h        0.024563\n",
       "5    Litecoin         1h       -0.126900\n",
       "6      Monero         1h        0.633034\n",
       "7   Shiba Inu         1h        0.017486\n",
       "8     Stellar         1h        0.017005\n",
       "9         Sui         1h       -0.035798\n",
       "10       Aave        24h       -4.369434\n",
       "11  Avalanche        24h       -2.103495\n",
       "12        BNB        24h       -0.268230\n",
       "13    Bitcoin        24h       -2.164082\n",
       "14   Ethereum        24h       -1.296509\n",
       "15   Litecoin        24h       -1.610542\n",
       "16     Monero        24h      -11.288906\n",
       "17  Shiba Inu        24h       -2.979375\n",
       "18    Stellar        24h       -2.221245\n",
       "19        Sui        24h       -3.723849\n",
       "20       Aave         7d        6.849409\n",
       "21  Avalanche         7d        1.393924\n",
       "22        BNB         7d        2.838011\n",
       "23    Bitcoin         7d        0.462113\n",
       "24   Ethereum         7d        6.573833\n",
       "25   Litecoin         7d       -0.364877\n",
       "26     Monero         7d       -9.711856\n",
       "27  Shiba Inu         7d       -2.960440\n",
       "28    Stellar         7d       -2.044503\n",
       "29        Sui         7d       -8.306998\n",
       "30       Aave        30d       59.857015\n",
       "31  Avalanche        30d        5.619307\n",
       "32        BNB        30d       14.089325\n",
       "33    Bitcoin        30d       14.400209\n",
       "34   Ethereum        30d       49.427517\n",
       "35   Litecoin        30d       11.828244\n",
       "36     Monero        30d       33.151002\n",
       "37  Shiba Inu        30d        3.999246\n",
       "38    Stellar        30d       -0.529565\n",
       "39        Sui        30d        0.148486\n",
       "40       Aave        60d       56.515253\n",
       "41  Avalanche        60d       15.389210\n",
       "42        BNB        60d       14.048416\n",
       "43    Bitcoin        60d       30.407347\n",
       "44   Ethereum        60d       45.092786\n",
       "45   Litecoin        60d       11.061670\n",
       "46     Monero        60d       60.440362\n",
       "47  Shiba Inu        60d       11.707215\n",
       "48    Stellar        60d        6.304811\n",
       "49        Sui        60d       55.621894\n",
       "50       Aave        90d       29.617872\n",
       "51  Avalanche        90d        1.968323\n",
       "52        BNB        90d       13.116464\n",
       "53    Bitcoin        90d       27.173498\n",
       "54   Ethereum        90d       14.031668\n",
       "55   Litecoin        90d      -25.090171\n",
       "56     Monero        90d       64.053704\n",
       "57  Shiba Inu        90d       -3.000822\n",
       "58    Stellar        90d       -1.333628\n",
       "59        Sui        90d       25.632883"
      ]
     },
     "execution_count": 33,
     "metadata": {},
     "output_type": "execute_result"
    }
   ],
   "source": [
    "# converting df to long format for visualization\n",
    "top_10_mean.columns = [col.replace('percent_change_','') for col in top_10_mean.columns]\n",
    "time_windows = ['1h','24h','7d','30d','60d','90d']\n",
    "long_top_10_mean = top_10_mean.melt(id_vars='name',value_vars=time_windows,value_name='Percent Change',var_name='Time Frame')\n",
    "long_top_10_mean"
   ]
  },
  {
   "cell_type": "code",
   "execution_count": 34,
   "id": "50d2de51",
   "metadata": {},
   "outputs": [
    {
     "data": {
      "application/vnd.plotly.v1+json": {
       "config": {
        "plotlyServerURL": "https://plot.ly"
       },
       "data": [
        {
         "hovertemplate": "name=Aave<br>Time Frame=%{x}<br>Percent Change=%{y}<extra></extra>",
         "legendgroup": "Aave",
         "line": {
          "color": "#636efa",
          "dash": "solid"
         },
         "marker": {
          "symbol": "circle"
         },
         "mode": "lines+markers",
         "name": "Aave",
         "orientation": "v",
         "showlegend": true,
         "type": "scatter",
         "x": [
          "1h",
          "24h",
          "7d",
          "30d",
          "60d",
          "90d"
         ],
         "xaxis": "x",
         "y": [
          -0.09377066266666666,
          -4.369433609333333,
          6.849409155333333,
          59.857014506,
          56.51525262,
          29.617871807333334
         ],
         "yaxis": "y"
        },
        {
         "hovertemplate": "name=Avalanche<br>Time Frame=%{x}<br>Percent Change=%{y}<extra></extra>",
         "legendgroup": "Avalanche",
         "line": {
          "color": "#EF553B",
          "dash": "solid"
         },
         "marker": {
          "symbol": "circle"
         },
         "mode": "lines+markers",
         "name": "Avalanche",
         "orientation": "v",
         "showlegend": true,
         "type": "scatter",
         "x": [
          "1h",
          "24h",
          "7d",
          "30d",
          "60d",
          "90d"
         ],
         "xaxis": "x",
         "y": [
          -0.581614724,
          -2.103494504,
          1.3939238986666667,
          5.619306787333333,
          15.389209959999999,
          1.968322974
         ],
         "yaxis": "y"
        },
        {
         "hovertemplate": "name=BNB<br>Time Frame=%{x}<br>Percent Change=%{y}<extra></extra>",
         "legendgroup": "BNB",
         "line": {
          "color": "#00cc96",
          "dash": "solid"
         },
         "marker": {
          "symbol": "circle"
         },
         "mode": "lines+markers",
         "name": "BNB",
         "orientation": "v",
         "showlegend": true,
         "type": "scatter",
         "x": [
          "1h",
          "24h",
          "7d",
          "30d",
          "60d",
          "90d"
         ],
         "xaxis": "x",
         "y": [
          0.2850593086666667,
          -0.268229932,
          2.838010888,
          14.089325035333333,
          14.048415921333334,
          13.116463912666667
         ],
         "yaxis": "y"
        },
        {
         "hovertemplate": "name=Bitcoin<br>Time Frame=%{x}<br>Percent Change=%{y}<extra></extra>",
         "legendgroup": "Bitcoin",
         "line": {
          "color": "#ab63fa",
          "dash": "solid"
         },
         "marker": {
          "symbol": "circle"
         },
         "mode": "lines+markers",
         "name": "Bitcoin",
         "orientation": "v",
         "showlegend": true,
         "type": "scatter",
         "x": [
          "1h",
          "24h",
          "7d",
          "30d",
          "60d",
          "90d"
         ],
         "xaxis": "x",
         "y": [
          0.16487717933333332,
          -2.1640824786666664,
          0.462112544,
          14.400209154,
          30.407346768666667,
          27.173498493333334
         ],
         "yaxis": "y"
        },
        {
         "hovertemplate": "name=Ethereum<br>Time Frame=%{x}<br>Percent Change=%{y}<extra></extra>",
         "legendgroup": "Ethereum",
         "line": {
          "color": "#FFA15A",
          "dash": "solid"
         },
         "marker": {
          "symbol": "circle"
         },
         "mode": "lines+markers",
         "name": "Ethereum",
         "orientation": "v",
         "showlegend": true,
         "type": "scatter",
         "x": [
          "1h",
          "24h",
          "7d",
          "30d",
          "60d",
          "90d"
         ],
         "xaxis": "x",
         "y": [
          0.024563206666666663,
          -1.2965086913333332,
          6.573832965333334,
          49.427516928,
          45.09278631466667,
          14.031668051999999
         ],
         "yaxis": "y"
        },
        {
         "hovertemplate": "name=Litecoin<br>Time Frame=%{x}<br>Percent Change=%{y}<extra></extra>",
         "legendgroup": "Litecoin",
         "line": {
          "color": "#19d3f3",
          "dash": "solid"
         },
         "marker": {
          "symbol": "circle"
         },
         "mode": "lines+markers",
         "name": "Litecoin",
         "orientation": "v",
         "showlegend": true,
         "type": "scatter",
         "x": [
          "1h",
          "24h",
          "7d",
          "30d",
          "60d",
          "90d"
         ],
         "xaxis": "x",
         "y": [
          -0.12689980666666667,
          -1.6105416726666666,
          -0.36487710133333334,
          11.828244007333332,
          11.061670335999999,
          -25.090170518666664
         ],
         "yaxis": "y"
        },
        {
         "hovertemplate": "name=Monero<br>Time Frame=%{x}<br>Percent Change=%{y}<extra></extra>",
         "legendgroup": "Monero",
         "line": {
          "color": "#FF6692",
          "dash": "solid"
         },
         "marker": {
          "symbol": "circle"
         },
         "mode": "lines+markers",
         "name": "Monero",
         "orientation": "v",
         "showlegend": true,
         "type": "scatter",
         "x": [
          "1h",
          "24h",
          "7d",
          "30d",
          "60d",
          "90d"
         ],
         "xaxis": "x",
         "y": [
          0.6330339086666666,
          -11.288906282000001,
          -9.711855604666665,
          33.15100189333334,
          60.440362355333335,
          64.05370427333334
         ],
         "yaxis": "y"
        },
        {
         "hovertemplate": "name=Shiba Inu<br>Time Frame=%{x}<br>Percent Change=%{y}<extra></extra>",
         "legendgroup": "Shiba Inu",
         "line": {
          "color": "#B6E880",
          "dash": "solid"
         },
         "marker": {
          "symbol": "circle"
         },
         "mode": "lines+markers",
         "name": "Shiba Inu",
         "orientation": "v",
         "showlegend": true,
         "type": "scatter",
         "x": [
          "1h",
          "24h",
          "7d",
          "30d",
          "60d",
          "90d"
         ],
         "xaxis": "x",
         "y": [
          0.017486144,
          -2.9793746626666664,
          -2.9604396606666668,
          3.9992464653333335,
          11.707215006,
          -3.000821538
         ],
         "yaxis": "y"
        },
        {
         "hovertemplate": "name=Stellar<br>Time Frame=%{x}<br>Percent Change=%{y}<extra></extra>",
         "legendgroup": "Stellar",
         "line": {
          "color": "#FF97FF",
          "dash": "solid"
         },
         "marker": {
          "symbol": "circle"
         },
         "mode": "lines+markers",
         "name": "Stellar",
         "orientation": "v",
         "showlegend": true,
         "type": "scatter",
         "x": [
          "1h",
          "24h",
          "7d",
          "30d",
          "60d",
          "90d"
         ],
         "xaxis": "x",
         "y": [
          0.017005179333333335,
          -2.2212448806666667,
          -2.044502802,
          -0.5295651286666667,
          6.304811469333333,
          -1.3336277513333334
         ],
         "yaxis": "y"
        },
        {
         "hovertemplate": "name=Sui<br>Time Frame=%{x}<br>Percent Change=%{y}<extra></extra>",
         "legendgroup": "Sui",
         "line": {
          "color": "#FECB52",
          "dash": "solid"
         },
         "marker": {
          "symbol": "circle"
         },
         "mode": "lines+markers",
         "name": "Sui",
         "orientation": "v",
         "showlegend": true,
         "type": "scatter",
         "x": [
          "1h",
          "24h",
          "7d",
          "30d",
          "60d",
          "90d"
         ],
         "xaxis": "x",
         "y": [
          -0.035798234666666665,
          -3.7238486500000003,
          -8.306998470666667,
          0.14848582933333335,
          55.62189444333333,
          25.63288291
         ],
         "yaxis": "y"
        }
       ],
       "layout": {
        "legend": {
         "title": {
          "text": "Coin"
         },
         "tracegroupgap": 0
        },
        "template": {
         "data": {
          "bar": [
           {
            "error_x": {
             "color": "#2a3f5f"
            },
            "error_y": {
             "color": "#2a3f5f"
            },
            "marker": {
             "line": {
              "color": "#E5ECF6",
              "width": 0.5
             },
             "pattern": {
              "fillmode": "overlay",
              "size": 10,
              "solidity": 0.2
             }
            },
            "type": "bar"
           }
          ],
          "barpolar": [
           {
            "marker": {
             "line": {
              "color": "#E5ECF6",
              "width": 0.5
             },
             "pattern": {
              "fillmode": "overlay",
              "size": 10,
              "solidity": 0.2
             }
            },
            "type": "barpolar"
           }
          ],
          "carpet": [
           {
            "aaxis": {
             "endlinecolor": "#2a3f5f",
             "gridcolor": "white",
             "linecolor": "white",
             "minorgridcolor": "white",
             "startlinecolor": "#2a3f5f"
            },
            "baxis": {
             "endlinecolor": "#2a3f5f",
             "gridcolor": "white",
             "linecolor": "white",
             "minorgridcolor": "white",
             "startlinecolor": "#2a3f5f"
            },
            "type": "carpet"
           }
          ],
          "choropleth": [
           {
            "colorbar": {
             "outlinewidth": 0,
             "ticks": ""
            },
            "type": "choropleth"
           }
          ],
          "contour": [
           {
            "colorbar": {
             "outlinewidth": 0,
             "ticks": ""
            },
            "colorscale": [
             [
              0,
              "#0d0887"
             ],
             [
              0.1111111111111111,
              "#46039f"
             ],
             [
              0.2222222222222222,
              "#7201a8"
             ],
             [
              0.3333333333333333,
              "#9c179e"
             ],
             [
              0.4444444444444444,
              "#bd3786"
             ],
             [
              0.5555555555555556,
              "#d8576b"
             ],
             [
              0.6666666666666666,
              "#ed7953"
             ],
             [
              0.7777777777777778,
              "#fb9f3a"
             ],
             [
              0.8888888888888888,
              "#fdca26"
             ],
             [
              1,
              "#f0f921"
             ]
            ],
            "type": "contour"
           }
          ],
          "contourcarpet": [
           {
            "colorbar": {
             "outlinewidth": 0,
             "ticks": ""
            },
            "type": "contourcarpet"
           }
          ],
          "heatmap": [
           {
            "colorbar": {
             "outlinewidth": 0,
             "ticks": ""
            },
            "colorscale": [
             [
              0,
              "#0d0887"
             ],
             [
              0.1111111111111111,
              "#46039f"
             ],
             [
              0.2222222222222222,
              "#7201a8"
             ],
             [
              0.3333333333333333,
              "#9c179e"
             ],
             [
              0.4444444444444444,
              "#bd3786"
             ],
             [
              0.5555555555555556,
              "#d8576b"
             ],
             [
              0.6666666666666666,
              "#ed7953"
             ],
             [
              0.7777777777777778,
              "#fb9f3a"
             ],
             [
              0.8888888888888888,
              "#fdca26"
             ],
             [
              1,
              "#f0f921"
             ]
            ],
            "type": "heatmap"
           }
          ],
          "heatmapgl": [
           {
            "colorbar": {
             "outlinewidth": 0,
             "ticks": ""
            },
            "colorscale": [
             [
              0,
              "#0d0887"
             ],
             [
              0.1111111111111111,
              "#46039f"
             ],
             [
              0.2222222222222222,
              "#7201a8"
             ],
             [
              0.3333333333333333,
              "#9c179e"
             ],
             [
              0.4444444444444444,
              "#bd3786"
             ],
             [
              0.5555555555555556,
              "#d8576b"
             ],
             [
              0.6666666666666666,
              "#ed7953"
             ],
             [
              0.7777777777777778,
              "#fb9f3a"
             ],
             [
              0.8888888888888888,
              "#fdca26"
             ],
             [
              1,
              "#f0f921"
             ]
            ],
            "type": "heatmapgl"
           }
          ],
          "histogram": [
           {
            "marker": {
             "pattern": {
              "fillmode": "overlay",
              "size": 10,
              "solidity": 0.2
             }
            },
            "type": "histogram"
           }
          ],
          "histogram2d": [
           {
            "colorbar": {
             "outlinewidth": 0,
             "ticks": ""
            },
            "colorscale": [
             [
              0,
              "#0d0887"
             ],
             [
              0.1111111111111111,
              "#46039f"
             ],
             [
              0.2222222222222222,
              "#7201a8"
             ],
             [
              0.3333333333333333,
              "#9c179e"
             ],
             [
              0.4444444444444444,
              "#bd3786"
             ],
             [
              0.5555555555555556,
              "#d8576b"
             ],
             [
              0.6666666666666666,
              "#ed7953"
             ],
             [
              0.7777777777777778,
              "#fb9f3a"
             ],
             [
              0.8888888888888888,
              "#fdca26"
             ],
             [
              1,
              "#f0f921"
             ]
            ],
            "type": "histogram2d"
           }
          ],
          "histogram2dcontour": [
           {
            "colorbar": {
             "outlinewidth": 0,
             "ticks": ""
            },
            "colorscale": [
             [
              0,
              "#0d0887"
             ],
             [
              0.1111111111111111,
              "#46039f"
             ],
             [
              0.2222222222222222,
              "#7201a8"
             ],
             [
              0.3333333333333333,
              "#9c179e"
             ],
             [
              0.4444444444444444,
              "#bd3786"
             ],
             [
              0.5555555555555556,
              "#d8576b"
             ],
             [
              0.6666666666666666,
              "#ed7953"
             ],
             [
              0.7777777777777778,
              "#fb9f3a"
             ],
             [
              0.8888888888888888,
              "#fdca26"
             ],
             [
              1,
              "#f0f921"
             ]
            ],
            "type": "histogram2dcontour"
           }
          ],
          "mesh3d": [
           {
            "colorbar": {
             "outlinewidth": 0,
             "ticks": ""
            },
            "type": "mesh3d"
           }
          ],
          "parcoords": [
           {
            "line": {
             "colorbar": {
              "outlinewidth": 0,
              "ticks": ""
             }
            },
            "type": "parcoords"
           }
          ],
          "pie": [
           {
            "automargin": true,
            "type": "pie"
           }
          ],
          "scatter": [
           {
            "fillpattern": {
             "fillmode": "overlay",
             "size": 10,
             "solidity": 0.2
            },
            "type": "scatter"
           }
          ],
          "scatter3d": [
           {
            "line": {
             "colorbar": {
              "outlinewidth": 0,
              "ticks": ""
             }
            },
            "marker": {
             "colorbar": {
              "outlinewidth": 0,
              "ticks": ""
             }
            },
            "type": "scatter3d"
           }
          ],
          "scattercarpet": [
           {
            "marker": {
             "colorbar": {
              "outlinewidth": 0,
              "ticks": ""
             }
            },
            "type": "scattercarpet"
           }
          ],
          "scattergeo": [
           {
            "marker": {
             "colorbar": {
              "outlinewidth": 0,
              "ticks": ""
             }
            },
            "type": "scattergeo"
           }
          ],
          "scattergl": [
           {
            "marker": {
             "colorbar": {
              "outlinewidth": 0,
              "ticks": ""
             }
            },
            "type": "scattergl"
           }
          ],
          "scattermapbox": [
           {
            "marker": {
             "colorbar": {
              "outlinewidth": 0,
              "ticks": ""
             }
            },
            "type": "scattermapbox"
           }
          ],
          "scatterpolar": [
           {
            "marker": {
             "colorbar": {
              "outlinewidth": 0,
              "ticks": ""
             }
            },
            "type": "scatterpolar"
           }
          ],
          "scatterpolargl": [
           {
            "marker": {
             "colorbar": {
              "outlinewidth": 0,
              "ticks": ""
             }
            },
            "type": "scatterpolargl"
           }
          ],
          "scatterternary": [
           {
            "marker": {
             "colorbar": {
              "outlinewidth": 0,
              "ticks": ""
             }
            },
            "type": "scatterternary"
           }
          ],
          "surface": [
           {
            "colorbar": {
             "outlinewidth": 0,
             "ticks": ""
            },
            "colorscale": [
             [
              0,
              "#0d0887"
             ],
             [
              0.1111111111111111,
              "#46039f"
             ],
             [
              0.2222222222222222,
              "#7201a8"
             ],
             [
              0.3333333333333333,
              "#9c179e"
             ],
             [
              0.4444444444444444,
              "#bd3786"
             ],
             [
              0.5555555555555556,
              "#d8576b"
             ],
             [
              0.6666666666666666,
              "#ed7953"
             ],
             [
              0.7777777777777778,
              "#fb9f3a"
             ],
             [
              0.8888888888888888,
              "#fdca26"
             ],
             [
              1,
              "#f0f921"
             ]
            ],
            "type": "surface"
           }
          ],
          "table": [
           {
            "cells": {
             "fill": {
              "color": "#EBF0F8"
             },
             "line": {
              "color": "white"
             }
            },
            "header": {
             "fill": {
              "color": "#C8D4E3"
             },
             "line": {
              "color": "white"
             }
            },
            "type": "table"
           }
          ]
         },
         "layout": {
          "annotationdefaults": {
           "arrowcolor": "#2a3f5f",
           "arrowhead": 0,
           "arrowwidth": 1
          },
          "autotypenumbers": "strict",
          "coloraxis": {
           "colorbar": {
            "outlinewidth": 0,
            "ticks": ""
           }
          },
          "colorscale": {
           "diverging": [
            [
             0,
             "#8e0152"
            ],
            [
             0.1,
             "#c51b7d"
            ],
            [
             0.2,
             "#de77ae"
            ],
            [
             0.3,
             "#f1b6da"
            ],
            [
             0.4,
             "#fde0ef"
            ],
            [
             0.5,
             "#f7f7f7"
            ],
            [
             0.6,
             "#e6f5d0"
            ],
            [
             0.7,
             "#b8e186"
            ],
            [
             0.8,
             "#7fbc41"
            ],
            [
             0.9,
             "#4d9221"
            ],
            [
             1,
             "#276419"
            ]
           ],
           "sequential": [
            [
             0,
             "#0d0887"
            ],
            [
             0.1111111111111111,
             "#46039f"
            ],
            [
             0.2222222222222222,
             "#7201a8"
            ],
            [
             0.3333333333333333,
             "#9c179e"
            ],
            [
             0.4444444444444444,
             "#bd3786"
            ],
            [
             0.5555555555555556,
             "#d8576b"
            ],
            [
             0.6666666666666666,
             "#ed7953"
            ],
            [
             0.7777777777777778,
             "#fb9f3a"
            ],
            [
             0.8888888888888888,
             "#fdca26"
            ],
            [
             1,
             "#f0f921"
            ]
           ],
           "sequentialminus": [
            [
             0,
             "#0d0887"
            ],
            [
             0.1111111111111111,
             "#46039f"
            ],
            [
             0.2222222222222222,
             "#7201a8"
            ],
            [
             0.3333333333333333,
             "#9c179e"
            ],
            [
             0.4444444444444444,
             "#bd3786"
            ],
            [
             0.5555555555555556,
             "#d8576b"
            ],
            [
             0.6666666666666666,
             "#ed7953"
            ],
            [
             0.7777777777777778,
             "#fb9f3a"
            ],
            [
             0.8888888888888888,
             "#fdca26"
            ],
            [
             1,
             "#f0f921"
            ]
           ]
          },
          "colorway": [
           "#636efa",
           "#EF553B",
           "#00cc96",
           "#ab63fa",
           "#FFA15A",
           "#19d3f3",
           "#FF6692",
           "#B6E880",
           "#FF97FF",
           "#FECB52"
          ],
          "font": {
           "color": "#2a3f5f"
          },
          "geo": {
           "bgcolor": "white",
           "lakecolor": "white",
           "landcolor": "#E5ECF6",
           "showlakes": true,
           "showland": true,
           "subunitcolor": "white"
          },
          "hoverlabel": {
           "align": "left"
          },
          "hovermode": "closest",
          "mapbox": {
           "style": "light"
          },
          "paper_bgcolor": "white",
          "plot_bgcolor": "#E5ECF6",
          "polar": {
           "angularaxis": {
            "gridcolor": "white",
            "linecolor": "white",
            "ticks": ""
           },
           "bgcolor": "#E5ECF6",
           "radialaxis": {
            "gridcolor": "white",
            "linecolor": "white",
            "ticks": ""
           }
          },
          "scene": {
           "xaxis": {
            "backgroundcolor": "#E5ECF6",
            "gridcolor": "white",
            "gridwidth": 2,
            "linecolor": "white",
            "showbackground": true,
            "ticks": "",
            "zerolinecolor": "white"
           },
           "yaxis": {
            "backgroundcolor": "#E5ECF6",
            "gridcolor": "white",
            "gridwidth": 2,
            "linecolor": "white",
            "showbackground": true,
            "ticks": "",
            "zerolinecolor": "white"
           },
           "zaxis": {
            "backgroundcolor": "#E5ECF6",
            "gridcolor": "white",
            "gridwidth": 2,
            "linecolor": "white",
            "showbackground": true,
            "ticks": "",
            "zerolinecolor": "white"
           }
          },
          "shapedefaults": {
           "line": {
            "color": "#2a3f5f"
           }
          },
          "ternary": {
           "aaxis": {
            "gridcolor": "white",
            "linecolor": "white",
            "ticks": ""
           },
           "baxis": {
            "gridcolor": "white",
            "linecolor": "white",
            "ticks": ""
           },
           "bgcolor": "#E5ECF6",
           "caxis": {
            "gridcolor": "white",
            "linecolor": "white",
            "ticks": ""
           }
          },
          "title": {
           "x": 0.05
          },
          "xaxis": {
           "automargin": true,
           "gridcolor": "white",
           "linecolor": "white",
           "ticks": "",
           "title": {
            "standoff": 15
           },
           "zerolinecolor": "white",
           "zerolinewidth": 2
          },
          "yaxis": {
           "automargin": true,
           "gridcolor": "white",
           "linecolor": "white",
           "ticks": "",
           "title": {
            "standoff": 15
           },
           "zerolinecolor": "white",
           "zerolinewidth": 2
          }
         }
        },
        "title": {
         "text": "Percent Change over Time"
        },
        "xaxis": {
         "anchor": "y",
         "domain": [
          0,
          1
         ],
         "title": {
          "text": "Time Frame"
         }
        },
        "yaxis": {
         "anchor": "x",
         "domain": [
          0,
          1
         ],
         "title": {
          "text": "Percent Change"
         }
        }
       }
      }
     },
     "metadata": {},
     "output_type": "display_data"
    }
   ],
   "source": [
    "fig = px.line(long_top_10_mean, \n",
    "              x='Time Frame', \n",
    "              y='Percent Change', \n",
    "              color='name',\n",
    "              markers=True,\n",
    "              title='Percent Change over Time')\n",
    "\n",
    "fig.update_layout(\n",
    "    legend_title_text='Coin'\n",
    ")\n",
    "\n",
    "fig.show()"
   ]
  },
  {
   "cell_type": "code",
   "execution_count": 35,
   "id": "0316044b",
   "metadata": {},
   "outputs": [
    {
     "data": {
      "application/vnd.microsoft.datawrangler.viewer.v0+json": {
       "columns": [
        {
         "name": "index",
         "rawType": "int64",
         "type": "integer"
        },
        {
         "name": "name",
         "rawType": "object",
         "type": "string"
        },
        {
         "name": "volume_24h",
         "rawType": "float64",
         "type": "float"
        }
       ],
       "ref": "04799c56-fb4f-48b5-9962-f7ad1627727e",
       "rows": [
        [
         "0",
         "Avalanche",
         "597472644.1587389"
        ],
        [
         "1",
         "BNB",
         "1974096217.9380367"
        ],
        [
         "2",
         "Bitcoin",
         "59950455755.894585"
        ],
        [
         "3",
         "Cardano",
         "969399486.3158989"
        ],
        [
         "4",
         "Chainlink",
         "650465749.2677842"
        ],
        [
         "5",
         "Dogecoin",
         "2169178693.9725947"
        ],
        [
         "6",
         "Ethereum",
         "23121982283.9242"
        ],
        [
         "7",
         "Hyperliquid",
         "431217651.18676823"
        ],
        [
         "8",
         "Solana",
         "4159297226.0801754"
        ],
        [
         "9",
         "Stellar",
         "244419041.8277593"
        ],
        [
         "10",
         "Sui",
         "1212869798.959441"
        ],
        [
         "11",
         "TRON",
         "705699900.507335"
        ],
        [
         "12",
         "Tether USDt",
         "97880784622.6223"
        ],
        [
         "13",
         "UNUS SED LEO",
         "4055393.972849148"
        ],
        [
         "14",
         "USDC",
         "13902337431.741198"
        ],
        [
         "15",
         "XRP",
         "3635325159.5747104"
        ]
       ],
       "shape": {
        "columns": 2,
        "rows": 16
       }
      },
      "text/html": [
       "<div>\n",
       "<style scoped>\n",
       "    .dataframe tbody tr th:only-of-type {\n",
       "        vertical-align: middle;\n",
       "    }\n",
       "\n",
       "    .dataframe tbody tr th {\n",
       "        vertical-align: top;\n",
       "    }\n",
       "\n",
       "    .dataframe thead th {\n",
       "        text-align: right;\n",
       "    }\n",
       "</style>\n",
       "<table border=\"1\" class=\"dataframe\">\n",
       "  <thead>\n",
       "    <tr style=\"text-align: right;\">\n",
       "      <th></th>\n",
       "      <th>name</th>\n",
       "      <th>volume_24h</th>\n",
       "    </tr>\n",
       "  </thead>\n",
       "  <tbody>\n",
       "    <tr>\n",
       "      <th>0</th>\n",
       "      <td>Avalanche</td>\n",
       "      <td>5.974726e+08</td>\n",
       "    </tr>\n",
       "    <tr>\n",
       "      <th>1</th>\n",
       "      <td>BNB</td>\n",
       "      <td>1.974096e+09</td>\n",
       "    </tr>\n",
       "    <tr>\n",
       "      <th>2</th>\n",
       "      <td>Bitcoin</td>\n",
       "      <td>5.995046e+10</td>\n",
       "    </tr>\n",
       "    <tr>\n",
       "      <th>3</th>\n",
       "      <td>Cardano</td>\n",
       "      <td>9.693995e+08</td>\n",
       "    </tr>\n",
       "    <tr>\n",
       "      <th>4</th>\n",
       "      <td>Chainlink</td>\n",
       "      <td>6.504657e+08</td>\n",
       "    </tr>\n",
       "    <tr>\n",
       "      <th>5</th>\n",
       "      <td>Dogecoin</td>\n",
       "      <td>2.169179e+09</td>\n",
       "    </tr>\n",
       "    <tr>\n",
       "      <th>6</th>\n",
       "      <td>Ethereum</td>\n",
       "      <td>2.312198e+10</td>\n",
       "    </tr>\n",
       "    <tr>\n",
       "      <th>7</th>\n",
       "      <td>Hyperliquid</td>\n",
       "      <td>4.312177e+08</td>\n",
       "    </tr>\n",
       "    <tr>\n",
       "      <th>8</th>\n",
       "      <td>Solana</td>\n",
       "      <td>4.159297e+09</td>\n",
       "    </tr>\n",
       "    <tr>\n",
       "      <th>9</th>\n",
       "      <td>Stellar</td>\n",
       "      <td>2.444190e+08</td>\n",
       "    </tr>\n",
       "    <tr>\n",
       "      <th>10</th>\n",
       "      <td>Sui</td>\n",
       "      <td>1.212870e+09</td>\n",
       "    </tr>\n",
       "    <tr>\n",
       "      <th>11</th>\n",
       "      <td>TRON</td>\n",
       "      <td>7.056999e+08</td>\n",
       "    </tr>\n",
       "    <tr>\n",
       "      <th>12</th>\n",
       "      <td>Tether USDt</td>\n",
       "      <td>9.788078e+10</td>\n",
       "    </tr>\n",
       "    <tr>\n",
       "      <th>13</th>\n",
       "      <td>UNUS SED LEO</td>\n",
       "      <td>4.055394e+06</td>\n",
       "    </tr>\n",
       "    <tr>\n",
       "      <th>14</th>\n",
       "      <td>USDC</td>\n",
       "      <td>1.390234e+10</td>\n",
       "    </tr>\n",
       "    <tr>\n",
       "      <th>15</th>\n",
       "      <td>XRP</td>\n",
       "      <td>3.635325e+09</td>\n",
       "    </tr>\n",
       "  </tbody>\n",
       "</table>\n",
       "</div>"
      ],
      "text/plain": [
       "            name    volume_24h\n",
       "0      Avalanche  5.974726e+08\n",
       "1            BNB  1.974096e+09\n",
       "2        Bitcoin  5.995046e+10\n",
       "3        Cardano  9.693995e+08\n",
       "4      Chainlink  6.504657e+08\n",
       "5       Dogecoin  2.169179e+09\n",
       "6       Ethereum  2.312198e+10\n",
       "7    Hyperliquid  4.312177e+08\n",
       "8         Solana  4.159297e+09\n",
       "9        Stellar  2.444190e+08\n",
       "10           Sui  1.212870e+09\n",
       "11          TRON  7.056999e+08\n",
       "12   Tether USDt  9.788078e+10\n",
       "13  UNUS SED LEO  4.055394e+06\n",
       "14          USDC  1.390234e+10\n",
       "15           XRP  3.635325e+09"
      ]
     },
     "execution_count": 35,
     "metadata": {},
     "output_type": "execute_result"
    }
   ],
   "source": [
    "# grouping the top 15 coins by volume_24h\n",
    "g_hist_df = hist_df.groupby('name')['volume_24h'].mean().reset_index(0)\n",
    "g_hist_df\n"
   ]
  },
  {
   "cell_type": "code",
   "execution_count": 36,
   "id": "48ce390f",
   "metadata": {},
   "outputs": [
    {
     "data": {
      "application/vnd.plotly.v1+json": {
       "config": {
        "plotlyServerURL": "https://plot.ly"
       },
       "data": [
        {
         "alignmentgroup": "True",
         "hovertemplate": "Cryptocurrency=%{x}<br>24h Trading Volume (USD)=%{marker.color}<extra></extra>",
         "legendgroup": "",
         "marker": {
          "color": [
           97880784622.6223,
           59950455755.894585,
           23121982283.9242,
           13902337431.741198,
           4159297226.0801754,
           3635325159.5747104,
           2169178693.9725947,
           1974096217.9380367,
           1212869798.959441,
           969399486.3158989,
           705699900.507335,
           650465749.2677842,
           597472644.1587389,
           431217651.18676823,
           244419041.8277593,
           4055393.972849148
          ],
          "coloraxis": "coloraxis",
          "pattern": {
           "shape": ""
          }
         },
         "name": "",
         "offsetgroup": "",
         "orientation": "v",
         "showlegend": false,
         "textposition": "auto",
         "type": "bar",
         "x": [
          "Tether USDt",
          "Bitcoin",
          "Ethereum",
          "USDC",
          "Solana",
          "XRP",
          "Dogecoin",
          "BNB",
          "Sui",
          "Cardano",
          "TRON",
          "Chainlink",
          "Avalanche",
          "Hyperliquid",
          "Stellar",
          "UNUS SED LEO"
         ],
         "xaxis": "x",
         "y": [
          97880784622.6223,
          59950455755.894585,
          23121982283.9242,
          13902337431.741198,
          4159297226.0801754,
          3635325159.5747104,
          2169178693.9725947,
          1974096217.9380367,
          1212869798.959441,
          969399486.3158989,
          705699900.507335,
          650465749.2677842,
          597472644.1587389,
          431217651.18676823,
          244419041.8277593,
          4055393.972849148
         ],
         "yaxis": "y"
        }
       ],
       "layout": {
        "barmode": "relative",
        "coloraxis": {
         "colorbar": {
          "title": {
           "text": "24h Trading Volume (USD)"
          }
         },
         "colorscale": [
          [
           0,
           "#0d0887"
          ],
          [
           0.1111111111111111,
           "#46039f"
          ],
          [
           0.2222222222222222,
           "#7201a8"
          ],
          [
           0.3333333333333333,
           "#9c179e"
          ],
          [
           0.4444444444444444,
           "#bd3786"
          ],
          [
           0.5555555555555556,
           "#d8576b"
          ],
          [
           0.6666666666666666,
           "#ed7953"
          ],
          [
           0.7777777777777778,
           "#fb9f3a"
          ],
          [
           0.8888888888888888,
           "#fdca26"
          ],
          [
           1,
           "#f0f921"
          ]
         ]
        },
        "height": 600,
        "legend": {
         "tracegroupgap": 0
        },
        "template": {
         "data": {
          "bar": [
           {
            "error_x": {
             "color": "#2a3f5f"
            },
            "error_y": {
             "color": "#2a3f5f"
            },
            "marker": {
             "line": {
              "color": "#E5ECF6",
              "width": 0.5
             },
             "pattern": {
              "fillmode": "overlay",
              "size": 10,
              "solidity": 0.2
             }
            },
            "type": "bar"
           }
          ],
          "barpolar": [
           {
            "marker": {
             "line": {
              "color": "#E5ECF6",
              "width": 0.5
             },
             "pattern": {
              "fillmode": "overlay",
              "size": 10,
              "solidity": 0.2
             }
            },
            "type": "barpolar"
           }
          ],
          "carpet": [
           {
            "aaxis": {
             "endlinecolor": "#2a3f5f",
             "gridcolor": "white",
             "linecolor": "white",
             "minorgridcolor": "white",
             "startlinecolor": "#2a3f5f"
            },
            "baxis": {
             "endlinecolor": "#2a3f5f",
             "gridcolor": "white",
             "linecolor": "white",
             "minorgridcolor": "white",
             "startlinecolor": "#2a3f5f"
            },
            "type": "carpet"
           }
          ],
          "choropleth": [
           {
            "colorbar": {
             "outlinewidth": 0,
             "ticks": ""
            },
            "type": "choropleth"
           }
          ],
          "contour": [
           {
            "colorbar": {
             "outlinewidth": 0,
             "ticks": ""
            },
            "colorscale": [
             [
              0,
              "#0d0887"
             ],
             [
              0.1111111111111111,
              "#46039f"
             ],
             [
              0.2222222222222222,
              "#7201a8"
             ],
             [
              0.3333333333333333,
              "#9c179e"
             ],
             [
              0.4444444444444444,
              "#bd3786"
             ],
             [
              0.5555555555555556,
              "#d8576b"
             ],
             [
              0.6666666666666666,
              "#ed7953"
             ],
             [
              0.7777777777777778,
              "#fb9f3a"
             ],
             [
              0.8888888888888888,
              "#fdca26"
             ],
             [
              1,
              "#f0f921"
             ]
            ],
            "type": "contour"
           }
          ],
          "contourcarpet": [
           {
            "colorbar": {
             "outlinewidth": 0,
             "ticks": ""
            },
            "type": "contourcarpet"
           }
          ],
          "heatmap": [
           {
            "colorbar": {
             "outlinewidth": 0,
             "ticks": ""
            },
            "colorscale": [
             [
              0,
              "#0d0887"
             ],
             [
              0.1111111111111111,
              "#46039f"
             ],
             [
              0.2222222222222222,
              "#7201a8"
             ],
             [
              0.3333333333333333,
              "#9c179e"
             ],
             [
              0.4444444444444444,
              "#bd3786"
             ],
             [
              0.5555555555555556,
              "#d8576b"
             ],
             [
              0.6666666666666666,
              "#ed7953"
             ],
             [
              0.7777777777777778,
              "#fb9f3a"
             ],
             [
              0.8888888888888888,
              "#fdca26"
             ],
             [
              1,
              "#f0f921"
             ]
            ],
            "type": "heatmap"
           }
          ],
          "heatmapgl": [
           {
            "colorbar": {
             "outlinewidth": 0,
             "ticks": ""
            },
            "colorscale": [
             [
              0,
              "#0d0887"
             ],
             [
              0.1111111111111111,
              "#46039f"
             ],
             [
              0.2222222222222222,
              "#7201a8"
             ],
             [
              0.3333333333333333,
              "#9c179e"
             ],
             [
              0.4444444444444444,
              "#bd3786"
             ],
             [
              0.5555555555555556,
              "#d8576b"
             ],
             [
              0.6666666666666666,
              "#ed7953"
             ],
             [
              0.7777777777777778,
              "#fb9f3a"
             ],
             [
              0.8888888888888888,
              "#fdca26"
             ],
             [
              1,
              "#f0f921"
             ]
            ],
            "type": "heatmapgl"
           }
          ],
          "histogram": [
           {
            "marker": {
             "pattern": {
              "fillmode": "overlay",
              "size": 10,
              "solidity": 0.2
             }
            },
            "type": "histogram"
           }
          ],
          "histogram2d": [
           {
            "colorbar": {
             "outlinewidth": 0,
             "ticks": ""
            },
            "colorscale": [
             [
              0,
              "#0d0887"
             ],
             [
              0.1111111111111111,
              "#46039f"
             ],
             [
              0.2222222222222222,
              "#7201a8"
             ],
             [
              0.3333333333333333,
              "#9c179e"
             ],
             [
              0.4444444444444444,
              "#bd3786"
             ],
             [
              0.5555555555555556,
              "#d8576b"
             ],
             [
              0.6666666666666666,
              "#ed7953"
             ],
             [
              0.7777777777777778,
              "#fb9f3a"
             ],
             [
              0.8888888888888888,
              "#fdca26"
             ],
             [
              1,
              "#f0f921"
             ]
            ],
            "type": "histogram2d"
           }
          ],
          "histogram2dcontour": [
           {
            "colorbar": {
             "outlinewidth": 0,
             "ticks": ""
            },
            "colorscale": [
             [
              0,
              "#0d0887"
             ],
             [
              0.1111111111111111,
              "#46039f"
             ],
             [
              0.2222222222222222,
              "#7201a8"
             ],
             [
              0.3333333333333333,
              "#9c179e"
             ],
             [
              0.4444444444444444,
              "#bd3786"
             ],
             [
              0.5555555555555556,
              "#d8576b"
             ],
             [
              0.6666666666666666,
              "#ed7953"
             ],
             [
              0.7777777777777778,
              "#fb9f3a"
             ],
             [
              0.8888888888888888,
              "#fdca26"
             ],
             [
              1,
              "#f0f921"
             ]
            ],
            "type": "histogram2dcontour"
           }
          ],
          "mesh3d": [
           {
            "colorbar": {
             "outlinewidth": 0,
             "ticks": ""
            },
            "type": "mesh3d"
           }
          ],
          "parcoords": [
           {
            "line": {
             "colorbar": {
              "outlinewidth": 0,
              "ticks": ""
             }
            },
            "type": "parcoords"
           }
          ],
          "pie": [
           {
            "automargin": true,
            "type": "pie"
           }
          ],
          "scatter": [
           {
            "fillpattern": {
             "fillmode": "overlay",
             "size": 10,
             "solidity": 0.2
            },
            "type": "scatter"
           }
          ],
          "scatter3d": [
           {
            "line": {
             "colorbar": {
              "outlinewidth": 0,
              "ticks": ""
             }
            },
            "marker": {
             "colorbar": {
              "outlinewidth": 0,
              "ticks": ""
             }
            },
            "type": "scatter3d"
           }
          ],
          "scattercarpet": [
           {
            "marker": {
             "colorbar": {
              "outlinewidth": 0,
              "ticks": ""
             }
            },
            "type": "scattercarpet"
           }
          ],
          "scattergeo": [
           {
            "marker": {
             "colorbar": {
              "outlinewidth": 0,
              "ticks": ""
             }
            },
            "type": "scattergeo"
           }
          ],
          "scattergl": [
           {
            "marker": {
             "colorbar": {
              "outlinewidth": 0,
              "ticks": ""
             }
            },
            "type": "scattergl"
           }
          ],
          "scattermapbox": [
           {
            "marker": {
             "colorbar": {
              "outlinewidth": 0,
              "ticks": ""
             }
            },
            "type": "scattermapbox"
           }
          ],
          "scatterpolar": [
           {
            "marker": {
             "colorbar": {
              "outlinewidth": 0,
              "ticks": ""
             }
            },
            "type": "scatterpolar"
           }
          ],
          "scatterpolargl": [
           {
            "marker": {
             "colorbar": {
              "outlinewidth": 0,
              "ticks": ""
             }
            },
            "type": "scatterpolargl"
           }
          ],
          "scatterternary": [
           {
            "marker": {
             "colorbar": {
              "outlinewidth": 0,
              "ticks": ""
             }
            },
            "type": "scatterternary"
           }
          ],
          "surface": [
           {
            "colorbar": {
             "outlinewidth": 0,
             "ticks": ""
            },
            "colorscale": [
             [
              0,
              "#0d0887"
             ],
             [
              0.1111111111111111,
              "#46039f"
             ],
             [
              0.2222222222222222,
              "#7201a8"
             ],
             [
              0.3333333333333333,
              "#9c179e"
             ],
             [
              0.4444444444444444,
              "#bd3786"
             ],
             [
              0.5555555555555556,
              "#d8576b"
             ],
             [
              0.6666666666666666,
              "#ed7953"
             ],
             [
              0.7777777777777778,
              "#fb9f3a"
             ],
             [
              0.8888888888888888,
              "#fdca26"
             ],
             [
              1,
              "#f0f921"
             ]
            ],
            "type": "surface"
           }
          ],
          "table": [
           {
            "cells": {
             "fill": {
              "color": "#EBF0F8"
             },
             "line": {
              "color": "white"
             }
            },
            "header": {
             "fill": {
              "color": "#C8D4E3"
             },
             "line": {
              "color": "white"
             }
            },
            "type": "table"
           }
          ]
         },
         "layout": {
          "annotationdefaults": {
           "arrowcolor": "#2a3f5f",
           "arrowhead": 0,
           "arrowwidth": 1
          },
          "autotypenumbers": "strict",
          "coloraxis": {
           "colorbar": {
            "outlinewidth": 0,
            "ticks": ""
           }
          },
          "colorscale": {
           "diverging": [
            [
             0,
             "#8e0152"
            ],
            [
             0.1,
             "#c51b7d"
            ],
            [
             0.2,
             "#de77ae"
            ],
            [
             0.3,
             "#f1b6da"
            ],
            [
             0.4,
             "#fde0ef"
            ],
            [
             0.5,
             "#f7f7f7"
            ],
            [
             0.6,
             "#e6f5d0"
            ],
            [
             0.7,
             "#b8e186"
            ],
            [
             0.8,
             "#7fbc41"
            ],
            [
             0.9,
             "#4d9221"
            ],
            [
             1,
             "#276419"
            ]
           ],
           "sequential": [
            [
             0,
             "#0d0887"
            ],
            [
             0.1111111111111111,
             "#46039f"
            ],
            [
             0.2222222222222222,
             "#7201a8"
            ],
            [
             0.3333333333333333,
             "#9c179e"
            ],
            [
             0.4444444444444444,
             "#bd3786"
            ],
            [
             0.5555555555555556,
             "#d8576b"
            ],
            [
             0.6666666666666666,
             "#ed7953"
            ],
            [
             0.7777777777777778,
             "#fb9f3a"
            ],
            [
             0.8888888888888888,
             "#fdca26"
            ],
            [
             1,
             "#f0f921"
            ]
           ],
           "sequentialminus": [
            [
             0,
             "#0d0887"
            ],
            [
             0.1111111111111111,
             "#46039f"
            ],
            [
             0.2222222222222222,
             "#7201a8"
            ],
            [
             0.3333333333333333,
             "#9c179e"
            ],
            [
             0.4444444444444444,
             "#bd3786"
            ],
            [
             0.5555555555555556,
             "#d8576b"
            ],
            [
             0.6666666666666666,
             "#ed7953"
            ],
            [
             0.7777777777777778,
             "#fb9f3a"
            ],
            [
             0.8888888888888888,
             "#fdca26"
            ],
            [
             1,
             "#f0f921"
            ]
           ]
          },
          "colorway": [
           "#636efa",
           "#EF553B",
           "#00cc96",
           "#ab63fa",
           "#FFA15A",
           "#19d3f3",
           "#FF6692",
           "#B6E880",
           "#FF97FF",
           "#FECB52"
          ],
          "font": {
           "color": "#2a3f5f"
          },
          "geo": {
           "bgcolor": "white",
           "lakecolor": "white",
           "landcolor": "#E5ECF6",
           "showlakes": true,
           "showland": true,
           "subunitcolor": "white"
          },
          "hoverlabel": {
           "align": "left"
          },
          "hovermode": "closest",
          "mapbox": {
           "style": "light"
          },
          "paper_bgcolor": "white",
          "plot_bgcolor": "#E5ECF6",
          "polar": {
           "angularaxis": {
            "gridcolor": "white",
            "linecolor": "white",
            "ticks": ""
           },
           "bgcolor": "#E5ECF6",
           "radialaxis": {
            "gridcolor": "white",
            "linecolor": "white",
            "ticks": ""
           }
          },
          "scene": {
           "xaxis": {
            "backgroundcolor": "#E5ECF6",
            "gridcolor": "white",
            "gridwidth": 2,
            "linecolor": "white",
            "showbackground": true,
            "ticks": "",
            "zerolinecolor": "white"
           },
           "yaxis": {
            "backgroundcolor": "#E5ECF6",
            "gridcolor": "white",
            "gridwidth": 2,
            "linecolor": "white",
            "showbackground": true,
            "ticks": "",
            "zerolinecolor": "white"
           },
           "zaxis": {
            "backgroundcolor": "#E5ECF6",
            "gridcolor": "white",
            "gridwidth": 2,
            "linecolor": "white",
            "showbackground": true,
            "ticks": "",
            "zerolinecolor": "white"
           }
          },
          "shapedefaults": {
           "line": {
            "color": "#2a3f5f"
           }
          },
          "ternary": {
           "aaxis": {
            "gridcolor": "white",
            "linecolor": "white",
            "ticks": ""
           },
           "baxis": {
            "gridcolor": "white",
            "linecolor": "white",
            "ticks": ""
           },
           "bgcolor": "#E5ECF6",
           "caxis": {
            "gridcolor": "white",
            "linecolor": "white",
            "ticks": ""
           }
          },
          "title": {
           "x": 0.05
          },
          "xaxis": {
           "automargin": true,
           "gridcolor": "white",
           "linecolor": "white",
           "ticks": "",
           "title": {
            "standoff": 15
           },
           "zerolinecolor": "white",
           "zerolinewidth": 2
          },
          "yaxis": {
           "automargin": true,
           "gridcolor": "white",
           "linecolor": "white",
           "ticks": "",
           "title": {
            "standoff": 15
           },
           "zerolinecolor": "white",
           "zerolinewidth": 2
          }
         }
        },
        "title": {
         "text": "Top cryptocurrency by 24h volume"
        },
        "xaxis": {
         "anchor": "y",
         "domain": [
          0,
          1
         ],
         "title": {
          "text": "Cryptocurrency"
         }
        },
        "yaxis": {
         "anchor": "x",
         "domain": [
          0,
          1
         ],
         "title": {
          "text": "24h Trading Volume (USD)"
         },
         "type": "log"
        }
       }
      }
     },
     "metadata": {},
     "output_type": "display_data"
    }
   ],
   "source": [
    "g_hist_df = g_hist_df.sort_values('volume_24h', ascending=False)\n",
    "fig = px.bar(g_hist_df,\n",
    "             x='name',\n",
    "             y='volume_24h', \n",
    "             title='Top cryptocurrency by 24h volume',\n",
    "             labels={'volume_24h': '24h Trading Volume (USD)', 'name': 'Cryptocurrency'},\n",
    "             color='volume_24h',\n",
    "             color_continuous_scale='Plasma',\n",
    "             height=600)\n",
    "\n",
    "\n",
    "\n",
    "\n",
    "\n",
    "fig.update_layout(yaxis_type=\"log\")\n",
    "\n",
    "fig.show()\n"
   ]
  },
  {
   "cell_type": "code",
   "execution_count": 37,
   "id": "d9061125",
   "metadata": {},
   "outputs": [
    {
     "data": {
      "application/vnd.microsoft.datawrangler.viewer.v0+json": {
       "columns": [
        {
         "name": "index",
         "rawType": "int64",
         "type": "integer"
        },
        {
         "name": "name",
         "rawType": "object",
         "type": "string"
        },
        {
         "name": "volume_24h",
         "rawType": "float64",
         "type": "float"
        },
        {
         "name": "price",
         "rawType": "float64",
         "type": "float"
        },
        {
         "name": "market_cap",
         "rawType": "float64",
         "type": "float"
        }
       ],
       "ref": "e7d887df-2757-48c0-a5ed-ec8bf9fd360c",
       "rows": [
        [
         "0",
         "Avalanche",
         "597472644.1587389",
         "21.58562264951072",
         "9091775431.945028"
        ],
        [
         "1",
         "BNB",
         "1974096217.9380367",
         "669.7547209091658",
         "94360226627.61636"
        ],
        [
         "2",
         "Bitcoin",
         "59950455755.894585",
         "105546.24186273954",
         "2097424572736.5552"
        ],
        [
         "3",
         "Cardano",
         "969399486.3158989",
         "0.7027095896761608",
         "24832171012.331512"
        ],
        [
         "4",
         "Chainlink",
         "650465749.2677842",
         "14.348751650399983",
         "9428564285.512201"
        ],
        [
         "5",
         "Dogecoin",
         "2169178693.9725947",
         "0.2028029274159253",
         "30314686452.807354"
        ],
        [
         "6",
         "Ethereum",
         "23121982283.9242",
         "2595.927525267674",
         "313391879649.2167"
        ],
        [
         "7",
         "Hyperliquid",
         "431217651.18676823",
         "32.33707519506164",
         "10798260666.410076"
        ],
        [
         "8",
         "Solana",
         "4159297226.0801754",
         "161.4677706216762",
         "84112222384.88396"
        ],
        [
         "9",
         "Stellar",
         "244419041.8277593",
         "0.274173811790214",
         "8539207833.739262"
        ],
        [
         "10",
         "Sui",
         "1212869798.959441",
         "3.4449790434790595",
         "11500466616.98563"
        ],
        [
         "11",
         "TRON",
         "705699900.507335",
         "0.27137192876795274",
         "25744245730.910973"
        ],
        [
         "12",
         "Tether USDt",
         "97880784622.6223",
         "1.000083752341459",
         "153096482685.7827"
        ],
        [
         "13",
         "UNUS SED LEO",
         "4055393.972849148",
         "9.214106719145732",
         "8507743438.040421"
        ],
        [
         "14",
         "USDC",
         "13902337431.741198",
         "0.9998017135901817",
         "61074815378.60061"
        ],
        [
         "15",
         "XRP",
         "3635325159.5747104",
         "2.1841500329243173",
         "128179044759.01852"
        ]
       ],
       "shape": {
        "columns": 4,
        "rows": 16
       }
      },
      "text/html": [
       "<div>\n",
       "<style scoped>\n",
       "    .dataframe tbody tr th:only-of-type {\n",
       "        vertical-align: middle;\n",
       "    }\n",
       "\n",
       "    .dataframe tbody tr th {\n",
       "        vertical-align: top;\n",
       "    }\n",
       "\n",
       "    .dataframe thead th {\n",
       "        text-align: right;\n",
       "    }\n",
       "</style>\n",
       "<table border=\"1\" class=\"dataframe\">\n",
       "  <thead>\n",
       "    <tr style=\"text-align: right;\">\n",
       "      <th></th>\n",
       "      <th>name</th>\n",
       "      <th>volume_24h</th>\n",
       "      <th>price</th>\n",
       "      <th>market_cap</th>\n",
       "    </tr>\n",
       "  </thead>\n",
       "  <tbody>\n",
       "    <tr>\n",
       "      <th>0</th>\n",
       "      <td>Avalanche</td>\n",
       "      <td>5.974726e+08</td>\n",
       "      <td>21.585623</td>\n",
       "      <td>9.091775e+09</td>\n",
       "    </tr>\n",
       "    <tr>\n",
       "      <th>1</th>\n",
       "      <td>BNB</td>\n",
       "      <td>1.974096e+09</td>\n",
       "      <td>669.754721</td>\n",
       "      <td>9.436023e+10</td>\n",
       "    </tr>\n",
       "    <tr>\n",
       "      <th>2</th>\n",
       "      <td>Bitcoin</td>\n",
       "      <td>5.995046e+10</td>\n",
       "      <td>105546.241863</td>\n",
       "      <td>2.097425e+12</td>\n",
       "    </tr>\n",
       "    <tr>\n",
       "      <th>3</th>\n",
       "      <td>Cardano</td>\n",
       "      <td>9.693995e+08</td>\n",
       "      <td>0.702710</td>\n",
       "      <td>2.483217e+10</td>\n",
       "    </tr>\n",
       "    <tr>\n",
       "      <th>4</th>\n",
       "      <td>Chainlink</td>\n",
       "      <td>6.504657e+08</td>\n",
       "      <td>14.348752</td>\n",
       "      <td>9.428564e+09</td>\n",
       "    </tr>\n",
       "    <tr>\n",
       "      <th>5</th>\n",
       "      <td>Dogecoin</td>\n",
       "      <td>2.169179e+09</td>\n",
       "      <td>0.202803</td>\n",
       "      <td>3.031469e+10</td>\n",
       "    </tr>\n",
       "    <tr>\n",
       "      <th>6</th>\n",
       "      <td>Ethereum</td>\n",
       "      <td>2.312198e+10</td>\n",
       "      <td>2595.927525</td>\n",
       "      <td>3.133919e+11</td>\n",
       "    </tr>\n",
       "    <tr>\n",
       "      <th>7</th>\n",
       "      <td>Hyperliquid</td>\n",
       "      <td>4.312177e+08</td>\n",
       "      <td>32.337075</td>\n",
       "      <td>1.079826e+10</td>\n",
       "    </tr>\n",
       "    <tr>\n",
       "      <th>8</th>\n",
       "      <td>Solana</td>\n",
       "      <td>4.159297e+09</td>\n",
       "      <td>161.467771</td>\n",
       "      <td>8.411222e+10</td>\n",
       "    </tr>\n",
       "    <tr>\n",
       "      <th>9</th>\n",
       "      <td>Stellar</td>\n",
       "      <td>2.444190e+08</td>\n",
       "      <td>0.274174</td>\n",
       "      <td>8.539208e+09</td>\n",
       "    </tr>\n",
       "    <tr>\n",
       "      <th>10</th>\n",
       "      <td>Sui</td>\n",
       "      <td>1.212870e+09</td>\n",
       "      <td>3.444979</td>\n",
       "      <td>1.150047e+10</td>\n",
       "    </tr>\n",
       "    <tr>\n",
       "      <th>11</th>\n",
       "      <td>TRON</td>\n",
       "      <td>7.056999e+08</td>\n",
       "      <td>0.271372</td>\n",
       "      <td>2.574425e+10</td>\n",
       "    </tr>\n",
       "    <tr>\n",
       "      <th>12</th>\n",
       "      <td>Tether USDt</td>\n",
       "      <td>9.788078e+10</td>\n",
       "      <td>1.000084</td>\n",
       "      <td>1.530965e+11</td>\n",
       "    </tr>\n",
       "    <tr>\n",
       "      <th>13</th>\n",
       "      <td>UNUS SED LEO</td>\n",
       "      <td>4.055394e+06</td>\n",
       "      <td>9.214107</td>\n",
       "      <td>8.507743e+09</td>\n",
       "    </tr>\n",
       "    <tr>\n",
       "      <th>14</th>\n",
       "      <td>USDC</td>\n",
       "      <td>1.390234e+10</td>\n",
       "      <td>0.999802</td>\n",
       "      <td>6.107482e+10</td>\n",
       "    </tr>\n",
       "    <tr>\n",
       "      <th>15</th>\n",
       "      <td>XRP</td>\n",
       "      <td>3.635325e+09</td>\n",
       "      <td>2.184150</td>\n",
       "      <td>1.281790e+11</td>\n",
       "    </tr>\n",
       "  </tbody>\n",
       "</table>\n",
       "</div>"
      ],
      "text/plain": [
       "            name    volume_24h          price    market_cap\n",
       "0      Avalanche  5.974726e+08      21.585623  9.091775e+09\n",
       "1            BNB  1.974096e+09     669.754721  9.436023e+10\n",
       "2        Bitcoin  5.995046e+10  105546.241863  2.097425e+12\n",
       "3        Cardano  9.693995e+08       0.702710  2.483217e+10\n",
       "4      Chainlink  6.504657e+08      14.348752  9.428564e+09\n",
       "5       Dogecoin  2.169179e+09       0.202803  3.031469e+10\n",
       "6       Ethereum  2.312198e+10    2595.927525  3.133919e+11\n",
       "7    Hyperliquid  4.312177e+08      32.337075  1.079826e+10\n",
       "8         Solana  4.159297e+09     161.467771  8.411222e+10\n",
       "9        Stellar  2.444190e+08       0.274174  8.539208e+09\n",
       "10           Sui  1.212870e+09       3.444979  1.150047e+10\n",
       "11          TRON  7.056999e+08       0.271372  2.574425e+10\n",
       "12   Tether USDt  9.788078e+10       1.000084  1.530965e+11\n",
       "13  UNUS SED LEO  4.055394e+06       9.214107  8.507743e+09\n",
       "14          USDC  1.390234e+10       0.999802  6.107482e+10\n",
       "15           XRP  3.635325e+09       2.184150  1.281790e+11"
      ]
     },
     "execution_count": 37,
     "metadata": {},
     "output_type": "execute_result"
    }
   ],
   "source": [
    "volume_price_df = hist_df.groupby('name')[['volume_24h','price','market_cap']].mean().reset_index()\n",
    "volume_price_df"
   ]
  },
  {
   "cell_type": "code",
   "execution_count": 38,
   "id": "d37f472f",
   "metadata": {},
   "outputs": [
    {
     "data": {
      "application/vnd.plotly.v1+json": {
       "config": {
        "plotlyServerURL": "https://plot.ly"
       },
       "data": [
        {
         "customdata": [
          [
           9091775431.945028
          ]
         ],
         "hovertemplate": "name=Avalanche<br>24h Trading Volume (USD)=%{x:$,.0f}<br>Price (USD)=%{y:$,.2f}<br>market_cap=%{customdata[0]:$,.0f}<extra></extra>",
         "legendgroup": "Avalanche",
         "marker": {
          "color": "#636efa",
          "size": [
           9091775431.945028
          ],
          "sizemode": "area",
          "sizeref": 838969829.094622,
          "symbol": "circle"
         },
         "mode": "markers",
         "name": "Avalanche",
         "orientation": "v",
         "showlegend": true,
         "type": "scatter",
         "x": [
          597472644.1587389
         ],
         "xaxis": "x",
         "y": [
          21.58562264951072
         ],
         "yaxis": "y"
        },
        {
         "customdata": [
          [
           94360226627.61636
          ]
         ],
         "hovertemplate": "name=BNB<br>24h Trading Volume (USD)=%{x:$,.0f}<br>Price (USD)=%{y:$,.2f}<br>market_cap=%{customdata[0]:$,.0f}<extra></extra>",
         "legendgroup": "BNB",
         "marker": {
          "color": "#EF553B",
          "size": [
           94360226627.61636
          ],
          "sizemode": "area",
          "sizeref": 838969829.094622,
          "symbol": "circle"
         },
         "mode": "markers",
         "name": "BNB",
         "orientation": "v",
         "showlegend": true,
         "type": "scatter",
         "x": [
          1974096217.9380367
         ],
         "xaxis": "x",
         "y": [
          669.7547209091658
         ],
         "yaxis": "y"
        },
        {
         "customdata": [
          [
           2097424572736.5552
          ]
         ],
         "hovertemplate": "name=Bitcoin<br>24h Trading Volume (USD)=%{x:$,.0f}<br>Price (USD)=%{y:$,.2f}<br>market_cap=%{customdata[0]:$,.0f}<extra></extra>",
         "legendgroup": "Bitcoin",
         "marker": {
          "color": "#00cc96",
          "size": [
           2097424572736.5552
          ],
          "sizemode": "area",
          "sizeref": 838969829.094622,
          "symbol": "circle"
         },
         "mode": "markers",
         "name": "Bitcoin",
         "orientation": "v",
         "showlegend": true,
         "type": "scatter",
         "x": [
          59950455755.894585
         ],
         "xaxis": "x",
         "y": [
          105546.24186273954
         ],
         "yaxis": "y"
        },
        {
         "customdata": [
          [
           24832171012.331512
          ]
         ],
         "hovertemplate": "name=Cardano<br>24h Trading Volume (USD)=%{x:$,.0f}<br>Price (USD)=%{y:$,.2f}<br>market_cap=%{customdata[0]:$,.0f}<extra></extra>",
         "legendgroup": "Cardano",
         "marker": {
          "color": "#ab63fa",
          "size": [
           24832171012.331512
          ],
          "sizemode": "area",
          "sizeref": 838969829.094622,
          "symbol": "circle"
         },
         "mode": "markers",
         "name": "Cardano",
         "orientation": "v",
         "showlegend": true,
         "type": "scatter",
         "x": [
          969399486.3158989
         ],
         "xaxis": "x",
         "y": [
          0.7027095896761608
         ],
         "yaxis": "y"
        },
        {
         "customdata": [
          [
           9428564285.512201
          ]
         ],
         "hovertemplate": "name=Chainlink<br>24h Trading Volume (USD)=%{x:$,.0f}<br>Price (USD)=%{y:$,.2f}<br>market_cap=%{customdata[0]:$,.0f}<extra></extra>",
         "legendgroup": "Chainlink",
         "marker": {
          "color": "#FFA15A",
          "size": [
           9428564285.512201
          ],
          "sizemode": "area",
          "sizeref": 838969829.094622,
          "symbol": "circle"
         },
         "mode": "markers",
         "name": "Chainlink",
         "orientation": "v",
         "showlegend": true,
         "type": "scatter",
         "x": [
          650465749.2677842
         ],
         "xaxis": "x",
         "y": [
          14.348751650399983
         ],
         "yaxis": "y"
        },
        {
         "customdata": [
          [
           30314686452.807354
          ]
         ],
         "hovertemplate": "name=Dogecoin<br>24h Trading Volume (USD)=%{x:$,.0f}<br>Price (USD)=%{y:$,.2f}<br>market_cap=%{customdata[0]:$,.0f}<extra></extra>",
         "legendgroup": "Dogecoin",
         "marker": {
          "color": "#19d3f3",
          "size": [
           30314686452.807354
          ],
          "sizemode": "area",
          "sizeref": 838969829.094622,
          "symbol": "circle"
         },
         "mode": "markers",
         "name": "Dogecoin",
         "orientation": "v",
         "showlegend": true,
         "type": "scatter",
         "x": [
          2169178693.9725947
         ],
         "xaxis": "x",
         "y": [
          0.2028029274159253
         ],
         "yaxis": "y"
        },
        {
         "customdata": [
          [
           313391879649.2167
          ]
         ],
         "hovertemplate": "name=Ethereum<br>24h Trading Volume (USD)=%{x:$,.0f}<br>Price (USD)=%{y:$,.2f}<br>market_cap=%{customdata[0]:$,.0f}<extra></extra>",
         "legendgroup": "Ethereum",
         "marker": {
          "color": "#FF6692",
          "size": [
           313391879649.2167
          ],
          "sizemode": "area",
          "sizeref": 838969829.094622,
          "symbol": "circle"
         },
         "mode": "markers",
         "name": "Ethereum",
         "orientation": "v",
         "showlegend": true,
         "type": "scatter",
         "x": [
          23121982283.9242
         ],
         "xaxis": "x",
         "y": [
          2595.927525267674
         ],
         "yaxis": "y"
        },
        {
         "customdata": [
          [
           10798260666.410076
          ]
         ],
         "hovertemplate": "name=Hyperliquid<br>24h Trading Volume (USD)=%{x:$,.0f}<br>Price (USD)=%{y:$,.2f}<br>market_cap=%{customdata[0]:$,.0f}<extra></extra>",
         "legendgroup": "Hyperliquid",
         "marker": {
          "color": "#B6E880",
          "size": [
           10798260666.410076
          ],
          "sizemode": "area",
          "sizeref": 838969829.094622,
          "symbol": "circle"
         },
         "mode": "markers",
         "name": "Hyperliquid",
         "orientation": "v",
         "showlegend": true,
         "type": "scatter",
         "x": [
          431217651.18676823
         ],
         "xaxis": "x",
         "y": [
          32.33707519506164
         ],
         "yaxis": "y"
        },
        {
         "customdata": [
          [
           84112222384.88396
          ]
         ],
         "hovertemplate": "name=Solana<br>24h Trading Volume (USD)=%{x:$,.0f}<br>Price (USD)=%{y:$,.2f}<br>market_cap=%{customdata[0]:$,.0f}<extra></extra>",
         "legendgroup": "Solana",
         "marker": {
          "color": "#FF97FF",
          "size": [
           84112222384.88396
          ],
          "sizemode": "area",
          "sizeref": 838969829.094622,
          "symbol": "circle"
         },
         "mode": "markers",
         "name": "Solana",
         "orientation": "v",
         "showlegend": true,
         "type": "scatter",
         "x": [
          4159297226.0801754
         ],
         "xaxis": "x",
         "y": [
          161.4677706216762
         ],
         "yaxis": "y"
        },
        {
         "customdata": [
          [
           8539207833.739262
          ]
         ],
         "hovertemplate": "name=Stellar<br>24h Trading Volume (USD)=%{x:$,.0f}<br>Price (USD)=%{y:$,.2f}<br>market_cap=%{customdata[0]:$,.0f}<extra></extra>",
         "legendgroup": "Stellar",
         "marker": {
          "color": "#FECB52",
          "size": [
           8539207833.739262
          ],
          "sizemode": "area",
          "sizeref": 838969829.094622,
          "symbol": "circle"
         },
         "mode": "markers",
         "name": "Stellar",
         "orientation": "v",
         "showlegend": true,
         "type": "scatter",
         "x": [
          244419041.8277593
         ],
         "xaxis": "x",
         "y": [
          0.274173811790214
         ],
         "yaxis": "y"
        },
        {
         "customdata": [
          [
           11500466616.98563
          ]
         ],
         "hovertemplate": "name=Sui<br>24h Trading Volume (USD)=%{x:$,.0f}<br>Price (USD)=%{y:$,.2f}<br>market_cap=%{customdata[0]:$,.0f}<extra></extra>",
         "legendgroup": "Sui",
         "marker": {
          "color": "#636efa",
          "size": [
           11500466616.98563
          ],
          "sizemode": "area",
          "sizeref": 838969829.094622,
          "symbol": "circle"
         },
         "mode": "markers",
         "name": "Sui",
         "orientation": "v",
         "showlegend": true,
         "type": "scatter",
         "x": [
          1212869798.959441
         ],
         "xaxis": "x",
         "y": [
          3.4449790434790595
         ],
         "yaxis": "y"
        },
        {
         "customdata": [
          [
           25744245730.910973
          ]
         ],
         "hovertemplate": "name=TRON<br>24h Trading Volume (USD)=%{x:$,.0f}<br>Price (USD)=%{y:$,.2f}<br>market_cap=%{customdata[0]:$,.0f}<extra></extra>",
         "legendgroup": "TRON",
         "marker": {
          "color": "#EF553B",
          "size": [
           25744245730.910973
          ],
          "sizemode": "area",
          "sizeref": 838969829.094622,
          "symbol": "circle"
         },
         "mode": "markers",
         "name": "TRON",
         "orientation": "v",
         "showlegend": true,
         "type": "scatter",
         "x": [
          705699900.507335
         ],
         "xaxis": "x",
         "y": [
          0.27137192876795274
         ],
         "yaxis": "y"
        },
        {
         "customdata": [
          [
           153096482685.7827
          ]
         ],
         "hovertemplate": "name=Tether USDt<br>24h Trading Volume (USD)=%{x:$,.0f}<br>Price (USD)=%{y:$,.2f}<br>market_cap=%{customdata[0]:$,.0f}<extra></extra>",
         "legendgroup": "Tether USDt",
         "marker": {
          "color": "#00cc96",
          "size": [
           153096482685.7827
          ],
          "sizemode": "area",
          "sizeref": 838969829.094622,
          "symbol": "circle"
         },
         "mode": "markers",
         "name": "Tether USDt",
         "orientation": "v",
         "showlegend": true,
         "type": "scatter",
         "x": [
          97880784622.6223
         ],
         "xaxis": "x",
         "y": [
          1.000083752341459
         ],
         "yaxis": "y"
        },
        {
         "customdata": [
          [
           8507743438.040421
          ]
         ],
         "hovertemplate": "name=UNUS SED LEO<br>24h Trading Volume (USD)=%{x:$,.0f}<br>Price (USD)=%{y:$,.2f}<br>market_cap=%{customdata[0]:$,.0f}<extra></extra>",
         "legendgroup": "UNUS SED LEO",
         "marker": {
          "color": "#ab63fa",
          "size": [
           8507743438.040421
          ],
          "sizemode": "area",
          "sizeref": 838969829.094622,
          "symbol": "circle"
         },
         "mode": "markers",
         "name": "UNUS SED LEO",
         "orientation": "v",
         "showlegend": true,
         "type": "scatter",
         "x": [
          4055393.972849148
         ],
         "xaxis": "x",
         "y": [
          9.214106719145732
         ],
         "yaxis": "y"
        },
        {
         "customdata": [
          [
           61074815378.60061
          ]
         ],
         "hovertemplate": "name=USDC<br>24h Trading Volume (USD)=%{x:$,.0f}<br>Price (USD)=%{y:$,.2f}<br>market_cap=%{customdata[0]:$,.0f}<extra></extra>",
         "legendgroup": "USDC",
         "marker": {
          "color": "#FFA15A",
          "size": [
           61074815378.60061
          ],
          "sizemode": "area",
          "sizeref": 838969829.094622,
          "symbol": "circle"
         },
         "mode": "markers",
         "name": "USDC",
         "orientation": "v",
         "showlegend": true,
         "type": "scatter",
         "x": [
          13902337431.741198
         ],
         "xaxis": "x",
         "y": [
          0.9998017135901817
         ],
         "yaxis": "y"
        },
        {
         "customdata": [
          [
           128179044759.01852
          ]
         ],
         "hovertemplate": "name=XRP<br>24h Trading Volume (USD)=%{x:$,.0f}<br>Price (USD)=%{y:$,.2f}<br>market_cap=%{customdata[0]:$,.0f}<extra></extra>",
         "legendgroup": "XRP",
         "marker": {
          "color": "#19d3f3",
          "size": [
           128179044759.01852
          ],
          "sizemode": "area",
          "sizeref": 838969829.094622,
          "symbol": "circle"
         },
         "mode": "markers",
         "name": "XRP",
         "orientation": "v",
         "showlegend": true,
         "type": "scatter",
         "x": [
          3635325159.5747104
         ],
         "xaxis": "x",
         "y": [
          2.1841500329243173
         ],
         "yaxis": "y"
        }
       ],
       "layout": {
        "height": 600,
        "legend": {
         "itemsizing": "constant",
         "orientation": "v",
         "title": {
          "text": "name"
         },
         "tracegroupgap": 0,
         "x": 1.02,
         "y": 1
        },
        "showlegend": true,
        "template": {
         "data": {
          "bar": [
           {
            "error_x": {
             "color": "#2a3f5f"
            },
            "error_y": {
             "color": "#2a3f5f"
            },
            "marker": {
             "line": {
              "color": "#E5ECF6",
              "width": 0.5
             },
             "pattern": {
              "fillmode": "overlay",
              "size": 10,
              "solidity": 0.2
             }
            },
            "type": "bar"
           }
          ],
          "barpolar": [
           {
            "marker": {
             "line": {
              "color": "#E5ECF6",
              "width": 0.5
             },
             "pattern": {
              "fillmode": "overlay",
              "size": 10,
              "solidity": 0.2
             }
            },
            "type": "barpolar"
           }
          ],
          "carpet": [
           {
            "aaxis": {
             "endlinecolor": "#2a3f5f",
             "gridcolor": "white",
             "linecolor": "white",
             "minorgridcolor": "white",
             "startlinecolor": "#2a3f5f"
            },
            "baxis": {
             "endlinecolor": "#2a3f5f",
             "gridcolor": "white",
             "linecolor": "white",
             "minorgridcolor": "white",
             "startlinecolor": "#2a3f5f"
            },
            "type": "carpet"
           }
          ],
          "choropleth": [
           {
            "colorbar": {
             "outlinewidth": 0,
             "ticks": ""
            },
            "type": "choropleth"
           }
          ],
          "contour": [
           {
            "colorbar": {
             "outlinewidth": 0,
             "ticks": ""
            },
            "colorscale": [
             [
              0,
              "#0d0887"
             ],
             [
              0.1111111111111111,
              "#46039f"
             ],
             [
              0.2222222222222222,
              "#7201a8"
             ],
             [
              0.3333333333333333,
              "#9c179e"
             ],
             [
              0.4444444444444444,
              "#bd3786"
             ],
             [
              0.5555555555555556,
              "#d8576b"
             ],
             [
              0.6666666666666666,
              "#ed7953"
             ],
             [
              0.7777777777777778,
              "#fb9f3a"
             ],
             [
              0.8888888888888888,
              "#fdca26"
             ],
             [
              1,
              "#f0f921"
             ]
            ],
            "type": "contour"
           }
          ],
          "contourcarpet": [
           {
            "colorbar": {
             "outlinewidth": 0,
             "ticks": ""
            },
            "type": "contourcarpet"
           }
          ],
          "heatmap": [
           {
            "colorbar": {
             "outlinewidth": 0,
             "ticks": ""
            },
            "colorscale": [
             [
              0,
              "#0d0887"
             ],
             [
              0.1111111111111111,
              "#46039f"
             ],
             [
              0.2222222222222222,
              "#7201a8"
             ],
             [
              0.3333333333333333,
              "#9c179e"
             ],
             [
              0.4444444444444444,
              "#bd3786"
             ],
             [
              0.5555555555555556,
              "#d8576b"
             ],
             [
              0.6666666666666666,
              "#ed7953"
             ],
             [
              0.7777777777777778,
              "#fb9f3a"
             ],
             [
              0.8888888888888888,
              "#fdca26"
             ],
             [
              1,
              "#f0f921"
             ]
            ],
            "type": "heatmap"
           }
          ],
          "heatmapgl": [
           {
            "colorbar": {
             "outlinewidth": 0,
             "ticks": ""
            },
            "colorscale": [
             [
              0,
              "#0d0887"
             ],
             [
              0.1111111111111111,
              "#46039f"
             ],
             [
              0.2222222222222222,
              "#7201a8"
             ],
             [
              0.3333333333333333,
              "#9c179e"
             ],
             [
              0.4444444444444444,
              "#bd3786"
             ],
             [
              0.5555555555555556,
              "#d8576b"
             ],
             [
              0.6666666666666666,
              "#ed7953"
             ],
             [
              0.7777777777777778,
              "#fb9f3a"
             ],
             [
              0.8888888888888888,
              "#fdca26"
             ],
             [
              1,
              "#f0f921"
             ]
            ],
            "type": "heatmapgl"
           }
          ],
          "histogram": [
           {
            "marker": {
             "pattern": {
              "fillmode": "overlay",
              "size": 10,
              "solidity": 0.2
             }
            },
            "type": "histogram"
           }
          ],
          "histogram2d": [
           {
            "colorbar": {
             "outlinewidth": 0,
             "ticks": ""
            },
            "colorscale": [
             [
              0,
              "#0d0887"
             ],
             [
              0.1111111111111111,
              "#46039f"
             ],
             [
              0.2222222222222222,
              "#7201a8"
             ],
             [
              0.3333333333333333,
              "#9c179e"
             ],
             [
              0.4444444444444444,
              "#bd3786"
             ],
             [
              0.5555555555555556,
              "#d8576b"
             ],
             [
              0.6666666666666666,
              "#ed7953"
             ],
             [
              0.7777777777777778,
              "#fb9f3a"
             ],
             [
              0.8888888888888888,
              "#fdca26"
             ],
             [
              1,
              "#f0f921"
             ]
            ],
            "type": "histogram2d"
           }
          ],
          "histogram2dcontour": [
           {
            "colorbar": {
             "outlinewidth": 0,
             "ticks": ""
            },
            "colorscale": [
             [
              0,
              "#0d0887"
             ],
             [
              0.1111111111111111,
              "#46039f"
             ],
             [
              0.2222222222222222,
              "#7201a8"
             ],
             [
              0.3333333333333333,
              "#9c179e"
             ],
             [
              0.4444444444444444,
              "#bd3786"
             ],
             [
              0.5555555555555556,
              "#d8576b"
             ],
             [
              0.6666666666666666,
              "#ed7953"
             ],
             [
              0.7777777777777778,
              "#fb9f3a"
             ],
             [
              0.8888888888888888,
              "#fdca26"
             ],
             [
              1,
              "#f0f921"
             ]
            ],
            "type": "histogram2dcontour"
           }
          ],
          "mesh3d": [
           {
            "colorbar": {
             "outlinewidth": 0,
             "ticks": ""
            },
            "type": "mesh3d"
           }
          ],
          "parcoords": [
           {
            "line": {
             "colorbar": {
              "outlinewidth": 0,
              "ticks": ""
             }
            },
            "type": "parcoords"
           }
          ],
          "pie": [
           {
            "automargin": true,
            "type": "pie"
           }
          ],
          "scatter": [
           {
            "fillpattern": {
             "fillmode": "overlay",
             "size": 10,
             "solidity": 0.2
            },
            "type": "scatter"
           }
          ],
          "scatter3d": [
           {
            "line": {
             "colorbar": {
              "outlinewidth": 0,
              "ticks": ""
             }
            },
            "marker": {
             "colorbar": {
              "outlinewidth": 0,
              "ticks": ""
             }
            },
            "type": "scatter3d"
           }
          ],
          "scattercarpet": [
           {
            "marker": {
             "colorbar": {
              "outlinewidth": 0,
              "ticks": ""
             }
            },
            "type": "scattercarpet"
           }
          ],
          "scattergeo": [
           {
            "marker": {
             "colorbar": {
              "outlinewidth": 0,
              "ticks": ""
             }
            },
            "type": "scattergeo"
           }
          ],
          "scattergl": [
           {
            "marker": {
             "colorbar": {
              "outlinewidth": 0,
              "ticks": ""
             }
            },
            "type": "scattergl"
           }
          ],
          "scattermapbox": [
           {
            "marker": {
             "colorbar": {
              "outlinewidth": 0,
              "ticks": ""
             }
            },
            "type": "scattermapbox"
           }
          ],
          "scatterpolar": [
           {
            "marker": {
             "colorbar": {
              "outlinewidth": 0,
              "ticks": ""
             }
            },
            "type": "scatterpolar"
           }
          ],
          "scatterpolargl": [
           {
            "marker": {
             "colorbar": {
              "outlinewidth": 0,
              "ticks": ""
             }
            },
            "type": "scatterpolargl"
           }
          ],
          "scatterternary": [
           {
            "marker": {
             "colorbar": {
              "outlinewidth": 0,
              "ticks": ""
             }
            },
            "type": "scatterternary"
           }
          ],
          "surface": [
           {
            "colorbar": {
             "outlinewidth": 0,
             "ticks": ""
            },
            "colorscale": [
             [
              0,
              "#0d0887"
             ],
             [
              0.1111111111111111,
              "#46039f"
             ],
             [
              0.2222222222222222,
              "#7201a8"
             ],
             [
              0.3333333333333333,
              "#9c179e"
             ],
             [
              0.4444444444444444,
              "#bd3786"
             ],
             [
              0.5555555555555556,
              "#d8576b"
             ],
             [
              0.6666666666666666,
              "#ed7953"
             ],
             [
              0.7777777777777778,
              "#fb9f3a"
             ],
             [
              0.8888888888888888,
              "#fdca26"
             ],
             [
              1,
              "#f0f921"
             ]
            ],
            "type": "surface"
           }
          ],
          "table": [
           {
            "cells": {
             "fill": {
              "color": "#EBF0F8"
             },
             "line": {
              "color": "white"
             }
            },
            "header": {
             "fill": {
              "color": "#C8D4E3"
             },
             "line": {
              "color": "white"
             }
            },
            "type": "table"
           }
          ]
         },
         "layout": {
          "annotationdefaults": {
           "arrowcolor": "#2a3f5f",
           "arrowhead": 0,
           "arrowwidth": 1
          },
          "autotypenumbers": "strict",
          "coloraxis": {
           "colorbar": {
            "outlinewidth": 0,
            "ticks": ""
           }
          },
          "colorscale": {
           "diverging": [
            [
             0,
             "#8e0152"
            ],
            [
             0.1,
             "#c51b7d"
            ],
            [
             0.2,
             "#de77ae"
            ],
            [
             0.3,
             "#f1b6da"
            ],
            [
             0.4,
             "#fde0ef"
            ],
            [
             0.5,
             "#f7f7f7"
            ],
            [
             0.6,
             "#e6f5d0"
            ],
            [
             0.7,
             "#b8e186"
            ],
            [
             0.8,
             "#7fbc41"
            ],
            [
             0.9,
             "#4d9221"
            ],
            [
             1,
             "#276419"
            ]
           ],
           "sequential": [
            [
             0,
             "#0d0887"
            ],
            [
             0.1111111111111111,
             "#46039f"
            ],
            [
             0.2222222222222222,
             "#7201a8"
            ],
            [
             0.3333333333333333,
             "#9c179e"
            ],
            [
             0.4444444444444444,
             "#bd3786"
            ],
            [
             0.5555555555555556,
             "#d8576b"
            ],
            [
             0.6666666666666666,
             "#ed7953"
            ],
            [
             0.7777777777777778,
             "#fb9f3a"
            ],
            [
             0.8888888888888888,
             "#fdca26"
            ],
            [
             1,
             "#f0f921"
            ]
           ],
           "sequentialminus": [
            [
             0,
             "#0d0887"
            ],
            [
             0.1111111111111111,
             "#46039f"
            ],
            [
             0.2222222222222222,
             "#7201a8"
            ],
            [
             0.3333333333333333,
             "#9c179e"
            ],
            [
             0.4444444444444444,
             "#bd3786"
            ],
            [
             0.5555555555555556,
             "#d8576b"
            ],
            [
             0.6666666666666666,
             "#ed7953"
            ],
            [
             0.7777777777777778,
             "#fb9f3a"
            ],
            [
             0.8888888888888888,
             "#fdca26"
            ],
            [
             1,
             "#f0f921"
            ]
           ]
          },
          "colorway": [
           "#636efa",
           "#EF553B",
           "#00cc96",
           "#ab63fa",
           "#FFA15A",
           "#19d3f3",
           "#FF6692",
           "#B6E880",
           "#FF97FF",
           "#FECB52"
          ],
          "font": {
           "color": "#2a3f5f"
          },
          "geo": {
           "bgcolor": "white",
           "lakecolor": "white",
           "landcolor": "#E5ECF6",
           "showlakes": true,
           "showland": true,
           "subunitcolor": "white"
          },
          "hoverlabel": {
           "align": "left"
          },
          "hovermode": "closest",
          "mapbox": {
           "style": "light"
          },
          "paper_bgcolor": "white",
          "plot_bgcolor": "#E5ECF6",
          "polar": {
           "angularaxis": {
            "gridcolor": "white",
            "linecolor": "white",
            "ticks": ""
           },
           "bgcolor": "#E5ECF6",
           "radialaxis": {
            "gridcolor": "white",
            "linecolor": "white",
            "ticks": ""
           }
          },
          "scene": {
           "xaxis": {
            "backgroundcolor": "#E5ECF6",
            "gridcolor": "white",
            "gridwidth": 2,
            "linecolor": "white",
            "showbackground": true,
            "ticks": "",
            "zerolinecolor": "white"
           },
           "yaxis": {
            "backgroundcolor": "#E5ECF6",
            "gridcolor": "white",
            "gridwidth": 2,
            "linecolor": "white",
            "showbackground": true,
            "ticks": "",
            "zerolinecolor": "white"
           },
           "zaxis": {
            "backgroundcolor": "#E5ECF6",
            "gridcolor": "white",
            "gridwidth": 2,
            "linecolor": "white",
            "showbackground": true,
            "ticks": "",
            "zerolinecolor": "white"
           }
          },
          "shapedefaults": {
           "line": {
            "color": "#2a3f5f"
           }
          },
          "ternary": {
           "aaxis": {
            "gridcolor": "white",
            "linecolor": "white",
            "ticks": ""
           },
           "baxis": {
            "gridcolor": "white",
            "linecolor": "white",
            "ticks": ""
           },
           "bgcolor": "#E5ECF6",
           "caxis": {
            "gridcolor": "white",
            "linecolor": "white",
            "ticks": ""
           }
          },
          "title": {
           "x": 0.05
          },
          "xaxis": {
           "automargin": true,
           "gridcolor": "white",
           "linecolor": "white",
           "ticks": "",
           "title": {
            "standoff": 15
           },
           "zerolinecolor": "white",
           "zerolinewidth": 2
          },
          "yaxis": {
           "automargin": true,
           "gridcolor": "white",
           "linecolor": "white",
           "ticks": "",
           "title": {
            "standoff": 15
           },
           "zerolinecolor": "white",
           "zerolinewidth": 2
          }
         }
        },
        "title": {
         "text": "Cryptocurrency: Volume vs Price Analysis (Bubble Size = Market Cap)"
        },
        "xaxis": {
         "anchor": "y",
         "domain": [
          0,
          1
         ],
         "tickformat": "$,.1s",
         "title": {
          "text": "24h Trading Volume (USD)"
         },
         "type": "log"
        },
        "yaxis": {
         "anchor": "x",
         "domain": [
          0,
          1
         ],
         "tickformat": "$,.0f",
         "title": {
          "text": "Price (USD)"
         },
         "type": "log"
        }
       }
      }
     },
     "metadata": {},
     "output_type": "display_data"
    }
   ],
   "source": [
    "fig = px.scatter(volume_price_df, \n",
    "                x='volume_24h', \n",
    "                y='price',\n",
    "                size='market_cap',\n",
    "                color='name',\n",
    "                title='Cryptocurrency: Volume vs Price Analysis (Bubble Size = Market Cap)',\n",
    "                hover_data={'market_cap': ':$,.0f', 'volume_24h': ':$,.0f', 'price': ':$,.2f'},\n",
    "                labels={'volume_24h': '24h Trading Volume (USD)', \n",
    "                       'price': 'Price (USD)'},\n",
    "                size_max=50,)\n",
    "\n",
    "fig.update_layout(\n",
    "    xaxis_tickformat='$,.1s',\n",
    "    yaxis_tickformat='$,.0f',\n",
    "    height=600,\n",
    "    showlegend=True,\n",
    "    legend=dict(orientation=\"v\", x=1.02, y=1,),\n",
    ")\n",
    "\n",
    "fig.update_layout(xaxis_type=\"log\", yaxis_type=\"log\")\n",
    "\n",
    "fig.show()"
   ]
  },
  {
   "cell_type": "code",
   "execution_count": 39,
   "id": "58436f03",
   "metadata": {},
   "outputs": [
    {
     "data": {
      "application/vnd.plotly.v1+json": {
       "config": {
        "plotlyServerURL": "https://plot.ly"
       },
       "data": [
        {
         "alignmentgroup": "True",
         "hovertemplate": "name=%{x}<br>volume_to_market_cap=%{text}<extra></extra>",
         "legendgroup": "",
         "marker": {
          "color": "#636efa",
          "pattern": {
           "shape": ""
          }
         },
         "name": "",
         "offsetgroup": "",
         "orientation": "v",
         "showlegend": false,
         "text": [
          0.6393405185115464,
          0.22762798946768978,
          0.10546265985139171,
          0.07377977473380903,
          0.07155537291634147,
          0.06898884385476171,
          0.06571572831192553,
          0.04944937974707055,
          0.039933991640723025,
          0.03903804809633844,
          0.02862315177082765,
          0.028582889957122954,
          0.028361306377413405,
          0.027411947037935744,
          0.020920850749210462,
          0.0004766709295341918
         ],
         "textposition": "outside",
         "texttemplate": "%{text:.6f}",
         "type": "bar",
         "x": [
          "Tether USDt",
          "USDC",
          "Sui",
          "Ethereum",
          "Dogecoin",
          "Chainlink",
          "Avalanche",
          "Solana",
          "Hyperliquid",
          "Cardano",
          "Stellar",
          "Bitcoin",
          "XRP",
          "TRON",
          "BNB",
          "UNUS SED LEO"
         ],
         "xaxis": "x",
         "y": [
          0.6393405185115464,
          0.22762798946768978,
          0.10546265985139171,
          0.07377977473380903,
          0.07155537291634147,
          0.06898884385476171,
          0.06571572831192553,
          0.04944937974707055,
          0.039933991640723025,
          0.03903804809633844,
          0.02862315177082765,
          0.028582889957122954,
          0.028361306377413405,
          0.027411947037935744,
          0.020920850749210462,
          0.0004766709295341918
         ],
         "yaxis": "y"
        }
       ],
       "layout": {
        "barmode": "relative",
        "height": 600,
        "legend": {
         "tracegroupgap": 0
        },
        "template": {
         "data": {
          "bar": [
           {
            "error_x": {
             "color": "#2a3f5f"
            },
            "error_y": {
             "color": "#2a3f5f"
            },
            "marker": {
             "line": {
              "color": "#E5ECF6",
              "width": 0.5
             },
             "pattern": {
              "fillmode": "overlay",
              "size": 10,
              "solidity": 0.2
             }
            },
            "type": "bar"
           }
          ],
          "barpolar": [
           {
            "marker": {
             "line": {
              "color": "#E5ECF6",
              "width": 0.5
             },
             "pattern": {
              "fillmode": "overlay",
              "size": 10,
              "solidity": 0.2
             }
            },
            "type": "barpolar"
           }
          ],
          "carpet": [
           {
            "aaxis": {
             "endlinecolor": "#2a3f5f",
             "gridcolor": "white",
             "linecolor": "white",
             "minorgridcolor": "white",
             "startlinecolor": "#2a3f5f"
            },
            "baxis": {
             "endlinecolor": "#2a3f5f",
             "gridcolor": "white",
             "linecolor": "white",
             "minorgridcolor": "white",
             "startlinecolor": "#2a3f5f"
            },
            "type": "carpet"
           }
          ],
          "choropleth": [
           {
            "colorbar": {
             "outlinewidth": 0,
             "ticks": ""
            },
            "type": "choropleth"
           }
          ],
          "contour": [
           {
            "colorbar": {
             "outlinewidth": 0,
             "ticks": ""
            },
            "colorscale": [
             [
              0,
              "#0d0887"
             ],
             [
              0.1111111111111111,
              "#46039f"
             ],
             [
              0.2222222222222222,
              "#7201a8"
             ],
             [
              0.3333333333333333,
              "#9c179e"
             ],
             [
              0.4444444444444444,
              "#bd3786"
             ],
             [
              0.5555555555555556,
              "#d8576b"
             ],
             [
              0.6666666666666666,
              "#ed7953"
             ],
             [
              0.7777777777777778,
              "#fb9f3a"
             ],
             [
              0.8888888888888888,
              "#fdca26"
             ],
             [
              1,
              "#f0f921"
             ]
            ],
            "type": "contour"
           }
          ],
          "contourcarpet": [
           {
            "colorbar": {
             "outlinewidth": 0,
             "ticks": ""
            },
            "type": "contourcarpet"
           }
          ],
          "heatmap": [
           {
            "colorbar": {
             "outlinewidth": 0,
             "ticks": ""
            },
            "colorscale": [
             [
              0,
              "#0d0887"
             ],
             [
              0.1111111111111111,
              "#46039f"
             ],
             [
              0.2222222222222222,
              "#7201a8"
             ],
             [
              0.3333333333333333,
              "#9c179e"
             ],
             [
              0.4444444444444444,
              "#bd3786"
             ],
             [
              0.5555555555555556,
              "#d8576b"
             ],
             [
              0.6666666666666666,
              "#ed7953"
             ],
             [
              0.7777777777777778,
              "#fb9f3a"
             ],
             [
              0.8888888888888888,
              "#fdca26"
             ],
             [
              1,
              "#f0f921"
             ]
            ],
            "type": "heatmap"
           }
          ],
          "heatmapgl": [
           {
            "colorbar": {
             "outlinewidth": 0,
             "ticks": ""
            },
            "colorscale": [
             [
              0,
              "#0d0887"
             ],
             [
              0.1111111111111111,
              "#46039f"
             ],
             [
              0.2222222222222222,
              "#7201a8"
             ],
             [
              0.3333333333333333,
              "#9c179e"
             ],
             [
              0.4444444444444444,
              "#bd3786"
             ],
             [
              0.5555555555555556,
              "#d8576b"
             ],
             [
              0.6666666666666666,
              "#ed7953"
             ],
             [
              0.7777777777777778,
              "#fb9f3a"
             ],
             [
              0.8888888888888888,
              "#fdca26"
             ],
             [
              1,
              "#f0f921"
             ]
            ],
            "type": "heatmapgl"
           }
          ],
          "histogram": [
           {
            "marker": {
             "pattern": {
              "fillmode": "overlay",
              "size": 10,
              "solidity": 0.2
             }
            },
            "type": "histogram"
           }
          ],
          "histogram2d": [
           {
            "colorbar": {
             "outlinewidth": 0,
             "ticks": ""
            },
            "colorscale": [
             [
              0,
              "#0d0887"
             ],
             [
              0.1111111111111111,
              "#46039f"
             ],
             [
              0.2222222222222222,
              "#7201a8"
             ],
             [
              0.3333333333333333,
              "#9c179e"
             ],
             [
              0.4444444444444444,
              "#bd3786"
             ],
             [
              0.5555555555555556,
              "#d8576b"
             ],
             [
              0.6666666666666666,
              "#ed7953"
             ],
             [
              0.7777777777777778,
              "#fb9f3a"
             ],
             [
              0.8888888888888888,
              "#fdca26"
             ],
             [
              1,
              "#f0f921"
             ]
            ],
            "type": "histogram2d"
           }
          ],
          "histogram2dcontour": [
           {
            "colorbar": {
             "outlinewidth": 0,
             "ticks": ""
            },
            "colorscale": [
             [
              0,
              "#0d0887"
             ],
             [
              0.1111111111111111,
              "#46039f"
             ],
             [
              0.2222222222222222,
              "#7201a8"
             ],
             [
              0.3333333333333333,
              "#9c179e"
             ],
             [
              0.4444444444444444,
              "#bd3786"
             ],
             [
              0.5555555555555556,
              "#d8576b"
             ],
             [
              0.6666666666666666,
              "#ed7953"
             ],
             [
              0.7777777777777778,
              "#fb9f3a"
             ],
             [
              0.8888888888888888,
              "#fdca26"
             ],
             [
              1,
              "#f0f921"
             ]
            ],
            "type": "histogram2dcontour"
           }
          ],
          "mesh3d": [
           {
            "colorbar": {
             "outlinewidth": 0,
             "ticks": ""
            },
            "type": "mesh3d"
           }
          ],
          "parcoords": [
           {
            "line": {
             "colorbar": {
              "outlinewidth": 0,
              "ticks": ""
             }
            },
            "type": "parcoords"
           }
          ],
          "pie": [
           {
            "automargin": true,
            "type": "pie"
           }
          ],
          "scatter": [
           {
            "fillpattern": {
             "fillmode": "overlay",
             "size": 10,
             "solidity": 0.2
            },
            "type": "scatter"
           }
          ],
          "scatter3d": [
           {
            "line": {
             "colorbar": {
              "outlinewidth": 0,
              "ticks": ""
             }
            },
            "marker": {
             "colorbar": {
              "outlinewidth": 0,
              "ticks": ""
             }
            },
            "type": "scatter3d"
           }
          ],
          "scattercarpet": [
           {
            "marker": {
             "colorbar": {
              "outlinewidth": 0,
              "ticks": ""
             }
            },
            "type": "scattercarpet"
           }
          ],
          "scattergeo": [
           {
            "marker": {
             "colorbar": {
              "outlinewidth": 0,
              "ticks": ""
             }
            },
            "type": "scattergeo"
           }
          ],
          "scattergl": [
           {
            "marker": {
             "colorbar": {
              "outlinewidth": 0,
              "ticks": ""
             }
            },
            "type": "scattergl"
           }
          ],
          "scattermapbox": [
           {
            "marker": {
             "colorbar": {
              "outlinewidth": 0,
              "ticks": ""
             }
            },
            "type": "scattermapbox"
           }
          ],
          "scatterpolar": [
           {
            "marker": {
             "colorbar": {
              "outlinewidth": 0,
              "ticks": ""
             }
            },
            "type": "scatterpolar"
           }
          ],
          "scatterpolargl": [
           {
            "marker": {
             "colorbar": {
              "outlinewidth": 0,
              "ticks": ""
             }
            },
            "type": "scatterpolargl"
           }
          ],
          "scatterternary": [
           {
            "marker": {
             "colorbar": {
              "outlinewidth": 0,
              "ticks": ""
             }
            },
            "type": "scatterternary"
           }
          ],
          "surface": [
           {
            "colorbar": {
             "outlinewidth": 0,
             "ticks": ""
            },
            "colorscale": [
             [
              0,
              "#0d0887"
             ],
             [
              0.1111111111111111,
              "#46039f"
             ],
             [
              0.2222222222222222,
              "#7201a8"
             ],
             [
              0.3333333333333333,
              "#9c179e"
             ],
             [
              0.4444444444444444,
              "#bd3786"
             ],
             [
              0.5555555555555556,
              "#d8576b"
             ],
             [
              0.6666666666666666,
              "#ed7953"
             ],
             [
              0.7777777777777778,
              "#fb9f3a"
             ],
             [
              0.8888888888888888,
              "#fdca26"
             ],
             [
              1,
              "#f0f921"
             ]
            ],
            "type": "surface"
           }
          ],
          "table": [
           {
            "cells": {
             "fill": {
              "color": "#EBF0F8"
             },
             "line": {
              "color": "white"
             }
            },
            "header": {
             "fill": {
              "color": "#C8D4E3"
             },
             "line": {
              "color": "white"
             }
            },
            "type": "table"
           }
          ]
         },
         "layout": {
          "annotationdefaults": {
           "arrowcolor": "#2a3f5f",
           "arrowhead": 0,
           "arrowwidth": 1
          },
          "autotypenumbers": "strict",
          "coloraxis": {
           "colorbar": {
            "outlinewidth": 0,
            "ticks": ""
           }
          },
          "colorscale": {
           "diverging": [
            [
             0,
             "#8e0152"
            ],
            [
             0.1,
             "#c51b7d"
            ],
            [
             0.2,
             "#de77ae"
            ],
            [
             0.3,
             "#f1b6da"
            ],
            [
             0.4,
             "#fde0ef"
            ],
            [
             0.5,
             "#f7f7f7"
            ],
            [
             0.6,
             "#e6f5d0"
            ],
            [
             0.7,
             "#b8e186"
            ],
            [
             0.8,
             "#7fbc41"
            ],
            [
             0.9,
             "#4d9221"
            ],
            [
             1,
             "#276419"
            ]
           ],
           "sequential": [
            [
             0,
             "#0d0887"
            ],
            [
             0.1111111111111111,
             "#46039f"
            ],
            [
             0.2222222222222222,
             "#7201a8"
            ],
            [
             0.3333333333333333,
             "#9c179e"
            ],
            [
             0.4444444444444444,
             "#bd3786"
            ],
            [
             0.5555555555555556,
             "#d8576b"
            ],
            [
             0.6666666666666666,
             "#ed7953"
            ],
            [
             0.7777777777777778,
             "#fb9f3a"
            ],
            [
             0.8888888888888888,
             "#fdca26"
            ],
            [
             1,
             "#f0f921"
            ]
           ],
           "sequentialminus": [
            [
             0,
             "#0d0887"
            ],
            [
             0.1111111111111111,
             "#46039f"
            ],
            [
             0.2222222222222222,
             "#7201a8"
            ],
            [
             0.3333333333333333,
             "#9c179e"
            ],
            [
             0.4444444444444444,
             "#bd3786"
            ],
            [
             0.5555555555555556,
             "#d8576b"
            ],
            [
             0.6666666666666666,
             "#ed7953"
            ],
            [
             0.7777777777777778,
             "#fb9f3a"
            ],
            [
             0.8888888888888888,
             "#fdca26"
            ],
            [
             1,
             "#f0f921"
            ]
           ]
          },
          "colorway": [
           "#636efa",
           "#EF553B",
           "#00cc96",
           "#ab63fa",
           "#FFA15A",
           "#19d3f3",
           "#FF6692",
           "#B6E880",
           "#FF97FF",
           "#FECB52"
          ],
          "font": {
           "color": "#2a3f5f"
          },
          "geo": {
           "bgcolor": "white",
           "lakecolor": "white",
           "landcolor": "#E5ECF6",
           "showlakes": true,
           "showland": true,
           "subunitcolor": "white"
          },
          "hoverlabel": {
           "align": "left"
          },
          "hovermode": "closest",
          "mapbox": {
           "style": "light"
          },
          "paper_bgcolor": "white",
          "plot_bgcolor": "#E5ECF6",
          "polar": {
           "angularaxis": {
            "gridcolor": "white",
            "linecolor": "white",
            "ticks": ""
           },
           "bgcolor": "#E5ECF6",
           "radialaxis": {
            "gridcolor": "white",
            "linecolor": "white",
            "ticks": ""
           }
          },
          "scene": {
           "xaxis": {
            "backgroundcolor": "#E5ECF6",
            "gridcolor": "white",
            "gridwidth": 2,
            "linecolor": "white",
            "showbackground": true,
            "ticks": "",
            "zerolinecolor": "white"
           },
           "yaxis": {
            "backgroundcolor": "#E5ECF6",
            "gridcolor": "white",
            "gridwidth": 2,
            "linecolor": "white",
            "showbackground": true,
            "ticks": "",
            "zerolinecolor": "white"
           },
           "zaxis": {
            "backgroundcolor": "#E5ECF6",
            "gridcolor": "white",
            "gridwidth": 2,
            "linecolor": "white",
            "showbackground": true,
            "ticks": "",
            "zerolinecolor": "white"
           }
          },
          "shapedefaults": {
           "line": {
            "color": "#2a3f5f"
           }
          },
          "ternary": {
           "aaxis": {
            "gridcolor": "white",
            "linecolor": "white",
            "ticks": ""
           },
           "baxis": {
            "gridcolor": "white",
            "linecolor": "white",
            "ticks": ""
           },
           "bgcolor": "#E5ECF6",
           "caxis": {
            "gridcolor": "white",
            "linecolor": "white",
            "ticks": ""
           }
          },
          "title": {
           "x": 0.05
          },
          "xaxis": {
           "automargin": true,
           "gridcolor": "white",
           "linecolor": "white",
           "ticks": "",
           "title": {
            "standoff": 15
           },
           "zerolinecolor": "white",
           "zerolinewidth": 2
          },
          "yaxis": {
           "automargin": true,
           "gridcolor": "white",
           "linecolor": "white",
           "ticks": "",
           "title": {
            "standoff": 15
           },
           "zerolinecolor": "white",
           "zerolinewidth": 2
          }
         }
        },
        "title": {
         "text": "Top 10 Coins by Volume/Market Cap Ratio"
        },
        "xaxis": {
         "anchor": "y",
         "domain": [
          0,
          1
         ],
         "title": {
          "text": "name"
         }
        },
        "yaxis": {
         "anchor": "x",
         "domain": [
          0,
          1
         ],
         "title": {
          "text": "volume_to_market_cap"
         }
        }
       }
      }
     },
     "metadata": {},
     "output_type": "display_data"
    }
   ],
   "source": [
    "# calculating volume to market cap ratio\n",
    "volume_price_df['volume_to_market_cap'] = volume_price_df['volume_24h'] / volume_price_df['market_cap']\n",
    "top_ratio = volume_price_df.sort_values(by='volume_to_market_cap', ascending=False)\n",
    "fig = px.bar(\n",
    "    top_ratio,\n",
    "    x='name',\n",
    "    y='volume_to_market_cap',\n",
    "    title='Top 10 Coins by Volume/Market Cap Ratio',\n",
    "    text='volume_to_market_cap'\n",
    ")\n",
    "\n",
    "fig.update_layout(\n",
    "    height=600,\n",
    ")\n",
    "\n",
    "\n",
    "fig.update_traces(texttemplate='%{text:.6f}', textposition='outside')\n",
    "fig.show()"
   ]
  },
  {
   "cell_type": "code",
   "execution_count": 40,
   "id": "9fce255d",
   "metadata": {},
   "outputs": [],
   "source": [
    "# adding new moving average columns to the dataframe\n",
    "coin='Bitcoin'\n",
    "rolling_avg_15m_df = hist_df[hist_df['name'] == coin].copy()\n",
    "rolling_avg_30m_df = rolling_avg_15m_df.copy()\n",
    "rolling_avg_15m_df['rolling_average'] = rolling_avg_15m_df['price'].rolling(window=3).mean()\n",
    "rolling_avg_30m_df['rolling_average'] = rolling_avg_30m_df['price'].rolling(window=6).mean()\n",
    "\n"
   ]
  },
  {
   "cell_type": "code",
   "execution_count": 41,
   "id": "d958ccc4",
   "metadata": {},
   "outputs": [
    {
     "data": {
      "application/vnd.plotly.v1+json": {
       "config": {
        "plotlyServerURL": "https://plot.ly"
       },
       "data": [
        {
         "hovertemplate": "variable=price<br>Time=%{x}<br>value=%{y}<extra></extra>",
         "legendgroup": "price",
         "line": {
          "color": "#636efa",
          "dash": "solid"
         },
         "marker": {
          "symbol": "circle"
         },
         "mode": "lines",
         "name": "price",
         "orientation": "v",
         "showlegend": true,
         "type": "scatter",
         "x": [
          "2025-05-30T13:24:00.000Z",
          "2025-05-30T13:29:00.000Z",
          "2025-05-30T13:34:00.000Z",
          "2025-05-30T13:38:00.000Z",
          "2025-05-30T13:44:00.000Z",
          "2025-05-30T13:49:00.000Z",
          "2025-05-30T13:55:00.000Z",
          "2025-05-30T13:59:00.000Z",
          "2025-05-30T14:04:00.000Z",
          "2025-05-30T14:09:00.000Z",
          "2025-05-30T14:15:00.000Z",
          "2025-05-30T14:19:00.000Z",
          "2025-05-30T14:25:00.000Z",
          "2025-05-30T14:29:00.000Z",
          "2025-05-30T14:35:00.000Z",
          "2025-05-30T14:40:00.000Z",
          "2025-05-30T14:45:00.000Z",
          "2025-05-30T14:49:00.000Z",
          "2025-05-30T14:55:00.000Z",
          "2025-05-30T14:59:00.000Z",
          "2025-05-30T15:05:00.000Z",
          "2025-05-30T15:10:00.000Z",
          "2025-05-30T15:15:00.000Z",
          "2025-05-30T15:19:00.000Z",
          "2025-05-30T15:24:00.000Z",
          "2025-05-30T15:30:00.000Z",
          "2025-05-30T15:35:00.000Z",
          "2025-05-30T15:39:00.000Z",
          "2025-05-30T15:44:00.000Z",
          "2025-05-30T15:49:00.000Z",
          "2025-05-30T15:54:00.000Z",
          "2025-05-30T15:59:00.000Z",
          "2025-05-30T16:04:00.000Z",
          "2025-05-30T16:09:00.000Z",
          "2025-05-30T16:15:00.000Z",
          "2025-05-30T16:19:00.000Z"
         ],
         "xaxis": "x",
         "y": [
          105460.18822574864,
          105672.3147232468,
          105528.20652744452,
          105613.3866365194,
          105796.87736524266,
          105956.72215635548,
          105594.74221706112,
          105535.01628679148,
          105586.69523797212,
          105821.68515372736,
          105595.80696681562,
          105566.64190117452,
          105278.00905657752,
          105155.15671994552,
          105397.34144546284,
          105573.89881535553,
          105484.63890619502,
          105356.8123822602,
          105298.78867409455,
          105411.59788235163,
          105465.14167851674,
          105617.47246058662,
          105604.50730330078,
          105494.0646892888,
          105565.32352460336,
          105778.80092144842,
          105660.41047053094,
          105566.38429330468,
          105701.503248496,
          105719.88566687673,
          105654.354490899,
          105571.36290459977,
          105446.30151873577,
          105530.64383621396,
          105341.96852309936,
          105262.05424777984
         ],
         "yaxis": "y"
        },
        {
         "hovertemplate": "variable=rolling_average<br>Time=%{x}<br>value=%{y}<extra></extra>",
         "legendgroup": "rolling_average",
         "line": {
          "color": "#EF553B",
          "dash": "solid"
         },
         "marker": {
          "symbol": "circle"
         },
         "mode": "lines",
         "name": "rolling_average",
         "orientation": "v",
         "showlegend": true,
         "type": "scatter",
         "x": [
          "2025-05-30T13:24:00.000Z",
          "2025-05-30T13:29:00.000Z",
          "2025-05-30T13:34:00.000Z",
          "2025-05-30T13:38:00.000Z",
          "2025-05-30T13:44:00.000Z",
          "2025-05-30T13:49:00.000Z",
          "2025-05-30T13:55:00.000Z",
          "2025-05-30T13:59:00.000Z",
          "2025-05-30T14:04:00.000Z",
          "2025-05-30T14:09:00.000Z",
          "2025-05-30T14:15:00.000Z",
          "2025-05-30T14:19:00.000Z",
          "2025-05-30T14:25:00.000Z",
          "2025-05-30T14:29:00.000Z",
          "2025-05-30T14:35:00.000Z",
          "2025-05-30T14:40:00.000Z",
          "2025-05-30T14:45:00.000Z",
          "2025-05-30T14:49:00.000Z",
          "2025-05-30T14:55:00.000Z",
          "2025-05-30T14:59:00.000Z",
          "2025-05-30T15:05:00.000Z",
          "2025-05-30T15:10:00.000Z",
          "2025-05-30T15:15:00.000Z",
          "2025-05-30T15:19:00.000Z",
          "2025-05-30T15:24:00.000Z",
          "2025-05-30T15:30:00.000Z",
          "2025-05-30T15:35:00.000Z",
          "2025-05-30T15:39:00.000Z",
          "2025-05-30T15:44:00.000Z",
          "2025-05-30T15:49:00.000Z",
          "2025-05-30T15:54:00.000Z",
          "2025-05-30T15:59:00.000Z",
          "2025-05-30T16:04:00.000Z",
          "2025-05-30T16:09:00.000Z",
          "2025-05-30T16:15:00.000Z",
          "2025-05-30T16:19:00.000Z"
         ],
         "xaxis": "x",
         "y": [
          null,
          null,
          105553.56982548,
          105604.63596240357,
          105646.15684306885,
          105788.99538603918,
          105782.78057955309,
          105695.4935534027,
          105572.1512472749,
          105647.79889283032,
          105668.06245283836,
          105661.37800723915,
          105480.15264152254,
          105333.26922589919,
          105276.83574066196,
          105375.46566025463,
          105485.2930556711,
          105471.7833679369,
          105380.07998751658,
          105355.73297956881,
          105391.84274498763,
          105498.07067381834,
          105562.3738141347,
          105572.0148177254,
          105554.63183906431,
          105612.7297117802,
          105668.17830552759,
          105668.53189509467,
          105642.76600411056,
          105662.59106955914,
          105691.91446875724,
          105648.53435412516,
          105557.33963807818,
          105516.10275318316,
          105439.63795934971,
          105378.2222023644
         ],
         "yaxis": "y"
        }
       ],
       "layout": {
        "legend": {
         "title": {
          "text": "variable"
         },
         "tracegroupgap": 0
        },
        "template": {
         "data": {
          "bar": [
           {
            "error_x": {
             "color": "#2a3f5f"
            },
            "error_y": {
             "color": "#2a3f5f"
            },
            "marker": {
             "line": {
              "color": "#E5ECF6",
              "width": 0.5
             },
             "pattern": {
              "fillmode": "overlay",
              "size": 10,
              "solidity": 0.2
             }
            },
            "type": "bar"
           }
          ],
          "barpolar": [
           {
            "marker": {
             "line": {
              "color": "#E5ECF6",
              "width": 0.5
             },
             "pattern": {
              "fillmode": "overlay",
              "size": 10,
              "solidity": 0.2
             }
            },
            "type": "barpolar"
           }
          ],
          "carpet": [
           {
            "aaxis": {
             "endlinecolor": "#2a3f5f",
             "gridcolor": "white",
             "linecolor": "white",
             "minorgridcolor": "white",
             "startlinecolor": "#2a3f5f"
            },
            "baxis": {
             "endlinecolor": "#2a3f5f",
             "gridcolor": "white",
             "linecolor": "white",
             "minorgridcolor": "white",
             "startlinecolor": "#2a3f5f"
            },
            "type": "carpet"
           }
          ],
          "choropleth": [
           {
            "colorbar": {
             "outlinewidth": 0,
             "ticks": ""
            },
            "type": "choropleth"
           }
          ],
          "contour": [
           {
            "colorbar": {
             "outlinewidth": 0,
             "ticks": ""
            },
            "colorscale": [
             [
              0,
              "#0d0887"
             ],
             [
              0.1111111111111111,
              "#46039f"
             ],
             [
              0.2222222222222222,
              "#7201a8"
             ],
             [
              0.3333333333333333,
              "#9c179e"
             ],
             [
              0.4444444444444444,
              "#bd3786"
             ],
             [
              0.5555555555555556,
              "#d8576b"
             ],
             [
              0.6666666666666666,
              "#ed7953"
             ],
             [
              0.7777777777777778,
              "#fb9f3a"
             ],
             [
              0.8888888888888888,
              "#fdca26"
             ],
             [
              1,
              "#f0f921"
             ]
            ],
            "type": "contour"
           }
          ],
          "contourcarpet": [
           {
            "colorbar": {
             "outlinewidth": 0,
             "ticks": ""
            },
            "type": "contourcarpet"
           }
          ],
          "heatmap": [
           {
            "colorbar": {
             "outlinewidth": 0,
             "ticks": ""
            },
            "colorscale": [
             [
              0,
              "#0d0887"
             ],
             [
              0.1111111111111111,
              "#46039f"
             ],
             [
              0.2222222222222222,
              "#7201a8"
             ],
             [
              0.3333333333333333,
              "#9c179e"
             ],
             [
              0.4444444444444444,
              "#bd3786"
             ],
             [
              0.5555555555555556,
              "#d8576b"
             ],
             [
              0.6666666666666666,
              "#ed7953"
             ],
             [
              0.7777777777777778,
              "#fb9f3a"
             ],
             [
              0.8888888888888888,
              "#fdca26"
             ],
             [
              1,
              "#f0f921"
             ]
            ],
            "type": "heatmap"
           }
          ],
          "heatmapgl": [
           {
            "colorbar": {
             "outlinewidth": 0,
             "ticks": ""
            },
            "colorscale": [
             [
              0,
              "#0d0887"
             ],
             [
              0.1111111111111111,
              "#46039f"
             ],
             [
              0.2222222222222222,
              "#7201a8"
             ],
             [
              0.3333333333333333,
              "#9c179e"
             ],
             [
              0.4444444444444444,
              "#bd3786"
             ],
             [
              0.5555555555555556,
              "#d8576b"
             ],
             [
              0.6666666666666666,
              "#ed7953"
             ],
             [
              0.7777777777777778,
              "#fb9f3a"
             ],
             [
              0.8888888888888888,
              "#fdca26"
             ],
             [
              1,
              "#f0f921"
             ]
            ],
            "type": "heatmapgl"
           }
          ],
          "histogram": [
           {
            "marker": {
             "pattern": {
              "fillmode": "overlay",
              "size": 10,
              "solidity": 0.2
             }
            },
            "type": "histogram"
           }
          ],
          "histogram2d": [
           {
            "colorbar": {
             "outlinewidth": 0,
             "ticks": ""
            },
            "colorscale": [
             [
              0,
              "#0d0887"
             ],
             [
              0.1111111111111111,
              "#46039f"
             ],
             [
              0.2222222222222222,
              "#7201a8"
             ],
             [
              0.3333333333333333,
              "#9c179e"
             ],
             [
              0.4444444444444444,
              "#bd3786"
             ],
             [
              0.5555555555555556,
              "#d8576b"
             ],
             [
              0.6666666666666666,
              "#ed7953"
             ],
             [
              0.7777777777777778,
              "#fb9f3a"
             ],
             [
              0.8888888888888888,
              "#fdca26"
             ],
             [
              1,
              "#f0f921"
             ]
            ],
            "type": "histogram2d"
           }
          ],
          "histogram2dcontour": [
           {
            "colorbar": {
             "outlinewidth": 0,
             "ticks": ""
            },
            "colorscale": [
             [
              0,
              "#0d0887"
             ],
             [
              0.1111111111111111,
              "#46039f"
             ],
             [
              0.2222222222222222,
              "#7201a8"
             ],
             [
              0.3333333333333333,
              "#9c179e"
             ],
             [
              0.4444444444444444,
              "#bd3786"
             ],
             [
              0.5555555555555556,
              "#d8576b"
             ],
             [
              0.6666666666666666,
              "#ed7953"
             ],
             [
              0.7777777777777778,
              "#fb9f3a"
             ],
             [
              0.8888888888888888,
              "#fdca26"
             ],
             [
              1,
              "#f0f921"
             ]
            ],
            "type": "histogram2dcontour"
           }
          ],
          "mesh3d": [
           {
            "colorbar": {
             "outlinewidth": 0,
             "ticks": ""
            },
            "type": "mesh3d"
           }
          ],
          "parcoords": [
           {
            "line": {
             "colorbar": {
              "outlinewidth": 0,
              "ticks": ""
             }
            },
            "type": "parcoords"
           }
          ],
          "pie": [
           {
            "automargin": true,
            "type": "pie"
           }
          ],
          "scatter": [
           {
            "fillpattern": {
             "fillmode": "overlay",
             "size": 10,
             "solidity": 0.2
            },
            "type": "scatter"
           }
          ],
          "scatter3d": [
           {
            "line": {
             "colorbar": {
              "outlinewidth": 0,
              "ticks": ""
             }
            },
            "marker": {
             "colorbar": {
              "outlinewidth": 0,
              "ticks": ""
             }
            },
            "type": "scatter3d"
           }
          ],
          "scattercarpet": [
           {
            "marker": {
             "colorbar": {
              "outlinewidth": 0,
              "ticks": ""
             }
            },
            "type": "scattercarpet"
           }
          ],
          "scattergeo": [
           {
            "marker": {
             "colorbar": {
              "outlinewidth": 0,
              "ticks": ""
             }
            },
            "type": "scattergeo"
           }
          ],
          "scattergl": [
           {
            "marker": {
             "colorbar": {
              "outlinewidth": 0,
              "ticks": ""
             }
            },
            "type": "scattergl"
           }
          ],
          "scattermapbox": [
           {
            "marker": {
             "colorbar": {
              "outlinewidth": 0,
              "ticks": ""
             }
            },
            "type": "scattermapbox"
           }
          ],
          "scatterpolar": [
           {
            "marker": {
             "colorbar": {
              "outlinewidth": 0,
              "ticks": ""
             }
            },
            "type": "scatterpolar"
           }
          ],
          "scatterpolargl": [
           {
            "marker": {
             "colorbar": {
              "outlinewidth": 0,
              "ticks": ""
             }
            },
            "type": "scatterpolargl"
           }
          ],
          "scatterternary": [
           {
            "marker": {
             "colorbar": {
              "outlinewidth": 0,
              "ticks": ""
             }
            },
            "type": "scatterternary"
           }
          ],
          "surface": [
           {
            "colorbar": {
             "outlinewidth": 0,
             "ticks": ""
            },
            "colorscale": [
             [
              0,
              "#0d0887"
             ],
             [
              0.1111111111111111,
              "#46039f"
             ],
             [
              0.2222222222222222,
              "#7201a8"
             ],
             [
              0.3333333333333333,
              "#9c179e"
             ],
             [
              0.4444444444444444,
              "#bd3786"
             ],
             [
              0.5555555555555556,
              "#d8576b"
             ],
             [
              0.6666666666666666,
              "#ed7953"
             ],
             [
              0.7777777777777778,
              "#fb9f3a"
             ],
             [
              0.8888888888888888,
              "#fdca26"
             ],
             [
              1,
              "#f0f921"
             ]
            ],
            "type": "surface"
           }
          ],
          "table": [
           {
            "cells": {
             "fill": {
              "color": "#EBF0F8"
             },
             "line": {
              "color": "white"
             }
            },
            "header": {
             "fill": {
              "color": "#C8D4E3"
             },
             "line": {
              "color": "white"
             }
            },
            "type": "table"
           }
          ]
         },
         "layout": {
          "annotationdefaults": {
           "arrowcolor": "#2a3f5f",
           "arrowhead": 0,
           "arrowwidth": 1
          },
          "autotypenumbers": "strict",
          "coloraxis": {
           "colorbar": {
            "outlinewidth": 0,
            "ticks": ""
           }
          },
          "colorscale": {
           "diverging": [
            [
             0,
             "#8e0152"
            ],
            [
             0.1,
             "#c51b7d"
            ],
            [
             0.2,
             "#de77ae"
            ],
            [
             0.3,
             "#f1b6da"
            ],
            [
             0.4,
             "#fde0ef"
            ],
            [
             0.5,
             "#f7f7f7"
            ],
            [
             0.6,
             "#e6f5d0"
            ],
            [
             0.7,
             "#b8e186"
            ],
            [
             0.8,
             "#7fbc41"
            ],
            [
             0.9,
             "#4d9221"
            ],
            [
             1,
             "#276419"
            ]
           ],
           "sequential": [
            [
             0,
             "#0d0887"
            ],
            [
             0.1111111111111111,
             "#46039f"
            ],
            [
             0.2222222222222222,
             "#7201a8"
            ],
            [
             0.3333333333333333,
             "#9c179e"
            ],
            [
             0.4444444444444444,
             "#bd3786"
            ],
            [
             0.5555555555555556,
             "#d8576b"
            ],
            [
             0.6666666666666666,
             "#ed7953"
            ],
            [
             0.7777777777777778,
             "#fb9f3a"
            ],
            [
             0.8888888888888888,
             "#fdca26"
            ],
            [
             1,
             "#f0f921"
            ]
           ],
           "sequentialminus": [
            [
             0,
             "#0d0887"
            ],
            [
             0.1111111111111111,
             "#46039f"
            ],
            [
             0.2222222222222222,
             "#7201a8"
            ],
            [
             0.3333333333333333,
             "#9c179e"
            ],
            [
             0.4444444444444444,
             "#bd3786"
            ],
            [
             0.5555555555555556,
             "#d8576b"
            ],
            [
             0.6666666666666666,
             "#ed7953"
            ],
            [
             0.7777777777777778,
             "#fb9f3a"
            ],
            [
             0.8888888888888888,
             "#fdca26"
            ],
            [
             1,
             "#f0f921"
            ]
           ]
          },
          "colorway": [
           "#636efa",
           "#EF553B",
           "#00cc96",
           "#ab63fa",
           "#FFA15A",
           "#19d3f3",
           "#FF6692",
           "#B6E880",
           "#FF97FF",
           "#FECB52"
          ],
          "font": {
           "color": "#2a3f5f"
          },
          "geo": {
           "bgcolor": "white",
           "lakecolor": "white",
           "landcolor": "#E5ECF6",
           "showlakes": true,
           "showland": true,
           "subunitcolor": "white"
          },
          "hoverlabel": {
           "align": "left"
          },
          "hovermode": "closest",
          "mapbox": {
           "style": "light"
          },
          "paper_bgcolor": "white",
          "plot_bgcolor": "#E5ECF6",
          "polar": {
           "angularaxis": {
            "gridcolor": "white",
            "linecolor": "white",
            "ticks": ""
           },
           "bgcolor": "#E5ECF6",
           "radialaxis": {
            "gridcolor": "white",
            "linecolor": "white",
            "ticks": ""
           }
          },
          "scene": {
           "xaxis": {
            "backgroundcolor": "#E5ECF6",
            "gridcolor": "white",
            "gridwidth": 2,
            "linecolor": "white",
            "showbackground": true,
            "ticks": "",
            "zerolinecolor": "white"
           },
           "yaxis": {
            "backgroundcolor": "#E5ECF6",
            "gridcolor": "white",
            "gridwidth": 2,
            "linecolor": "white",
            "showbackground": true,
            "ticks": "",
            "zerolinecolor": "white"
           },
           "zaxis": {
            "backgroundcolor": "#E5ECF6",
            "gridcolor": "white",
            "gridwidth": 2,
            "linecolor": "white",
            "showbackground": true,
            "ticks": "",
            "zerolinecolor": "white"
           }
          },
          "shapedefaults": {
           "line": {
            "color": "#2a3f5f"
           }
          },
          "ternary": {
           "aaxis": {
            "gridcolor": "white",
            "linecolor": "white",
            "ticks": ""
           },
           "baxis": {
            "gridcolor": "white",
            "linecolor": "white",
            "ticks": ""
           },
           "bgcolor": "#E5ECF6",
           "caxis": {
            "gridcolor": "white",
            "linecolor": "white",
            "ticks": ""
           }
          },
          "title": {
           "x": 0.05
          },
          "xaxis": {
           "automargin": true,
           "gridcolor": "white",
           "linecolor": "white",
           "ticks": "",
           "title": {
            "standoff": 15
           },
           "zerolinecolor": "white",
           "zerolinewidth": 2
          },
          "yaxis": {
           "automargin": true,
           "gridcolor": "white",
           "linecolor": "white",
           "ticks": "",
           "title": {
            "standoff": 15
           },
           "zerolinecolor": "white",
           "zerolinewidth": 2
          }
         }
        },
        "title": {
         "text": "Bitcoin 15 Minutes Rolling Average"
        },
        "xaxis": {
         "anchor": "y",
         "domain": [
          0,
          1
         ],
         "title": {
          "text": "Time"
         }
        },
        "yaxis": {
         "anchor": "x",
         "domain": [
          0,
          1
         ],
         "title": {
          "text": "value"
         }
        }
       }
      }
     },
     "metadata": {},
     "output_type": "display_data"
    }
   ],
   "source": [
    "fig = px.line(rolling_avg_15m_df, \n",
    "              x='last_updated.1', \n",
    "              y=['price','rolling_average'], \n",
    "              title=f'{coin} 15 Minutes Rolling Average', \n",
    "              labels={'last_updated.1': 'Time'}, \n",
    "                    )\n",
    "fig.show()"
   ]
  },
  {
   "cell_type": "code",
   "execution_count": 42,
   "id": "531d60de",
   "metadata": {},
   "outputs": [
    {
     "data": {
      "application/vnd.plotly.v1+json": {
       "config": {
        "plotlyServerURL": "https://plot.ly"
       },
       "data": [
        {
         "hovertemplate": "variable=price<br>Time=%{x}<br>value=%{y}<extra></extra>",
         "legendgroup": "price",
         "line": {
          "color": "#636efa",
          "dash": "solid"
         },
         "marker": {
          "symbol": "circle"
         },
         "mode": "lines",
         "name": "price",
         "orientation": "v",
         "showlegend": true,
         "type": "scatter",
         "x": [
          "2025-05-30T13:24:00.000Z",
          "2025-05-30T13:29:00.000Z",
          "2025-05-30T13:34:00.000Z",
          "2025-05-30T13:38:00.000Z",
          "2025-05-30T13:44:00.000Z",
          "2025-05-30T13:49:00.000Z",
          "2025-05-30T13:55:00.000Z",
          "2025-05-30T13:59:00.000Z",
          "2025-05-30T14:04:00.000Z",
          "2025-05-30T14:09:00.000Z",
          "2025-05-30T14:15:00.000Z",
          "2025-05-30T14:19:00.000Z",
          "2025-05-30T14:25:00.000Z",
          "2025-05-30T14:29:00.000Z",
          "2025-05-30T14:35:00.000Z",
          "2025-05-30T14:40:00.000Z",
          "2025-05-30T14:45:00.000Z",
          "2025-05-30T14:49:00.000Z",
          "2025-05-30T14:55:00.000Z",
          "2025-05-30T14:59:00.000Z",
          "2025-05-30T15:05:00.000Z",
          "2025-05-30T15:10:00.000Z",
          "2025-05-30T15:15:00.000Z",
          "2025-05-30T15:19:00.000Z",
          "2025-05-30T15:24:00.000Z",
          "2025-05-30T15:30:00.000Z",
          "2025-05-30T15:35:00.000Z",
          "2025-05-30T15:39:00.000Z",
          "2025-05-30T15:44:00.000Z",
          "2025-05-30T15:49:00.000Z",
          "2025-05-30T15:54:00.000Z",
          "2025-05-30T15:59:00.000Z",
          "2025-05-30T16:04:00.000Z",
          "2025-05-30T16:09:00.000Z",
          "2025-05-30T16:15:00.000Z",
          "2025-05-30T16:19:00.000Z"
         ],
         "xaxis": "x",
         "y": [
          105460.18822574864,
          105672.3147232468,
          105528.20652744452,
          105613.3866365194,
          105796.87736524266,
          105956.72215635548,
          105594.74221706112,
          105535.01628679148,
          105586.69523797212,
          105821.68515372736,
          105595.80696681562,
          105566.64190117452,
          105278.00905657752,
          105155.15671994552,
          105397.34144546284,
          105573.89881535553,
          105484.63890619502,
          105356.8123822602,
          105298.78867409455,
          105411.59788235163,
          105465.14167851674,
          105617.47246058662,
          105604.50730330078,
          105494.0646892888,
          105565.32352460336,
          105778.80092144842,
          105660.41047053094,
          105566.38429330468,
          105701.503248496,
          105719.88566687673,
          105654.354490899,
          105571.36290459977,
          105446.30151873577,
          105530.64383621396,
          105341.96852309936,
          105262.05424777984
         ],
         "yaxis": "y"
        },
        {
         "hovertemplate": "variable=rolling_average<br>Time=%{x}<br>value=%{y}<extra></extra>",
         "legendgroup": "rolling_average",
         "line": {
          "color": "#EF553B",
          "dash": "solid"
         },
         "marker": {
          "symbol": "circle"
         },
         "mode": "lines",
         "name": "rolling_average",
         "orientation": "v",
         "showlegend": true,
         "type": "scatter",
         "x": [
          "2025-05-30T13:24:00.000Z",
          "2025-05-30T13:29:00.000Z",
          "2025-05-30T13:34:00.000Z",
          "2025-05-30T13:38:00.000Z",
          "2025-05-30T13:44:00.000Z",
          "2025-05-30T13:49:00.000Z",
          "2025-05-30T13:55:00.000Z",
          "2025-05-30T13:59:00.000Z",
          "2025-05-30T14:04:00.000Z",
          "2025-05-30T14:09:00.000Z",
          "2025-05-30T14:15:00.000Z",
          "2025-05-30T14:19:00.000Z",
          "2025-05-30T14:25:00.000Z",
          "2025-05-30T14:29:00.000Z",
          "2025-05-30T14:35:00.000Z",
          "2025-05-30T14:40:00.000Z",
          "2025-05-30T14:45:00.000Z",
          "2025-05-30T14:49:00.000Z",
          "2025-05-30T14:55:00.000Z",
          "2025-05-30T14:59:00.000Z",
          "2025-05-30T15:05:00.000Z",
          "2025-05-30T15:10:00.000Z",
          "2025-05-30T15:15:00.000Z",
          "2025-05-30T15:19:00.000Z",
          "2025-05-30T15:24:00.000Z",
          "2025-05-30T15:30:00.000Z",
          "2025-05-30T15:35:00.000Z",
          "2025-05-30T15:39:00.000Z",
          "2025-05-30T15:44:00.000Z",
          "2025-05-30T15:49:00.000Z",
          "2025-05-30T15:54:00.000Z",
          "2025-05-30T15:59:00.000Z",
          "2025-05-30T16:04:00.000Z",
          "2025-05-30T16:09:00.000Z",
          "2025-05-30T16:15:00.000Z",
          "2025-05-30T16:19:00.000Z"
         ],
         "xaxis": "x",
         "y": [
          null,
          null,
          null,
          null,
          null,
          105671.28260575958,
          105693.70827097834,
          105670.82519823576,
          105680.57331665704,
          105715.2897361917,
          105681.77800312052,
          105616.76462725703,
          105563.97576717644,
          105500.66583936877,
          105469.10687395056,
          105427.8091508886,
          105409.28114078514,
          105374.30955429944,
          105377.7728238856,
          105420.51301761996,
          105431.81305646228,
          105439.07533066745,
          105459.05339685176,
          105481.92878135653,
          105526.35125644132,
          105587.55176295746,
          105620.09656162649,
          105611.5818670795,
          105627.74785794537,
          105665.38468754334,
          105680.22318192595,
          105645.65017911785,
          105609.96535381865,
          105604.00861097021,
          105544.08615673742,
          105467.7809202213
         ],
         "yaxis": "y"
        }
       ],
       "layout": {
        "legend": {
         "title": {
          "text": "variable"
         },
         "tracegroupgap": 0
        },
        "template": {
         "data": {
          "bar": [
           {
            "error_x": {
             "color": "#2a3f5f"
            },
            "error_y": {
             "color": "#2a3f5f"
            },
            "marker": {
             "line": {
              "color": "#E5ECF6",
              "width": 0.5
             },
             "pattern": {
              "fillmode": "overlay",
              "size": 10,
              "solidity": 0.2
             }
            },
            "type": "bar"
           }
          ],
          "barpolar": [
           {
            "marker": {
             "line": {
              "color": "#E5ECF6",
              "width": 0.5
             },
             "pattern": {
              "fillmode": "overlay",
              "size": 10,
              "solidity": 0.2
             }
            },
            "type": "barpolar"
           }
          ],
          "carpet": [
           {
            "aaxis": {
             "endlinecolor": "#2a3f5f",
             "gridcolor": "white",
             "linecolor": "white",
             "minorgridcolor": "white",
             "startlinecolor": "#2a3f5f"
            },
            "baxis": {
             "endlinecolor": "#2a3f5f",
             "gridcolor": "white",
             "linecolor": "white",
             "minorgridcolor": "white",
             "startlinecolor": "#2a3f5f"
            },
            "type": "carpet"
           }
          ],
          "choropleth": [
           {
            "colorbar": {
             "outlinewidth": 0,
             "ticks": ""
            },
            "type": "choropleth"
           }
          ],
          "contour": [
           {
            "colorbar": {
             "outlinewidth": 0,
             "ticks": ""
            },
            "colorscale": [
             [
              0,
              "#0d0887"
             ],
             [
              0.1111111111111111,
              "#46039f"
             ],
             [
              0.2222222222222222,
              "#7201a8"
             ],
             [
              0.3333333333333333,
              "#9c179e"
             ],
             [
              0.4444444444444444,
              "#bd3786"
             ],
             [
              0.5555555555555556,
              "#d8576b"
             ],
             [
              0.6666666666666666,
              "#ed7953"
             ],
             [
              0.7777777777777778,
              "#fb9f3a"
             ],
             [
              0.8888888888888888,
              "#fdca26"
             ],
             [
              1,
              "#f0f921"
             ]
            ],
            "type": "contour"
           }
          ],
          "contourcarpet": [
           {
            "colorbar": {
             "outlinewidth": 0,
             "ticks": ""
            },
            "type": "contourcarpet"
           }
          ],
          "heatmap": [
           {
            "colorbar": {
             "outlinewidth": 0,
             "ticks": ""
            },
            "colorscale": [
             [
              0,
              "#0d0887"
             ],
             [
              0.1111111111111111,
              "#46039f"
             ],
             [
              0.2222222222222222,
              "#7201a8"
             ],
             [
              0.3333333333333333,
              "#9c179e"
             ],
             [
              0.4444444444444444,
              "#bd3786"
             ],
             [
              0.5555555555555556,
              "#d8576b"
             ],
             [
              0.6666666666666666,
              "#ed7953"
             ],
             [
              0.7777777777777778,
              "#fb9f3a"
             ],
             [
              0.8888888888888888,
              "#fdca26"
             ],
             [
              1,
              "#f0f921"
             ]
            ],
            "type": "heatmap"
           }
          ],
          "heatmapgl": [
           {
            "colorbar": {
             "outlinewidth": 0,
             "ticks": ""
            },
            "colorscale": [
             [
              0,
              "#0d0887"
             ],
             [
              0.1111111111111111,
              "#46039f"
             ],
             [
              0.2222222222222222,
              "#7201a8"
             ],
             [
              0.3333333333333333,
              "#9c179e"
             ],
             [
              0.4444444444444444,
              "#bd3786"
             ],
             [
              0.5555555555555556,
              "#d8576b"
             ],
             [
              0.6666666666666666,
              "#ed7953"
             ],
             [
              0.7777777777777778,
              "#fb9f3a"
             ],
             [
              0.8888888888888888,
              "#fdca26"
             ],
             [
              1,
              "#f0f921"
             ]
            ],
            "type": "heatmapgl"
           }
          ],
          "histogram": [
           {
            "marker": {
             "pattern": {
              "fillmode": "overlay",
              "size": 10,
              "solidity": 0.2
             }
            },
            "type": "histogram"
           }
          ],
          "histogram2d": [
           {
            "colorbar": {
             "outlinewidth": 0,
             "ticks": ""
            },
            "colorscale": [
             [
              0,
              "#0d0887"
             ],
             [
              0.1111111111111111,
              "#46039f"
             ],
             [
              0.2222222222222222,
              "#7201a8"
             ],
             [
              0.3333333333333333,
              "#9c179e"
             ],
             [
              0.4444444444444444,
              "#bd3786"
             ],
             [
              0.5555555555555556,
              "#d8576b"
             ],
             [
              0.6666666666666666,
              "#ed7953"
             ],
             [
              0.7777777777777778,
              "#fb9f3a"
             ],
             [
              0.8888888888888888,
              "#fdca26"
             ],
             [
              1,
              "#f0f921"
             ]
            ],
            "type": "histogram2d"
           }
          ],
          "histogram2dcontour": [
           {
            "colorbar": {
             "outlinewidth": 0,
             "ticks": ""
            },
            "colorscale": [
             [
              0,
              "#0d0887"
             ],
             [
              0.1111111111111111,
              "#46039f"
             ],
             [
              0.2222222222222222,
              "#7201a8"
             ],
             [
              0.3333333333333333,
              "#9c179e"
             ],
             [
              0.4444444444444444,
              "#bd3786"
             ],
             [
              0.5555555555555556,
              "#d8576b"
             ],
             [
              0.6666666666666666,
              "#ed7953"
             ],
             [
              0.7777777777777778,
              "#fb9f3a"
             ],
             [
              0.8888888888888888,
              "#fdca26"
             ],
             [
              1,
              "#f0f921"
             ]
            ],
            "type": "histogram2dcontour"
           }
          ],
          "mesh3d": [
           {
            "colorbar": {
             "outlinewidth": 0,
             "ticks": ""
            },
            "type": "mesh3d"
           }
          ],
          "parcoords": [
           {
            "line": {
             "colorbar": {
              "outlinewidth": 0,
              "ticks": ""
             }
            },
            "type": "parcoords"
           }
          ],
          "pie": [
           {
            "automargin": true,
            "type": "pie"
           }
          ],
          "scatter": [
           {
            "fillpattern": {
             "fillmode": "overlay",
             "size": 10,
             "solidity": 0.2
            },
            "type": "scatter"
           }
          ],
          "scatter3d": [
           {
            "line": {
             "colorbar": {
              "outlinewidth": 0,
              "ticks": ""
             }
            },
            "marker": {
             "colorbar": {
              "outlinewidth": 0,
              "ticks": ""
             }
            },
            "type": "scatter3d"
           }
          ],
          "scattercarpet": [
           {
            "marker": {
             "colorbar": {
              "outlinewidth": 0,
              "ticks": ""
             }
            },
            "type": "scattercarpet"
           }
          ],
          "scattergeo": [
           {
            "marker": {
             "colorbar": {
              "outlinewidth": 0,
              "ticks": ""
             }
            },
            "type": "scattergeo"
           }
          ],
          "scattergl": [
           {
            "marker": {
             "colorbar": {
              "outlinewidth": 0,
              "ticks": ""
             }
            },
            "type": "scattergl"
           }
          ],
          "scattermapbox": [
           {
            "marker": {
             "colorbar": {
              "outlinewidth": 0,
              "ticks": ""
             }
            },
            "type": "scattermapbox"
           }
          ],
          "scatterpolar": [
           {
            "marker": {
             "colorbar": {
              "outlinewidth": 0,
              "ticks": ""
             }
            },
            "type": "scatterpolar"
           }
          ],
          "scatterpolargl": [
           {
            "marker": {
             "colorbar": {
              "outlinewidth": 0,
              "ticks": ""
             }
            },
            "type": "scatterpolargl"
           }
          ],
          "scatterternary": [
           {
            "marker": {
             "colorbar": {
              "outlinewidth": 0,
              "ticks": ""
             }
            },
            "type": "scatterternary"
           }
          ],
          "surface": [
           {
            "colorbar": {
             "outlinewidth": 0,
             "ticks": ""
            },
            "colorscale": [
             [
              0,
              "#0d0887"
             ],
             [
              0.1111111111111111,
              "#46039f"
             ],
             [
              0.2222222222222222,
              "#7201a8"
             ],
             [
              0.3333333333333333,
              "#9c179e"
             ],
             [
              0.4444444444444444,
              "#bd3786"
             ],
             [
              0.5555555555555556,
              "#d8576b"
             ],
             [
              0.6666666666666666,
              "#ed7953"
             ],
             [
              0.7777777777777778,
              "#fb9f3a"
             ],
             [
              0.8888888888888888,
              "#fdca26"
             ],
             [
              1,
              "#f0f921"
             ]
            ],
            "type": "surface"
           }
          ],
          "table": [
           {
            "cells": {
             "fill": {
              "color": "#EBF0F8"
             },
             "line": {
              "color": "white"
             }
            },
            "header": {
             "fill": {
              "color": "#C8D4E3"
             },
             "line": {
              "color": "white"
             }
            },
            "type": "table"
           }
          ]
         },
         "layout": {
          "annotationdefaults": {
           "arrowcolor": "#2a3f5f",
           "arrowhead": 0,
           "arrowwidth": 1
          },
          "autotypenumbers": "strict",
          "coloraxis": {
           "colorbar": {
            "outlinewidth": 0,
            "ticks": ""
           }
          },
          "colorscale": {
           "diverging": [
            [
             0,
             "#8e0152"
            ],
            [
             0.1,
             "#c51b7d"
            ],
            [
             0.2,
             "#de77ae"
            ],
            [
             0.3,
             "#f1b6da"
            ],
            [
             0.4,
             "#fde0ef"
            ],
            [
             0.5,
             "#f7f7f7"
            ],
            [
             0.6,
             "#e6f5d0"
            ],
            [
             0.7,
             "#b8e186"
            ],
            [
             0.8,
             "#7fbc41"
            ],
            [
             0.9,
             "#4d9221"
            ],
            [
             1,
             "#276419"
            ]
           ],
           "sequential": [
            [
             0,
             "#0d0887"
            ],
            [
             0.1111111111111111,
             "#46039f"
            ],
            [
             0.2222222222222222,
             "#7201a8"
            ],
            [
             0.3333333333333333,
             "#9c179e"
            ],
            [
             0.4444444444444444,
             "#bd3786"
            ],
            [
             0.5555555555555556,
             "#d8576b"
            ],
            [
             0.6666666666666666,
             "#ed7953"
            ],
            [
             0.7777777777777778,
             "#fb9f3a"
            ],
            [
             0.8888888888888888,
             "#fdca26"
            ],
            [
             1,
             "#f0f921"
            ]
           ],
           "sequentialminus": [
            [
             0,
             "#0d0887"
            ],
            [
             0.1111111111111111,
             "#46039f"
            ],
            [
             0.2222222222222222,
             "#7201a8"
            ],
            [
             0.3333333333333333,
             "#9c179e"
            ],
            [
             0.4444444444444444,
             "#bd3786"
            ],
            [
             0.5555555555555556,
             "#d8576b"
            ],
            [
             0.6666666666666666,
             "#ed7953"
            ],
            [
             0.7777777777777778,
             "#fb9f3a"
            ],
            [
             0.8888888888888888,
             "#fdca26"
            ],
            [
             1,
             "#f0f921"
            ]
           ]
          },
          "colorway": [
           "#636efa",
           "#EF553B",
           "#00cc96",
           "#ab63fa",
           "#FFA15A",
           "#19d3f3",
           "#FF6692",
           "#B6E880",
           "#FF97FF",
           "#FECB52"
          ],
          "font": {
           "color": "#2a3f5f"
          },
          "geo": {
           "bgcolor": "white",
           "lakecolor": "white",
           "landcolor": "#E5ECF6",
           "showlakes": true,
           "showland": true,
           "subunitcolor": "white"
          },
          "hoverlabel": {
           "align": "left"
          },
          "hovermode": "closest",
          "mapbox": {
           "style": "light"
          },
          "paper_bgcolor": "white",
          "plot_bgcolor": "#E5ECF6",
          "polar": {
           "angularaxis": {
            "gridcolor": "white",
            "linecolor": "white",
            "ticks": ""
           },
           "bgcolor": "#E5ECF6",
           "radialaxis": {
            "gridcolor": "white",
            "linecolor": "white",
            "ticks": ""
           }
          },
          "scene": {
           "xaxis": {
            "backgroundcolor": "#E5ECF6",
            "gridcolor": "white",
            "gridwidth": 2,
            "linecolor": "white",
            "showbackground": true,
            "ticks": "",
            "zerolinecolor": "white"
           },
           "yaxis": {
            "backgroundcolor": "#E5ECF6",
            "gridcolor": "white",
            "gridwidth": 2,
            "linecolor": "white",
            "showbackground": true,
            "ticks": "",
            "zerolinecolor": "white"
           },
           "zaxis": {
            "backgroundcolor": "#E5ECF6",
            "gridcolor": "white",
            "gridwidth": 2,
            "linecolor": "white",
            "showbackground": true,
            "ticks": "",
            "zerolinecolor": "white"
           }
          },
          "shapedefaults": {
           "line": {
            "color": "#2a3f5f"
           }
          },
          "ternary": {
           "aaxis": {
            "gridcolor": "white",
            "linecolor": "white",
            "ticks": ""
           },
           "baxis": {
            "gridcolor": "white",
            "linecolor": "white",
            "ticks": ""
           },
           "bgcolor": "#E5ECF6",
           "caxis": {
            "gridcolor": "white",
            "linecolor": "white",
            "ticks": ""
           }
          },
          "title": {
           "x": 0.05
          },
          "xaxis": {
           "automargin": true,
           "gridcolor": "white",
           "linecolor": "white",
           "ticks": "",
           "title": {
            "standoff": 15
           },
           "zerolinecolor": "white",
           "zerolinewidth": 2
          },
          "yaxis": {
           "automargin": true,
           "gridcolor": "white",
           "linecolor": "white",
           "ticks": "",
           "title": {
            "standoff": 15
           },
           "zerolinecolor": "white",
           "zerolinewidth": 2
          }
         }
        },
        "title": {
         "text": "Bitcoin 30 Minutes Rolling Average"
        },
        "xaxis": {
         "anchor": "y",
         "domain": [
          0,
          1
         ],
         "title": {
          "text": "Time"
         }
        },
        "yaxis": {
         "anchor": "x",
         "domain": [
          0,
          1
         ],
         "title": {
          "text": "value"
         }
        }
       }
      }
     },
     "metadata": {},
     "output_type": "display_data"
    }
   ],
   "source": [
    "fig = px.line(rolling_avg_30m_df, \n",
    "              x='last_updated.1', \n",
    "              y=['price','rolling_average'], \n",
    "              title=f'{coin} 30 Minutes Rolling Average', \n",
    "              labels={'last_updated.1': 'Time'}, \n",
    "                    )\n",
    "fig.show()"
   ]
  },
  {
   "cell_type": "code",
   "execution_count": 43,
   "id": "92e57273",
   "metadata": {},
   "outputs": [
    {
     "data": {
      "application/vnd.microsoft.datawrangler.viewer.v0+json": {
       "columns": [
        {
         "name": "name",
         "rawType": "object",
         "type": "string"
        },
        {
         "name": "Aave",
         "rawType": "float64",
         "type": "float"
        },
        {
         "name": "AiAkita",
         "rawType": "float64",
         "type": "float"
        },
        {
         "name": "Avalanche",
         "rawType": "float64",
         "type": "float"
        },
        {
         "name": "BCGame Coin",
         "rawType": "float64",
         "type": "float"
        },
        {
         "name": "BNB",
         "rawType": "float64",
         "type": "float"
        },
        {
         "name": "Bitcoin",
         "rawType": "float64",
         "type": "float"
        },
        {
         "name": "Chainlink",
         "rawType": "float64",
         "type": "float"
        },
        {
         "name": "Dogecoin",
         "rawType": "float64",
         "type": "float"
        },
        {
         "name": "Ethereum",
         "rawType": "float64",
         "type": "float"
        },
        {
         "name": "Litecoin",
         "rawType": "float64",
         "type": "float"
        },
        {
         "name": "Monero",
         "rawType": "float64",
         "type": "float"
        },
        {
         "name": "Shiba Inu",
         "rawType": "float64",
         "type": "float"
        },
        {
         "name": "Solana",
         "rawType": "float64",
         "type": "float"
        },
        {
         "name": "Stellar",
         "rawType": "float64",
         "type": "float"
        },
        {
         "name": "Sui",
         "rawType": "float64",
         "type": "float"
        }
       ],
       "ref": "a9091731-de7e-4406-89f9-4a993c80e876",
       "rows": [
        [
         "Aave",
         "1.0",
         "-0.6550516418760753",
         "0.48354076867724344",
         "0.5332755315918492",
         "0.9594148503606451",
         "0.801129136924545",
         "0.35058323753684373",
         "0.9251051689194013",
         "0.9361735641643765",
         "0.46521651589370155",
         "0.8462749832693924",
         "0.31692882233770925",
         "0.8169729785474622",
         "0.12759394613438",
         "0.4281941264106305"
        ],
        [
         "AiAkita",
         "-0.6550516418760753",
         "1.0",
         "0.18837012940000183",
         "-0.3457887278906567",
         "-0.7848939189435509",
         "-0.8209693371259495",
         "0.38639372317080656",
         "-0.4750375528521797",
         "-0.40319153833321464",
         "0.326768492699718",
         "-0.9442790952684532",
         "-0.2362641751955047",
         "-0.8108010753926181",
         "0.6327625420083323",
         "-0.5815326925001999"
        ],
        [
         "Avalanche",
         "0.48354076867724344",
         "0.18837012940000183",
         "1.0",
         "0.3179933401545222",
         "0.31992788990624654",
         "0.3279058940481847",
         "0.8552362962812448",
         "0.5592082824653065",
         "0.5975929644371641",
         "0.7703757522170817",
         "0.1102952818810105",
         "0.026105019761690454",
         "0.3678255102469734",
         "0.7813667445618676",
         "0.2953121283456422"
        ],
        [
         "BCGame Coin",
         "0.5332755315918492",
         "-0.3457887278906567",
         "0.3179933401545222",
         "1.0",
         "0.6074006820918945",
         "0.49641039857369584",
         "-0.08922503953131476",
         "0.2220933550939846",
         "0.3293620342971918",
         "0.006477073992195757",
         "0.49715537265115345",
         "-0.41210076238159077",
         "0.4511847049876739",
         "-0.12096732864795048",
         "0.22731988669006578"
        ],
        [
         "BNB",
         "0.9594148503606451",
         "-0.7848939189435509",
         "0.31992788990624654",
         "0.6074006820918945",
         "1.0",
         "0.8097015992887552",
         "0.14340869971942294",
         "0.8291130911000043",
         "0.8269249066581253",
         "0.2437671980079153",
         "0.9094542789008674",
         "0.3336810782177135",
         "0.8180428860282084",
         "-0.10446141882735614",
         "0.4012891205002672"
        ],
        [
         "Bitcoin",
         "0.801129136924545",
         "-0.8209693371259495",
         "0.3279058940481847",
         "0.49641039857369584",
         "0.8097015992887552",
         "1.0",
         "-0.0015356890806025984",
         "0.6303903751940966",
         "0.5920720561885908",
         "0.017575399133509886",
         "0.9367270607518584",
         "0.00045768088249212085",
         "0.995936531551133",
         "-0.22493900103816228",
         "0.8596989188938872"
        ],
        [
         "Chainlink",
         "0.35058323753684373",
         "0.38639372317080656",
         "0.8552362962812448",
         "-0.08922503953131476",
         "0.14340869971942294",
         "-0.0015356890806025984",
         "1.0",
         "0.5946163665820066",
         "0.6151185951553992",
         "0.9473408093060174",
         "-0.13364980226064302",
         "0.3663180215693192",
         "0.06284750034054729",
         "0.9456947313963096",
         "-0.06044707264758881"
        ],
        [
         "Dogecoin",
         "0.9251051689194013",
         "-0.4750375528521797",
         "0.5592082824653065",
         "0.2220933550939846",
         "0.8291130911000043",
         "0.6303903751940966",
         "0.5946163665820066",
         "1.0",
         "0.9831679104178734",
         "0.6714679779857445",
         "0.6683427771178685",
         "0.5679973964699231",
         "0.6756778274130737",
         "0.3614774656543284",
         "0.2965558077395458"
        ],
        [
         "Ethereum",
         "0.9361735641643765",
         "-0.40319153833321464",
         "0.5975929644371641",
         "0.3293620342971918",
         "0.8269249066581253",
         "0.5920720561885908",
         "0.6151185951553992",
         "0.9831679104178734",
         "1.0",
         "0.7274699679669253",
         "0.628529502648269",
         "0.4651897193485406",
         "0.6281961475205076",
         "0.4204386879215383",
         "0.23138931644696706"
        ],
        [
         "Litecoin",
         "0.46521651589370155",
         "0.326768492699718",
         "0.7703757522170817",
         "0.006477073992195757",
         "0.2437671980079153",
         "0.017575399133509886",
         "0.9473408093060174",
         "0.6714679779857445",
         "0.7274699679669253",
         "1.0",
         "-0.05573019842313245",
         "0.33062541534472967",
         "0.06765886544203278",
         "0.9200954777106781",
         "-0.14017272629153124"
        ],
        [
         "Monero",
         "0.8462749832693924",
         "-0.9442790952684532",
         "0.1102952818810105",
         "0.49715537265115345",
         "0.9094542789008674",
         "0.9367270607518584",
         "-0.13364980226064302",
         "0.6683427771178685",
         "0.628529502648269",
         "-0.05573019842313245",
         "1.0",
         "0.18135203234149372",
         "0.9307740380483697",
         "-0.38063115924689145",
         "0.6627056202501511"
        ],
        [
         "Shiba Inu",
         "0.31692882233770925",
         "-0.2362641751955047",
         "0.026105019761690454",
         "-0.41210076238159077",
         "0.3336810782177135",
         "0.00045768088249212085",
         "0.3663180215693192",
         "0.5679973964699231",
         "0.4651897193485406",
         "0.33062541534472967",
         "0.18135203234149372",
         "1.0",
         "0.07389711387500025",
         "0.1429275504643585",
         "-0.24061229139065346"
        ],
        [
         "Solana",
         "0.8169729785474622",
         "-0.8108010753926181",
         "0.3678255102469734",
         "0.4511847049876739",
         "0.8180428860282084",
         "0.995936531551133",
         "0.06284750034054729",
         "0.6756778274130737",
         "0.6281961475205076",
         "0.06765886544203278",
         "0.9307740380483697",
         "0.07389711387500025",
         "1.0",
         "-0.17673266672641325",
         "0.8534233952347654"
        ],
        [
         "Stellar",
         "0.12759394613438",
         "0.6327625420083323",
         "0.7813667445618676",
         "-0.12096732864795048",
         "-0.10446141882735614",
         "-0.22493900103816228",
         "0.9456947313963096",
         "0.3614774656543284",
         "0.4204386879215383",
         "0.9200954777106781",
         "-0.38063115924689145",
         "0.1429275504643585",
         "-0.17673266672641325",
         "1.0",
         "-0.20865052543280918"
        ],
        [
         "Sui",
         "0.4281941264106305",
         "-0.5815326925001999",
         "0.2953121283456422",
         "0.22731988669006578",
         "0.4012891205002672",
         "0.8596989188938872",
         "-0.06044707264758881",
         "0.2965558077395458",
         "0.23138931644696706",
         "-0.14017272629153124",
         "0.6627056202501511",
         "-0.24061229139065346",
         "0.8534233952347654",
         "-0.20865052543280918",
         "1.0"
        ]
       ],
       "shape": {
        "columns": 15,
        "rows": 15
       }
      },
      "text/html": [
       "<div>\n",
       "<style scoped>\n",
       "    .dataframe tbody tr th:only-of-type {\n",
       "        vertical-align: middle;\n",
       "    }\n",
       "\n",
       "    .dataframe tbody tr th {\n",
       "        vertical-align: top;\n",
       "    }\n",
       "\n",
       "    .dataframe thead th {\n",
       "        text-align: right;\n",
       "    }\n",
       "</style>\n",
       "<table border=\"1\" class=\"dataframe\">\n",
       "  <thead>\n",
       "    <tr style=\"text-align: right;\">\n",
       "      <th>name</th>\n",
       "      <th>Aave</th>\n",
       "      <th>AiAkita</th>\n",
       "      <th>Avalanche</th>\n",
       "      <th>BCGame Coin</th>\n",
       "      <th>BNB</th>\n",
       "      <th>Bitcoin</th>\n",
       "      <th>Chainlink</th>\n",
       "      <th>Dogecoin</th>\n",
       "      <th>Ethereum</th>\n",
       "      <th>Litecoin</th>\n",
       "      <th>Monero</th>\n",
       "      <th>Shiba Inu</th>\n",
       "      <th>Solana</th>\n",
       "      <th>Stellar</th>\n",
       "      <th>Sui</th>\n",
       "    </tr>\n",
       "    <tr>\n",
       "      <th>name</th>\n",
       "      <th></th>\n",
       "      <th></th>\n",
       "      <th></th>\n",
       "      <th></th>\n",
       "      <th></th>\n",
       "      <th></th>\n",
       "      <th></th>\n",
       "      <th></th>\n",
       "      <th></th>\n",
       "      <th></th>\n",
       "      <th></th>\n",
       "      <th></th>\n",
       "      <th></th>\n",
       "      <th></th>\n",
       "      <th></th>\n",
       "    </tr>\n",
       "  </thead>\n",
       "  <tbody>\n",
       "    <tr>\n",
       "      <th>Aave</th>\n",
       "      <td>1.000000</td>\n",
       "      <td>-0.655052</td>\n",
       "      <td>0.483541</td>\n",
       "      <td>0.533276</td>\n",
       "      <td>0.959415</td>\n",
       "      <td>0.801129</td>\n",
       "      <td>0.350583</td>\n",
       "      <td>0.925105</td>\n",
       "      <td>0.936174</td>\n",
       "      <td>0.465217</td>\n",
       "      <td>0.846275</td>\n",
       "      <td>0.316929</td>\n",
       "      <td>0.816973</td>\n",
       "      <td>0.127594</td>\n",
       "      <td>0.428194</td>\n",
       "    </tr>\n",
       "    <tr>\n",
       "      <th>AiAkita</th>\n",
       "      <td>-0.655052</td>\n",
       "      <td>1.000000</td>\n",
       "      <td>0.188370</td>\n",
       "      <td>-0.345789</td>\n",
       "      <td>-0.784894</td>\n",
       "      <td>-0.820969</td>\n",
       "      <td>0.386394</td>\n",
       "      <td>-0.475038</td>\n",
       "      <td>-0.403192</td>\n",
       "      <td>0.326768</td>\n",
       "      <td>-0.944279</td>\n",
       "      <td>-0.236264</td>\n",
       "      <td>-0.810801</td>\n",
       "      <td>0.632763</td>\n",
       "      <td>-0.581533</td>\n",
       "    </tr>\n",
       "    <tr>\n",
       "      <th>Avalanche</th>\n",
       "      <td>0.483541</td>\n",
       "      <td>0.188370</td>\n",
       "      <td>1.000000</td>\n",
       "      <td>0.317993</td>\n",
       "      <td>0.319928</td>\n",
       "      <td>0.327906</td>\n",
       "      <td>0.855236</td>\n",
       "      <td>0.559208</td>\n",
       "      <td>0.597593</td>\n",
       "      <td>0.770376</td>\n",
       "      <td>0.110295</td>\n",
       "      <td>0.026105</td>\n",
       "      <td>0.367826</td>\n",
       "      <td>0.781367</td>\n",
       "      <td>0.295312</td>\n",
       "    </tr>\n",
       "    <tr>\n",
       "      <th>BCGame Coin</th>\n",
       "      <td>0.533276</td>\n",
       "      <td>-0.345789</td>\n",
       "      <td>0.317993</td>\n",
       "      <td>1.000000</td>\n",
       "      <td>0.607401</td>\n",
       "      <td>0.496410</td>\n",
       "      <td>-0.089225</td>\n",
       "      <td>0.222093</td>\n",
       "      <td>0.329362</td>\n",
       "      <td>0.006477</td>\n",
       "      <td>0.497155</td>\n",
       "      <td>-0.412101</td>\n",
       "      <td>0.451185</td>\n",
       "      <td>-0.120967</td>\n",
       "      <td>0.227320</td>\n",
       "    </tr>\n",
       "    <tr>\n",
       "      <th>BNB</th>\n",
       "      <td>0.959415</td>\n",
       "      <td>-0.784894</td>\n",
       "      <td>0.319928</td>\n",
       "      <td>0.607401</td>\n",
       "      <td>1.000000</td>\n",
       "      <td>0.809702</td>\n",
       "      <td>0.143409</td>\n",
       "      <td>0.829113</td>\n",
       "      <td>0.826925</td>\n",
       "      <td>0.243767</td>\n",
       "      <td>0.909454</td>\n",
       "      <td>0.333681</td>\n",
       "      <td>0.818043</td>\n",
       "      <td>-0.104461</td>\n",
       "      <td>0.401289</td>\n",
       "    </tr>\n",
       "    <tr>\n",
       "      <th>Bitcoin</th>\n",
       "      <td>0.801129</td>\n",
       "      <td>-0.820969</td>\n",
       "      <td>0.327906</td>\n",
       "      <td>0.496410</td>\n",
       "      <td>0.809702</td>\n",
       "      <td>1.000000</td>\n",
       "      <td>-0.001536</td>\n",
       "      <td>0.630390</td>\n",
       "      <td>0.592072</td>\n",
       "      <td>0.017575</td>\n",
       "      <td>0.936727</td>\n",
       "      <td>0.000458</td>\n",
       "      <td>0.995937</td>\n",
       "      <td>-0.224939</td>\n",
       "      <td>0.859699</td>\n",
       "    </tr>\n",
       "    <tr>\n",
       "      <th>Chainlink</th>\n",
       "      <td>0.350583</td>\n",
       "      <td>0.386394</td>\n",
       "      <td>0.855236</td>\n",
       "      <td>-0.089225</td>\n",
       "      <td>0.143409</td>\n",
       "      <td>-0.001536</td>\n",
       "      <td>1.000000</td>\n",
       "      <td>0.594616</td>\n",
       "      <td>0.615119</td>\n",
       "      <td>0.947341</td>\n",
       "      <td>-0.133650</td>\n",
       "      <td>0.366318</td>\n",
       "      <td>0.062848</td>\n",
       "      <td>0.945695</td>\n",
       "      <td>-0.060447</td>\n",
       "    </tr>\n",
       "    <tr>\n",
       "      <th>Dogecoin</th>\n",
       "      <td>0.925105</td>\n",
       "      <td>-0.475038</td>\n",
       "      <td>0.559208</td>\n",
       "      <td>0.222093</td>\n",
       "      <td>0.829113</td>\n",
       "      <td>0.630390</td>\n",
       "      <td>0.594616</td>\n",
       "      <td>1.000000</td>\n",
       "      <td>0.983168</td>\n",
       "      <td>0.671468</td>\n",
       "      <td>0.668343</td>\n",
       "      <td>0.567997</td>\n",
       "      <td>0.675678</td>\n",
       "      <td>0.361477</td>\n",
       "      <td>0.296556</td>\n",
       "    </tr>\n",
       "    <tr>\n",
       "      <th>Ethereum</th>\n",
       "      <td>0.936174</td>\n",
       "      <td>-0.403192</td>\n",
       "      <td>0.597593</td>\n",
       "      <td>0.329362</td>\n",
       "      <td>0.826925</td>\n",
       "      <td>0.592072</td>\n",
       "      <td>0.615119</td>\n",
       "      <td>0.983168</td>\n",
       "      <td>1.000000</td>\n",
       "      <td>0.727470</td>\n",
       "      <td>0.628530</td>\n",
       "      <td>0.465190</td>\n",
       "      <td>0.628196</td>\n",
       "      <td>0.420439</td>\n",
       "      <td>0.231389</td>\n",
       "    </tr>\n",
       "    <tr>\n",
       "      <th>Litecoin</th>\n",
       "      <td>0.465217</td>\n",
       "      <td>0.326768</td>\n",
       "      <td>0.770376</td>\n",
       "      <td>0.006477</td>\n",
       "      <td>0.243767</td>\n",
       "      <td>0.017575</td>\n",
       "      <td>0.947341</td>\n",
       "      <td>0.671468</td>\n",
       "      <td>0.727470</td>\n",
       "      <td>1.000000</td>\n",
       "      <td>-0.055730</td>\n",
       "      <td>0.330625</td>\n",
       "      <td>0.067659</td>\n",
       "      <td>0.920095</td>\n",
       "      <td>-0.140173</td>\n",
       "    </tr>\n",
       "    <tr>\n",
       "      <th>Monero</th>\n",
       "      <td>0.846275</td>\n",
       "      <td>-0.944279</td>\n",
       "      <td>0.110295</td>\n",
       "      <td>0.497155</td>\n",
       "      <td>0.909454</td>\n",
       "      <td>0.936727</td>\n",
       "      <td>-0.133650</td>\n",
       "      <td>0.668343</td>\n",
       "      <td>0.628530</td>\n",
       "      <td>-0.055730</td>\n",
       "      <td>1.000000</td>\n",
       "      <td>0.181352</td>\n",
       "      <td>0.930774</td>\n",
       "      <td>-0.380631</td>\n",
       "      <td>0.662706</td>\n",
       "    </tr>\n",
       "    <tr>\n",
       "      <th>Shiba Inu</th>\n",
       "      <td>0.316929</td>\n",
       "      <td>-0.236264</td>\n",
       "      <td>0.026105</td>\n",
       "      <td>-0.412101</td>\n",
       "      <td>0.333681</td>\n",
       "      <td>0.000458</td>\n",
       "      <td>0.366318</td>\n",
       "      <td>0.567997</td>\n",
       "      <td>0.465190</td>\n",
       "      <td>0.330625</td>\n",
       "      <td>0.181352</td>\n",
       "      <td>1.000000</td>\n",
       "      <td>0.073897</td>\n",
       "      <td>0.142928</td>\n",
       "      <td>-0.240612</td>\n",
       "    </tr>\n",
       "    <tr>\n",
       "      <th>Solana</th>\n",
       "      <td>0.816973</td>\n",
       "      <td>-0.810801</td>\n",
       "      <td>0.367826</td>\n",
       "      <td>0.451185</td>\n",
       "      <td>0.818043</td>\n",
       "      <td>0.995937</td>\n",
       "      <td>0.062848</td>\n",
       "      <td>0.675678</td>\n",
       "      <td>0.628196</td>\n",
       "      <td>0.067659</td>\n",
       "      <td>0.930774</td>\n",
       "      <td>0.073897</td>\n",
       "      <td>1.000000</td>\n",
       "      <td>-0.176733</td>\n",
       "      <td>0.853423</td>\n",
       "    </tr>\n",
       "    <tr>\n",
       "      <th>Stellar</th>\n",
       "      <td>0.127594</td>\n",
       "      <td>0.632763</td>\n",
       "      <td>0.781367</td>\n",
       "      <td>-0.120967</td>\n",
       "      <td>-0.104461</td>\n",
       "      <td>-0.224939</td>\n",
       "      <td>0.945695</td>\n",
       "      <td>0.361477</td>\n",
       "      <td>0.420439</td>\n",
       "      <td>0.920095</td>\n",
       "      <td>-0.380631</td>\n",
       "      <td>0.142928</td>\n",
       "      <td>-0.176733</td>\n",
       "      <td>1.000000</td>\n",
       "      <td>-0.208651</td>\n",
       "    </tr>\n",
       "    <tr>\n",
       "      <th>Sui</th>\n",
       "      <td>0.428194</td>\n",
       "      <td>-0.581533</td>\n",
       "      <td>0.295312</td>\n",
       "      <td>0.227320</td>\n",
       "      <td>0.401289</td>\n",
       "      <td>0.859699</td>\n",
       "      <td>-0.060447</td>\n",
       "      <td>0.296556</td>\n",
       "      <td>0.231389</td>\n",
       "      <td>-0.140173</td>\n",
       "      <td>0.662706</td>\n",
       "      <td>-0.240612</td>\n",
       "      <td>0.853423</td>\n",
       "      <td>-0.208651</td>\n",
       "      <td>1.000000</td>\n",
       "    </tr>\n",
       "  </tbody>\n",
       "</table>\n",
       "</div>"
      ],
      "text/plain": [
       "name             Aave   AiAkita  Avalanche  BCGame Coin       BNB   Bitcoin  \\\n",
       "name                                                                          \n",
       "Aave         1.000000 -0.655052   0.483541     0.533276  0.959415  0.801129   \n",
       "AiAkita     -0.655052  1.000000   0.188370    -0.345789 -0.784894 -0.820969   \n",
       "Avalanche    0.483541  0.188370   1.000000     0.317993  0.319928  0.327906   \n",
       "BCGame Coin  0.533276 -0.345789   0.317993     1.000000  0.607401  0.496410   \n",
       "BNB          0.959415 -0.784894   0.319928     0.607401  1.000000  0.809702   \n",
       "Bitcoin      0.801129 -0.820969   0.327906     0.496410  0.809702  1.000000   \n",
       "Chainlink    0.350583  0.386394   0.855236    -0.089225  0.143409 -0.001536   \n",
       "Dogecoin     0.925105 -0.475038   0.559208     0.222093  0.829113  0.630390   \n",
       "Ethereum     0.936174 -0.403192   0.597593     0.329362  0.826925  0.592072   \n",
       "Litecoin     0.465217  0.326768   0.770376     0.006477  0.243767  0.017575   \n",
       "Monero       0.846275 -0.944279   0.110295     0.497155  0.909454  0.936727   \n",
       "Shiba Inu    0.316929 -0.236264   0.026105    -0.412101  0.333681  0.000458   \n",
       "Solana       0.816973 -0.810801   0.367826     0.451185  0.818043  0.995937   \n",
       "Stellar      0.127594  0.632763   0.781367    -0.120967 -0.104461 -0.224939   \n",
       "Sui          0.428194 -0.581533   0.295312     0.227320  0.401289  0.859699   \n",
       "\n",
       "name         Chainlink  Dogecoin  Ethereum  Litecoin    Monero  Shiba Inu  \\\n",
       "name                                                                        \n",
       "Aave          0.350583  0.925105  0.936174  0.465217  0.846275   0.316929   \n",
       "AiAkita       0.386394 -0.475038 -0.403192  0.326768 -0.944279  -0.236264   \n",
       "Avalanche     0.855236  0.559208  0.597593  0.770376  0.110295   0.026105   \n",
       "BCGame Coin  -0.089225  0.222093  0.329362  0.006477  0.497155  -0.412101   \n",
       "BNB           0.143409  0.829113  0.826925  0.243767  0.909454   0.333681   \n",
       "Bitcoin      -0.001536  0.630390  0.592072  0.017575  0.936727   0.000458   \n",
       "Chainlink     1.000000  0.594616  0.615119  0.947341 -0.133650   0.366318   \n",
       "Dogecoin      0.594616  1.000000  0.983168  0.671468  0.668343   0.567997   \n",
       "Ethereum      0.615119  0.983168  1.000000  0.727470  0.628530   0.465190   \n",
       "Litecoin      0.947341  0.671468  0.727470  1.000000 -0.055730   0.330625   \n",
       "Monero       -0.133650  0.668343  0.628530 -0.055730  1.000000   0.181352   \n",
       "Shiba Inu     0.366318  0.567997  0.465190  0.330625  0.181352   1.000000   \n",
       "Solana        0.062848  0.675678  0.628196  0.067659  0.930774   0.073897   \n",
       "Stellar       0.945695  0.361477  0.420439  0.920095 -0.380631   0.142928   \n",
       "Sui          -0.060447  0.296556  0.231389 -0.140173  0.662706  -0.240612   \n",
       "\n",
       "name           Solana   Stellar       Sui  \n",
       "name                                       \n",
       "Aave         0.816973  0.127594  0.428194  \n",
       "AiAkita     -0.810801  0.632763 -0.581533  \n",
       "Avalanche    0.367826  0.781367  0.295312  \n",
       "BCGame Coin  0.451185 -0.120967  0.227320  \n",
       "BNB          0.818043 -0.104461  0.401289  \n",
       "Bitcoin      0.995937 -0.224939  0.859699  \n",
       "Chainlink    0.062848  0.945695 -0.060447  \n",
       "Dogecoin     0.675678  0.361477  0.296556  \n",
       "Ethereum     0.628196  0.420439  0.231389  \n",
       "Litecoin     0.067659  0.920095 -0.140173  \n",
       "Monero       0.930774 -0.380631  0.662706  \n",
       "Shiba Inu    0.073897  0.142928 -0.240612  \n",
       "Solana       1.000000 -0.176733  0.853423  \n",
       "Stellar     -0.176733  1.000000 -0.208651  \n",
       "Sui          0.853423 -0.208651  1.000000  "
      ]
     },
     "execution_count": 43,
     "metadata": {},
     "output_type": "execute_result"
    }
   ],
   "source": [
    "# creating correlation heatmap dataframe\n",
    "change_cols = ['name', 'percent_change_1h', 'percent_change_24h', \n",
    "               'percent_change_7d', 'percent_change_30d', \n",
    "               'percent_change_60d', 'percent_change_90d']\n",
    "\n",
    "change_cols2 = ['percent_change_1h', 'percent_change_24h', \n",
    "               'percent_change_7d', 'percent_change_30d', \n",
    "               'percent_change_60d', 'percent_change_90d']\n",
    "\n",
    "coins=['Bitcoin','Ethereum','Avalanche','Aave','BNB','Stellar','Sui','Shiba Inu','Monero','Litecoin','Dogecoin','Solana','Chainlink','BCGame Coin', 'AiAkita']\n",
    "\n",
    "corr_df = listings_df.loc[listings_df['name'].isin(coins)].reset_index(drop=True)\n",
    "corr_df = corr_df[change_cols].dropna()\n",
    "corr_df = corr_df.groupby('name')[change_cols2].mean().reset_index()\n",
    "corr_df\n",
    "\n",
    "# Transpose to get coins as columns\n",
    "corr_map = corr_df.set_index('name').T.corr()\n",
    "corr_map"
   ]
  },
  {
   "cell_type": "code",
   "execution_count": 46,
   "id": "a9a22367",
   "metadata": {},
   "outputs": [
    {
     "data": {
      "application/vnd.plotly.v1+json": {
       "config": {
        "plotlyServerURL": "https://plot.ly"
       },
       "data": [
        {
         "coloraxis": "coloraxis",
         "hovertemplate": "name: %{x}<br>name: %{y}<br>Correlation: %{z}<extra></extra>",
         "name": "0",
         "texttemplate": "%{z:.2f}",
         "type": "heatmap",
         "x": [
          "Aave",
          "AiAkita",
          "Avalanche",
          "BCGame Coin",
          "BNB",
          "Bitcoin",
          "Chainlink",
          "Dogecoin",
          "Ethereum",
          "Litecoin",
          "Monero",
          "Shiba Inu",
          "Solana",
          "Stellar",
          "Sui"
         ],
         "xaxis": "x",
         "y": [
          "Aave",
          "AiAkita",
          "Avalanche",
          "BCGame Coin",
          "BNB",
          "Bitcoin",
          "Chainlink",
          "Dogecoin",
          "Ethereum",
          "Litecoin",
          "Monero",
          "Shiba Inu",
          "Solana",
          "Stellar",
          "Sui"
         ],
         "yaxis": "y",
         "z": [
          [
           1,
           -0.6550516418760753,
           0.48354076867724344,
           0.5332755315918492,
           0.9594148503606451,
           0.801129136924545,
           0.35058323753684373,
           0.9251051689194013,
           0.9361735641643765,
           0.46521651589370155,
           0.8462749832693924,
           0.31692882233770925,
           0.8169729785474622,
           0.12759394613438,
           0.4281941264106305
          ],
          [
           -0.6550516418760753,
           1,
           0.18837012940000183,
           -0.3457887278906567,
           -0.7848939189435509,
           -0.8209693371259495,
           0.38639372317080656,
           -0.4750375528521797,
           -0.40319153833321464,
           0.326768492699718,
           -0.9442790952684532,
           -0.2362641751955047,
           -0.8108010753926181,
           0.6327625420083323,
           -0.5815326925001999
          ],
          [
           0.48354076867724344,
           0.18837012940000183,
           1,
           0.3179933401545222,
           0.31992788990624654,
           0.3279058940481847,
           0.8552362962812448,
           0.5592082824653065,
           0.5975929644371641,
           0.7703757522170817,
           0.1102952818810105,
           0.026105019761690454,
           0.3678255102469734,
           0.7813667445618676,
           0.2953121283456422
          ],
          [
           0.5332755315918492,
           -0.3457887278906567,
           0.3179933401545222,
           1,
           0.6074006820918945,
           0.49641039857369584,
           -0.08922503953131476,
           0.2220933550939846,
           0.3293620342971918,
           0.006477073992195757,
           0.49715537265115345,
           -0.41210076238159077,
           0.4511847049876739,
           -0.12096732864795048,
           0.22731988669006578
          ],
          [
           0.9594148503606451,
           -0.7848939189435509,
           0.31992788990624654,
           0.6074006820918945,
           1,
           0.8097015992887552,
           0.14340869971942294,
           0.8291130911000043,
           0.8269249066581253,
           0.2437671980079153,
           0.9094542789008674,
           0.3336810782177135,
           0.8180428860282084,
           -0.10446141882735614,
           0.4012891205002672
          ],
          [
           0.801129136924545,
           -0.8209693371259495,
           0.3279058940481847,
           0.49641039857369584,
           0.8097015992887552,
           1,
           -0.0015356890806025984,
           0.6303903751940966,
           0.5920720561885908,
           0.017575399133509886,
           0.9367270607518584,
           0.00045768088249212085,
           0.995936531551133,
           -0.22493900103816228,
           0.8596989188938872
          ],
          [
           0.35058323753684373,
           0.38639372317080656,
           0.8552362962812448,
           -0.08922503953131476,
           0.14340869971942294,
           -0.0015356890806025984,
           1,
           0.5946163665820066,
           0.6151185951553992,
           0.9473408093060174,
           -0.13364980226064302,
           0.3663180215693192,
           0.06284750034054729,
           0.9456947313963096,
           -0.06044707264758881
          ],
          [
           0.9251051689194013,
           -0.4750375528521797,
           0.5592082824653065,
           0.2220933550939846,
           0.8291130911000043,
           0.6303903751940966,
           0.5946163665820066,
           1,
           0.9831679104178734,
           0.6714679779857445,
           0.6683427771178685,
           0.5679973964699231,
           0.6756778274130737,
           0.3614774656543284,
           0.2965558077395458
          ],
          [
           0.9361735641643765,
           -0.40319153833321464,
           0.5975929644371641,
           0.3293620342971918,
           0.8269249066581253,
           0.5920720561885908,
           0.6151185951553992,
           0.9831679104178734,
           1,
           0.7274699679669253,
           0.628529502648269,
           0.4651897193485406,
           0.6281961475205076,
           0.4204386879215383,
           0.23138931644696706
          ],
          [
           0.46521651589370155,
           0.326768492699718,
           0.7703757522170817,
           0.006477073992195757,
           0.2437671980079153,
           0.017575399133509886,
           0.9473408093060174,
           0.6714679779857445,
           0.7274699679669253,
           1,
           -0.05573019842313245,
           0.33062541534472967,
           0.06765886544203278,
           0.9200954777106781,
           -0.14017272629153124
          ],
          [
           0.8462749832693924,
           -0.9442790952684532,
           0.1102952818810105,
           0.49715537265115345,
           0.9094542789008674,
           0.9367270607518584,
           -0.13364980226064302,
           0.6683427771178685,
           0.628529502648269,
           -0.05573019842313245,
           1,
           0.18135203234149372,
           0.9307740380483697,
           -0.38063115924689145,
           0.6627056202501511
          ],
          [
           0.31692882233770925,
           -0.2362641751955047,
           0.026105019761690454,
           -0.41210076238159077,
           0.3336810782177135,
           0.00045768088249212085,
           0.3663180215693192,
           0.5679973964699231,
           0.4651897193485406,
           0.33062541534472967,
           0.18135203234149372,
           1,
           0.07389711387500025,
           0.1429275504643585,
           -0.24061229139065346
          ],
          [
           0.8169729785474622,
           -0.8108010753926181,
           0.3678255102469734,
           0.4511847049876739,
           0.8180428860282084,
           0.995936531551133,
           0.06284750034054729,
           0.6756778274130737,
           0.6281961475205076,
           0.06765886544203278,
           0.9307740380483697,
           0.07389711387500025,
           1,
           -0.17673266672641325,
           0.8534233952347654
          ],
          [
           0.12759394613438,
           0.6327625420083323,
           0.7813667445618676,
           -0.12096732864795048,
           -0.10446141882735614,
           -0.22493900103816228,
           0.9456947313963096,
           0.3614774656543284,
           0.4204386879215383,
           0.9200954777106781,
           -0.38063115924689145,
           0.1429275504643585,
           -0.17673266672641325,
           1,
           -0.20865052543280918
          ],
          [
           0.4281941264106305,
           -0.5815326925001999,
           0.2953121283456422,
           0.22731988669006578,
           0.4012891205002672,
           0.8596989188938872,
           -0.06044707264758881,
           0.2965558077395458,
           0.23138931644696706,
           -0.14017272629153124,
           0.6627056202501511,
           -0.24061229139065346,
           0.8534233952347654,
           -0.20865052543280918,
           1
          ]
         ]
        }
       ],
       "layout": {
        "coloraxis": {
         "cmax": 1,
         "cmin": -1,
         "colorbar": {
          "title": {
           "text": "Corr"
          }
         },
         "colorscale": [
          [
           0,
           "rgb(103,0,31)"
          ],
          [
           0.1,
           "rgb(178,24,43)"
          ],
          [
           0.2,
           "rgb(214,96,77)"
          ],
          [
           0.3,
           "rgb(244,165,130)"
          ],
          [
           0.4,
           "rgb(253,219,199)"
          ],
          [
           0.5,
           "rgb(247,247,247)"
          ],
          [
           0.6,
           "rgb(209,229,240)"
          ],
          [
           0.7,
           "rgb(146,197,222)"
          ],
          [
           0.8,
           "rgb(67,147,195)"
          ],
          [
           0.9,
           "rgb(33,102,172)"
          ],
          [
           1,
           "rgb(5,48,97)"
          ]
         ]
        },
        "height": 700,
        "template": {
         "data": {
          "bar": [
           {
            "error_x": {
             "color": "#2a3f5f"
            },
            "error_y": {
             "color": "#2a3f5f"
            },
            "marker": {
             "line": {
              "color": "#E5ECF6",
              "width": 0.5
             },
             "pattern": {
              "fillmode": "overlay",
              "size": 10,
              "solidity": 0.2
             }
            },
            "type": "bar"
           }
          ],
          "barpolar": [
           {
            "marker": {
             "line": {
              "color": "#E5ECF6",
              "width": 0.5
             },
             "pattern": {
              "fillmode": "overlay",
              "size": 10,
              "solidity": 0.2
             }
            },
            "type": "barpolar"
           }
          ],
          "carpet": [
           {
            "aaxis": {
             "endlinecolor": "#2a3f5f",
             "gridcolor": "white",
             "linecolor": "white",
             "minorgridcolor": "white",
             "startlinecolor": "#2a3f5f"
            },
            "baxis": {
             "endlinecolor": "#2a3f5f",
             "gridcolor": "white",
             "linecolor": "white",
             "minorgridcolor": "white",
             "startlinecolor": "#2a3f5f"
            },
            "type": "carpet"
           }
          ],
          "choropleth": [
           {
            "colorbar": {
             "outlinewidth": 0,
             "ticks": ""
            },
            "type": "choropleth"
           }
          ],
          "contour": [
           {
            "colorbar": {
             "outlinewidth": 0,
             "ticks": ""
            },
            "colorscale": [
             [
              0,
              "#0d0887"
             ],
             [
              0.1111111111111111,
              "#46039f"
             ],
             [
              0.2222222222222222,
              "#7201a8"
             ],
             [
              0.3333333333333333,
              "#9c179e"
             ],
             [
              0.4444444444444444,
              "#bd3786"
             ],
             [
              0.5555555555555556,
              "#d8576b"
             ],
             [
              0.6666666666666666,
              "#ed7953"
             ],
             [
              0.7777777777777778,
              "#fb9f3a"
             ],
             [
              0.8888888888888888,
              "#fdca26"
             ],
             [
              1,
              "#f0f921"
             ]
            ],
            "type": "contour"
           }
          ],
          "contourcarpet": [
           {
            "colorbar": {
             "outlinewidth": 0,
             "ticks": ""
            },
            "type": "contourcarpet"
           }
          ],
          "heatmap": [
           {
            "colorbar": {
             "outlinewidth": 0,
             "ticks": ""
            },
            "colorscale": [
             [
              0,
              "#0d0887"
             ],
             [
              0.1111111111111111,
              "#46039f"
             ],
             [
              0.2222222222222222,
              "#7201a8"
             ],
             [
              0.3333333333333333,
              "#9c179e"
             ],
             [
              0.4444444444444444,
              "#bd3786"
             ],
             [
              0.5555555555555556,
              "#d8576b"
             ],
             [
              0.6666666666666666,
              "#ed7953"
             ],
             [
              0.7777777777777778,
              "#fb9f3a"
             ],
             [
              0.8888888888888888,
              "#fdca26"
             ],
             [
              1,
              "#f0f921"
             ]
            ],
            "type": "heatmap"
           }
          ],
          "heatmapgl": [
           {
            "colorbar": {
             "outlinewidth": 0,
             "ticks": ""
            },
            "colorscale": [
             [
              0,
              "#0d0887"
             ],
             [
              0.1111111111111111,
              "#46039f"
             ],
             [
              0.2222222222222222,
              "#7201a8"
             ],
             [
              0.3333333333333333,
              "#9c179e"
             ],
             [
              0.4444444444444444,
              "#bd3786"
             ],
             [
              0.5555555555555556,
              "#d8576b"
             ],
             [
              0.6666666666666666,
              "#ed7953"
             ],
             [
              0.7777777777777778,
              "#fb9f3a"
             ],
             [
              0.8888888888888888,
              "#fdca26"
             ],
             [
              1,
              "#f0f921"
             ]
            ],
            "type": "heatmapgl"
           }
          ],
          "histogram": [
           {
            "marker": {
             "pattern": {
              "fillmode": "overlay",
              "size": 10,
              "solidity": 0.2
             }
            },
            "type": "histogram"
           }
          ],
          "histogram2d": [
           {
            "colorbar": {
             "outlinewidth": 0,
             "ticks": ""
            },
            "colorscale": [
             [
              0,
              "#0d0887"
             ],
             [
              0.1111111111111111,
              "#46039f"
             ],
             [
              0.2222222222222222,
              "#7201a8"
             ],
             [
              0.3333333333333333,
              "#9c179e"
             ],
             [
              0.4444444444444444,
              "#bd3786"
             ],
             [
              0.5555555555555556,
              "#d8576b"
             ],
             [
              0.6666666666666666,
              "#ed7953"
             ],
             [
              0.7777777777777778,
              "#fb9f3a"
             ],
             [
              0.8888888888888888,
              "#fdca26"
             ],
             [
              1,
              "#f0f921"
             ]
            ],
            "type": "histogram2d"
           }
          ],
          "histogram2dcontour": [
           {
            "colorbar": {
             "outlinewidth": 0,
             "ticks": ""
            },
            "colorscale": [
             [
              0,
              "#0d0887"
             ],
             [
              0.1111111111111111,
              "#46039f"
             ],
             [
              0.2222222222222222,
              "#7201a8"
             ],
             [
              0.3333333333333333,
              "#9c179e"
             ],
             [
              0.4444444444444444,
              "#bd3786"
             ],
             [
              0.5555555555555556,
              "#d8576b"
             ],
             [
              0.6666666666666666,
              "#ed7953"
             ],
             [
              0.7777777777777778,
              "#fb9f3a"
             ],
             [
              0.8888888888888888,
              "#fdca26"
             ],
             [
              1,
              "#f0f921"
             ]
            ],
            "type": "histogram2dcontour"
           }
          ],
          "mesh3d": [
           {
            "colorbar": {
             "outlinewidth": 0,
             "ticks": ""
            },
            "type": "mesh3d"
           }
          ],
          "parcoords": [
           {
            "line": {
             "colorbar": {
              "outlinewidth": 0,
              "ticks": ""
             }
            },
            "type": "parcoords"
           }
          ],
          "pie": [
           {
            "automargin": true,
            "type": "pie"
           }
          ],
          "scatter": [
           {
            "fillpattern": {
             "fillmode": "overlay",
             "size": 10,
             "solidity": 0.2
            },
            "type": "scatter"
           }
          ],
          "scatter3d": [
           {
            "line": {
             "colorbar": {
              "outlinewidth": 0,
              "ticks": ""
             }
            },
            "marker": {
             "colorbar": {
              "outlinewidth": 0,
              "ticks": ""
             }
            },
            "type": "scatter3d"
           }
          ],
          "scattercarpet": [
           {
            "marker": {
             "colorbar": {
              "outlinewidth": 0,
              "ticks": ""
             }
            },
            "type": "scattercarpet"
           }
          ],
          "scattergeo": [
           {
            "marker": {
             "colorbar": {
              "outlinewidth": 0,
              "ticks": ""
             }
            },
            "type": "scattergeo"
           }
          ],
          "scattergl": [
           {
            "marker": {
             "colorbar": {
              "outlinewidth": 0,
              "ticks": ""
             }
            },
            "type": "scattergl"
           }
          ],
          "scattermapbox": [
           {
            "marker": {
             "colorbar": {
              "outlinewidth": 0,
              "ticks": ""
             }
            },
            "type": "scattermapbox"
           }
          ],
          "scatterpolar": [
           {
            "marker": {
             "colorbar": {
              "outlinewidth": 0,
              "ticks": ""
             }
            },
            "type": "scatterpolar"
           }
          ],
          "scatterpolargl": [
           {
            "marker": {
             "colorbar": {
              "outlinewidth": 0,
              "ticks": ""
             }
            },
            "type": "scatterpolargl"
           }
          ],
          "scatterternary": [
           {
            "marker": {
             "colorbar": {
              "outlinewidth": 0,
              "ticks": ""
             }
            },
            "type": "scatterternary"
           }
          ],
          "surface": [
           {
            "colorbar": {
             "outlinewidth": 0,
             "ticks": ""
            },
            "colorscale": [
             [
              0,
              "#0d0887"
             ],
             [
              0.1111111111111111,
              "#46039f"
             ],
             [
              0.2222222222222222,
              "#7201a8"
             ],
             [
              0.3333333333333333,
              "#9c179e"
             ],
             [
              0.4444444444444444,
              "#bd3786"
             ],
             [
              0.5555555555555556,
              "#d8576b"
             ],
             [
              0.6666666666666666,
              "#ed7953"
             ],
             [
              0.7777777777777778,
              "#fb9f3a"
             ],
             [
              0.8888888888888888,
              "#fdca26"
             ],
             [
              1,
              "#f0f921"
             ]
            ],
            "type": "surface"
           }
          ],
          "table": [
           {
            "cells": {
             "fill": {
              "color": "#EBF0F8"
             },
             "line": {
              "color": "white"
             }
            },
            "header": {
             "fill": {
              "color": "#C8D4E3"
             },
             "line": {
              "color": "white"
             }
            },
            "type": "table"
           }
          ]
         },
         "layout": {
          "annotationdefaults": {
           "arrowcolor": "#2a3f5f",
           "arrowhead": 0,
           "arrowwidth": 1
          },
          "autotypenumbers": "strict",
          "coloraxis": {
           "colorbar": {
            "outlinewidth": 0,
            "ticks": ""
           }
          },
          "colorscale": {
           "diverging": [
            [
             0,
             "#8e0152"
            ],
            [
             0.1,
             "#c51b7d"
            ],
            [
             0.2,
             "#de77ae"
            ],
            [
             0.3,
             "#f1b6da"
            ],
            [
             0.4,
             "#fde0ef"
            ],
            [
             0.5,
             "#f7f7f7"
            ],
            [
             0.6,
             "#e6f5d0"
            ],
            [
             0.7,
             "#b8e186"
            ],
            [
             0.8,
             "#7fbc41"
            ],
            [
             0.9,
             "#4d9221"
            ],
            [
             1,
             "#276419"
            ]
           ],
           "sequential": [
            [
             0,
             "#0d0887"
            ],
            [
             0.1111111111111111,
             "#46039f"
            ],
            [
             0.2222222222222222,
             "#7201a8"
            ],
            [
             0.3333333333333333,
             "#9c179e"
            ],
            [
             0.4444444444444444,
             "#bd3786"
            ],
            [
             0.5555555555555556,
             "#d8576b"
            ],
            [
             0.6666666666666666,
             "#ed7953"
            ],
            [
             0.7777777777777778,
             "#fb9f3a"
            ],
            [
             0.8888888888888888,
             "#fdca26"
            ],
            [
             1,
             "#f0f921"
            ]
           ],
           "sequentialminus": [
            [
             0,
             "#0d0887"
            ],
            [
             0.1111111111111111,
             "#46039f"
            ],
            [
             0.2222222222222222,
             "#7201a8"
            ],
            [
             0.3333333333333333,
             "#9c179e"
            ],
            [
             0.4444444444444444,
             "#bd3786"
            ],
            [
             0.5555555555555556,
             "#d8576b"
            ],
            [
             0.6666666666666666,
             "#ed7953"
            ],
            [
             0.7777777777777778,
             "#fb9f3a"
            ],
            [
             0.8888888888888888,
             "#fdca26"
            ],
            [
             1,
             "#f0f921"
            ]
           ]
          },
          "colorway": [
           "#636efa",
           "#EF553B",
           "#00cc96",
           "#ab63fa",
           "#FFA15A",
           "#19d3f3",
           "#FF6692",
           "#B6E880",
           "#FF97FF",
           "#FECB52"
          ],
          "font": {
           "color": "#2a3f5f"
          },
          "geo": {
           "bgcolor": "white",
           "lakecolor": "white",
           "landcolor": "#E5ECF6",
           "showlakes": true,
           "showland": true,
           "subunitcolor": "white"
          },
          "hoverlabel": {
           "align": "left"
          },
          "hovermode": "closest",
          "mapbox": {
           "style": "light"
          },
          "paper_bgcolor": "white",
          "plot_bgcolor": "#E5ECF6",
          "polar": {
           "angularaxis": {
            "gridcolor": "white",
            "linecolor": "white",
            "ticks": ""
           },
           "bgcolor": "#E5ECF6",
           "radialaxis": {
            "gridcolor": "white",
            "linecolor": "white",
            "ticks": ""
           }
          },
          "scene": {
           "xaxis": {
            "backgroundcolor": "#E5ECF6",
            "gridcolor": "white",
            "gridwidth": 2,
            "linecolor": "white",
            "showbackground": true,
            "ticks": "",
            "zerolinecolor": "white"
           },
           "yaxis": {
            "backgroundcolor": "#E5ECF6",
            "gridcolor": "white",
            "gridwidth": 2,
            "linecolor": "white",
            "showbackground": true,
            "ticks": "",
            "zerolinecolor": "white"
           },
           "zaxis": {
            "backgroundcolor": "#E5ECF6",
            "gridcolor": "white",
            "gridwidth": 2,
            "linecolor": "white",
            "showbackground": true,
            "ticks": "",
            "zerolinecolor": "white"
           }
          },
          "shapedefaults": {
           "line": {
            "color": "#2a3f5f"
           }
          },
          "ternary": {
           "aaxis": {
            "gridcolor": "white",
            "linecolor": "white",
            "ticks": ""
           },
           "baxis": {
            "gridcolor": "white",
            "linecolor": "white",
            "ticks": ""
           },
           "bgcolor": "#E5ECF6",
           "caxis": {
            "gridcolor": "white",
            "linecolor": "white",
            "ticks": ""
           }
          },
          "title": {
           "x": 0.05
          },
          "xaxis": {
           "automargin": true,
           "gridcolor": "white",
           "linecolor": "white",
           "ticks": "",
           "title": {
            "standoff": 15
           },
           "zerolinecolor": "white",
           "zerolinewidth": 2
          },
          "yaxis": {
           "automargin": true,
           "gridcolor": "white",
           "linecolor": "white",
           "ticks": "",
           "title": {
            "standoff": 15
           },
           "zerolinecolor": "white",
           "zerolinewidth": 2
          }
         }
        },
        "title": {
         "text": "Cryptocurrency Percent Change Correlation Heatmap"
        },
        "xaxis": {
         "anchor": "y",
         "constrain": "domain",
         "domain": [
          0,
          1
         ],
         "scaleanchor": "y",
         "title": {
          "text": ""
         }
        },
        "yaxis": {
         "anchor": "x",
         "autorange": "reversed",
         "constrain": "domain",
         "domain": [
          0,
          1
         ],
         "title": {
          "text": ""
         }
        }
       }
      }
     },
     "metadata": {},
     "output_type": "display_data"
    }
   ],
   "source": [
    "# correlation heatmap\n",
    "fig = px.imshow(\n",
    "    corr_map,\n",
    "    text_auto=\".2f\",\n",
    "    color_continuous_scale='RdBu',\n",
    "    zmin=-1, zmax=1,\n",
    "    title='Cryptocurrency Percent Change Correlation Heatmap',\n",
    "    labels=dict(color='Correlation')\n",
    ")\n",
    "\n",
    "fig.update_layout(\n",
    "    xaxis_title='',\n",
    "    yaxis_title='',\n",
    "    coloraxis_colorbar=dict(title=\"Corr\"),\n",
    "    height = 700,\n",
    "\n",
    ")\n",
    "fig.show()"
   ]
  },
  {
   "cell_type": "code",
   "execution_count": null,
   "id": "7a0ab4d6",
   "metadata": {},
   "outputs": [],
   "source": []
  },
  {
   "cell_type": "code",
   "execution_count": null,
   "id": "b615c6e0",
   "metadata": {},
   "outputs": [],
   "source": []
  },
  {
   "cell_type": "markdown",
   "id": "409f0771",
   "metadata": {},
   "source": []
  }
 ],
 "metadata": {
  "kernelspec": {
   "display_name": "Python 3",
   "language": "python",
   "name": "python3"
  },
  "language_info": {
   "codemirror_mode": {
    "name": "ipython",
    "version": 3
   },
   "file_extension": ".py",
   "mimetype": "text/x-python",
   "name": "python",
   "nbconvert_exporter": "python",
   "pygments_lexer": "ipython3",
   "version": "3.12.4"
  }
 },
 "nbformat": 4,
 "nbformat_minor": 5
}
